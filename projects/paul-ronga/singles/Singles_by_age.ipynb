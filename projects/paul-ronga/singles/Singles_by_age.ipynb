{
 "cells": [
  {
   "cell_type": "markdown",
   "metadata": {},
   "source": [
    "# Il me faut…\n",
    "\n",
    "* les célibataires\n",
    "* mais aussi les totaux de la population, sinon je ne peux pas avoir la proportion!"
   ]
  },
  {
   "cell_type": "code",
   "execution_count": 1,
   "metadata": {
    "collapsed": false
   },
   "outputs": [],
   "source": [
    "import pandas as pd"
   ]
  },
  {
   "cell_type": "code",
   "execution_count": 10,
   "metadata": {
    "collapsed": true
   },
   "outputs": [],
   "source": [
    "df_total = pd.read_csv('population-simple.csv', sep=';')"
   ]
  },
  {
   "cell_type": "code",
   "execution_count": 15,
   "metadata": {
    "collapsed": false
   },
   "outputs": [
    {
     "name": "stdout",
     "output_type": "stream",
     "text": [
      "(104, 53)\n",
      "(104, 54)\n"
     ]
    }
   ],
   "source": [
    "df = pd.read_csv('population-simple-ages.csv', sep=';')\n",
    "print(df.shape)\n",
    "df = df.merge(df_total, copy=False)\n",
    "print(df.shape)"
   ]
  },
  {
   "cell_type": "code",
   "execution_count": 16,
   "metadata": {
    "collapsed": false
   },
   "outputs": [
    {
     "data": {
      "text/html": [
       "<div>\n",
       "<table border=\"1\" class=\"dataframe\">\n",
       "  <thead>\n",
       "    <tr style=\"text-align: right;\">\n",
       "      <th></th>\n",
       "      <th>Année</th>\n",
       "      <th>Canton</th>\n",
       "      <th>Type de population</th>\n",
       "      <th>Sexe</th>\n",
       "      <th>Etat civil</th>\n",
       "      <th>18 ans</th>\n",
       "      <th>19 ans</th>\n",
       "      <th>20 ans</th>\n",
       "      <th>21 ans</th>\n",
       "      <th>22 ans</th>\n",
       "      <th>...</th>\n",
       "      <th>57 ans</th>\n",
       "      <th>58 ans</th>\n",
       "      <th>59 ans</th>\n",
       "      <th>60 ans</th>\n",
       "      <th>61 ans</th>\n",
       "      <th>62 ans</th>\n",
       "      <th>63 ans</th>\n",
       "      <th>64 ans</th>\n",
       "      <th>65 ans</th>\n",
       "      <th>Population résidante permanente et non permanente</th>\n",
       "    </tr>\n",
       "  </thead>\n",
       "  <tbody>\n",
       "    <tr>\n",
       "      <th>0</th>\n",
       "      <td>2014</td>\n",
       "      <td>Zürich</td>\n",
       "      <td>Population résidante permanente</td>\n",
       "      <td>Homme</td>\n",
       "      <td>Etat civil - Total</td>\n",
       "      <td>7122</td>\n",
       "      <td>7215</td>\n",
       "      <td>7198</td>\n",
       "      <td>7484</td>\n",
       "      <td>7951</td>\n",
       "      <td>...</td>\n",
       "      <td>8914</td>\n",
       "      <td>8661</td>\n",
       "      <td>8068</td>\n",
       "      <td>7834</td>\n",
       "      <td>7337</td>\n",
       "      <td>7460</td>\n",
       "      <td>6932</td>\n",
       "      <td>7202</td>\n",
       "      <td>6657</td>\n",
       "      <td>717702</td>\n",
       "    </tr>\n",
       "    <tr>\n",
       "      <th>1</th>\n",
       "      <td>2014</td>\n",
       "      <td>Zürich</td>\n",
       "      <td>Population résidante permanente</td>\n",
       "      <td>Homme</td>\n",
       "      <td>Célibataire</td>\n",
       "      <td>7119</td>\n",
       "      <td>7201</td>\n",
       "      <td>7148</td>\n",
       "      <td>7339</td>\n",
       "      <td>7671</td>\n",
       "      <td>...</td>\n",
       "      <td>1265</td>\n",
       "      <td>1184</td>\n",
       "      <td>1018</td>\n",
       "      <td>958</td>\n",
       "      <td>844</td>\n",
       "      <td>885</td>\n",
       "      <td>815</td>\n",
       "      <td>745</td>\n",
       "      <td>695</td>\n",
       "      <td>347287</td>\n",
       "    </tr>\n",
       "    <tr>\n",
       "      <th>2</th>\n",
       "      <td>2014</td>\n",
       "      <td>Zürich</td>\n",
       "      <td>Population résidante permanente</td>\n",
       "      <td>Femme</td>\n",
       "      <td>Etat civil - Total</td>\n",
       "      <td>6680</td>\n",
       "      <td>6680</td>\n",
       "      <td>6890</td>\n",
       "      <td>7131</td>\n",
       "      <td>7532</td>\n",
       "      <td>...</td>\n",
       "      <td>8838</td>\n",
       "      <td>8550</td>\n",
       "      <td>8392</td>\n",
       "      <td>8058</td>\n",
       "      <td>7879</td>\n",
       "      <td>7937</td>\n",
       "      <td>7513</td>\n",
       "      <td>7511</td>\n",
       "      <td>7488</td>\n",
       "      <td>728652</td>\n",
       "    </tr>\n",
       "    <tr>\n",
       "      <th>3</th>\n",
       "      <td>2014</td>\n",
       "      <td>Zürich</td>\n",
       "      <td>Population résidante permanente</td>\n",
       "      <td>Femme</td>\n",
       "      <td>Célibataire</td>\n",
       "      <td>6640</td>\n",
       "      <td>6558</td>\n",
       "      <td>6595</td>\n",
       "      <td>6610</td>\n",
       "      <td>6693</td>\n",
       "      <td>...</td>\n",
       "      <td>1156</td>\n",
       "      <td>1042</td>\n",
       "      <td>1001</td>\n",
       "      <td>952</td>\n",
       "      <td>867</td>\n",
       "      <td>895</td>\n",
       "      <td>842</td>\n",
       "      <td>742</td>\n",
       "      <td>699</td>\n",
       "      <td>306428</td>\n",
       "    </tr>\n",
       "    <tr>\n",
       "      <th>4</th>\n",
       "      <td>2014</td>\n",
       "      <td>Bern / Berne</td>\n",
       "      <td>Population résidante permanente</td>\n",
       "      <td>Homme</td>\n",
       "      <td>Etat civil - Total</td>\n",
       "      <td>5447</td>\n",
       "      <td>5447</td>\n",
       "      <td>5535</td>\n",
       "      <td>5767</td>\n",
       "      <td>5943</td>\n",
       "      <td>...</td>\n",
       "      <td>6859</td>\n",
       "      <td>6983</td>\n",
       "      <td>6595</td>\n",
       "      <td>6213</td>\n",
       "      <td>6172</td>\n",
       "      <td>6125</td>\n",
       "      <td>5862</td>\n",
       "      <td>6026</td>\n",
       "      <td>5830</td>\n",
       "      <td>494008</td>\n",
       "    </tr>\n",
       "  </tbody>\n",
       "</table>\n",
       "<p>5 rows × 54 columns</p>\n",
       "</div>"
      ],
      "text/plain": [
       "   Année        Canton               Type de population   Sexe  \\\n",
       "0   2014        Zürich  Population résidante permanente  Homme   \n",
       "1   2014        Zürich  Population résidante permanente  Homme   \n",
       "2   2014        Zürich  Population résidante permanente  Femme   \n",
       "3   2014        Zürich  Population résidante permanente  Femme   \n",
       "4   2014  Bern / Berne  Population résidante permanente  Homme   \n",
       "\n",
       "           Etat civil  18 ans  19 ans  20 ans  21 ans  22 ans  \\\n",
       "0  Etat civil - Total    7122    7215    7198    7484    7951   \n",
       "1         Célibataire    7119    7201    7148    7339    7671   \n",
       "2  Etat civil - Total    6680    6680    6890    7131    7532   \n",
       "3         Célibataire    6640    6558    6595    6610    6693   \n",
       "4  Etat civil - Total    5447    5447    5535    5767    5943   \n",
       "\n",
       "                         ...                          57 ans  58 ans  59 ans  \\\n",
       "0                        ...                            8914    8661    8068   \n",
       "1                        ...                            1265    1184    1018   \n",
       "2                        ...                            8838    8550    8392   \n",
       "3                        ...                            1156    1042    1001   \n",
       "4                        ...                            6859    6983    6595   \n",
       "\n",
       "   60 ans  61 ans  62 ans  63 ans  64 ans  65 ans  \\\n",
       "0    7834    7337    7460    6932    7202    6657   \n",
       "1     958     844     885     815     745     695   \n",
       "2    8058    7879    7937    7513    7511    7488   \n",
       "3     952     867     895     842     742     699   \n",
       "4    6213    6172    6125    5862    6026    5830   \n",
       "\n",
       "   Population résidante permanente et non permanente  \n",
       "0                                             717702  \n",
       "1                                             347287  \n",
       "2                                             728652  \n",
       "3                                             306428  \n",
       "4                                             494008  \n",
       "\n",
       "[5 rows x 54 columns]"
      ]
     },
     "execution_count": 16,
     "metadata": {},
     "output_type": "execute_result"
    }
   ],
   "source": [
    "df.head()"
   ]
  },
  {
   "cell_type": "code",
   "execution_count": 20,
   "metadata": {
    "collapsed": false
   },
   "outputs": [
    {
     "data": {
      "text/html": [
       "<div>\n",
       "<table border=\"1\" class=\"dataframe\">\n",
       "  <thead>\n",
       "    <tr style=\"text-align: right;\">\n",
       "      <th></th>\n",
       "      <th>Année</th>\n",
       "      <th>Canton</th>\n",
       "      <th>Type de population</th>\n",
       "      <th>Sexe</th>\n",
       "      <th>Etat civil</th>\n",
       "      <th>18 ans</th>\n",
       "      <th>19 ans</th>\n",
       "      <th>20 ans</th>\n",
       "      <th>21 ans</th>\n",
       "      <th>22 ans</th>\n",
       "      <th>...</th>\n",
       "      <th>57 ans</th>\n",
       "      <th>58 ans</th>\n",
       "      <th>59 ans</th>\n",
       "      <th>60 ans</th>\n",
       "      <th>61 ans</th>\n",
       "      <th>62 ans</th>\n",
       "      <th>63 ans</th>\n",
       "      <th>64 ans</th>\n",
       "      <th>65 ans</th>\n",
       "      <th>Population résidante permanente et non permanente</th>\n",
       "    </tr>\n",
       "  </thead>\n",
       "  <tbody>\n",
       "    <tr>\n",
       "      <th>0</th>\n",
       "      <td>2014</td>\n",
       "      <td>Zürich</td>\n",
       "      <td>Population résidante permanente</td>\n",
       "      <td>Homme</td>\n",
       "      <td>Etat civil - Total</td>\n",
       "      <td>7122</td>\n",
       "      <td>7215</td>\n",
       "      <td>7198</td>\n",
       "      <td>7484</td>\n",
       "      <td>7951</td>\n",
       "      <td>...</td>\n",
       "      <td>8914</td>\n",
       "      <td>8661</td>\n",
       "      <td>8068</td>\n",
       "      <td>7834</td>\n",
       "      <td>7337</td>\n",
       "      <td>7460</td>\n",
       "      <td>6932</td>\n",
       "      <td>7202</td>\n",
       "      <td>6657</td>\n",
       "      <td>717702</td>\n",
       "    </tr>\n",
       "    <tr>\n",
       "      <th>1</th>\n",
       "      <td>2014</td>\n",
       "      <td>Zürich</td>\n",
       "      <td>Population résidante permanente</td>\n",
       "      <td>Homme</td>\n",
       "      <td>Célibataire</td>\n",
       "      <td>7119</td>\n",
       "      <td>7201</td>\n",
       "      <td>7148</td>\n",
       "      <td>7339</td>\n",
       "      <td>7671</td>\n",
       "      <td>...</td>\n",
       "      <td>1265</td>\n",
       "      <td>1184</td>\n",
       "      <td>1018</td>\n",
       "      <td>958</td>\n",
       "      <td>844</td>\n",
       "      <td>885</td>\n",
       "      <td>815</td>\n",
       "      <td>745</td>\n",
       "      <td>695</td>\n",
       "      <td>347287</td>\n",
       "    </tr>\n",
       "    <tr>\n",
       "      <th>2</th>\n",
       "      <td>2014</td>\n",
       "      <td>Zürich</td>\n",
       "      <td>Population résidante permanente</td>\n",
       "      <td>Femme</td>\n",
       "      <td>Etat civil - Total</td>\n",
       "      <td>6680</td>\n",
       "      <td>6680</td>\n",
       "      <td>6890</td>\n",
       "      <td>7131</td>\n",
       "      <td>7532</td>\n",
       "      <td>...</td>\n",
       "      <td>8838</td>\n",
       "      <td>8550</td>\n",
       "      <td>8392</td>\n",
       "      <td>8058</td>\n",
       "      <td>7879</td>\n",
       "      <td>7937</td>\n",
       "      <td>7513</td>\n",
       "      <td>7511</td>\n",
       "      <td>7488</td>\n",
       "      <td>728652</td>\n",
       "    </tr>\n",
       "    <tr>\n",
       "      <th>3</th>\n",
       "      <td>2014</td>\n",
       "      <td>Zürich</td>\n",
       "      <td>Population résidante permanente</td>\n",
       "      <td>Femme</td>\n",
       "      <td>Célibataire</td>\n",
       "      <td>6640</td>\n",
       "      <td>6558</td>\n",
       "      <td>6595</td>\n",
       "      <td>6610</td>\n",
       "      <td>6693</td>\n",
       "      <td>...</td>\n",
       "      <td>1156</td>\n",
       "      <td>1042</td>\n",
       "      <td>1001</td>\n",
       "      <td>952</td>\n",
       "      <td>867</td>\n",
       "      <td>895</td>\n",
       "      <td>842</td>\n",
       "      <td>742</td>\n",
       "      <td>699</td>\n",
       "      <td>306428</td>\n",
       "    </tr>\n",
       "    <tr>\n",
       "      <th>4</th>\n",
       "      <td>2014</td>\n",
       "      <td>Bern / Berne</td>\n",
       "      <td>Population résidante permanente</td>\n",
       "      <td>Homme</td>\n",
       "      <td>Etat civil - Total</td>\n",
       "      <td>5447</td>\n",
       "      <td>5447</td>\n",
       "      <td>5535</td>\n",
       "      <td>5767</td>\n",
       "      <td>5943</td>\n",
       "      <td>...</td>\n",
       "      <td>6859</td>\n",
       "      <td>6983</td>\n",
       "      <td>6595</td>\n",
       "      <td>6213</td>\n",
       "      <td>6172</td>\n",
       "      <td>6125</td>\n",
       "      <td>5862</td>\n",
       "      <td>6026</td>\n",
       "      <td>5830</td>\n",
       "      <td>494008</td>\n",
       "    </tr>\n",
       "  </tbody>\n",
       "</table>\n",
       "<p>5 rows × 54 columns</p>\n",
       "</div>"
      ],
      "text/plain": [
       "   Année        Canton               Type de population   Sexe  \\\n",
       "0   2014        Zürich  Population résidante permanente  Homme   \n",
       "1   2014        Zürich  Population résidante permanente  Homme   \n",
       "2   2014        Zürich  Population résidante permanente  Femme   \n",
       "3   2014        Zürich  Population résidante permanente  Femme   \n",
       "4   2014  Bern / Berne  Population résidante permanente  Homme   \n",
       "\n",
       "           Etat civil  18 ans  19 ans  20 ans  21 ans  22 ans  \\\n",
       "0  Etat civil - Total    7122    7215    7198    7484    7951   \n",
       "1         Célibataire    7119    7201    7148    7339    7671   \n",
       "2  Etat civil - Total    6680    6680    6890    7131    7532   \n",
       "3         Célibataire    6640    6558    6595    6610    6693   \n",
       "4  Etat civil - Total    5447    5447    5535    5767    5943   \n",
       "\n",
       "                         ...                          57 ans  58 ans  59 ans  \\\n",
       "0                        ...                            8914    8661    8068   \n",
       "1                        ...                            1265    1184    1018   \n",
       "2                        ...                            8838    8550    8392   \n",
       "3                        ...                            1156    1042    1001   \n",
       "4                        ...                            6859    6983    6595   \n",
       "\n",
       "   60 ans  61 ans  62 ans  63 ans  64 ans  65 ans  \\\n",
       "0    7834    7337    7460    6932    7202    6657   \n",
       "1     958     844     885     815     745     695   \n",
       "2    8058    7879    7937    7513    7511    7488   \n",
       "3     952     867     895     842     742     699   \n",
       "4    6213    6172    6125    5862    6026    5830   \n",
       "\n",
       "   Population résidante permanente et non permanente  \n",
       "0                                             717702  \n",
       "1                                             347287  \n",
       "2                                             728652  \n",
       "3                                             306428  \n",
       "4                                             494008  \n",
       "\n",
       "[5 rows x 54 columns]"
      ]
     },
     "execution_count": 20,
     "metadata": {},
     "output_type": "execute_result"
    }
   ],
   "source": [
    "df.head()"
   ]
  },
  {
   "cell_type": "code",
   "execution_count": 4,
   "metadata": {
    "collapsed": false
   },
   "outputs": [],
   "source": [
    "df_cantons = df.groupby('Canton')"
   ]
  },
  {
   "cell_type": "code",
   "execution_count": 45,
   "metadata": {
    "collapsed": false
   },
   "outputs": [],
   "source": [
    "year_columns = [\"{} ans\".format(i) for i in range(18, 66)]\n",
    "\n",
    "i = 0\n",
    "\n",
    "def get_value(row):\n",
    "    try:\n",
    "        return row[['18 ans', '19 ans', '20 ans', '21 ans', '22 ans', '23 ans', '24 ans', '25 ans', '26 ans', '27 ans', '28 ans', '29 ans', '30 ans', '31 ans', '32 ans', '33 ans', '34 ans', '35 ans', '36 ans', '37 ans', '38 ans', '39 ans', '40 ans', '41 ans', '42 ans', '43 ans', '44 ans', '45 ans', '46 ans', '47 ans', '48 ans', '49 ans', '50 ans', '51 ans', '52 ans', '53 ans', '54 ans', '55 ans', '56 ans', '57 ans', '58 ans', '59 ans', '60 ans', '61 ans', '62 ans', '63 ans', '64 ans', '65 ans']].values.tolist()\n",
    "        #return row['Population résidante permanente et non permanente'].values[0]\n",
    "    except:\n",
    "        print('Error')\n",
    "\n",
    "##def get_total_value(row):\n",
    "#    try:\n",
    "#        return row['Population résidante permanente et non permanente'].values[0]\n",
    "#    except:\n",
    "#        print('Error')\n",
    "        \n",
    "cantons_list = []\n",
    "\n",
    "for name, canton in df_cantons:\n",
    "    is_male = canton['Sexe'] == 'Homme'\n",
    "    is_female = canton['Sexe'] == 'Femme'\n",
    "    is_total = canton['Etat civil'] == 'Etat civil - Total'\n",
    "    is_single = canton['Etat civil'] == 'Célibataire'\n",
    "    \n",
    "    \n",
    "    total_men = canton[is_male & is_total]\n",
    "    single_men = canton[is_male & is_single]\n",
    "    total_women = canton[is_female & is_total]\n",
    "    single_women = canton[is_female & is_single]\n",
    "    \n",
    "    \n",
    "    single_men_count = get_value(single_men)[0]\n",
    "    single_women_count = get_value(single_women)[0]\n",
    "\n",
    "    single_men_total = sum(single_men_count)\n",
    "    single_women_total = sum(single_women_count)\n",
    "\n",
    "\n",
    "    single_unmatched_men = [x1 - x2 for (x1, x2) in zip(single_men_count, single_women_count)]\n",
    "    single_unmatched_men_per_1000 = [round((1000*z) / (x1 + x2), 2) for (z, x1, x2) in zip(single_unmatched_men, single_men_count, single_women_count)]\n",
    "    \n",
    "    single_unmatched_men_total = single_men_total - single_women_total\n",
    "    single_unmatched_men_total_per_1000 = round((1000*single_unmatched_men_total) / (single_men_total + single_women_total), 2)\n",
    "    \n",
    "#    print('Unm', single_unmatched_men, single_unmatched_men_per_1000)\n",
    "        \n",
    "#    cantons_list.append({\"canton\":name, 'single_men':single_men_count, 'single_women':single_women_count, 'unmatched':single_unmatched_men, 'unmatched_per_1000':single_unmatched_men_per_1000, 'single_men_total':single_men_total, 'single_women_total': single_women_total, 'single_unmatched_men_total':single_unmatched_men_total, 'single_unmatched_men_total_per_1000':single_unmatched_men_total_per_1000})\n",
    "    cantons_list.append({\"canton\":name, 'unmatched':single_unmatched_men, 'unmatched_per_1000':single_unmatched_men_per_1000, 'unmatched_total':single_unmatched_men_total, 'unmatched_total_per_1000':single_unmatched_men_total_per_1000})    \n",
    "    \n",
    "    #display.display(singles_df)\n",
    "    i += 1\n",
    "    if i > 1:\n",
    "        pass\n",
    "        #break"
   ]
  },
  {
   "cell_type": "code",
   "execution_count": 46,
   "metadata": {
    "collapsed": false
   },
   "outputs": [],
   "source": [
    "df_singles = pd.DataFrame(cantons_list)"
   ]
  },
  {
   "cell_type": "code",
   "execution_count": 72,
   "metadata": {
    "collapsed": false
   },
   "outputs": [
    {
     "data": {
      "text/html": [
       "<div>\n",
       "<table border=\"1\" class=\"dataframe\">\n",
       "  <thead>\n",
       "    <tr style=\"text-align: right;\">\n",
       "      <th></th>\n",
       "      <th>Single Men</th>\n",
       "      <th>Single Women</th>\n",
       "      <th>canton</th>\n",
       "      <th>Total</th>\n",
       "      <th>Unmatched_men</th>\n",
       "      <th>Unmatched men per 1000 singles</th>\n",
       "    </tr>\n",
       "    <tr>\n",
       "      <th>canton</th>\n",
       "      <th></th>\n",
       "      <th></th>\n",
       "      <th></th>\n",
       "      <th></th>\n",
       "      <th></th>\n",
       "      <th></th>\n",
       "    </tr>\n",
       "  </thead>\n",
       "  <tbody>\n",
       "    <tr>\n",
       "      <th>Uri</th>\n",
       "      <td>8550</td>\n",
       "      <td>6802</td>\n",
       "      <td>Uri</td>\n",
       "      <td>15352</td>\n",
       "      <td>1748</td>\n",
       "      <td>113.861386</td>\n",
       "    </tr>\n",
       "    <tr>\n",
       "      <th>Valais / Wallis</th>\n",
       "      <td>74321</td>\n",
       "      <td>65717</td>\n",
       "      <td>Valais / Wallis</td>\n",
       "      <td>140038</td>\n",
       "      <td>8604</td>\n",
       "      <td>61.440466</td>\n",
       "    </tr>\n",
       "    <tr>\n",
       "      <th>Vaud</th>\n",
       "      <td>180303</td>\n",
       "      <td>164269</td>\n",
       "      <td>Vaud</td>\n",
       "      <td>344572</td>\n",
       "      <td>16034</td>\n",
       "      <td>46.533090</td>\n",
       "    </tr>\n",
       "    <tr>\n",
       "      <th>Zug</th>\n",
       "      <td>28018</td>\n",
       "      <td>24428</td>\n",
       "      <td>Zug</td>\n",
       "      <td>52446</td>\n",
       "      <td>3590</td>\n",
       "      <td>68.451359</td>\n",
       "    </tr>\n",
       "    <tr>\n",
       "      <th>Zürich</th>\n",
       "      <td>347287</td>\n",
       "      <td>306428</td>\n",
       "      <td>Zürich</td>\n",
       "      <td>653715</td>\n",
       "      <td>40859</td>\n",
       "      <td>62.502773</td>\n",
       "    </tr>\n",
       "  </tbody>\n",
       "</table>\n",
       "</div>"
      ],
      "text/plain": [
       "                 Single Men  Single Women           canton   Total  \\\n",
       "canton                                                               \n",
       "Uri                    8550          6802              Uri   15352   \n",
       "Valais / Wallis       74321         65717  Valais / Wallis  140038   \n",
       "Vaud                 180303        164269             Vaud  344572   \n",
       "Zug                   28018         24428              Zug   52446   \n",
       "Zürich               347287        306428           Zürich  653715   \n",
       "\n",
       "                 Unmatched_men  Unmatched men per 1000 singles  \n",
       "canton                                                          \n",
       "Uri                       1748                      113.861386  \n",
       "Valais / Wallis           8604                       61.440466  \n",
       "Vaud                     16034                       46.533090  \n",
       "Zug                       3590                       68.451359  \n",
       "Zürich                   40859                       62.502773  "
      ]
     },
     "execution_count": 72,
     "metadata": {},
     "output_type": "execute_result"
    }
   ],
   "source": [
    "df_singles.index = df_singles['canton']\n",
    "df_singles.tail()"
   ]
  },
  {
   "cell_type": "code",
   "execution_count": 48,
   "metadata": {
    "collapsed": false
   },
   "outputs": [
    {
     "data": {
      "text/plain": [
       "<matplotlib.axes._subplots.AxesSubplot at 0x10ca0a9b0>"
      ]
     },
     "execution_count": 48,
     "metadata": {},
     "output_type": "execute_result"
    },
    {
     "data": {
      "image/png": "[encoded data removed]",
      "text/plain": [
       "<matplotlib.figure.Figure at 0x10ca4ee48>"
      ]
     },
     "metadata": {},
     "output_type": "display_data"
    }
   ],
   "source": [
    "#df_singles = pd.DataFrame(cantons_list)\n",
    "df_singles.plot(kind='bar', figsize=(10, 6))"
   ]
  },
  {
   "cell_type": "code",
   "execution_count": 49,
   "metadata": {
    "collapsed": false
   },
   "outputs": [
    {
     "data": {
      "text/html": [
       "<div>\n",
       "<table border=\"1\" class=\"dataframe\">\n",
       "  <thead>\n",
       "    <tr style=\"text-align: right;\">\n",
       "      <th></th>\n",
       "      <th>Single Men</th>\n",
       "      <th>Single Women</th>\n",
       "      <th>canton</th>\n",
       "      <th>Total</th>\n",
       "    </tr>\n",
       "    <tr>\n",
       "      <th>canton</th>\n",
       "      <th></th>\n",
       "      <th></th>\n",
       "      <th></th>\n",
       "      <th></th>\n",
       "    </tr>\n",
       "  </thead>\n",
       "  <tbody>\n",
       "    <tr>\n",
       "      <th>Aargau</th>\n",
       "      <td>146975</td>\n",
       "      <td>124939</td>\n",
       "      <td>Aargau</td>\n",
       "      <td>271914</td>\n",
       "    </tr>\n",
       "    <tr>\n",
       "      <th>Appenzell Ausserrhoden</th>\n",
       "      <td>12608</td>\n",
       "      <td>10276</td>\n",
       "      <td>Appenzell Ausserrhoden</td>\n",
       "      <td>22884</td>\n",
       "    </tr>\n",
       "    <tr>\n",
       "      <th>Appenzell Innerrhoden</th>\n",
       "      <td>4082</td>\n",
       "      <td>3232</td>\n",
       "      <td>Appenzell Innerrhoden</td>\n",
       "      <td>7314</td>\n",
       "    </tr>\n",
       "    <tr>\n",
       "      <th>Basel-Landschaft</th>\n",
       "      <td>59256</td>\n",
       "      <td>52684</td>\n",
       "      <td>Basel-Landschaft</td>\n",
       "      <td>111940</td>\n",
       "    </tr>\n",
       "    <tr>\n",
       "      <th>Basel-Stadt</th>\n",
       "      <td>45277</td>\n",
       "      <td>42805</td>\n",
       "      <td>Basel-Stadt</td>\n",
       "      <td>88082</td>\n",
       "    </tr>\n",
       "  </tbody>\n",
       "</table>\n",
       "</div>"
      ],
      "text/plain": [
       "                        Single Men  Single Women                  canton  \\\n",
       "canton                                                                     \n",
       "Aargau                      146975        124939                  Aargau   \n",
       "Appenzell Ausserrhoden       12608         10276  Appenzell Ausserrhoden   \n",
       "Appenzell Innerrhoden         4082          3232   Appenzell Innerrhoden   \n",
       "Basel-Landschaft             59256         52684        Basel-Landschaft   \n",
       "Basel-Stadt                  45277         42805             Basel-Stadt   \n",
       "\n",
       "                         Total  \n",
       "canton                          \n",
       "Aargau                  271914  \n",
       "Appenzell Ausserrhoden   22884  \n",
       "Appenzell Innerrhoden     7314  \n",
       "Basel-Landschaft        111940  \n",
       "Basel-Stadt              88082  "
      ]
     },
     "execution_count": 49,
     "metadata": {},
     "output_type": "execute_result"
    }
   ],
   "source": [
    "df_singles['Total'] = df_singles['Single Men'] + df_singles['Single Women']\n",
    "df_singles.head()"
   ]
  },
  {
   "cell_type": "code",
   "execution_count": 70,
   "metadata": {
    "collapsed": false
   },
   "outputs": [
    {
     "data": {
      "text/plain": [
       "<matplotlib.axes._subplots.AxesSubplot at 0x10d84d128>"
      ]
     },
     "execution_count": 70,
     "metadata": {},
     "output_type": "execute_result"
    },
    {
     "data": {
      "image/png": "[encoded data removed]",
      "text/plain": [
       "<matplotlib.figure.Figure at 0x10d979518>"
      ]
     },
     "metadata": {},
     "output_type": "display_data"
    }
   ],
   "source": [
    "df_singles['Unmatched_men'] = df_singles['Single Men'] - df_singles['Single Women']\n",
    "df_singles['Unmatched_men'].plot(kind='bar', title='Unmatched men')"
   ]
  },
  {
   "cell_type": "code",
   "execution_count": 71,
   "metadata": {
    "collapsed": false
   },
   "outputs": [
    {
     "data": {
      "text/plain": [
       "<matplotlib.axes._subplots.AxesSubplot at 0x10d9c92b0>"
      ]
     },
     "execution_count": 71,
     "metadata": {},
     "output_type": "execute_result"
    },
    {
     "data": {
      "image/png": "[encoded data removed]",
      "text/plain": [
       "<matplotlib.figure.Figure at 0x10db0ecf8>"
      ]
     },
     "metadata": {},
     "output_type": "display_data"
    }
   ],
   "source": [
    "df_singles['Unmatched men per 1000 singles'] = df_singles['Unmatched_men'] / (df_singles['Total']/1000)\n",
    "df_singles['Unmatched men per 1000 singles'].plot(kind='bar', title='Unmatched men per 1000 singles')"
   ]
  },
  {
   "cell_type": "code",
   "execution_count": 44,
   "metadata": {
    "collapsed": false
   },
   "outputs": [],
   "source": [
    "df_singles.to_csv('unmatched_per_age.csv')"
   ]
  },
  {
   "cell_type": "code",
   "execution_count": 47,
   "metadata": {
    "collapsed": true
   },
   "outputs": [],
   "source": [
    "df_singles.to_json('unmatched_global.json', orient='records')"
   ]
  },
  {
   "cell_type": "code",
   "execution_count": 41,
   "metadata": {
    "collapsed": false
   },
   "outputs": [
    {
     "name": "stdout",
     "output_type": "stream",
     "text": [
      "canton, single_unmatched_men_total, single_unmatched_men_total_per_1000, unmatched, unmatched_per_1000\n"
     ]
    }
   ],
   "source": [
    "print(*df_singles.columns, sep=', ')"
   ]
  },
  {
   "cell_type": "code",
   "execution_count": null,
   "metadata": {
    "collapsed": true
   },
   "outputs": [],
   "source": []
  }
 ],
 "metadata": {
  "kernelspec": {
   "display_name": "Python 3",
   "language": "python",
   "name": "python3"
  },
  "language_info": {
   "codemirror_mode": {
    "name": "ipython",
    "version": 3
   },
   "file_extension": ".py",
   "mimetype": "text/x-python",
   "name": "python",
   "nbconvert_exporter": "python",
   "pygments_lexer": "ipython3",
   "version": "3.5.1"
  },
  "widgets": {
   "state": {},
   "version": "1.1.2"
  }
 },
 "nbformat": 4,
 "nbformat_minor": 0
}

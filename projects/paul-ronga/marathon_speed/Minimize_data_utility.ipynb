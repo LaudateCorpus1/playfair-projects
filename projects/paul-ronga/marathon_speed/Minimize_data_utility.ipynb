{
 "cells": [
  {
   "cell_type": "markdown",
   "metadata": {},
   "source": [
    "# From MB to KB of data\n",
    "\n",
    "My original data is much too big to fit on GitHub. I had to write this utility to export just the subset I need for these graphs."
   ]
  },
  {
   "cell_type": "code",
   "execution_count": 18,
   "metadata": {
    "collapsed": true
   },
   "outputs": [],
   "source": [
    "import pandas as pd\n",
    "def to_xlsx(filename):\n",
    "    return \"{}.xlsx\".format(filename)\n",
    "def to_xls(filename):\n",
    "    return \"{}.xls\".format(filename)"
   ]
  },
  {
   "cell_type": "code",
   "execution_count": 19,
   "metadata": {
    "collapsed": false
   },
   "outputs": [
    {
     "name": "stdout",
     "output_type": "stream",
     "text": [
      "CPU times: user 15.7 s, sys: 90.8 ms, total: 15.8 s\n",
      "Wall time: 15.8 s\n"
     ]
    },
    {
     "data": {
      "text/plain": [
       "['Sheet1', 'Sheet2', 'Sheet3']"
      ]
     },
     "execution_count": 19,
     "metadata": {},
     "output_type": "execute_result"
    }
   ],
   "source": [
    "%time xl = pd.ExcelFile(to_xlsx('Escalade2015'))\n",
    "xl.sheet_names"
   ]
  },
  {
   "cell_type": "code",
   "execution_count": 22,
   "metadata": {
    "collapsed": false
   },
   "outputs": [
    {
     "data": {
      "text/html": [
       "<div>\n",
       "<table border=\"1\" class=\"dataframe\">\n",
       "  <thead>\n",
       "    <tr style=\"text-align: right;\">\n",
       "      <th></th>\n",
       "      <th>catégorie</th>\n",
       "      <th>rang</th>\n",
       "      <th>année</th>\n",
       "      <th>pays</th>\n",
       "      <th>temps net</th>\n",
       "    </tr>\n",
       "  </thead>\n",
       "  <tbody>\n",
       "    <tr>\n",
       "      <th>0</th>\n",
       "      <td>Escaladelite Hommes</td>\n",
       "      <td>1.</td>\n",
       "      <td>1982</td>\n",
       "      <td>CH</td>\n",
       "      <td>20.54,5</td>\n",
       "    </tr>\n",
       "    <tr>\n",
       "      <th>1</th>\n",
       "      <td>Escaladelite Hommes</td>\n",
       "      <td>25.</td>\n",
       "      <td>1989</td>\n",
       "      <td>GB</td>\n",
       "      <td>21.53,3</td>\n",
       "    </tr>\n",
       "    <tr>\n",
       "      <th>2</th>\n",
       "      <td>Escaladelite Hommes</td>\n",
       "      <td>7.</td>\n",
       "      <td>1992</td>\n",
       "      <td>GB</td>\n",
       "      <td>21.17,9</td>\n",
       "    </tr>\n",
       "    <tr>\n",
       "      <th>3</th>\n",
       "      <td>Escaladelite Hommes</td>\n",
       "      <td>13.</td>\n",
       "      <td>1987</td>\n",
       "      <td>KEN</td>\n",
       "      <td>21.26,4</td>\n",
       "    </tr>\n",
       "    <tr>\n",
       "      <th>4</th>\n",
       "      <td>Escaladelite Hommes</td>\n",
       "      <td>8.</td>\n",
       "      <td>1985</td>\n",
       "      <td>EE</td>\n",
       "      <td>21.20,5</td>\n",
       "    </tr>\n",
       "  </tbody>\n",
       "</table>\n",
       "</div>"
      ],
      "text/plain": [
       "             catégorie rang année pays temps net\n",
       "0  Escaladelite Hommes   1.  1982   CH   20.54,5\n",
       "1  Escaladelite Hommes  25.  1989   GB   21.53,3\n",
       "2  Escaladelite Hommes   7.  1992   GB   21.17,9\n",
       "3  Escaladelite Hommes  13.  1987  KEN   21.26,4\n",
       "4  Escaladelite Hommes   8.  1985   EE   21.20,5"
      ]
     },
     "execution_count": 22,
     "metadata": {},
     "output_type": "execute_result"
    }
   ],
   "source": [
    "df = xl.parse('Sheet1', usecols=['pays', 'année', 'rang', 'temps net', 'catégorie'])#, 'nom'])\n",
    "df.head()"
   ]
  },
  {
   "cell_type": "code",
   "execution_count": 23,
   "metadata": {
    "collapsed": true
   },
   "outputs": [],
   "source": [
    "from math import nan\n",
    "def get_age(year):\n",
    "    try:\n",
    "        return 2015 - int(year)\n",
    "    except:\n",
    "        return nan"
   ]
  },
  {
   "cell_type": "code",
   "execution_count": 24,
   "metadata": {
    "collapsed": true
   },
   "outputs": [],
   "source": [
    "df['Age'] = df['année'].apply(get_age)"
   ]
  },
  {
   "cell_type": "code",
   "execution_count": 25,
   "metadata": {
    "collapsed": false
   },
   "outputs": [
    {
     "data": {
      "text/plain": [
       "nan"
      ]
     },
     "execution_count": 25,
     "metadata": {},
     "output_type": "execute_result"
    }
   ],
   "source": [
    "def get_vitesse(temps):\n",
    "    try:\n",
    "        temps = float(temps.replace(',',''))\n",
    "        return (60/temps)*7.323\n",
    "    except:\n",
    "        return nan\n",
    "\n",
    "get_vitesse(23)"
   ]
  },
  {
   "cell_type": "code",
   "execution_count": 26,
   "metadata": {
    "collapsed": false
   },
   "outputs": [
    {
     "data": {
      "text/plain": [
       "{'Cadets A',\n",
       " 'Cadets B',\n",
       " 'Cadettes A',\n",
       " 'Cadettes B',\n",
       " 'Ecoliers A',\n",
       " 'Ecoliers B10',\n",
       " 'Ecoliers B11',\n",
       " 'Ecolières A',\n",
       " 'Ecolières B10',\n",
       " 'Ecolières B11',\n",
       " 'Escaladelite Femmes',\n",
       " 'Escaladelite Hommes',\n",
       " 'Femmes I',\n",
       " 'Femmes II',\n",
       " 'Femmes III',\n",
       " 'Femmes IV',\n",
       " 'Femmes Juniors',\n",
       " 'Femmes V',\n",
       " 'Femmes VI',\n",
       " 'Hommes I',\n",
       " 'Hommes II',\n",
       " 'Hommes III',\n",
       " 'Hommes IV',\n",
       " 'Hommes Juniors',\n",
       " 'Hommes V',\n",
       " 'Hommes VI',\n",
       " 'Hors catégorie',\n",
       " 'Marmite Adultes',\n",
       " 'Marmite Jeunes',\n",
       " 'Mix 2 - Femmes 4.8km',\n",
       " 'Mix 2 - Hommes 4.8km',\n",
       " 'Mix 3 - Femmes 7.3km',\n",
       " 'Mix 3 - Hommes 7.3km',\n",
       " 'Poussines A8',\n",
       " 'Poussines A9',\n",
       " 'Poussines B6',\n",
       " 'Poussines B7',\n",
       " 'Poussins A8',\n",
       " 'Poussins A9',\n",
       " 'Poussins B6',\n",
       " 'Poussins B7',\n",
       " 'Walking Adultes',\n",
       " 'Walking Jeunes'}"
      ]
     },
     "execution_count": 26,
     "metadata": {},
     "output_type": "execute_result"
    }
   ],
   "source": [
    "catlist = set(df['catégorie'].tolist())\n",
    "catlist"
   ]
  },
  {
   "cell_type": "code",
   "execution_count": 27,
   "metadata": {
    "collapsed": true
   },
   "outputs": [],
   "source": [
    "df['vitesse'] = df['temps net'].apply(get_vitesse)"
   ]
  },
  {
   "cell_type": "code",
   "execution_count": 28,
   "metadata": {
    "collapsed": false
   },
   "outputs": [],
   "source": [
    "def selCategory(category):\n",
    "#    if category in ('Escaladélite femmes', 'Escaladélite hommes', 'Femmes I', 'Femmes II', 'Femmes III', 'Femmes IV', 'Femmes V', 'Femmes VI', 'Hommes I', 'Hommes II', 'Hommes III', 'Hommes IV', 'Hommes V', 'Hommes VI'):\n",
    "    if category in ('Escaladelite Femmes', 'Escaladelite Hommes', 'Femmes I', 'Femmes II', 'Femmes III', 'Femmes IV', 'Femmes V', 'Femmes VI', 'Hommes I', 'Hommes II', 'Hommes III', 'Hommes IV', 'Hommes V', 'Hommes VI'):\n",
    "        return True\n",
    "    else:\n",
    "        return False\n",
    "dfx = df[df['catégorie'].apply(selCategory)]\n",
    "dfx.to_csv('Data_selection.csv')"
   ]
  },
  {
   "cell_type": "code",
   "execution_count": null,
   "metadata": {
    "collapsed": true
   },
   "outputs": [],
   "source": []
  },
  {
   "cell_type": "code",
   "execution_count": null,
   "metadata": {
    "collapsed": true
   },
   "outputs": [],
   "source": []
  }
 ],
 "metadata": {
  "kernelspec": {
   "display_name": "Python 3",
   "language": "python",
   "name": "python3"
  },
  "language_info": {
   "codemirror_mode": {
    "name": "ipython",
    "version": 3
   },
   "file_extension": ".py",
   "mimetype": "text/x-python",
   "name": "python",
   "nbconvert_exporter": "python",
   "pygments_lexer": "ipython3",
   "version": "3.5.1"
  },
  "widgets": {
   "state": {},
   "version": "1.1.2"
  }
 },
 "nbformat": 4,
 "nbformat_minor": 0
}

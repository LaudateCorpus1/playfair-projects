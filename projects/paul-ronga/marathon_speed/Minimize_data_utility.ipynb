{
 "cells": [
  {
   "cell_type": "markdown",
   "metadata": {},
   "source": [
    "# From MB to KB of data\n",
    "\n",
    "My original data is much too big to fit on GitHub. I had to write this utility to export just the subset I need for these graphs."
   ]
  },
  {
   "cell_type": "code",
   "execution_count": 1,
   "metadata": {
    "collapsed": true
   },
   "outputs": [],
   "source": [
    "import pandas as pd\n",
    "def to_xlsx(filename):\n",
    "    return \"{}.xlsx\".format(filename)\n",
    "def to_xls(filename):\n",
    "    return \"{}.xls\".format(filename)"
   ]
  },
  {
   "cell_type": "code",
   "execution_count": 2,
   "metadata": {
    "collapsed": false
   },
   "outputs": [
    {
     "name": "stdout",
     "output_type": "stream",
     "text": [
      "CPU times: user 12.1 s, sys: 82.7 ms, total: 12.2 s\n",
      "Wall time: 12.2 s\n"
     ]
    },
    {
     "data": {
      "text/plain": [
       "['Sheet3', 'Data', 'Catégories', 'Enfants jeunes adultes']"
      ]
     },
     "execution_count": 2,
     "metadata": {},
     "output_type": "execute_result"
    }
   ],
   "source": [
    "%time xl = pd.ExcelFile(to_xlsx('2015_resultats'))\n",
    "xl.sheet_names"
   ]
  },
  {
   "cell_type": "code",
   "execution_count": 3,
   "metadata": {
    "collapsed": true
   },
   "outputs": [],
   "source": [
    "df = xl.parse('Data', skiprows=3, usecols=['Age', 'vitesse', 'temps_net', 'Catégorie'])"
   ]
  },
  {
   "cell_type": "code",
   "execution_count": 4,
   "metadata": {
    "collapsed": true
   },
   "outputs": [],
   "source": [
    "catlist = set(df['Catégorie'].tolist())"
   ]
  },
  {
   "cell_type": "code",
   "execution_count": 5,
   "metadata": {
    "collapsed": true
   },
   "outputs": [],
   "source": [
    "def selCategory(category):\n",
    "    if category in ('Escaladélite femmes', 'Escaladélite hommes', 'Femmes I', 'Femmes II', 'Femmes III', 'Femmes IV', 'Femmes V', 'Femmes VI', 'Hommes I', 'Hommes II', 'Hommes III', 'Hommes IV', 'Hommes V', 'Hommes VI'):\n",
    "        return True\n",
    "    else:\n",
    "        return False\n",
    "dfx = df[df['Catégorie'].apply(selCategory)]\n",
    "dfx.to_csv('Data_selection.csv')"
   ]
  },
  {
   "cell_type": "code",
   "execution_count": null,
   "metadata": {
    "collapsed": true
   },
   "outputs": [],
   "source": []
  }
 ],
 "metadata": {
  "kernelspec": {
   "display_name": "Python 3",
   "language": "python",
   "name": "python3"
  },
  "language_info": {
   "codemirror_mode": {
    "name": "ipython",
    "version": 3
   },
   "file_extension": ".py",
   "mimetype": "text/x-python",
   "name": "python",
   "nbconvert_exporter": "python",
   "pygments_lexer": "ipython3",
   "version": "3.5.1"
  },
  "widgets": {
   "state": {},
   "version": "1.1.2"
  }
 },
 "nbformat": 4,
 "nbformat_minor": 0
}

{
 "cells": [
  {
   "cell_type": "markdown",
   "metadata": {},
   "source": [
    "# How many foreign workers have entered the US since Obama took office on non-permanent Visas?\n",
    "1. Show amount of workers a timeline\n",
    "2. Show top ten companies hiring foreign workers\n",
    "3. Use SOC-Code to establish most common job filings by state\n",
    "4. Develop a map, colored by the percentage of the workforce, with a pictogramm of most common job with foreign workers in that state."
   ]
  },
  {
   "cell_type": "code",
   "execution_count": 1,
   "metadata": {
    "collapsed": true
   },
   "outputs": [],
   "source": [
    "import pandas as pd\n",
    "import matplotlib.pyplot as plt\n",
    "import requests\n",
    "import urllib\n",
    "from sklearn import preprocessing\n",
    "from sklearn.linear_model import LogisticRegression\n",
    "import numpy as np\n",
    "%matplotlib inline\n",
    "import dateutil.parser"
   ]
  },
  {
   "cell_type": "markdown",
   "metadata": {},
   "source": [
    "# This I don't need to repeat again, jump to import of merged data"
   ]
  },
  {
   "cell_type": "code",
   "execution_count": 2,
   "metadata": {
    "collapsed": true
   },
   "outputs": [],
   "source": [
    "#H-2A Data\n",
    "df_H2a_2015 = pd.read_excel('https://www.foreignlaborcert.doleta.gov/docs/py2015q4/H-2A_Disclosure_Data_FY15_Q4.xlsx')\n",
    "df_H2a_2014 = pd.read_excel('https://www.foreignlaborcert.doleta.gov/docs/py2014q4/H-2A_FY14_Q4.xlsx')\n",
    "df_H2a_2013 = pd.read_excel('https://www.foreignlaborcert.doleta.gov/docs/h_2a/H2A_FY2013.xls')\n",
    "df_H2a_2012 = pd.read_excel('https://www.foreignlaborcert.doleta.gov/docs/h_2a/H-2A_FY2012.xlsx')\n",
    "df_H2a_2011 = pd.read_excel('https://www.foreignlaborcert.doleta.gov/docs/h_2a/H-2A_FY2011.xlsx')\n",
    "df_H2a_2010 = pd.read_excel('https://www.foreignlaborcert.doleta.gov/docs/h_2a/H-2A_FY2010.xlsx')\n",
    "df_H2a_2009 = pd.read_excel('https://www.foreignlaborcert.doleta.gov/docs/h_2a/H2A_FY2009.xlsx')"
   ]
  },
  {
   "cell_type": "code",
   "execution_count": 3,
   "metadata": {
    "collapsed": true
   },
   "outputs": [],
   "source": [
    "#H-2B Data\n",
    "df_H2b_2015 = pd.read_excel('https://www.foreignlaborcert.doleta.gov/docs/py2015q4/H-2B_Disclosure_Data_FY15_Q4.xlsx')\n",
    "df_H2b_2014 = pd.read_excel('https://www.foreignlaborcert.doleta.gov/docs/py2014q4/H-2B_FY14_Q4.xlsx')\n",
    "df_H2b_2013 = pd.read_excel('https://www.foreignlaborcert.doleta.gov/docs/h_2b/H-2B_FY2013.xls')\n",
    "df_H2b_2012 = pd.read_excel('https://www.foreignlaborcert.doleta.gov/docs/h_2b/H-2B_FY2012.xlsx')\n",
    "df_H2b_2011 = pd.read_excel('https://www.foreignlaborcert.doleta.gov/docs/h_2b/H-2B_FY2011.xlsx')\n",
    "df_H2b_2010 = pd.read_excel('https://www.foreignlaborcert.doleta.gov/docs/h_2b/H-2B_FY2010.xlsx')\n",
    "df_H2b_2009 = pd.read_excel('https://www.foreignlaborcert.doleta.gov/docs/h_2b/H-2B_FY2009.xlsx')"
   ]
  },
  {
   "cell_type": "code",
   "execution_count": 4,
   "metadata": {
    "collapsed": true
   },
   "outputs": [],
   "source": [
    "#H-1B Data\n",
    "df_H1b_2015 = pd.read_excel('https://www.foreignlaborcert.doleta.gov/docs/py2015q4/H-1B_Disclosure_Data_FY15_Q4.xlsx')\n",
    "df_H1b_2014 = pd.read_excel('https://www.foreignlaborcert.doleta.gov/docs/py2014q4/H-1B_FY14_Q4.xlsx')\n",
    "df_H1b_2013 = pd.read_excel('https://www.foreignlaborcert.doleta.gov/docs/lca/LCA_FY2013.xlsx')\n",
    "df_H1b_2012 = pd.read_excel('https://www.foreignlaborcert.doleta.gov/docs/py2012_q4/LCA_FY2012_Q4.xlsx')\n",
    "df_H1b_2011 = pd.read_excel('https://www.foreignlaborcert.doleta.gov/docs/lca/H-1B_iCert_LCA_FY2011_Q4.xlsx')\n",
    "df_H1b_2010 = pd.read_excel('https://www.foreignlaborcert.doleta.gov/docs/lca/H-1B_FY2010.xlsx')\n",
    "df_H1b_2009 = pd.read_excel('https://www.foreignlaborcert.doleta.gov/docs/lca/Icert_%20LCA_%20FY2009.xlsx')\n",
    "df_H1b_2009_2 = pd.read_excel('https://www.foreignlaborcert.doleta.gov/docs/lca/H-1B_Case_Data_FY2009.xlsx')"
   ]
  },
  {
   "cell_type": "code",
   "execution_count": 73,
   "metadata": {
    "collapsed": false
   },
   "outputs": [],
   "source": [
    "#Pulling out relevant columns H2B\n",
    "df_H2b_2015_ = df_H2b_2015[[\"DECISION_DATE\", \"CASE_NUMBER\", \"CASE_STATUS\", \"EMPLOYER_STATE\", \"EMPLOYER_NAME\", \"NBR_WORKERS_CERTIFIED\", \"PREVAILING_WAGE\", \"BASIC_RATE_OF_PAY\", 'WORKSITE_STATE', 'JOB_TITLE', 'SOC_TITLE', \"VISA_CLASS\"]].copy()\n",
    "df_H2b_2014_ = df_H2b_2014[[\"RECENT_DECISION_DATE\", \"CASE_NUMBER\", \"CASE_STATUS\", \"ALIEN_WORK_STATE\", \"EMPLOYER_NAME\", \"NBR_WORKERS_CERTIFIED\", \"PREVIALING_WAGE\", \"BASIC_RATE_OF_PAY\", 'ALIEN_WORK_STATE', 'JOB_TITLE', 'SOC_NAME',\"VISA_CLASS\"]].copy()\n",
    "df_H2b_2013_ = df_H2b_2013[[\"DECISION_DATE\", \"CASE_NUMBER\", \"CASE_STATUS\", \"ALIEN_WORK_STATE\", \"EMPLOYER_NAME\", \"NBR_WORKERS_CERTIFIED\", \"PREVIALING_WAGE\", \"BASIC_RATE_OF_PAY\", 'ALIEN_WORK_STATE', 'JOB_TITLE', 'SOC_NAME',\"VISA_CLASS\"]].copy()\n",
    "df_H2b_2012_ = df_H2b_2012[[\"DECISION_DATE\", \"CASE_NO\", \"CASE_STATUS\", \"ALIEN_WORK_STATE\", \"EMPLOYER_NAME\", \"NBR_WORKERS_CERTIFIED\", \"PREVAILING_WAGE\", \"BASIC_RATE_OF_PAY\", 'ALIEN_WORK_STATE', 'JOB_TITLE', 'SOC_NAME',\"VISA_CLASS\"]].copy()\n",
    "df_H2b_2011_ = df_H2b_2011[[\"DECISION_DATE\", \"CASE_NO\", \"CASE_STATUS\", \"ALIEN_WORK_STATE\", \"EMPLOYER_NAME\", \"NBR_WORKERS_CERTIFIED\", \"PREVAILING_WAGE\", \"BASIC_RATE_OF_PAY\", 'ALIEN_WORK_STATE', 'JOB_TITLE', 'SOC_NAME',\"VISA_CLASS\"]].copy()\n",
    "df_H2b_2010_ = df_H2b_2010[[\"DECISION_DATE\", \"CASE_NO\", \"CASE_STATUS\", \"ALIEN_WORK_STATE\", \"EMPLOYER_NAME\", \"NBR_WORKERS_CERTIFIED\", \"PREVAILING_WAGE\", \"BASIC_RATE_OF_PAY\", 'ALIEN_WORK_STATE', 'JOB_TITLE', 'DOT_OCCUPATIONAL_CODE',\"APPLICATION_TYPE\"]].copy()\n",
    "df_H2b_2009_ = df_H2b_2009[[\"DECISION_DATE\", \"CASE_NO\", \"CASE_STATUS\", \"ALIEN_WORK_STATE\", \"EMPLOYER_NAME\", \"NBR_WORKERS_CERTIFIED\", \"PREVAILING_WAGE\", \"BASIC_RATE_OF_PAY\", 'ALIEN_WORK_STATE', 'JOB_TITLE']].copy()"
   ]
  },
  {
   "cell_type": "code",
   "execution_count": 75,
   "metadata": {
    "collapsed": false
   },
   "outputs": [],
   "source": [
    "#Pulling out relevant columns H2A\n",
    "df_H2a_2015_ = df_H2a_2015[[\"DECISION_DATE\", \"CASE_NUMBER\", \"CASE_STATUS\", \"EMPLOYER_STATE\", \"EMPLOYER_NAME\", \"NBR_WORKERS_CERTIFIED\", \"BASIC_UNIT_OF_PAY\", \"BASIC_RATE_OF_PAY\", 'WORKSITE_STATE', 'JOB_TITLE', 'SOC_TITLE', \"VISA_CLASS\"]].copy()\n",
    "df_H2a_2014_ = df_H2a_2014[[\"DECISION_DATE\", \"CASE_NO\", \"CASE_STATUS\", \"EMPLOYER_STATE\", \"EMPLOYER_NAME\", \"NBR_WORKERS_CERTIFIED\", \"BASIC_UNIT_OF_PAY\", \"BASIC_RATE_OF_PAY\", 'WORKSITE_LOCATION_STATE', 'JOB_TITLE', 'SOC_TITLE', \"VISA_CLASS\"]].copy()\n",
    "df_H2a_2013_ = df_H2a_2013[[\"DECISION_DATE\", \"CASE_NO\", \"CASE_STATUS\", \"EMPLOYER_STATE\", \"EMPLOYER_NAME\", \"NBR_WORKERS_CERTIFIED\", \"BASIC_UNIT_OF_PAY\", \"BASIC_RATE_OF_PAY\", 'ALIEN_WORK_STATE', 'JOB_TITLE', \"VISA_CLASS\"]].copy()\n",
    "df_H2a_2012_ = df_H2a_2012[[\"DECISION_DATE\", \"CASE_NO\", \"CASE_STATUS\", \"EMPLOYER_STATE\", \"EMPLOYER_NAME\", \"NBR_WORKERS_CERTIFIED\", \"BASIC_UNIT_OF_PAY\", \"BASIC_RATE_OF_PAY\", 'ALIEN_WORK_STATE', 'JOB_TITLE', \"VISA_CLASS\"]].copy()\n",
    "df_H2a_2011_ = df_H2a_2011[[\"DECISION_DATE\", \"CASE_NO\", \"CASE_STATUS\", \"EMPLOYER_STATE\", \"EMPLOYER_NAME\", \"NBR_WORKERS_CERTIFIED\", \"BASIC_UNIT_OF_PAY\", \"BASIC_RATE_OF_PAY\", 'ALIEN_WORK_STATE', 'JOB_TITLE', \"APPLICATION_TYPE\"]].copy()\n",
    "df_H2a_2010_ = df_H2a_2010[[\"DECISION_DATE\", \"CASE_NO\", \"CASE_STATUS\", \"EMPLOYER_STATE\", \"EMPLOYER_NAME\", \"NBR_WORKERS_CERTIFIED\", \"BASIC_UNIT_OF_PAY\", \"BASIC_RATE_OF_PAY\", 'ALIEN_WORK_STATE', 'JOB_TITLE',]].copy()\n",
    "df_H2a_2009_ = df_H2a_2009[[\"DECISION_DATE\", \"CASE_NO\", \"CASE_STATUS\", \"EMPLOYER_STATE\", \"EMPLOYER_NAME\", \"NBR_WORKERS_CERTIFIED\", \"BASIC_UNIT_OF_PAY\", \"BASIC_RATE_OF_PAY\", 'ALIEN_WORK_STATE', 'JOB_TITLE',]].copy()"
   ]
  },
  {
   "cell_type": "code",
   "execution_count": 76,
   "metadata": {
    "collapsed": false
   },
   "outputs": [],
   "source": [
    "#Pulling out relevant columns H1B\n",
    "df_H1b_2015_ = df_H1b_2015[['DECISION_DATE', 'CASE_NUMBER', \"CASE_STATUS\", \"EMPLOYER_STATE\", 'EMPLOYER_NAME', 'TOTAL WORKERS', 'WORKSITE_STATE', 'JOB_TITLE', 'SOC_NAME', \"VISA_CLASS\"]].copy()\n",
    "df_H1b_2014_ = df_H1b_2014[['DECISION_DATE', 'LCA_CASE_NUMBER', 'STATUS', 'LCA_CASE_EMPLOYER_STATE', 'LCA_CASE_EMPLOYER_NAME', 'TOTAL_WORKERS', 'LCA_CASE_WORKLOC1_STATE', 'LCA_CASE_JOB_TITLE', 'LCA_CASE_SOC_NAME', 'VISA_CLASS']].copy()\n",
    "df_H1b_2013_ = df_H1b_2013[['Decision_Date', 'LCA_CASE_NUMBER', 'STATUS', 'LCA_CASE_EMPLOYER_STATE', 'LCA_CASE_EMPLOYER_NAME', 'TOTAL_WORKERS', 'LCA_CASE_WORKLOC1_STATE','LCA_CASE_JOB_TITLE', 'LCA_CASE_SOC_NAME', 'VISA_CLASS']].copy()\n",
    "df_H1b_2012_ = df_H1b_2012[['DECISION_DATE', 'LCA_CASE_NUMBER', 'STATUS', 'LCA_CASE_EMPLOYER_STATE', 'LCA_CASE_EMPLOYER_NAME', 'TOTAL_WORKERS', 'LCA_CASE_WORKLOC1_STATE','LCA_CASE_JOB_TITLE', 'LCA_CASE_SOC_NAME', 'VISA_CLASS']].copy()\n",
    "df_H1b_2011_ = df_H1b_2011[['DECISION_DATE', 'LCA_CASE_NUMBER', 'STATUS', 'LCA_CASE_EMPLOYER_STATE', 'LCA_CASE_EMPLOYER_NAME', 'TOTAL_WORKERS', 'LCA_CASE_WORKLOC1_STATE','LCA_CASE_JOB_TITLE', 'LCA_CASE_SOC_NAME', 'VISA_CLASS']].copy()\n",
    "df_H1b_2010_ = df_H1b_2010[['DECISION_DATE', 'LCA_CASE_NUMBER', 'STATUS', 'LCA_CASE_EMPLOYER_STATE', 'LCA_CASE_EMPLOYER_NAME', 'TOTAL_WORKERS', 'WORK_LOCATION_STATE1','LCA_CASE_JOB_TITLE', 'LCA_CASE_SOC_NAME']].copy() \n",
    "df_H1b_2009_ = df_H1b_2009[['Decision_Date', 'LCA_CASE_NUMBER', 'STATUS', 'LCA_CASE_EMPLOYER_STATE', 'LCA_CASE_EMPLOYER_NAME', 'TOTAL_WORKERS', 'LCA_CASE_WORKLOC1_STATE','LCA_CASE_JOB_TITLE', 'LCA_CASE_SOC_NAME', 'VISA_CLASS']].copy()\n",
    "df_H1b_2009_2_ = df_H1b_2009_2[['DOL_DECISION_DATE', 'CASE_NO', 'APPROVAL_STATUS', 'EMPLOYER_STATE', 'EMPLOYER_NAME', 'NBR_IMMIGRANTS', 'STATE_1','JOB_TITLE', 'OCCUPATIONAL_TITLE', 'PROGRAM_DESIGNATION']].copy()"
   ]
  },
  {
   "cell_type": "code",
   "execution_count": 77,
   "metadata": {
    "collapsed": true
   },
   "outputs": [],
   "source": [
    "#Renaming them\n",
    "df_H2b_2015_.columns = [\"DECISION_DATE\", \"CASE_NUMBER\", \"CASE_STATUS\", \"EMPLOYER_STATE\", \"EMPLOYER_NAME\", \"NBR_WORKERS_CERTIFIED\", \"PREVAILING_WAGE\", \"BASIC_RATE_OF_PAY\", 'WORKSITE_STATE', 'JOB_TITLE', 'SOC_TITLE', \"VISA_CLASS\"]\n",
    "df_H2b_2014_.columns = [\"DECISION_DATE\", \"CASE_NUMBER\", \"CASE_STATUS\", \"EMPLOYER_STATE\", \"EMPLOYER_NAME\", \"NBR_WORKERS_CERTIFIED\", \"PREVAILING_WAGE\", \"BASIC_RATE_OF_PAY\", 'WORKSITE_STATE', 'JOB_TITLE', 'SOC_TITLE', \"VISA_CLASS\"]\n",
    "df_H2b_2013_.columns = [\"DECISION_DATE\", \"CASE_NUMBER\", \"CASE_STATUS\", \"EMPLOYER_STATE\", \"EMPLOYER_NAME\", \"NBR_WORKERS_CERTIFIED\", \"PREVAILING_WAGE\", \"BASIC_RATE_OF_PAY\", 'WORKSITE_STATE', 'JOB_TITLE', 'SOC_TITLE', \"VISA_CLASS\"]\n",
    "df_H2b_2012_.columns = [\"DECISION_DATE\", \"CASE_NUMBER\", \"CASE_STATUS\", \"EMPLOYER_STATE\", \"EMPLOYER_NAME\", \"NBR_WORKERS_CERTIFIED\", \"PREVAILING_WAGE\", \"BASIC_RATE_OF_PAY\", 'WORKSITE_STATE', 'JOB_TITLE', 'SOC_TITLE', \"VISA_CLASS\"]\n",
    "df_H2b_2011_.columns = [\"DECISION_DATE\", \"CASE_NUMBER\", \"CASE_STATUS\", \"EMPLOYER_STATE\", \"EMPLOYER_NAME\", \"NBR_WORKERS_CERTIFIED\", \"PREVAILING_WAGE\", \"BASIC_RATE_OF_PAY\", 'WORKSITE_STATE', 'JOB_TITLE', 'SOC_TITLE', \"VISA_CLASS\"]\n",
    "df_H2b_2010_.columns = [\"DECISION_DATE\", \"CASE_NUMBER\", \"CASE_STATUS\", \"EMPLOYER_STATE\", \"EMPLOYER_NAME\", \"NBR_WORKERS_CERTIFIED\", \"PREVAILING_WAGE\", \"BASIC_RATE_OF_PAY\", 'WORKSITE_STATE', 'JOB_TITLE', 'SOC_TITLE', \"VISA_CLASS\"]\n",
    "df_H2b_2009_.columns = [\"DECISION_DATE\", \"CASE_NUMBER\", \"CASE_STATUS\", \"EMPLOYER_STATE\", \"EMPLOYER_NAME\", \"NBR_WORKERS_CERTIFIED\", \"PREVAILING_WAGE\", \"BASIC_RATE_OF_PAY\", 'WORKSITE_STATE', 'JOB_TITLE',]"
   ]
  },
  {
   "cell_type": "code",
   "execution_count": 78,
   "metadata": {
    "collapsed": true
   },
   "outputs": [],
   "source": [
    "df_H2a_2015_.columns = [\"DECISION_DATE\", \"CASE_NUMBER\", \"CASE_STATUS\", \"EMPLOYER_STATE\", \"EMPLOYER_NAME\", \"NBR_WORKERS_CERTIFIED\", \"BASIC_UNIT_OF_PAY\", \"BASIC_RATE_OF_PAY\", 'WORKSITE_STATE', 'JOB_TITLE', 'SOC_TITLE',\"VISA_CLASS\"]\n",
    "df_H2a_2014_.columns = [\"DECISION_DATE\", \"CASE_NUMBER\", \"CASE_STATUS\", \"EMPLOYER_STATE\", \"EMPLOYER_NAME\", \"NBR_WORKERS_CERTIFIED\", \"BASIC_UNIT_OF_PAY\", \"BASIC_RATE_OF_PAY\", 'WORKSITE_STATE', 'JOB_TITLE', 'SOC_TITLE',\"VISA_CLASS\"]\n",
    "df_H2a_2013_.columns = [\"DECISION_DATE\", \"CASE_NUMBER\", \"CASE_STATUS\", \"EMPLOYER_STATE\", \"EMPLOYER_NAME\", \"NBR_WORKERS_CERTIFIED\", \"BASIC_UNIT_OF_PAY\", \"BASIC_RATE_OF_PAY\", 'WORKSITE_STATE', 'JOB_TITLE', \"VISA_CLASS\"]\n",
    "df_H2a_2012_.columns = [\"DECISION_DATE\", \"CASE_NUMBER\", \"CASE_STATUS\", \"EMPLOYER_STATE\", \"EMPLOYER_NAME\", \"NBR_WORKERS_CERTIFIED\", \"BASIC_UNIT_OF_PAY\", \"BASIC_RATE_OF_PAY\", 'WORKSITE_STATE', 'JOB_TITLE', \"VISA_CLASS\"]\n",
    "df_H2a_2011_.columns = [\"DECISION_DATE\", \"CASE_NUMBER\", \"CASE_STATUS\", \"EMPLOYER_STATE\", \"EMPLOYER_NAME\", \"NBR_WORKERS_CERTIFIED\", \"BASIC_UNIT_OF_PAY\", \"BASIC_RATE_OF_PAY\", 'WORKSITE_STATE', 'JOB_TITLE', \"VISA_CLASS\"]\n",
    "df_H2a_2010_.columns = [\"DECISION_DATE\", \"CASE_NUMBER\", \"CASE_STATUS\", \"EMPLOYER_STATE\", \"EMPLOYER_NAME\", \"NBR_WORKERS_CERTIFIED\", \"BASIC_UNIT_OF_PAY\", \"BASIC_RATE_OF_PAY\", 'WORKSITE_STATE', 'JOB_TITLE']\n",
    "df_H2a_2009_.columns = [\"DECISION_DATE\", \"CASE_NUMBER\", \"CASE_STATUS\", \"EMPLOYER_STATE\", \"EMPLOYER_NAME\", \"NBR_WORKERS_CERTIFIED\", \"BASIC_UNIT_OF_PAY\", \"BASIC_RATE_OF_PAY\", 'WORKSITE_STATE', 'JOB_TITLE']"
   ]
  },
  {
   "cell_type": "code",
   "execution_count": 91,
   "metadata": {
    "collapsed": false
   },
   "outputs": [],
   "source": [
    "df_H1b_2015_.columns = [\"DECISION_DATE\", \"CASE_NUMBER\", \"CASE_STATUS\", \"EMPLOYER_STATE\", \"EMPLOYER_NAME\", \"NBR_WORKERS_CERTIFIED\", 'WORKSITE_STATE', 'JOB_TITLE', 'SOC_TITLE',\"VISA_CLASS\"]\n",
    "df_H1b_2014_.columns = [\"DECISION_DATE\", \"CASE_NUMBER\", \"CASE_STATUS\", \"EMPLOYER_STATE\", \"EMPLOYER_NAME\", \"NBR_WORKERS_CERTIFIED\", 'WORKSITE_STATE', 'JOB_TITLE', 'SOC_TITLE',\"VISA_CLASS\"]\n",
    "df_H1b_2013_.columns = [\"DECISION_DATE\", \"CASE_NUMBER\", \"CASE_STATUS\", \"EMPLOYER_STATE\", \"EMPLOYER_NAME\", \"NBR_WORKERS_CERTIFIED\", 'WORKSITE_STATE', 'JOB_TITLE', 'SOC_TITLE',\"VISA_CLASS\"]\n",
    "df_H1b_2012_.columns = [\"DECISION_DATE\", \"CASE_NUMBER\", \"CASE_STATUS\", \"EMPLOYER_STATE\", \"EMPLOYER_NAME\", \"NBR_WORKERS_CERTIFIED\", 'WORKSITE_STATE', 'JOB_TITLE', 'SOC_TITLE',\"VISA_CLASS\"]\n",
    "df_H1b_2011_.columns = [\"DECISION_DATE\", \"CASE_NUMBER\", \"CASE_STATUS\", \"EMPLOYER_STATE\", \"EMPLOYER_NAME\", \"NBR_WORKERS_CERTIFIED\", 'WORKSITE_STATE', 'JOB_TITLE', 'SOC_TITLE',\"VISA_CLASS\"]\n",
    "df_H1b_2010_.columns = [\"DECISION_DATE\", \"CASE_NUMBER\", \"CASE_STATUS\", \"EMPLOYER_STATE\", \"EMPLOYER_NAME\", \"NBR_WORKERS_CERTIFIED\", 'WORKSITE_STATE', 'JOB_TITLE','SOC_TITLE']\n",
    "df_H1b_2009_.columns = [\"DECISION_DATE\", \"CASE_NUMBER\", \"CASE_STATUS\", \"EMPLOYER_STATE\", \"EMPLOYER_NAME\", \"NBR_WORKERS_CERTIFIED\", 'WORKSITE_STATE', 'JOB_TITLE','SOC_TITLE', \"VISA_CLASS\"]\n",
    "df_H1b_2009_2_.columns = [\"DECISION_DATE\", \"CASE_NUMBER\", \"CASE_STATUS\", \"EMPLOYER_STATE\", \"EMPLOYER_NAME\", \"NBR_WORKERS_CERTIFIED\", 'WORKSITE_STATE', 'JOB_TITLE','SOC_TITLE', \"VISA_CLASS\"]"
   ]
  },
  {
   "cell_type": "code",
   "execution_count": 93,
   "metadata": {
    "collapsed": false
   },
   "outputs": [],
   "source": [
    "df = pd.concat([df_H1b_2009_2_, df_H1b_2009_, df_H1b_2010_, df_H1b_2011_, df_H1b_2012_, df_H1b_2013_, df_H1b_2014_, df_H1b_2015_, df_H2b_2015_, df_H2b_2014_, df_H2b_2013_, df_H2b_2012_, df_H2b_2011_, df_H2b_2010_, df_H2b_2009_, df_H2a_2015_, df_H2a_2014_, df_H2a_2013_, df_H2a_2012_, df_H2a_2011_, df_H2a_2010_, df_H2a_2009_], ignore_index=True)"
   ]
  },
  {
   "cell_type": "code",
   "execution_count": 115,
   "metadata": {
    "collapsed": true
   },
   "outputs": [],
   "source": [
    "def certification(x):\n",
    "    if x == 'Certified - Full':\n",
    "        return 'CERTIFIED'\n",
    "    elif x == 'DETERMINATION ISSUED - CERTIFICATION':\n",
    "        return 'CERTIFIED'\n",
    "    elif x == 'Certification':\n",
    "        return 'CERTIFIED'\n",
    "    #This is okay, as when it's partial only a certain number of workers are then certified\n",
    "    elif x == 'Certified - Partial':\n",
    "        return 'CERTIFIED'\n",
    "    elif x == 'Partial Certification':\n",
    "        return 'CERTIFIED'\n",
    "    elif x == 'DETERMINATION ISSUED - CERTIFICATION EXPIRED':\n",
    "        return 'CERTIFIED'\n",
    "    elif x == 'Partial Certified':\n",
    "        return 'CERTIFIED'\n",
    "    elif x == 'PARTIAL CERTIFIED':\n",
    "        return 'CERTIFIED'\n",
    "    elif x == 'PARTIAL CERTIFIED':\n",
    "        return 'CERTIFIED'\n",
    "    elif x == 'DETERMINATION ISSUED - PARTIAL CERTIFICATION':\n",
    "        return 'CERTIFIED'\n",
    "    elif x == 'Certified':\n",
    "        return 'CERTIFIED'\n",
    "    else:\n",
    "        return x"
   ]
  },
  {
   "cell_type": "code",
   "execution_count": 116,
   "metadata": {
    "collapsed": true
   },
   "outputs": [],
   "source": [
    "df['CASE_STATUS'] = df['CASE_STATUS'].apply(certification)"
   ]
  },
  {
   "cell_type": "code",
   "execution_count": 117,
   "metadata": {
    "collapsed": false
   },
   "outputs": [
    {
     "data": {
      "text/plain": [
       "CERTIFIED                                               2722188\n",
       "CERTIFIED-WITHDRAWN                                      188644\n",
       "DENIED                                                   149254\n",
       "WITHDRAWN                                                 84368\n",
       "Denied                                                     2536\n",
       "Withdrawn                                                  2024\n",
       "DETERMINATION ISSUED - DENIED                               323\n",
       "DETERMINATION ISSUED - WITHDRAWN                            307\n",
       "Certification Expired                                       305\n",
       "Partial Certification Expired                                73\n",
       "DETERMINATION ISSUED - PARTIAL CERTIFICATION EXPIRED         41\n",
       "PENDING QUALITY AND COMPLIANCE REVIEW - UNASSIGNED           15\n",
       "FINAL REVIEW                                                  2\n",
       "REJECTED                                                      2\n",
       "INVALIDATED                                                   1\n",
       "Name: CASE_STATUS, dtype: int64"
      ]
     },
     "execution_count": 117,
     "metadata": {},
     "output_type": "execute_result"
    }
   ],
   "source": [
    "df['CASE_STATUS'].value_counts()"
   ]
  },
  {
   "cell_type": "code",
   "execution_count": 121,
   "metadata": {
    "collapsed": false
   },
   "outputs": [
    {
     "data": {
      "text/plain": [
       "6982775.0"
      ]
     },
     "execution_count": 121,
     "metadata": {},
     "output_type": "execute_result"
    }
   ],
   "source": [
    "df[df['CASE_STATUS'] == 'CERTIFIED']['NBR_WORKERS_CERTIFIED'].sum()"
   ]
  },
  {
   "cell_type": "code",
   "execution_count": 128,
   "metadata": {
    "collapsed": true
   },
   "outputs": [],
   "source": [
    "df.to_csv('Temporary_Worker_Visas_2009_2015.csv')"
   ]
  },
  {
   "cell_type": "markdown",
   "metadata": {},
   "source": [
    "# Temporary_Worker_Visas_2009_2015.csv"
   ]
  },
  {
   "cell_type": "code",
   "execution_count": 13,
   "metadata": {
    "collapsed": false
   },
   "outputs": [],
   "source": [
    "df = pd.read_csv('data/Temporary_Worker_Visas_2009_2015.csv', dtype='str')"
   ]
  },
  {
   "cell_type": "code",
   "execution_count": 14,
   "metadata": {
    "collapsed": false
   },
   "outputs": [
    {
     "name": "stdout",
     "output_type": "stream",
     "text": [
      "<class 'pandas.core.frame.DataFrame'>\n",
      "RangeIndex: 3150083 entries, 0 to 3150082\n",
      "Data columns (total 14 columns):\n",
      "DECISION_DATE            object\n",
      "BASIC_RATE_OF_PAY        object\n",
      "BASIC_UNIT_OF_PAY        object\n",
      "CASE_NUMBER              object\n",
      "CASE_STATUS              object\n",
      "DECISION_DATE.1          object\n",
      "EMPLOYER_NAME            object\n",
      "EMPLOYER_STATE           object\n",
      "JOB_TITLE                object\n",
      "NBR_WORKERS_CERTIFIED    object\n",
      "PREVAILING_WAGE          object\n",
      "SOC_TITLE                object\n",
      "VISA_CLASS               object\n",
      "WORKSITE_STATE           object\n",
      "dtypes: object(14)\n",
      "memory usage: 336.5+ MB\n"
     ]
    }
   ],
   "source": [
    "df.info()"
   ]
  },
  {
   "cell_type": "code",
   "execution_count": 15,
   "metadata": {
    "collapsed": true
   },
   "outputs": [],
   "source": [
    "def parse_date(str_date):\n",
    "    try:\n",
    "        return dateutil.parser.parse(str_date)\n",
    "    except:\n",
    "        None"
   ]
  },
  {
   "cell_type": "code",
   "execution_count": 22,
   "metadata": {
    "collapsed": true
   },
   "outputs": [],
   "source": [
    "def certifications(str_):\n",
    "    try:\n",
    "        return int(str_)\n",
    "    except:\n",
    "        None"
   ]
  },
  {
   "cell_type": "code",
   "execution_count": 17,
   "metadata": {
    "collapsed": false
   },
   "outputs": [],
   "source": [
    "df['DECISION_DATE'] = df['DECISION_DATE'].apply(parse_date)"
   ]
  },
  {
   "cell_type": "code",
   "execution_count": 23,
   "metadata": {
    "collapsed": true
   },
   "outputs": [],
   "source": [
    "df['NBR_WORKERS_CERTIFIED'] = df['NBR_WORKERS_CERTIFIED'].apply(certifications)"
   ]
  },
  {
   "cell_type": "code",
   "execution_count": 20,
   "metadata": {
    "collapsed": true
   },
   "outputs": [],
   "source": [
    "df.index = df['DECISION_DATE']"
   ]
  },
  {
   "cell_type": "code",
   "execution_count": 21,
   "metadata": {
    "collapsed": false
   },
   "outputs": [
    {
     "name": "stdout",
     "output_type": "stream",
     "text": [
      "<class 'pandas.core.frame.DataFrame'>\n",
      "DatetimeIndex: 3150083 entries, 2008-10-01 00:00:00 to 2009-09-28 17:15:08\n",
      "Data columns (total 14 columns):\n",
      "DECISION_DATE            datetime64[ns]\n",
      "BASIC_RATE_OF_PAY        object\n",
      "BASIC_UNIT_OF_PAY        object\n",
      "CASE_NUMBER              object\n",
      "CASE_STATUS              object\n",
      "DECISION_DATE.1          object\n",
      "EMPLOYER_NAME            object\n",
      "EMPLOYER_STATE           object\n",
      "JOB_TITLE                object\n",
      "NBR_WORKERS_CERTIFIED    object\n",
      "PREVAILING_WAGE          object\n",
      "SOC_TITLE                object\n",
      "VISA_CLASS               object\n",
      "WORKSITE_STATE           object\n",
      "dtypes: datetime64[ns](1), object(13)\n",
      "memory usage: 360.5+ MB\n"
     ]
    }
   ],
   "source": [
    "df.info()"
   ]
  },
  {
   "cell_type": "code",
   "execution_count": 24,
   "metadata": {
    "collapsed": false
   },
   "outputs": [
    {
     "data": {
      "image/png": "[encoded data removed]",
      "text/plain": [
       "<matplotlib.figure.Figure at 0x1c5a11978>"
      ]
     },
     "metadata": {},
     "output_type": "display_data"
    }
   ],
   "source": [
    "fig, ax = plt.subplots(figsize =(10,5), facecolor='White')\n",
    "df.resample('M')['CASE_NUMBER'].count().plot(ax=ax)\n",
    "ax.set_title(\"Temporary Working Visas to the United States Issued 2009 - 2015\", fontname='DIN Condensed', fontsize=24)\n",
    "plt.savefig('Temp_Visas.png', transparent=True, bbox_inches='tight')"
   ]
  },
  {
   "cell_type": "code",
   "execution_count": 25,
   "metadata": {
    "collapsed": false
   },
   "outputs": [
    {
     "data": {
      "image/png": "[encoded data removed]",
      "text/plain": [
       "<matplotlib.figure.Figure at 0x121c349b0>"
      ]
     },
     "metadata": {},
     "output_type": "display_data"
    }
   ],
   "source": [
    "fig, ax = plt.subplots(figsize =(10,5), facecolor='White')\n",
    "df.resample('A')['CASE_NUMBER'].count().plot(ax=ax)\n",
    "ax.set_title(\"Temporary Working Visas to the United States Issued 2009 - 2015\", fontname='DIN Condensed', fontsize=24)\n",
    "plt.savefig('Temp_Visas.png', transparent=True, bbox_inches='tight')"
   ]
  },
  {
   "cell_type": "code",
   "execution_count": 26,
   "metadata": {
    "collapsed": false
   },
   "outputs": [
    {
     "data": {
      "image/png": "[encoded data removed]",
      "text/plain": [
       "<matplotlib.figure.Figure at 0x114ef45c0>"
      ]
     },
     "metadata": {},
     "output_type": "display_data"
    }
   ],
   "source": [
    "fig, ax = plt.subplots(figsize =(10,5), facecolor='White')\n",
    "df.resample('Q')['CASE_NUMBER'].count().plot(ax=ax)\n",
    "ax.set_title(\"Temporary Working Visas to the United States Issued 2009 - 2015\", fontname='DIN Condensed', fontsize=24)\n",
    "plt.savefig('Temp_Visas.png', transparent=True, bbox_inches='tight')"
   ]
  },
  {
   "cell_type": "code",
   "execution_count": 27,
   "metadata": {
    "collapsed": false
   },
   "outputs": [
    {
     "data": {
      "text/plain": [
       "CA    569314\n",
       "NY    319600\n",
       "TX    291565\n",
       "NJ    217547\n",
       "IL    161478\n",
       "MA    122236\n",
       "FL    119247\n",
       "PA    113386\n",
       "WA    103223\n",
       "VA     99977\n",
       "Name: WORKSITE_STATE, dtype: int64"
      ]
     },
     "execution_count": 27,
     "metadata": {},
     "output_type": "execute_result"
    }
   ],
   "source": [
    "df['WORKSITE_STATE'].value_counts().head(10)"
   ]
  },
  {
   "cell_type": "markdown",
   "metadata": {},
   "source": [
    "# Creating the Certified DF to export for the map"
   ]
  },
  {
   "cell_type": "code",
   "execution_count": 28,
   "metadata": {
    "collapsed": true
   },
   "outputs": [],
   "source": [
    "CERTIFIED_df = df[df['CASE_STATUS'] == 'CERTIFIED']"
   ]
  },
  {
   "cell_type": "code",
   "execution_count": 130,
   "metadata": {
    "collapsed": true
   },
   "outputs": [],
   "source": [
    "NBR_WORKERS_PERSTATE = pd.DataFrame(CERTIFIED_df.groupby('WORKSITE_STATE')['NBR_WORKERS_CERTIFIED'].sum().sort_values(ascending=False))"
   ]
  },
  {
   "cell_type": "code",
   "execution_count": 132,
   "metadata": {
    "collapsed": true
   },
   "outputs": [],
   "source": [
    "NBR_WORKERS_PERSTATE.reset_index(inplace=True)"
   ]
  },
  {
   "cell_type": "code",
   "execution_count": 133,
   "metadata": {
    "collapsed": true
   },
   "outputs": [],
   "source": [
    "def int_(x):\n",
    "    return int(x)"
   ]
  },
  {
   "cell_type": "code",
   "execution_count": 134,
   "metadata": {
    "collapsed": true
   },
   "outputs": [],
   "source": [
    "NBR_WORKERS_PERSTATE['NBR_WORKERS_CERTIFIED'] = NBR_WORKERS_PERSTATE['NBR_WORKERS_CERTIFIED'].apply(int)"
   ]
  },
  {
   "cell_type": "code",
   "execution_count": 136,
   "metadata": {
    "collapsed": false
   },
   "outputs": [
    {
     "data": {
      "text/html": [
       "<div>\n",
       "<table border=\"1\" class=\"dataframe\">\n",
       "  <thead>\n",
       "    <tr style=\"text-align: right;\">\n",
       "      <th></th>\n",
       "      <th>WORKSITE_STATE</th>\n",
       "      <th>NBR_WORKERS_CERTIFIED</th>\n",
       "    </tr>\n",
       "  </thead>\n",
       "  <tbody>\n",
       "    <tr>\n",
       "      <th>0</th>\n",
       "      <td>CA</td>\n",
       "      <td>1009233</td>\n",
       "    </tr>\n",
       "    <tr>\n",
       "      <th>1</th>\n",
       "      <td>TX</td>\n",
       "      <td>577319</td>\n",
       "    </tr>\n",
       "    <tr>\n",
       "      <th>2</th>\n",
       "      <td>NY</td>\n",
       "      <td>551747</td>\n",
       "    </tr>\n",
       "    <tr>\n",
       "      <th>3</th>\n",
       "      <td>NJ</td>\n",
       "      <td>412148</td>\n",
       "    </tr>\n",
       "    <tr>\n",
       "      <th>4</th>\n",
       "      <td>IL</td>\n",
       "      <td>326580</td>\n",
       "    </tr>\n",
       "  </tbody>\n",
       "</table>\n",
       "</div>"
      ],
      "text/plain": [
       "  WORKSITE_STATE  NBR_WORKERS_CERTIFIED\n",
       "0             CA                1009233\n",
       "1             TX                 577319\n",
       "2             NY                 551747\n",
       "3             NJ                 412148\n",
       "4             IL                 326580"
      ]
     },
     "execution_count": 136,
     "metadata": {},
     "output_type": "execute_result"
    }
   ],
   "source": [
    "NBR_WORKERS_PERSTATE.head()"
   ]
  },
  {
   "cell_type": "code",
   "execution_count": null,
   "metadata": {
    "collapsed": true
   },
   "outputs": [],
   "source": [
    "# Looking into which job is top per State"
   ]
  },
  {
   "cell_type": "code",
   "execution_count": null,
   "metadata": {
    "collapsed": false
   },
   "outputs": [],
   "source": [
    "Worksite_state_list = df['WORKSITE_STATE'].tolist()"
   ]
  },
  {
   "cell_type": "code",
   "execution_count": 141,
   "metadata": {
    "collapsed": true
   },
   "outputs": [],
   "source": [
    "Unique_list = set(Worksite_state_list)"
   ]
  },
  {
   "cell_type": "code",
   "execution_count": 144,
   "metadata": {
    "collapsed": false
   },
   "outputs": [
    {
     "name": "stdout",
     "output_type": "stream",
     "text": [
      "nan : Series([], Name: NBR_WORKERS_CERTIFIED, dtype: float64)\n",
      "MH : SOC_TITLE\n",
      "Dishwashers    14.0\n",
      "Name: NBR_WORKERS_CERTIFIED, dtype: float64\n",
      "WI : SOC_TITLE\n",
      "Computer Systems Analysts    25857.0\n",
      "Name: NBR_WORKERS_CERTIFIED, dtype: float64\n",
      "ME : SOC_TITLE\n",
      "Maids and Housekeeping Cleaners    2124.0\n",
      "Name: NBR_WORKERS_CERTIFIED, dtype: float64\n",
      "MA : SOC_TITLE\n",
      "Computer Systems Analysts    31665.0\n",
      "Name: NBR_WORKERS_CERTIFIED, dtype: float64\n",
      "PW : SOC_TITLE\n",
      "Software Developers, Applications    1.0\n",
      "Name: NBR_WORKERS_CERTIFIED, dtype: float64\n",
      "AK : SOC_TITLE\n",
      "Cutters and Trimmers, Hand    959.0\n",
      "Name: NBR_WORKERS_CERTIFIED, dtype: float64\n",
      "CT : SOC_TITLE\n",
      "Computer Software Engineers, Applications    55331.0\n",
      "Name: NBR_WORKERS_CERTIFIED, dtype: float64\n",
      "OR : SOC_TITLE\n",
      "Computer Systems Analysts    9364.0\n",
      "Name: NBR_WORKERS_CERTIFIED, dtype: float64\n",
      "DC : SOC_TITLE\n",
      "Computer Systems Analysts    3959.0\n",
      "Name: NBR_WORKERS_CERTIFIED, dtype: float64\n",
      "NC : SOC_TITLE\n",
      "Farmworkers and Laborers, Crop, Nursery, and    54662.0\n",
      "Name: NBR_WORKERS_CERTIFIED, dtype: float64\n",
      "FL : SOC_TITLE\n",
      "Computer Systems Analysts    35782.0\n",
      "Name: NBR_WORKERS_CERTIFIED, dtype: float64\n",
      "KS : SOC_TITLE\n",
      "Computer Systems Analysts    6847.0\n",
      "Name: NBR_WORKERS_CERTIFIED, dtype: float64\n",
      "FM : SOC_TITLE\n",
      "Amusement and Recreation Attendants    30.0\n",
      "Name: NBR_WORKERS_CERTIFIED, dtype: float64\n",
      "WV : SOC_TITLE\n",
      "Computer Systems Analysts    592.0\n",
      "Name: NBR_WORKERS_CERTIFIED, dtype: float64\n",
      "MN : SOC_TITLE\n",
      "Computer Systems Analysts    23170.0\n",
      "Name: NBR_WORKERS_CERTIFIED, dtype: float64\n",
      "RI : SOC_TITLE\n",
      "Computer Systems Analysts    5603.0\n",
      "Name: NBR_WORKERS_CERTIFIED, dtype: float64\n",
      "CO : SOC_TITLE\n",
      "Computer Systems Analysts    15354.0\n",
      "Name: NBR_WORKERS_CERTIFIED, dtype: float64\n",
      "AL : SOC_TITLE\n",
      "Forest and Conservation Workers    2158.0\n",
      "Name: NBR_WORKERS_CERTIFIED, dtype: float64\n",
      "MS : SOC_TITLE\n",
      "Forest and Conservation Workers    8081.0\n",
      "Name: NBR_WORKERS_CERTIFIED, dtype: float64\n",
      "VT : SOC_TITLE\n",
      "Computer Systems Analysts    1192.0\n",
      "Name: NBR_WORKERS_CERTIFIED, dtype: float64\n",
      "NE : SOC_TITLE\n",
      "Computer Systems Analysts    5451.0\n",
      "Name: NBR_WORKERS_CERTIFIED, dtype: float64\n",
      "TX : SOC_TITLE\n",
      "Computer Systems Analysts    1214842.0\n",
      "Name: NBR_WORKERS_CERTIFIED, dtype: float64\n",
      "MT : SOC_TITLE\n",
      "Software Developers, Applications    1252.0\n",
      "Name: NBR_WORKERS_CERTIFIED, dtype: float64\n",
      "MO : SOC_TITLE\n",
      "Computer Systems Analysts    14058.0\n",
      "Name: NBR_WORKERS_CERTIFIED, dtype: float64\n",
      "OH : SOC_TITLE\n",
      "Computer Systems Analysts    41178.0\n",
      "Name: NBR_WORKERS_CERTIFIED, dtype: float64\n",
      "KY : SOC_TITLE\n",
      "Farmworkers and Laborers, Crop, Nursery, and    13172.0\n",
      "Name: NBR_WORKERS_CERTIFIED, dtype: float64\n",
      "SD : SOC_TITLE\n",
      "Computer Systems Analysts    1564.0\n",
      "Name: NBR_WORKERS_CERTIFIED, dtype: float64\n",
      "MB : Series([], Name: NBR_WORKERS_CERTIFIED, dtype: float64)\n",
      "AB : Series([], Name: NBR_WORKERS_CERTIFIED, dtype: float64)\n",
      "WA : SOC_TITLE\n",
      "Computer Programmers    7016672.0\n",
      "Name: NBR_WORKERS_CERTIFIED, dtype: float64\n",
      "OK : SOC_TITLE\n",
      "Landscaping and Groundskeeping Workers    4456.0\n",
      "Name: NBR_WORKERS_CERTIFIED, dtype: float64\n",
      "AR : SOC_TITLE\n",
      "Computer Systems Analysts    8987.0\n",
      "Name: NBR_WORKERS_CERTIFIED, dtype: float64\n",
      "AS : SOC_TITLE\n",
      "EDITORS: PUBLICATION, BROADCAST, AND SCRIPT    928.0\n",
      "Name: NBR_WORKERS_CERTIFIED, dtype: float64\n",
      "TN : SOC_TITLE\n",
      "Computer Systems Analysts    18427.0\n",
      "Name: NBR_WORKERS_CERTIFIED, dtype: float64\n",
      "SK : Series([], Name: NBR_WORKERS_CERTIFIED, dtype: float64)\n",
      "GA : SOC_TITLE\n",
      "Computer Systems Analysts    42396.0\n",
      "Name: NBR_WORKERS_CERTIFIED, dtype: float64\n",
      "NJ : SOC_TITLE\n",
      "Computer Systems Analysts    81238.0\n",
      "Name: NBR_WORKERS_CERTIFIED, dtype: float64\n",
      "NY : SOC_TITLE\n",
      "Designers, All Other    2032230.0\n",
      "Name: NBR_WORKERS_CERTIFIED, dtype: float64\n",
      "GU : SOC_TITLE\n",
      "Civil Engineers    435.0\n",
      "Name: NBR_WORKERS_CERTIFIED, dtype: float64\n",
      "LA : SOC_TITLE\n",
      "Farmworkers and Laborers, Crop, Nursery, and    8905.0\n",
      "Name: NBR_WORKERS_CERTIFIED, dtype: float64\n",
      "PR : SOC_TITLE\n",
      "Computer Systems Analysts    730.0\n",
      "Name: NBR_WORKERS_CERTIFIED, dtype: float64\n",
      "WY : SOC_TITLE\n",
      "Landscaping and Groundskeeping Workers    794.0\n",
      "Name: NBR_WORKERS_CERTIFIED, dtype: float64\n",
      "DE : SOC_TITLE\n",
      "Computer Systems Analysts    9567.0\n",
      "Name: NBR_WORKERS_CERTIFIED, dtype: float64\n",
      "IL : SOC_TITLE\n",
      "Computer Systems Analysts    59833.0\n",
      "Name: NBR_WORKERS_CERTIFIED, dtype: float64\n",
      "VA : SOC_TITLE\n",
      "Computer Systems Analysts    30634.0\n",
      "Name: NBR_WORKERS_CERTIFIED, dtype: float64\n",
      "ID : SOC_TITLE\n",
      "Farmworkers and Laborers, Crop, Nursery, and    3392.0\n",
      "Name: NBR_WORKERS_CERTIFIED, dtype: float64\n",
      "UT : SOC_TITLE\n",
      "Computer Systems Analysts    5303.0\n",
      "Name: NBR_WORKERS_CERTIFIED, dtype: float64\n",
      "VI : SOC_TITLE\n",
      "292.353-010    58.0\n",
      "Name: NBR_WORKERS_CERTIFIED, dtype: float64\n",
      "IN : SOC_TITLE\n",
      "Computer Systems Analysts    9970.0\n",
      "Name: NBR_WORKERS_CERTIFIED, dtype: float64\n",
      "SC : SOC_TITLE\n",
      "Farmworkers and Laborers, Crop, Nursery, and    6477.0\n",
      "Name: NBR_WORKERS_CERTIFIED, dtype: float64\n",
      "MP : SOC_TITLE\n",
      "Accountants and Auditors    251.0\n",
      "Name: NBR_WORKERS_CERTIFIED, dtype: float64\n",
      "HI : SOC_TITLE\n",
      "Computer Programmers    542.0\n",
      "Name: NBR_WORKERS_CERTIFIED, dtype: float64\n",
      "MI : SOC_TITLE\n",
      "Computer Systems Analysts    26859.0\n",
      "Name: NBR_WORKERS_CERTIFIED, dtype: float64\n",
      "NH : SOC_TITLE\n",
      "Computer Programmers    4714.0\n",
      "Name: NBR_WORKERS_CERTIFIED, dtype: float64\n",
      "NM : SOC_TITLE\n",
      "Computer Systems Analysts    2370.0\n",
      "Name: NBR_WORKERS_CERTIFIED, dtype: float64\n",
      "AZ : SOC_TITLE\n",
      "Computer Systems Analysts    21042.0\n",
      "Name: NBR_WORKERS_CERTIFIED, dtype: float64\n",
      "IA : SOC_TITLE\n",
      "Computer Systems Analysts    7724.0\n",
      "Name: NBR_WORKERS_CERTIFIED, dtype: float64\n",
      "MD : SOC_TITLE\n",
      "Computer Systems Analysts    16207.0\n",
      "Name: NBR_WORKERS_CERTIFIED, dtype: float64\n",
      "PA : SOC_TITLE\n",
      "Administrative Services Managers    793227.0\n",
      "Name: NBR_WORKERS_CERTIFIED, dtype: float64\n",
      "NV : SOC_TITLE\n",
      "Farmworkers and Laborers, Crop, Nursery, and    3194.0\n",
      "Name: NBR_WORKERS_CERTIFIED, dtype: float64\n",
      "CA : SOC_TITLE\n",
      "Computer Systems Analysts    152163.0\n",
      "Name: NBR_WORKERS_CERTIFIED, dtype: float64\n",
      "ND : SOC_TITLE\n",
      "Agricultural Equipment Operators    1690.0\n",
      "Name: NBR_WORKERS_CERTIFIED, dtype: float64\n"
     ]
    }
   ],
   "source": [
    "for x in Unique_list:\n",
    "    Job = df[df['WORKSITE_STATE'] == x].groupby('SOC_TITLE')['NBR_WORKERS_CERTIFIED'].sum().sort_values(ascending=False).head(1)\n",
    "    print(x, ':', Job)"
   ]
  },
  {
   "cell_type": "code",
   "execution_count": 154,
   "metadata": {
    "collapsed": false
   },
   "outputs": [],
   "source": [
    "# Work rate and people highered\n",
    "Top_jobs_by_state = []\n",
    "for x in Unique_list:\n",
    "    Job = df[df['WORKSITE_STATE'] == x].groupby('SOC_TITLE')['NBR_WORKERS_CERTIFIED'].sum().sort_values(ascending=False).head(1)\n",
    "    Job = str(Job)\n",
    "    Job = Job.replace('SOC_TITLE', '')\n",
    "    Job = Job.replace('/n', '')\n",
    "    Job = Job.replace('Name: NBR_WORKERS_CERTIFIED, dtype: float64', '')\n",
    "    \n",
    "    State_jobs = {'state:': x,\n",
    "                 'job': Job}\n",
    "    \n",
    "    Top_jobs_by_state.append(State_jobs)\n"
   ]
  },
  {
   "cell_type": "code",
   "execution_count": 157,
   "metadata": {
    "collapsed": false
   },
   "outputs": [],
   "source": [
    "df_top_jobs = pd.DataFrame.from_dict(Top_jobs_by_state)"
   ]
  },
  {
   "cell_type": "code",
   "execution_count": 159,
   "metadata": {
    "collapsed": false
   },
   "outputs": [
    {
     "data": {
      "text/html": [
       "<div>\n",
       "<table border=\"1\" class=\"dataframe\">\n",
       "  <thead>\n",
       "    <tr style=\"text-align: right;\">\n",
       "      <th></th>\n",
       "      <th>job</th>\n",
       "      <th>state:</th>\n",
       "    </tr>\n",
       "  </thead>\n",
       "  <tbody>\n",
       "    <tr>\n",
       "      <th>0</th>\n",
       "      <td>Series([], )</td>\n",
       "      <td>NaN</td>\n",
       "    </tr>\n",
       "    <tr>\n",
       "      <th>1</th>\n",
       "      <td>\\nDishwashers    14.0\\n</td>\n",
       "      <td>MH</td>\n",
       "    </tr>\n",
       "    <tr>\n",
       "      <th>2</th>\n",
       "      <td>\\nComputer Systems Analysts    25857.0\\n</td>\n",
       "      <td>WI</td>\n",
       "    </tr>\n",
       "    <tr>\n",
       "      <th>3</th>\n",
       "      <td>\\nMaids and Housekeeping Cleaners    2124.0\\n</td>\n",
       "      <td>ME</td>\n",
       "    </tr>\n",
       "    <tr>\n",
       "      <th>4</th>\n",
       "      <td>\\nComputer Systems Analysts    31665.0\\n</td>\n",
       "      <td>MA</td>\n",
       "    </tr>\n",
       "  </tbody>\n",
       "</table>\n",
       "</div>"
      ],
      "text/plain": [
       "                                             job state:\n",
       "0                                   Series([], )    NaN\n",
       "1                        \\nDishwashers    14.0\\n     MH\n",
       "2       \\nComputer Systems Analysts    25857.0\\n     WI\n",
       "3  \\nMaids and Housekeeping Cleaners    2124.0\\n     ME\n",
       "4       \\nComputer Systems Analysts    31665.0\\n     MA"
      ]
     },
     "execution_count": 159,
     "metadata": {},
     "output_type": "execute_result"
    }
   ],
   "source": [
    "df_top_jobs.head()"
   ]
  },
  {
   "cell_type": "code",
   "execution_count": 161,
   "metadata": {
    "collapsed": false
   },
   "outputs": [],
   "source": [
    "df_top_jobs.to_csv('Top_jobs_states.csv')"
   ]
  },
  {
   "cell_type": "markdown",
   "metadata": {},
   "source": [
    "# Creating temporary worker % of Work force "
   ]
  },
  {
   "cell_type": "code",
   "execution_count": 173,
   "metadata": {
    "collapsed": false
   },
   "outputs": [],
   "source": [
    "#Getting certified workers for 2015\n",
    "CERTIFIED_2015 = CERTIFIED_df['2015']"
   ]
  },
  {
   "cell_type": "code",
   "execution_count": 176,
   "metadata": {
    "collapsed": false
   },
   "outputs": [],
   "source": [
    "VISA_Counts_per_State = pd.DataFrame(CERTIFIED_2015.groupby('WORKSITE_STATE')['NBR_WORKERS_CERTIFIED'].sum().sort_values(ascending=False))"
   ]
  },
  {
   "cell_type": "code",
   "execution_count": 181,
   "metadata": {
    "collapsed": false
   },
   "outputs": [],
   "source": [
    "VISA_Counts_per_State_2015 = VISA_Counts_per_State.reset_index()"
   ]
  },
  {
   "cell_type": "code",
   "execution_count": 184,
   "metadata": {
    "collapsed": false
   },
   "outputs": [
    {
     "data": {
      "text/html": [
       "<div>\n",
       "<table border=\"1\" class=\"dataframe\">\n",
       "  <thead>\n",
       "    <tr style=\"text-align: right;\">\n",
       "      <th></th>\n",
       "      <th>WORKSITE_STATE</th>\n",
       "      <th>NBR_WORKERS_CERTIFIED</th>\n",
       "    </tr>\n",
       "  </thead>\n",
       "  <tbody>\n",
       "    <tr>\n",
       "      <th>0</th>\n",
       "      <td>CA</td>\n",
       "      <td>185570.0</td>\n",
       "    </tr>\n",
       "    <tr>\n",
       "      <th>1</th>\n",
       "      <td>TX</td>\n",
       "      <td>102972.0</td>\n",
       "    </tr>\n",
       "    <tr>\n",
       "      <th>2</th>\n",
       "      <td>NY</td>\n",
       "      <td>89532.0</td>\n",
       "    </tr>\n",
       "    <tr>\n",
       "      <th>3</th>\n",
       "      <td>NJ</td>\n",
       "      <td>76416.0</td>\n",
       "    </tr>\n",
       "    <tr>\n",
       "      <th>4</th>\n",
       "      <td>NC</td>\n",
       "      <td>60513.0</td>\n",
       "    </tr>\n",
       "  </tbody>\n",
       "</table>\n",
       "</div>"
      ],
      "text/plain": [
       "  WORKSITE_STATE  NBR_WORKERS_CERTIFIED\n",
       "0             CA               185570.0\n",
       "1             TX               102972.0\n",
       "2             NY                89532.0\n",
       "3             NJ                76416.0\n",
       "4             NC                60513.0"
      ]
     },
     "execution_count": 184,
     "metadata": {},
     "output_type": "execute_result"
    }
   ],
   "source": [
    "VISA_Counts_per_State.head()"
   ]
  },
  {
   "cell_type": "code",
   "execution_count": 182,
   "metadata": {
    "collapsed": true
   },
   "outputs": [],
   "source": [
    "df_workforce = pd.read_csv('data/STATE_WORKING_FORCE_RATE.csv')"
   ]
  },
  {
   "cell_type": "code",
   "execution_count": 183,
   "metadata": {
    "collapsed": false
   },
   "outputs": [
    {
     "data": {
      "text/html": [
       "<div>\n",
       "<table border=\"1\" class=\"dataframe\">\n",
       "  <thead>\n",
       "    <tr style=\"text-align: right;\">\n",
       "      <th></th>\n",
       "      <th>State Full Name</th>\n",
       "      <th>Working Force</th>\n",
       "      <th>State</th>\n",
       "    </tr>\n",
       "  </thead>\n",
       "  <tbody>\n",
       "    <tr>\n",
       "      <th>0</th>\n",
       "      <td>Alaska</td>\n",
       "      <td>364910</td>\n",
       "      <td>AK</td>\n",
       "    </tr>\n",
       "    <tr>\n",
       "      <th>1</th>\n",
       "      <td>Alabama</td>\n",
       "      <td>2157591</td>\n",
       "      <td>AL</td>\n",
       "    </tr>\n",
       "    <tr>\n",
       "      <th>2</th>\n",
       "      <td>Arkansas</td>\n",
       "      <td>1336245</td>\n",
       "      <td>AR</td>\n",
       "    </tr>\n",
       "    <tr>\n",
       "      <th>3</th>\n",
       "      <td>Arizona</td>\n",
       "      <td>3148508</td>\n",
       "      <td>AZ</td>\n",
       "    </tr>\n",
       "    <tr>\n",
       "      <th>4</th>\n",
       "      <td>California</td>\n",
       "      <td>19036611</td>\n",
       "      <td>CA</td>\n",
       "    </tr>\n",
       "  </tbody>\n",
       "</table>\n",
       "</div>"
      ],
      "text/plain": [
       "  State Full Name  Working Force State\n",
       "0          Alaska         364910    AK\n",
       "1         Alabama        2157591    AL\n",
       "2        Arkansas        1336245    AR\n",
       "3         Arizona        3148508    AZ\n",
       "4      California       19036611    CA"
      ]
     },
     "execution_count": 183,
     "metadata": {},
     "output_type": "execute_result"
    }
   ],
   "source": [
    "df_workforce.head()"
   ]
  },
  {
   "cell_type": "code",
   "execution_count": 185,
   "metadata": {
    "collapsed": false
   },
   "outputs": [],
   "source": [
    "#Bringing in number of foreign temporary Workers per state\n",
    "df_mapping_data = VISA_Counts_per_State.merge(df_workforce, left_on = 'WORKSITE_STATE', right_on = 'State')"
   ]
  },
  {
   "cell_type": "code",
   "execution_count": 186,
   "metadata": {
    "collapsed": true
   },
   "outputs": [],
   "source": [
    "df_mapping_data = df_mapping_data.merge(df_top_jobs, left_on = 'WORKSITE_STATE', right_on = 'state:')"
   ]
  },
  {
   "cell_type": "code",
   "execution_count": 188,
   "metadata": {
    "collapsed": false
   },
   "outputs": [],
   "source": [
    "df_mapping_data['TEMP WORKERS PERCENTAGE'] = df_mapping_data['NBR_WORKERS_CERTIFIED'] / df_mapping_data['Working Force'] * 100"
   ]
  },
  {
   "cell_type": "code",
   "execution_count": 192,
   "metadata": {
    "collapsed": false
   },
   "outputs": [
    {
     "data": {
      "text/html": [
       "<div>\n",
       "<table border=\"1\" class=\"dataframe\">\n",
       "  <thead>\n",
       "    <tr style=\"text-align: right;\">\n",
       "      <th></th>\n",
       "      <th>WORKSITE_STATE</th>\n",
       "      <th>NBR_WORKERS_CERTIFIED</th>\n",
       "      <th>State Full Name</th>\n",
       "      <th>Working Force</th>\n",
       "      <th>State</th>\n",
       "      <th>job</th>\n",
       "      <th>state:</th>\n",
       "      <th>TEMP WORKERS PERCENTAGE</th>\n",
       "    </tr>\n",
       "  </thead>\n",
       "  <tbody>\n",
       "    <tr>\n",
       "      <th>3</th>\n",
       "      <td>NJ</td>\n",
       "      <td>76416.0</td>\n",
       "      <td>New Jersey</td>\n",
       "      <td>4552979</td>\n",
       "      <td>NJ</td>\n",
       "      <td>\\nComputer Systems Analysts    81238.0\\n</td>\n",
       "      <td>NJ</td>\n",
       "      <td>1.678374</td>\n",
       "    </tr>\n",
       "    <tr>\n",
       "      <th>7</th>\n",
       "      <td>WA</td>\n",
       "      <td>54037.0</td>\n",
       "      <td>Washington</td>\n",
       "      <td>3545995</td>\n",
       "      <td>WA</td>\n",
       "      <td>\\nComputer Programmers    7016672.0\\n</td>\n",
       "      <td>WA</td>\n",
       "      <td>1.523888</td>\n",
       "    </tr>\n",
       "    <tr>\n",
       "      <th>28</th>\n",
       "      <td>DE</td>\n",
       "      <td>7031.0</td>\n",
       "      <td>Delaware</td>\n",
       "      <td>464051</td>\n",
       "      <td>DE</td>\n",
       "      <td>\\nComputer Systems Analysts    9567.0\\n</td>\n",
       "      <td>DE</td>\n",
       "      <td>1.515135</td>\n",
       "    </tr>\n",
       "    <tr>\n",
       "      <th>4</th>\n",
       "      <td>NC</td>\n",
       "      <td>60513.0</td>\n",
       "      <td>North Carolina</td>\n",
       "      <td>4827901</td>\n",
       "      <td>NC</td>\n",
       "      <td>\\nFarmworkers and Laborers, Crop, Nursery, and...</td>\n",
       "      <td>NC</td>\n",
       "      <td>1.253402</td>\n",
       "    </tr>\n",
       "    <tr>\n",
       "      <th>10</th>\n",
       "      <td>MA</td>\n",
       "      <td>41461.0</td>\n",
       "      <td>Massachusetts</td>\n",
       "      <td>3560302</td>\n",
       "      <td>MA</td>\n",
       "      <td>\\nComputer Systems Analysts    31665.0\\n</td>\n",
       "      <td>MA</td>\n",
       "      <td>1.164536</td>\n",
       "    </tr>\n",
       "    <tr>\n",
       "      <th>14</th>\n",
       "      <td>CT</td>\n",
       "      <td>21359.0</td>\n",
       "      <td>Connecticut</td>\n",
       "      <td>1895146</td>\n",
       "      <td>CT</td>\n",
       "      <td>\\nComputer Software Engineers, Applications   ...</td>\n",
       "      <td>CT</td>\n",
       "      <td>1.127037</td>\n",
       "    </tr>\n",
       "    <tr>\n",
       "      <th>8</th>\n",
       "      <td>GA</td>\n",
       "      <td>52616.0</td>\n",
       "      <td>Georgia</td>\n",
       "      <td>4798766</td>\n",
       "      <td>GA</td>\n",
       "      <td>\\nComputer Systems Analysts    42396.0\\n</td>\n",
       "      <td>GA</td>\n",
       "      <td>1.096449</td>\n",
       "    </tr>\n",
       "    <tr>\n",
       "      <th>0</th>\n",
       "      <td>CA</td>\n",
       "      <td>185570.0</td>\n",
       "      <td>California</td>\n",
       "      <td>19036611</td>\n",
       "      <td>CA</td>\n",
       "      <td>\\nComputer Systems Analysts    152163.0\\n</td>\n",
       "      <td>CA</td>\n",
       "      <td>0.974806</td>\n",
       "    </tr>\n",
       "    <tr>\n",
       "      <th>5</th>\n",
       "      <td>PA</td>\n",
       "      <td>59740.0</td>\n",
       "      <td>Pennsylvania</td>\n",
       "      <td>6462242</td>\n",
       "      <td>PA</td>\n",
       "      <td>\\nAdministrative Services Managers    793227.0\\n</td>\n",
       "      <td>PA</td>\n",
       "      <td>0.924447</td>\n",
       "    </tr>\n",
       "    <tr>\n",
       "      <th>2</th>\n",
       "      <td>NY</td>\n",
       "      <td>89532.0</td>\n",
       "      <td>New York</td>\n",
       "      <td>9709479</td>\n",
       "      <td>NY</td>\n",
       "      <td>\\nDesigners, All Other    2032230.0\\n</td>\n",
       "      <td>NY</td>\n",
       "      <td>0.922109</td>\n",
       "    </tr>\n",
       "    <tr>\n",
       "      <th>6</th>\n",
       "      <td>IL</td>\n",
       "      <td>59255.0</td>\n",
       "      <td>Illinois</td>\n",
       "      <td>6520791</td>\n",
       "      <td>IL</td>\n",
       "      <td>\\nComputer Systems Analysts    59833.0\\n</td>\n",
       "      <td>IL</td>\n",
       "      <td>0.908709</td>\n",
       "    </tr>\n",
       "    <tr>\n",
       "      <th>11</th>\n",
       "      <td>VA</td>\n",
       "      <td>35556.0</td>\n",
       "      <td>Virginia</td>\n",
       "      <td>4282734</td>\n",
       "      <td>VA</td>\n",
       "      <td>\\nComputer Systems Analysts    30634.0\\n</td>\n",
       "      <td>VA</td>\n",
       "      <td>0.830217</td>\n",
       "    </tr>\n",
       "    <tr>\n",
       "      <th>1</th>\n",
       "      <td>TX</td>\n",
       "      <td>102972.0</td>\n",
       "      <td>Texas</td>\n",
       "      <td>13104878</td>\n",
       "      <td>TX</td>\n",
       "      <td>\\nComputer Systems Analysts    1214842.0\\n</td>\n",
       "      <td>TX</td>\n",
       "      <td>0.785753</td>\n",
       "    </tr>\n",
       "    <tr>\n",
       "      <th>34</th>\n",
       "      <td>RI</td>\n",
       "      <td>4255.0</td>\n",
       "      <td>Rhode Island</td>\n",
       "      <td>552912</td>\n",
       "      <td>RI</td>\n",
       "      <td>\\nComputer Systems Analysts    5603.0\\n</td>\n",
       "      <td>RI</td>\n",
       "      <td>0.769562</td>\n",
       "    </tr>\n",
       "    <tr>\n",
       "      <th>41</th>\n",
       "      <td>ND</td>\n",
       "      <td>2964.0</td>\n",
       "      <td>North Dakota</td>\n",
       "      <td>416074</td>\n",
       "      <td>ND</td>\n",
       "      <td>\\nAgricultural Equipment Operators    1690.0\\n</td>\n",
       "      <td>ND</td>\n",
       "      <td>0.712373</td>\n",
       "    </tr>\n",
       "    <tr>\n",
       "      <th>25</th>\n",
       "      <td>AR</td>\n",
       "      <td>9257.0</td>\n",
       "      <td>Arkansas</td>\n",
       "      <td>1336245</td>\n",
       "      <td>AR</td>\n",
       "      <td>\\nComputer Systems Analysts    8987.0\\n</td>\n",
       "      <td>AR</td>\n",
       "      <td>0.692762</td>\n",
       "    </tr>\n",
       "    <tr>\n",
       "      <th>15</th>\n",
       "      <td>MN</td>\n",
       "      <td>20670.0</td>\n",
       "      <td>Minnesota</td>\n",
       "      <td>3019576</td>\n",
       "      <td>MN</td>\n",
       "      <td>\\nComputer Systems Analysts    23170.0\\n</td>\n",
       "      <td>MN</td>\n",
       "      <td>0.684533</td>\n",
       "    </tr>\n",
       "    <tr>\n",
       "      <th>22</th>\n",
       "      <td>KY</td>\n",
       "      <td>13191.0</td>\n",
       "      <td>Kentucky</td>\n",
       "      <td>1967090</td>\n",
       "      <td>KY</td>\n",
       "      <td>\\nFarmworkers and Laborers, Crop, Nursery, and...</td>\n",
       "      <td>KY</td>\n",
       "      <td>0.670584</td>\n",
       "    </tr>\n",
       "    <tr>\n",
       "      <th>13</th>\n",
       "      <td>MI</td>\n",
       "      <td>29217.0</td>\n",
       "      <td>Michigan</td>\n",
       "      <td>4803409</td>\n",
       "      <td>MI</td>\n",
       "      <td>\\nComputer Systems Analysts    26859.0\\n</td>\n",
       "      <td>MI</td>\n",
       "      <td>0.608256</td>\n",
       "    </tr>\n",
       "    <tr>\n",
       "      <th>18</th>\n",
       "      <td>CO</td>\n",
       "      <td>16693.0</td>\n",
       "      <td>Colorado</td>\n",
       "      <td>2824897</td>\n",
       "      <td>CO</td>\n",
       "      <td>\\nComputer Systems Analysts    15354.0\\n</td>\n",
       "      <td>CO</td>\n",
       "      <td>0.590924</td>\n",
       "    </tr>\n",
       "    <tr>\n",
       "      <th>16</th>\n",
       "      <td>AZ</td>\n",
       "      <td>18523.0</td>\n",
       "      <td>Arizona</td>\n",
       "      <td>3148508</td>\n",
       "      <td>AZ</td>\n",
       "      <td>\\nComputer Systems Analysts    21042.0\\n</td>\n",
       "      <td>AZ</td>\n",
       "      <td>0.588310</td>\n",
       "    </tr>\n",
       "    <tr>\n",
       "      <th>24</th>\n",
       "      <td>LA</td>\n",
       "      <td>12299.0</td>\n",
       "      <td>Louisiana</td>\n",
       "      <td>2179116</td>\n",
       "      <td>LA</td>\n",
       "      <td>\\nFarmworkers and Laborers, Crop, Nursery, and...</td>\n",
       "      <td>LA</td>\n",
       "      <td>0.564403</td>\n",
       "    </tr>\n",
       "    <tr>\n",
       "      <th>42</th>\n",
       "      <td>SD</td>\n",
       "      <td>2533.0</td>\n",
       "      <td>South Dakota</td>\n",
       "      <td>453787</td>\n",
       "      <td>SD</td>\n",
       "      <td>\\nComputer Systems Analysts    1564.0\\n</td>\n",
       "      <td>SD</td>\n",
       "      <td>0.558191</td>\n",
       "    </tr>\n",
       "    <tr>\n",
       "      <th>17</th>\n",
       "      <td>MD</td>\n",
       "      <td>17439.0</td>\n",
       "      <td>Maryland</td>\n",
       "      <td>3155474</td>\n",
       "      <td>MD</td>\n",
       "      <td>\\nComputer Systems Analysts    16207.0\\n</td>\n",
       "      <td>MD</td>\n",
       "      <td>0.552659</td>\n",
       "    </tr>\n",
       "    <tr>\n",
       "      <th>12</th>\n",
       "      <td>OH</td>\n",
       "      <td>30881.0</td>\n",
       "      <td>Ohio</td>\n",
       "      <td>5736717</td>\n",
       "      <td>OH</td>\n",
       "      <td>\\nComputer Systems Analysts    41178.0\\n</td>\n",
       "      <td>OH</td>\n",
       "      <td>0.538304</td>\n",
       "    </tr>\n",
       "    <tr>\n",
       "      <th>19</th>\n",
       "      <td>TN</td>\n",
       "      <td>16442.0</td>\n",
       "      <td>Tennessee</td>\n",
       "      <td>3079575</td>\n",
       "      <td>TN</td>\n",
       "      <td>\\nComputer Systems Analysts    18427.0\\n</td>\n",
       "      <td>TN</td>\n",
       "      <td>0.533905</td>\n",
       "    </tr>\n",
       "    <tr>\n",
       "      <th>37</th>\n",
       "      <td>NH</td>\n",
       "      <td>3773.0</td>\n",
       "      <td>New Hampshire</td>\n",
       "      <td>737911</td>\n",
       "      <td>NH</td>\n",
       "      <td>\\nComputer Programmers    4714.0\\n</td>\n",
       "      <td>NH</td>\n",
       "      <td>0.511308</td>\n",
       "    </tr>\n",
       "    <tr>\n",
       "      <th>36</th>\n",
       "      <td>ID</td>\n",
       "      <td>3978.0</td>\n",
       "      <td>Idaho</td>\n",
       "      <td>797300</td>\n",
       "      <td>ID</td>\n",
       "      <td>\\nFarmworkers and Laborers, Crop, Nursery, and...</td>\n",
       "      <td>ID</td>\n",
       "      <td>0.498934</td>\n",
       "    </tr>\n",
       "    <tr>\n",
       "      <th>20</th>\n",
       "      <td>WI</td>\n",
       "      <td>15169.0</td>\n",
       "      <td>Wisconsin</td>\n",
       "      <td>3088630</td>\n",
       "      <td>WI</td>\n",
       "      <td>\\nComputer Systems Analysts    25857.0\\n</td>\n",
       "      <td>WI</td>\n",
       "      <td>0.491124</td>\n",
       "    </tr>\n",
       "    <tr>\n",
       "      <th>9</th>\n",
       "      <td>FL</td>\n",
       "      <td>47027.0</td>\n",
       "      <td>Florida</td>\n",
       "      <td>9756834</td>\n",
       "      <td>FL</td>\n",
       "      <td>\\nComputer Systems Analysts    35782.0\\n</td>\n",
       "      <td>FL</td>\n",
       "      <td>0.481990</td>\n",
       "    </tr>\n",
       "    <tr>\n",
       "      <th>30</th>\n",
       "      <td>MS</td>\n",
       "      <td>6053.0</td>\n",
       "      <td>Mississippi</td>\n",
       "      <td>1278144</td>\n",
       "      <td>MS</td>\n",
       "      <td>\\nForest and Conservation Workers    8081.0\\n</td>\n",
       "      <td>MS</td>\n",
       "      <td>0.473577</td>\n",
       "    </tr>\n",
       "    <tr>\n",
       "      <th>43</th>\n",
       "      <td>AK</td>\n",
       "      <td>1707.0</td>\n",
       "      <td>Alaska</td>\n",
       "      <td>364910</td>\n",
       "      <td>AK</td>\n",
       "      <td>\\nCutters and Trimmers, Hand    959.0\\n</td>\n",
       "      <td>AK</td>\n",
       "      <td>0.467787</td>\n",
       "    </tr>\n",
       "    <tr>\n",
       "      <th>40</th>\n",
       "      <td>ME</td>\n",
       "      <td>3027.0</td>\n",
       "      <td>Maine</td>\n",
       "      <td>678525</td>\n",
       "      <td>ME</td>\n",
       "      <td>\\nMaids and Housekeeping Cleaners    2124.0\\n</td>\n",
       "      <td>ME</td>\n",
       "      <td>0.446115</td>\n",
       "    </tr>\n",
       "    <tr>\n",
       "      <th>26</th>\n",
       "      <td>OR</td>\n",
       "      <td>8674.0</td>\n",
       "      <td>Oregon</td>\n",
       "      <td>1955649</td>\n",
       "      <td>OR</td>\n",
       "      <td>\\nComputer Systems Analysts    9364.0\\n</td>\n",
       "      <td>OR</td>\n",
       "      <td>0.443536</td>\n",
       "    </tr>\n",
       "    <tr>\n",
       "      <th>21</th>\n",
       "      <td>MO</td>\n",
       "      <td>13198.0</td>\n",
       "      <td>Missouri</td>\n",
       "      <td>3140540</td>\n",
       "      <td>MO</td>\n",
       "      <td>\\nComputer Systems Analysts    14058.0\\n</td>\n",
       "      <td>MO</td>\n",
       "      <td>0.420246</td>\n",
       "    </tr>\n",
       "    <tr>\n",
       "      <th>31</th>\n",
       "      <td>UT</td>\n",
       "      <td>5972.0</td>\n",
       "      <td>Utah</td>\n",
       "      <td>1462672</td>\n",
       "      <td>UT</td>\n",
       "      <td>\\nComputer Systems Analysts    5303.0\\n</td>\n",
       "      <td>UT</td>\n",
       "      <td>0.408294</td>\n",
       "    </tr>\n",
       "    <tr>\n",
       "      <th>27</th>\n",
       "      <td>SC</td>\n",
       "      <td>8599.0</td>\n",
       "      <td>South Carolina</td>\n",
       "      <td>2274821</td>\n",
       "      <td>SC</td>\n",
       "      <td>\\nFarmworkers and Laborers, Crop, Nursery, and...</td>\n",
       "      <td>SC</td>\n",
       "      <td>0.378008</td>\n",
       "    </tr>\n",
       "    <tr>\n",
       "      <th>23</th>\n",
       "      <td>IN</td>\n",
       "      <td>12422.0</td>\n",
       "      <td>Indiana</td>\n",
       "      <td>3286281</td>\n",
       "      <td>IN</td>\n",
       "      <td>\\nComputer Systems Analysts    9970.0\\n</td>\n",
       "      <td>IN</td>\n",
       "      <td>0.377996</td>\n",
       "    </tr>\n",
       "    <tr>\n",
       "      <th>29</th>\n",
       "      <td>IA</td>\n",
       "      <td>6344.0</td>\n",
       "      <td>Iowa</td>\n",
       "      <td>1699388</td>\n",
       "      <td>IA</td>\n",
       "      <td>\\nComputer Systems Analysts    7724.0\\n</td>\n",
       "      <td>IA</td>\n",
       "      <td>0.373311</td>\n",
       "    </tr>\n",
       "    <tr>\n",
       "      <th>38</th>\n",
       "      <td>NE</td>\n",
       "      <td>3733.0</td>\n",
       "      <td>Nebraska</td>\n",
       "      <td>1015079</td>\n",
       "      <td>NE</td>\n",
       "      <td>\\nComputer Systems Analysts    5451.0\\n</td>\n",
       "      <td>NE</td>\n",
       "      <td>0.367755</td>\n",
       "    </tr>\n",
       "    <tr>\n",
       "      <th>32</th>\n",
       "      <td>KS</td>\n",
       "      <td>5328.0</td>\n",
       "      <td>Kansas</td>\n",
       "      <td>1491922</td>\n",
       "      <td>KS</td>\n",
       "      <td>\\nComputer Systems Analysts    6847.0\\n</td>\n",
       "      <td>KS</td>\n",
       "      <td>0.357123</td>\n",
       "    </tr>\n",
       "    <tr>\n",
       "      <th>33</th>\n",
       "      <td>NV</td>\n",
       "      <td>4693.0</td>\n",
       "      <td>Nevada</td>\n",
       "      <td>1425995</td>\n",
       "      <td>NV</td>\n",
       "      <td>\\nFarmworkers and Laborers, Crop, Nursery, and...</td>\n",
       "      <td>NV</td>\n",
       "      <td>0.329104</td>\n",
       "    </tr>\n",
       "    <tr>\n",
       "      <th>46</th>\n",
       "      <td>VT</td>\n",
       "      <td>1103.0</td>\n",
       "      <td>Vermont</td>\n",
       "      <td>342838</td>\n",
       "      <td>VT</td>\n",
       "      <td>\\nComputer Systems Analysts    1192.0\\n</td>\n",
       "      <td>VT</td>\n",
       "      <td>0.321726</td>\n",
       "    </tr>\n",
       "    <tr>\n",
       "      <th>35</th>\n",
       "      <td>OK</td>\n",
       "      <td>4219.0</td>\n",
       "      <td>Oklahoma</td>\n",
       "      <td>1846721</td>\n",
       "      <td>OK</td>\n",
       "      <td>\\nLandscaping and Groundskeeping Workers    44...</td>\n",
       "      <td>OK</td>\n",
       "      <td>0.228459</td>\n",
       "    </tr>\n",
       "    <tr>\n",
       "      <th>48</th>\n",
       "      <td>WY</td>\n",
       "      <td>674.0</td>\n",
       "      <td>Wyoming</td>\n",
       "      <td>305957</td>\n",
       "      <td>WY</td>\n",
       "      <td>\\nLandscaping and Groundskeeping Workers    79...</td>\n",
       "      <td>WY</td>\n",
       "      <td>0.220292</td>\n",
       "    </tr>\n",
       "    <tr>\n",
       "      <th>45</th>\n",
       "      <td>MT</td>\n",
       "      <td>1137.0</td>\n",
       "      <td>Montana</td>\n",
       "      <td>523271</td>\n",
       "      <td>MT</td>\n",
       "      <td>\\nSoftware Developers, Applications    1252.0\\n</td>\n",
       "      <td>MT</td>\n",
       "      <td>0.217287</td>\n",
       "    </tr>\n",
       "    <tr>\n",
       "      <th>44</th>\n",
       "      <td>NM</td>\n",
       "      <td>1556.0</td>\n",
       "      <td>New Mexico</td>\n",
       "      <td>916941</td>\n",
       "      <td>NM</td>\n",
       "      <td>\\nComputer Systems Analysts    2370.0\\n</td>\n",
       "      <td>NM</td>\n",
       "      <td>0.169695</td>\n",
       "    </tr>\n",
       "    <tr>\n",
       "      <th>39</th>\n",
       "      <td>AL</td>\n",
       "      <td>3338.0</td>\n",
       "      <td>Alabama</td>\n",
       "      <td>2157591</td>\n",
       "      <td>AL</td>\n",
       "      <td>\\nForest and Conservation Workers    2158.0\\n</td>\n",
       "      <td>AL</td>\n",
       "      <td>0.154710</td>\n",
       "    </tr>\n",
       "    <tr>\n",
       "      <th>47</th>\n",
       "      <td>WV</td>\n",
       "      <td>963.0</td>\n",
       "      <td>West Virginia</td>\n",
       "      <td>790471</td>\n",
       "      <td>WV</td>\n",
       "      <td>\\nComputer Systems Analysts    592.0\\n</td>\n",
       "      <td>WV</td>\n",
       "      <td>0.121826</td>\n",
       "    </tr>\n",
       "    <tr>\n",
       "      <th>49</th>\n",
       "      <td>HI</td>\n",
       "      <td>639.0</td>\n",
       "      <td>Hawaii</td>\n",
       "      <td>675441</td>\n",
       "      <td>HI</td>\n",
       "      <td>\\nComputer Programmers    542.0\\n</td>\n",
       "      <td>HI</td>\n",
       "      <td>0.094605</td>\n",
       "    </tr>\n",
       "  </tbody>\n",
       "</table>\n",
       "</div>"
      ],
      "text/plain": [
       "   WORKSITE_STATE  NBR_WORKERS_CERTIFIED State Full Name  Working Force State  \\\n",
       "3              NJ                76416.0      New Jersey        4552979    NJ   \n",
       "7              WA                54037.0      Washington        3545995    WA   \n",
       "28             DE                 7031.0        Delaware         464051    DE   \n",
       "4              NC                60513.0  North Carolina        4827901    NC   \n",
       "10             MA                41461.0   Massachusetts        3560302    MA   \n",
       "14             CT                21359.0     Connecticut        1895146    CT   \n",
       "8              GA                52616.0         Georgia        4798766    GA   \n",
       "0              CA               185570.0      California       19036611    CA   \n",
       "5              PA                59740.0    Pennsylvania        6462242    PA   \n",
       "2              NY                89532.0        New York        9709479    NY   \n",
       "6              IL                59255.0        Illinois        6520791    IL   \n",
       "11             VA                35556.0        Virginia        4282734    VA   \n",
       "1              TX               102972.0           Texas       13104878    TX   \n",
       "34             RI                 4255.0    Rhode Island         552912    RI   \n",
       "41             ND                 2964.0    North Dakota         416074    ND   \n",
       "25             AR                 9257.0        Arkansas        1336245    AR   \n",
       "15             MN                20670.0       Minnesota        3019576    MN   \n",
       "22             KY                13191.0        Kentucky        1967090    KY   \n",
       "13             MI                29217.0        Michigan        4803409    MI   \n",
       "18             CO                16693.0        Colorado        2824897    CO   \n",
       "16             AZ                18523.0         Arizona        3148508    AZ   \n",
       "24             LA                12299.0       Louisiana        2179116    LA   \n",
       "42             SD                 2533.0    South Dakota         453787    SD   \n",
       "17             MD                17439.0        Maryland        3155474    MD   \n",
       "12             OH                30881.0            Ohio        5736717    OH   \n",
       "19             TN                16442.0       Tennessee        3079575    TN   \n",
       "37             NH                 3773.0   New Hampshire         737911    NH   \n",
       "36             ID                 3978.0           Idaho         797300    ID   \n",
       "20             WI                15169.0       Wisconsin        3088630    WI   \n",
       "9              FL                47027.0         Florida        9756834    FL   \n",
       "30             MS                 6053.0     Mississippi        1278144    MS   \n",
       "43             AK                 1707.0          Alaska         364910    AK   \n",
       "40             ME                 3027.0           Maine         678525    ME   \n",
       "26             OR                 8674.0          Oregon        1955649    OR   \n",
       "21             MO                13198.0        Missouri        3140540    MO   \n",
       "31             UT                 5972.0            Utah        1462672    UT   \n",
       "27             SC                 8599.0  South Carolina        2274821    SC   \n",
       "23             IN                12422.0         Indiana        3286281    IN   \n",
       "29             IA                 6344.0            Iowa        1699388    IA   \n",
       "38             NE                 3733.0        Nebraska        1015079    NE   \n",
       "32             KS                 5328.0          Kansas        1491922    KS   \n",
       "33             NV                 4693.0          Nevada        1425995    NV   \n",
       "46             VT                 1103.0         Vermont         342838    VT   \n",
       "35             OK                 4219.0        Oklahoma        1846721    OK   \n",
       "48             WY                  674.0         Wyoming         305957    WY   \n",
       "45             MT                 1137.0         Montana         523271    MT   \n",
       "44             NM                 1556.0      New Mexico         916941    NM   \n",
       "39             AL                 3338.0         Alabama        2157591    AL   \n",
       "47             WV                  963.0   West Virginia         790471    WV   \n",
       "49             HI                  639.0          Hawaii         675441    HI   \n",
       "\n",
       "                                                  job state:  \\\n",
       "3            \\nComputer Systems Analysts    81238.0\\n     NJ   \n",
       "7               \\nComputer Programmers    7016672.0\\n     WA   \n",
       "28            \\nComputer Systems Analysts    9567.0\\n     DE   \n",
       "4   \\nFarmworkers and Laborers, Crop, Nursery, and...     NC   \n",
       "10           \\nComputer Systems Analysts    31665.0\\n     MA   \n",
       "14  \\nComputer Software Engineers, Applications   ...     CT   \n",
       "8            \\nComputer Systems Analysts    42396.0\\n     GA   \n",
       "0           \\nComputer Systems Analysts    152163.0\\n     CA   \n",
       "5    \\nAdministrative Services Managers    793227.0\\n     PA   \n",
       "2               \\nDesigners, All Other    2032230.0\\n     NY   \n",
       "6            \\nComputer Systems Analysts    59833.0\\n     IL   \n",
       "11           \\nComputer Systems Analysts    30634.0\\n     VA   \n",
       "1          \\nComputer Systems Analysts    1214842.0\\n     TX   \n",
       "34            \\nComputer Systems Analysts    5603.0\\n     RI   \n",
       "41     \\nAgricultural Equipment Operators    1690.0\\n     ND   \n",
       "25            \\nComputer Systems Analysts    8987.0\\n     AR   \n",
       "15           \\nComputer Systems Analysts    23170.0\\n     MN   \n",
       "22  \\nFarmworkers and Laborers, Crop, Nursery, and...     KY   \n",
       "13           \\nComputer Systems Analysts    26859.0\\n     MI   \n",
       "18           \\nComputer Systems Analysts    15354.0\\n     CO   \n",
       "16           \\nComputer Systems Analysts    21042.0\\n     AZ   \n",
       "24  \\nFarmworkers and Laborers, Crop, Nursery, and...     LA   \n",
       "42            \\nComputer Systems Analysts    1564.0\\n     SD   \n",
       "17           \\nComputer Systems Analysts    16207.0\\n     MD   \n",
       "12           \\nComputer Systems Analysts    41178.0\\n     OH   \n",
       "19           \\nComputer Systems Analysts    18427.0\\n     TN   \n",
       "37                 \\nComputer Programmers    4714.0\\n     NH   \n",
       "36  \\nFarmworkers and Laborers, Crop, Nursery, and...     ID   \n",
       "20           \\nComputer Systems Analysts    25857.0\\n     WI   \n",
       "9            \\nComputer Systems Analysts    35782.0\\n     FL   \n",
       "30      \\nForest and Conservation Workers    8081.0\\n     MS   \n",
       "43            \\nCutters and Trimmers, Hand    959.0\\n     AK   \n",
       "40      \\nMaids and Housekeeping Cleaners    2124.0\\n     ME   \n",
       "26            \\nComputer Systems Analysts    9364.0\\n     OR   \n",
       "21           \\nComputer Systems Analysts    14058.0\\n     MO   \n",
       "31            \\nComputer Systems Analysts    5303.0\\n     UT   \n",
       "27  \\nFarmworkers and Laborers, Crop, Nursery, and...     SC   \n",
       "23            \\nComputer Systems Analysts    9970.0\\n     IN   \n",
       "29            \\nComputer Systems Analysts    7724.0\\n     IA   \n",
       "38            \\nComputer Systems Analysts    5451.0\\n     NE   \n",
       "32            \\nComputer Systems Analysts    6847.0\\n     KS   \n",
       "33  \\nFarmworkers and Laborers, Crop, Nursery, and...     NV   \n",
       "46            \\nComputer Systems Analysts    1192.0\\n     VT   \n",
       "35  \\nLandscaping and Groundskeeping Workers    44...     OK   \n",
       "48  \\nLandscaping and Groundskeeping Workers    79...     WY   \n",
       "45    \\nSoftware Developers, Applications    1252.0\\n     MT   \n",
       "44            \\nComputer Systems Analysts    2370.0\\n     NM   \n",
       "39      \\nForest and Conservation Workers    2158.0\\n     AL   \n",
       "47             \\nComputer Systems Analysts    592.0\\n     WV   \n",
       "49                  \\nComputer Programmers    542.0\\n     HI   \n",
       "\n",
       "    TEMP WORKERS PERCENTAGE  \n",
       "3                  1.678374  \n",
       "7                  1.523888  \n",
       "28                 1.515135  \n",
       "4                  1.253402  \n",
       "10                 1.164536  \n",
       "14                 1.127037  \n",
       "8                  1.096449  \n",
       "0                  0.974806  \n",
       "5                  0.924447  \n",
       "2                  0.922109  \n",
       "6                  0.908709  \n",
       "11                 0.830217  \n",
       "1                  0.785753  \n",
       "34                 0.769562  \n",
       "41                 0.712373  \n",
       "25                 0.692762  \n",
       "15                 0.684533  \n",
       "22                 0.670584  \n",
       "13                 0.608256  \n",
       "18                 0.590924  \n",
       "16                 0.588310  \n",
       "24                 0.564403  \n",
       "42                 0.558191  \n",
       "17                 0.552659  \n",
       "12                 0.538304  \n",
       "19                 0.533905  \n",
       "37                 0.511308  \n",
       "36                 0.498934  \n",
       "20                 0.491124  \n",
       "9                  0.481990  \n",
       "30                 0.473577  \n",
       "43                 0.467787  \n",
       "40                 0.446115  \n",
       "26                 0.443536  \n",
       "21                 0.420246  \n",
       "31                 0.408294  \n",
       "27                 0.378008  \n",
       "23                 0.377996  \n",
       "29                 0.373311  \n",
       "38                 0.367755  \n",
       "32                 0.357123  \n",
       "33                 0.329104  \n",
       "46                 0.321726  \n",
       "35                 0.228459  \n",
       "48                 0.220292  \n",
       "45                 0.217287  \n",
       "44                 0.169695  \n",
       "39                 0.154710  \n",
       "47                 0.121826  \n",
       "49                 0.094605  "
      ]
     },
     "execution_count": 192,
     "metadata": {},
     "output_type": "execute_result"
    }
   ],
   "source": [
    "df_mapping_data.sort_values('TEMP WORKERS PERCENTAGE', ascending=False)"
   ]
  },
  {
   "cell_type": "code",
   "execution_count": 193,
   "metadata": {
    "collapsed": true
   },
   "outputs": [],
   "source": [
    "del df_mapping_data['State']"
   ]
  },
  {
   "cell_type": "code",
   "execution_count": 194,
   "metadata": {
    "collapsed": true
   },
   "outputs": [],
   "source": [
    "del df_mapping_data['state:']"
   ]
  },
  {
   "cell_type": "code",
   "execution_count": 196,
   "metadata": {
    "collapsed": false
   },
   "outputs": [],
   "source": [
    "df_mapping_data.to_csv('VISA_DATA_BY_STATE_to_be_mapped.csv')"
   ]
  },
  {
   "cell_type": "code",
   "execution_count": 2,
   "metadata": {
    "collapsed": true
   },
   "outputs": [],
   "source": [
    "df_mapping_data = pd.read_csv('data/VISA_DATA_BY_STATE_to_be_mapped.csv')"
   ]
  },
  {
   "cell_type": "code",
   "execution_count": 30,
   "metadata": {
    "collapsed": false
   },
   "outputs": [
    {
     "data": {
      "image/png": "[encoded data removed]",
      "text/plain": [
       "<matplotlib.figure.Figure at 0x11536eb00>"
      ]
     },
     "metadata": {},
     "output_type": "display_data"
    }
   ],
   "source": [
    "df_mapping_data['TEMP WORKERS PERCENTAGE'].hist(bins=[0, 0.25, .5, .8, 1.2, 1.7], histtype = 'stepfilled')\n",
    "#r = 0, 0.25, .5, .8, 1.2, 1.7\n",
    "#histfit(r)\n",
    "#Using this to help create a waving line:\n",
    "#http://matplotlib.org/api/pyplot_api.html#matplotlib.pyplot.hist\n",
    "plt.savefig('HIST_DISTRIBUTION.pdf', transparent=True, bbox_inches='tight')"
   ]
  },
  {
   "cell_type": "code",
   "execution_count": 15,
   "metadata": {
    "collapsed": false
   },
   "outputs": [
    {
     "data": {
      "text/plain": [
       "count    50.000000\n",
       "mean      0.622489\n",
       "std       0.367315\n",
       "min       0.094605\n",
       "25%       0.377999\n",
       "50%       0.536105\n",
       "75%       0.781705\n",
       "max       1.678374\n",
       "Name: TEMP WORKERS PERCENTAGE, dtype: float64"
      ]
     },
     "execution_count": 15,
     "metadata": {},
     "output_type": "execute_result"
    }
   ],
   "source": [
    "df_mapping_data['TEMP WORKERS PERCENTAGE'].describe()"
   ]
  },
  {
   "cell_type": "code",
   "execution_count": 16,
   "metadata": {
    "collapsed": true
   },
   "outputs": [],
   "source": [
    "import numpy as np\n",
    "import matplotlib.mlab as mlab\n",
    "import matplotlib.pyplot as plt"
   ]
  },
  {
   "cell_type": "code",
   "execution_count": 26,
   "metadata": {
    "collapsed": true
   },
   "outputs": [],
   "source": [
    "mu = 0.622489  # mean of distribution\n",
    "sigma = 0.367315  # standard deviation of distribution\n",
    "x = mu + sigma * df_mapping_data['TEMP WORKERS PERCENTAGE']\n",
    "num_bins = 5"
   ]
  },
  {
   "cell_type": "code",
   "execution_count": 27,
   "metadata": {
    "collapsed": false
   },
   "outputs": [
    {
     "data": {
      "image/png": "[encoded data removed]",
      "text/plain": [
       "<matplotlib.figure.Figure at 0x114a687f0>"
      ]
     },
     "metadata": {},
     "output_type": "display_data"
    }
   ],
   "source": [
    "n, bins, patches = plt.hist(x, num_bins, normed=1, facecolor='green', alpha=0.5)\n",
    "y = mlab.normpdf(bins, mu, sigma)\n",
    "plt.plot(bins, y, 'r--')\n",
    "plt.subplots_adjust(left=0.15)\n",
    "plt.show()"
   ]
  },
  {
   "cell_type": "code",
   "execution_count": 19,
   "metadata": {
    "collapsed": false
   },
   "outputs": [
    {
     "data": {
      "text/plain": [
       "[<matplotlib.lines.Line2D at 0x11500cb70>]"
      ]
     },
     "execution_count": 19,
     "metadata": {},
     "output_type": "execute_result"
    },
    {
     "data": {
      "image/png": "[encoded data removed]",
      "text/plain": [
       "<matplotlib.figure.Figure at 0x114f5e0b8>"
      ]
     },
     "metadata": {},
     "output_type": "display_data"
    }
   ],
   "source": []
  },
  {
   "cell_type": "code",
   "execution_count": null,
   "metadata": {
    "collapsed": true
   },
   "outputs": [],
   "source": []
  },
  {
   "cell_type": "code",
   "execution_count": null,
   "metadata": {
    "collapsed": true
   },
   "outputs": [],
   "source": []
  },
  {
   "cell_type": "markdown",
   "metadata": {
    "collapsed": true
   },
   "source": [
    "# Looking into the VISA classes"
   ]
  },
  {
   "cell_type": "code",
   "execution_count": 34,
   "metadata": {
    "collapsed": false
   },
   "outputs": [
    {
     "name": "stdout",
     "output_type": "stream",
     "text": [
      "<class 'pandas.core.frame.DataFrame'>\n",
      "DatetimeIndex: 3150083 entries, 2008-10-01 00:00:00 to 2009-09-28 17:15:08\n",
      "Data columns (total 14 columns):\n",
      "DECISION_DATE            datetime64[ns]\n",
      "BASIC_RATE_OF_PAY        object\n",
      "BASIC_UNIT_OF_PAY        object\n",
      "CASE_NUMBER              object\n",
      "CASE_STATUS              object\n",
      "DECISION_DATE.1          object\n",
      "EMPLOYER_NAME            object\n",
      "EMPLOYER_STATE           object\n",
      "JOB_TITLE                object\n",
      "NBR_WORKERS_CERTIFIED    object\n",
      "PREVAILING_WAGE          object\n",
      "SOC_TITLE                object\n",
      "VISA_CLASS               object\n",
      "WORKSITE_STATE           object\n",
      "dtypes: datetime64[ns](1), object(13)\n",
      "memory usage: 360.5+ MB\n"
     ]
    }
   ],
   "source": [
    "df.info()"
   ]
  },
  {
   "cell_type": "code",
   "execution_count": 33,
   "metadata": {
    "collapsed": false
   },
   "outputs": [],
   "source": [
    "df_H1B = df[df['VISA_CLASS'] == 'H-1B']"
   ]
  },
  {
   "cell_type": "code",
   "execution_count": 39,
   "metadata": {
    "collapsed": false
   },
   "outputs": [
    {
     "data": {
      "text/plain": [
       "CERTIFIED                                             2068250\n",
       "CERTIFIED-WITHDRAWN                                    158321\n",
       "DENIED                                                  96871\n",
       "WITHDRAWN                                               71278\n",
       "PENDING QUALITY AND COMPLIANCE REVIEW - UNASSIGNED         14\n",
       "REJECTED                                                    2\n",
       "Name: CASE_STATUS, dtype: int64"
      ]
     },
     "execution_count": 39,
     "metadata": {},
     "output_type": "execute_result"
    }
   ],
   "source": [
    "df_H1B['CASE_STATUS'].value_counts()"
   ]
  },
  {
   "cell_type": "code",
   "execution_count": 40,
   "metadata": {
    "collapsed": true
   },
   "outputs": [],
   "source": [
    "df_H1b_2010 = pd.read_excel('https://www.foreignlaborcert.doleta.gov/docs/lca/H-1B_FY2010.xlsx')"
   ]
  },
  {
   "cell_type": "code",
   "execution_count": 41,
   "metadata": {
    "collapsed": false
   },
   "outputs": [
    {
     "name": "stdout",
     "output_type": "stream",
     "text": [
      "<class 'pandas.core.frame.DataFrame'>\n",
      "RangeIndex: 342575 entries, 0 to 342574\n",
      "Data columns (total 33 columns):\n",
      "LCA_CASE_NUMBER                   342575 non-null object\n",
      "STATUS                            342575 non-null object\n",
      "LCA_CASE_SUBMIT                   342575 non-null datetime64[ns]\n",
      "DECISION_DATE                     342575 non-null datetime64[ns]\n",
      "LCA_CASE_EMPLOYMENT_START_DATE    342529 non-null datetime64[ns]\n",
      "LCA_CASE_EMPLOYMENT_END_DATE      342529 non-null datetime64[ns]\n",
      "LCA_CASE_EMPLOYER_NAME            342511 non-null object\n",
      "LCA_CASE_EMPLOYER_ADDRESS1        342500 non-null object\n",
      "LCA_CASE_EMPLOYER_ADDRESS2        127523 non-null object\n",
      "LCA_CASE_EMPLOYER_CITY            342499 non-null object\n",
      "LCA_CASE_EMPLOYER_STATE           342484 non-null object\n",
      "LCA_CASE_EMPLOYER_POSTAL_CODE     316308 non-null float64\n",
      "LCA_CASE_SOC_CODE                 342503 non-null object\n",
      "LCA_CASE_SOC_NAME                 338540 non-null object\n",
      "LCA_CASE_JOB_TITLE                342526 non-null object\n",
      "LCA_CASE_WAGE_RATE_FROM           342497 non-null float64\n",
      "LCA_CASE_WAGE_RATE_TO             72562 non-null float64\n",
      "TOTAL_WORKERS                     342529 non-null float64\n",
      "WORK_LOCATION_CITY1               342470 non-null object\n",
      "WORK_LOCATION_STATE1              342490 non-null object\n",
      "PW_1                              342433 non-null float64\n",
      "PW_UNIT_1                         342438 non-null object\n",
      "PW_SOURCE_1                       342436 non-null object\n",
      "OTHER_WAGE_SOURCE_1               310589 non-null object\n",
      "YR_SOURCE_PUB_1                   342413 non-null float64\n",
      "WORK_LOCATION_CITY2               38455 non-null object\n",
      "WORK_LOCATION_STATE2              38431 non-null object\n",
      "PW_2                              38422 non-null float64\n",
      "PW_UNIT_2                         38421 non-null object\n",
      "PW_SOURCE_2                       38421 non-null object\n",
      "OTHER_WAGE_SOURCE_2               36767 non-null object\n",
      "YR_SOURCE_PUB_2                   38422 non-null float64\n",
      "LCA_CASE_NAICS_CODE               342512 non-null float64\n",
      "dtypes: datetime64[ns](4), float64(9), object(20)\n",
      "memory usage: 86.3+ MB\n"
     ]
    }
   ],
   "source": [
    "df_H1b_2010.info()"
   ]
  },
  {
   "cell_type": "code",
   "execution_count": null,
   "metadata": {
    "collapsed": true
   },
   "outputs": [],
   "source": []
  }
 ],
 "metadata": {
  "kernelspec": {
   "display_name": "Python 3",
   "language": "python",
   "name": "python3"
  },
  "language_info": {
   "codemirror_mode": {
    "name": "ipython",
    "version": 3
   },
   "file_extension": ".py",
   "mimetype": "text/x-python",
   "name": "python",
   "nbconvert_exporter": "python",
   "pygments_lexer": "ipython3",
   "version": "3.5.1"
  }
 },
 "nbformat": 4,
 "nbformat_minor": 0
}

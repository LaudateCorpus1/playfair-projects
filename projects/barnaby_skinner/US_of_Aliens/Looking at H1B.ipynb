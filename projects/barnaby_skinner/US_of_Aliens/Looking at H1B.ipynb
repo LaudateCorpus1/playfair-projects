{
 "cells": [
  {
   "cell_type": "code",
   "execution_count": 1,
   "metadata": {
    "collapsed": true
   },
   "outputs": [],
   "source": [
    "import pandas as pd\n",
    "import matplotlib.pyplot as plt\n",
    "import requests\n",
    "import urllib\n",
    "from sklearn import preprocessing\n",
    "from sklearn.linear_model import LogisticRegression\n",
    "%matplotlib inline"
   ]
  },
  {
   "cell_type": "code",
   "execution_count": 2,
   "metadata": {
    "collapsed": true
   },
   "outputs": [],
   "source": [
    "df = pd.read_excel('data/PW_Disclosure_Data_FY15_Q4.xlsx')"
   ]
  },
  {
   "cell_type": "code",
   "execution_count": 5,
   "metadata": {
    "collapsed": false
   },
   "outputs": [],
   "source": [
    "df_print = df.head()\n",
    "df_print.to_csv('looking.csv')"
   ]
  },
  {
   "cell_type": "code",
   "execution_count": 7,
   "metadata": {
    "collapsed": false
   },
   "outputs": [
    {
     "data": {
      "text/plain": [
       "PERM               120515\n",
       "H-2B                12147\n",
       "H-1B                 6355\n",
       "E-3 Australian         89\n",
       "H-1B1 Chile            12\n",
       "H-1B1 Singapore         2\n",
       "Name: VISA_CLASS, dtype: int64"
      ]
     },
     "execution_count": 7,
     "metadata": {},
     "output_type": "execute_result"
    }
   ],
   "source": [
    "df['VISA_CLASS'].value_counts()"
   ]
  },
  {
   "cell_type": "code",
   "execution_count": 8,
   "metadata": {
    "collapsed": true
   },
   "outputs": [],
   "source": [
    "df = pd.read_excel('data/H-1B_Disclosure_Data_FY15_Q4.xlsx')"
   ]
  },
  {
   "cell_type": "code",
   "execution_count": 9,
   "metadata": {
    "collapsed": false
   },
   "outputs": [
    {
     "name": "stdout",
     "output_type": "stream",
     "text": [
      "<class 'pandas.core.frame.DataFrame'>\n",
      "RangeIndex: 618804 entries, 0 to 618803\n",
      "Data columns (total 40 columns):\n",
      "CASE_NUMBER              618804 non-null object\n",
      "CASE_STATUS              618804 non-null object\n",
      "CASE_SUBMITTED           618804 non-null datetime64[ns]\n",
      "DECISION_DATE            618804 non-null datetime64[ns]\n",
      "VISA_CLASS               618804 non-null object\n",
      "EMPLOYMENT_START_DATE    618785 non-null object\n",
      "EMPLOYMENT_END_DATE      618785 non-null object\n",
      "EMPLOYER_NAME            618781 non-null object\n",
      "EMPLOYER_ADDRESS1        618778 non-null object\n",
      "EMPLOYER_ADDRESS2        310861 non-null object\n",
      "EMPLOYER_CITY            618773 non-null object\n",
      "EMPLOYER_STATE           618761 non-null object\n",
      "EMPLOYER_POSTAL_CODE     618766 non-null object\n",
      "EMPLOYER_COUNTRY         618782 non-null object\n",
      "EMPLOYER_PROVINCE        8760 non-null object\n",
      "EMPLOYER_PHONE           618742 non-null float64\n",
      "EMPLOYER_PHONE_EXT       38244 non-null float64\n",
      "AGENT_ATTORNEY_NAME      391678 non-null object\n",
      "AGENT_ATTORNEY_CITY      391676 non-null object\n",
      "AGENT_ATTORNEY_STATE     383641 non-null object\n",
      "JOB_TITLE                618784 non-null object\n",
      "SOC_CODE                 618789 non-null object\n",
      "SOC_NAME                 618788 non-null object\n",
      "NAIC_CODE                618784 non-null float64\n",
      "TOTAL WORKERS            618789 non-null float64\n",
      "FULL_TIME_POSITION       618791 non-null object\n",
      "PREVAILING_WAGE          618737 non-null float64\n",
      "PW_UNIT_OF_PAY           618727 non-null object\n",
      "PW_WAGE_LEVEL            590096 non-null object\n",
      "PW_WAGE_SOURCE           618730 non-null object\n",
      "PW_WAGE_SOURCE_YEAR      618723 non-null float64\n",
      "PW_WAGE_SOURCE_OTHER     608362 non-null object\n",
      "WAGE_RATE_OF_PAY         618804 non-null object\n",
      "WAGE_UNIT_OF_PAY         618774 non-null object\n",
      "H-1B_DEPENDENT           606330 non-null object\n",
      "WILLFUL VIOLATOR         606328 non-null object\n",
      "WORKSITE_CITY            618769 non-null object\n",
      "WORKSITE_COUNTY          617408 non-null object\n",
      "WORKSITE_STATE           618777 non-null object\n",
      "WORKSITE_POSTAL_CODE     618765 non-null object\n",
      "dtypes: datetime64[ns](2), float64(6), object(32)\n",
      "memory usage: 188.8+ MB\n"
     ]
    }
   ],
   "source": [
    "df.info()"
   ]
  },
  {
   "cell_type": "code",
   "execution_count": 16,
   "metadata": {
    "collapsed": false
   },
   "outputs": [
    {
     "data": {
      "text/plain": [
       "CERTIFIED              547278\n",
       "CERTIFIED-WITHDRAWN     41071\n",
       "WITHDRAWN               19472\n",
       "DENIED                  10983\n",
       "Name: CASE_STATUS, dtype: int64"
      ]
     },
     "execution_count": 16,
     "metadata": {},
     "output_type": "execute_result"
    }
   ],
   "source": [
    "df['CASE_STATUS'].value_counts()"
   ]
  },
  {
   "cell_type": "code",
   "execution_count": 23,
   "metadata": {
    "collapsed": false
   },
   "outputs": [
    {
     "data": {
      "text/plain": [
       "SOC_NAME\n",
       "COMPUTER SYSTEMS ANALYSTS                      346299.0\n",
       "SOFTWARE DEVELOPERS, APPLICATIONS              155568.0\n",
       "COMPUTER PROGRAMMERS                           149635.0\n",
       "COMPUTER OCCUPATIONS, ALL OTHER                118980.0\n",
       "SOFTWARE DEVELOPERS, SYSTEMS SOFTWARE           72788.0\n",
       "MANAGEMENT ANALYSTS                             36266.0\n",
       "ACCOUNTANTS AND AUDITORS                        36169.0\n",
       "FINANCIAL ANALYSTS                              29947.0\n",
       "COMPUTER AND INFORMATION SYSTEMS MANAGERS       21096.0\n",
       "NETWORK AND COMPUTER SYSTEMS ADMINISTRATORS     20694.0\n",
       "Name: TOTAL WORKERS, dtype: float64"
      ]
     },
     "execution_count": 23,
     "metadata": {},
     "output_type": "execute_result"
    }
   ],
   "source": [
    "df.groupby('SOC_NAME')['TOTAL WORKERS'].sum().sort_values(ascending=False).head(10)"
   ]
  },
  {
   "cell_type": "code",
   "execution_count": 21,
   "metadata": {
    "collapsed": false
   },
   "outputs": [
    {
     "data": {
      "text/plain": [
       "CA    100179\n",
       "TX     92438\n",
       "NJ     87701\n",
       "NY     43671\n",
       "IL     36406\n",
       "PA     25350\n",
       "MD     24516\n",
       "MI     22739\n",
       "NC     20756\n",
       "VA     20633\n",
       "Name: EMPLOYER_STATE, dtype: int64"
      ]
     },
     "execution_count": 21,
     "metadata": {},
     "output_type": "execute_result"
    }
   ],
   "source": [
    "df['EMPLOYER_STATE'].value_counts().head(10)"
   ]
  },
  {
   "cell_type": "code",
   "execution_count": 24,
   "metadata": {
    "collapsed": false
   },
   "outputs": [
    {
     "data": {
      "text/plain": [
       "SOC_NAME\n",
       "SOFTWARE DEVELOPERS, APPLICATIONS                     36835.0\n",
       "COMPUTER SYSTEMS ANALYSTS                             24202.0\n",
       "SOFTWARE DEVELOPERS, SYSTEMS SOFTWARE                 18891.0\n",
       "COMPUTER PROGRAMMERS                                  16455.0\n",
       "COMPUTER OCCUPATIONS, ALL OTHER                       14701.0\n",
       "ELECTRONICS ENGINEERS, EXCEPT COMPUTER                12273.0\n",
       "COMPUTER HARDWARE ENGINEERS                            4168.0\n",
       "NETWORK AND COMPUTER SYSTEMS ADMINISTRATORS            3655.0\n",
       "ELECTRICAL ENGINEERS                                   3071.0\n",
       "MARKET RESEARCH ANALYSTS AND MARKETING SPECIALISTS     2336.0\n",
       "Name: TOTAL WORKERS, dtype: float64"
      ]
     },
     "execution_count": 24,
     "metadata": {},
     "output_type": "execute_result"
    }
   ],
   "source": [
    "df[df['EMPLOYER_STATE'] == 'CA'].groupby('SOC_NAME')['TOTAL WORKERS'].sum().sort_values(ascending=False).head(10)"
   ]
  },
  {
   "cell_type": "code",
   "execution_count": 33,
   "metadata": {
    "collapsed": false
   },
   "outputs": [
    {
     "data": {
      "text/plain": [
       "SOC_NAME\n",
       "PHYSICIANS AND SURGEONS, ALL OTHER               6.0\n",
       "ENGINEERING TEACHERS, POSTSECONDARY              5.0\n",
       "SOIL AND PLANT SCIENTISTS                        4.0\n",
       "REGISTERED NURSES                                4.0\n",
       "BIOLOGICAL SCIENTISTS, ALL OTHER                 4.0\n",
       "BUSINESS TEACHERS, POSTSECONDARY                 4.0\n",
       "MEDICAL AND CLINICAL LABORATORY TECHNOLOGISTS    4.0\n",
       "MATHEMATICAL SCIENCE TEACHERS, POSTSECONDARY     3.0\n",
       "MENTAL HEALTH COUNSELORS                         3.0\n",
       "SURGEONS                                         2.0\n",
       "Name: TOTAL WORKERS, dtype: float64"
      ]
     },
     "execution_count": 33,
     "metadata": {},
     "output_type": "execute_result"
    }
   ],
   "source": [
    "df[df['EMPLOYER_STATE'] == 'MT'].groupby('SOC_NAME')['TOTAL WORKERS'].sum().sort_values(ascending=False).head(10)"
   ]
  },
  {
   "cell_type": "code",
   "execution_count": 32,
   "metadata": {
    "collapsed": false
   },
   "outputs": [
    {
     "data": {
      "text/plain": [
       "SOC_NAME\n",
       "PHYSICIANS AND SURGEONS, ALL OTHER               6.0\n",
       "ENGINEERING TEACHERS, POSTSECONDARY              5.0\n",
       "SOIL AND PLANT SCIENTISTS                        4.0\n",
       "REGISTERED NURSES                                4.0\n",
       "BIOLOGICAL SCIENTISTS, ALL OTHER                 4.0\n",
       "BUSINESS TEACHERS, POSTSECONDARY                 4.0\n",
       "MEDICAL AND CLINICAL LABORATORY TECHNOLOGISTS    4.0\n",
       "MATHEMATICAL SCIENCE TEACHERS, POSTSECONDARY     3.0\n",
       "MENTAL HEALTH COUNSELORS                         3.0\n",
       "SURGEONS                                         2.0\n",
       "Name: TOTAL WORKERS, dtype: float64"
      ]
     },
     "execution_count": 32,
     "metadata": {},
     "output_type": "execute_result"
    }
   ],
   "source": [
    "df[df['EMPLOYER_STATE'] == 'MT'].groupby('SOC_NAME')['TOTAL WORKERS'].sum().sort_values(ascending=False).head(10)"
   ]
  },
  {
   "cell_type": "code",
   "execution_count": null,
   "metadata": {
    "collapsed": true
   },
   "outputs": [],
   "source": []
  }
 ],
 "metadata": {
  "kernelspec": {
   "display_name": "Python 3",
   "language": "python",
   "name": "python3"
  },
  "language_info": {
   "codemirror_mode": {
    "name": "ipython",
    "version": 3
   },
   "file_extension": ".py",
   "mimetype": "text/x-python",
   "name": "python",
   "nbconvert_exporter": "python",
   "pygments_lexer": "ipython3",
   "version": "3.5.1"
  }
 },
 "nbformat": 4,
 "nbformat_minor": 0
}

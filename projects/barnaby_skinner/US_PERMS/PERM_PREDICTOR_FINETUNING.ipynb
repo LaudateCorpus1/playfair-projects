{
 "cells": [
  {
   "cell_type": "markdown",
   "metadata": {},
   "source": [
    "# PERM Acceptance Rate Nation by Nation 2009 - 2016\n",
    "## Regardless of their profession or the company they are applying to"
   ]
  },
  {
   "cell_type": "markdown",
   "metadata": {},
   "source": [
    "## CONTENTS:\n",
    "\n",
    "### IMPORTING DATA AND PULLING OUT RELEVANT COLUMNS\n",
    "\n",
    "### WORKING ON THE PREDICTOR\n",
    "\n",
    "### THE PREDICTOR OUTPUT\n",
    "- Creating a list for check the users input\n",
    "\n"
   ]
  },
  {
   "cell_type": "code",
   "execution_count": 1,
   "metadata": {
    "collapsed": true
   },
   "outputs": [],
   "source": [
    "import pandas as pd\n",
    "from pandas import Series, DataFrame\n",
    "import numpy as np\n",
    "from sklearn import preprocessing\n",
    "from sklearn.linear_model import LogisticRegression\n",
    "from sklearn import tree, metrics\n",
    "from sklearn.cross_validation import train_test_split\n",
    "from sklearn.ensemble import RandomForestClassifier"
   ]
  },
  {
   "cell_type": "markdown",
   "metadata": {},
   "source": [
    "# IMPORTING PREPPED DATA"
   ]
  },
  {
   "cell_type": "code",
   "execution_count": 2,
   "metadata": {
    "collapsed": true
   },
   "outputs": [],
   "source": [
    "df = pd.read_csv('data/prepped_pred_data.csv')"
   ]
  },
  {
   "cell_type": "code",
   "execution_count": 3,
   "metadata": {
    "collapsed": true
   },
   "outputs": [],
   "source": [
    "df = df.dropna()"
   ]
  },
  {
   "cell_type": "markdown",
   "metadata": {},
   "source": [
    "# WORKING ON THE PREDICTOR"
   ]
  },
  {
   "cell_type": "code",
   "execution_count": 4,
   "metadata": {
    "collapsed": true
   },
   "outputs": [],
   "source": [
    "#Learning the Employer's name\n",
    "le_employer_name = preprocessing.LabelEncoder()"
   ]
  },
  {
   "cell_type": "code",
   "execution_count": 5,
   "metadata": {
    "collapsed": false
   },
   "outputs": [
    {
     "data": {
      "text/plain": [
       "LabelEncoder()"
      ]
     },
     "execution_count": 5,
     "metadata": {},
     "output_type": "execute_result"
    }
   ],
   "source": [
    "le_employer_name.fit(df['EMPLOYER_NAME'])"
   ]
  },
  {
   "cell_type": "code",
   "execution_count": 6,
   "metadata": {
    "collapsed": true
   },
   "outputs": [],
   "source": [
    "#Encoding the Employer's name\n",
    "df['EMPLOYER_NAME_label'] = le_employer_name.transform(df['EMPLOYER_NAME'])"
   ]
  },
  {
   "cell_type": "code",
   "execution_count": 7,
   "metadata": {
    "collapsed": true
   },
   "outputs": [],
   "source": [
    "#SOC Code\n",
    "le_soc_code = preprocessing.LabelEncoder()"
   ]
  },
  {
   "cell_type": "code",
   "execution_count": 8,
   "metadata": {
    "collapsed": false
   },
   "outputs": [
    {
     "data": {
      "text/plain": [
       "LabelEncoder()"
      ]
     },
     "execution_count": 8,
     "metadata": {},
     "output_type": "execute_result"
    }
   ],
   "source": [
    "le_soc_code.fit(df['2018 SOC Title'])"
   ]
  },
  {
   "cell_type": "code",
   "execution_count": 9,
   "metadata": {
    "collapsed": false
   },
   "outputs": [],
   "source": [
    "df['SOC_Title_label'] = le_soc_code.transform(df['2018 SOC Title'])"
   ]
  },
  {
   "cell_type": "code",
   "execution_count": 10,
   "metadata": {
    "collapsed": true
   },
   "outputs": [],
   "source": [
    "#COUNTRY_OF_CITZENSHIP\n",
    "country_of_citizenship = preprocessing.LabelEncoder()"
   ]
  },
  {
   "cell_type": "code",
   "execution_count": 11,
   "metadata": {
    "collapsed": false
   },
   "outputs": [
    {
     "data": {
      "text/plain": [
       "LabelEncoder()"
      ]
     },
     "execution_count": 11,
     "metadata": {},
     "output_type": "execute_result"
    }
   ],
   "source": [
    "country_of_citizenship.fit(df['COUNTRY_OF_CITZENSHIP'])"
   ]
  },
  {
   "cell_type": "code",
   "execution_count": 12,
   "metadata": {
    "collapsed": true
   },
   "outputs": [],
   "source": [
    "df['COUNTRY_OF_CITZENSHIP_label'] = country_of_citizenship.transform(df['COUNTRY_OF_CITZENSHIP'])"
   ]
  },
  {
   "cell_type": "code",
   "execution_count": 13,
   "metadata": {
    "collapsed": false
   },
   "outputs": [],
   "source": [
    "#Creating dataframe for the matrix (but will I still be able to transform values back? It seems to work)\n",
    "df_matrix = df[['ACCEPTED', 'WAGE_OFFER_FROM_9089', 'EMPLOYER_NAME_label', 'SOC_Title_label', 'COUNTRY_OF_CITZENSHIP_label']].copy()"
   ]
  },
  {
   "cell_type": "code",
   "execution_count": 14,
   "metadata": {
    "collapsed": true
   },
   "outputs": [],
   "source": [
    "#Making x and y and selecting the corrent colums\n",
    "result_array = df_matrix.as_matrix()\n",
    "x = result_array[:,1:]\n",
    "y = result_array[:,0]"
   ]
  },
  {
   "cell_type": "code",
   "execution_count": 15,
   "metadata": {
    "collapsed": true
   },
   "outputs": [],
   "source": [
    "#Random Forest is impressively good"
   ]
  },
  {
   "cell_type": "code",
   "execution_count": 16,
   "metadata": {
    "collapsed": true
   },
   "outputs": [],
   "source": [
    "X_train, X_test, y_train, y_test = train_test_split(x, y, stratify=y, test_size=0.20,train_size=0.80)"
   ]
  },
  {
   "cell_type": "code",
   "execution_count": 17,
   "metadata": {
    "collapsed": true
   },
   "outputs": [],
   "source": [
    "forest = RandomForestClassifier(n_estimators=100, random_state=100)\n",
    "forest.fit(X_train, y_train)\n",
    "dt = forest.fit(X_train, y_train)"
   ]
  },
  {
   "cell_type": "code",
   "execution_count": 18,
   "metadata": {
    "collapsed": false
   },
   "outputs": [
    {
     "name": "stdout",
     "output_type": "stream",
     "text": [
      "accuracy on training set: 0.957233\n",
      "accuracy on test set: 0.852374\n"
     ]
    }
   ],
   "source": [
    "print(\"accuracy on training set: %f\" % forest.score(X_train, y_train))\n",
    "print(\"accuracy on test set: %f\" % forest.score(X_test, y_test))"
   ]
  },
  {
   "cell_type": "code",
   "execution_count": 20,
   "metadata": {
    "collapsed": true
   },
   "outputs": [],
   "source": [
    "#Label Encoder Names\n",
    "\n",
    "#le_employer_name   df['EMPLOYER_NAME_label']\n",
    "#le_soc_code  df['SOC Title_label']\n",
    "#country_of_citizenship   df['COUNTRY_OF_CITZENSHIP_label']\n",
    "\n",
    "#And Wage\n",
    "\n",
    "#'WAGE_OFFER_FROM_9089'\n",
    "#'EMPLOYER_NAME_label', \n",
    "#'EMPLOYER_STATE_label',\n",
    "#'le_soc_code'\n",
    "#'COUNTRY_OF_CITZENSHIP_label'\n",
    "\n",
    "\n",
    "#'WAGE_OFFER_FROM_9089', 'EMPLOYER_NAME_label', 'SOC_Title_label', 'COUNTRY_OF_CITZENSHIP_label'"
   ]
  },
  {
   "cell_type": "code",
   "execution_count": 21,
   "metadata": {
    "collapsed": false
   },
   "outputs": [
    {
     "name": "stderr",
     "output_type": "stream",
     "text": [
      "/usr/local/lib/python3.5/site-packages/sklearn/utils/validation.py:386: DeprecationWarning: Passing 1d arrays as data is deprecated in 0.17 and willraise ValueError in 0.19. Reshape your data either using X.reshape(-1, 1) if your data has a single feature or X.reshape(1, -1) if it contains a single sample.\n",
      "  DeprecationWarning)\n"
     ]
    },
    {
     "data": {
      "text/plain": [
       "0.7843"
      ]
     },
     "execution_count": 21,
     "metadata": {},
     "output_type": "execute_result"
    }
   ],
   "source": [
    "INDIA = country_of_citizenship.transform('INDIA')\n",
    "round(forest.predict_proba([85072.0, 20, 20, INDIA])[0][1], 4)"
   ]
  },
  {
   "cell_type": "markdown",
   "metadata": {},
   "source": [
    "# Input for the Predictor Output"
   ]
  },
  {
   "cell_type": "markdown",
   "metadata": {},
   "source": [
    "## General predictor with 4 parameters"
   ]
  },
  {
   "cell_type": "code",
   "execution_count": 22,
   "metadata": {
    "collapsed": false
   },
   "outputs": [],
   "source": [
    "#Country list \n",
    "country_list = list(set(df['COUNTRY_OF_CITZENSHIP'].tolist()))"
   ]
  },
  {
   "cell_type": "code",
   "execution_count": 23,
   "metadata": {
    "collapsed": true
   },
   "outputs": [],
   "source": [
    "#Employer list\n",
    "employer_list = list(set(df['EMPLOYER_NAME'].tolist()))"
   ]
  },
  {
   "cell_type": "code",
   "execution_count": 24,
   "metadata": {
    "collapsed": true
   },
   "outputs": [],
   "source": [
    "#occupation_list\n",
    "occupation_list = list(set(df['2018 SOC Title'].tolist()))"
   ]
  },
  {
   "cell_type": "code",
   "execution_count": 25,
   "metadata": {
    "collapsed": false
   },
   "outputs": [],
   "source": [
    "# \"Computer Systems Analysts\" is the most common job for foreigners applying for Green Cards. Since 2009 \n",
    "# approximately every fifth Green Card issued was for somebody in one of these two professions. Type \"1\" \n",
    "# to pick this profession or, 2 to pick a random profession from 647 professions in the data.\n",
    "profession_list = list(set(df['2018 SOC Title'].tolist()))"
   ]
  },
  {
   "cell_type": "code",
   "execution_count": 28,
   "metadata": {
    "collapsed": false
   },
   "outputs": [
    {
     "name": "stdout",
     "output_type": "stream",
     "text": [
      "Compare the chances of getting a visa based on data from nearly half a million visa applications since 2009.\n",
      "Which country are you from? Please use all caps. CAMEROON\n",
      "Which company is hiring you? Please us all caps. (e.g. MICROSOFT CORPORATION, APPLE INC., BLOOMBERG L.P.) MICROSOFT CORPORATION\n",
      "What's your occupation? (e.g. Computer and Mathematical, Architecture and Engineering, Management, Food Preparation and Serving Related Food Preparation and Serving Related\n",
      "What's your expected yearly salary? 50000\n"
     ]
    }
   ],
   "source": [
    "print(\"Compare the chances of getting a visa based on data from nearly half a million visa applications since 2009.\")\n",
    "country = input(\"Which country are you from? Please use all caps. \")\n",
    "employer = input(\"Which company is hiring you? Please us all caps. (e.g. MICROSOFT CORPORATION, APPLE INC., BLOOMBERG L.P.) \")\n",
    "occupation = input(\"What's your occupation? (e.g. Computer and Mathematical, Architecture and Engineering, Management, Food Preparation and Serving Related \")\n",
    "wage = input(\"What's your expected yearly salary? \")"
   ]
  },
  {
   "cell_type": "code",
   "execution_count": 29,
   "metadata": {
    "collapsed": false
   },
   "outputs": [
    {
     "name": "stdout",
     "output_type": "stream",
     "text": [
      "As a citizen from CAMEROON earning $ 50000 a year, working for MICROSOFT CORPORATION and working in a Food Preparation and Serving Related occupation, your chances of getting a Green Card in the US are: 71.0%.\n"
     ]
    },
    {
     "name": "stderr",
     "output_type": "stream",
     "text": [
      "/usr/local/lib/python3.5/site-packages/sklearn/utils/validation.py:386: DeprecationWarning: Passing 1d arrays as data is deprecated in 0.17 and willraise ValueError in 0.19. Reshape your data either using X.reshape(-1, 1) if your data has a single feature or X.reshape(1, -1) if it contains a single sample.\n",
      "  DeprecationWarning)\n"
     ]
    }
   ],
   "source": [
    "if country in country_list:\n",
    "    country_name = country\n",
    "    country = country_of_citizenship.transform(country)\n",
    "else:\n",
    "    print('Please check your spelling or caps for the selected country.')\n",
    "    \n",
    "if employer in employer_list:\n",
    "    employer_name = employer\n",
    "    employer = le_employer_name.transform(employer)\n",
    "else:\n",
    "    print('Please check your spelling or caps for the selected employer.')\n",
    "    \n",
    "if occupation in occupation_list:\n",
    "    occupation_name = occupation\n",
    "    occupation = le_soc_code.transform(occupation)\n",
    "else:\n",
    "    print('Please check your spelling or caps for the selected occupation.')\n",
    "    \n",
    "try:\n",
    "    x = forest.predict_proba([wage, occupation, employer, country])[0][1]\n",
    "    print(\"As a citizen from\", country_name, \"earning $\", wage, \"a year, working for\", employer_name, \\\n",
    "          \"and working in a\", occupation_name, \"occupation, your chances of getting a Green Card in the US are: {0:.1f}%.\".format(x*100))\n",
    "except: \n",
    "    'ValueError'"
   ]
  },
  {
   "cell_type": "markdown",
   "metadata": {},
   "source": [
    "## Comparative Predictor\n",
    "Input: where you enter Nationality and wage (computer profession, 130'000k a year and as company are given Microsoft are given."
   ]
  },
  {
   "cell_type": "code",
   "execution_count": null,
   "metadata": {
    "collapsed": false
   },
   "outputs": [],
   "source": [
    "print(\"Compare the chances of three different nationalities for a Green Card, would they be hired as software developers earning 130000 USD a year working for Microsoft.\")\n",
    "country1 = input(\"Pick your first country: \")\n",
    "country2 = input(\"Your second one: \")\n",
    "country3 = input(\"And your third: \")"
   ]
  },
  {
   "cell_type": "code",
   "execution_count": null,
   "metadata": {
    "collapsed": false
   },
   "outputs": [],
   "source": [
    "if country1 in country_list:\n",
    "    country_name1 = country1\n",
    "    country1 = country_of_citizenship.transform(country1)\n",
    "else:\n",
    "    print('Please check your spelling or caps for your first selected country.')\n",
    "    \n",
    "if country2 in country_list:\n",
    "    country_name2 = country2\n",
    "    country2 = country_of_citizenship.transform(country2)\n",
    "else:\n",
    "    print('Please check your spelling or caps for your second selected country.')\n",
    "    \n",
    "if country3 in country_list:\n",
    "    country_name3 = country3\n",
    "    country3 = country_of_citizenship.transform(country3)\n",
    "else:\n",
    "    print('Please check your spelling or caps for your third selected country.')\n",
    "    \n",
    "try:\n",
    "    x1 = forest.predict_proba([130000, 5, 3778, country1])[0][1]\n",
    "    x2 = forest.predict_proba([130000, 5, 3778, country2])[0][1]\n",
    "    x3 = forest.predict_proba([100000, 5, 3778, country3])[0][1]\n",
    "    print(country_name1, \": {0:.1f}%.\".format(x1*100))\n",
    "    print(country_name2, \": {0:.1f}%.\".format(x2*100))\n",
    "    print(country_name3, \": {0:.1f}%.\".format(x2*100))\n",
    "except: \n",
    "    'ValueError'\n",
    "\n"
   ]
  },
  {
   "cell_type": "code",
   "execution_count": null,
   "metadata": {
    "collapsed": true
   },
   "outputs": [],
   "source": [
    "#Saving a model in Pickle\n",
    "#http://scikit-learn.org/stable/modules/model_persistence.html"
   ]
  },
  {
   "cell_type": "code",
   "execution_count": null,
   "metadata": {
    "collapsed": true
   },
   "outputs": [],
   "source": [
    "#import pickle\n",
    "#s = pickle.dumps(clf)\n",
    "#clf2 = pickle.loads(s)"
   ]
  },
  {
   "cell_type": "code",
   "execution_count": null,
   "metadata": {
    "collapsed": true
   },
   "outputs": [],
   "source": [
    "import pickle"
   ]
  },
  {
   "cell_type": "code",
   "execution_count": 244,
   "metadata": {
    "collapsed": true
   },
   "outputs": [],
   "source": [
    "import pickle\n",
    "\n",
    "classifier = RandomForestClassifier(n_estimators=100, random_state=100)\n",
    "output = open('classifier.pkl', 'wb')\n",
    "pickle.dump(classifier, output)\n",
    "output.close()"
   ]
  },
  {
   "cell_type": "code",
   "execution_count": null,
   "metadata": {
    "collapsed": true
   },
   "outputs": [],
   "source": []
  },
  {
   "cell_type": "code",
   "execution_count": null,
   "metadata": {
    "collapsed": true
   },
   "outputs": [],
   "source": []
  },
  {
   "cell_type": "code",
   "execution_count": null,
   "metadata": {
    "collapsed": true
   },
   "outputs": [],
   "source": []
  },
  {
   "cell_type": "code",
   "execution_count": null,
   "metadata": {
    "collapsed": true
   },
   "outputs": [],
   "source": []
  },
  {
   "cell_type": "code",
   "execution_count": null,
   "metadata": {
    "collapsed": true
   },
   "outputs": [],
   "source": [
    "#Using PIckle\n",
    "#https://pythontips.com/2013/08/02/what-is-pickle-in-python/"
   ]
  }
 ],
 "metadata": {
  "kernelspec": {
   "display_name": "Python 3",
   "language": "python",
   "name": "python3"
  },
  "language_info": {
   "codemirror_mode": {
    "name": "ipython",
    "version": 3
   },
   "file_extension": ".py",
   "mimetype": "text/x-python",
   "name": "python",
   "nbconvert_exporter": "python",
   "pygments_lexer": "ipython3",
   "version": "3.5.1"
  }
 },
 "nbformat": 4,
 "nbformat_minor": 0
}

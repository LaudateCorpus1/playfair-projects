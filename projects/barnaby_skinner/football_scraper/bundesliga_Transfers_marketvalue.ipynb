{
 "cells": [
  {
   "cell_type": "markdown",
   "metadata": {},
   "source": [
    "# 10 Grafiken zur Vorschau auf die Bundesliga (Value of Transfers)"
   ]
  },
  {
   "cell_type": "markdown",
   "metadata": {},
   "source": [
    "**1 Graph of total market value of the Bundesliga**\n",
    "\n",
    "**5 Graphs on players **\n",
    "\n",
    "- Graphs of new vs. old players. (1) Games, (2) Age, (3) Goals, (4) Assists, (5) Height.\n",
    "\n",
    "** 2 Graphs on Shoes **\n",
    "\n",
    "- Graph by number of games of transfers\n",
    "- Graph of number of goals scored\n",
    "\n",
    "**2 Graphs on Most Active Agents **\n",
    "\n",
    "- Graph by amount of players\n",
    "- Graph by amount of player value\n",
    "\n",
    "Source: www.transfermarkt.com"
   ]
  },
  {
   "cell_type": "markdown",
   "metadata": {},
   "source": [
    "# Imports"
   ]
  },
  {
   "cell_type": "code",
   "execution_count": 1,
   "metadata": {
    "collapsed": false
   },
   "outputs": [
    {
     "data": {
      "text/plain": [
       "'07-Jul-27'"
      ]
     },
     "execution_count": 1,
     "metadata": {},
     "output_type": "execute_result"
    }
   ],
   "source": [
    "import requests\n",
    "from bs4 import BeautifulSoup\n",
    "import pandas as pd\n",
    "import pandas as pd\n",
    "import numpy as np\n",
    "import matplotlib.pyplot as plt\n",
    "import matplotlib\n",
    "\n",
    "plt.style.use('ggplot')\n",
    "import dateutil.parser\n",
    "import re\n",
    "import time\n",
    "\n",
    "%matplotlib inline\n",
    "matplotlib.rcParams['pdf.fonttype'] = 42\n",
    "matplotlib.rcParams['ps.fonttype'] = 42\n",
    "datestring = time.strftime(\"%m-%h-%d\")\n",
    "datestring"
   ]
  },
  {
   "cell_type": "markdown",
   "metadata": {},
   "source": [
    "# Setting up the Scraper"
   ]
  },
  {
   "cell_type": "code",
   "execution_count": 2,
   "metadata": {
    "collapsed": true
   },
   "outputs": [],
   "source": [
    "headers = {'User-Agent': 'Mozilla/5.0 (Macintosh; Intel Mac OS X 10_10_1) AppleWebKit/537.36 (KHTML, like Gecko) Chrome/39.0.2171.95 Safari/537.36'}"
   ]
  },
  {
   "cell_type": "code",
   "execution_count": 3,
   "metadata": {
    "collapsed": false
   },
   "outputs": [],
   "source": [
    "#url = \"http://www.transfermarkt.com/raiffeisen-super-league/transfers/wettbewerb/C1/saison_id/2016\"\n",
    "url = \"http://www.transfermarkt.de/1-bundesliga/transfers/wettbewerb/L1\"\n",
    "response = requests.get(url, headers=headers)\n",
    "transfermarkt_soup = BeautifulSoup(response.text, 'html.parser')"
   ]
  },
  {
   "cell_type": "code",
   "execution_count": 4,
   "metadata": {
    "collapsed": true
   },
   "outputs": [],
   "source": [
    "transfermarkt = transfermarkt_soup.find_all('div', {'class': 'box'})"
   ]
  },
  {
   "cell_type": "code",
   "execution_count": 5,
   "metadata": {
    "collapsed": false
   },
   "outputs": [],
   "source": [
    "#Functions for market values:\n",
    "\n",
    "#Verein_Name\n",
    "def market(x):\n",
    "    try:\n",
    "        Verein_Name = x.find('a', {'class': 'vereinprofil_tooltip'}).find('img').get('alt')\n",
    "        return Verein_Name\n",
    "        #print(Verein_Name)\n",
    "    except:\n",
    "        return None\n",
    "\n",
    "#Verein_Ausgaben\n",
    "def ausgaben(x):\n",
    "    try:\n",
    "        Ausgaben = int(x.find('span', {'class': 'transfer-einnahmen-ausgaben redtext'})\\\n",
    "        .text.strip().replace('Ausgaben: ', '').replace(' Mio. €', '0000').replace(' Tsd. €', '000')\\\n",
    "        .replace(',', ''))\n",
    "        Augaben = -1 * Ausgaben\n",
    "        return Ausgaben\n",
    "        #print(Ausgaben)\n",
    "    except:\n",
    "        return None\n",
    "\n",
    "#Verein_Einnahmen:        \n",
    "def einnahmen(x):\n",
    "    try:\n",
    "        Einnahmen = int(x.find('span', {'class': 'transfer-einnahmen-ausgaben greentext'})\\\n",
    "        .text.strip().replace('Einnahmen: ', '').replace(' Mio. €', '0000').replace(' Tsd. €', '000')\\\n",
    "        .replace(',', ''))\n",
    "        return Einnahmen\n",
    "        #print(Einnahmen)\n",
    "    except:\n",
    "        return None"
   ]
  },
  {
   "cell_type": "code",
   "execution_count": 6,
   "metadata": {
    "collapsed": false
   },
   "outputs": [],
   "source": [
    "Transfermarkt_Bundesliga_Bilanz = []\n",
    "\n",
    "for Verein in transfermarkt:\n",
    "    \n",
    "    #Getting the Name of the Clubs:\n",
    "    Club = market(Verein)\n",
    "    \n",
    "    #Getting the transfer Expenses per Club:\n",
    "    Ausgaben = ausgaben(Verein)\n",
    "    \n",
    "    #Getting the transfer INcome per Club:\n",
    "    Einnahmen = einnahmen(Verein)\n",
    "    \n",
    "    Transfermarkt_total = {'Verein': Club,\n",
    "                          'Ausgaben': Ausgaben,\n",
    "                          'Einnahmen': Einnahmen}\n",
    "\n",
    "    Transfermarkt_Bundesliga_Bilanz.append(Transfermarkt_total)"
   ]
  },
  {
   "cell_type": "code",
   "execution_count": 7,
   "metadata": {
    "collapsed": true
   },
   "outputs": [],
   "source": [
    "#Making the DataFrame\n",
    "df_bundesliga_markt = pd.DataFrame(Transfermarkt_Bundesliga_Bilanz)"
   ]
  },
  {
   "cell_type": "code",
   "execution_count": 8,
   "metadata": {
    "collapsed": true
   },
   "outputs": [],
   "source": [
    "#Dealing with duplicates\n",
    "df_bundesliga_markt = df_bundesliga_markt.drop_duplicates()"
   ]
  },
  {
   "cell_type": "code",
   "execution_count": 9,
   "metadata": {
    "collapsed": false
   },
   "outputs": [
    {
     "data": {
      "text/html": [
       "<div>\n",
       "<table border=\"1\" class=\"dataframe\">\n",
       "  <thead>\n",
       "    <tr style=\"text-align: right;\">\n",
       "      <th></th>\n",
       "      <th>Ausgaben</th>\n",
       "      <th>Einnahmen</th>\n",
       "      <th>Verein</th>\n",
       "    </tr>\n",
       "  </thead>\n",
       "  <tbody>\n",
       "    <tr>\n",
       "      <th>0</th>\n",
       "      <td>NaN</td>\n",
       "      <td>NaN</td>\n",
       "      <td>None</td>\n",
       "    </tr>\n",
       "    <tr>\n",
       "      <th>4</th>\n",
       "      <td>73000000.0</td>\n",
       "      <td>56000000.0</td>\n",
       "      <td>FC Bayern München</td>\n",
       "    </tr>\n",
       "    <tr>\n",
       "      <th>5</th>\n",
       "      <td>113750000.0</td>\n",
       "      <td>107000000.0</td>\n",
       "      <td>Borussia Dortmund</td>\n",
       "    </tr>\n",
       "    <tr>\n",
       "      <th>6</th>\n",
       "      <td>25100000.0</td>\n",
       "      <td>16200000.0</td>\n",
       "      <td>Bayer 04 Leverkusen</td>\n",
       "    </tr>\n",
       "    <tr>\n",
       "      <th>7</th>\n",
       "      <td>29500000.0</td>\n",
       "      <td>45000000.0</td>\n",
       "      <td>Borussia Mönchengladbach</td>\n",
       "    </tr>\n",
       "    <tr>\n",
       "      <th>8</th>\n",
       "      <td>22800000.0</td>\n",
       "      <td>5800000.0</td>\n",
       "      <td>FC Schalke 04</td>\n",
       "    </tr>\n",
       "    <tr>\n",
       "      <th>9</th>\n",
       "      <td>21150000.0</td>\n",
       "      <td>10450000.0</td>\n",
       "      <td>1.FSV Mainz 05</td>\n",
       "    </tr>\n",
       "    <tr>\n",
       "      <th>10</th>\n",
       "      <td>4200000.0</td>\n",
       "      <td>1700000.0</td>\n",
       "      <td>Hertha BSC</td>\n",
       "    </tr>\n",
       "    <tr>\n",
       "      <th>11</th>\n",
       "      <td>37000000.0</td>\n",
       "      <td>30000000.0</td>\n",
       "      <td>VfL Wolfsburg</td>\n",
       "    </tr>\n",
       "    <tr>\n",
       "      <th>12</th>\n",
       "      <td>5100000.0</td>\n",
       "      <td>14500000.0</td>\n",
       "      <td>1.FC Köln</td>\n",
       "    </tr>\n",
       "    <tr>\n",
       "      <th>13</th>\n",
       "      <td>25450000.0</td>\n",
       "      <td>1700000.0</td>\n",
       "      <td>Hamburger SV</td>\n",
       "    </tr>\n",
       "    <tr>\n",
       "      <th>14</th>\n",
       "      <td>2450000.0</td>\n",
       "      <td>1300000.0</td>\n",
       "      <td>FC Ingolstadt 04</td>\n",
       "    </tr>\n",
       "    <tr>\n",
       "      <th>15</th>\n",
       "      <td>6500000.0</td>\n",
       "      <td>11550000.0</td>\n",
       "      <td>FC Augsburg</td>\n",
       "    </tr>\n",
       "    <tr>\n",
       "      <th>16</th>\n",
       "      <td>6800000.0</td>\n",
       "      <td>24850000.0</td>\n",
       "      <td>SV Werder Bremen</td>\n",
       "    </tr>\n",
       "    <tr>\n",
       "      <th>17</th>\n",
       "      <td>750000.0</td>\n",
       "      <td>3600000.0</td>\n",
       "      <td>SV Darmstadt 98</td>\n",
       "    </tr>\n",
       "    <tr>\n",
       "      <th>18</th>\n",
       "      <td>21940000.0</td>\n",
       "      <td>22600000.0</td>\n",
       "      <td>TSG 1899 Hoffenheim</td>\n",
       "    </tr>\n",
       "    <tr>\n",
       "      <th>19</th>\n",
       "      <td>2200000.0</td>\n",
       "      <td>5550000.0</td>\n",
       "      <td>Eintracht Frankfurt</td>\n",
       "    </tr>\n",
       "    <tr>\n",
       "      <th>20</th>\n",
       "      <td>8850000.0</td>\n",
       "      <td>5150000.0</td>\n",
       "      <td>SC Freiburg</td>\n",
       "    </tr>\n",
       "    <tr>\n",
       "      <th>21</th>\n",
       "      <td>27500000.0</td>\n",
       "      <td>0.0</td>\n",
       "      <td>RasenBallsport Leipzig</td>\n",
       "    </tr>\n",
       "  </tbody>\n",
       "</table>\n",
       "</div>"
      ],
      "text/plain": [
       "       Ausgaben    Einnahmen                    Verein\n",
       "0           NaN          NaN                      None\n",
       "4    73000000.0   56000000.0         FC Bayern München\n",
       "5   113750000.0  107000000.0         Borussia Dortmund\n",
       "6    25100000.0   16200000.0       Bayer 04 Leverkusen\n",
       "7    29500000.0   45000000.0  Borussia Mönchengladbach\n",
       "8    22800000.0    5800000.0             FC Schalke 04\n",
       "9    21150000.0   10450000.0            1.FSV Mainz 05\n",
       "10    4200000.0    1700000.0                Hertha BSC\n",
       "11   37000000.0   30000000.0             VfL Wolfsburg\n",
       "12    5100000.0   14500000.0                 1.FC Köln\n",
       "13   25450000.0    1700000.0              Hamburger SV\n",
       "14    2450000.0    1300000.0          FC Ingolstadt 04\n",
       "15    6500000.0   11550000.0               FC Augsburg\n",
       "16    6800000.0   24850000.0          SV Werder Bremen\n",
       "17     750000.0    3600000.0           SV Darmstadt 98\n",
       "18   21940000.0   22600000.0       TSG 1899 Hoffenheim\n",
       "19    2200000.0    5550000.0       Eintracht Frankfurt\n",
       "20    8850000.0    5150000.0               SC Freiburg\n",
       "21   27500000.0          0.0    RasenBallsport Leipzig"
      ]
     },
     "execution_count": 9,
     "metadata": {},
     "output_type": "execute_result"
    }
   ],
   "source": [
    "df_bundesliga_markt"
   ]
  },
  {
   "cell_type": "code",
   "execution_count": 10,
   "metadata": {
    "collapsed": false
   },
   "outputs": [],
   "source": [
    "#Establishing Bilanz\n",
    "df_bundesliga_markt['Erlöse'] = df_bundesliga_markt['Einnahmen'] - df_bundesliga_markt['Ausgaben']"
   ]
  },
  {
   "cell_type": "code",
   "execution_count": 11,
   "metadata": {
    "collapsed": true
   },
   "outputs": [],
   "source": [
    "#Making the Bundeslinag\n",
    "df_bundesliga_markt.index = df_bundesliga_markt['Verein']"
   ]
  },
  {
   "cell_type": "code",
   "execution_count": 12,
   "metadata": {
    "collapsed": false
   },
   "outputs": [],
   "source": [
    "df_bundesliga_markt = df_bundesliga_markt.dropna(how='all')"
   ]
  },
  {
   "cell_type": "code",
   "execution_count": 13,
   "metadata": {
    "collapsed": false
   },
   "outputs": [
    {
     "data": {
      "image/png": "[encoded data removed]",
      "text/plain": [
       "<matplotlib.figure.Figure at 0x1066886a0>"
      ]
     },
     "metadata": {},
     "output_type": "display_data"
    }
   ],
   "source": [
    "fig, ax = plt.subplots(figsize =(7,12))\n",
    "\n",
    "#Font\n",
    "csfont = {'fontname':'DIN Condensed'}\n",
    "\n",
    "df_bundesliga_markt.sort_values('Erlöse').plot(kind='barh', ax = ax, legend=True, color=['SteelBlue', 'SeaGreen', 'Tomato'], width=.8)\n",
    "plt.axes\n",
    "\n",
    "ax.set_axis_bgcolor(\"WhiteSmoke\")\n",
    "\n",
    "ax.set_ylabel('')\n",
    "\n",
    "ax.xaxis.grid(color='darkgrey', linestyle=':', linewidth=0.5)\n",
    "\n",
    "ax.spines['top'].set_visible(False)\n",
    "ax.spines['right'].set_visible(False)\n",
    "ax.spines['bottom'].set_visible(False)\n",
    "ax.spines['left'].set_visible(False)\n",
    "\n",
    "plt.tick_params(\n",
    "    #axis='x',\n",
    "    top='off',\n",
    "    which='off',\n",
    "    left='off',\n",
    "    right='off',\n",
    "    bottom='off',\n",
    "    labeltop='off',\n",
    "    labelbottom='off')\n",
    "\n",
    "#labelling, getting rid of boarders\n",
    "ax.set_xlabel('RB Leipzig hat in der Transferperiode 16/17 am meisten in neue Spieler investiert', **csfont, fontsize=12)\n",
    "ax.set_title(\"SV Werder Bremen hat die grössten Erlöse erzielt\", **csfont, fontsize=24)\n",
    "\n",
    "#Showing Median\n",
    "#median = Transferbilanz['Vorlagen-Differenz'].median()\n",
    "#ax.plot([median, median], [-4, 10], c='black', linestyle=':')\n",
    "#ax.annotate(s='Durchschnitt aller Vereine', xy=(-110,3), color='black')\n",
    "\n",
    "ax.set_axisbelow(True)\n",
    "\n",
    "plt.savefig('Bundesliga_Transfer_Bilanz.pdf', transparent=True, bbox_inches='tight')\n",
    "plt.savefig('Bundesliga_Transfer_Bilanz.png', transparent=True, bbox_inches='tight')"
   ]
  },
  {
   "cell_type": "code",
   "execution_count": null,
   "metadata": {
    "collapsed": true
   },
   "outputs": [],
   "source": []
  },
  {
   "cell_type": "code",
   "execution_count": null,
   "metadata": {
    "collapsed": true
   },
   "outputs": [],
   "source": []
  }
 ],
 "metadata": {
  "kernelspec": {
   "display_name": "Python 3",
   "language": "python",
   "name": "python3"
  },
  "language_info": {
   "codemirror_mode": {
    "name": "ipython",
    "version": 3
   },
   "file_extension": ".py",
   "mimetype": "text/x-python",
   "name": "python",
   "nbconvert_exporter": "python",
   "pygments_lexer": "ipython3",
   "version": "3.5.1"
  }
 },
 "nbformat": 4,
 "nbformat_minor": 0
}

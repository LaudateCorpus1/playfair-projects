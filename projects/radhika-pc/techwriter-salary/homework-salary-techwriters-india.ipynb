{
 "cells": [
  {
   "cell_type": "code",
   "execution_count": 1,
   "metadata": {
    "collapsed": true
   },
   "outputs": [],
   "source": [
    "import matplotlib\n",
    "import pandas as pd\n",
    "import numpy as np\n",
    "import matplotlib.pyplot as plt\n",
    "%matplotlib inline\n",
    "plt.style.use('ggplot')\n",
    "import dateutil.parser\n",
    "import math\n",
    "import random\n",
    "import matplotlib.ticker as plticker\n",
    "\n",
    "import matplotlib.pyplot as plt\n",
    "\n",
    "from matplotlib.patches import Polygon\n",
    "matplotlib.rcParams['ps.fonttype'] = 42"
   ]
  },
  {
   "cell_type": "code",
   "execution_count": 2,
   "metadata": {
    "collapsed": false
   },
   "outputs": [
    {
     "data": {
      "text/html": [
       "<div>\n",
       "<table border=\"1\" class=\"dataframe\">\n",
       "  <thead>\n",
       "    <tr style=\"text-align: right;\">\n",
       "      <th></th>\n",
       "      <th>RespondentID</th>\n",
       "      <th>CollectorID</th>\n",
       "      <th>StartDate</th>\n",
       "      <th>EndDate</th>\n",
       "      <th>Salary in INR</th>\n",
       "      <th>Exp in Years</th>\n",
       "      <th>Exp in Months</th>\n",
       "      <th>Location</th>\n",
       "      <th>Age</th>\n",
       "    </tr>\n",
       "  </thead>\n",
       "  <tbody>\n",
       "    <tr>\n",
       "      <th>0</th>\n",
       "      <td>4311222830</td>\n",
       "      <td>75329984</td>\n",
       "      <td>11/06/2015 14:57:52</td>\n",
       "      <td>11/06/2015 14:58:28</td>\n",
       "      <td>1645000</td>\n",
       "      <td>9</td>\n",
       "      <td>6.0</td>\n",
       "      <td>National Capital Region\\n</td>\n",
       "      <td>31-33</td>\n",
       "    </tr>\n",
       "    <tr>\n",
       "      <th>1</th>\n",
       "      <td>4311138806</td>\n",
       "      <td>75329984</td>\n",
       "      <td>11/06/2015 14:23:17</td>\n",
       "      <td>11/06/2015 14:26:23</td>\n",
       "      <td>480000</td>\n",
       "      <td>4</td>\n",
       "      <td>1.0</td>\n",
       "      <td>Mumbai</td>\n",
       "      <td>29-30</td>\n",
       "    </tr>\n",
       "    <tr>\n",
       "      <th>2</th>\n",
       "      <td>4311134831</td>\n",
       "      <td>75329984</td>\n",
       "      <td>11/06/2015 14:23:30</td>\n",
       "      <td>11/06/2015 14:24:54</td>\n",
       "      <td>780000</td>\n",
       "      <td>6</td>\n",
       "      <td>5.0</td>\n",
       "      <td>Pune</td>\n",
       "      <td>29-30</td>\n",
       "    </tr>\n",
       "    <tr>\n",
       "      <th>3</th>\n",
       "      <td>4311090236</td>\n",
       "      <td>75329984</td>\n",
       "      <td>11/06/2015 14:05:30</td>\n",
       "      <td>11/06/2015 14:07:31</td>\n",
       "      <td>730000</td>\n",
       "      <td>3</td>\n",
       "      <td>9.0</td>\n",
       "      <td>Pune</td>\n",
       "      <td>31-33</td>\n",
       "    </tr>\n",
       "    <tr>\n",
       "      <th>4</th>\n",
       "      <td>4310980868</td>\n",
       "      <td>75329984</td>\n",
       "      <td>11/06/2015 13:18:03</td>\n",
       "      <td>11/06/2015 13:18:49</td>\n",
       "      <td>560000</td>\n",
       "      <td>5</td>\n",
       "      <td>6.0</td>\n",
       "      <td>Other locations</td>\n",
       "      <td>34-37</td>\n",
       "    </tr>\n",
       "  </tbody>\n",
       "</table>\n",
       "</div>"
      ],
      "text/plain": [
       "  RespondentID  CollectorID            StartDate              EndDate  \\\n",
       "0   4311222830     75329984  11/06/2015 14:57:52  11/06/2015 14:58:28   \n",
       "1   4311138806     75329984  11/06/2015 14:23:17  11/06/2015 14:26:23   \n",
       "2   4311134831     75329984  11/06/2015 14:23:30  11/06/2015 14:24:54   \n",
       "3   4311090236     75329984  11/06/2015 14:05:30  11/06/2015 14:07:31   \n",
       "4   4310980868     75329984  11/06/2015 13:18:03  11/06/2015 13:18:49   \n",
       "\n",
       "   Salary in INR  Exp in Years  Exp in Months                   Location  \\\n",
       "0        1645000             9            6.0  National Capital Region\\n   \n",
       "1         480000             4            1.0                     Mumbai   \n",
       "2         780000             6            5.0                       Pune   \n",
       "3         730000             3            9.0                       Pune   \n",
       "4         560000             5            6.0            Other locations   \n",
       "\n",
       "     Age  \n",
       "0  31-33  \n",
       "1  29-30  \n",
       "2  29-30  \n",
       "3  31-33  \n",
       "4  34-37  "
      ]
     },
     "execution_count": 2,
     "metadata": {},
     "output_type": "execute_result"
    }
   ],
   "source": [
    "df2015 = pd.read_csv(\"2015_salary_writers.csv\")\n",
    "df2015.head()"
   ]
  },
  {
   "cell_type": "code",
   "execution_count": 3,
   "metadata": {
    "collapsed": false
   },
   "outputs": [
    {
     "data": {
      "text/plain": [
       "Location\n",
       "Bangalore                    60\n",
       "Chennai                       4\n",
       "Hyderabad                    16\n",
       "Mumbai                        6\n",
       "National Capital Region\\n    11\n",
       "Other locations               6\n",
       "Pune                         49\n",
       "Name: Exp in Years, dtype: int64"
      ]
     },
     "execution_count": 3,
     "metadata": {},
     "output_type": "execute_result"
    }
   ],
   "source": [
    "df2015.groupby(\"Location\")['Exp in Years'].count()"
   ]
  },
  {
   "cell_type": "code",
   "execution_count": 34,
   "metadata": {
    "collapsed": false
   },
   "outputs": [
    {
     "data": {
      "text/plain": [
       "Location\n",
       "Bangalore                    53\n",
       "Chennai                       8\n",
       "Hyderabad                    10\n",
       "Mumbai                        6\n",
       "National Capital Region       1\n",
       "National Capital Region\\n     8\n",
       "Other locations               2\n",
       "Pune                         58\n",
       "Name: Exp in Years, dtype: int64"
      ]
     },
     "execution_count": 34,
     "metadata": {},
     "output_type": "execute_result"
    }
   ],
   "source": [
    "df2014.groupby(\"Location\")['Exp in Years'].count()"
   ]
  },
  {
   "cell_type": "code",
   "execution_count": 35,
   "metadata": {
    "collapsed": false
   },
   "outputs": [
    {
     "data": {
      "text/plain": [
       "Location\n",
       "Bangalore                  59\n",
       "Chennai                     8\n",
       "Hyderabad                  17\n",
       "Mumbai                      5\n",
       "National Capital Region    16\n",
       "Other locations             6\n",
       "Pune                       53\n",
       "Name: Exp in Years, dtype: int64"
      ]
     },
     "execution_count": 35,
     "metadata": {},
     "output_type": "execute_result"
    }
   ],
   "source": [
    "df2013.groupby(\"Location\")['Exp in Years'].count()"
   ]
  },
  {
   "cell_type": "code",
   "execution_count": 36,
   "metadata": {
    "collapsed": false
   },
   "outputs": [
    {
     "data": {
      "text/plain": [
       "Location\n",
       "Bangalore                  67\n",
       "Chennai                    12\n",
       "Hyderabad                  21\n",
       "Mumbai                      7\n",
       "National Capital Region    11\n",
       "Other locations             7\n",
       "Pune                       36\n",
       "Name: Exp in Years, dtype: int64"
      ]
     },
     "execution_count": 36,
     "metadata": {},
     "output_type": "execute_result"
    }
   ],
   "source": [
    "df2012.groupby(\"Location\")['Exp in Years'].count()"
   ]
  },
  {
   "cell_type": "code",
   "execution_count": null,
   "metadata": {
    "collapsed": false
   },
   "outputs": [],
   "source": [
    "df2011.columns"
   ]
  },
  {
   "cell_type": "code",
   "execution_count": 37,
   "metadata": {
    "collapsed": false
   },
   "outputs": [
    {
     "data": {
      "text/plain": [
       "Location\n",
       "Bangalore                  126\n",
       "Chennai                     14\n",
       "Hyderabad                   31\n",
       "Mumbai                      11\n",
       "National Capital Region     25\n",
       "Other locations             10\n",
       "Pune                        39\n",
       "Name: Exp in Years, dtype: int64"
      ]
     },
     "execution_count": 37,
     "metadata": {},
     "output_type": "execute_result"
    }
   ],
   "source": [
    "df2011.groupby(\"Location\")['Exp in Years'].count()"
   ]
  },
  {
   "cell_type": "code",
   "execution_count": 38,
   "metadata": {
    "collapsed": false
   },
   "outputs": [
    {
     "data": {
      "text/plain": [
       "Location\n",
       "Bangalore                  140\n",
       "Chennai                     15\n",
       "Hyderabad                   29\n",
       "Mumbai                      14\n",
       "National Capital Region     14\n",
       "Other locations              6\n",
       "Pune                        60\n",
       "Name: Exp in Years, dtype: int64"
      ]
     },
     "execution_count": 38,
     "metadata": {},
     "output_type": "execute_result"
    }
   ],
   "source": [
    "df2010.groupby(\"Location\")['Exp in Years'].count()"
   ]
  },
  {
   "cell_type": "code",
   "execution_count": 39,
   "metadata": {
    "collapsed": false
   },
   "outputs": [
    {
     "data": {
      "text/plain": [
       "Location\n",
       "Bangalore                    104\n",
       "Chennai                       25\n",
       "Hyderabad                     27\n",
       "Kolkata                        2\n",
       "Mumbai                        14\n",
       "National Capital Region       15\n",
       "National Capital Region )      1\n",
       "Other locations                3\n",
       "Pune                          46\n",
       "Name: Exp in Years, dtype: int64"
      ]
     },
     "execution_count": 39,
     "metadata": {},
     "output_type": "execute_result"
    }
   ],
   "source": [
    "df2009.groupby(\"Location\")['Exp in Years'].count()"
   ]
  },
  {
   "cell_type": "code",
   "execution_count": 40,
   "metadata": {
    "collapsed": false
   },
   "outputs": [
    {
     "data": {
      "text/plain": [
       "Location\n",
       "Bangalore                  126\n",
       "Calcutta                     1\n",
       "Chennai                     25\n",
       "Hyderabad                   32\n",
       "Mumbai                      13\n",
       "National Capital Region     23\n",
       "Other locations             12\n",
       "Pune                        71\n",
       "Name: Exp in Years, dtype: int64"
      ]
     },
     "execution_count": 40,
     "metadata": {},
     "output_type": "execute_result"
    }
   ],
   "source": [
    "df2008.groupby(\"Location\")['Exp in Years'].count()"
   ]
  },
  {
   "cell_type": "code",
   "execution_count": 41,
   "metadata": {
    "collapsed": false
   },
   "outputs": [
    {
     "data": {
      "text/plain": [
       "Location\n",
       "Bangalore                  179\n",
       "Chennai                     60\n",
       "Delhi                       12\n",
       "Hyderabad                   58\n",
       "Mumbai                      27\n",
       "National Capital Region     32\n",
       "Other locations              8\n",
       "Pune                        62\n",
       "Name: Exp in Years, dtype: int64"
      ]
     },
     "execution_count": 41,
     "metadata": {},
     "output_type": "execute_result"
    }
   ],
   "source": [
    "df2007.groupby(\"Location\")['Exp in Years'].count()"
   ]
  },
  {
   "cell_type": "code",
   "execution_count": 42,
   "metadata": {
    "collapsed": false
   },
   "outputs": [
    {
     "data": {
      "text/plain": [
       "Location\n",
       "Bangalore                  13\n",
       "Chennai                     5\n",
       "Hyderabad                   5\n",
       "Mumbai                      4\n",
       "National Capital Region     5\n",
       "Other locations             3\n",
       "Pune                        8\n",
       "Name: Exp in Years, dtype: int64"
      ]
     },
     "execution_count": 42,
     "metadata": {},
     "output_type": "execute_result"
    }
   ],
   "source": [
    "df2005.groupby(\"Location\")['Exp in Years'].count()"
   ]
  },
  {
   "cell_type": "code",
   "execution_count": 53,
   "metadata": {
    "collapsed": false
   },
   "outputs": [
    {
     "data": {
      "text/html": [
       "<div>\n",
       "<table border=\"1\" class=\"dataframe\">\n",
       "  <thead>\n",
       "    <tr style=\"text-align: right;\">\n",
       "      <th></th>\n",
       "      <th>Salary in INR</th>\n",
       "    </tr>\n",
       "    <tr>\n",
       "      <th>Location</th>\n",
       "      <th></th>\n",
       "    </tr>\n",
       "  </thead>\n",
       "  <tbody>\n",
       "    <tr>\n",
       "      <th>Bangalore</th>\n",
       "      <td>1200000</td>\n",
       "    </tr>\n",
       "    <tr>\n",
       "      <th>Chennai</th>\n",
       "      <td>937500</td>\n",
       "    </tr>\n",
       "    <tr>\n",
       "      <th>Hyderabad</th>\n",
       "      <td>1050000</td>\n",
       "    </tr>\n",
       "    <tr>\n",
       "      <th>Mumbai</th>\n",
       "      <td>1850000</td>\n",
       "    </tr>\n",
       "    <tr>\n",
       "      <th>National Capital Region\\n</th>\n",
       "      <td>1600000</td>\n",
       "    </tr>\n",
       "    <tr>\n",
       "      <th>Other locations</th>\n",
       "      <td>589500</td>\n",
       "    </tr>\n",
       "    <tr>\n",
       "      <th>Pune</th>\n",
       "      <td>1000000</td>\n",
       "    </tr>\n",
       "  </tbody>\n",
       "</table>\n",
       "</div>"
      ],
      "text/plain": [
       "                           Salary in INR\n",
       "Location                                \n",
       "Bangalore                        1200000\n",
       "Chennai                           937500\n",
       "Hyderabad                        1050000\n",
       "Mumbai                           1850000\n",
       "National Capital Region\\n        1600000\n",
       "Other locations                   589500\n",
       "Pune                             1000000"
      ]
     },
     "execution_count": 53,
     "metadata": {},
     "output_type": "execute_result"
    }
   ],
   "source": [
    "medsal2015 = pd.DataFrame(df2015.groupby(\"Location\")['Salary in INR'].median())\n",
    "medsal2015"
   ]
  },
  {
   "cell_type": "code",
   "execution_count": 95,
   "metadata": {
    "collapsed": false
   },
   "outputs": [
    {
     "data": {
      "text/html": [
       "<div>\n",
       "<table border=\"1\" class=\"dataframe\">\n",
       "  <thead>\n",
       "    <tr style=\"text-align: right;\">\n",
       "      <th></th>\n",
       "      <th>Salary in INR</th>\n",
       "    </tr>\n",
       "    <tr>\n",
       "      <th>Location</th>\n",
       "      <th></th>\n",
       "    </tr>\n",
       "  </thead>\n",
       "  <tbody>\n",
       "    <tr>\n",
       "      <th>Bangalore</th>\n",
       "      <td>1100000</td>\n",
       "    </tr>\n",
       "    <tr>\n",
       "      <th>Chennai</th>\n",
       "      <td>917500</td>\n",
       "    </tr>\n",
       "    <tr>\n",
       "      <th>Hyderabad</th>\n",
       "      <td>1168000</td>\n",
       "    </tr>\n",
       "    <tr>\n",
       "      <th>Mumbai</th>\n",
       "      <td>866400</td>\n",
       "    </tr>\n",
       "    <tr>\n",
       "      <th>National Capital Region</th>\n",
       "      <td>2150000</td>\n",
       "    </tr>\n",
       "    <tr>\n",
       "      <th>Other locations</th>\n",
       "      <td>1912500</td>\n",
       "    </tr>\n",
       "    <tr>\n",
       "      <th>Pune</th>\n",
       "      <td>730000</td>\n",
       "    </tr>\n",
       "  </tbody>\n",
       "</table>\n",
       "</div>"
      ],
      "text/plain": [
       "                         Salary in INR\n",
       "Location                              \n",
       "Bangalore                      1100000\n",
       "Chennai                         917500\n",
       "Hyderabad                      1168000\n",
       "Mumbai                          866400\n",
       "National Capital Region        2150000\n",
       "Other locations                1912500\n",
       "Pune                            730000"
      ]
     },
     "execution_count": 95,
     "metadata": {},
     "output_type": "execute_result"
    }
   ],
   "source": [
    "medsal2014 = pd.DataFrame(df2014.groupby(\"Location\")['Salary in INR'].median())\n",
    "medsal2014"
   ]
  },
  {
   "cell_type": "code",
   "execution_count": 49,
   "metadata": {
    "collapsed": false
   },
   "outputs": [
    {
     "data": {
      "text/html": [
       "<div>\n",
       "<table border=\"1\" class=\"dataframe\">\n",
       "  <thead>\n",
       "    <tr style=\"text-align: right;\">\n",
       "      <th></th>\n",
       "      <th>Salary in INR</th>\n",
       "    </tr>\n",
       "    <tr>\n",
       "      <th>Location</th>\n",
       "      <th></th>\n",
       "    </tr>\n",
       "  </thead>\n",
       "  <tbody>\n",
       "    <tr>\n",
       "      <th>Bangalore</th>\n",
       "      <td>1300000</td>\n",
       "    </tr>\n",
       "    <tr>\n",
       "      <th>Chennai</th>\n",
       "      <td>1032500</td>\n",
       "    </tr>\n",
       "    <tr>\n",
       "      <th>Hyderabad</th>\n",
       "      <td>1100000</td>\n",
       "    </tr>\n",
       "    <tr>\n",
       "      <th>Mumbai</th>\n",
       "      <td>800000</td>\n",
       "    </tr>\n",
       "    <tr>\n",
       "      <th>National Capital Region</th>\n",
       "      <td>1300000</td>\n",
       "    </tr>\n",
       "    <tr>\n",
       "      <th>Other locations</th>\n",
       "      <td>730000</td>\n",
       "    </tr>\n",
       "    <tr>\n",
       "      <th>Pune</th>\n",
       "      <td>898000</td>\n",
       "    </tr>\n",
       "  </tbody>\n",
       "</table>\n",
       "</div>"
      ],
      "text/plain": [
       "                         Salary in INR\n",
       "Location                              \n",
       "Bangalore                      1300000\n",
       "Chennai                        1032500\n",
       "Hyderabad                      1100000\n",
       "Mumbai                          800000\n",
       "National Capital Region        1300000\n",
       "Other locations                 730000\n",
       "Pune                            898000"
      ]
     },
     "execution_count": 49,
     "metadata": {},
     "output_type": "execute_result"
    }
   ],
   "source": [
    "medsal2013 = pd.DataFrame(df2013.groupby(\"Location\")['Salary in INR'].median())\n",
    "medsal2013"
   ]
  },
  {
   "cell_type": "code",
   "execution_count": 48,
   "metadata": {
    "collapsed": false
   },
   "outputs": [
    {
     "data": {
      "text/html": [
       "<div>\n",
       "<table border=\"1\" class=\"dataframe\">\n",
       "  <thead>\n",
       "    <tr style=\"text-align: right;\">\n",
       "      <th></th>\n",
       "      <th>Salary in INR</th>\n",
       "    </tr>\n",
       "    <tr>\n",
       "      <th>Location</th>\n",
       "      <th></th>\n",
       "    </tr>\n",
       "  </thead>\n",
       "  <tbody>\n",
       "    <tr>\n",
       "      <th>Bangalore</th>\n",
       "      <td>1050000</td>\n",
       "    </tr>\n",
       "    <tr>\n",
       "      <th>Chennai</th>\n",
       "      <td>625000</td>\n",
       "    </tr>\n",
       "    <tr>\n",
       "      <th>Hyderabad</th>\n",
       "      <td>865000</td>\n",
       "    </tr>\n",
       "    <tr>\n",
       "      <th>Mumbai</th>\n",
       "      <td>1200000</td>\n",
       "    </tr>\n",
       "    <tr>\n",
       "      <th>National Capital Region</th>\n",
       "      <td>960000</td>\n",
       "    </tr>\n",
       "    <tr>\n",
       "      <th>Other locations</th>\n",
       "      <td>1000000</td>\n",
       "    </tr>\n",
       "    <tr>\n",
       "      <th>Pune</th>\n",
       "      <td>956000</td>\n",
       "    </tr>\n",
       "  </tbody>\n",
       "</table>\n",
       "</div>"
      ],
      "text/plain": [
       "                         Salary in INR\n",
       "Location                              \n",
       "Bangalore                      1050000\n",
       "Chennai                         625000\n",
       "Hyderabad                       865000\n",
       "Mumbai                         1200000\n",
       "National Capital Region         960000\n",
       "Other locations                1000000\n",
       "Pune                            956000"
      ]
     },
     "execution_count": 48,
     "metadata": {},
     "output_type": "execute_result"
    }
   ],
   "source": [
    "medsal2012 = pd.DataFrame(df2012.groupby(\"Location\")['Salary in INR'].median())\n",
    "medsal2012"
   ]
  },
  {
   "cell_type": "code",
   "execution_count": 47,
   "metadata": {
    "collapsed": false
   },
   "outputs": [
    {
     "data": {
      "text/html": [
       "<div>\n",
       "<table border=\"1\" class=\"dataframe\">\n",
       "  <thead>\n",
       "    <tr style=\"text-align: right;\">\n",
       "      <th></th>\n",
       "      <th>Salary in INR</th>\n",
       "    </tr>\n",
       "    <tr>\n",
       "      <th>Location</th>\n",
       "      <th></th>\n",
       "    </tr>\n",
       "  </thead>\n",
       "  <tbody>\n",
       "    <tr>\n",
       "      <th>Bangalore</th>\n",
       "      <td>845000</td>\n",
       "    </tr>\n",
       "    <tr>\n",
       "      <th>Chennai</th>\n",
       "      <td>650000</td>\n",
       "    </tr>\n",
       "    <tr>\n",
       "      <th>Hyderabad</th>\n",
       "      <td>756000</td>\n",
       "    </tr>\n",
       "    <tr>\n",
       "      <th>Mumbai</th>\n",
       "      <td>1200000</td>\n",
       "    </tr>\n",
       "    <tr>\n",
       "      <th>National Capital Region</th>\n",
       "      <td>800000</td>\n",
       "    </tr>\n",
       "    <tr>\n",
       "      <th>Other locations</th>\n",
       "      <td>480000</td>\n",
       "    </tr>\n",
       "    <tr>\n",
       "      <th>Pune</th>\n",
       "      <td>550000</td>\n",
       "    </tr>\n",
       "  </tbody>\n",
       "</table>\n",
       "</div>"
      ],
      "text/plain": [
       "                         Salary in INR\n",
       "Location                              \n",
       "Bangalore                       845000\n",
       "Chennai                         650000\n",
       "Hyderabad                       756000\n",
       "Mumbai                         1200000\n",
       "National Capital Region         800000\n",
       "Other locations                 480000\n",
       "Pune                            550000"
      ]
     },
     "execution_count": 47,
     "metadata": {},
     "output_type": "execute_result"
    }
   ],
   "source": [
    "medsal2011 = pd.DataFrame(df2011.groupby(\"Location\")['Salary in INR'].median())\n",
    "medsal2011"
   ]
  },
  {
   "cell_type": "code",
   "execution_count": 46,
   "metadata": {
    "collapsed": false
   },
   "outputs": [
    {
     "data": {
      "text/html": [
       "<div>\n",
       "<table border=\"1\" class=\"dataframe\">\n",
       "  <thead>\n",
       "    <tr style=\"text-align: right;\">\n",
       "      <th></th>\n",
       "      <th>Salary in INR</th>\n",
       "    </tr>\n",
       "    <tr>\n",
       "      <th>Location</th>\n",
       "      <th></th>\n",
       "    </tr>\n",
       "  </thead>\n",
       "  <tbody>\n",
       "    <tr>\n",
       "      <th>Bangalore</th>\n",
       "      <td>800000</td>\n",
       "    </tr>\n",
       "    <tr>\n",
       "      <th>Chennai</th>\n",
       "      <td>600000</td>\n",
       "    </tr>\n",
       "    <tr>\n",
       "      <th>Hyderabad</th>\n",
       "      <td>640000</td>\n",
       "    </tr>\n",
       "    <tr>\n",
       "      <th>Mumbai</th>\n",
       "      <td>683000</td>\n",
       "    </tr>\n",
       "    <tr>\n",
       "      <th>National Capital Region</th>\n",
       "      <td>1150000</td>\n",
       "    </tr>\n",
       "    <tr>\n",
       "      <th>Other locations</th>\n",
       "      <td>750000</td>\n",
       "    </tr>\n",
       "    <tr>\n",
       "      <th>Pune</th>\n",
       "      <td>800000</td>\n",
       "    </tr>\n",
       "  </tbody>\n",
       "</table>\n",
       "</div>"
      ],
      "text/plain": [
       "                         Salary in INR\n",
       "Location                              \n",
       "Bangalore                       800000\n",
       "Chennai                         600000\n",
       "Hyderabad                       640000\n",
       "Mumbai                          683000\n",
       "National Capital Region        1150000\n",
       "Other locations                 750000\n",
       "Pune                            800000"
      ]
     },
     "execution_count": 46,
     "metadata": {},
     "output_type": "execute_result"
    }
   ],
   "source": [
    "medsal2010 = pd.DataFrame(df2010.groupby(\"Location\")['Salary in INR'].median())\n",
    "medsal2010"
   ]
  },
  {
   "cell_type": "code",
   "execution_count": 90,
   "metadata": {
    "collapsed": false
   },
   "outputs": [
    {
     "data": {
      "text/html": [
       "<div>\n",
       "<table border=\"1\" class=\"dataframe\">\n",
       "  <thead>\n",
       "    <tr style=\"text-align: right;\">\n",
       "      <th></th>\n",
       "      <th>Salary in INR</th>\n",
       "    </tr>\n",
       "    <tr>\n",
       "      <th>Location</th>\n",
       "      <th></th>\n",
       "    </tr>\n",
       "  </thead>\n",
       "  <tbody>\n",
       "    <tr>\n",
       "      <th>Bangalore</th>\n",
       "      <td>600000</td>\n",
       "    </tr>\n",
       "    <tr>\n",
       "      <th>Chennai</th>\n",
       "      <td>500000</td>\n",
       "    </tr>\n",
       "    <tr>\n",
       "      <th>Hyderabad</th>\n",
       "      <td>600000</td>\n",
       "    </tr>\n",
       "    <tr>\n",
       "      <th>Mumbai</th>\n",
       "      <td>370000</td>\n",
       "    </tr>\n",
       "    <tr>\n",
       "      <th>National Capital Region</th>\n",
       "      <td>567500</td>\n",
       "    </tr>\n",
       "    <tr>\n",
       "      <th>Other locations</th>\n",
       "      <td>780000</td>\n",
       "    </tr>\n",
       "    <tr>\n",
       "      <th>Pune</th>\n",
       "      <td>775000</td>\n",
       "    </tr>\n",
       "  </tbody>\n",
       "</table>\n",
       "</div>"
      ],
      "text/plain": [
       "                         Salary in INR\n",
       "Location                              \n",
       "Bangalore                       600000\n",
       "Chennai                         500000\n",
       "Hyderabad                       600000\n",
       "Mumbai                          370000\n",
       "National Capital Region         567500\n",
       "Other locations                 780000\n",
       "Pune                            775000"
      ]
     },
     "execution_count": 90,
     "metadata": {},
     "output_type": "execute_result"
    }
   ],
   "source": [
    "medsal2009 = pd.DataFrame(df2009.groupby(\"Location\")['Salary in INR'].median())\n",
    "medsal2009"
   ]
  },
  {
   "cell_type": "code",
   "execution_count": null,
   "metadata": {
    "collapsed": true
   },
   "outputs": [],
   "source": []
  },
  {
   "cell_type": "code",
   "execution_count": 86,
   "metadata": {
    "collapsed": false
   },
   "outputs": [
    {
     "data": {
      "text/html": [
       "<div>\n",
       "<table border=\"1\" class=\"dataframe\">\n",
       "  <thead>\n",
       "    <tr style=\"text-align: right;\">\n",
       "      <th></th>\n",
       "      <th>Salary in INR</th>\n",
       "    </tr>\n",
       "    <tr>\n",
       "      <th>Location</th>\n",
       "      <th></th>\n",
       "    </tr>\n",
       "  </thead>\n",
       "  <tbody>\n",
       "    <tr>\n",
       "      <th>Bangalore</th>\n",
       "      <td>600000</td>\n",
       "    </tr>\n",
       "    <tr>\n",
       "      <th>Chennai</th>\n",
       "      <td>430000</td>\n",
       "    </tr>\n",
       "    <tr>\n",
       "      <th>Hyderabad</th>\n",
       "      <td>817500</td>\n",
       "    </tr>\n",
       "    <tr>\n",
       "      <th>Mumbai</th>\n",
       "      <td>500000</td>\n",
       "    </tr>\n",
       "    <tr>\n",
       "      <th>National Capital Region</th>\n",
       "      <td>500000</td>\n",
       "    </tr>\n",
       "    <tr>\n",
       "      <th>Other locations</th>\n",
       "      <td>364800</td>\n",
       "    </tr>\n",
       "    <tr>\n",
       "      <th>Pune</th>\n",
       "      <td>710000</td>\n",
       "    </tr>\n",
       "  </tbody>\n",
       "</table>\n",
       "</div>"
      ],
      "text/plain": [
       "                         Salary in INR\n",
       "Location                              \n",
       "Bangalore                       600000\n",
       "Chennai                         430000\n",
       "Hyderabad                       817500\n",
       "Mumbai                          500000\n",
       "National Capital Region         500000\n",
       "Other locations                 364800\n",
       "Pune                            710000"
      ]
     },
     "execution_count": 86,
     "metadata": {},
     "output_type": "execute_result"
    }
   ],
   "source": [
    "medsal2008 = pd.DataFrame(df2008.groupby(\"Location\")['Salary in INR'].median())\n",
    "medsal2008"
   ]
  },
  {
   "cell_type": "code",
   "execution_count": 82,
   "metadata": {
    "collapsed": false
   },
   "outputs": [
    {
     "data": {
      "text/html": [
       "<div>\n",
       "<table border=\"1\" class=\"dataframe\">\n",
       "  <thead>\n",
       "    <tr style=\"text-align: right;\">\n",
       "      <th></th>\n",
       "      <th>Salary in INR</th>\n",
       "    </tr>\n",
       "    <tr>\n",
       "      <th>Location</th>\n",
       "      <th></th>\n",
       "    </tr>\n",
       "  </thead>\n",
       "  <tbody>\n",
       "    <tr>\n",
       "      <th>Bangalore</th>\n",
       "      <td>450000</td>\n",
       "    </tr>\n",
       "    <tr>\n",
       "      <th>Chennai</th>\n",
       "      <td>300000</td>\n",
       "    </tr>\n",
       "    <tr>\n",
       "      <th>Hyderabad</th>\n",
       "      <td>395500</td>\n",
       "    </tr>\n",
       "    <tr>\n",
       "      <th>Mumbai</th>\n",
       "      <td>250000</td>\n",
       "    </tr>\n",
       "    <tr>\n",
       "      <th>National Capital Region</th>\n",
       "      <td>400000</td>\n",
       "    </tr>\n",
       "    <tr>\n",
       "      <th>Other locations</th>\n",
       "      <td>219000</td>\n",
       "    </tr>\n",
       "    <tr>\n",
       "      <th>Pune</th>\n",
       "      <td>441000</td>\n",
       "    </tr>\n",
       "  </tbody>\n",
       "</table>\n",
       "</div>"
      ],
      "text/plain": [
       "                         Salary in INR\n",
       "Location                              \n",
       "Bangalore                       450000\n",
       "Chennai                         300000\n",
       "Hyderabad                       395500\n",
       "Mumbai                          250000\n",
       "National Capital Region         400000\n",
       "Other locations                 219000\n",
       "Pune                            441000"
      ]
     },
     "execution_count": 82,
     "metadata": {},
     "output_type": "execute_result"
    }
   ],
   "source": [
    "medsal2007 = pd.DataFrame(df2007.groupby(\"Location\")['Salary in INR'].median())\n",
    "medsal2007"
   ]
  },
  {
   "cell_type": "code",
   "execution_count": 44,
   "metadata": {
    "collapsed": false
   },
   "outputs": [
    {
     "data": {
      "text/html": [
       "<div>\n",
       "<table border=\"1\" class=\"dataframe\">\n",
       "  <thead>\n",
       "    <tr style=\"text-align: right;\">\n",
       "      <th></th>\n",
       "      <th>Salary in INR</th>\n",
       "    </tr>\n",
       "    <tr>\n",
       "      <th>Location</th>\n",
       "      <th></th>\n",
       "    </tr>\n",
       "  </thead>\n",
       "  <tbody>\n",
       "    <tr>\n",
       "      <th>Bangalore</th>\n",
       "      <td>600000</td>\n",
       "    </tr>\n",
       "    <tr>\n",
       "      <th>Chennai</th>\n",
       "      <td>300000</td>\n",
       "    </tr>\n",
       "    <tr>\n",
       "      <th>Hyderabad</th>\n",
       "      <td>500000</td>\n",
       "    </tr>\n",
       "    <tr>\n",
       "      <th>Mumbai</th>\n",
       "      <td>330000</td>\n",
       "    </tr>\n",
       "    <tr>\n",
       "      <th>National Capital Region</th>\n",
       "      <td>330000</td>\n",
       "    </tr>\n",
       "    <tr>\n",
       "      <th>Other locations</th>\n",
       "      <td>150000</td>\n",
       "    </tr>\n",
       "    <tr>\n",
       "      <th>Pune</th>\n",
       "      <td>585000</td>\n",
       "    </tr>\n",
       "  </tbody>\n",
       "</table>\n",
       "</div>"
      ],
      "text/plain": [
       "                         Salary in INR\n",
       "Location                              \n",
       "Bangalore                       600000\n",
       "Chennai                         300000\n",
       "Hyderabad                       500000\n",
       "Mumbai                          330000\n",
       "National Capital Region         330000\n",
       "Other locations                 150000\n",
       "Pune                            585000"
      ]
     },
     "execution_count": 44,
     "metadata": {},
     "output_type": "execute_result"
    }
   ],
   "source": [
    "medsal2005 = pd.DataFrame(df2005.groupby(\"Location\")['Salary in INR'].median())\n",
    "medsal2005"
   ]
  },
  {
   "cell_type": "code",
   "execution_count": 68,
   "metadata": {
    "collapsed": false
   },
   "outputs": [],
   "source": [
    "medsal2005.to_csv('medsal2005.csv')"
   ]
  },
  {
   "cell_type": "code",
   "execution_count": 83,
   "metadata": {
    "collapsed": true
   },
   "outputs": [],
   "source": [
    "medsal2007.to_csv('medsal2007.csv')"
   ]
  },
  {
   "cell_type": "code",
   "execution_count": 88,
   "metadata": {
    "collapsed": false
   },
   "outputs": [],
   "source": [
    "medsal2008.to_csv('medsal2008.csv')"
   ]
  },
  {
   "cell_type": "code",
   "execution_count": 91,
   "metadata": {
    "collapsed": true
   },
   "outputs": [],
   "source": [
    "medsal2009.to_csv('medsal2009.csv')"
   ]
  },
  {
   "cell_type": "code",
   "execution_count": 73,
   "metadata": {
    "collapsed": true
   },
   "outputs": [],
   "source": [
    "medsal2010.to_csv('medsal2010.csv')"
   ]
  },
  {
   "cell_type": "code",
   "execution_count": 74,
   "metadata": {
    "collapsed": true
   },
   "outputs": [],
   "source": [
    "medsal2011.to_csv('medsal2011.csv')"
   ]
  },
  {
   "cell_type": "code",
   "execution_count": 75,
   "metadata": {
    "collapsed": true
   },
   "outputs": [],
   "source": [
    "medsal2012.to_csv('medsal2012.csv')"
   ]
  },
  {
   "cell_type": "code",
   "execution_count": 76,
   "metadata": {
    "collapsed": true
   },
   "outputs": [],
   "source": [
    "medsal2013.to_csv('medsal2013.csv')"
   ]
  },
  {
   "cell_type": "code",
   "execution_count": 96,
   "metadata": {
    "collapsed": true
   },
   "outputs": [],
   "source": [
    "medsal2014.to_csv('medsal2014.csv')"
   ]
  },
  {
   "cell_type": "code",
   "execution_count": 78,
   "metadata": {
    "collapsed": true
   },
   "outputs": [],
   "source": [
    "medsal2015.to_csv('medsal2015.csv')"
   ]
  },
  {
   "cell_type": "code",
   "execution_count": null,
   "metadata": {
    "collapsed": false
   },
   "outputs": [],
   "source": [
    "medsal2015.plot(kind='barh')"
   ]
  },
  {
   "cell_type": "code",
   "execution_count": null,
   "metadata": {
    "collapsed": false
   },
   "outputs": [],
   "source": [
    "medsal2015.columns"
   ]
  },
  {
   "cell_type": "code",
   "execution_count": null,
   "metadata": {
    "collapsed": false
   },
   "outputs": [],
   "source": [
    "medsal2015.index.rename('Location', inplace=False)"
   ]
  },
  {
   "cell_type": "code",
   "execution_count": null,
   "metadata": {
    "collapsed": false
   },
   "outputs": [],
   "source": [
    "medsal2015.rename(columns={'Salary': 'Median Salary'}, inplace=True)"
   ]
  },
  {
   "cell_type": "code",
   "execution_count": null,
   "metadata": {
    "collapsed": false
   },
   "outputs": [],
   "source": [
    "category = 'Location'\n",
    "categories = df2015[category].unique().tolist()\n",
    "#categories = ['Bangalore', 'Delhi', 'Pune', 'Mumbai', 'Hyderabad','Other locations', 'Chnnai']\n",
    "len(categories)\n",
    "#print(*categories, sep=\"','\")\n",
    "categories"
   ]
  },
  {
   "cell_type": "code",
   "execution_count": null,
   "metadata": {
    "collapsed": false
   },
   "outputs": [],
   "source": [
    "x_col = 'Exp in Years'\n",
    "y_col = 'Salary'\n",
    "nrows = 7; ncols = 1\n",
    "num_plots = nrows * ncols  # number of subplots\n",
    "\n",
    "fig = plt.figure(figsize=(20, 25))\n",
    "\n",
    "axes = [plt.subplot(nrows,ncols,i) for i in range(1,num_plots+1)]\n",
    "\n",
    "plt.tight_layout(pad=0, w_pad=3, h_pad=1)\n",
    "plt.subplots_adjust(hspace=.5)\n",
    "\n",
    "colors = ['#FF2700', '#F6B900', '#77AB43', '#3EA8DC', 'red', 'orange', 'green', 'violet']\n",
    "\n",
    "count = 0\n",
    "\n",
    "for i in range(num_plots):\n",
    "    ax = axes[i]\n",
    "    ax.spines['top'].set_visible(False)\n",
    "    ax.spines['bottom'].set_visible(False)\n",
    "    ax.spines['left'].set_visible(False)\n",
    "    ax.spines['right'].set_visible(False)\n",
    "    \n",
    "    dfx = df2015[df2015[category]==categories[i]]#.head(5)\n",
    "    \n",
    "#   BAR CHARTS\n",
    "    x = dfx[x_col]\n",
    "    y = dfx[y_col]\n",
    "    ax.set_title(categories[i])\n",
    "    ax.scatter(dfx['Exp in Years'], dfx['Salary'], color=colors[count], cmap='gray', linewidth=0, alpha=0.6)\n",
    "\n",
    "    ax.set_xlim([0, 25])\n",
    "    ax.set_ylim([0, 3000000])\n",
    "    \n",
    "    count += 1\n",
    "plt.savefig('output.pdf')\n"
   ]
  },
  {
   "cell_type": "code",
   "execution_count": null,
   "metadata": {
    "collapsed": false
   },
   "outputs": [],
   "source": [
    "df2015.columns"
   ]
  },
  {
   "cell_type": "code",
   "execution_count": null,
   "metadata": {
    "collapsed": false
   },
   "outputs": [],
   "source": [
    "df2015[\"Age\"].value_counts()"
   ]
  },
  {
   "cell_type": "code",
   "execution_count": null,
   "metadata": {
    "collapsed": true
   },
   "outputs": [],
   "source": [
    "#for row in df['Age']:\n",
    "    \n",
    "    "
   ]
  },
  {
   "cell_type": "code",
   "execution_count": null,
   "metadata": {
    "collapsed": false
   },
   "outputs": [],
   "source": [
    "plt.style.use('fivethirtyeight')\n",
    "fig, ax = plt.subplots(figsize=(15,10))\n",
    "df[df['Location'] == 'Bangalore'].plot(kind='scatter', x='Exp in Years', y='Salary', label='Bangalore', ax=ax)\n",
    "df[df['Location'] == 'Pune'].plot(kind='scatter', color = 'violet', x='Exp in Years', y='Salary', ax=ax, label ='Pune')\n",
    "df[df['Location'] == 'National Capital Region (Delhi\\n Faridabad\\n Gurgaon\\n and Noida)\\n'].plot(kind='scatter', color = 'green', x='Exp in Years', y='Salary', ax=ax, label ='NCR')\n",
    "df[df['Location'] == 'Mumbai'].plot(kind='scatter', color = 'olive', x='Exp in Years', y='Salary', ax=ax, label='Mumbai')\n",
    "df[df['Location'] == 'Hyderabad'].plot(kind='scatter', color = 'chocolate', x='Exp in Years', y='Salary', ax=ax, label='Hyderabad')\n",
    "df[df['Location'] == 'Chennai'].plot(kind='scatter', color = 'blue', x='Exp in Years', y='Salary', ax=ax, label='Chennai')\n",
    "df[df['Location'] == 'Other locations'].plot(kind='scatter', color = 'red',x='Exp in Years', y='Salary', ax=ax, label='Other Locations')\n",
    "ax.set_xlim([0, 30])\n",
    "ax.set_ylim([0, 4000000])\n",
    "plt.savefig('salary.pdf')"
   ]
  },
  {
   "cell_type": "code",
   "execution_count": null,
   "metadata": {
    "collapsed": true
   },
   "outputs": [],
   "source": [
    "\n"
   ]
  },
  {
   "cell_type": "code",
   "execution_count": null,
   "metadata": {
    "collapsed": false
   },
   "outputs": [],
   "source": [
    "for row in df2015['Age'].unique():\n",
    "    print(row)"
   ]
  },
  {
   "cell_type": "code",
   "execution_count": 93,
   "metadata": {
    "collapsed": false
   },
   "outputs": [
    {
     "data": {
      "text/html": [
       "<div>\n",
       "<table border=\"1\" class=\"dataframe\">\n",
       "  <thead>\n",
       "    <tr style=\"text-align: right;\">\n",
       "      <th></th>\n",
       "      <th>Salary in INR</th>\n",
       "      <th>Exp in Years</th>\n",
       "      <th>Exp in  Months</th>\n",
       "      <th>Location</th>\n",
       "      <th>Age</th>\n",
       "    </tr>\n",
       "  </thead>\n",
       "  <tbody>\n",
       "    <tr>\n",
       "      <th>142</th>\n",
       "      <td>126000</td>\n",
       "      <td>7.0</td>\n",
       "      <td>6.0</td>\n",
       "      <td>Hyderabad</td>\n",
       "      <td>38-40</td>\n",
       "    </tr>\n",
       "    <tr>\n",
       "      <th>143</th>\n",
       "      <td>100000</td>\n",
       "      <td>6.0</td>\n",
       "      <td>3.0</td>\n",
       "      <td>Pune</td>\n",
       "      <td>29-30</td>\n",
       "    </tr>\n",
       "    <tr>\n",
       "      <th>144</th>\n",
       "      <td>30000</td>\n",
       "      <td>16.0</td>\n",
       "      <td>7.0</td>\n",
       "      <td>Pune</td>\n",
       "      <td>38-40</td>\n",
       "    </tr>\n",
       "    <tr>\n",
       "      <th>145</th>\n",
       "      <td>22000</td>\n",
       "      <td>0.0</td>\n",
       "      <td>6.0</td>\n",
       "      <td>Pune</td>\n",
       "      <td>31-33</td>\n",
       "    </tr>\n",
       "    <tr>\n",
       "      <th>146</th>\n",
       "      <td>19800</td>\n",
       "      <td>2.0</td>\n",
       "      <td>2.0</td>\n",
       "      <td>Bangalore</td>\n",
       "      <td>22-24</td>\n",
       "    </tr>\n",
       "  </tbody>\n",
       "</table>\n",
       "</div>"
      ],
      "text/plain": [
       "     Salary in INR  Exp in Years  Exp in  Months   Location    Age\n",
       "142         126000           7.0             6.0  Hyderabad  38-40\n",
       "143         100000           6.0             3.0       Pune  29-30\n",
       "144          30000          16.0             7.0       Pune  38-40\n",
       "145          22000           0.0             6.0       Pune  31-33\n",
       "146          19800           2.0             2.0  Bangalore  22-24"
      ]
     },
     "execution_count": 93,
     "metadata": {},
     "output_type": "execute_result"
    }
   ],
   "source": [
    "df2014 = pd.read_csv(\"2014_salary_writers.csv\")\n",
    "df2014.tail()"
   ]
  },
  {
   "cell_type": "code",
   "execution_count": 94,
   "metadata": {
    "collapsed": false
   },
   "outputs": [
    {
     "data": {
      "text/plain": [
       "Location\n",
       "Bangalore                  53\n",
       "Chennai                     8\n",
       "Hyderabad                  10\n",
       "Mumbai                      6\n",
       "National Capital Region     9\n",
       "Other locations             2\n",
       "Pune                       58\n",
       "Name: Exp in Years, dtype: int64"
      ]
     },
     "execution_count": 94,
     "metadata": {},
     "output_type": "execute_result"
    }
   ],
   "source": [
    "df2014.groupby(\"Location\")['Exp in Years'].count()"
   ]
  },
  {
   "cell_type": "code",
   "execution_count": null,
   "metadata": {
    "collapsed": false
   },
   "outputs": [],
   "source": [
    "plt.style.use('fivethirtyeight')\n",
    "fig, ax = plt.subplots(figsize=(15,10))\n",
    "df2014[df2014['Location'] == 'Bangalore'].plot(kind='scatter', x='Exp in Years', y='Salary', label='Bangalore', ax=ax)\n",
    "df2014[df2014['Location'] == 'Pune'].plot(kind='scatter', color = 'violet', x='Exp in Years', y='Salary', ax=ax, label ='Pune')\n",
    "df2014[df2014['Location'] == 'National Capital Region (Delhi, Faridabad, Gurgaon, and Noida)'].plot(kind='scatter', color = 'green', x='Exp in Years', y='Salary', ax=ax, label ='Delhi')\n",
    "df2014[df2014['Location'] == 'Mumbai'].plot(kind='scatter', color = 'olive', x='Exp in Years', y='Salary', ax=ax, label='Mumbai')\n",
    "df2014[df2014['Location'] == 'Hyderabad'].plot(kind='scatter', color = 'chocolate', x='Exp in Years', y='Salary', ax=ax, label='Hyderabad')\n",
    "df2014[df2014['Location'] == 'Chennai'].plot(kind='scatter', color = 'blue', x='Exp in Years', y='Salary', ax=ax, label='Chennai')\n",
    "df2014[df2014['Location'] == 'Other locations'].plot(kind='scatter', color = 'red',x='Exp in Years', y='Salary', ax=ax, label='Other Locations')\n",
    "ax.set_xlim([0, 30])\n",
    "ax.set_ylim([300000, 4000000])\n",
    "plt.savefig('salary2014.pdf')"
   ]
  },
  {
   "cell_type": "code",
   "execution_count": 9,
   "metadata": {
    "collapsed": false
   },
   "outputs": [
    {
     "data": {
      "text/html": [
       "<div>\n",
       "<table border=\"1\" class=\"dataframe\">\n",
       "  <thead>\n",
       "    <tr style=\"text-align: right;\">\n",
       "      <th></th>\n",
       "      <th>RespondentID</th>\n",
       "      <th>Salary in INR</th>\n",
       "      <th>Exp in Years</th>\n",
       "      <th>Exp in Months</th>\n",
       "      <th>Location</th>\n",
       "      <th>Age</th>\n",
       "    </tr>\n",
       "  </thead>\n",
       "  <tbody>\n",
       "    <tr>\n",
       "      <th>160</th>\n",
       "      <td>2854509711</td>\n",
       "      <td>725000</td>\n",
       "      <td>2.0</td>\n",
       "      <td>9.0</td>\n",
       "      <td>Hyderabad</td>\n",
       "      <td>27-28</td>\n",
       "    </tr>\n",
       "    <tr>\n",
       "      <th>161</th>\n",
       "      <td>2854503848</td>\n",
       "      <td>1320000</td>\n",
       "      <td>9.0</td>\n",
       "      <td>NaN</td>\n",
       "      <td>Other locations</td>\n",
       "      <td>31-33</td>\n",
       "    </tr>\n",
       "    <tr>\n",
       "      <th>162</th>\n",
       "      <td>2854501485</td>\n",
       "      <td>1218000</td>\n",
       "      <td>8.0</td>\n",
       "      <td>3.0</td>\n",
       "      <td>Hyderabad</td>\n",
       "      <td>29-30</td>\n",
       "    </tr>\n",
       "    <tr>\n",
       "      <th>163</th>\n",
       "      <td>2854501355</td>\n",
       "      <td>800000</td>\n",
       "      <td>5.0</td>\n",
       "      <td>3.0</td>\n",
       "      <td>Pune</td>\n",
       "      <td>29-30</td>\n",
       "    </tr>\n",
       "    <tr>\n",
       "      <th>164</th>\n",
       "      <td>2854491393</td>\n",
       "      <td>270000</td>\n",
       "      <td>13.0</td>\n",
       "      <td>0.0</td>\n",
       "      <td>Pune</td>\n",
       "      <td>34-37</td>\n",
       "    </tr>\n",
       "  </tbody>\n",
       "</table>\n",
       "</div>"
      ],
      "text/plain": [
       "     RespondentID  Salary in INR  Exp in Years  Exp in Months  \\\n",
       "160    2854509711         725000           2.0            9.0   \n",
       "161    2854503848        1320000           9.0            NaN   \n",
       "162    2854501485        1218000           8.0            3.0   \n",
       "163    2854501355         800000           5.0            3.0   \n",
       "164    2854491393         270000          13.0            0.0   \n",
       "\n",
       "            Location    Age  \n",
       "160        Hyderabad  27-28  \n",
       "161  Other locations  31-33  \n",
       "162        Hyderabad  29-30  \n",
       "163             Pune  29-30  \n",
       "164             Pune  34-37  "
      ]
     },
     "execution_count": 9,
     "metadata": {},
     "output_type": "execute_result"
    }
   ],
   "source": [
    "df2013 = pd.read_csv(\"2013_salary_writers.csv\")\n",
    "df2013.tail()"
   ]
  },
  {
   "cell_type": "code",
   "execution_count": 10,
   "metadata": {
    "collapsed": false
   },
   "outputs": [
    {
     "data": {
      "text/plain": [
       "Location\n",
       "Bangalore                  59\n",
       "Chennai                     8\n",
       "Hyderabad                  17\n",
       "Mumbai                      5\n",
       "National Capital Region    16\n",
       "Other locations             6\n",
       "Pune                       53\n",
       "Name: Exp in Years, dtype: int64"
      ]
     },
     "execution_count": 10,
     "metadata": {},
     "output_type": "execute_result"
    }
   ],
   "source": [
    "df2013.groupby(\"Location\")['Exp in Years'].count()"
   ]
  },
  {
   "cell_type": "code",
   "execution_count": 85,
   "metadata": {
    "collapsed": false
   },
   "outputs": [
    {
     "data": {
      "text/plain": [
       "Location\n",
       "Bangalore                  126\n",
       "Chennai                     25\n",
       "Hyderabad                   32\n",
       "Mumbai                      13\n",
       "National Capital Region     23\n",
       "Other locations             13\n",
       "Pune                        71\n",
       "Name: Exp in Years, dtype: int64"
      ]
     },
     "execution_count": 85,
     "metadata": {},
     "output_type": "execute_result"
    }
   ],
   "source": [
    "df2008.groupby(\"Location\")['Exp in Years'].count()"
   ]
  },
  {
   "cell_type": "code",
   "execution_count": 11,
   "metadata": {
    "collapsed": false
   },
   "outputs": [
    {
     "data": {
      "text/plain": [
       "31-33           46\n",
       "34-37           35\n",
       "29-30           22\n",
       "38-40           17\n",
       "40-45           15\n",
       "27-28           11\n",
       "25-26           10\n",
       "46-50            7\n",
       "22-24            1\n",
       "51 and above     1\n",
       "Name: Age, dtype: int64"
      ]
     },
     "execution_count": 11,
     "metadata": {},
     "output_type": "execute_result"
    }
   ],
   "source": [
    "df2013[\"Age\"].value_counts()"
   ]
  },
  {
   "cell_type": "code",
   "execution_count": null,
   "metadata": {
    "collapsed": false
   },
   "outputs": [],
   "source": [
    "plt.style.use('ggplot')\n",
    "sizes = 75 \n",
    "fig, ax = plt.subplots(figsize=(15,10))\n",
    "df2013[df2013['Location'] == 'Bangalore'].plot(kind='scatter', x='Exp in Years', y='Salary in INR', label='Bangalore', ax=ax, s=sizes)\n",
    "df2013[df2013['Location'] == 'Pune'].plot(kind='scatter', color = 'violet', x='Exp in Years', y='Salary in INR', ax=ax, label ='Pune', s=sizes)\n",
    "df2013[df2013['Location'] == 'National Capital Region (Delhi, Faridabad, Gurgaon, and Noida)'].plot(kind='scatter', color = 'green', x='Exp in Years', y='Salary in INR', ax=ax, label ='Delhi', s=sizes)\n",
    "df2013[df2013['Location'] == 'Mumbai'].plot(kind='scatter', color = 'olive', x='Exp in Years', y='Salary in INR', ax=ax, label='Mumbai', s=sizes)\n",
    "df2013[df2013['Location'] == 'Hyderabad'].plot(kind='scatter', color = 'chocolate', x='Exp in Years', y='Salary in INR', ax=ax, label='Hyderabad', s=sizes)\n",
    "df2013[df2013['Location'] == 'Chennai'].plot(kind='scatter', color = 'blue', x='Exp in Years', y='Salary in INR', ax=ax, label='Chennai', s=sizes)\n",
    "df2013[df2013['Location'] == 'Other locations'].plot(kind='scatter', color = 'red',x='Exp in Years', y='Salary in INR', ax=ax, label='Other Locations', s=sizes)\n",
    "ax.set_xlim([0, 30])\n",
    "ax.set_ylim([300000, 4000000])\n",
    "plt.savefig('salary2013.pdf')"
   ]
  },
  {
   "cell_type": "code",
   "execution_count": null,
   "metadata": {
    "collapsed": false
   },
   "outputs": [],
   "source": [
    "fig, ax = plt.subplots(figsize=(15,10))\n",
    "w = 0.3\n",
    "\n",
    "df2014.groupby(\"Location\")['Salary in INR'].median().plot(kind='barh', align='center',label ='2014', color= 'pink', ax=ax, position=0, width=0.25)\n",
    "df2013.groupby(\"Location\")['Salary in INR'].median().plot(kind='barh',align='center', label ='2013', color= 'red',ax=ax, position=1, width=0.25)\n",
    "df2012.groupby(\"Location\")['Salary in INR'].median().plot(kind='barh', align='center',label ='2012', color= 'deeppink',ax=ax, position=2, width=0.25)\n",
    "df2011.groupby(\"Location\")['Salary in INR'].median().plot(kind='barh',align='center', label ='2011', color= 'lightcoral',ax=ax, position=3, width=0.25)\n",
    "df2010.groupby(\"Location\")['Salary in INR'].median().plot(kind='barh', align='center',label ='2010', color= 'magenta',ax=ax, position=4, width=0.25)\n",
    "df2009.groupby(\"Location\")['Salary in INR'].median().plot(kind='barh',align='center', label ='2009', color= 'orange',ax=ax, position=5, width=0.25)\n",
    "df2008.groupby(\"Location\")['Salary in INR'].median().plot(kind='barh',align='center', label ='2008', color= 'yellow',ax=ax, position=6, width=0.25)\n",
    "ax.legend(loc='upper right')\n",
    "ax.set_ylabel(\"Salary in INR\")\n",
    "ax.set_xlabel(\"Indian Cities\")\n",
    "plt.savefig('salary-median.pdf')"
   ]
  },
  {
   "cell_type": "code",
   "execution_count": 12,
   "metadata": {
    "collapsed": false
   },
   "outputs": [
    {
     "data": {
      "text/html": [
       "<div>\n",
       "<table border=\"1\" class=\"dataframe\">\n",
       "  <thead>\n",
       "    <tr style=\"text-align: right;\">\n",
       "      <th></th>\n",
       "      <th>RespondentID</th>\n",
       "      <th>CollectorID</th>\n",
       "      <th>Salary in INR</th>\n",
       "      <th>Exp in Years</th>\n",
       "      <th>Exp in Months</th>\n",
       "      <th>Location</th>\n",
       "      <th>Age</th>\n",
       "    </tr>\n",
       "  </thead>\n",
       "  <tbody>\n",
       "    <tr>\n",
       "      <th>156</th>\n",
       "      <td>2158233406</td>\n",
       "      <td>33540710</td>\n",
       "      <td>837911</td>\n",
       "      <td>5</td>\n",
       "      <td>6.0</td>\n",
       "      <td>Bangalore</td>\n",
       "      <td>27-28</td>\n",
       "    </tr>\n",
       "    <tr>\n",
       "      <th>157</th>\n",
       "      <td>2158222066</td>\n",
       "      <td>33540710</td>\n",
       "      <td>1000000</td>\n",
       "      <td>6</td>\n",
       "      <td>9.0</td>\n",
       "      <td>Bangalore</td>\n",
       "      <td>29-30</td>\n",
       "    </tr>\n",
       "    <tr>\n",
       "      <th>158</th>\n",
       "      <td>2158220469</td>\n",
       "      <td>33540710</td>\n",
       "      <td>500000</td>\n",
       "      <td>3</td>\n",
       "      <td>NaN</td>\n",
       "      <td>Pune</td>\n",
       "      <td>27-28</td>\n",
       "    </tr>\n",
       "    <tr>\n",
       "      <th>159</th>\n",
       "      <td>2158219886</td>\n",
       "      <td>33540710</td>\n",
       "      <td>400000</td>\n",
       "      <td>2</td>\n",
       "      <td>6.0</td>\n",
       "      <td>Bangalore</td>\n",
       "      <td>27-28</td>\n",
       "    </tr>\n",
       "    <tr>\n",
       "      <th>160</th>\n",
       "      <td>2158205117</td>\n",
       "      <td>33540710</td>\n",
       "      <td>500000</td>\n",
       "      <td>5</td>\n",
       "      <td>NaN</td>\n",
       "      <td>Other locations</td>\n",
       "      <td>51 and above</td>\n",
       "    </tr>\n",
       "  </tbody>\n",
       "</table>\n",
       "</div>"
      ],
      "text/plain": [
       "     RespondentID  CollectorID  Salary in INR  Exp in Years  Exp in Months  \\\n",
       "156    2158233406     33540710         837911             5            6.0   \n",
       "157    2158222066     33540710        1000000             6            9.0   \n",
       "158    2158220469     33540710         500000             3            NaN   \n",
       "159    2158219886     33540710         400000             2            6.0   \n",
       "160    2158205117     33540710         500000             5            NaN   \n",
       "\n",
       "            Location           Age  \n",
       "156        Bangalore         27-28  \n",
       "157        Bangalore         29-30  \n",
       "158             Pune         27-28  \n",
       "159        Bangalore         27-28  \n",
       "160  Other locations  51 and above  "
      ]
     },
     "execution_count": 12,
     "metadata": {},
     "output_type": "execute_result"
    }
   ],
   "source": [
    "df2012 = pd.read_excel(\"2012_salary_writers.xls\")\n",
    "df2012.tail()"
   ]
  },
  {
   "cell_type": "code",
   "execution_count": 13,
   "metadata": {
    "collapsed": false
   },
   "outputs": [
    {
     "data": {
      "text/plain": [
       "Location\n",
       "Bangalore                  67\n",
       "Chennai                    12\n",
       "Hyderabad                  21\n",
       "Mumbai                      7\n",
       "National Capital Region    11\n",
       "Other locations             7\n",
       "Pune                       36\n",
       "Name: Exp in Years, dtype: int64"
      ]
     },
     "execution_count": 13,
     "metadata": {},
     "output_type": "execute_result"
    }
   ],
   "source": [
    "df2012.groupby(\"Location\")['Exp in Years'].count()"
   ]
  },
  {
   "cell_type": "code",
   "execution_count": 14,
   "metadata": {
    "collapsed": false
   },
   "outputs": [
    {
     "data": {
      "text/plain": [
       "31-33           38\n",
       "34-37           30\n",
       "29-30           21\n",
       "27-28           21\n",
       "40-45           18\n",
       "25-26           11\n",
       "38-40           10\n",
       "22-24            5\n",
       "46-50            4\n",
       "51 and above     3\n",
       "Name: Age, dtype: int64"
      ]
     },
     "execution_count": 14,
     "metadata": {},
     "output_type": "execute_result"
    }
   ],
   "source": [
    "df2012[\"Age\"].value_counts()"
   ]
  },
  {
   "cell_type": "code",
   "execution_count": 15,
   "metadata": {
    "collapsed": false
   },
   "outputs": [
    {
     "data": {
      "text/html": [
       "<div>\n",
       "<table border=\"1\" class=\"dataframe\">\n",
       "  <thead>\n",
       "    <tr style=\"text-align: right;\">\n",
       "      <th></th>\n",
       "      <th>RespondentID</th>\n",
       "      <th>Salary in INR</th>\n",
       "      <th>Exp in Years</th>\n",
       "      <th>Exp in Months</th>\n",
       "      <th>Location</th>\n",
       "      <th>Age</th>\n",
       "    </tr>\n",
       "  </thead>\n",
       "  <tbody>\n",
       "    <tr>\n",
       "      <th>253</th>\n",
       "      <td>1567584691</td>\n",
       "      <td>2350000</td>\n",
       "      <td>9.0</td>\n",
       "      <td>4.0</td>\n",
       "      <td>Bangalore</td>\n",
       "      <td>29-30</td>\n",
       "    </tr>\n",
       "    <tr>\n",
       "      <th>254</th>\n",
       "      <td>1567584344</td>\n",
       "      <td>1500000</td>\n",
       "      <td>10.0</td>\n",
       "      <td>6.0</td>\n",
       "      <td>Bangalore</td>\n",
       "      <td>34-37</td>\n",
       "    </tr>\n",
       "    <tr>\n",
       "      <th>255</th>\n",
       "      <td>1567584022</td>\n",
       "      <td>1720092</td>\n",
       "      <td>13.0</td>\n",
       "      <td>2.0</td>\n",
       "      <td>Bangalore</td>\n",
       "      <td>34-37</td>\n",
       "    </tr>\n",
       "    <tr>\n",
       "      <th>256</th>\n",
       "      <td>1567583865</td>\n",
       "      <td>2170000</td>\n",
       "      <td>10.0</td>\n",
       "      <td>0.0</td>\n",
       "      <td>Bangalore</td>\n",
       "      <td>31-33</td>\n",
       "    </tr>\n",
       "    <tr>\n",
       "      <th>257</th>\n",
       "      <td>1567582602</td>\n",
       "      <td>480000</td>\n",
       "      <td>3.0</td>\n",
       "      <td>9.0</td>\n",
       "      <td>Bangalore</td>\n",
       "      <td>29-30</td>\n",
       "    </tr>\n",
       "  </tbody>\n",
       "</table>\n",
       "</div>"
      ],
      "text/plain": [
       "     RespondentID  Salary in INR  Exp in Years  Exp in Months   Location  \\\n",
       "253    1567584691        2350000           9.0            4.0  Bangalore   \n",
       "254    1567584344        1500000          10.0            6.0  Bangalore   \n",
       "255    1567584022        1720092          13.0            2.0  Bangalore   \n",
       "256    1567583865        2170000          10.0            0.0  Bangalore   \n",
       "257    1567582602         480000           3.0            9.0  Bangalore   \n",
       "\n",
       "       Age  \n",
       "253  29-30  \n",
       "254  34-37  \n",
       "255  34-37  \n",
       "256  31-33  \n",
       "257  29-30  "
      ]
     },
     "execution_count": 15,
     "metadata": {},
     "output_type": "execute_result"
    }
   ],
   "source": [
    "df2011 = pd.read_csv(\"2011_salary_writers.csv\")\n",
    "df2011.tail()"
   ]
  },
  {
   "cell_type": "code",
   "execution_count": 17,
   "metadata": {
    "collapsed": false
   },
   "outputs": [
    {
     "name": "stdout",
     "output_type": "stream",
     "text": [
      "<class 'pandas.core.frame.DataFrame'>\n",
      "RangeIndex: 258 entries, 0 to 257\n",
      "Data columns (total 6 columns):\n",
      "RespondentID     258 non-null int64\n",
      "Salary in INR    258 non-null int64\n",
      "Exp in Years     256 non-null float64\n",
      "Exp in Months    200 non-null float64\n",
      "Location         258 non-null object\n",
      "Age              258 non-null object\n",
      "dtypes: float64(2), int64(2), object(2)\n",
      "memory usage: 10.1+ KB\n"
     ]
    }
   ],
   "source": [
    "df2011.info()"
   ]
  },
  {
   "cell_type": "code",
   "execution_count": 19,
   "metadata": {
    "collapsed": false
   },
   "outputs": [
    {
     "data": {
      "text/html": [
       "<div>\n",
       "<table border=\"1\" class=\"dataframe\">\n",
       "  <thead>\n",
       "    <tr style=\"text-align: right;\">\n",
       "      <th></th>\n",
       "      <th>RespondentID</th>\n",
       "      <th>Salary in INR</th>\n",
       "      <th>Exp in Years</th>\n",
       "      <th>Exp in Months</th>\n",
       "      <th>Location</th>\n",
       "      <th>Age</th>\n",
       "    </tr>\n",
       "  </thead>\n",
       "  <tbody>\n",
       "    <tr>\n",
       "      <th>275</th>\n",
       "      <td>1159191144</td>\n",
       "      <td>325000</td>\n",
       "      <td>0.0</td>\n",
       "      <td>6.0</td>\n",
       "      <td>Bangalore</td>\n",
       "      <td>25-26</td>\n",
       "    </tr>\n",
       "    <tr>\n",
       "      <th>276</th>\n",
       "      <td>1159191123</td>\n",
       "      <td>650000</td>\n",
       "      <td>6.0</td>\n",
       "      <td>1.0</td>\n",
       "      <td>Hyderabad</td>\n",
       "      <td>29-30</td>\n",
       "    </tr>\n",
       "    <tr>\n",
       "      <th>277</th>\n",
       "      <td>1159191023</td>\n",
       "      <td>480000</td>\n",
       "      <td>3.0</td>\n",
       "      <td>7.0</td>\n",
       "      <td>Bangalore</td>\n",
       "      <td>29-30</td>\n",
       "    </tr>\n",
       "    <tr>\n",
       "      <th>278</th>\n",
       "      <td>1159190943</td>\n",
       "      <td>240000</td>\n",
       "      <td>0.0</td>\n",
       "      <td>3.0</td>\n",
       "      <td>Bangalore</td>\n",
       "      <td>27-28</td>\n",
       "    </tr>\n",
       "    <tr>\n",
       "      <th>279</th>\n",
       "      <td>1159190612</td>\n",
       "      <td>2400000</td>\n",
       "      <td>14.0</td>\n",
       "      <td>NaN</td>\n",
       "      <td>Bangalore</td>\n",
       "      <td>34-37</td>\n",
       "    </tr>\n",
       "  </tbody>\n",
       "</table>\n",
       "</div>"
      ],
      "text/plain": [
       "     RespondentID  Salary in INR  Exp in Years  Exp in Months   Location  \\\n",
       "275    1159191144         325000           0.0            6.0  Bangalore   \n",
       "276    1159191123         650000           6.0            1.0  Hyderabad   \n",
       "277    1159191023         480000           3.0            7.0  Bangalore   \n",
       "278    1159190943         240000           0.0            3.0  Bangalore   \n",
       "279    1159190612        2400000          14.0            NaN  Bangalore   \n",
       "\n",
       "       Age  \n",
       "275  25-26  \n",
       "276  29-30  \n",
       "277  29-30  \n",
       "278  27-28  \n",
       "279  34-37  "
      ]
     },
     "execution_count": 19,
     "metadata": {},
     "output_type": "execute_result"
    }
   ],
   "source": [
    "df2010 = pd.read_csv(\"2010_salary_writers.csv\")\n",
    "df2010.tail()"
   ]
  },
  {
   "cell_type": "code",
   "execution_count": 21,
   "metadata": {
    "collapsed": false
   },
   "outputs": [],
   "source": [
    "df2010['Salary in INR'] = df2010['Salary in INR'].astype(int)"
   ]
  },
  {
   "cell_type": "code",
   "execution_count": 22,
   "metadata": {
    "collapsed": false
   },
   "outputs": [
    {
     "name": "stdout",
     "output_type": "stream",
     "text": [
      "<class 'pandas.core.frame.DataFrame'>\n",
      "RangeIndex: 280 entries, 0 to 279\n",
      "Data columns (total 6 columns):\n",
      "RespondentID     280 non-null int64\n",
      "Salary in INR    280 non-null int32\n",
      "Exp in Years     278 non-null float64\n",
      "Exp in Months    221 non-null float64\n",
      "Location         280 non-null object\n",
      "Age              280 non-null object\n",
      "dtypes: float64(2), int32(1), int64(1), object(2)\n",
      "memory usage: 9.9+ KB\n"
     ]
    }
   ],
   "source": [
    "df2010.info()"
   ]
  },
  {
   "cell_type": "code",
   "execution_count": 89,
   "metadata": {
    "collapsed": false
   },
   "outputs": [
    {
     "data": {
      "text/html": [
       "<div>\n",
       "<table border=\"1\" class=\"dataframe\">\n",
       "  <thead>\n",
       "    <tr style=\"text-align: right;\">\n",
       "      <th></th>\n",
       "      <th>RespondentID</th>\n",
       "      <th>CollectorID</th>\n",
       "      <th>StartDate</th>\n",
       "      <th>EndDate</th>\n",
       "      <th>IP Address</th>\n",
       "      <th>Email Address</th>\n",
       "      <th>Name</th>\n",
       "      <th>Role in Your Current Company</th>\n",
       "      <th>Exp in Years</th>\n",
       "      <th>Age</th>\n",
       "      <th>...</th>\n",
       "      <th>Unnamed: 14</th>\n",
       "      <th>Unnamed: 15</th>\n",
       "      <th>Unnamed: 16</th>\n",
       "      <th>Unnamed: 17</th>\n",
       "      <th>Is Technical Communication your first profession?</th>\n",
       "      <th>Primary role in the Current Job</th>\n",
       "      <th>Unnamed: 20</th>\n",
       "      <th>Size of the Documentation Team</th>\n",
       "      <th>What was your salary exactly 12 months back?</th>\n",
       "      <th>Unnamed: 23</th>\n",
       "    </tr>\n",
       "  </thead>\n",
       "  <tbody>\n",
       "    <tr>\n",
       "      <th>233</th>\n",
       "      <td>880296025</td>\n",
       "      <td>10842734</td>\n",
       "      <td>2009-10-08 17:42:01</td>\n",
       "      <td>2009-10-08 17:43:09</td>\n",
       "      <td>121.246.33.78</td>\n",
       "      <td>NaN</td>\n",
       "      <td>Sayee Jadhav</td>\n",
       "      <td>Junior Technical Writer</td>\n",
       "      <td>0.2</td>\n",
       "      <td>24</td>\n",
       "      <td>...</td>\n",
       "      <td>NaN</td>\n",
       "      <td>NaN</td>\n",
       "      <td>NaN</td>\n",
       "      <td>NaN</td>\n",
       "      <td>currently</td>\n",
       "      <td>Writing</td>\n",
       "      <td>NaN</td>\n",
       "      <td>Depends on project</td>\n",
       "      <td>0</td>\n",
       "      <td>NaN</td>\n",
       "    </tr>\n",
       "    <tr>\n",
       "      <th>234</th>\n",
       "      <td>880294664</td>\n",
       "      <td>10842734</td>\n",
       "      <td>2009-10-08 17:39:58</td>\n",
       "      <td>2009-10-08 17:41:55</td>\n",
       "      <td>122.163.41.82</td>\n",
       "      <td>NaN</td>\n",
       "      <td>Anonymous :-)</td>\n",
       "      <td>Technical Writer</td>\n",
       "      <td>3.0</td>\n",
       "      <td>27</td>\n",
       "      <td>...</td>\n",
       "      <td>Medical Insurance</td>\n",
       "      <td>NaN</td>\n",
       "      <td>NaN</td>\n",
       "      <td>NaN</td>\n",
       "      <td>Y</td>\n",
       "      <td>Writing</td>\n",
       "      <td>NaN</td>\n",
       "      <td>6</td>\n",
       "      <td>550000</td>\n",
       "      <td>NaN</td>\n",
       "    </tr>\n",
       "    <tr>\n",
       "      <th>235</th>\n",
       "      <td>880286032</td>\n",
       "      <td>10842734</td>\n",
       "      <td>2009-10-08 17:31:39</td>\n",
       "      <td>2009-10-08 17:33:36</td>\n",
       "      <td>122.167.41.194</td>\n",
       "      <td>NaN</td>\n",
       "      <td>Nafisa</td>\n",
       "      <td>Team Lead</td>\n",
       "      <td>5.0</td>\n",
       "      <td>27</td>\n",
       "      <td>...</td>\n",
       "      <td>Medical Insurance</td>\n",
       "      <td>NaN</td>\n",
       "      <td>NaN</td>\n",
       "      <td>NaN</td>\n",
       "      <td>Y</td>\n",
       "      <td>Writing</td>\n",
       "      <td>NaN</td>\n",
       "      <td>8</td>\n",
       "      <td>720000</td>\n",
       "      <td>NaN</td>\n",
       "    </tr>\n",
       "    <tr>\n",
       "      <th>236</th>\n",
       "      <td>880285329</td>\n",
       "      <td>10842734</td>\n",
       "      <td>2009-10-08 17:25:12</td>\n",
       "      <td>2009-10-08 17:32:51</td>\n",
       "      <td>122.248.161.91</td>\n",
       "      <td>NaN</td>\n",
       "      <td>Anindita Basu</td>\n",
       "      <td>Information Developer</td>\n",
       "      <td>4.0</td>\n",
       "      <td>40</td>\n",
       "      <td>...</td>\n",
       "      <td>NaN</td>\n",
       "      <td>Support for Higher Education</td>\n",
       "      <td>NaN</td>\n",
       "      <td>NaN</td>\n",
       "      <td>N</td>\n",
       "      <td>Writing</td>\n",
       "      <td>NaN</td>\n",
       "      <td>It's huge.  Am not sure.</td>\n",
       "      <td>600000</td>\n",
       "      <td>NaN</td>\n",
       "    </tr>\n",
       "    <tr>\n",
       "      <th>237</th>\n",
       "      <td>880265121</td>\n",
       "      <td>10842734</td>\n",
       "      <td>2009-10-08 17:10:55</td>\n",
       "      <td>2009-10-08 17:12:07</td>\n",
       "      <td>122.166.154.75</td>\n",
       "      <td>NaN</td>\n",
       "      <td>Swaminathan Moorthy</td>\n",
       "      <td>Technical Project Leader</td>\n",
       "      <td>6.0</td>\n",
       "      <td>26</td>\n",
       "      <td>...</td>\n",
       "      <td>Medical Insurance</td>\n",
       "      <td>Support for Higher Education</td>\n",
       "      <td>Professional Association Memberships</td>\n",
       "      <td>NaN</td>\n",
       "      <td>Y</td>\n",
       "      <td>Writing</td>\n",
       "      <td>NaN</td>\n",
       "      <td>80</td>\n",
       "      <td>640000</td>\n",
       "      <td>NaN</td>\n",
       "    </tr>\n",
       "  </tbody>\n",
       "</table>\n",
       "<p>5 rows × 24 columns</p>\n",
       "</div>"
      ],
      "text/plain": [
       "     RespondentID  CollectorID           StartDate             EndDate  \\\n",
       "233     880296025     10842734 2009-10-08 17:42:01 2009-10-08 17:43:09   \n",
       "234     880294664     10842734 2009-10-08 17:39:58 2009-10-08 17:41:55   \n",
       "235     880286032     10842734 2009-10-08 17:31:39 2009-10-08 17:33:36   \n",
       "236     880285329     10842734 2009-10-08 17:25:12 2009-10-08 17:32:51   \n",
       "237     880265121     10842734 2009-10-08 17:10:55 2009-10-08 17:12:07   \n",
       "\n",
       "         IP Address  Email Address                 Name  \\\n",
       "233   121.246.33.78            NaN         Sayee Jadhav   \n",
       "234   122.163.41.82            NaN        Anonymous :-)   \n",
       "235  122.167.41.194            NaN               Nafisa   \n",
       "236  122.248.161.91            NaN        Anindita Basu   \n",
       "237  122.166.154.75            NaN  Swaminathan Moorthy   \n",
       "\n",
       "    Role in Your Current Company  Exp in Years Age     ...      \\\n",
       "233      Junior Technical Writer           0.2  24     ...       \n",
       "234             Technical Writer           3.0  27     ...       \n",
       "235                    Team Lead           5.0  27     ...       \n",
       "236        Information Developer           4.0  40     ...       \n",
       "237     Technical Project Leader           6.0  26     ...       \n",
       "\n",
       "           Unnamed: 14                   Unnamed: 15  \\\n",
       "233                NaN                           NaN   \n",
       "234  Medical Insurance                           NaN   \n",
       "235  Medical Insurance                           NaN   \n",
       "236                NaN  Support for Higher Education   \n",
       "237  Medical Insurance  Support for Higher Education   \n",
       "\n",
       "                              Unnamed: 16 Unnamed: 17  \\\n",
       "233                                   NaN         NaN   \n",
       "234                                   NaN         NaN   \n",
       "235                                   NaN         NaN   \n",
       "236                                   NaN         NaN   \n",
       "237  Professional Association Memberships         NaN   \n",
       "\n",
       "    Is Technical Communication your first profession?  \\\n",
       "233                                         currently   \n",
       "234                                                 Y   \n",
       "235                                                 Y   \n",
       "236                                                 N   \n",
       "237                                                 Y   \n",
       "\n",
       "    Primary role in the Current Job Unnamed: 20  \\\n",
       "233                         Writing         NaN   \n",
       "234                         Writing         NaN   \n",
       "235                         Writing         NaN   \n",
       "236                         Writing         NaN   \n",
       "237                         Writing         NaN   \n",
       "\n",
       "    Size of the Documentation Team  \\\n",
       "233             Depends on project   \n",
       "234                              6   \n",
       "235                              8   \n",
       "236       It's huge.  Am not sure.   \n",
       "237                             80   \n",
       "\n",
       "    What was your salary exactly 12 months back? Unnamed: 23  \n",
       "233                                            0         NaN  \n",
       "234                                       550000         NaN  \n",
       "235                                       720000         NaN  \n",
       "236                                       600000         NaN  \n",
       "237                                       640000         NaN  \n",
       "\n",
       "[5 rows x 24 columns]"
      ]
     },
     "execution_count": 89,
     "metadata": {},
     "output_type": "execute_result"
    }
   ],
   "source": [
    "df2009 = pd.read_excel(\"2009_salary_writers.xlsx\")\n",
    "df2009.tail()"
   ]
  },
  {
   "cell_type": "code",
   "execution_count": 84,
   "metadata": {
    "collapsed": false
   },
   "outputs": [
    {
     "data": {
      "text/html": [
       "<div>\n",
       "<table border=\"1\" class=\"dataframe\">\n",
       "  <thead>\n",
       "    <tr style=\"text-align: right;\">\n",
       "      <th></th>\n",
       "      <th>RespondentID</th>\n",
       "      <th>Exp in Years</th>\n",
       "      <th>Exp in Months</th>\n",
       "      <th>Age</th>\n",
       "      <th>Location</th>\n",
       "      <th>Salary in INR</th>\n",
       "    </tr>\n",
       "  </thead>\n",
       "  <tbody>\n",
       "    <tr>\n",
       "      <th>298</th>\n",
       "      <td>696869299</td>\n",
       "      <td>4.8</td>\n",
       "      <td>8</td>\n",
       "      <td>29</td>\n",
       "      <td>Chennai</td>\n",
       "      <td>600000</td>\n",
       "    </tr>\n",
       "    <tr>\n",
       "      <th>299</th>\n",
       "      <td>696869009</td>\n",
       "      <td>4.8</td>\n",
       "      <td>8</td>\n",
       "      <td>26</td>\n",
       "      <td>Bangalore</td>\n",
       "      <td>750000</td>\n",
       "    </tr>\n",
       "    <tr>\n",
       "      <th>300</th>\n",
       "      <td>696868842</td>\n",
       "      <td>10.8</td>\n",
       "      <td>8</td>\n",
       "      <td>31</td>\n",
       "      <td>Bangalore</td>\n",
       "      <td>1800000</td>\n",
       "    </tr>\n",
       "    <tr>\n",
       "      <th>301</th>\n",
       "      <td>696868589</td>\n",
       "      <td>9.1</td>\n",
       "      <td>10</td>\n",
       "      <td>31</td>\n",
       "      <td>Other locations</td>\n",
       "      <td>1400000</td>\n",
       "    </tr>\n",
       "    <tr>\n",
       "      <th>302</th>\n",
       "      <td>696867739</td>\n",
       "      <td>2.0</td>\n",
       "      <td>2</td>\n",
       "      <td>22</td>\n",
       "      <td>Other locations</td>\n",
       "      <td>200000</td>\n",
       "    </tr>\n",
       "  </tbody>\n",
       "</table>\n",
       "</div>"
      ],
      "text/plain": [
       "     RespondentID  Exp in Years Exp in Months  Age         Location  \\\n",
       "298     696869299           4.8             8   29          Chennai   \n",
       "299     696869009           4.8             8   26        Bangalore   \n",
       "300     696868842          10.8             8   31        Bangalore   \n",
       "301     696868589           9.1            10   31  Other locations   \n",
       "302     696867739           2.0             2   22  Other locations   \n",
       "\n",
       "     Salary in INR  \n",
       "298         600000  \n",
       "299         750000  \n",
       "300        1800000  \n",
       "301        1400000  \n",
       "302         200000  "
      ]
     },
     "execution_count": 84,
     "metadata": {},
     "output_type": "execute_result"
    }
   ],
   "source": [
    "df2008 = pd.read_csv(\"2008_salary_writers.csv\")\n",
    "df2008.tail()"
   ]
  },
  {
   "cell_type": "code",
   "execution_count": 30,
   "metadata": {
    "collapsed": false
   },
   "outputs": [],
   "source": [
    "df2008['Exp in Years'] = df2008['Exp in Years'].astype(float)"
   ]
  },
  {
   "cell_type": "code",
   "execution_count": 31,
   "metadata": {
    "collapsed": false
   },
   "outputs": [
    {
     "name": "stdout",
     "output_type": "stream",
     "text": [
      "<class 'pandas.core.frame.DataFrame'>\n",
      "RangeIndex: 303 entries, 0 to 302\n",
      "Data columns (total 6 columns):\n",
      "RespondentID     303 non-null int64\n",
      "Exp in Years     303 non-null float64\n",
      "Exp in Months    236 non-null object\n",
      "Age              303 non-null int64\n",
      "Location         303 non-null object\n",
      "Salary in INR    303 non-null int64\n",
      "dtypes: float64(1), int64(3), object(2)\n",
      "memory usage: 11.9+ KB\n"
     ]
    }
   ],
   "source": [
    "df2008.info()"
   ]
  },
  {
   "cell_type": "code",
   "execution_count": 79,
   "metadata": {
    "collapsed": false
   },
   "outputs": [
    {
     "data": {
      "text/html": [
       "<div>\n",
       "<table border=\"1\" class=\"dataframe\">\n",
       "  <thead>\n",
       "    <tr style=\"text-align: right;\">\n",
       "      <th></th>\n",
       "      <th>Experience</th>\n",
       "      <th>Age</th>\n",
       "      <th>Salary in INR</th>\n",
       "      <th>Exp in Years</th>\n",
       "      <th>Rs./year of experience</th>\n",
       "      <th>average hourly rate for non-salaried)</th>\n",
       "      <th>Location</th>\n",
       "      <th>Other location</th>\n",
       "      <th>percentage of time spent in managerial or supervisory role</th>\n",
       "      <th>number of job changes</th>\n",
       "      <th>...</th>\n",
       "      <th>Unnamed: 167</th>\n",
       "      <th>Unnamed: 168</th>\n",
       "      <th>2. How satisfied are you with your current compensation?</th>\n",
       "      <th>Unnamed: 170</th>\n",
       "      <th>3. If you quit your current job for another, other than better monetary benefits, what other things you would be looking for? Select a higher score for a more important factor.</th>\n",
       "      <th>Unnamed: 172</th>\n",
       "      <th>Unnamed: 173</th>\n",
       "      <th>Unnamed: 174</th>\n",
       "      <th>Unnamed: 175</th>\n",
       "      <th>Unnamed: 176</th>\n",
       "    </tr>\n",
       "  </thead>\n",
       "  <tbody>\n",
       "    <tr>\n",
       "      <th>444</th>\n",
       "      <td>5.0</td>\n",
       "      <td>30.0</td>\n",
       "      <td>550000</td>\n",
       "      <td>5</td>\n",
       "      <td>110000.000000</td>\n",
       "      <td>NaN</td>\n",
       "      <td>Hyderabad</td>\n",
       "      <td>NaN</td>\n",
       "      <td>0% to 25%</td>\n",
       "      <td>2.0</td>\n",
       "      <td>...</td>\n",
       "      <td>NaN</td>\n",
       "      <td>NaN</td>\n",
       "      <td>Not satisfied</td>\n",
       "      <td>Satisfied</td>\n",
       "      <td>5.0</td>\n",
       "      <td>5.0</td>\n",
       "      <td>3.0</td>\n",
       "      <td>3.0</td>\n",
       "      <td>4.0</td>\n",
       "      <td>4.0</td>\n",
       "    </tr>\n",
       "    <tr>\n",
       "      <th>446</th>\n",
       "      <td>2.0</td>\n",
       "      <td>28.0</td>\n",
       "      <td>54000</td>\n",
       "      <td>2</td>\n",
       "      <td>27000.000000</td>\n",
       "      <td>NaN</td>\n",
       "      <td>Hyderabad</td>\n",
       "      <td>NaN</td>\n",
       "      <td>26% to 50%</td>\n",
       "      <td>0.0</td>\n",
       "      <td>...</td>\n",
       "      <td>NaN</td>\n",
       "      <td>NaN</td>\n",
       "      <td>NaN</td>\n",
       "      <td>NaN</td>\n",
       "      <td>NaN</td>\n",
       "      <td>NaN</td>\n",
       "      <td>NaN</td>\n",
       "      <td>NaN</td>\n",
       "      <td>NaN</td>\n",
       "      <td>NaN</td>\n",
       "    </tr>\n",
       "    <tr>\n",
       "      <th>447</th>\n",
       "      <td>2.0</td>\n",
       "      <td>26.0</td>\n",
       "      <td>300000</td>\n",
       "      <td>2</td>\n",
       "      <td>150000.000000</td>\n",
       "      <td>NaN</td>\n",
       "      <td>Bangalore</td>\n",
       "      <td>NaN</td>\n",
       "      <td>0% to 25%</td>\n",
       "      <td>1.0</td>\n",
       "      <td>...</td>\n",
       "      <td>NaN</td>\n",
       "      <td>NaN</td>\n",
       "      <td>Satisfied</td>\n",
       "      <td>Not satisfied</td>\n",
       "      <td>5.0</td>\n",
       "      <td>4.0</td>\n",
       "      <td>NaN</td>\n",
       "      <td>NaN</td>\n",
       "      <td>5.0</td>\n",
       "      <td>NaN</td>\n",
       "    </tr>\n",
       "    <tr>\n",
       "      <th>448</th>\n",
       "      <td>7.0</td>\n",
       "      <td>31.0</td>\n",
       "      <td>500000</td>\n",
       "      <td>7</td>\n",
       "      <td>71428.571429</td>\n",
       "      <td>NaN</td>\n",
       "      <td>National Capital Region</td>\n",
       "      <td>NaN</td>\n",
       "      <td>51% to 75%</td>\n",
       "      <td>4.0</td>\n",
       "      <td>...</td>\n",
       "      <td>NaN</td>\n",
       "      <td>NaN</td>\n",
       "      <td>Satisfied</td>\n",
       "      <td>Satisfied</td>\n",
       "      <td>5.0</td>\n",
       "      <td>5.0</td>\n",
       "      <td>4.0</td>\n",
       "      <td>4.0</td>\n",
       "      <td>5.0</td>\n",
       "      <td>5.0</td>\n",
       "    </tr>\n",
       "    <tr>\n",
       "      <th>449</th>\n",
       "      <td>4.0</td>\n",
       "      <td>35.0</td>\n",
       "      <td>368000</td>\n",
       "      <td>4</td>\n",
       "      <td>92000.000000</td>\n",
       "      <td>NaN</td>\n",
       "      <td>Hyderabad</td>\n",
       "      <td>NaN</td>\n",
       "      <td>26% to 50%</td>\n",
       "      <td>0.0</td>\n",
       "      <td>...</td>\n",
       "      <td>NaN</td>\n",
       "      <td>NaN</td>\n",
       "      <td>Satisfied</td>\n",
       "      <td>Satisfied</td>\n",
       "      <td>1.0</td>\n",
       "      <td>NaN</td>\n",
       "      <td>NaN</td>\n",
       "      <td>NaN</td>\n",
       "      <td>1.0</td>\n",
       "      <td>1.0</td>\n",
       "    </tr>\n",
       "  </tbody>\n",
       "</table>\n",
       "<p>5 rows × 177 columns</p>\n",
       "</div>"
      ],
      "text/plain": [
       "     Experience   Age  Salary in INR  Exp in Years  Rs./year of experience  \\\n",
       "444         5.0  30.0         550000             5           110000.000000   \n",
       "446         2.0  28.0          54000             2            27000.000000   \n",
       "447         2.0  26.0         300000             2           150000.000000   \n",
       "448         7.0  31.0         500000             7            71428.571429   \n",
       "449         4.0  35.0         368000             4            92000.000000   \n",
       "\n",
       "     average hourly rate for non-salaried)                 Location  \\\n",
       "444                                    NaN                Hyderabad   \n",
       "446                                    NaN                Hyderabad   \n",
       "447                                    NaN                Bangalore   \n",
       "448                                    NaN  National Capital Region   \n",
       "449                                    NaN                Hyderabad   \n",
       "\n",
       "    Other location percentage of time spent in managerial or supervisory role  \\\n",
       "444            NaN                                          0% to 25%           \n",
       "446            NaN                                         26% to 50%           \n",
       "447            NaN                                          0% to 25%           \n",
       "448            NaN                                         51% to 75%           \n",
       "449            NaN                                         26% to 50%           \n",
       "\n",
       "     number of job changes     ...      Unnamed: 167 Unnamed: 168  \\\n",
       "444                    2.0     ...               NaN          NaN   \n",
       "446                    0.0     ...               NaN          NaN   \n",
       "447                    1.0     ...               NaN          NaN   \n",
       "448                    4.0     ...               NaN          NaN   \n",
       "449                    0.0     ...               NaN          NaN   \n",
       "\n",
       "    2. How satisfied are you with your current compensation?   Unnamed: 170  \\\n",
       "444                                      Not satisfied            Satisfied   \n",
       "446                                                NaN                  NaN   \n",
       "447                                          Satisfied        Not satisfied   \n",
       "448                                          Satisfied            Satisfied   \n",
       "449                                          Satisfied            Satisfied   \n",
       "\n",
       "    3. If you quit your current job for another, other than better monetary benefits, what other things you would be looking for? Select a higher score for a more important factor.   \\\n",
       "444                                                5.0                                                                                                                                  \n",
       "446                                                NaN                                                                                                                                  \n",
       "447                                                5.0                                                                                                                                  \n",
       "448                                                5.0                                                                                                                                  \n",
       "449                                                1.0                                                                                                                                  \n",
       "\n",
       "    Unnamed: 172 Unnamed: 173 Unnamed: 174  Unnamed: 175 Unnamed: 176  \n",
       "444          5.0          3.0          3.0           4.0          4.0  \n",
       "446          NaN          NaN          NaN           NaN          NaN  \n",
       "447          4.0          NaN          NaN           5.0          NaN  \n",
       "448          5.0          4.0          4.0           5.0          5.0  \n",
       "449          NaN          NaN          NaN           1.0          1.0  \n",
       "\n",
       "[5 rows x 177 columns]"
      ]
     },
     "execution_count": 79,
     "metadata": {},
     "output_type": "execute_result"
    }
   ],
   "source": [
    "df2007 = pd.read_excel(\"2007_salary_writers.xls\")\n",
    "df2007.tail()"
   ]
  },
  {
   "cell_type": "code",
   "execution_count": 32,
   "metadata": {
    "collapsed": false
   },
   "outputs": [
    {
     "name": "stdout",
     "output_type": "stream",
     "text": [
      "<class 'pandas.core.frame.DataFrame'>\n",
      "Int64Index: 438 entries, 1 to 449\n",
      "Columns: 177 entries, Experience to Unnamed: 176\n",
      "dtypes: float64(23), int64(2), object(152)\n",
      "memory usage: 349.0+ KB\n"
     ]
    }
   ],
   "source": [
    "df2007.info()"
   ]
  },
  {
   "cell_type": "code",
   "execution_count": 26,
   "metadata": {
    "collapsed": false
   },
   "outputs": [
    {
     "data": {
      "text/html": [
       "<div>\n",
       "<table border=\"1\" class=\"dataframe\">\n",
       "  <thead>\n",
       "    <tr style=\"text-align: right;\">\n",
       "      <th></th>\n",
       "      <th>RespondentID</th>\n",
       "      <th>Exp in Years</th>\n",
       "      <th>Age</th>\n",
       "      <th>Salary in INR</th>\n",
       "      <th>Location</th>\n",
       "      <th>Unnamed: 5</th>\n",
       "      <th>Unnamed: 6</th>\n",
       "      <th>Unnamed: 7</th>\n",
       "      <th>Unnamed: 8</th>\n",
       "      <th>Unnamed: 9</th>\n",
       "      <th>...</th>\n",
       "      <th>Unnamed: 237</th>\n",
       "      <th>Unnamed: 238</th>\n",
       "      <th>Unnamed: 239</th>\n",
       "      <th>1. What are the non-monetary benefits you get from your employer?</th>\n",
       "      <th>Unnamed: 241</th>\n",
       "      <th>Unnamed: 242</th>\n",
       "      <th>Unnamed: 243</th>\n",
       "      <th>Unnamed: 244</th>\n",
       "      <th>Unnamed: 245</th>\n",
       "      <th>Unnamed: 246</th>\n",
       "    </tr>\n",
       "  </thead>\n",
       "  <tbody>\n",
       "    <tr>\n",
       "      <th>38</th>\n",
       "      <td>109909145</td>\n",
       "      <td>1.9</td>\n",
       "      <td>22.0</td>\n",
       "      <td>278000</td>\n",
       "      <td>Pune</td>\n",
       "      <td>NaN</td>\n",
       "      <td>NaN</td>\n",
       "      <td>NaN</td>\n",
       "      <td>NaN</td>\n",
       "      <td>NaN</td>\n",
       "      <td>...</td>\n",
       "      <td>NaN</td>\n",
       "      <td>NaN</td>\n",
       "      <td>NaN</td>\n",
       "      <td>NaN</td>\n",
       "      <td>NaN</td>\n",
       "      <td>NaN</td>\n",
       "      <td>NaN</td>\n",
       "      <td>NaN</td>\n",
       "      <td>NaN</td>\n",
       "      <td>NaN</td>\n",
       "    </tr>\n",
       "    <tr>\n",
       "      <th>39</th>\n",
       "      <td>109910936</td>\n",
       "      <td>4.0</td>\n",
       "      <td>34.0</td>\n",
       "      <td>360000</td>\n",
       "      <td>Mumbai</td>\n",
       "      <td>NaN</td>\n",
       "      <td>NaN</td>\n",
       "      <td>NaN</td>\n",
       "      <td>NaN</td>\n",
       "      <td>Mumbai</td>\n",
       "      <td>...</td>\n",
       "      <td>NaN</td>\n",
       "      <td>NaN</td>\n",
       "      <td>NaN</td>\n",
       "      <td>NaN</td>\n",
       "      <td>NaN</td>\n",
       "      <td>NaN</td>\n",
       "      <td>NaN</td>\n",
       "      <td>NaN</td>\n",
       "      <td>NaN</td>\n",
       "      <td>NaN</td>\n",
       "    </tr>\n",
       "    <tr>\n",
       "      <th>40</th>\n",
       "      <td>109912693</td>\n",
       "      <td>2.0</td>\n",
       "      <td>25.0</td>\n",
       "      <td>300000</td>\n",
       "      <td>Mumbai</td>\n",
       "      <td>NaN</td>\n",
       "      <td>NaN</td>\n",
       "      <td>NaN</td>\n",
       "      <td>NaN</td>\n",
       "      <td>Mumbai</td>\n",
       "      <td>...</td>\n",
       "      <td>NaN</td>\n",
       "      <td>NaN</td>\n",
       "      <td>NaN</td>\n",
       "      <td>NaN</td>\n",
       "      <td>NaN</td>\n",
       "      <td>NaN</td>\n",
       "      <td>NaN</td>\n",
       "      <td>NaN</td>\n",
       "      <td>NaN</td>\n",
       "      <td>NaN</td>\n",
       "    </tr>\n",
       "    <tr>\n",
       "      <th>41</th>\n",
       "      <td>109912948</td>\n",
       "      <td>5.0</td>\n",
       "      <td>32.0</td>\n",
       "      <td>600000</td>\n",
       "      <td>Bangalore</td>\n",
       "      <td>NaN</td>\n",
       "      <td>NaN</td>\n",
       "      <td>NaN</td>\n",
       "      <td>NaN</td>\n",
       "      <td>NaN</td>\n",
       "      <td>...</td>\n",
       "      <td>NaN</td>\n",
       "      <td>NaN</td>\n",
       "      <td>NaN</td>\n",
       "      <td>Health insurance for self</td>\n",
       "      <td>Health insurance for dependents</td>\n",
       "      <td>NaN</td>\n",
       "      <td>Employee stock options</td>\n",
       "      <td>Employee stock purchase plan</td>\n",
       "      <td>Flexible Work Timings</td>\n",
       "      <td>NaN</td>\n",
       "    </tr>\n",
       "    <tr>\n",
       "      <th>42</th>\n",
       "      <td>109913079</td>\n",
       "      <td>5.0</td>\n",
       "      <td>27.0</td>\n",
       "      <td>750000</td>\n",
       "      <td>Hyderabad</td>\n",
       "      <td>NaN</td>\n",
       "      <td>NaN</td>\n",
       "      <td>NaN</td>\n",
       "      <td>Hyderabad</td>\n",
       "      <td>NaN</td>\n",
       "      <td>...</td>\n",
       "      <td>NaN</td>\n",
       "      <td>NaN</td>\n",
       "      <td>NaN</td>\n",
       "      <td>NaN</td>\n",
       "      <td>NaN</td>\n",
       "      <td>NaN</td>\n",
       "      <td>NaN</td>\n",
       "      <td>NaN</td>\n",
       "      <td>NaN</td>\n",
       "      <td>NaN</td>\n",
       "    </tr>\n",
       "  </tbody>\n",
       "</table>\n",
       "<p>5 rows × 247 columns</p>\n",
       "</div>"
      ],
      "text/plain": [
       "    RespondentID  Exp in Years   Age  Salary in INR   Location Unnamed: 5  \\\n",
       "38     109909145           1.9  22.0         278000       Pune        NaN   \n",
       "39     109910936           4.0  34.0         360000     Mumbai        NaN   \n",
       "40     109912693           2.0  25.0         300000     Mumbai        NaN   \n",
       "41     109912948           5.0  32.0         600000  Bangalore        NaN   \n",
       "42     109913079           5.0  27.0         750000  Hyderabad        NaN   \n",
       "\n",
       "   Unnamed: 6 Unnamed: 7 Unnamed: 8 Unnamed: 9      ...      Unnamed: 237  \\\n",
       "38        NaN        NaN        NaN        NaN      ...               NaN   \n",
       "39        NaN        NaN        NaN     Mumbai      ...               NaN   \n",
       "40        NaN        NaN        NaN     Mumbai      ...               NaN   \n",
       "41        NaN        NaN        NaN        NaN      ...               NaN   \n",
       "42        NaN        NaN  Hyderabad        NaN      ...               NaN   \n",
       "\n",
       "   Unnamed: 238 Unnamed: 239  \\\n",
       "38          NaN          NaN   \n",
       "39          NaN          NaN   \n",
       "40          NaN          NaN   \n",
       "41          NaN          NaN   \n",
       "42          NaN          NaN   \n",
       "\n",
       "   1. What are the non-monetary benefits you get from your employer?  \\\n",
       "38                                                NaN                  \n",
       "39                                                NaN                  \n",
       "40                                                NaN                  \n",
       "41                          Health insurance for self                  \n",
       "42                                                NaN                  \n",
       "\n",
       "                        Unnamed: 241 Unnamed: 242            Unnamed: 243  \\\n",
       "38                               NaN          NaN                     NaN   \n",
       "39                               NaN          NaN                     NaN   \n",
       "40                               NaN          NaN                     NaN   \n",
       "41  Health insurance for dependents           NaN  Employee stock options   \n",
       "42                               NaN          NaN                     NaN   \n",
       "\n",
       "                     Unnamed: 244           Unnamed: 245  Unnamed: 246  \n",
       "38                            NaN                    NaN           NaN  \n",
       "39                            NaN                    NaN           NaN  \n",
       "40                            NaN                    NaN           NaN  \n",
       "41  Employee stock purchase plan   Flexible Work Timings           NaN  \n",
       "42                            NaN                    NaN           NaN  \n",
       "\n",
       "[5 rows x 247 columns]"
      ]
     },
     "execution_count": 26,
     "metadata": {},
     "output_type": "execute_result"
    }
   ],
   "source": [
    "df2005 = pd.read_csv(\"2005_salary_writers.csv\")\n",
    "df2005.tail()"
   ]
  },
  {
   "cell_type": "code",
   "execution_count": 33,
   "metadata": {
    "collapsed": false
   },
   "outputs": [
    {
     "name": "stdout",
     "output_type": "stream",
     "text": [
      "<class 'pandas.core.frame.DataFrame'>\n",
      "RangeIndex: 43 entries, 0 to 42\n",
      "Columns: 247 entries, RespondentID to Unnamed: 246\n",
      "dtypes: float64(87), int64(2), object(158)\n",
      "memory usage: 56.5+ KB\n"
     ]
    }
   ],
   "source": [
    "df2005.info()"
   ]
  },
  {
   "cell_type": "code",
   "execution_count": 97,
   "metadata": {
    "collapsed": false
   },
   "outputs": [
    {
     "data": {
      "text/html": [
       "<div>\n",
       "<table border=\"1\" class=\"dataframe\">\n",
       "  <thead>\n",
       "    <tr style=\"text-align: right;\">\n",
       "      <th></th>\n",
       "      <th>Location</th>\n",
       "      <th>Year 2005</th>\n",
       "      <th>Year 2007</th>\n",
       "      <th>Year 2008</th>\n",
       "      <th>Year 2009</th>\n",
       "      <th>Year 2010</th>\n",
       "      <th>Year 2011</th>\n",
       "      <th>Year 2012</th>\n",
       "      <th>Year 2013</th>\n",
       "      <th>Year 2014</th>\n",
       "      <th>Year 2015</th>\n",
       "    </tr>\n",
       "  </thead>\n",
       "  <tbody>\n",
       "    <tr>\n",
       "      <th>2</th>\n",
       "      <td>Hyderabad</td>\n",
       "      <td>500000</td>\n",
       "      <td>395500</td>\n",
       "      <td>817500</td>\n",
       "      <td>600000</td>\n",
       "      <td>640000</td>\n",
       "      <td>756000</td>\n",
       "      <td>865000</td>\n",
       "      <td>1100000</td>\n",
       "      <td>1168000</td>\n",
       "      <td>1050000</td>\n",
       "    </tr>\n",
       "    <tr>\n",
       "      <th>3</th>\n",
       "      <td>Mumbai</td>\n",
       "      <td>330000</td>\n",
       "      <td>250000</td>\n",
       "      <td>500000</td>\n",
       "      <td>370000</td>\n",
       "      <td>683000</td>\n",
       "      <td>1200000</td>\n",
       "      <td>1200000</td>\n",
       "      <td>800000</td>\n",
       "      <td>866400</td>\n",
       "      <td>1850000</td>\n",
       "    </tr>\n",
       "    <tr>\n",
       "      <th>4</th>\n",
       "      <td>National Capital Region</td>\n",
       "      <td>330000</td>\n",
       "      <td>400000</td>\n",
       "      <td>500000</td>\n",
       "      <td>567500</td>\n",
       "      <td>1150000</td>\n",
       "      <td>800000</td>\n",
       "      <td>960000</td>\n",
       "      <td>1300000</td>\n",
       "      <td>2150000</td>\n",
       "      <td>1600000</td>\n",
       "    </tr>\n",
       "    <tr>\n",
       "      <th>5</th>\n",
       "      <td>Other locations</td>\n",
       "      <td>150000</td>\n",
       "      <td>219000</td>\n",
       "      <td>364800</td>\n",
       "      <td>780000</td>\n",
       "      <td>750000</td>\n",
       "      <td>480000</td>\n",
       "      <td>1000000</td>\n",
       "      <td>730000</td>\n",
       "      <td>1912500</td>\n",
       "      <td>589500</td>\n",
       "    </tr>\n",
       "    <tr>\n",
       "      <th>6</th>\n",
       "      <td>Pune</td>\n",
       "      <td>585000</td>\n",
       "      <td>441000</td>\n",
       "      <td>710000</td>\n",
       "      <td>775000</td>\n",
       "      <td>800000</td>\n",
       "      <td>550000</td>\n",
       "      <td>956000</td>\n",
       "      <td>898000</td>\n",
       "      <td>730000</td>\n",
       "      <td>1000000</td>\n",
       "    </tr>\n",
       "  </tbody>\n",
       "</table>\n",
       "</div>"
      ],
      "text/plain": [
       "                  Location  Year 2005  Year 2007  Year 2008  Year 2009  \\\n",
       "2                Hyderabad     500000     395500     817500     600000   \n",
       "3                   Mumbai     330000     250000     500000     370000   \n",
       "4  National Capital Region     330000     400000     500000     567500   \n",
       "5          Other locations     150000     219000     364800     780000   \n",
       "6                     Pune     585000     441000     710000     775000   \n",
       "\n",
       "   Year 2010  Year 2011  Year 2012  Year 2013  Year 2014  Year 2015  \n",
       "2     640000     756000     865000    1100000    1168000    1050000  \n",
       "3     683000    1200000    1200000     800000     866400    1850000  \n",
       "4    1150000     800000     960000    1300000    2150000    1600000  \n",
       "5     750000     480000    1000000     730000    1912500     589500  \n",
       "6     800000     550000     956000     898000     730000    1000000  "
      ]
     },
     "execution_count": 97,
     "metadata": {},
     "output_type": "execute_result"
    }
   ],
   "source": [
    "df = pd.read_csv(\"medsal2005-2015.csv\")\n",
    "df.tail()"
   ]
  },
  {
   "cell_type": "code",
   "execution_count": 120,
   "metadata": {
    "collapsed": false
   },
   "outputs": [],
   "source": [
    "column_wanted = ['Location', 'Year 2005', 'Year 2015']"
   ]
  },
  {
   "cell_type": "code",
   "execution_count": 121,
   "metadata": {
    "collapsed": false
   },
   "outputs": [
    {
     "data": {
      "text/html": [
       "<div>\n",
       "<table border=\"1\" class=\"dataframe\">\n",
       "  <thead>\n",
       "    <tr style=\"text-align: right;\">\n",
       "      <th></th>\n",
       "      <th>Location</th>\n",
       "      <th>Year 2005</th>\n",
       "      <th>Year 2015</th>\n",
       "    </tr>\n",
       "  </thead>\n",
       "  <tbody>\n",
       "    <tr>\n",
       "      <th>0</th>\n",
       "      <td>Bangalore</td>\n",
       "      <td>600000</td>\n",
       "      <td>1200000</td>\n",
       "    </tr>\n",
       "    <tr>\n",
       "      <th>1</th>\n",
       "      <td>Chennai</td>\n",
       "      <td>300000</td>\n",
       "      <td>937500</td>\n",
       "    </tr>\n",
       "    <tr>\n",
       "      <th>2</th>\n",
       "      <td>Hyderabad</td>\n",
       "      <td>500000</td>\n",
       "      <td>1050000</td>\n",
       "    </tr>\n",
       "    <tr>\n",
       "      <th>3</th>\n",
       "      <td>Mumbai</td>\n",
       "      <td>330000</td>\n",
       "      <td>1850000</td>\n",
       "    </tr>\n",
       "    <tr>\n",
       "      <th>4</th>\n",
       "      <td>National Capital Region</td>\n",
       "      <td>330000</td>\n",
       "      <td>1600000</td>\n",
       "    </tr>\n",
       "    <tr>\n",
       "      <th>5</th>\n",
       "      <td>Other locations</td>\n",
       "      <td>150000</td>\n",
       "      <td>589500</td>\n",
       "    </tr>\n",
       "    <tr>\n",
       "      <th>6</th>\n",
       "      <td>Pune</td>\n",
       "      <td>585000</td>\n",
       "      <td>1000000</td>\n",
       "    </tr>\n",
       "  </tbody>\n",
       "</table>\n",
       "</div>"
      ],
      "text/plain": [
       "                  Location  Year 2005  Year 2015\n",
       "0                Bangalore     600000    1200000\n",
       "1                  Chennai     300000     937500\n",
       "2                Hyderabad     500000    1050000\n",
       "3                   Mumbai     330000    1850000\n",
       "4  National Capital Region     330000    1600000\n",
       "5          Other locations     150000     589500\n",
       "6                     Pune     585000    1000000"
      ]
     },
     "execution_count": 121,
     "metadata": {},
     "output_type": "execute_result"
    }
   ],
   "source": [
    "df_wanted = df[column_wanted]\n",
    "df_wanted"
   ]
  },
  {
   "cell_type": "code",
   "execution_count": 122,
   "metadata": {
    "collapsed": false
   },
   "outputs": [
    {
     "name": "stdout",
     "output_type": "stream",
     "text": [
      "<class 'pandas.core.frame.DataFrame'>\n",
      "RangeIndex: 7 entries, 0 to 6\n",
      "Data columns (total 3 columns):\n",
      "Location     7 non-null object\n",
      "Year 2005    7 non-null int64\n",
      "Year 2015    7 non-null int64\n",
      "dtypes: int64(2), object(1)\n",
      "memory usage: 180.0+ bytes\n"
     ]
    }
   ],
   "source": [
    "df_wanted.info()"
   ]
  },
  {
   "cell_type": "code",
   "execution_count": 124,
   "metadata": {
    "collapsed": false
   },
   "outputs": [
    {
     "name": "stderr",
     "output_type": "stream",
     "text": [
      "c:\\users\\radhika\\appdata\\local\\programs\\python\\python35-32\\lib\\site-packages\\ipykernel\\__main__.py:1: SettingWithCopyWarning: \n",
      "A value is trying to be set on a copy of a slice from a DataFrame.\n",
      "Try using .loc[row_indexer,col_indexer] = value instead\n",
      "\n",
      "See the caveats in the documentation: http://pandas.pydata.org/pandas-docs/stable/indexing.html#indexing-view-versus-copy\n",
      "  if __name__ == '__main__':\n"
     ]
    }
   ],
   "source": [
    "df_wanted ['percent increase'] = pd.DataFrame(df_wanted.apply(lambda row: (((row['Year 2015']-row['Year 2005']) / row['Year 2005']) * 100), axis=1))"
   ]
  },
  {
   "cell_type": "code",
   "execution_count": 125,
   "metadata": {
    "collapsed": false
   },
   "outputs": [
    {
     "data": {
      "text/html": [
       "<div>\n",
       "<table border=\"1\" class=\"dataframe\">\n",
       "  <thead>\n",
       "    <tr style=\"text-align: right;\">\n",
       "      <th></th>\n",
       "      <th>Location</th>\n",
       "      <th>Year 2005</th>\n",
       "      <th>Year 2015</th>\n",
       "      <th>percent increase</th>\n",
       "    </tr>\n",
       "  </thead>\n",
       "  <tbody>\n",
       "    <tr>\n",
       "      <th>0</th>\n",
       "      <td>Bangalore</td>\n",
       "      <td>600000</td>\n",
       "      <td>1200000</td>\n",
       "      <td>100.000000</td>\n",
       "    </tr>\n",
       "    <tr>\n",
       "      <th>1</th>\n",
       "      <td>Chennai</td>\n",
       "      <td>300000</td>\n",
       "      <td>937500</td>\n",
       "      <td>212.500000</td>\n",
       "    </tr>\n",
       "    <tr>\n",
       "      <th>2</th>\n",
       "      <td>Hyderabad</td>\n",
       "      <td>500000</td>\n",
       "      <td>1050000</td>\n",
       "      <td>110.000000</td>\n",
       "    </tr>\n",
       "    <tr>\n",
       "      <th>3</th>\n",
       "      <td>Mumbai</td>\n",
       "      <td>330000</td>\n",
       "      <td>1850000</td>\n",
       "      <td>460.606061</td>\n",
       "    </tr>\n",
       "    <tr>\n",
       "      <th>4</th>\n",
       "      <td>National Capital Region</td>\n",
       "      <td>330000</td>\n",
       "      <td>1600000</td>\n",
       "      <td>384.848485</td>\n",
       "    </tr>\n",
       "    <tr>\n",
       "      <th>5</th>\n",
       "      <td>Other locations</td>\n",
       "      <td>150000</td>\n",
       "      <td>589500</td>\n",
       "      <td>293.000000</td>\n",
       "    </tr>\n",
       "    <tr>\n",
       "      <th>6</th>\n",
       "      <td>Pune</td>\n",
       "      <td>585000</td>\n",
       "      <td>1000000</td>\n",
       "      <td>70.940171</td>\n",
       "    </tr>\n",
       "  </tbody>\n",
       "</table>\n",
       "</div>"
      ],
      "text/plain": [
       "                  Location  Year 2005  Year 2015  percent increase\n",
       "0                Bangalore     600000    1200000        100.000000\n",
       "1                  Chennai     300000     937500        212.500000\n",
       "2                Hyderabad     500000    1050000        110.000000\n",
       "3                   Mumbai     330000    1850000        460.606061\n",
       "4  National Capital Region     330000    1600000        384.848485\n",
       "5          Other locations     150000     589500        293.000000\n",
       "6                     Pune     585000    1000000         70.940171"
      ]
     },
     "execution_count": 125,
     "metadata": {},
     "output_type": "execute_result"
    }
   ],
   "source": [
    "df_wanted"
   ]
  },
  {
   "cell_type": "code",
   "execution_count": 126,
   "metadata": {
    "collapsed": true
   },
   "outputs": [],
   "source": [
    "df_wanted.to_csv('median.csv')"
   ]
  },
  {
   "cell_type": "code",
   "execution_count": 132,
   "metadata": {
    "collapsed": false
   },
   "outputs": [
    {
     "data": {
      "image/png": "[encoded data removed]",
      "text/plain": [
       "<matplotlib.figure.Figure at 0x6c3dd10>"
      ]
     },
     "metadata": {},
     "output_type": "display_data"
    }
   ],
   "source": [
    "fig, ax = plt.subplots(figsize=(10,5))\n",
    "plt.savefig('tech-percent-increase.pdf')\n",
    "df_wanted.plot(kind='barh', x='Location', y='percent increase', color='brown', ax=ax)\n",
    "\n",
    "ax.legend(loc='upper right')\n",
    "ax.set_ylabel(\"% Growth 2005-2015\", color='brown')\n",
    "ax.set_xlabel(\"Indian Cities\", color='brown')\n",
    "plt.savefig('tech-percent-increase.pdf')"
   ]
  },
  {
   "cell_type": "code",
   "execution_count": null,
   "metadata": {
    "collapsed": true
   },
   "outputs": [],
   "source": []
  }
 ],
 "metadata": {
  "kernelspec": {
   "display_name": "Python 3",
   "language": "python",
   "name": "python3"
  },
  "language_info": {
   "codemirror_mode": {
    "name": "ipython",
    "version": 3
   },
   "file_extension": ".py",
   "mimetype": "text/x-python",
   "name": "python",
   "nbconvert_exporter": "python",
   "pygments_lexer": "ipython3",
   "version": "3.5.1"
  }
 },
 "nbformat": 4,
 "nbformat_minor": 0
}

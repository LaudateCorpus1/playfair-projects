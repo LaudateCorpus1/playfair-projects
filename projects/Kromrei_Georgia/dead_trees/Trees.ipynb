{
 "cells": [
  {
   "cell_type": "code",
   "execution_count": 2,
   "metadata": {
    "collapsed": true
   },
   "outputs": [],
   "source": [
    "%matplotlib inline\n",
    "import pandas as pd\n",
    "import matplotlib\n",
    "import numpy as np\n",
    "import matplotlib.pyplot as plt\n",
    "matplotlib.rcParams['pdf.fonttype'] = 42\n",
    "matplotlib.rcParams['ps.fonttype'] = 42"
   ]
  },
  {
   "cell_type": "code",
   "execution_count": null,
   "metadata": {
    "collapsed": false
   },
   "outputs": [],
   "source": [
    "df = pd.read_csv(\"2015_Street_Tree_Census_-_Tree_Data.csv\")"
   ]
  },
  {
   "cell_type": "code",
   "execution_count": null,
   "metadata": {
    "collapsed": false
   },
   "outputs": [],
   "source": [
    "df['nta_name'].unique()\n",
    "list_nta = ['Greenpoint', 'Brighton Beach', 'Clinton', 'Hunts Point',\n",
    "       'Longwood', 'Melrose South-Mott Haven North',\n",
    "       'East Concourse-Concourse Village',\n",
    "       'Ft. Totten-Bay Terrace-Clearview', 'Upper East Side-Carnegie Hill',\n",
    "       'Arden Heights', 'West Brighton', 'Seagate-Coney Island',\n",
    "       'Soundview-Castle Hill-Clason Point-Harding Park', 'Elmhurst',\n",
    "       'North Corona', 'Jackson Heights', 'Springfield Gardens North',\n",
    "       'Stapleton-Rosebank', 'Baisley Park', 'Van Cortlandt Village',\n",
    "       'Spuyten Duyvil-Kingsbridge', 'Lincoln Square',\n",
    "       'Sheepshead Bay-Gerritsen Beach-Manhattan Beach', 'Whitestone',\n",
    "       'Murray Hill', 'Prospect Lefferts Gardens-Wingate', 'Co-op City',\n",
    "       \"Annadale-Huguenot-Prince's Bay-Eltingville\", 'Woodhaven',\n",
    "       'Rugby-Remsen Village', 'Elmhurst-Maspeth', 'Bayside-Bayside Hills',\n",
    "       'Flushing',\n",
    "       'Todt Hill-Emerson Hill-Heartland Village-Lighthouse Hill',\n",
    "       'park-cemetery-etc-Bronx', 'Flatbush', 'park-cemetery-etc-Queens',\n",
    "       'Corona', 'Queensboro Hill', 'Crown Heights North',\n",
    "       'Bedford Park-Fordham North', 'park-cemetery-etc-Brooklyn',\n",
    "       'Rego Park', 'Sunset Park East', 'park-cemetery-etc-Manhattan',\n",
    "       'Upper West Side', 'North Side-South Side',\n",
    "       'Washington Heights North', 'Pelham Parkway',\n",
    "       'Allerton-Pelham Gardens', 'East Tremont',\n",
    "       'Van Nest-Morris Park-Westchester Square',\n",
    "       'Pomonok-Flushing Heights-Hillcrest', 'East Flushing', 'Bronxdale',\n",
    "       'East Williamsburg', 'South Jamaica',\n",
    "       'West New Brighton-New Brighton-St. George', 'East Harlem South',\n",
    "       'Washington Heights South', 'Highbridge', 'Mount Hope',\n",
    "       'West Concourse', 'Windsor Terrace', 'Woodside', 'Bushwick North',\n",
    "       'Astoria', 'Williamsburg', 'Hunters Point-Sunnyside-West Maspeth',\n",
    "       'Queensbridge-Ravenswood-Long Island City', 'Port Richmond',\n",
    "       'Park Slope-Gowanus', 'Central Harlem South', 'Bedford',\n",
    "       'Kew Gardens', 'DUMBO-Vinegar Hill-Downtown Brooklyn-Boerum Hill',\n",
    "       'Brooklyn Heights-Cobble Hill', 'Parkchester', 'Bushwick South',\n",
    "       'Soundview-Bruckner', 'Stuyvesant Heights',\n",
    "       'Cypress Hills-City Line', 'Grymes Hill-Clifton-Fox Hills',\n",
    "       'New Brighton-Silver Lake', 'West Farms-Bronx River',\n",
    "       'College Point', 'Carroll Gardens-Columbia Street-Red Hook',\n",
    "       'Richmond Hill', 'Crotona Park East', 'Sunset Park West',\n",
    "       'Westchester-Unionport', 'Fort Greene', 'Ridgewood',\n",
    "       'SoHo-TriBeCa-Civic Center-Little Italy', 'Chinatown',\n",
    "       'Hammels-Arverne-Edgemere', 'Great Kills',\n",
    "       'Schuylerville-Throgs Neck-Edgewater Park', 'West Village',\n",
    "       'Steinway', 'Ocean Hill', 'Pelham Bay-Country Club-City Island',\n",
    "       'Canarsie', 'Prospect Heights',\n",
    "       'Hudson Yards-Chelsea-Flatiron-Union Square', 'Clinton Hill',\n",
    "       'Forest Hills', 'Woodlawn-Wakefield', 'Old Astoria',\n",
    "       'Turtle Bay-East Midtown', 'Airport',\n",
    "       'Springfield Gardens South-Brookville', 'Yorkville',\n",
    "       'East Elmhurst', 'Westerleigh', 'Bensonhurst East',\n",
    "       'East Flatbush-Farragut', 'Midtown-Midtown South',\n",
    "       'Lenox Hill-Roosevelt Island', 'Morrisania-Melrose', 'Gravesend',\n",
    "       'Grasmere-Arrochar-Ft. Wadsworth',\n",
    "       'Eastchester-Edenwald-Baychester', 'Hamilton Heights',\n",
    "       'Williamsbridge-Olinville', 'Morningside Heights',\n",
    "       'Old Town-Dongan Hills-South Beach', 'Brownsville', 'Maspeth',\n",
    "       'Madison', 'Glendale', 'Crown Heights South',\n",
    "       'Breezy Point-Belle Harbor-Rockaway Park-Broad Channel',\n",
    "       'North Riverdale-Fieldston-Riverdale', 'Gramercy', 'Bay Ridge',\n",
    "       'Battery Park City-Lower Manhattan', 'East Harlem North',\n",
    "       'Fresh Meadows-Utopia', 'Middle Village', 'Auburndale',\n",
    "       'Kew Gardens Hills', 'Norwood', 'Oakwood-Oakwood Beach',\n",
    "       'Oakland Gardens', 'Glen Oaks-Floral Park-New Hyde Park',\n",
    "       'Ozone Park', 'Marble Hill-Inwood', 'East Village',\n",
    "       'Stuyvesant Town-Cooper Village',\n",
    "       'Charleston-Richmond Valley-Tottenville', 'South Ozone Park',\n",
    "       'Midwood', 'Bensonhurst West', 'Homecrest',\n",
    "       'Jamaica Estates-Holliswood', 'Central Harlem North-Polo Grounds',\n",
    "       'Ocean Parkway South', 'New Springville-Bloomfield-Travis',\n",
    "       'Lindenwood-Howard Beach', 'Briarwood-Jamaica Hills', 'Belmont',\n",
    "       'Georgetown-Marine Park-Bergen Beach-Mill Basin', 'Rosedale',\n",
    "       \"Mariner's Harbor-Arlington-Port Ivory-Graniteville\",\n",
    "       'East New York', 'University Heights-Morris Heights', 'Flatlands',\n",
    "       'Kingsbridge Heights', 'Kensington-Ocean Parkway',\n",
    "       'Lower East Side', 'Fordham South', 'Claremont-Bathgate',\n",
    "       'Manhattanville', 'East New York (Pennsylvania Ave)',\n",
    "       'New Dorp-Midland Beach', 'Bath Beach', 'St. Albans', 'Hollis',\n",
    "       'Douglas Manor-Douglaston-Little Neck', 'Borough Park', 'Jamaica',\n",
    "       'Mott Haven-Port Morris', 'Cambria Heights', 'Laurelton',\n",
    "       'Bellerose', 'Murray Hill-Kips Bay', 'Starrett City',\n",
    "       'Queens Village', 'Dyker Heights', 'Far Rockaway-Bayswater',\n",
    "       'Rossville-Woodrow', 'Erasmus']"
   ]
  },
  {
   "cell_type": "code",
   "execution_count": null,
   "metadata": {
    "collapsed": false
   },
   "outputs": [],
   "source": [
    "for item in list_nta:\n",
    "    is_nta = df['nta_name']== item\n",
    "    is_dead = df['status']=='Dead'\n",
    "    is_alive = df['status']=='Alive'\n",
    "    total_trees = len(df[is_nta])\n",
    "    dead_trees = len(df[is_nta & is_dead])\n",
    "    alive_trees = len(df[is_nta & is_alive])\n",
    "    print(item,\" \",dead_trees,\" \", alive_trees,\" \", total_trees)"
   ]
  },
  {
   "cell_type": "code",
   "execution_count": 21,
   "metadata": {
    "collapsed": false
   },
   "outputs": [
    {
     "data": {
      "image/png": "[encoded data removed]",
      "text/plain": [
       "<matplotlib.figure.Figure at 0x1107e60f0>"
      ]
     },
     "metadata": {},
     "output_type": "display_data"
    }
   ],
   "source": [
    "df = pd.read_csv(\"trees_dead_or_alive.csv\")\n",
    "\n",
    "df['proportion_dead'] = df['Dead']/df['Alive']*100\n",
    "df['proportion_dead'].describe()\n",
    "df.sort_values(by='proportion_dead', ascending=False)\n",
    "df.sort_values(by='Dead', ascending=False)\n",
    "\n",
    "df.plot(kind = 'scatter', x = 'proportion_dead', y ='Total', marker = 'x', color = 'g', alpha = .7, ylim = (0,14000), xlim= (0,8))\n",
    "plt.annotate('Seagate', xy=(6.86, 1493), xytext=(25,5), \n",
    "           textcoords='offset points', ha='center', va='top')\n",
    "plt.annotate('Airport', xy=(10.22, 97), xytext=(20,10), \n",
    "           textcoords='offset points', ha='center', va='top')\n",
    "plt.annotate('Highbridge', xy=(6.1, 1843), xytext=(30,10), \n",
    "           textcoords='offset points', ha='center', va='top')\n",
    "plt.annotate('East Concourse', xy=(5.85, 2443), xytext=(40,10), \n",
    "           textcoords='offset points', ha='center', va='top')\n",
    "plt.xlabel('Percent Dead Trees')\n",
    "plt.ylabel('Total Tree Population')\n",
    "plt.title(\"Percent Dead Trees\")\n",
    "\n",
    "plt.savefig('Percent_Dead_Trees.pdf')"
   ]
  },
  {
   "cell_type": "code",
   "execution_count": null,
   "metadata": {
    "collapsed": false
   },
   "outputs": [],
   "source": [
    "df[df['proportion_dead'] > 5.8]"
   ]
  },
  {
   "cell_type": "code",
   "execution_count": null,
   "metadata": {
    "collapsed": false
   },
   "outputs": [],
   "source": [
    "ax = df.plot(kind = 'scatter', x = 'Dead', y = 'Total', marker = 'x', alpha = .75, color = 'g',\n",
    "        ylim=(0,14000), xlim = (0,320),\n",
    "        title = 'Dead Trees vs. Tree Population Size')\n",
    "\n",
    "plt.annotate('East New York', xy=(287, 9588), xytext=(20,20), \n",
    "           textcoords='offset points', ha='center', va='top')\n",
    "plt.annotate('Hunts Point', xy=(182, 3501), xytext=(20,20), \n",
    "           textcoords='offset points', ha='center', va='top')\n",
    "plt.savefig('Dead_Trees_Total_Population.pdf')\n"
   ]
  },
  {
   "cell_type": "code",
   "execution_count": 22,
   "metadata": {
    "collapsed": false
   },
   "outputs": [
    {
     "data": {
      "text/plain": [
       "count    193.000000\n",
       "mean       2.493128\n",
       "std        1.429190\n",
       "min        0.574163\n",
       "25%        1.463625\n",
       "50%        2.185792\n",
       "75%        3.285714\n",
       "max       10.227273\n",
       "Name: proportion_dead, dtype: float64"
      ]
     },
     "execution_count": 22,
     "metadata": {},
     "output_type": "execute_result"
    }
   ],
   "source": [
    "df.sort_values(by = 'Dead', ascending = False)\n",
    "df['Total'].describe()\n",
    "df['proportion_dead'].describe()"
   ]
  },
  {
   "cell_type": "code",
   "execution_count": 7,
   "metadata": {
    "collapsed": false
   },
   "outputs": [
    {
     "data": {
      "text/plain": [
       "count    193.000000\n",
       "mean      53.761658\n",
       "std       44.050813\n",
       "min        3.000000\n",
       "25%       19.000000\n",
       "50%       43.000000\n",
       "75%       74.000000\n",
       "max      287.000000\n",
       "Name: Dead, dtype: float64"
      ]
     },
     "execution_count": 7,
     "metadata": {},
     "output_type": "execute_result"
    }
   ],
   "source": [
    "df['Dead'].describe()"
   ]
  },
  {
   "cell_type": "code",
   "execution_count": null,
   "metadata": {
    "collapsed": false
   },
   "outputs": [],
   "source": [
    "df.columns"
   ]
  },
  {
   "cell_type": "code",
   "execution_count": null,
   "metadata": {
    "collapsed": false
   },
   "outputs": [],
   "source": [
    "len(df[df['user_type'] == 'Volunteer'])/len(df)"
   ]
  },
  {
   "cell_type": "code",
   "execution_count": null,
   "metadata": {
    "collapsed": false
   },
   "outputs": [],
   "source": []
  },
  {
   "cell_type": "code",
   "execution_count": null,
   "metadata": {
    "collapsed": true
   },
   "outputs": [],
   "source": []
  }
 ],
 "metadata": {
  "kernelspec": {
   "display_name": "Python 3",
   "language": "python",
   "name": "python3"
  },
  "language_info": {
   "codemirror_mode": {
    "name": "ipython",
    "version": 3
   },
   "file_extension": ".py",
   "mimetype": "text/x-python",
   "name": "python",
   "nbconvert_exporter": "python",
   "pygments_lexer": "ipython3",
   "version": "3.5.1"
  }
 },
 "nbformat": 4,
 "nbformat_minor": 0
}

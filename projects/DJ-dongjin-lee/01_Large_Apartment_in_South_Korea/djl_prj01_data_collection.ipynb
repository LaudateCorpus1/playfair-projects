{
 "cells": [
  {
   "cell_type": "markdown",
   "metadata": {},
   "source": [
    "# Data Collection"
   ]
  },
  {
   "cell_type": "code",
   "execution_count": 4,
   "metadata": {
    "collapsed": false
   },
   "outputs": [
    {
     "name": "stdout",
     "output_type": "stream",
     "text": [
      "Today is 2016-04-20\n",
      "What version of Python are we running? \n",
      "3.5.1 |Anaconda 4.0.0 (64-bit)| (default, Feb 16 2016, 09:49:46) [MSC v.1900 64 bit (AMD64)]\n"
     ]
    }
   ],
   "source": [
    "\"\"\"\n",
    "Created on Mon Apr 11 18:30:05 2016\n",
    "\"\"\"\n",
    "# import packages \n",
    "import pandas as pd                   # data management\n",
    "import matplotlib.pyplot as plt       # graphics \n",
    "import matplotlib as mpl              # graphics parameters\n",
    "import numpy as np                    # numerical calculations \n",
    "\n",
    "\n",
    "# Checking Python version \n",
    "import datetime as dt \n",
    "import sys\n",
    "print('Today is', dt.date.today())\n",
    "print('What version of Python are we running? \\n', sys.version, sep='') "
   ]
  },
  {
   "cell_type": "code",
   "execution_count": 2,
   "metadata": {
    "collapsed": false
   },
   "outputs": [],
   "source": [
    "#%%\n",
    "from matplotlib import cm, colors, _cm\n",
    "\n",
    "# Data Collection\n",
    "import urllib\n",
    "import jsonhttp://nbviewer.ipython.org/gist/hyeshik/cf9f3d7686e07eedbfda?revision=6\n",
    "from time import time\n",
    "import sqlite3"
   ]
  },
  {
   "cell_type": "code",
   "execution_count": 5,
   "metadata": {
    "collapsed": false
   },
   "outputs": [
    {
     "data": {
      "text/html": [
       "<div>\n",
       "<table border=\"1\" class=\"dataframe\">\n",
       "  <thead>\n",
       "    <tr style=\"text-align: right;\">\n",
       "      <th></th>\n",
       "      <th>si_code</th>\n",
       "      <th>name</th>\n",
       "      <th>update_tm</th>\n",
       "    </tr>\n",
       "  </thead>\n",
       "  <tbody>\n",
       "    <tr>\n",
       "      <th>0</th>\n",
       "      <td>11</td>\n",
       "      <td>서울특별시</td>\n",
       "      <td>1460401951</td>\n",
       "    </tr>\n",
       "    <tr>\n",
       "      <th>1</th>\n",
       "      <td>26</td>\n",
       "      <td>부산광역시</td>\n",
       "      <td>1460401951</td>\n",
       "    </tr>\n",
       "    <tr>\n",
       "      <th>2</th>\n",
       "      <td>27</td>\n",
       "      <td>대구광역시</td>\n",
       "      <td>1460401951</td>\n",
       "    </tr>\n",
       "    <tr>\n",
       "      <th>3</th>\n",
       "      <td>28</td>\n",
       "      <td>인천광역시</td>\n",
       "      <td>1460401951</td>\n",
       "    </tr>\n",
       "    <tr>\n",
       "      <th>4</th>\n",
       "      <td>29</td>\n",
       "      <td>광주광역시</td>\n",
       "      <td>1460401951</td>\n",
       "    </tr>\n",
       "    <tr>\n",
       "      <th>5</th>\n",
       "      <td>30</td>\n",
       "      <td>대전광역시</td>\n",
       "      <td>1460401951</td>\n",
       "    </tr>\n",
       "    <tr>\n",
       "      <th>6</th>\n",
       "      <td>31</td>\n",
       "      <td>울산광역시</td>\n",
       "      <td>1460401951</td>\n",
       "    </tr>\n",
       "    <tr>\n",
       "      <th>7</th>\n",
       "      <td>36</td>\n",
       "      <td>세종특별자치시</td>\n",
       "      <td>1460401951</td>\n",
       "    </tr>\n",
       "    <tr>\n",
       "      <th>8</th>\n",
       "      <td>41</td>\n",
       "      <td>경기도</td>\n",
       "      <td>1460401951</td>\n",
       "    </tr>\n",
       "    <tr>\n",
       "      <th>9</th>\n",
       "      <td>42</td>\n",
       "      <td>강원도</td>\n",
       "      <td>1460401951</td>\n",
       "    </tr>\n",
       "  </tbody>\n",
       "</table>\n",
       "</div>"
      ],
      "text/plain": [
       "   si_code     name   update_tm\n",
       "0       11    서울특별시  1460401951\n",
       "1       26    부산광역시  1460401951\n",
       "2       27    대구광역시  1460401951\n",
       "3       28    인천광역시  1460401951\n",
       "4       29    광주광역시  1460401951\n",
       "5       30    대전광역시  1460401951\n",
       "6       31    울산광역시  1460401951\n",
       "7       36  세종특별자치시  1460401951\n",
       "8       41      경기도  1460401951\n",
       "9       42      강원도  1460401951"
      ]
     },
     "execution_count": 5,
     "metadata": {},
     "output_type": "execute_result"
    }
   ],
   "source": [
    "con = sqlite3.connect(\"C:\\\\Users\\\\Dongjin\\\\Desktop\\\\MV_02_realestate.db\")\n",
    "# sqlite3.connect\n",
    "# connect(database[, timeout, detect_types, isolation_level,check_same_thread, factory, cached_statements, uri])\n",
    "# Opens a connection to the SQLite database file *database*.\n",
    "\n",
    "#  (City Code inserted in the DB by hand as follows)\n",
    "state_info=pd.read_sql(\"select * from addr_si_code_tbl;\",con)\n",
    "state_info.head(10)"
   ]
  },
  {
   "cell_type": "code",
   "execution_count": 26,
   "metadata": {
    "collapsed": true
   },
   "outputs": [],
   "source": [
    "# Define the si, gun, gu data collection \n",
    "def Address_Info( code, type='SGG'  ):\n",
    "    response = urllib.request.urlopen(\"http://www.k-apt.go.kr/cmmn/bjd/getBjdList.do?bjd_code=%d&bjd_gbn=%s\" %(code,type) )\n",
    "    data = json.loads(response.read().decode('utf-8'))\n",
    "    return pd.DataFrame(data[u'resultList'])\n"
   ]
  },
  {
   "cell_type": "code",
   "execution_count": 27,
   "metadata": {
    "collapsed": false
   },
   "outputs": [],
   "source": [
    "# Get apartment information \n",
    "# http://www.k-apt.go.kr/kaptinfo/getKaptList.do?bjd_code=11350105\n",
    "\n",
    "def Apartment_Info(code):\n",
    "    response = urllib.request.urlopen(\"http://www.k-apt.go.kr/kaptinfo/getKaptList.do?bjd_code=%d\" % (code) )\n",
    "    data = json.loads(response.read().decode('utf-8'))\n",
    "    return pd.DataFrame(data[u'resultList'])\n"
   ]
  },
  {
   "cell_type": "code",
   "execution_count": 39,
   "metadata": {
    "collapsed": false
   },
   "outputs": [
    {
     "data": {
      "text/html": [
       "<div>\n",
       "<table border=\"1\" class=\"dataframe\">\n",
       "  <thead>\n",
       "    <tr style=\"text-align: right;\">\n",
       "      <th></th>\n",
       "      <th>si_code</th>\n",
       "      <th>gu_code</th>\n",
       "      <th>name</th>\n",
       "    </tr>\n",
       "  </thead>\n",
       "  <tbody>\n",
       "    <tr>\n",
       "      <th>0</th>\n",
       "      <td>11</td>\n",
       "      <td>680</td>\n",
       "      <td>강남구</td>\n",
       "    </tr>\n",
       "    <tr>\n",
       "      <th>1</th>\n",
       "      <td>11</td>\n",
       "      <td>740</td>\n",
       "      <td>강동구</td>\n",
       "    </tr>\n",
       "    <tr>\n",
       "      <th>2</th>\n",
       "      <td>11</td>\n",
       "      <td>305</td>\n",
       "      <td>강북구</td>\n",
       "    </tr>\n",
       "    <tr>\n",
       "      <th>3</th>\n",
       "      <td>11</td>\n",
       "      <td>500</td>\n",
       "      <td>강서구</td>\n",
       "    </tr>\n",
       "    <tr>\n",
       "      <th>4</th>\n",
       "      <td>11</td>\n",
       "      <td>620</td>\n",
       "      <td>관악구</td>\n",
       "    </tr>\n",
       "  </tbody>\n",
       "</table>\n",
       "</div>"
      ],
      "text/plain": [
       "   si_code  gu_code name\n",
       "0       11      680  강남구\n",
       "1       11      740  강동구\n",
       "2       11      305  강북구\n",
       "3       11      500  강서구\n",
       "4       11      620  관악구"
      ]
     },
     "execution_count": 39,
     "metadata": {},
     "output_type": "execute_result"
    }
   ],
   "source": [
    "# Crawling the information\n",
    "for name, code in state_info[['name','si_code']].itertuples(index=False):\n",
    "    gu_info = Address_Info(code)\n",
    "    values=gu_info.apply(lambda x : u\"(%d, %s, '%s')\" % (code, x['CODE'], x['CODE_VALUE'] ), axis=1)\n",
    "    insert_sql = u\"insert into addr_gu_code_tbl( si_code, gu_code, name) values %s ;\" % (u\",\".join(values))\n",
    "    con.execute(insert_sql)\n",
    "    con.commit()\n",
    "city_info=pd.read_sql(\"select * from addr_gu_code_tbl;\",con)\n",
    "city_info.head()\n"
   ]
  },
  {
   "cell_type": "code",
   "execution_count": null,
   "metadata": {
    "collapsed": false
   },
   "outputs": [],
   "source": []
  },
  {
   "cell_type": "code",
   "execution_count": null,
   "metadata": {
    "collapsed": false
   },
   "outputs": [],
   "source": [
    "\n",
    "# Crawling the detail location information\n",
    "for si,gu in city_info[['si_code','gu_code']].itertuples(index=False):\n",
    "    code = \"%d%d\" % (si,gu)\n",
    "    info = Address_Info(int(code),'EMD')\n",
    "    values=info.apply(lambda x : u\"(%d, %d, %s, '%s')\" % (si,gu, x['CODE'], x['CODE_VALUE'] ), axis=1)\n",
    "    insert_sql = u\"insert into addr_dong_code_tbl( si_code, gu_code, dong_code,name) values %s ;\" % (u\",\".join(values))\n",
    "    con.execute(insert_sql)\n",
    "    con.commit()\n",
    "    print (\"%s code inserted(%d)\" % (code, info.count()[0]))"
   ]
  },
  {
   "cell_type": "code",
   "execution_count": 41,
   "metadata": {
    "collapsed": false
   },
   "outputs": [
    {
     "name": "stdout",
     "output_type": "stream",
     "text": [
      "   si_code  gu_code  dong_code name\n",
      "0       11      680        103  개포동\n",
      "1       11      680        108  논현동\n",
      "2       11      680        106  대치동\n",
      "3       11      680        118  도곡동\n",
      "4       11      680        105  삼성동\n"
     ]
    }
   ],
   "source": [
    "# Collection of the \"Dong-Code\" - Similar to zipcode\n",
    "town_info=pd.read_sql(\"select * from addr_dong_code_tbl;\",con)\n",
    "print (town_info.head())\n"
   ]
  },
  {
   "cell_type": "code",
   "execution_count": 30,
   "metadata": {
    "collapsed": true
   },
   "outputs": [],
   "source": [
    "# http://www.k-apt.go.kr/kaptinfo/getKaptList.do?bjd_code=11350105\n",
    "def getAptDetailInfo(code):\n",
    "    response = urllib.request.urlopen(\"http://www.k-apt.go.kr/kaptinfo/getKaptInfo_detail.do?kapt_code=%s\" % (code) )\n",
    "    data = json.loads(response.read().decode('utf-8'))\n",
    "    return data\n"
   ]
  },
  {
   "cell_type": "code",
   "execution_count": 31,
   "metadata": {
    "collapsed": true
   },
   "outputs": [],
   "source": [
    "def extractAptInfo(a):\n",
    "    info = []\n",
    "    for name in ['KAPT_CODE', 'KAPT_DONG_CNT','KAPT_USEDATE', 'KAPTD_WTIMESUB', 'SUBWAY_STATION', 'SUBWAY_LINE', 'CODE_HALL', 'KAPT_BCOMPANY' ] :\n",
    "        info.append(a[u'resultMap_kapt'][name]);\n",
    "    cnt = 0\n",
    "    for x in a[u'resultMap_kapt_areacnt']:\n",
    "        if( type(x[u'KAPTDA_CNT']) is int ):\n",
    "            info.append(x[u'KAPTDA_CNT'])\n",
    "        else :\n",
    "            info.append(0)\n",
    "#           cnt = cnt + x[u'KAPTDA_CNT']\n",
    " #   info.append(cnt)\n",
    "    return info"
   ]
  },
  {
   "cell_type": "code",
   "execution_count": null,
   "metadata": {
    "collapsed": true
   },
   "outputs": [],
   "source": [
    "# Collecting Apartment information\n",
    "for code in town_info.apply(lambda x : x['si_code']*1000000+x['gu_code']*1000+x['dong_code'], axis=1):\n",
    "    print (\"%d insert\"% (code))\n",
    "    apt = Apartment_Info(code)\n",
    "    if apt.empty :\n",
    "        continue\n",
    "    apt.to_sql('apt_code_tbl2', con, index=False, if_exists='append' )"
   ]
  },
  {
   "cell_type": "code",
   "execution_count": 32,
   "metadata": {
    "collapsed": false
   },
   "outputs": [
    {
     "data": {
      "text/html": [
       "<div>\n",
       "<table border=\"1\" class=\"dataframe\">\n",
       "  <thead>\n",
       "    <tr style=\"text-align: right;\">\n",
       "      <th></th>\n",
       "      <th>BJD_CODE</th>\n",
       "      <th>ENERGY_B_COUNT</th>\n",
       "      <th>KAPT_CODE</th>\n",
       "      <th>KAPT_NAME</th>\n",
       "    </tr>\n",
       "  </thead>\n",
       "  <tbody>\n",
       "    <tr>\n",
       "      <th>0</th>\n",
       "      <td>1168010300</td>\n",
       "      <td>0</td>\n",
       "      <td>A13593901</td>\n",
       "      <td>LG개포자이아파트</td>\n",
       "    </tr>\n",
       "    <tr>\n",
       "      <th>1</th>\n",
       "      <td>1168010300</td>\n",
       "      <td>0</td>\n",
       "      <td>A13593908</td>\n",
       "      <td>SH공사대치1단지</td>\n",
       "    </tr>\n",
       "    <tr>\n",
       "      <th>2</th>\n",
       "      <td>1168010300</td>\n",
       "      <td>0</td>\n",
       "      <td>A13524006</td>\n",
       "      <td>개포2차 현대아파트</td>\n",
       "    </tr>\n",
       "    <tr>\n",
       "      <th>3</th>\n",
       "      <td>1168010300</td>\n",
       "      <td>0</td>\n",
       "      <td>A13580602</td>\n",
       "      <td>개포경남아파트</td>\n",
       "    </tr>\n",
       "    <tr>\n",
       "      <th>4</th>\n",
       "      <td>1168010300</td>\n",
       "      <td>0</td>\n",
       "      <td>A13524009</td>\n",
       "      <td>개포대치2단지</td>\n",
       "    </tr>\n",
       "  </tbody>\n",
       "</table>\n",
       "</div>"
      ],
      "text/plain": [
       "     BJD_CODE  ENERGY_B_COUNT  KAPT_CODE   KAPT_NAME\n",
       "0  1168010300               0  A13593901   LG개포자이아파트\n",
       "1  1168010300               0  A13593908   SH공사대치1단지\n",
       "2  1168010300               0  A13524006  개포2차 현대아파트\n",
       "3  1168010300               0  A13580602     개포경남아파트\n",
       "4  1168010300               0  A13524009     개포대치2단지"
      ]
     },
     "execution_count": 32,
     "metadata": {},
     "output_type": "execute_result"
    }
   ],
   "source": [
    "# Aparment information \n",
    "apt_info=pd.read_sql(\"select * from apt_code_tbl2;\",con)\n",
    "apt_info.head()"
   ]
  },
  {
   "cell_type": "code",
   "execution_count": null,
   "metadata": {
    "collapsed": true
   },
   "outputs": [],
   "source": [
    "# Crawling Detail infromation( Year, Subway, etc)\n",
    "apt_details = pd.DataFrame(columns=['KAPT_CODE', 'KAPT_DONG_CNT','KAPT_USEDATE', 'KAPTD_WTIMESUB', 'SUBWAY_STATION', 'SUBWAY_LINE', 'CODE_HALL','KAPT_BCOMPANY', 'KAPTDA_CNT1', 'KAPTDA_CNT2', 'KAPTDA_CNT3', 'KAPTDA_CNT4'])\n",
    "\n",
    "for code in apt_info['KAPT_CODE']:\n",
    "    a = getAptDetailInfo(code)\n",
    "    if not bool(a):\n",
    "        continue\n",
    "    info = extractAptInfo(a)\n",
    "    if not bool(info):\n",
    "        continue\n",
    "    n=len(apt_details)\n",
    "    apt_details.loc[n] = info\n",
    "    print (\"%s apt data collection completed(%d)\" % (code,n)"
   ]
  }
 ],
 "metadata": {
  "kernelspec": {
   "display_name": "Python 3",
   "language": "python",
   "name": "python3"
  },
  "language_info": {
   "codemirror_mode": {
    "name": "ipython",
    "version": 3
   },
   "file_extension": ".py",
   "mimetype": "text/x-python",
   "name": "python",
   "nbconvert_exporter": "python",
   "pygments_lexer": "ipython3",
   "version": "3.4.4"
  }
 },
 "nbformat": 4,
 "nbformat_minor": 0
}

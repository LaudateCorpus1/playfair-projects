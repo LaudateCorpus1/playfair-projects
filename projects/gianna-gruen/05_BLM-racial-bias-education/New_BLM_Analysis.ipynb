{
 "cells": [
  {
   "cell_type": "code",
   "execution_count": 4,
   "metadata": {
    "collapsed": false
   },
   "outputs": [
    {
     "name": "stdout",
     "output_type": "stream",
     "text": [
      "Requirement already satisfied (use --upgrade to upgrade): numpy in /Users/gcg/.virtualenvs/ddj/lib/python3.5/site-packages\r\n"
     ]
    }
   ],
   "source": [
    "!pip install numpy\n",
    "import pandas as pd\n",
    "import matplotlib.pyplot as plt\n",
    "%matplotlib inline"
   ]
  },
  {
   "cell_type": "code",
   "execution_count": 5,
   "metadata": {
    "collapsed": false
   },
   "outputs": [],
   "source": [
    "df_gt = pd.read_csv(\"CRDC2013_14_SCH.csv\", encoding = \"latin-1\", low_memory = False, na_values=[-9, -5], usecols=[\"LEA_STATE\", \"LEA_NAME\", \"SCH_NAME\", \"COMBOKEY\", \"LEAID\", \"JJ\", \"SCH_ENR_HI_M\", \"SCH_ENR_HI_F\", \"SCH_ENR_AM_M\", \"SCH_ENR_AM_F\", \"SCH_ENR_AS_M\", \"SCH_ENR_AS_F\", \"SCH_ENR_HP_M\", \"SCH_ENR_HP_F\", \"SCH_ENR_BL_M\", \"SCH_ENR_BL_F\", \"SCH_ENR_WH_M\", \"SCH_ENR_WH_F\", \"SCH_ENR_TR_M\", \"SCH_ENR_TR_F\", \"TOT_ENR_M\", \"TOT_ENR_F\", \"SCH_GT_IND\", \"SCH_GTENR_HI_M\", \"SCH_GTENR_HI_F\", \"SCH_GTENR_AM_M\", \"SCH_GTENR_AM_F\", \"SCH_GTENR_AS_M\", \"SCH_GTENR_AS_F\", \"SCH_GTENR_HP_M\", \"SCH_GTENR_HP_F\", \"SCH_GTENR_BL_M\", \"SCH_GTENR_BL_F\", \"SCH_GTENR_WH_M\", \"SCH_GTENR_WH_F\", \"SCH_GTENR_TR_M\", \"SCH_GTENR_TR_F\", \"TOT_GTENR_M\", \"TOT_GTENR_F\"])"
   ]
  },
  {
   "cell_type": "code",
   "execution_count": 6,
   "metadata": {
    "collapsed": false
   },
   "outputs": [
    {
     "data": {
      "text/plain": [
       "Index(['LEA_STATE', 'LEA_NAME', 'SCH_NAME', 'COMBOKEY', 'LEAID', 'JJ',\n",
       "       'SCH_ENR_HI_M', 'SCH_ENR_HI_F', 'SCH_ENR_AM_M', 'SCH_ENR_AM_F',\n",
       "       'SCH_ENR_AS_M', 'SCH_ENR_AS_F', 'SCH_ENR_HP_M', 'SCH_ENR_HP_F',\n",
       "       'SCH_ENR_BL_M', 'SCH_ENR_BL_F', 'SCH_ENR_WH_M', 'SCH_ENR_WH_F',\n",
       "       'SCH_ENR_TR_M', 'SCH_ENR_TR_F', 'TOT_ENR_M', 'TOT_ENR_F', 'SCH_GT_IND',\n",
       "       'SCH_GTENR_HI_M', 'SCH_GTENR_HI_F', 'SCH_GTENR_AM_M', 'SCH_GTENR_AM_F',\n",
       "       'SCH_GTENR_AS_M', 'SCH_GTENR_AS_F', 'SCH_GTENR_HP_M', 'SCH_GTENR_HP_F',\n",
       "       'SCH_GTENR_BL_M', 'SCH_GTENR_BL_F', 'SCH_GTENR_WH_M', 'SCH_GTENR_WH_F',\n",
       "       'SCH_GTENR_TR_M', 'SCH_GTENR_TR_F', 'TOT_GTENR_M', 'TOT_GTENR_F'],\n",
       "      dtype='object')"
      ]
     },
     "execution_count": 6,
     "metadata": {},
     "output_type": "execute_result"
    }
   ],
   "source": [
    "df_gt.columns"
   ]
  },
  {
   "cell_type": "code",
   "execution_count": 7,
   "metadata": {
    "collapsed": false
   },
   "outputs": [
    {
     "data": {
      "text/html": [
       "<div>\n",
       "<table border=\"1\" class=\"dataframe\">\n",
       "  <thead>\n",
       "    <tr style=\"text-align: right;\">\n",
       "      <th></th>\n",
       "      <th>SCH_ENR_HI_M</th>\n",
       "      <th>SCH_ENR_HI_F</th>\n",
       "      <th>SCH_ENR_AM_M</th>\n",
       "      <th>SCH_ENR_AM_F</th>\n",
       "      <th>SCH_ENR_AS_M</th>\n",
       "      <th>SCH_ENR_AS_F</th>\n",
       "      <th>SCH_ENR_HP_M</th>\n",
       "      <th>SCH_ENR_HP_F</th>\n",
       "      <th>SCH_ENR_BL_M</th>\n",
       "      <th>SCH_ENR_BL_F</th>\n",
       "      <th>...</th>\n",
       "      <th>SCH_GTENR_HP_M</th>\n",
       "      <th>SCH_GTENR_HP_F</th>\n",
       "      <th>SCH_GTENR_BL_M</th>\n",
       "      <th>SCH_GTENR_BL_F</th>\n",
       "      <th>SCH_GTENR_WH_M</th>\n",
       "      <th>SCH_GTENR_WH_F</th>\n",
       "      <th>SCH_GTENR_TR_M</th>\n",
       "      <th>SCH_GTENR_TR_F</th>\n",
       "      <th>TOT_GTENR_M</th>\n",
       "      <th>TOT_GTENR_F</th>\n",
       "    </tr>\n",
       "  </thead>\n",
       "  <tbody>\n",
       "    <tr>\n",
       "      <th>count</th>\n",
       "      <td>54950.000000</td>\n",
       "      <td>54950.000000</td>\n",
       "      <td>54950.000000</td>\n",
       "      <td>54950.000000</td>\n",
       "      <td>54950.000000</td>\n",
       "      <td>54950.000000</td>\n",
       "      <td>54950.000000</td>\n",
       "      <td>54950.000000</td>\n",
       "      <td>54950.000000</td>\n",
       "      <td>54950.000000</td>\n",
       "      <td>...</td>\n",
       "      <td>54950.000000</td>\n",
       "      <td>54950.000000</td>\n",
       "      <td>54950.000000</td>\n",
       "      <td>54950.000000</td>\n",
       "      <td>54950.000000</td>\n",
       "      <td>54950.000000</td>\n",
       "      <td>54950.000000</td>\n",
       "      <td>54950.000000</td>\n",
       "      <td>54950.000000</td>\n",
       "      <td>54950.000000</td>\n",
       "    </tr>\n",
       "    <tr>\n",
       "      <th>mean</th>\n",
       "      <td>82.485569</td>\n",
       "      <td>78.652739</td>\n",
       "      <td>3.309390</td>\n",
       "      <td>3.166187</td>\n",
       "      <td>14.642093</td>\n",
       "      <td>14.165005</td>\n",
       "      <td>1.177343</td>\n",
       "      <td>1.133794</td>\n",
       "      <td>47.327753</td>\n",
       "      <td>45.520819</td>\n",
       "      <td>...</td>\n",
       "      <td>0.105077</td>\n",
       "      <td>0.117416</td>\n",
       "      <td>2.823512</td>\n",
       "      <td>3.438235</td>\n",
       "      <td>17.723167</td>\n",
       "      <td>17.664531</td>\n",
       "      <td>1.063567</td>\n",
       "      <td>1.121783</td>\n",
       "      <td>30.530519</td>\n",
       "      <td>31.367716</td>\n",
       "    </tr>\n",
       "    <tr>\n",
       "      <th>std</th>\n",
       "      <td>134.571807</td>\n",
       "      <td>128.893273</td>\n",
       "      <td>13.893578</td>\n",
       "      <td>13.285477</td>\n",
       "      <td>38.376708</td>\n",
       "      <td>36.467239</td>\n",
       "      <td>6.082050</td>\n",
       "      <td>5.698712</td>\n",
       "      <td>80.365421</td>\n",
       "      <td>79.230214</td>\n",
       "      <td>...</td>\n",
       "      <td>0.712680</td>\n",
       "      <td>0.902380</td>\n",
       "      <td>14.201885</td>\n",
       "      <td>16.672410</td>\n",
       "      <td>32.212678</td>\n",
       "      <td>33.957702</td>\n",
       "      <td>2.709362</td>\n",
       "      <td>2.961352</td>\n",
       "      <td>53.904973</td>\n",
       "      <td>58.517175</td>\n",
       "    </tr>\n",
       "    <tr>\n",
       "      <th>min</th>\n",
       "      <td>0.000000</td>\n",
       "      <td>0.000000</td>\n",
       "      <td>0.000000</td>\n",
       "      <td>0.000000</td>\n",
       "      <td>0.000000</td>\n",
       "      <td>0.000000</td>\n",
       "      <td>0.000000</td>\n",
       "      <td>0.000000</td>\n",
       "      <td>0.000000</td>\n",
       "      <td>0.000000</td>\n",
       "      <td>...</td>\n",
       "      <td>0.000000</td>\n",
       "      <td>0.000000</td>\n",
       "      <td>0.000000</td>\n",
       "      <td>0.000000</td>\n",
       "      <td>0.000000</td>\n",
       "      <td>0.000000</td>\n",
       "      <td>0.000000</td>\n",
       "      <td>0.000000</td>\n",
       "      <td>0.000000</td>\n",
       "      <td>0.000000</td>\n",
       "    </tr>\n",
       "    <tr>\n",
       "      <th>25%</th>\n",
       "      <td>8.000000</td>\n",
       "      <td>8.000000</td>\n",
       "      <td>0.000000</td>\n",
       "      <td>0.000000</td>\n",
       "      <td>0.000000</td>\n",
       "      <td>2.000000</td>\n",
       "      <td>0.000000</td>\n",
       "      <td>0.000000</td>\n",
       "      <td>2.000000</td>\n",
       "      <td>2.000000</td>\n",
       "      <td>...</td>\n",
       "      <td>0.000000</td>\n",
       "      <td>0.000000</td>\n",
       "      <td>0.000000</td>\n",
       "      <td>0.000000</td>\n",
       "      <td>2.000000</td>\n",
       "      <td>2.000000</td>\n",
       "      <td>0.000000</td>\n",
       "      <td>0.000000</td>\n",
       "      <td>6.000000</td>\n",
       "      <td>5.000000</td>\n",
       "    </tr>\n",
       "    <tr>\n",
       "      <th>50%</th>\n",
       "      <td>29.000000</td>\n",
       "      <td>27.500000</td>\n",
       "      <td>2.000000</td>\n",
       "      <td>2.000000</td>\n",
       "      <td>2.000000</td>\n",
       "      <td>2.000000</td>\n",
       "      <td>0.000000</td>\n",
       "      <td>0.000000</td>\n",
       "      <td>14.000000</td>\n",
       "      <td>11.000000</td>\n",
       "      <td>...</td>\n",
       "      <td>0.000000</td>\n",
       "      <td>0.000000</td>\n",
       "      <td>0.000000</td>\n",
       "      <td>0.000000</td>\n",
       "      <td>8.000000</td>\n",
       "      <td>8.000000</td>\n",
       "      <td>0.000000</td>\n",
       "      <td>0.000000</td>\n",
       "      <td>15.000000</td>\n",
       "      <td>14.000000</td>\n",
       "    </tr>\n",
       "    <tr>\n",
       "      <th>75%</th>\n",
       "      <td>101.000000</td>\n",
       "      <td>95.000000</td>\n",
       "      <td>2.000000</td>\n",
       "      <td>2.000000</td>\n",
       "      <td>11.000000</td>\n",
       "      <td>11.000000</td>\n",
       "      <td>2.000000</td>\n",
       "      <td>2.000000</td>\n",
       "      <td>56.000000</td>\n",
       "      <td>53.000000</td>\n",
       "      <td>...</td>\n",
       "      <td>0.000000</td>\n",
       "      <td>0.000000</td>\n",
       "      <td>2.000000</td>\n",
       "      <td>2.000000</td>\n",
       "      <td>20.000000</td>\n",
       "      <td>20.000000</td>\n",
       "      <td>2.000000</td>\n",
       "      <td>2.000000</td>\n",
       "      <td>33.000000</td>\n",
       "      <td>33.000000</td>\n",
       "    </tr>\n",
       "    <tr>\n",
       "      <th>max</th>\n",
       "      <td>2117.000000</td>\n",
       "      <td>2162.000000</td>\n",
       "      <td>728.000000</td>\n",
       "      <td>740.000000</td>\n",
       "      <td>1205.000000</td>\n",
       "      <td>1184.000000</td>\n",
       "      <td>311.000000</td>\n",
       "      <td>290.000000</td>\n",
       "      <td>2330.000000</td>\n",
       "      <td>2222.000000</td>\n",
       "      <td>...</td>\n",
       "      <td>53.000000</td>\n",
       "      <td>83.000000</td>\n",
       "      <td>743.000000</td>\n",
       "      <td>929.000000</td>\n",
       "      <td>797.000000</td>\n",
       "      <td>845.000000</td>\n",
       "      <td>104.000000</td>\n",
       "      <td>113.000000</td>\n",
       "      <td>1874.000000</td>\n",
       "      <td>2303.000000</td>\n",
       "    </tr>\n",
       "  </tbody>\n",
       "</table>\n",
       "<p>8 rows × 32 columns</p>\n",
       "</div>"
      ],
      "text/plain": [
       "       SCH_ENR_HI_M  SCH_ENR_HI_F  SCH_ENR_AM_M  SCH_ENR_AM_F  SCH_ENR_AS_M  \\\n",
       "count  54950.000000  54950.000000  54950.000000  54950.000000  54950.000000   \n",
       "mean      82.485569     78.652739      3.309390      3.166187     14.642093   \n",
       "std      134.571807    128.893273     13.893578     13.285477     38.376708   \n",
       "min        0.000000      0.000000      0.000000      0.000000      0.000000   \n",
       "25%        8.000000      8.000000      0.000000      0.000000      0.000000   \n",
       "50%       29.000000     27.500000      2.000000      2.000000      2.000000   \n",
       "75%      101.000000     95.000000      2.000000      2.000000     11.000000   \n",
       "max     2117.000000   2162.000000    728.000000    740.000000   1205.000000   \n",
       "\n",
       "       SCH_ENR_AS_F  SCH_ENR_HP_M  SCH_ENR_HP_F  SCH_ENR_BL_M  SCH_ENR_BL_F  \\\n",
       "count  54950.000000  54950.000000  54950.000000  54950.000000  54950.000000   \n",
       "mean      14.165005      1.177343      1.133794     47.327753     45.520819   \n",
       "std       36.467239      6.082050      5.698712     80.365421     79.230214   \n",
       "min        0.000000      0.000000      0.000000      0.000000      0.000000   \n",
       "25%        2.000000      0.000000      0.000000      2.000000      2.000000   \n",
       "50%        2.000000      0.000000      0.000000     14.000000     11.000000   \n",
       "75%       11.000000      2.000000      2.000000     56.000000     53.000000   \n",
       "max     1184.000000    311.000000    290.000000   2330.000000   2222.000000   \n",
       "\n",
       "           ...       SCH_GTENR_HP_M  SCH_GTENR_HP_F  SCH_GTENR_BL_M  \\\n",
       "count      ...         54950.000000    54950.000000    54950.000000   \n",
       "mean       ...             0.105077        0.117416        2.823512   \n",
       "std        ...             0.712680        0.902380       14.201885   \n",
       "min        ...             0.000000        0.000000        0.000000   \n",
       "25%        ...             0.000000        0.000000        0.000000   \n",
       "50%        ...             0.000000        0.000000        0.000000   \n",
       "75%        ...             0.000000        0.000000        2.000000   \n",
       "max        ...            53.000000       83.000000      743.000000   \n",
       "\n",
       "       SCH_GTENR_BL_F  SCH_GTENR_WH_M  SCH_GTENR_WH_F  SCH_GTENR_TR_M  \\\n",
       "count    54950.000000    54950.000000    54950.000000    54950.000000   \n",
       "mean         3.438235       17.723167       17.664531        1.063567   \n",
       "std         16.672410       32.212678       33.957702        2.709362   \n",
       "min          0.000000        0.000000        0.000000        0.000000   \n",
       "25%          0.000000        2.000000        2.000000        0.000000   \n",
       "50%          0.000000        8.000000        8.000000        0.000000   \n",
       "75%          2.000000       20.000000       20.000000        2.000000   \n",
       "max        929.000000      797.000000      845.000000      104.000000   \n",
       "\n",
       "       SCH_GTENR_TR_F   TOT_GTENR_M   TOT_GTENR_F  \n",
       "count    54950.000000  54950.000000  54950.000000  \n",
       "mean         1.121783     30.530519     31.367716  \n",
       "std          2.961352     53.904973     58.517175  \n",
       "min          0.000000      0.000000      0.000000  \n",
       "25%          0.000000      6.000000      5.000000  \n",
       "50%          0.000000     15.000000     14.000000  \n",
       "75%          2.000000     33.000000     33.000000  \n",
       "max        113.000000   1874.000000   2303.000000  \n",
       "\n",
       "[8 rows x 32 columns]"
      ]
     },
     "execution_count": 7,
     "metadata": {},
     "output_type": "execute_result"
    }
   ],
   "source": [
    "df_gt.dropna().describe()"
   ]
  },
  {
   "cell_type": "code",
   "execution_count": 8,
   "metadata": {
    "collapsed": true
   },
   "outputs": [],
   "source": [
    "df_gt['total_black'] = df_gt['SCH_ENR_BL_M'] + df_gt['SCH_ENR_BL_F']"
   ]
  },
  {
   "cell_type": "code",
   "execution_count": 9,
   "metadata": {
    "collapsed": true
   },
   "outputs": [],
   "source": [
    "df_gt['total_students'] = df_gt['TOT_ENR_M'] + df_gt['TOT_ENR_F']"
   ]
  },
  {
   "cell_type": "code",
   "execution_count": 10,
   "metadata": {
    "collapsed": true
   },
   "outputs": [],
   "source": [
    "df_gt['share_black'] = df_gt['total_black']/df_gt['total_students']"
   ]
  },
  {
   "cell_type": "code",
   "execution_count": 11,
   "metadata": {
    "collapsed": false
   },
   "outputs": [
    {
     "data": {
      "text/plain": [
       "<matplotlib.axes._subplots.AxesSubplot at 0x1353eae80>"
      ]
     },
     "execution_count": 11,
     "metadata": {},
     "output_type": "execute_result"
    },
    {
     "data": {
      "image/png": "[encoded data removed]",
      "text/plain": [
       "<matplotlib.figure.Figure at 0x113ccd668>"
      ]
     },
     "metadata": {},
     "output_type": "display_data"
    }
   ],
   "source": [
    "df_gt['share_black'].hist(bins=10)"
   ]
  },
  {
   "cell_type": "code",
   "execution_count": 12,
   "metadata": {
    "collapsed": true
   },
   "outputs": [],
   "source": [
    "#More than 60,000 schools have 0% of Black students\n",
    "#More than 10,000 schools have 1% of Black students"
   ]
  },
  {
   "cell_type": "code",
   "execution_count": 13,
   "metadata": {
    "collapsed": false
   },
   "outputs": [
    {
     "data": {
      "text/plain": [
       "count    95494.000000\n",
       "mean         0.153448\n",
       "std          0.237883\n",
       "min          0.000000\n",
       "25%          0.010899\n",
       "50%          0.040868\n",
       "75%          0.182722\n",
       "max          1.000000\n",
       "Name: share_black, dtype: float64"
      ]
     },
     "execution_count": 13,
     "metadata": {},
     "output_type": "execute_result"
    }
   ],
   "source": [
    "df_gt['share_black'].dropna().describe()"
   ]
  },
  {
   "cell_type": "code",
   "execution_count": 14,
   "metadata": {
    "collapsed": false
   },
   "outputs": [
    {
     "data": {
      "text/plain": [
       "<matplotlib.axes._subplots.AxesSubplot at 0x113ed8d68>"
      ]
     },
     "execution_count": 14,
     "metadata": {},
     "output_type": "execute_result"
    },
    {
     "data": {
      "image/png": "[encoded data removed]",
      "text/plain": [
       "<matplotlib.figure.Figure at 0x10fea2c88>"
      ]
     },
     "metadata": {},
     "output_type": "display_data"
    }
   ],
   "source": [
    "df_gt[['share_black']].boxplot(whis='range', return_type='axes')"
   ]
  },
  {
   "cell_type": "code",
   "execution_count": 15,
   "metadata": {
    "collapsed": true
   },
   "outputs": [],
   "source": [
    "df_gt['total_white'] = df_gt['SCH_ENR_WH_M'] + df_gt['SCH_ENR_WH_F']"
   ]
  },
  {
   "cell_type": "code",
   "execution_count": 16,
   "metadata": {
    "collapsed": true
   },
   "outputs": [],
   "source": [
    "df_gt['share_white'] = df_gt['total_white']/df_gt['total_students']"
   ]
  },
  {
   "cell_type": "code",
   "execution_count": 17,
   "metadata": {
    "collapsed": false
   },
   "outputs": [
    {
     "data": {
      "text/plain": [
       "count    95494.000000\n",
       "mean         0.540613\n",
       "std          0.331615\n",
       "min          0.000000\n",
       "25%          0.225533\n",
       "50%          0.606696\n",
       "75%          0.848148\n",
       "max          1.000000\n",
       "Name: share_white, dtype: float64"
      ]
     },
     "execution_count": 17,
     "metadata": {},
     "output_type": "execute_result"
    }
   ],
   "source": [
    "df_gt['share_white'].dropna().describe()"
   ]
  },
  {
   "cell_type": "code",
   "execution_count": 18,
   "metadata": {
    "collapsed": true
   },
   "outputs": [],
   "source": [
    "df_gt['total_hispanic'] = df_gt['SCH_ENR_HI_M'] + df_gt['SCH_ENR_HI_F']"
   ]
  },
  {
   "cell_type": "code",
   "execution_count": 19,
   "metadata": {
    "collapsed": true
   },
   "outputs": [],
   "source": [
    "df_gt['share_hispanic'] = df_gt['total_hispanic']/df_gt['total_students']"
   ]
  },
  {
   "cell_type": "code",
   "execution_count": 20,
   "metadata": {
    "collapsed": false
   },
   "outputs": [
    {
     "data": {
      "text/plain": [
       "count    95495.000000\n",
       "mean         0.215048\n",
       "std          0.262537\n",
       "min          0.000000\n",
       "25%          0.030303\n",
       "50%          0.095000\n",
       "75%          0.304000\n",
       "max          1.000000\n",
       "Name: share_hispanic, dtype: float64"
      ]
     },
     "execution_count": 20,
     "metadata": {},
     "output_type": "execute_result"
    }
   ],
   "source": [
    "df_gt['share_hispanic'].dropna().describe()"
   ]
  },
  {
   "cell_type": "code",
   "execution_count": 21,
   "metadata": {
    "collapsed": false
   },
   "outputs": [
    {
     "data": {
      "text/plain": [
       "<matplotlib.axes._subplots.AxesSubplot at 0x113f39080>"
      ]
     },
     "execution_count": 21,
     "metadata": {},
     "output_type": "execute_result"
    },
    {
     "data": {
      "image/png": "[encoded data removed]",
      "text/plain": [
       "<matplotlib.figure.Figure at 0x113f3d7f0>"
      ]
     },
     "metadata": {},
     "output_type": "display_data"
    }
   ],
   "source": [
    "df_gt[['share_black', 'share_white', 'share_hispanic']].boxplot(whis='range', return_type='axes')"
   ]
  },
  {
   "cell_type": "code",
   "execution_count": 22,
   "metadata": {
    "collapsed": false
   },
   "outputs": [],
   "source": [
    "df_gt_subset = df_gt[df_gt['share_black'] > 0.05]"
   ]
  },
  {
   "cell_type": "markdown",
   "metadata": {},
   "source": [
    "# \"Black students are less likely to be placed in gifted and talented programs\""
   ]
  },
  {
   "cell_type": "code",
   "execution_count": 23,
   "metadata": {
    "collapsed": false
   },
   "outputs": [
    {
     "name": "stderr",
     "output_type": "stream",
     "text": [
      "/Users/gcg/.virtualenvs/ddj/lib/python3.5/site-packages/ipykernel/__main__.py:1: SettingWithCopyWarning: \n",
      "A value is trying to be set on a copy of a slice from a DataFrame.\n",
      "Try using .loc[row_indexer,col_indexer] = value instead\n",
      "\n",
      "See the caveats in the documentation: http://pandas.pydata.org/pandas-docs/stable/indexing.html#indexing-view-versus-copy\n",
      "  if __name__ == '__main__':\n"
     ]
    }
   ],
   "source": [
    "df_gt_subset['GT_total'] = df_gt_subset['TOT_GTENR_M'] + df_gt_subset['TOT_GTENR_F']"
   ]
  },
  {
   "cell_type": "code",
   "execution_count": 24,
   "metadata": {
    "collapsed": false
   },
   "outputs": [
    {
     "name": "stderr",
     "output_type": "stream",
     "text": [
      "/Users/gcg/.virtualenvs/ddj/lib/python3.5/site-packages/ipykernel/__main__.py:1: SettingWithCopyWarning: \n",
      "A value is trying to be set on a copy of a slice from a DataFrame.\n",
      "Try using .loc[row_indexer,col_indexer] = value instead\n",
      "\n",
      "See the caveats in the documentation: http://pandas.pydata.org/pandas-docs/stable/indexing.html#indexing-view-versus-copy\n",
      "  if __name__ == '__main__':\n"
     ]
    }
   ],
   "source": [
    "df_gt_subset['black_gt_total'] = df_gt_subset['SCH_GTENR_BL_M'] + df_gt_subset['SCH_GTENR_BL_F']"
   ]
  },
  {
   "cell_type": "code",
   "execution_count": 25,
   "metadata": {
    "collapsed": false
   },
   "outputs": [
    {
     "name": "stderr",
     "output_type": "stream",
     "text": [
      "/Users/gcg/.virtualenvs/ddj/lib/python3.5/site-packages/ipykernel/__main__.py:1: SettingWithCopyWarning: \n",
      "A value is trying to be set on a copy of a slice from a DataFrame.\n",
      "Try using .loc[row_indexer,col_indexer] = value instead\n",
      "\n",
      "See the caveats in the documentation: http://pandas.pydata.org/pandas-docs/stable/indexing.html#indexing-view-versus-copy\n",
      "  if __name__ == '__main__':\n"
     ]
    }
   ],
   "source": [
    "df_gt_subset['share_black_gt'] = df_gt_subset['black_gt_total']/df_gt_subset['GT_total']"
   ]
  },
  {
   "cell_type": "code",
   "execution_count": 26,
   "metadata": {
    "collapsed": false
   },
   "outputs": [
    {
     "data": {
      "text/plain": [
       "<matplotlib.axes._subplots.AxesSubplot at 0x10fefeb38>"
      ]
     },
     "execution_count": 26,
     "metadata": {},
     "output_type": "execute_result"
    },
    {
     "data": {
      "image/png": "[encoded data removed]",
      "text/plain": [
       "<matplotlib.figure.Figure at 0x11428a080>"
      ]
     },
     "metadata": {},
     "output_type": "display_data"
    }
   ],
   "source": [
    "df_gt_subset[['share_black_gt']].dropna().boxplot(whis='range', return_type='axes')"
   ]
  },
  {
   "cell_type": "code",
   "execution_count": 27,
   "metadata": {
    "collapsed": false
   },
   "outputs": [
    {
     "data": {
      "text/plain": [
       "count    26775.000000\n",
       "mean         0.196148\n",
       "std          0.259779\n",
       "min          0.000000\n",
       "25%          0.026316\n",
       "50%          0.094595\n",
       "75%          0.242306\n",
       "max          1.000000\n",
       "Name: share_black_gt, dtype: float64"
      ]
     },
     "execution_count": 27,
     "metadata": {},
     "output_type": "execute_result"
    }
   ],
   "source": [
    "df_gt_subset['share_black_gt'].dropna().describe()"
   ]
  },
  {
   "cell_type": "code",
   "execution_count": 28,
   "metadata": {
    "collapsed": false
   },
   "outputs": [
    {
     "name": "stderr",
     "output_type": "stream",
     "text": [
      "/Users/gcg/.virtualenvs/ddj/lib/python3.5/site-packages/ipykernel/__main__.py:1: SettingWithCopyWarning: \n",
      "A value is trying to be set on a copy of a slice from a DataFrame.\n",
      "Try using .loc[row_indexer,col_indexer] = value instead\n",
      "\n",
      "See the caveats in the documentation: http://pandas.pydata.org/pandas-docs/stable/indexing.html#indexing-view-versus-copy\n",
      "  if __name__ == '__main__':\n",
      "/Users/gcg/.virtualenvs/ddj/lib/python3.5/site-packages/ipykernel/__main__.py:2: SettingWithCopyWarning: \n",
      "A value is trying to be set on a copy of a slice from a DataFrame.\n",
      "Try using .loc[row_indexer,col_indexer] = value instead\n",
      "\n",
      "See the caveats in the documentation: http://pandas.pydata.org/pandas-docs/stable/indexing.html#indexing-view-versus-copy\n",
      "  from ipykernel import kernelapp as app\n"
     ]
    }
   ],
   "source": [
    "df_gt_subset['white_gt_total'] = df_gt_subset['SCH_GTENR_WH_M'] + df_gt_subset['SCH_GTENR_WH_F']\n",
    "df_gt_subset['share_white_gt'] = df_gt_subset['white_gt_total']/df_gt_subset['GT_total']"
   ]
  },
  {
   "cell_type": "code",
   "execution_count": 29,
   "metadata": {
    "collapsed": false
   },
   "outputs": [
    {
     "data": {
      "text/plain": [
       "count    26775.000000\n",
       "mean         0.503299\n",
       "std          0.312476\n",
       "min          0.000000\n",
       "25%          0.228394\n",
       "50%          0.548872\n",
       "75%          0.764706\n",
       "max          1.000000\n",
       "Name: share_white_gt, dtype: float64"
      ]
     },
     "execution_count": 29,
     "metadata": {},
     "output_type": "execute_result"
    }
   ],
   "source": [
    "df_gt_subset['share_white_gt'].dropna().describe()"
   ]
  },
  {
   "cell_type": "code",
   "execution_count": 30,
   "metadata": {
    "collapsed": false
   },
   "outputs": [
    {
     "data": {
      "text/plain": [
       "<matplotlib.axes._subplots.AxesSubplot at 0x11426a438>"
      ]
     },
     "execution_count": 30,
     "metadata": {},
     "output_type": "execute_result"
    },
    {
     "data": {
      "image/png": "[encoded data removed]",
      "text/plain": [
       "<matplotlib.figure.Figure at 0x1142dd5c0>"
      ]
     },
     "metadata": {},
     "output_type": "display_data"
    }
   ],
   "source": [
    "df_gt_subset[['share_black_gt', 'share_white_gt']].dropna().boxplot(whis='range', return_type='axes')\n",
    "# plt.savefig('boxplot_gifted_talented.pdf', transparent = True)\n"
   ]
  },
  {
   "cell_type": "code",
   "execution_count": 31,
   "metadata": {
    "collapsed": false
   },
   "outputs": [
    {
     "name": "stderr",
     "output_type": "stream",
     "text": [
      "/Users/gcg/.virtualenvs/ddj/lib/python3.5/site-packages/ipykernel/__main__.py:1: SettingWithCopyWarning: \n",
      "A value is trying to be set on a copy of a slice from a DataFrame.\n",
      "Try using .loc[row_indexer,col_indexer] = value instead\n",
      "\n",
      "See the caveats in the documentation: http://pandas.pydata.org/pandas-docs/stable/indexing.html#indexing-view-versus-copy\n",
      "  if __name__ == '__main__':\n",
      "/Users/gcg/.virtualenvs/ddj/lib/python3.5/site-packages/ipykernel/__main__.py:2: SettingWithCopyWarning: \n",
      "A value is trying to be set on a copy of a slice from a DataFrame.\n",
      "Try using .loc[row_indexer,col_indexer] = value instead\n",
      "\n",
      "See the caveats in the documentation: http://pandas.pydata.org/pandas-docs/stable/indexing.html#indexing-view-versus-copy\n",
      "  from ipykernel import kernelapp as app\n"
     ]
    }
   ],
   "source": [
    "df_gt_subset['hispanic_gt_total'] = df_gt_subset['SCH_GTENR_HI_M'] + df_gt_subset['SCH_GTENR_HI_F']\n",
    "df_gt_subset['share_hispanic_gt'] = df_gt_subset['hispanic_gt_total']/df_gt_subset['GT_total']"
   ]
  },
  {
   "cell_type": "code",
   "execution_count": 32,
   "metadata": {
    "collapsed": false
   },
   "outputs": [
    {
     "data": {
      "text/plain": [
       "count    26775.000000\n",
       "mean         0.171356\n",
       "std          0.224704\n",
       "min          0.000000\n",
       "25%          0.000000\n",
       "50%          0.081395\n",
       "75%          0.236187\n",
       "max          1.000000\n",
       "Name: share_hispanic_gt, dtype: float64"
      ]
     },
     "execution_count": 32,
     "metadata": {},
     "output_type": "execute_result"
    }
   ],
   "source": [
    "df_gt_subset['share_hispanic_gt'].dropna().describe()"
   ]
  },
  {
   "cell_type": "code",
   "execution_count": 33,
   "metadata": {
    "collapsed": false
   },
   "outputs": [
    {
     "data": {
      "text/plain": [
       "<matplotlib.axes._subplots.AxesSubplot at 0x1142cfc88>"
      ]
     },
     "execution_count": 33,
     "metadata": {},
     "output_type": "execute_result"
    },
    {
     "data": {
      "image/png": "[encoded data removed]",
      "text/plain": [
       "<matplotlib.figure.Figure at 0x113f8e390>"
      ]
     },
     "metadata": {},
     "output_type": "display_data"
    }
   ],
   "source": [
    "df_gt_subset[['share_black_gt', 'share_white_gt', 'share_hispanic_gt']].dropna().boxplot(whis='range', return_type='axes')"
   ]
  },
  {
   "cell_type": "code",
   "execution_count": 34,
   "metadata": {
    "collapsed": false
   },
   "outputs": [
    {
     "name": "stderr",
     "output_type": "stream",
     "text": [
      "/Users/gcg/.virtualenvs/ddj/lib/python3.5/site-packages/ipykernel/__main__.py:1: SettingWithCopyWarning: \n",
      "A value is trying to be set on a copy of a slice from a DataFrame.\n",
      "Try using .loc[row_indexer,col_indexer] = value instead\n",
      "\n",
      "See the caveats in the documentation: http://pandas.pydata.org/pandas-docs/stable/indexing.html#indexing-view-versus-copy\n",
      "  if __name__ == '__main__':\n"
     ]
    }
   ],
   "source": [
    "df_gt_subset['share_black_gt_rounded']= round(df_gt_subset['share_black_gt']*100)"
   ]
  },
  {
   "cell_type": "code",
   "execution_count": 35,
   "metadata": {
    "collapsed": false
   },
   "outputs": [
    {
     "data": {
      "text/plain": [
       "<matplotlib.axes._subplots.AxesSubplot at 0x1142d53c8>"
      ]
     },
     "execution_count": 35,
     "metadata": {},
     "output_type": "execute_result"
    },
    {
     "data": {
      "image/png": "[encoded data removed]",
      "text/plain": [
       "<matplotlib.figure.Figure at 0x114301860>"
      ]
     },
     "metadata": {},
     "output_type": "display_data"
    }
   ],
   "source": [
    "df_gt_subset['share_black_gt_rounded'].hist(bins=[0,5,10,15,20,25,30,35,40,45,50,55,60,65,70,75,80,85,90,95,100])"
   ]
  },
  {
   "cell_type": "code",
   "execution_count": 36,
   "metadata": {
    "collapsed": false
   },
   "outputs": [
    {
     "name": "stderr",
     "output_type": "stream",
     "text": [
      "/Users/gcg/.virtualenvs/ddj/lib/python3.5/site-packages/ipykernel/__main__.py:1: SettingWithCopyWarning: \n",
      "A value is trying to be set on a copy of a slice from a DataFrame.\n",
      "Try using .loc[row_indexer,col_indexer] = value instead\n",
      "\n",
      "See the caveats in the documentation: http://pandas.pydata.org/pandas-docs/stable/indexing.html#indexing-view-versus-copy\n",
      "  if __name__ == '__main__':\n"
     ]
    }
   ],
   "source": [
    "df_gt_subset['share_white_gt_rounded']= round(df_gt_subset['share_white_gt']*100)"
   ]
  },
  {
   "cell_type": "code",
   "execution_count": 37,
   "metadata": {
    "collapsed": false
   },
   "outputs": [
    {
     "data": {
      "text/plain": [
       "<matplotlib.axes._subplots.AxesSubplot at 0x116b29c88>"
      ]
     },
     "execution_count": 37,
     "metadata": {},
     "output_type": "execute_result"
    },
    {
     "data": {
      "image/png": "[encoded data removed]",
      "text/plain": [
       "<matplotlib.figure.Figure at 0x11668a6d8>"
      ]
     },
     "metadata": {},
     "output_type": "display_data"
    }
   ],
   "source": [
    "df_gt_subset['share_white_gt_rounded'].plot(kind=\"hist\", bins=[0,5,10,15,20,25,30,35,40,45,50,55,60,65,70,75,80,85,90,95,100], ylim=(0,9000))"
   ]
  },
  {
   "cell_type": "code",
   "execution_count": 38,
   "metadata": {
    "collapsed": false
   },
   "outputs": [
    {
     "data": {
      "text/plain": [
       "[<matplotlib.lines.Line2D at 0x1144f29b0>]"
      ]
     },
     "execution_count": 38,
     "metadata": {},
     "output_type": "execute_result"
    },
    {
     "data": {
      "image/png": "[encoded data removed]",
      "text/plain": [
       "<matplotlib.figure.Figure at 0x116f181d0>"
      ]
     },
     "metadata": {},
     "output_type": "display_data"
    }
   ],
   "source": [
    "bins = range(0, 101, 5)\n",
    "\n",
    "ax1 = plt.subplot(2,1,2)\n",
    "ax1.set_ylim([0,9000])\n",
    "df_gt_subset['share_black_gt_rounded'].hist(bins=bins, ax=ax1)\n",
    "ax1.plot([df_gt_subset['share_black_gt_rounded'].median(), df_gt_subset['share_black_gt_rounded'].median()], [0, 10000], c='red')\n",
    "\n",
    "ax2 = plt.subplot(2,1,1)\n",
    "ax2.set_ylim([0,9000])\n",
    "df_gt_subset['share_white_gt_rounded'].hist(bins=bins, ax=ax2, figsize=(10,5))\n",
    "ax2.plot([df_gt_subset['share_white_gt_rounded'].median(), df_gt_subset['share_white_gt_rounded'].median()], [0, 10000], c='red')\n",
    "# plt.savefig('gt-histogram.pdf', transparent=True)"
   ]
  },
  {
   "cell_type": "markdown",
   "metadata": {},
   "source": [
    "#  \"Black students are less likely to attend schools that offer advanced coursework\" -- reframed, comparatively to above: \"Are black students are less likely to be enroled in advanced coursework\"?"
   ]
  },
  {
   "cell_type": "code",
   "execution_count": 39,
   "metadata": {
    "collapsed": false
   },
   "outputs": [],
   "source": [
    "df_ac = pd.read_csv(\"CRDC2013_14_SCH.csv\", encoding = \"latin-1\", low_memory = False, na_values=[-9, -5], usecols=[\"LEA_STATE\", \"LEA_NAME\", \"SCH_NAME\", \"COMBOKEY\", \"LEAID\", \"JJ\", \"CCD_LATCOD\", \"CCD_LONCOD\", \"SCH_ENR_HI_M\", \"SCH_ENR_HI_F\", \"SCH_ENR_AM_M\", \"SCH_ENR_AM_F\", \"SCH_ENR_AS_M\", \"SCH_ENR_AS_F\", \"SCH_ENR_HP_M\", \"SCH_ENR_HP_F\", \"SCH_ENR_BL_M\", \"SCH_ENR_BL_F\", \"SCH_ENR_WH_M\", \"SCH_ENR_WH_F\", \"SCH_ENR_TR_M\", \"SCH_ENR_TR_F\", \"TOT_ENR_M\", \"TOT_ENR_F\", \"SCH_APENR_IND\", \"SCH_APCOURSES\", \"SCH_APSEL\", \"SCH_APENR_HI_M\", \"SCH_APENR_HI_F\", \"SCH_APENR_AM_M\", \"SCH_APENR_AM_F\", \"SCH_APENR_AS_M\", \"SCH_APENR_AS_F\", \"SCH_APENR_HP_M\", \"SCH_APENR_HP_F\", \"SCH_APENR_BL_M\", \"SCH_APENR_BL_F\", \"SCH_APENR_WH_M\", \"SCH_APENR_WH_F\", \"SCH_APENR_TR_M\", \"SCH_APENR_TR_F\", \"TOT_APENR_M\", \"TOT_APENR_F\"])"
   ]
  },
  {
   "cell_type": "code",
   "execution_count": 40,
   "metadata": {
    "collapsed": true
   },
   "outputs": [],
   "source": [
    "df_ac['total_black'] = df_ac['SCH_ENR_BL_M'] + df_ac['SCH_ENR_BL_F']"
   ]
  },
  {
   "cell_type": "code",
   "execution_count": 41,
   "metadata": {
    "collapsed": true
   },
   "outputs": [],
   "source": [
    "df_ac['total_white'] = df_ac['SCH_ENR_WH_M'] + df_ac['SCH_ENR_WH_F']"
   ]
  },
  {
   "cell_type": "code",
   "execution_count": 42,
   "metadata": {
    "collapsed": true
   },
   "outputs": [],
   "source": [
    "df_ac['total_students'] = df_ac['TOT_ENR_M'] + df_ac['TOT_ENR_F']"
   ]
  },
  {
   "cell_type": "code",
   "execution_count": 43,
   "metadata": {
    "collapsed": true
   },
   "outputs": [],
   "source": [
    "df_ac['share_black'] = df_ac['total_black']/df_ac['total_students']"
   ]
  },
  {
   "cell_type": "code",
   "execution_count": 44,
   "metadata": {
    "collapsed": false
   },
   "outputs": [],
   "source": [
    "df_ac['share_white'] = df_ac['total_white']/df_ac['total_students']"
   ]
  },
  {
   "cell_type": "code",
   "execution_count": 45,
   "metadata": {
    "collapsed": true
   },
   "outputs": [],
   "source": [
    "df_ac_subset = df_ac[df_ac['share_black'] > 0.05]"
   ]
  },
  {
   "cell_type": "code",
   "execution_count": 46,
   "metadata": {
    "collapsed": false
   },
   "outputs": [
    {
     "name": "stderr",
     "output_type": "stream",
     "text": [
      "/Users/gcg/.virtualenvs/ddj/lib/python3.5/site-packages/ipykernel/__main__.py:1: SettingWithCopyWarning: \n",
      "A value is trying to be set on a copy of a slice from a DataFrame.\n",
      "Try using .loc[row_indexer,col_indexer] = value instead\n",
      "\n",
      "See the caveats in the documentation: http://pandas.pydata.org/pandas-docs/stable/indexing.html#indexing-view-versus-copy\n",
      "  if __name__ == '__main__':\n"
     ]
    }
   ],
   "source": [
    "df_ac_subset['AC_total'] = df_ac_subset['TOT_APENR_M'] + df_ac_subset['TOT_APENR_F']"
   ]
  },
  {
   "cell_type": "code",
   "execution_count": 47,
   "metadata": {
    "collapsed": false
   },
   "outputs": [
    {
     "name": "stderr",
     "output_type": "stream",
     "text": [
      "/Users/gcg/.virtualenvs/ddj/lib/python3.5/site-packages/ipykernel/__main__.py:1: SettingWithCopyWarning: \n",
      "A value is trying to be set on a copy of a slice from a DataFrame.\n",
      "Try using .loc[row_indexer,col_indexer] = value instead\n",
      "\n",
      "See the caveats in the documentation: http://pandas.pydata.org/pandas-docs/stable/indexing.html#indexing-view-versus-copy\n",
      "  if __name__ == '__main__':\n",
      "/Users/gcg/.virtualenvs/ddj/lib/python3.5/site-packages/ipykernel/__main__.py:2: SettingWithCopyWarning: \n",
      "A value is trying to be set on a copy of a slice from a DataFrame.\n",
      "Try using .loc[row_indexer,col_indexer] = value instead\n",
      "\n",
      "See the caveats in the documentation: http://pandas.pydata.org/pandas-docs/stable/indexing.html#indexing-view-versus-copy\n",
      "  from ipykernel import kernelapp as app\n"
     ]
    }
   ],
   "source": [
    "df_ac_subset['black_ac_total'] = df_ac_subset['SCH_APENR_BL_M'] + df_ac_subset['SCH_APENR_BL_F']\n",
    "df_ac_subset['share_black_ac'] = df_ac_subset['black_ac_total']/df_ac_subset['AC_total']"
   ]
  },
  {
   "cell_type": "code",
   "execution_count": 48,
   "metadata": {
    "collapsed": false
   },
   "outputs": [
    {
     "name": "stderr",
     "output_type": "stream",
     "text": [
      "/Users/gcg/.virtualenvs/ddj/lib/python3.5/site-packages/ipykernel/__main__.py:1: SettingWithCopyWarning: \n",
      "A value is trying to be set on a copy of a slice from a DataFrame.\n",
      "Try using .loc[row_indexer,col_indexer] = value instead\n",
      "\n",
      "See the caveats in the documentation: http://pandas.pydata.org/pandas-docs/stable/indexing.html#indexing-view-versus-copy\n",
      "  if __name__ == '__main__':\n",
      "/Users/gcg/.virtualenvs/ddj/lib/python3.5/site-packages/ipykernel/__main__.py:2: SettingWithCopyWarning: \n",
      "A value is trying to be set on a copy of a slice from a DataFrame.\n",
      "Try using .loc[row_indexer,col_indexer] = value instead\n",
      "\n",
      "See the caveats in the documentation: http://pandas.pydata.org/pandas-docs/stable/indexing.html#indexing-view-versus-copy\n",
      "  from ipykernel import kernelapp as app\n"
     ]
    }
   ],
   "source": [
    "df_ac_subset['white_ac_total'] = df_ac_subset['SCH_APENR_WH_M'] + df_ac_subset['SCH_APENR_WH_F']\n",
    "df_ac_subset['share_white_ac'] = df_ac_subset['white_ac_total']/df_ac_subset['AC_total']"
   ]
  },
  {
   "cell_type": "code",
   "execution_count": 49,
   "metadata": {
    "collapsed": false
   },
   "outputs": [],
   "source": [
    "# df_ac.count()"
   ]
  },
  {
   "cell_type": "code",
   "execution_count": 50,
   "metadata": {
    "collapsed": false
   },
   "outputs": [],
   "source": [
    "# df_ac_subset.count()"
   ]
  },
  {
   "cell_type": "code",
   "execution_count": 51,
   "metadata": {
    "collapsed": false
   },
   "outputs": [
    {
     "name": "stderr",
     "output_type": "stream",
     "text": [
      "/Users/gcg/.virtualenvs/ddj/lib/python3.5/site-packages/ipykernel/__main__.py:1: SettingWithCopyWarning: \n",
      "A value is trying to be set on a copy of a slice from a DataFrame.\n",
      "Try using .loc[row_indexer,col_indexer] = value instead\n",
      "\n",
      "See the caveats in the documentation: http://pandas.pydata.org/pandas-docs/stable/indexing.html#indexing-view-versus-copy\n",
      "  if __name__ == '__main__':\n"
     ]
    }
   ],
   "source": [
    "df_ac_subset['share_black_ac_rounded']= round(df_ac_subset['share_black_ac']*100)"
   ]
  },
  {
   "cell_type": "code",
   "execution_count": 52,
   "metadata": {
    "collapsed": false
   },
   "outputs": [
    {
     "name": "stderr",
     "output_type": "stream",
     "text": [
      "/Users/gcg/.virtualenvs/ddj/lib/python3.5/site-packages/ipykernel/__main__.py:1: SettingWithCopyWarning: \n",
      "A value is trying to be set on a copy of a slice from a DataFrame.\n",
      "Try using .loc[row_indexer,col_indexer] = value instead\n",
      "\n",
      "See the caveats in the documentation: http://pandas.pydata.org/pandas-docs/stable/indexing.html#indexing-view-versus-copy\n",
      "  if __name__ == '__main__':\n"
     ]
    }
   ],
   "source": [
    "df_ac_subset['share_white_ac_rounded']= round(df_ac_subset['share_white_ac']*100)"
   ]
  },
  {
   "cell_type": "code",
   "execution_count": 53,
   "metadata": {
    "collapsed": false
   },
   "outputs": [
    {
     "data": {
      "text/plain": [
       "<matplotlib.axes._subplots.AxesSubplot at 0x1167a05c0>"
      ]
     },
     "execution_count": 53,
     "metadata": {},
     "output_type": "execute_result"
    },
    {
     "data": {
      "image/png": "[encoded data removed]",
      "text/plain": [
       "<matplotlib.figure.Figure at 0x114511588>"
      ]
     },
     "metadata": {},
     "output_type": "display_data"
    }
   ],
   "source": [
    "df_ac_subset['share_white_ac_rounded'].plot(kind=\"hist\", bins=[0,5,10,15,20,25,30,35,40,45,50,55,60,65,70,75,80,85,90,95,100], ylim=(0,1500))"
   ]
  },
  {
   "cell_type": "code",
   "execution_count": 54,
   "metadata": {
    "collapsed": false
   },
   "outputs": [
    {
     "data": {
      "text/plain": [
       "<matplotlib.axes._subplots.AxesSubplot at 0x10ff2cfd0>"
      ]
     },
     "execution_count": 54,
     "metadata": {},
     "output_type": "execute_result"
    },
    {
     "data": {
      "image/png": "[encoded data removed]",
      "text/plain": [
       "<matplotlib.figure.Figure at 0x115955588>"
      ]
     },
     "metadata": {},
     "output_type": "display_data"
    }
   ],
   "source": [
    "df_ac_subset['share_black_ac_rounded'].plot(kind=\"hist\", bins=[0,5,10,15,20,25,30,35,40,45,50,55,60,65,70,75,80,85,90,95,100], ylim=(0,1500))"
   ]
  },
  {
   "cell_type": "code",
   "execution_count": 55,
   "metadata": {
    "collapsed": true
   },
   "outputs": [],
   "source": [
    "# definition: advanced coursework: https://edtrust.org/students-cant-wait/advanced-coursework/"
   ]
  },
  {
   "cell_type": "code",
   "execution_count": 56,
   "metadata": {
    "collapsed": false
   },
   "outputs": [
    {
     "data": {
      "text/plain": [
       "[<matplotlib.lines.Line2D at 0x11653d5f8>]"
      ]
     },
     "execution_count": 56,
     "metadata": {},
     "output_type": "execute_result"
    },
    {
     "data": {
      "image/png": "[encoded data removed]",
      "text/plain": [
       "<matplotlib.figure.Figure at 0x116e08518>"
      ]
     },
     "metadata": {},
     "output_type": "display_data"
    }
   ],
   "source": [
    "bins = range(0, 101, 5)\n",
    "\n",
    "ax1 = plt.subplot(2,1,2)\n",
    "ax1.set_ylim([0,1400])\n",
    "df_ac_subset['share_black_ac_rounded'].hist(bins=bins, ax=ax1)\n",
    "ax1.plot([df_ac_subset['share_black_ac_rounded'].median(), df_ac_subset['share_black_ac_rounded'].median()], [0, 1400], c='red')\n",
    "\n",
    "ax2 = plt.subplot(2,1,1)\n",
    "ax2.set_ylim([0,1400])\n",
    "df_ac_subset['share_white_ac_rounded'].hist(bins=bins, ax=ax2, figsize=(10,5))\n",
    "ax2.plot([df_ac_subset['share_white_ac_rounded'].median(), df_ac_subset['share_white_ac_rounded'].median()], [0, 1400], c='red')\n",
    "# plt.savefig('ac-histogram.pdf', transparent=True)"
   ]
  },
  {
   "cell_type": "code",
   "execution_count": 57,
   "metadata": {
    "collapsed": false
   },
   "outputs": [
    {
     "data": {
      "text/plain": [
       "share_black_ac_rounded  share_black_ac_rounded\n",
       "0.0                     0.0                       368\n",
       "1.0                     1.0                        44\n",
       "2.0                     2.0                       205\n",
       "3.0                     3.0                       303\n",
       "4.0                     4.0                       363\n",
       "5.0                     5.0                       343\n",
       "6.0                     6.0                       308\n",
       "7.0                     7.0                       260\n",
       "8.0                     8.0                       246\n",
       "9.0                     9.0                       207\n",
       "10.0                    10.0                      212\n",
       "11.0                    11.0                      174\n",
       "12.0                    12.0                      162\n",
       "13.0                    13.0                      169\n",
       "14.0                    14.0                      119\n",
       "15.0                    15.0                      120\n",
       "16.0                    16.0                      112\n",
       "17.0                    17.0                      113\n",
       "18.0                    18.0                       98\n",
       "19.0                    19.0                       82\n",
       "20.0                    20.0                       82\n",
       "21.0                    21.0                       82\n",
       "22.0                    22.0                       81\n",
       "23.0                    23.0                       56\n",
       "24.0                    24.0                       73\n",
       "25.0                    25.0                       64\n",
       "26.0                    26.0                       44\n",
       "27.0                    27.0                       51\n",
       "28.0                    28.0                       50\n",
       "29.0                    29.0                       58\n",
       "                                                 ... \n",
       "71.0                    71.0                       23\n",
       "72.0                    72.0                       14\n",
       "73.0                    73.0                       19\n",
       "74.0                    74.0                       15\n",
       "75.0                    75.0                        7\n",
       "76.0                    76.0                       17\n",
       "77.0                    77.0                       12\n",
       "78.0                    78.0                       16\n",
       "79.0                    79.0                       16\n",
       "80.0                    80.0                       11\n",
       "81.0                    81.0                       17\n",
       "82.0                    82.0                       12\n",
       "83.0                    83.0                       20\n",
       "84.0                    84.0                       11\n",
       "85.0                    85.0                       11\n",
       "86.0                    86.0                       15\n",
       "87.0                    87.0                       12\n",
       "88.0                    88.0                       15\n",
       "89.0                    89.0                       26\n",
       "90.0                    90.0                       24\n",
       "91.0                    91.0                        8\n",
       "92.0                    92.0                       19\n",
       "93.0                    93.0                       15\n",
       "94.0                    94.0                       24\n",
       "95.0                    95.0                       20\n",
       "96.0                    96.0                       19\n",
       "97.0                    97.0                       15\n",
       "98.0                    98.0                       14\n",
       "99.0                    99.0                        2\n",
       "100.0                   100.0                     146\n",
       "Name: share_black_ac_rounded, dtype: int64"
      ]
     },
     "execution_count": 57,
     "metadata": {},
     "output_type": "execute_result"
    }
   ],
   "source": [
    "df_ac_subset.groupby(by=\"share_black_ac_rounded\")['share_black_ac_rounded'].value_counts()"
   ]
  },
  {
   "cell_type": "code",
   "execution_count": 58,
   "metadata": {
    "collapsed": false
   },
   "outputs": [
    {
     "data": {
      "text/plain": [
       "share_white_ac_rounded  share_white_ac_rounded\n",
       "0.0                     0.0                       533\n",
       "1.0                     1.0                        60\n",
       "2.0                     2.0                       122\n",
       "3.0                     3.0                       108\n",
       "4.0                     4.0                        93\n",
       "5.0                     5.0                        65\n",
       "6.0                     6.0                        62\n",
       "7.0                     7.0                        67\n",
       "8.0                     8.0                        63\n",
       "9.0                     9.0                        58\n",
       "10.0                    10.0                       44\n",
       "11.0                    11.0                       50\n",
       "12.0                    12.0                       45\n",
       "13.0                    13.0                       64\n",
       "14.0                    14.0                       37\n",
       "15.0                    15.0                       29\n",
       "16.0                    16.0                       27\n",
       "17.0                    17.0                       50\n",
       "18.0                    18.0                       34\n",
       "19.0                    19.0                       37\n",
       "20.0                    20.0                       38\n",
       "21.0                    21.0                       42\n",
       "22.0                    22.0                       59\n",
       "23.0                    23.0                       37\n",
       "24.0                    24.0                       34\n",
       "25.0                    25.0                       35\n",
       "26.0                    26.0                       36\n",
       "27.0                    27.0                       28\n",
       "28.0                    28.0                       35\n",
       "29.0                    29.0                       35\n",
       "                                                 ... \n",
       "70.0                    70.0                       76\n",
       "71.0                    71.0                       84\n",
       "72.0                    72.0                       81\n",
       "73.0                    73.0                       89\n",
       "74.0                    74.0                       76\n",
       "75.0                    75.0                       74\n",
       "76.0                    76.0                      110\n",
       "77.0                    77.0                       90\n",
       "78.0                    78.0                      100\n",
       "79.0                    79.0                       94\n",
       "80.0                    80.0                       94\n",
       "81.0                    81.0                       87\n",
       "82.0                    82.0                       87\n",
       "83.0                    83.0                      108\n",
       "84.0                    84.0                       65\n",
       "85.0                    85.0                       93\n",
       "86.0                    86.0                       81\n",
       "87.0                    87.0                       64\n",
       "88.0                    88.0                       68\n",
       "89.0                    89.0                       46\n",
       "90.0                    90.0                       69\n",
       "91.0                    91.0                       33\n",
       "92.0                    92.0                       44\n",
       "93.0                    93.0                       39\n",
       "94.0                    94.0                       15\n",
       "95.0                    95.0                       11\n",
       "96.0                    96.0                        7\n",
       "97.0                    97.0                        5\n",
       "98.0                    98.0                        1\n",
       "100.0                   100.0                     122\n",
       "Name: share_white_ac_rounded, dtype: int64"
      ]
     },
     "execution_count": 58,
     "metadata": {},
     "output_type": "execute_result"
    }
   ],
   "source": [
    "df_ac_subset.groupby(by=\"share_white_ac_rounded\")['share_white_ac_rounded'].value_counts()"
   ]
  },
  {
   "cell_type": "code",
   "execution_count": 59,
   "metadata": {
    "collapsed": false
   },
   "outputs": [
    {
     "data": {
      "text/plain": [
       "<matplotlib.axes._subplots.AxesSubplot at 0x114927fd0>"
      ]
     },
     "execution_count": 59,
     "metadata": {},
     "output_type": "execute_result"
    },
    {
     "data": {
      "image/png": "[encoded data removed]",
      "text/plain": [
       "<matplotlib.figure.Figure at 0x10ff3ea90>"
      ]
     },
     "metadata": {},
     "output_type": "display_data"
    }
   ],
   "source": [
    "df_ac_subset[['share_black_ac', 'share_white_ac']].dropna().boxplot(whis='range', return_type='axes')\n",
    "# plt.savefig('boxplot_advanced_coursework.pdf', transparent = True)"
   ]
  },
  {
   "cell_type": "code",
   "execution_count": 60,
   "metadata": {
    "collapsed": false
   },
   "outputs": [
    {
     "data": {
      "text/html": [
       "<div>\n",
       "<table border=\"1\" class=\"dataframe\">\n",
       "  <thead>\n",
       "    <tr style=\"text-align: right;\">\n",
       "      <th></th>\n",
       "      <th>share_black_ac</th>\n",
       "      <th>share_white_ac</th>\n",
       "    </tr>\n",
       "  </thead>\n",
       "  <tbody>\n",
       "    <tr>\n",
       "      <th>count</th>\n",
       "      <td>6156.000000</td>\n",
       "      <td>6156.000000</td>\n",
       "    </tr>\n",
       "    <tr>\n",
       "      <th>mean</th>\n",
       "      <td>0.227895</td>\n",
       "      <td>0.476706</td>\n",
       "    </tr>\n",
       "    <tr>\n",
       "      <th>std</th>\n",
       "      <td>0.263345</td>\n",
       "      <td>0.311939</td>\n",
       "    </tr>\n",
       "    <tr>\n",
       "      <th>min</th>\n",
       "      <td>0.000000</td>\n",
       "      <td>0.000000</td>\n",
       "    </tr>\n",
       "    <tr>\n",
       "      <th>25%</th>\n",
       "      <td>0.052540</td>\n",
       "      <td>0.166667</td>\n",
       "    </tr>\n",
       "    <tr>\n",
       "      <th>50%</th>\n",
       "      <td>0.118251</td>\n",
       "      <td>0.530181</td>\n",
       "    </tr>\n",
       "    <tr>\n",
       "      <th>75%</th>\n",
       "      <td>0.288438</td>\n",
       "      <td>0.754098</td>\n",
       "    </tr>\n",
       "    <tr>\n",
       "      <th>max</th>\n",
       "      <td>1.000000</td>\n",
       "      <td>1.000000</td>\n",
       "    </tr>\n",
       "  </tbody>\n",
       "</table>\n",
       "</div>"
      ],
      "text/plain": [
       "       share_black_ac  share_white_ac\n",
       "count     6156.000000     6156.000000\n",
       "mean         0.227895        0.476706\n",
       "std          0.263345        0.311939\n",
       "min          0.000000        0.000000\n",
       "25%          0.052540        0.166667\n",
       "50%          0.118251        0.530181\n",
       "75%          0.288438        0.754098\n",
       "max          1.000000        1.000000"
      ]
     },
     "execution_count": 60,
     "metadata": {},
     "output_type": "execute_result"
    }
   ],
   "source": [
    "df_ac_subset[['share_black_ac', 'share_white_ac']].dropna().describe()"
   ]
  },
  {
   "cell_type": "markdown",
   "metadata": {},
   "source": [
    "# \"Black students are more likely to attend schools with less qualified educators, and employ law enforcement officers but no counselors.\""
   ]
  },
  {
   "cell_type": "code",
   "execution_count": 61,
   "metadata": {
    "collapsed": false
   },
   "outputs": [],
   "source": [
    "df_enf = pd.read_csv(\"CRDC2013_14_SCH.csv\", encoding = \"latin-1\", low_memory = False, na_values=[-9, -5], usecols = [\"LEA_STATE\", \"LEA_NAME\", \"SCH_NAME\", \"COMBOKEY\", \"LEAID\", \"JJ\", \"CCD_LATCOD\", \"CCD_LONCOD\", \"SCH_ENR_HI_M\", \"SCH_ENR_HI_F\", \"SCH_ENR_AM_M\", \"SCH_ENR_AM_F\", \"SCH_ENR_AS_M\", \"SCH_ENR_AS_F\", \"SCH_ENR_HP_M\", \"SCH_ENR_HP_F\", \"SCH_ENR_BL_M\", \"SCH_ENR_BL_F\", \"SCH_ENR_WH_M\", \"SCH_ENR_WH_F\", \"SCH_ENR_TR_M\", \"SCH_ENR_TR_F\", \"TOT_ENR_M\", \"TOT_ENR_F\", \"SCH_FTETEACH_TOT\", \"SCH_FTETEACH_CERT\", \"SCH_FTETEACH_NOTCERT\", \"SCH_FTETEACH_FY\", \"SCH_FTETEACH_SY\", \"SCH_FTECOUNSELORS\", \"SCH_FTETEACH_ABSENT\", \"SCH_FTESECURITY_IND\"])"
   ]
  },
  {
   "cell_type": "code",
   "execution_count": 62,
   "metadata": {
    "collapsed": false
   },
   "outputs": [
    {
     "data": {
      "text/plain": [
       "NO     67327\n",
       "YES    27531\n",
       "Name: SCH_FTESECURITY_IND, dtype: int64"
      ]
     },
     "execution_count": 62,
     "metadata": {},
     "output_type": "execute_result"
    }
   ],
   "source": [
    "df_enf[\"SCH_FTESECURITY_IND\"].value_counts()"
   ]
  },
  {
   "cell_type": "code",
   "execution_count": 63,
   "metadata": {
    "collapsed": false,
    "scrolled": true
   },
   "outputs": [
    {
     "data": {
      "text/plain": [
       "1.00     32298\n",
       "0.00     27188\n",
       "2.00      9315\n",
       "0.50      5317\n",
       "3.00      3850\n",
       "4.00      2140\n",
       "1.50      1312\n",
       "5.00      1143\n",
       "0.20       924\n",
       "0.40       738\n",
       "0.25       691\n",
       "0.60       665\n",
       "6.00       644\n",
       "0.80       515\n",
       "0.33       511\n",
       "2.50       445\n",
       "0.30       419\n",
       "7.00       372\n",
       "0.10       346\n",
       "0.75       261\n",
       "8.00       239\n",
       "3.50       200\n",
       "1.40       191\n",
       "1.60       188\n",
       "0.70       165\n",
       "1.20       158\n",
       "9.00       140\n",
       "0.99       126\n",
       "1.80       122\n",
       "4.50       119\n",
       "         ...  \n",
       "4.38         1\n",
       "5.38         1\n",
       "8.53         1\n",
       "9.28         1\n",
       "11.03        1\n",
       "14.53        1\n",
       "2.18         1\n",
       "3.19         1\n",
       "15.15        1\n",
       "6.61         1\n",
       "6.16         1\n",
       "3.93         1\n",
       "8.46         1\n",
       "9.96         1\n",
       "13.96        1\n",
       "21.21        1\n",
       "25.90        1\n",
       "6.43         1\n",
       "3.66         1\n",
       "5.68         1\n",
       "14.40        1\n",
       "4.77         1\n",
       "11.87        1\n",
       "4.93         1\n",
       "3.38         1\n",
       "7.90         1\n",
       "9.40         1\n",
       "10.90        1\n",
       "11.40        1\n",
       "4.17         1\n",
       "Name: SCH_FTECOUNSELORS, dtype: int64"
      ]
     },
     "execution_count": 63,
     "metadata": {},
     "output_type": "execute_result"
    }
   ],
   "source": [
    "df_enf[\"SCH_FTECOUNSELORS\"].value_counts()"
   ]
  },
  {
   "cell_type": "code",
   "execution_count": 64,
   "metadata": {
    "collapsed": false
   },
   "outputs": [
    {
     "data": {
      "text/plain": [
       "count    95477.000000\n",
       "mean         1.176823\n",
       "std          1.805596\n",
       "min          0.000000\n",
       "25%          0.000000\n",
       "50%          1.000000\n",
       "75%          1.000000\n",
       "max        100.000000\n",
       "Name: SCH_FTECOUNSELORS, dtype: float64"
      ]
     },
     "execution_count": 64,
     "metadata": {},
     "output_type": "execute_result"
    }
   ],
   "source": [
    "df_enf[\"SCH_FTECOUNSELORS\"].dropna().describe()"
   ]
  },
  {
   "cell_type": "code",
   "execution_count": 65,
   "metadata": {
    "collapsed": true
   },
   "outputs": [],
   "source": [
    "df_enf['total_black'] = df_enf['SCH_ENR_BL_M'] + df_enf['SCH_ENR_BL_F']\n",
    "df_enf['total_students'] = df_enf['TOT_ENR_M'] + df_enf['TOT_ENR_F']\n",
    "df_enf['share_black'] = df_enf['total_black']/df_enf['total_students']"
   ]
  },
  {
   "cell_type": "code",
   "execution_count": 143,
   "metadata": {
    "collapsed": false
   },
   "outputs": [
    {
     "data": {
      "text/plain": [
       "<matplotlib.axes._subplots.AxesSubplot at 0x1242d84a8>"
      ]
     },
     "execution_count": 143,
     "metadata": {},
     "output_type": "execute_result"
    },
    {
     "data": {
      "image/png": "[encoded data removed]",
      "text/plain": [
       "<matplotlib.figure.Figure at 0x124669668>"
      ]
     },
     "metadata": {},
     "output_type": "display_data"
    }
   ],
   "source": [
    "df_enf['total_black'].hist(bins=[0,20,40,60,80,100,120,140,160,180,200,220])"
   ]
  },
  {
   "cell_type": "code",
   "execution_count": 146,
   "metadata": {
    "collapsed": false
   },
   "outputs": [
    {
     "data": {
      "text/plain": [
       "count    95498.000000\n",
       "mean        81.199135\n",
       "std        153.394632\n",
       "min          0.000000\n",
       "25%          4.000000\n",
       "50%         16.000000\n",
       "75%         88.000000\n",
       "max       5680.000000\n",
       "Name: total_black, dtype: float64"
      ]
     },
     "execution_count": 146,
     "metadata": {},
     "output_type": "execute_result"
    }
   ],
   "source": [
    "df_enf['total_black'].dropna().describe()"
   ]
  },
  {
   "cell_type": "code",
   "execution_count": 147,
   "metadata": {
    "collapsed": false
   },
   "outputs": [
    {
     "data": {
      "text/plain": [
       "0.0       10740\n",
       "4.0       10430\n",
       "2.0        9573\n",
       "7.0        6080\n",
       "10.0       4356\n",
       "13.0       3301\n",
       "16.0       2782\n",
       "19.0       2237\n",
       "22.0       1887\n",
       "25.0       1686\n",
       "28.0       1493\n",
       "31.0       1367\n",
       "34.0       1251\n",
       "37.0       1137\n",
       "40.0       1106\n",
       "43.0        979\n",
       "46.0        969\n",
       "49.0        855\n",
       "52.0        834\n",
       "5.0         827\n",
       "55.0        779\n",
       "58.0        753\n",
       "61.0        732\n",
       "64.0        669\n",
       "67.0        648\n",
       "70.0        621\n",
       "73.0        617\n",
       "76.0        545\n",
       "79.0        544\n",
       "82.0        533\n",
       "          ...  \n",
       "1423.0        1\n",
       "1426.0        1\n",
       "1429.0        1\n",
       "1432.0        1\n",
       "158.0         1\n",
       "1435.0        1\n",
       "215.0         1\n",
       "1315.0        1\n",
       "1312.0        1\n",
       "221.0         1\n",
       "1240.0        1\n",
       "260.0         1\n",
       "1249.0        1\n",
       "257.0         1\n",
       "254.0         1\n",
       "251.0         1\n",
       "1261.0        1\n",
       "1267.0        1\n",
       "245.0         1\n",
       "1270.0        1\n",
       "242.0         1\n",
       "1273.0        1\n",
       "1297.0        1\n",
       "233.0         1\n",
       "1300.0        1\n",
       "1303.0        1\n",
       "1306.0        1\n",
       "224.0         1\n",
       "1309.0        1\n",
       "5680.0        1\n",
       "Name: total_black, dtype: int64"
      ]
     },
     "execution_count": 147,
     "metadata": {},
     "output_type": "execute_result"
    }
   ],
   "source": [
    "df_enf['total_black'].value_counts()"
   ]
  },
  {
   "cell_type": "code",
   "execution_count": 144,
   "metadata": {
    "collapsed": false
   },
   "outputs": [
    {
     "data": {
      "text/plain": [
       "<matplotlib.axes._subplots.AxesSubplot at 0x124690f28>"
      ]
     },
     "execution_count": 144,
     "metadata": {},
     "output_type": "execute_result"
    },
    {
     "data": {
      "image/png": "[encoded data removed]",
      "text/plain": [
       "<matplotlib.figure.Figure at 0x1246984e0>"
      ]
     },
     "metadata": {},
     "output_type": "display_data"
    }
   ],
   "source": [
    "df_enf['total_white'].hist(bins=[0,20,40,60,80,100,120,140,160,180,200,220])"
   ]
  },
  {
   "cell_type": "code",
   "execution_count": 66,
   "metadata": {
    "collapsed": true
   },
   "outputs": [],
   "source": [
    "df_enf['number_counselors_rounded'] = round(df_enf['SCH_FTECOUNSELORS'])"
   ]
  },
  {
   "cell_type": "code",
   "execution_count": 67,
   "metadata": {
    "collapsed": false
   },
   "outputs": [
    {
     "data": {
      "text/plain": [
       "number_counselors_rounded  number_counselors_rounded\n",
       "0.0                        0.0                          37043\n",
       "1.0                        1.0                          35603\n",
       "2.0                        2.0                          12072\n",
       "3.0                        3.0                           4439\n",
       "4.0                        4.0                           2794\n",
       "5.0                        5.0                           1318\n",
       "6.0                        6.0                            885\n",
       "7.0                        7.0                            446\n",
       "8.0                        8.0                            316\n",
       "9.0                        9.0                            169\n",
       "10.0                       10.0                           108\n",
       "11.0                       11.0                            56\n",
       "12.0                       12.0                            56\n",
       "13.0                       13.0                            26\n",
       "14.0                       14.0                            29\n",
       "15.0                       15.0                            25\n",
       "16.0                       16.0                             8\n",
       "17.0                       17.0                             9\n",
       "18.0                       18.0                             9\n",
       "19.0                       19.0                             3\n",
       "20.0                       20.0                             4\n",
       "21.0                       21.0                             4\n",
       "22.0                       22.0                             2\n",
       "23.0                       23.0                             4\n",
       "24.0                       24.0                             5\n",
       "25.0                       25.0                             5\n",
       "26.0                       26.0                             2\n",
       "27.0                       27.0                             3\n",
       "28.0                       28.0                             2\n",
       "29.0                       29.0                             7\n",
       "30.0                       30.0                             1\n",
       "32.0                       32.0                             1\n",
       "33.0                       33.0                             2\n",
       "34.0                       34.0                             1\n",
       "36.0                       36.0                             1\n",
       "37.0                       37.0                             1\n",
       "39.0                       39.0                             2\n",
       "43.0                       43.0                             3\n",
       "46.0                       46.0                             1\n",
       "50.0                       50.0                             3\n",
       "51.0                       51.0                             1\n",
       "54.0                       54.0                             1\n",
       "69.0                       69.0                             1\n",
       "72.0                       72.0                             1\n",
       "73.0                       73.0                             1\n",
       "75.0                       75.0                             1\n",
       "99.0                       99.0                             1\n",
       "100.0                      100.0                            2\n",
       "Name: number_counselors_rounded, dtype: int64"
      ]
     },
     "execution_count": 67,
     "metadata": {},
     "output_type": "execute_result"
    }
   ],
   "source": [
    "df_enf.groupby(by= \"number_counselors_rounded\")['number_counselors_rounded'].value_counts()"
   ]
  },
  {
   "cell_type": "code",
   "execution_count": 68,
   "metadata": {
    "collapsed": false
   },
   "outputs": [
    {
     "data": {
      "text/plain": [
       "<matplotlib.axes._subplots.AxesSubplot at 0x11876ab38>"
      ]
     },
     "execution_count": 68,
     "metadata": {},
     "output_type": "execute_result"
    },
    {
     "data": {
      "image/png": "[encoded data removed]",
      "text/plain": [
       "<matplotlib.figure.Figure at 0x11876a860>"
      ]
     },
     "metadata": {},
     "output_type": "display_data"
    }
   ],
   "source": [
    "df_enf.plot(kind='scatter', x=\"number_counselors_rounded\", y=\"share_black\")"
   ]
  },
  {
   "cell_type": "code",
   "execution_count": 69,
   "metadata": {
    "collapsed": true
   },
   "outputs": [],
   "source": [
    "df_enf['total_white'] = df_enf['SCH_ENR_WH_M'] + df_enf['SCH_ENR_WH_F']\n",
    "df_enf['total_students'] = df_enf['TOT_ENR_M'] + df_enf['TOT_ENR_F']\n",
    "df_enf['share_white'] = df_enf['total_white']/df_enf['total_students']"
   ]
  },
  {
   "cell_type": "code",
   "execution_count": 70,
   "metadata": {
    "collapsed": false
   },
   "outputs": [
    {
     "data": {
      "text/plain": [
       "<matplotlib.axes._subplots.AxesSubplot at 0x117d4c550>"
      ]
     },
     "execution_count": 70,
     "metadata": {},
     "output_type": "execute_result"
    },
    {
     "data": {
      "image/png": "[encoded data removed]",
      "text/plain": [
       "<matplotlib.figure.Figure at 0x117d56390>"
      ]
     },
     "metadata": {},
     "output_type": "display_data"
    }
   ],
   "source": [
    "df_enf.plot(kind='scatter', x=\"number_counselors_rounded\", y=\"share_white\")"
   ]
  },
  {
   "cell_type": "code",
   "execution_count": 71,
   "metadata": {
    "collapsed": false
   },
   "outputs": [],
   "source": [
    "df_enf['share_black_rounded'] = round(df_enf['share_black']*100)"
   ]
  },
  {
   "cell_type": "code",
   "execution_count": 72,
   "metadata": {
    "collapsed": true
   },
   "outputs": [],
   "source": [
    "df_enf['share_white_rounded'] = round(df_enf['share_white']*100)"
   ]
  },
  {
   "cell_type": "code",
   "execution_count": 73,
   "metadata": {
    "collapsed": false
   },
   "outputs": [
    {
     "data": {
      "text/plain": [
       "1.0     15838\n",
       "0.0     13819\n",
       "2.0      9676\n",
       "3.0      5805\n",
       "4.0      4199\n",
       "5.0      3141\n",
       "6.0      2679\n",
       "7.0      2267\n",
       "8.0      2027\n",
       "9.0      1735\n",
       "10.0     1646\n",
       "11.0     1498\n",
       "12.0     1372\n",
       "14.0     1175\n",
       "13.0     1170\n",
       "15.0     1001\n",
       "16.0      971\n",
       "17.0      938\n",
       "18.0      879\n",
       "20.0      830\n",
       "19.0      787\n",
       "22.0      752\n",
       "21.0      693\n",
       "23.0      643\n",
       "24.0      631\n",
       "25.0      614\n",
       "26.0      606\n",
       "29.0      523\n",
       "28.0      523\n",
       "33.0      507\n",
       "        ...  \n",
       "85.0      185\n",
       "92.0      184\n",
       "56.0      179\n",
       "62.0      176\n",
       "64.0      172\n",
       "74.0      168\n",
       "87.0      168\n",
       "58.0      167\n",
       "65.0      166\n",
       "89.0      166\n",
       "60.0      165\n",
       "63.0      164\n",
       "86.0      158\n",
       "70.0      158\n",
       "69.0      153\n",
       "80.0      152\n",
       "71.0      151\n",
       "68.0      151\n",
       "81.0      150\n",
       "82.0      148\n",
       "78.0      148\n",
       "75.0      148\n",
       "79.0      142\n",
       "73.0      142\n",
       "77.0      141\n",
       "83.0      140\n",
       "72.0      137\n",
       "66.0      136\n",
       "76.0      132\n",
       "84.0      128\n",
       "Name: share_black_rounded, dtype: int64"
      ]
     },
     "execution_count": 73,
     "metadata": {},
     "output_type": "execute_result"
    }
   ],
   "source": [
    "df_enf['share_black_rounded'].value_counts()"
   ]
  },
  {
   "cell_type": "code",
   "execution_count": 74,
   "metadata": {
    "collapsed": true
   },
   "outputs": [],
   "source": [
    "new_df = df_enf[['COMBOKEY','share_black_rounded','number_counselors_rounded', 'share_white_rounded']]"
   ]
  },
  {
   "cell_type": "code",
   "execution_count": 75,
   "metadata": {
    "collapsed": false
   },
   "outputs": [
    {
     "data": {
      "text/plain": [
       "<matplotlib.axes._subplots.AxesSubplot at 0x114dbc198>"
      ]
     },
     "execution_count": 75,
     "metadata": {},
     "output_type": "execute_result"
    },
    {
     "data": {
      "image/png": "[encoded data removed]",
      "text/plain": [
       "<matplotlib.figure.Figure at 0x117dae8d0>"
      ]
     },
     "metadata": {},
     "output_type": "display_data"
    }
   ],
   "source": [
    "new_df.plot(kind='scatter', x='number_counselors_rounded', y= \"share_black_rounded\")"
   ]
  },
  {
   "cell_type": "code",
   "execution_count": 76,
   "metadata": {
    "collapsed": false
   },
   "outputs": [
    {
     "data": {
      "text/plain": [
       "<matplotlib.axes._subplots.AxesSubplot at 0x11728e780>"
      ]
     },
     "execution_count": 76,
     "metadata": {},
     "output_type": "execute_result"
    },
    {
     "data": {
      "image/png": "[encoded data removed]",
      "text/plain": [
       "<matplotlib.figure.Figure at 0x118b886d8>"
      ]
     },
     "metadata": {},
     "output_type": "display_data"
    },
    {
     "data": {
      "image/png": "[encoded data removed]",
      "text/plain": [
       "<matplotlib.figure.Figure at 0x118b88898>"
      ]
     },
     "metadata": {},
     "output_type": "display_data"
    }
   ],
   "source": [
    "new_df.plot.hexbin(x='number_counselors_rounded', y= \"share_black_rounded\", reduce_C_function='sum', gridsize=10, xlim=(-5,100))\n",
    "new_df.plot.hexbin(x='number_counselors_rounded', y= \"share_white_rounded\", reduce_C_function='sum', gridsize=10, xlim = (-5,100))\n",
    "# http://pandas.pydata.org/pandas-docs/stable/generated/pandas.DataFrame.plot.hexbin.html\n",
    "# http://matplotlib.org/api/pyplot_api.html"
   ]
  },
  {
   "cell_type": "code",
   "execution_count": 77,
   "metadata": {
    "collapsed": false
   },
   "outputs": [
    {
     "data": {
      "text/plain": [
       "<matplotlib.axes._subplots.AxesSubplot at 0x114d857b8>"
      ]
     },
     "execution_count": 77,
     "metadata": {},
     "output_type": "execute_result"
    },
    {
     "data": {
      "image/png": "[encoded data removed]",
      "text/plain": [
       "<matplotlib.figure.Figure at 0x119568f28>"
      ]
     },
     "metadata": {},
     "output_type": "display_data"
    },
    {
     "data": {
      "image/png": "[encoded data removed]",
      "text/plain": [
       "<matplotlib.figure.Figure at 0x114817e48>"
      ]
     },
     "metadata": {},
     "output_type": "display_data"
    }
   ],
   "source": [
    "new_df.plot.hexbin(x='number_counselors_rounded', y= \"share_black_rounded\", reduce_C_function='sum', bins= 'log', gridsize=10, xlim=(-5,100))\n",
    "new_df.plot.hexbin(x='number_counselors_rounded', y= \"share_white_rounded\", reduce_C_function='sum', bins='log', gridsize=10, xlim = (-5,100))"
   ]
  },
  {
   "cell_type": "code",
   "execution_count": 78,
   "metadata": {
    "collapsed": false
   },
   "outputs": [
    {
     "data": {
      "text/plain": [
       "array([[<matplotlib.axes._subplots.AxesSubplot object at 0x114e3d668>,\n",
       "        <matplotlib.axes._subplots.AxesSubplot object at 0x11971a4a8>],\n",
       "       [<matplotlib.axes._subplots.AxesSubplot object at 0x114e87e80>,\n",
       "        <matplotlib.axes._subplots.AxesSubplot object at 0x117185a20>]], dtype=object)"
      ]
     },
     "execution_count": 78,
     "metadata": {},
     "output_type": "execute_result"
    },
    {
     "data": {
      "image/png": "[encoded data removed]",
      "text/plain": [
       "<matplotlib.figure.Figure at 0x118b8ce10>"
      ]
     },
     "metadata": {},
     "output_type": "display_data"
    }
   ],
   "source": [
    "new_df.hist()"
   ]
  },
  {
   "cell_type": "code",
   "execution_count": 79,
   "metadata": {
    "collapsed": false
   },
   "outputs": [],
   "source": [
    "new_df_no_counsel = new_df[new_df['number_counselors_rounded']==0.0]\n",
    "new_df_one_counsel = new_df[new_df['number_counselors_rounded']==1.0]"
   ]
  },
  {
   "cell_type": "code",
   "execution_count": 80,
   "metadata": {
    "collapsed": false
   },
   "outputs": [
    {
     "data": {
      "text/plain": [
       "[<matplotlib.lines.Line2D at 0x117d15668>]"
      ]
     },
     "execution_count": 80,
     "metadata": {},
     "output_type": "execute_result"
    },
    {
     "data": {
      "image/png": "[encoded data removed]",
      "text/plain": [
       "<matplotlib.figure.Figure at 0x11790c3c8>"
      ]
     },
     "metadata": {},
     "output_type": "display_data"
    }
   ],
   "source": [
    "bins = range(0, 101, 5)\n",
    "\n",
    "ax1 = plt.subplot(2,1,1)\n",
    "ax1.set_ylim([0,25000])\n",
    "new_df_no_counsel['share_black_rounded'].hist(bins=bins, ax=ax1)\n",
    "ax1.plot([new_df_no_counsel['share_black_rounded'].median(), new_df_no_counsel['share_black_rounded'].median()], [0, 25000], c='red')\n",
    "\n",
    "ax2 = plt.subplot(2,1,2)\n",
    "ax2.set_ylim([0,25000])\n",
    "new_df_no_counsel['share_white_rounded'].hist(bins=bins, ax=ax2, figsize=(10,5))\n",
    "ax2.plot([new_df_no_counsel['share_white_rounded'].median(), new_df_no_counsel['share_white_rounded'].median()], [0, 25000], c='red')"
   ]
  },
  {
   "cell_type": "code",
   "execution_count": 81,
   "metadata": {
    "collapsed": false
   },
   "outputs": [
    {
     "data": {
      "text/plain": [
       "[<matplotlib.lines.Line2D at 0x119899c88>]"
      ]
     },
     "execution_count": 81,
     "metadata": {},
     "output_type": "execute_result"
    },
    {
     "data": {
      "image/png": "[encoded data removed]",
      "text/plain": [
       "<matplotlib.figure.Figure at 0x117d26ba8>"
      ]
     },
     "metadata": {},
     "output_type": "display_data"
    }
   ],
   "source": [
    "bins = range(0, 101, 5)\n",
    "\n",
    "ax3 = plt.subplot(2,1,1)\n",
    "ax3.set_ylim([0,20000])\n",
    "new_df_one_counsel['share_black_rounded'].hist(bins=bins, ax=ax3)\n",
    "ax3.plot([new_df_one_counsel['share_black_rounded'].median(), new_df_one_counsel['share_black_rounded'].median()], [0, 20000], c='red')\n",
    "\n",
    "ax4 = plt.subplot(2,1,2)\n",
    "ax4.set_ylim([0,20000])\n",
    "new_df_one_counsel['share_white_rounded'].hist(bins=bins, ax=ax4, figsize=(10,5))\n",
    "ax4.plot([new_df_one_counsel['share_white_rounded'].median(), new_df_one_counsel['share_white_rounded'].median()], [0, 20000], c='red')"
   ]
  },
  {
   "cell_type": "code",
   "execution_count": 82,
   "metadata": {
    "collapsed": false
   },
   "outputs": [
    {
     "data": {
      "text/plain": [
       "[<matplotlib.lines.Line2D at 0x1171f5898>]"
      ]
     },
     "execution_count": 82,
     "metadata": {},
     "output_type": "execute_result"
    },
    {
     "data": {
      "image/png": "[encoded data removed]",
      "text/plain": [
       "<matplotlib.figure.Figure at 0x11be6a710>"
      ]
     },
     "metadata": {},
     "output_type": "display_data"
    }
   ],
   "source": [
    "bins = range(0, 101, 5)\n",
    "\n",
    "ax5 = plt.subplot(2,1,1)\n",
    "ax5.set_ylim([0,25000])\n",
    "new_df_no_counsel['share_black_rounded'].hist(bins=bins, ax=ax5)\n",
    "ax5.plot([new_df_no_counsel['share_black_rounded'].median(), new_df_no_counsel['share_black_rounded'].median()], [0, 20000], c='red')\n",
    "\n",
    "ax6 = plt.subplot(2,1,2)\n",
    "ax6.set_ylim([0,25000])\n",
    "new_df_one_counsel['share_black_rounded'].hist(bins=bins, ax=ax6, figsize=(10,5))\n",
    "ax6.plot([new_df_one_counsel['share_black_rounded'].median(), new_df_one_counsel['share_black_rounded'].median()], [0, 20000], c='red')"
   ]
  },
  {
   "cell_type": "code",
   "execution_count": 83,
   "metadata": {
    "collapsed": false
   },
   "outputs": [
    {
     "data": {
      "text/plain": [
       "count    35603.000000\n",
       "mean        16.976575\n",
       "std         25.643450\n",
       "min          0.000000\n",
       "25%          1.000000\n",
       "50%          4.000000\n",
       "75%         21.000000\n",
       "max        100.000000\n",
       "Name: share_black_rounded, dtype: float64"
      ]
     },
     "execution_count": 83,
     "metadata": {},
     "output_type": "execute_result"
    }
   ],
   "source": [
    "new_df_one_counsel['share_black_rounded'].describe()"
   ]
  },
  {
   "cell_type": "code",
   "execution_count": 84,
   "metadata": {
    "collapsed": false
   },
   "outputs": [
    {
     "data": {
      "text/plain": [
       "count    37039.00000\n",
       "mean        12.58325\n",
       "std         22.15930\n",
       "min          0.00000\n",
       "25%          1.00000\n",
       "50%          3.00000\n",
       "75%         12.00000\n",
       "max        100.00000\n",
       "Name: share_black_rounded, dtype: float64"
      ]
     },
     "execution_count": 84,
     "metadata": {},
     "output_type": "execute_result"
    }
   ],
   "source": [
    "new_df_no_counsel['share_black_rounded'].dropna().describe()"
   ]
  },
  {
   "cell_type": "code",
   "execution_count": 85,
   "metadata": {
    "collapsed": false
   },
   "outputs": [
    {
     "data": {
      "text/plain": [
       "<matplotlib.axes._subplots.AxesSubplot at 0x117574160>"
      ]
     },
     "execution_count": 85,
     "metadata": {},
     "output_type": "execute_result"
    },
    {
     "data": {
      "image/png": "[encoded data removed]",
      "text/plain": [
       "<matplotlib.figure.Figure at 0x117549eb8>"
      ]
     },
     "metadata": {},
     "output_type": "display_data"
    }
   ],
   "source": [
    "new_df_no_counsel['share_black_rounded'].hist()"
   ]
  },
  {
   "cell_type": "code",
   "execution_count": 86,
   "metadata": {
    "collapsed": false
   },
   "outputs": [
    {
     "data": {
      "text/plain": [
       "<matplotlib.axes._subplots.AxesSubplot at 0x11975f518>"
      ]
     },
     "execution_count": 86,
     "metadata": {},
     "output_type": "execute_result"
    },
    {
     "data": {
      "image/png": "[encoded data removed]",
      "text/plain": [
       "<matplotlib.figure.Figure at 0x1197664e0>"
      ]
     },
     "metadata": {},
     "output_type": "display_data"
    }
   ],
   "source": [
    "new_df_one_counsel['share_black_rounded'].hist()"
   ]
  },
  {
   "cell_type": "code",
   "execution_count": 87,
   "metadata": {
    "collapsed": false
   },
   "outputs": [
    {
     "data": {
      "text/plain": [
       "<matplotlib.axes._subplots.AxesSubplot at 0x1198dbeb8>"
      ]
     },
     "execution_count": 87,
     "metadata": {},
     "output_type": "execute_result"
    },
    {
     "data": {
      "image/png": "[encoded data removed]",
      "text/plain": [
       "<matplotlib.figure.Figure at 0x1198e0898>"
      ]
     },
     "metadata": {},
     "output_type": "display_data"
    }
   ],
   "source": [
    "new_df_no_counsel['share_white_rounded'].hist()"
   ]
  },
  {
   "cell_type": "code",
   "execution_count": 88,
   "metadata": {
    "collapsed": false
   },
   "outputs": [
    {
     "data": {
      "text/plain": [
       "<matplotlib.axes._subplots.AxesSubplot at 0x1179efeb8>"
      ]
     },
     "execution_count": 88,
     "metadata": {},
     "output_type": "execute_result"
    },
    {
     "data": {
      "image/png": "[encoded data removed]",
      "text/plain": [
       "<matplotlib.figure.Figure at 0x1199d16a0>"
      ]
     },
     "metadata": {},
     "output_type": "display_data"
    }
   ],
   "source": [
    "new_df_one_counsel['share_white_rounded'].hist()"
   ]
  },
  {
   "cell_type": "code",
   "execution_count": 89,
   "metadata": {
    "collapsed": false
   },
   "outputs": [],
   "source": [
    "df_enf_one_lawofficer = df_enf[df_enf['SCH_FTESECURITY_IND']==\"YES\"]"
   ]
  },
  {
   "cell_type": "code",
   "execution_count": 90,
   "metadata": {
    "collapsed": true
   },
   "outputs": [],
   "source": [
    "df_enf_no_lawofficer = df_enf[df_enf['SCH_FTESECURITY_IND']==\"NO\"]"
   ]
  },
  {
   "cell_type": "code",
   "execution_count": 91,
   "metadata": {
    "collapsed": false
   },
   "outputs": [
    {
     "data": {
      "text/plain": [
       "count    67321.000000\n",
       "mean        13.806123\n",
       "std         22.928459\n",
       "min          0.000000\n",
       "25%          1.000000\n",
       "50%          3.000000\n",
       "75%         15.000000\n",
       "max        100.000000\n",
       "Name: share_black_rounded, dtype: float64"
      ]
     },
     "execution_count": 91,
     "metadata": {},
     "output_type": "execute_result"
    }
   ],
   "source": [
    "df_enf_no_lawofficer['share_black_rounded'].dropna().describe()"
   ]
  },
  {
   "cell_type": "code",
   "execution_count": 92,
   "metadata": {
    "collapsed": false
   },
   "outputs": [
    {
     "data": {
      "text/plain": [
       "count    27531.000000\n",
       "mean        18.641277\n",
       "std         25.155444\n",
       "min          0.000000\n",
       "25%          2.000000\n",
       "50%          7.000000\n",
       "75%         26.000000\n",
       "max        100.000000\n",
       "Name: share_black_rounded, dtype: float64"
      ]
     },
     "execution_count": 92,
     "metadata": {},
     "output_type": "execute_result"
    }
   ],
   "source": [
    "df_enf_one_lawofficer['share_black_rounded'].dropna().describe()"
   ]
  },
  {
   "cell_type": "code",
   "execution_count": 93,
   "metadata": {
    "collapsed": false
   },
   "outputs": [
    {
     "data": {
      "text/plain": [
       "[<matplotlib.lines.Line2D at 0x11beabb70>]"
      ]
     },
     "execution_count": 93,
     "metadata": {},
     "output_type": "execute_result"
    },
    {
     "data": {
      "image/png": "[encoded data removed]",
      "text/plain": [
       "<matplotlib.figure.Figure at 0x11a17c748>"
      ]
     },
     "metadata": {},
     "output_type": "display_data"
    }
   ],
   "source": [
    "bins = range(0, 101, 5)\n",
    "\n",
    "ax7 = plt.subplot(2,1,1)\n",
    "ax7.set_ylim([0,13000])\n",
    "df_enf_one_lawofficer['share_black_rounded'].hist(bins=bins, ax=ax7)\n",
    "ax7.plot([df_enf_one_lawofficer['share_black_rounded'].median(), df_enf_one_lawofficer['share_black_rounded'].median()], [0, 20000], c='red')\n",
    "\n",
    "ax8 = plt.subplot(2,1,2)\n",
    "ax8.set_ylim([0,13000])\n",
    "df_enf_one_lawofficer['share_white_rounded'].hist(bins=bins, ax=ax8, figsize=(10,5))\n",
    "ax8.plot([df_enf_one_lawofficer['share_white_rounded'].median(), df_enf_one_lawofficer['share_white_rounded'].median()], [0, 20000], c='red')"
   ]
  },
  {
   "cell_type": "code",
   "execution_count": 94,
   "metadata": {
    "collapsed": false
   },
   "outputs": [
    {
     "data": {
      "text/plain": [
       "[<matplotlib.lines.Line2D at 0x1213a72b0>]"
      ]
     },
     "execution_count": 94,
     "metadata": {},
     "output_type": "execute_result"
    },
    {
     "data": {
      "image/png": "[encoded data removed]",
      "text/plain": [
       "<matplotlib.figure.Figure at 0x11a14aa20>"
      ]
     },
     "metadata": {},
     "output_type": "display_data"
    }
   ],
   "source": [
    "bins = range(0, 101, 5)\n",
    "\n",
    "ax9 = plt.subplot(2,1,1)\n",
    "ax9.set_ylim([0,40000])\n",
    "df_enf_one_lawofficer['share_black_rounded'].hist(bins=bins, ax=ax9)\n",
    "ax9.plot([df_enf_one_lawofficer['share_black_rounded'].median(), df_enf_one_lawofficer['share_black_rounded'].median()], [0, 20000], c='red')\n",
    "\n",
    "ax10 = plt.subplot(2,1,2)\n",
    "ax10.set_ylim([0,40000])\n",
    "df_enf_no_lawofficer['share_black_rounded'].hist(bins=bins, ax=ax10, figsize=(10,5))\n",
    "ax10.plot([df_enf_no_lawofficer['share_black_rounded'].median(), df_enf_no_lawofficer['share_black_rounded'].median()], [0, 20000], c='red')"
   ]
  },
  {
   "cell_type": "code",
   "execution_count": 95,
   "metadata": {
    "collapsed": false
   },
   "outputs": [
    {
     "data": {
      "text/plain": [
       "[<matplotlib.lines.Line2D at 0x1233a1eb8>]"
      ]
     },
     "execution_count": 95,
     "metadata": {},
     "output_type": "execute_result"
    },
    {
     "data": {
      "image/png": "[encoded data removed]",
      "text/plain": [
       "<matplotlib.figure.Figure at 0x12334aa20>"
      ]
     },
     "metadata": {},
     "output_type": "display_data"
    }
   ],
   "source": [
    "bins = range(0, 101, 5)\n",
    "\n",
    "ax9 = plt.subplot(2,1,1)\n",
    "ax9.set_ylim([0,10000])\n",
    "df_enf_one_lawofficer['share_white_rounded'].hist(bins=bins, ax=ax9)\n",
    "ax9.plot([df_enf_one_lawofficer['share_white_rounded'].median(), df_enf_one_lawofficer['share_white_rounded'].median()], [0, 20000], c='red')\n",
    "\n",
    "ax10 = plt.subplot(2,1,2)\n",
    "ax10.set_ylim([0,10000])\n",
    "df_enf_no_lawofficer['share_white_rounded'].hist(bins=bins, ax=ax10, figsize=(10,5))\n",
    "ax10.plot([df_enf_no_lawofficer['share_white_rounded'].median(), df_enf_no_lawofficer['share_white_rounded'].median()], [0, 20000], c='red')"
   ]
  },
  {
   "cell_type": "code",
   "execution_count": 96,
   "metadata": {
    "collapsed": false
   },
   "outputs": [
    {
     "data": {
      "text/plain": [
       "count    67321.000000\n",
       "mean         0.548202\n",
       "std          0.333385\n",
       "min          0.000000\n",
       "25%          0.233333\n",
       "50%          0.621118\n",
       "75%          0.856187\n",
       "max          1.000000\n",
       "Name: share_white, dtype: float64"
      ]
     },
     "execution_count": 96,
     "metadata": {},
     "output_type": "execute_result"
    }
   ],
   "source": [
    "df_enf_no_lawofficer['share_white'].dropna().describe()"
   ]
  },
  {
   "cell_type": "code",
   "execution_count": 97,
   "metadata": {
    "collapsed": false
   },
   "outputs": [
    {
     "data": {
      "text/plain": [
       "count    27531.000000\n",
       "mean         0.526660\n",
       "std          0.326601\n",
       "min          0.000000\n",
       "25%          0.217700\n",
       "50%          0.584060\n",
       "75%          0.831975\n",
       "max          1.000000\n",
       "Name: share_white, dtype: float64"
      ]
     },
     "execution_count": 97,
     "metadata": {},
     "output_type": "execute_result"
    }
   ],
   "source": [
    "df_enf_one_lawofficer['share_white'].dropna().describe()"
   ]
  },
  {
   "cell_type": "code",
   "execution_count": 98,
   "metadata": {
    "collapsed": false
   },
   "outputs": [
    {
     "data": {
      "text/plain": [
       "<matplotlib.axes._subplots.AxesSubplot at 0x1199f0d68>"
      ]
     },
     "execution_count": 98,
     "metadata": {},
     "output_type": "execute_result"
    },
    {
     "data": {
      "image/png": "[encoded data removed]",
      "text/plain": [
       "<matplotlib.figure.Figure at 0x1199ec2b0>"
      ]
     },
     "metadata": {},
     "output_type": "display_data"
    }
   ],
   "source": [
    "df_enf_one_lawofficer['share_white'].hist()"
   ]
  },
  {
   "cell_type": "code",
   "execution_count": 99,
   "metadata": {
    "collapsed": false
   },
   "outputs": [
    {
     "data": {
      "text/plain": [
       "<matplotlib.axes._subplots.AxesSubplot at 0x1234683c8>"
      ]
     },
     "execution_count": 99,
     "metadata": {},
     "output_type": "execute_result"
    },
    {
     "data": {
      "image/png": "[encoded data removed]",
      "text/plain": [
       "<matplotlib.figure.Figure at 0x123601b38>"
      ]
     },
     "metadata": {},
     "output_type": "display_data"
    }
   ],
   "source": [
    "df_enf_one_lawofficer['share_black'].hist()"
   ]
  },
  {
   "cell_type": "code",
   "execution_count": 100,
   "metadata": {
    "collapsed": false
   },
   "outputs": [
    {
     "data": {
      "text/plain": [
       "<matplotlib.axes._subplots.AxesSubplot at 0x12367a8d0>"
      ]
     },
     "execution_count": 100,
     "metadata": {},
     "output_type": "execute_result"
    },
    {
     "data": {
      "image/png": "[encoded data removed]",
      "text/plain": [
       "<matplotlib.figure.Figure at 0x1235eae48>"
      ]
     },
     "metadata": {},
     "output_type": "display_data"
    }
   ],
   "source": [
    "df_enf_no_lawofficer['share_black'].plot(kind='hist', color='r')\n",
    "df_enf_no_lawofficer['share_white'].plot(kind='hist', color='y', alpha=0.5)"
   ]
  },
  {
   "cell_type": "code",
   "execution_count": 101,
   "metadata": {
    "collapsed": false
   },
   "outputs": [
    {
     "data": {
      "text/plain": [
       "<matplotlib.axes._subplots.AxesSubplot at 0x124306fd0>"
      ]
     },
     "execution_count": 101,
     "metadata": {},
     "output_type": "execute_result"
    },
    {
     "data": {
      "image/png": "[encoded data removed]",
      "text/plain": [
       "<matplotlib.figure.Figure at 0x1243287b8>"
      ]
     },
     "metadata": {},
     "output_type": "display_data"
    }
   ],
   "source": [
    "df_enf_one_lawofficer['share_black'].plot(kind='hist', color='r')\n",
    "df_enf_one_lawofficer['share_white'].plot(kind='hist', color='y', alpha=0.5)"
   ]
  },
  {
   "cell_type": "markdown",
   "metadata": {
    "collapsed": false
   },
   "source": [
    "# Counselors -- from scratch"
   ]
  },
  {
   "cell_type": "code",
   "execution_count": 102,
   "metadata": {
    "collapsed": false
   },
   "outputs": [],
   "source": [
    "df_enf['total_hispanic'] = df_enf['SCH_ENR_HI_M'] + df_enf['SCH_ENR_HI_F']\n",
    "df_enf['share_hispanic'] = df_enf['total_hispanic']/df_enf['total_students']"
   ]
  },
  {
   "cell_type": "code",
   "execution_count": 103,
   "metadata": {
    "collapsed": true
   },
   "outputs": [],
   "source": [
    "df_enf['share_hispanic_rounded'] = round(df_enf['share_hispanic']*100)"
   ]
  },
  {
   "cell_type": "code",
   "execution_count": 104,
   "metadata": {
    "collapsed": false
   },
   "outputs": [
    {
     "data": {
      "text/plain": [
       "Index(['LEA_STATE', 'LEA_NAME', 'SCH_NAME', 'COMBOKEY', 'LEAID', 'JJ',\n",
       "       'CCD_LATCOD', 'CCD_LONCOD', 'SCH_ENR_HI_M', 'SCH_ENR_HI_F',\n",
       "       'SCH_ENR_AM_M', 'SCH_ENR_AM_F', 'SCH_ENR_AS_M', 'SCH_ENR_AS_F',\n",
       "       'SCH_ENR_HP_M', 'SCH_ENR_HP_F', 'SCH_ENR_BL_M', 'SCH_ENR_BL_F',\n",
       "       'SCH_ENR_WH_M', 'SCH_ENR_WH_F', 'SCH_ENR_TR_M', 'SCH_ENR_TR_F',\n",
       "       'TOT_ENR_M', 'TOT_ENR_F', 'SCH_FTETEACH_TOT', 'SCH_FTETEACH_CERT',\n",
       "       'SCH_FTETEACH_NOTCERT', 'SCH_FTETEACH_FY', 'SCH_FTETEACH_SY',\n",
       "       'SCH_FTECOUNSELORS', 'SCH_FTETEACH_ABSENT', 'SCH_FTESECURITY_IND',\n",
       "       'total_black', 'total_students', 'share_black',\n",
       "       'number_counselors_rounded', 'total_white', 'share_white',\n",
       "       'share_black_rounded', 'share_white_rounded', 'total_hispanic',\n",
       "       'share_hispanic', 'share_hispanic_rounded'],\n",
       "      dtype='object')"
      ]
     },
     "execution_count": 104,
     "metadata": {},
     "output_type": "execute_result"
    }
   ],
   "source": [
    "df_enf.columns"
   ]
  },
  {
   "cell_type": "code",
   "execution_count": 105,
   "metadata": {
    "collapsed": true
   },
   "outputs": [],
   "source": [
    "one_counselor = df_enf[df_enf['number_counselors_rounded'] == 1.0]"
   ]
  },
  {
   "cell_type": "code",
   "execution_count": 106,
   "metadata": {
    "collapsed": false
   },
   "outputs": [
    {
     "data": {
      "text/html": [
       "<div>\n",
       "<table border=\"1\" class=\"dataframe\">\n",
       "  <thead>\n",
       "    <tr style=\"text-align: right;\">\n",
       "      <th></th>\n",
       "      <th>share_black_rounded</th>\n",
       "      <th>share_white_rounded</th>\n",
       "      <th>share_hispanic_rounded</th>\n",
       "    </tr>\n",
       "  </thead>\n",
       "  <tbody>\n",
       "    <tr>\n",
       "      <th>count</th>\n",
       "      <td>35603.000000</td>\n",
       "      <td>35603.000000</td>\n",
       "      <td>35603.000000</td>\n",
       "    </tr>\n",
       "    <tr>\n",
       "      <th>mean</th>\n",
       "      <td>16.976575</td>\n",
       "      <td>54.606381</td>\n",
       "      <td>20.105693</td>\n",
       "    </tr>\n",
       "    <tr>\n",
       "      <th>std</th>\n",
       "      <td>25.643450</td>\n",
       "      <td>33.507573</td>\n",
       "      <td>25.599823</td>\n",
       "    </tr>\n",
       "    <tr>\n",
       "      <th>min</th>\n",
       "      <td>0.000000</td>\n",
       "      <td>0.000000</td>\n",
       "      <td>0.000000</td>\n",
       "    </tr>\n",
       "    <tr>\n",
       "      <th>25%</th>\n",
       "      <td>1.000000</td>\n",
       "      <td>23.000000</td>\n",
       "      <td>3.000000</td>\n",
       "    </tr>\n",
       "    <tr>\n",
       "      <th>50%</th>\n",
       "      <td>4.000000</td>\n",
       "      <td>62.000000</td>\n",
       "      <td>8.000000</td>\n",
       "    </tr>\n",
       "    <tr>\n",
       "      <th>75%</th>\n",
       "      <td>21.000000</td>\n",
       "      <td>86.000000</td>\n",
       "      <td>27.000000</td>\n",
       "    </tr>\n",
       "    <tr>\n",
       "      <th>max</th>\n",
       "      <td>100.000000</td>\n",
       "      <td>100.000000</td>\n",
       "      <td>100.000000</td>\n",
       "    </tr>\n",
       "  </tbody>\n",
       "</table>\n",
       "</div>"
      ],
      "text/plain": [
       "       share_black_rounded  share_white_rounded  share_hispanic_rounded\n",
       "count         35603.000000         35603.000000            35603.000000\n",
       "mean             16.976575            54.606381               20.105693\n",
       "std              25.643450            33.507573               25.599823\n",
       "min               0.000000             0.000000                0.000000\n",
       "25%               1.000000            23.000000                3.000000\n",
       "50%               4.000000            62.000000                8.000000\n",
       "75%              21.000000            86.000000               27.000000\n",
       "max             100.000000           100.000000              100.000000"
      ]
     },
     "execution_count": 106,
     "metadata": {},
     "output_type": "execute_result"
    }
   ],
   "source": [
    "one_counselor[['share_black_rounded','share_white_rounded', 'share_hispanic_rounded']].describe()"
   ]
  },
  {
   "cell_type": "code",
   "execution_count": 107,
   "metadata": {
    "collapsed": true
   },
   "outputs": [],
   "source": [
    "no_counselor = df_enf[df_enf['number_counselors_rounded'] == 0.0]"
   ]
  },
  {
   "cell_type": "code",
   "execution_count": 108,
   "metadata": {
    "collapsed": false
   },
   "outputs": [
    {
     "data": {
      "text/html": [
       "<div>\n",
       "<table border=\"1\" class=\"dataframe\">\n",
       "  <thead>\n",
       "    <tr style=\"text-align: right;\">\n",
       "      <th></th>\n",
       "      <th>share_black_rounded</th>\n",
       "      <th>share_white_rounded</th>\n",
       "      <th>share_hispanic_rounded</th>\n",
       "    </tr>\n",
       "  </thead>\n",
       "  <tbody>\n",
       "    <tr>\n",
       "      <th>count</th>\n",
       "      <td>37039.00000</td>\n",
       "      <td>37039.000000</td>\n",
       "      <td>37039.000000</td>\n",
       "    </tr>\n",
       "    <tr>\n",
       "      <th>mean</th>\n",
       "      <td>12.58325</td>\n",
       "      <td>54.610708</td>\n",
       "      <td>22.885715</td>\n",
       "    </tr>\n",
       "    <tr>\n",
       "      <th>std</th>\n",
       "      <td>22.15930</td>\n",
       "      <td>33.481548</td>\n",
       "      <td>27.381474</td>\n",
       "    </tr>\n",
       "    <tr>\n",
       "      <th>min</th>\n",
       "      <td>0.00000</td>\n",
       "      <td>0.000000</td>\n",
       "      <td>0.000000</td>\n",
       "    </tr>\n",
       "    <tr>\n",
       "      <th>25%</th>\n",
       "      <td>1.00000</td>\n",
       "      <td>22.000000</td>\n",
       "      <td>3.000000</td>\n",
       "    </tr>\n",
       "    <tr>\n",
       "      <th>50%</th>\n",
       "      <td>3.00000</td>\n",
       "      <td>62.000000</td>\n",
       "      <td>10.000000</td>\n",
       "    </tr>\n",
       "    <tr>\n",
       "      <th>75%</th>\n",
       "      <td>12.00000</td>\n",
       "      <td>86.000000</td>\n",
       "      <td>34.000000</td>\n",
       "    </tr>\n",
       "    <tr>\n",
       "      <th>max</th>\n",
       "      <td>100.00000</td>\n",
       "      <td>100.000000</td>\n",
       "      <td>100.000000</td>\n",
       "    </tr>\n",
       "  </tbody>\n",
       "</table>\n",
       "</div>"
      ],
      "text/plain": [
       "       share_black_rounded  share_white_rounded  share_hispanic_rounded\n",
       "count          37039.00000         37039.000000            37039.000000\n",
       "mean              12.58325            54.610708               22.885715\n",
       "std               22.15930            33.481548               27.381474\n",
       "min                0.00000             0.000000                0.000000\n",
       "25%                1.00000            22.000000                3.000000\n",
       "50%                3.00000            62.000000               10.000000\n",
       "75%               12.00000            86.000000               34.000000\n",
       "max              100.00000           100.000000              100.000000"
      ]
     },
     "execution_count": 108,
     "metadata": {},
     "output_type": "execute_result"
    }
   ],
   "source": [
    "no_counselor[['share_black_rounded','share_white_rounded', 'share_hispanic_rounded']].dropna().describe()"
   ]
  },
  {
   "cell_type": "markdown",
   "metadata": {},
   "source": [
    "# Law enforcement officers"
   ]
  },
  {
   "cell_type": "code",
   "execution_count": null,
   "metadata": {
    "collapsed": true
   },
   "outputs": [],
   "source": []
  },
  {
   "cell_type": "code",
   "execution_count": 109,
   "metadata": {
    "collapsed": true
   },
   "outputs": [],
   "source": [
    "one_lawofficer = df_enf[df_enf['SCH_FTESECURITY_IND']==\"YES\"]"
   ]
  },
  {
   "cell_type": "code",
   "execution_count": 110,
   "metadata": {
    "collapsed": true
   },
   "outputs": [],
   "source": [
    "no_lawofficer = df_enf[df_enf['SCH_FTESECURITY_IND']==\"NO\"]"
   ]
  },
  {
   "cell_type": "code",
   "execution_count": 111,
   "metadata": {
    "collapsed": false
   },
   "outputs": [
    {
     "data": {
      "text/html": [
       "<div>\n",
       "<table border=\"1\" class=\"dataframe\">\n",
       "  <thead>\n",
       "    <tr style=\"text-align: right;\">\n",
       "      <th></th>\n",
       "      <th>share_black_rounded</th>\n",
       "      <th>share_white_rounded</th>\n",
       "      <th>share_hispanic_rounded</th>\n",
       "    </tr>\n",
       "  </thead>\n",
       "  <tbody>\n",
       "    <tr>\n",
       "      <th>count</th>\n",
       "      <td>27531.000000</td>\n",
       "      <td>27531.000000</td>\n",
       "      <td>27531.000000</td>\n",
       "    </tr>\n",
       "    <tr>\n",
       "      <th>mean</th>\n",
       "      <td>18.641277</td>\n",
       "      <td>52.663434</td>\n",
       "      <td>20.645781</td>\n",
       "    </tr>\n",
       "    <tr>\n",
       "      <th>std</th>\n",
       "      <td>25.155444</td>\n",
       "      <td>32.662340</td>\n",
       "      <td>24.903875</td>\n",
       "    </tr>\n",
       "    <tr>\n",
       "      <th>min</th>\n",
       "      <td>0.000000</td>\n",
       "      <td>0.000000</td>\n",
       "      <td>0.000000</td>\n",
       "    </tr>\n",
       "    <tr>\n",
       "      <th>25%</th>\n",
       "      <td>2.000000</td>\n",
       "      <td>22.000000</td>\n",
       "      <td>3.000000</td>\n",
       "    </tr>\n",
       "    <tr>\n",
       "      <th>50%</th>\n",
       "      <td>7.000000</td>\n",
       "      <td>58.000000</td>\n",
       "      <td>9.000000</td>\n",
       "    </tr>\n",
       "    <tr>\n",
       "      <th>75%</th>\n",
       "      <td>26.000000</td>\n",
       "      <td>83.000000</td>\n",
       "      <td>29.000000</td>\n",
       "    </tr>\n",
       "    <tr>\n",
       "      <th>max</th>\n",
       "      <td>100.000000</td>\n",
       "      <td>100.000000</td>\n",
       "      <td>100.000000</td>\n",
       "    </tr>\n",
       "  </tbody>\n",
       "</table>\n",
       "</div>"
      ],
      "text/plain": [
       "       share_black_rounded  share_white_rounded  share_hispanic_rounded\n",
       "count         27531.000000         27531.000000            27531.000000\n",
       "mean             18.641277            52.663434               20.645781\n",
       "std              25.155444            32.662340               24.903875\n",
       "min               0.000000             0.000000                0.000000\n",
       "25%               2.000000            22.000000                3.000000\n",
       "50%               7.000000            58.000000                9.000000\n",
       "75%              26.000000            83.000000               29.000000\n",
       "max             100.000000           100.000000              100.000000"
      ]
     },
     "execution_count": 111,
     "metadata": {},
     "output_type": "execute_result"
    }
   ],
   "source": [
    "one_lawofficer[['share_black_rounded','share_white_rounded', 'share_hispanic_rounded']].dropna().describe()"
   ]
  },
  {
   "cell_type": "code",
   "execution_count": 112,
   "metadata": {
    "collapsed": false
   },
   "outputs": [
    {
     "data": {
      "text/html": [
       "<div>\n",
       "<table border=\"1\" class=\"dataframe\">\n",
       "  <thead>\n",
       "    <tr style=\"text-align: right;\">\n",
       "      <th></th>\n",
       "      <th>share_black_rounded</th>\n",
       "      <th>share_white_rounded</th>\n",
       "      <th>share_hispanic_rounded</th>\n",
       "    </tr>\n",
       "  </thead>\n",
       "  <tbody>\n",
       "    <tr>\n",
       "      <th>count</th>\n",
       "      <td>67321.000000</td>\n",
       "      <td>67321.000000</td>\n",
       "      <td>67321.000000</td>\n",
       "    </tr>\n",
       "    <tr>\n",
       "      <th>mean</th>\n",
       "      <td>13.806123</td>\n",
       "      <td>54.818185</td>\n",
       "      <td>21.861603</td>\n",
       "    </tr>\n",
       "    <tr>\n",
       "      <th>std</th>\n",
       "      <td>22.928459</td>\n",
       "      <td>33.340281</td>\n",
       "      <td>26.798126</td>\n",
       "    </tr>\n",
       "    <tr>\n",
       "      <th>min</th>\n",
       "      <td>0.000000</td>\n",
       "      <td>0.000000</td>\n",
       "      <td>0.000000</td>\n",
       "    </tr>\n",
       "    <tr>\n",
       "      <th>25%</th>\n",
       "      <td>1.000000</td>\n",
       "      <td>23.000000</td>\n",
       "      <td>3.000000</td>\n",
       "    </tr>\n",
       "    <tr>\n",
       "      <th>50%</th>\n",
       "      <td>3.000000</td>\n",
       "      <td>62.000000</td>\n",
       "      <td>10.000000</td>\n",
       "    </tr>\n",
       "    <tr>\n",
       "      <th>75%</th>\n",
       "      <td>15.000000</td>\n",
       "      <td>86.000000</td>\n",
       "      <td>31.000000</td>\n",
       "    </tr>\n",
       "    <tr>\n",
       "      <th>max</th>\n",
       "      <td>100.000000</td>\n",
       "      <td>100.000000</td>\n",
       "      <td>100.000000</td>\n",
       "    </tr>\n",
       "  </tbody>\n",
       "</table>\n",
       "</div>"
      ],
      "text/plain": [
       "       share_black_rounded  share_white_rounded  share_hispanic_rounded\n",
       "count         67321.000000         67321.000000            67321.000000\n",
       "mean             13.806123            54.818185               21.861603\n",
       "std              22.928459            33.340281               26.798126\n",
       "min               0.000000             0.000000                0.000000\n",
       "25%               1.000000            23.000000                3.000000\n",
       "50%               3.000000            62.000000               10.000000\n",
       "75%              15.000000            86.000000               31.000000\n",
       "max             100.000000           100.000000              100.000000"
      ]
     },
     "execution_count": 112,
     "metadata": {},
     "output_type": "execute_result"
    }
   ],
   "source": [
    "no_lawofficer[['share_black_rounded','share_white_rounded', 'share_hispanic_rounded']].dropna().describe()"
   ]
  },
  {
   "cell_type": "code",
   "execution_count": 113,
   "metadata": {
    "collapsed": false
   },
   "outputs": [
    {
     "data": {
      "text/plain": [
       "3.0"
      ]
     },
     "execution_count": 113,
     "metadata": {},
     "output_type": "execute_result"
    }
   ],
   "source": [
    "no_lawofficer['share_black_rounded'].median() "
   ]
  },
  {
   "cell_type": "code",
   "execution_count": 114,
   "metadata": {
    "collapsed": true
   },
   "outputs": [],
   "source": [
    "law_enforcement = [\n",
    "{'race': 'black', \n",
    " 'share_no_officer': no_lawofficer['share_black_rounded'].median() , \n",
    " 'share_one_officer': one_lawofficer['share_black_rounded'].median()},\n",
    "{'race': 'hispanic', \n",
    " 'share_no_officer': no_lawofficer['share_hispanic_rounded'].median(), \n",
    " 'share_one_officer': one_lawofficer['share_hispanic_rounded'].median()},\n",
    "{'race': 'white', \n",
    " 'share_no_officer': no_lawofficer['share_white_rounded'].median(), \n",
    " 'share_one_officer': one_lawofficer['share_white_rounded'].median()},\n",
    "]"
   ]
  },
  {
   "cell_type": "code",
   "execution_count": 115,
   "metadata": {
    "collapsed": true
   },
   "outputs": [],
   "source": [
    "counselors = [\n",
    "{'race': 'black', \n",
    " 'share_no_counsel': no_counselor['share_black_rounded'].median() , \n",
    " 'share_one_counsel': one_counselor['share_black_rounded'].median()},\n",
    "{'race': 'hispanic', \n",
    " 'share_no_counsel': no_counselor['share_hispanic_rounded'].median(), \n",
    " 'share_one_counsel': one_counselor['share_hispanic_rounded'].median()},\n",
    "{'race': 'white', \n",
    " 'share_no_counsel': no_counselor['share_white_rounded'].median(), \n",
    " 'share_one_counsel': one_counselor['share_white_rounded'].median()},\n",
    "]"
   ]
  },
  {
   "cell_type": "code",
   "execution_count": 116,
   "metadata": {
    "collapsed": true
   },
   "outputs": [],
   "source": [
    "law_enforcement_df = pd.DataFrame(law_enforcement)"
   ]
  },
  {
   "cell_type": "code",
   "execution_count": 117,
   "metadata": {
    "collapsed": false
   },
   "outputs": [
    {
     "data": {
      "text/html": [
       "<div>\n",
       "<table border=\"1\" class=\"dataframe\">\n",
       "  <thead>\n",
       "    <tr style=\"text-align: right;\">\n",
       "      <th></th>\n",
       "      <th>race</th>\n",
       "      <th>share_no_officer</th>\n",
       "      <th>share_one_officer</th>\n",
       "    </tr>\n",
       "  </thead>\n",
       "  <tbody>\n",
       "    <tr>\n",
       "      <th>0</th>\n",
       "      <td>black</td>\n",
       "      <td>3.0</td>\n",
       "      <td>7.0</td>\n",
       "    </tr>\n",
       "    <tr>\n",
       "      <th>1</th>\n",
       "      <td>hispanic</td>\n",
       "      <td>10.0</td>\n",
       "      <td>9.0</td>\n",
       "    </tr>\n",
       "    <tr>\n",
       "      <th>2</th>\n",
       "      <td>white</td>\n",
       "      <td>62.0</td>\n",
       "      <td>58.0</td>\n",
       "    </tr>\n",
       "  </tbody>\n",
       "</table>\n",
       "</div>"
      ],
      "text/plain": [
       "       race  share_no_officer  share_one_officer\n",
       "0     black               3.0                7.0\n",
       "1  hispanic              10.0                9.0\n",
       "2     white              62.0               58.0"
      ]
     },
     "execution_count": 117,
     "metadata": {},
     "output_type": "execute_result"
    }
   ],
   "source": [
    "law_enforcement_df"
   ]
  },
  {
   "cell_type": "code",
   "execution_count": 118,
   "metadata": {
    "collapsed": true
   },
   "outputs": [],
   "source": [
    "counselors_df = pd.DataFrame(counselors)"
   ]
  },
  {
   "cell_type": "code",
   "execution_count": 119,
   "metadata": {
    "collapsed": false
   },
   "outputs": [
    {
     "data": {
      "text/html": [
       "<div>\n",
       "<table border=\"1\" class=\"dataframe\">\n",
       "  <thead>\n",
       "    <tr style=\"text-align: right;\">\n",
       "      <th></th>\n",
       "      <th>race</th>\n",
       "      <th>share_no_counsel</th>\n",
       "      <th>share_one_counsel</th>\n",
       "    </tr>\n",
       "  </thead>\n",
       "  <tbody>\n",
       "    <tr>\n",
       "      <th>0</th>\n",
       "      <td>black</td>\n",
       "      <td>3.0</td>\n",
       "      <td>4.0</td>\n",
       "    </tr>\n",
       "    <tr>\n",
       "      <th>1</th>\n",
       "      <td>hispanic</td>\n",
       "      <td>10.0</td>\n",
       "      <td>8.0</td>\n",
       "    </tr>\n",
       "    <tr>\n",
       "      <th>2</th>\n",
       "      <td>white</td>\n",
       "      <td>62.0</td>\n",
       "      <td>62.0</td>\n",
       "    </tr>\n",
       "  </tbody>\n",
       "</table>\n",
       "</div>"
      ],
      "text/plain": [
       "       race  share_no_counsel  share_one_counsel\n",
       "0     black               3.0                4.0\n",
       "1  hispanic              10.0                8.0\n",
       "2     white              62.0               62.0"
      ]
     },
     "execution_count": 119,
     "metadata": {},
     "output_type": "execute_result"
    }
   ],
   "source": [
    "counselors_df"
   ]
  },
  {
   "cell_type": "code",
   "execution_count": 120,
   "metadata": {
    "collapsed": false
   },
   "outputs": [
    {
     "data": {
      "text/html": [
       "<div>\n",
       "<table border=\"1\" class=\"dataframe\">\n",
       "  <thead>\n",
       "    <tr style=\"text-align: right;\">\n",
       "      <th></th>\n",
       "      <th>0</th>\n",
       "      <th>1</th>\n",
       "      <th>2</th>\n",
       "    </tr>\n",
       "  </thead>\n",
       "  <tbody>\n",
       "    <tr>\n",
       "      <th>race</th>\n",
       "      <td>black</td>\n",
       "      <td>hispanic</td>\n",
       "      <td>white</td>\n",
       "    </tr>\n",
       "    <tr>\n",
       "      <th>share_no_counsel</th>\n",
       "      <td>3</td>\n",
       "      <td>10</td>\n",
       "      <td>62</td>\n",
       "    </tr>\n",
       "    <tr>\n",
       "      <th>share_one_counsel</th>\n",
       "      <td>4</td>\n",
       "      <td>8</td>\n",
       "      <td>62</td>\n",
       "    </tr>\n",
       "  </tbody>\n",
       "</table>\n",
       "</div>"
      ],
      "text/plain": [
       "                       0         1      2\n",
       "race               black  hispanic  white\n",
       "share_no_counsel       3        10     62\n",
       "share_one_counsel      4         8     62"
      ]
     },
     "execution_count": 120,
     "metadata": {},
     "output_type": "execute_result"
    }
   ],
   "source": [
    "counselors_df_transposed = counselors_df.transpose()\n",
    "counselors_df_transposed"
   ]
  },
  {
   "cell_type": "code",
   "execution_count": 121,
   "metadata": {
    "collapsed": false
   },
   "outputs": [
    {
     "data": {
      "text/html": [
       "<div>\n",
       "<table border=\"1\" class=\"dataframe\">\n",
       "  <thead>\n",
       "    <tr style=\"text-align: right;\">\n",
       "      <th>race</th>\n",
       "      <th>black</th>\n",
       "      <th>hispanic</th>\n",
       "      <th>white</th>\n",
       "    </tr>\n",
       "  </thead>\n",
       "  <tbody>\n",
       "    <tr>\n",
       "      <th>share_no_counsel</th>\n",
       "      <td>3</td>\n",
       "      <td>10</td>\n",
       "      <td>62</td>\n",
       "    </tr>\n",
       "    <tr>\n",
       "      <th>share_one_counsel</th>\n",
       "      <td>4</td>\n",
       "      <td>8</td>\n",
       "      <td>62</td>\n",
       "    </tr>\n",
       "  </tbody>\n",
       "</table>\n",
       "</div>"
      ],
      "text/plain": [
       "race              black hispanic white\n",
       "share_no_counsel      3       10    62\n",
       "share_one_counsel     4        8    62"
      ]
     },
     "execution_count": 121,
     "metadata": {},
     "output_type": "execute_result"
    }
   ],
   "source": [
    "counselors_df_transposed.columns = counselors_df_transposed.iloc[0]\n",
    "counselors_df_transposed.drop(\"race\")"
   ]
  },
  {
   "cell_type": "code",
   "execution_count": 122,
   "metadata": {
    "collapsed": false
   },
   "outputs": [
    {
     "name": "stdout",
     "output_type": "stream",
     "text": [
      "<class 'pandas.core.frame.DataFrame'>\n",
      "Index: 3 entries, race to share_one_counsel\n",
      "Data columns (total 3 columns):\n",
      "black       3 non-null object\n",
      "hispanic    3 non-null object\n",
      "white       3 non-null object\n",
      "dtypes: object(3)\n",
      "memory usage: 96.0+ bytes\n"
     ]
    }
   ],
   "source": [
    "counselors_df_transposed.info()"
   ]
  },
  {
   "cell_type": "code",
   "execution_count": 123,
   "metadata": {
    "collapsed": false
   },
   "outputs": [],
   "source": [
    "new_df = counselors_df_transposed.drop('race')"
   ]
  },
  {
   "cell_type": "code",
   "execution_count": 124,
   "metadata": {
    "collapsed": false
   },
   "outputs": [
    {
     "data": {
      "text/html": [
       "<div>\n",
       "<table border=\"1\" class=\"dataframe\">\n",
       "  <thead>\n",
       "    <tr style=\"text-align: right;\">\n",
       "      <th>race</th>\n",
       "      <th>black</th>\n",
       "      <th>hispanic</th>\n",
       "      <th>white</th>\n",
       "    </tr>\n",
       "  </thead>\n",
       "  <tbody>\n",
       "    <tr>\n",
       "      <th>share_no_counsel</th>\n",
       "      <td>3.0</td>\n",
       "      <td>10.0</td>\n",
       "      <td>62.0</td>\n",
       "    </tr>\n",
       "    <tr>\n",
       "      <th>share_one_counsel</th>\n",
       "      <td>4.0</td>\n",
       "      <td>8.0</td>\n",
       "      <td>62.0</td>\n",
       "    </tr>\n",
       "  </tbody>\n",
       "</table>\n",
       "</div>"
      ],
      "text/plain": [
       "race               black  hispanic  white\n",
       "share_no_counsel     3.0      10.0   62.0\n",
       "share_one_counsel    4.0       8.0   62.0"
      ]
     },
     "execution_count": 124,
     "metadata": {},
     "output_type": "execute_result"
    }
   ],
   "source": [
    "new_df[\"black\"] = new_df[\"black\"].apply(float)\n",
    "new_df[\"hispanic\"] = new_df[\"hispanic\"].apply(float)\n",
    "new_df[\"white\"] = new_df[\"white\"].apply(float)\n",
    "new_df"
   ]
  },
  {
   "cell_type": "code",
   "execution_count": 125,
   "metadata": {
    "collapsed": false
   },
   "outputs": [
    {
     "name": "stdout",
     "output_type": "stream",
     "text": [
      "<class 'pandas.core.frame.DataFrame'>\n",
      "Index: 2 entries, share_no_counsel to share_one_counsel\n",
      "Data columns (total 3 columns):\n",
      "black       2 non-null float64\n",
      "hispanic    2 non-null float64\n",
      "white       2 non-null float64\n",
      "dtypes: float64(3)\n",
      "memory usage: 64.0+ bytes\n"
     ]
    }
   ],
   "source": [
    "new_df.info()"
   ]
  },
  {
   "cell_type": "code",
   "execution_count": 126,
   "metadata": {
    "collapsed": false
   },
   "outputs": [
    {
     "data": {
      "image/png": "[encoded data removed]",
      "text/plain": [
       "<matplotlib.figure.Figure at 0x1238edda0>"
      ]
     },
     "metadata": {},
     "output_type": "display_data"
    }
   ],
   "source": [
    "new_df.plot(figsize=(2,7))\n",
    "plt.savefig('counselors.pdf', transparent= True)"
   ]
  },
  {
   "cell_type": "code",
   "execution_count": 127,
   "metadata": {
    "collapsed": true
   },
   "outputs": [],
   "source": [
    "# White: +/- 0%\n",
    "# Black + 1%\n",
    "# Hispanic: -2%"
   ]
  },
  {
   "cell_type": "markdown",
   "metadata": {},
   "source": [
    "# Law enforcement"
   ]
  },
  {
   "cell_type": "code",
   "execution_count": 128,
   "metadata": {
    "collapsed": true
   },
   "outputs": [],
   "source": [
    "law_enforcement_df_transposed = law_enforcement_df.transpose()"
   ]
  },
  {
   "cell_type": "code",
   "execution_count": 129,
   "metadata": {
    "collapsed": true
   },
   "outputs": [],
   "source": [
    "law_enforcement_df_transposed.columns = law_enforcement_df_transposed.iloc[0]"
   ]
  },
  {
   "cell_type": "code",
   "execution_count": 130,
   "metadata": {
    "collapsed": false
   },
   "outputs": [],
   "source": [
    "law_enforcement_df_transposed = law_enforcement_df_transposed.drop('race')"
   ]
  },
  {
   "cell_type": "code",
   "execution_count": 131,
   "metadata": {
    "collapsed": false
   },
   "outputs": [],
   "source": [
    "brandnew_df = law_enforcement_df_transposed"
   ]
  },
  {
   "cell_type": "code",
   "execution_count": 132,
   "metadata": {
    "collapsed": false
   },
   "outputs": [
    {
     "data": {
      "text/html": [
       "<div>\n",
       "<table border=\"1\" class=\"dataframe\">\n",
       "  <thead>\n",
       "    <tr style=\"text-align: right;\">\n",
       "      <th>race</th>\n",
       "      <th>black</th>\n",
       "      <th>hispanic</th>\n",
       "      <th>white</th>\n",
       "    </tr>\n",
       "  </thead>\n",
       "  <tbody>\n",
       "    <tr>\n",
       "      <th>share_no_officer</th>\n",
       "      <td>3.0</td>\n",
       "      <td>10.0</td>\n",
       "      <td>62.0</td>\n",
       "    </tr>\n",
       "    <tr>\n",
       "      <th>share_one_officer</th>\n",
       "      <td>7.0</td>\n",
       "      <td>9.0</td>\n",
       "      <td>58.0</td>\n",
       "    </tr>\n",
       "  </tbody>\n",
       "</table>\n",
       "</div>"
      ],
      "text/plain": [
       "race               black  hispanic  white\n",
       "share_no_officer     3.0      10.0   62.0\n",
       "share_one_officer    7.0       9.0   58.0"
      ]
     },
     "execution_count": 132,
     "metadata": {},
     "output_type": "execute_result"
    }
   ],
   "source": [
    "brandnew_df[\"black\"] = brandnew_df[\"black\"].apply(float)\n",
    "brandnew_df[\"hispanic\"] = brandnew_df[\"hispanic\"].apply(float)\n",
    "brandnew_df[\"white\"] = brandnew_df[\"white\"].apply(float)\n",
    "brandnew_df"
   ]
  },
  {
   "cell_type": "code",
   "execution_count": 133,
   "metadata": {
    "collapsed": false
   },
   "outputs": [
    {
     "data": {
      "image/png": "[encoded data removed]",
      "text/plain": [
       "<matplotlib.figure.Figure at 0x116ecbf28>"
      ]
     },
     "metadata": {},
     "output_type": "display_data"
    }
   ],
   "source": [
    "brandnew_df.plot(figsize=(2,7))\n",
    "plt.savefig('lawofficers.pdf', transparent= True)"
   ]
  },
  {
   "cell_type": "code",
   "execution_count": 134,
   "metadata": {
    "collapsed": true
   },
   "outputs": [],
   "source": [
    "# White: -4%\n",
    "# Black + 4%\n",
    "# Hispanic: -1%"
   ]
  }
 ],
 "metadata": {
  "kernelspec": {
   "display_name": "Python 3",
   "language": "python",
   "name": "python3"
  },
  "language_info": {
   "codemirror_mode": {
    "name": "ipython",
    "version": 3
   },
   "file_extension": ".py",
   "mimetype": "text/x-python",
   "name": "python",
   "nbconvert_exporter": "python",
   "pygments_lexer": "ipython3",
   "version": "3.5.1"
  }
 },
 "nbformat": 4,
 "nbformat_minor": 0
}

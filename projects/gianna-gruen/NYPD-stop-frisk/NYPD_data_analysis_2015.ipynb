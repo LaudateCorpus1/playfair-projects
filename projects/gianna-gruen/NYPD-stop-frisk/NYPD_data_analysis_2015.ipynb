{
 "cells": [
  {
   "cell_type": "code",
   "execution_count": 5,
   "metadata": {
    "collapsed": true
   },
   "outputs": [],
   "source": [
    "import pandas as pd\n",
    "import matplotlib.pyplot as plt\n",
    "import dateutil.parser\n",
    "import datetime\n",
    "%matplotlib inline"
   ]
  },
  {
   "cell_type": "code",
   "execution_count": 6,
   "metadata": {
    "collapsed": false
   },
   "outputs": [],
   "source": [
    "# Source: http://www.nyc.gov/html/nypd/html/analysis_and_planning/stop_question_and_frisk_report.shtml\n",
    "df = pd.read_csv('2015.csv', parse_dates=['datestop'])"
   ]
  },
  {
   "cell_type": "code",
   "execution_count": 7,
   "metadata": {
    "collapsed": false
   },
   "outputs": [
    {
     "data": {
      "text/html": [
       "<div>\n",
       "<table border=\"1\" class=\"dataframe\">\n",
       "  <thead>\n",
       "    <tr style=\"text-align: right;\">\n",
       "      <th></th>\n",
       "      <th>year</th>\n",
       "      <th>pct</th>\n",
       "      <th>ser_num</th>\n",
       "      <th>datestop</th>\n",
       "      <th>timestop</th>\n",
       "      <th>recstat</th>\n",
       "      <th>inout</th>\n",
       "      <th>trhsloc</th>\n",
       "      <th>perobs</th>\n",
       "      <th>crimsusp</th>\n",
       "      <th>...</th>\n",
       "      <th>zip</th>\n",
       "      <th>addrpct</th>\n",
       "      <th>sector</th>\n",
       "      <th>beat</th>\n",
       "      <th>post</th>\n",
       "      <th>xcoord</th>\n",
       "      <th>ycoord</th>\n",
       "      <th>dettypCM</th>\n",
       "      <th>lineCM</th>\n",
       "      <th>detailCM</th>\n",
       "    </tr>\n",
       "  </thead>\n",
       "  <tbody>\n",
       "    <tr>\n",
       "      <th>0</th>\n",
       "      <td>2015</td>\n",
       "      <td>61</td>\n",
       "      <td>18</td>\n",
       "      <td>1012015</td>\n",
       "      <td>315</td>\n",
       "      <td>1</td>\n",
       "      <td>O</td>\n",
       "      <td>P</td>\n",
       "      <td>2.0</td>\n",
       "      <td>FELONY</td>\n",
       "      <td>...</td>\n",
       "      <td></td>\n",
       "      <td>61</td>\n",
       "      <td>E</td>\n",
       "      <td>7</td>\n",
       "      <td></td>\n",
       "      <td>1000091</td>\n",
       "      <td>156314</td>\n",
       "      <td>CM</td>\n",
       "      <td>1</td>\n",
       "      <td>14</td>\n",
       "    </tr>\n",
       "    <tr>\n",
       "      <th>1</th>\n",
       "      <td>2015</td>\n",
       "      <td>22</td>\n",
       "      <td>5</td>\n",
       "      <td>1152015</td>\n",
       "      <td>1747</td>\n",
       "      <td>A</td>\n",
       "      <td>O</td>\n",
       "      <td>P</td>\n",
       "      <td>1.0</td>\n",
       "      <td>FELONY</td>\n",
       "      <td>...</td>\n",
       "      <td></td>\n",
       "      <td>22</td>\n",
       "      <td>E</td>\n",
       "      <td>14</td>\n",
       "      <td></td>\n",
       "      <td>994617</td>\n",
       "      <td>227693</td>\n",
       "      <td>CM</td>\n",
       "      <td>1</td>\n",
       "      <td>20</td>\n",
       "    </tr>\n",
       "    <tr>\n",
       "      <th>2</th>\n",
       "      <td>2015</td>\n",
       "      <td>20</td>\n",
       "      <td>36</td>\n",
       "      <td>1292015</td>\n",
       "      <td>1745</td>\n",
       "      <td>1</td>\n",
       "      <td>O</td>\n",
       "      <td>P</td>\n",
       "      <td>1.0</td>\n",
       "      <td>MISD</td>\n",
       "      <td>...</td>\n",
       "      <td></td>\n",
       "      <td>20</td>\n",
       "      <td>H</td>\n",
       "      <td></td>\n",
       "      <td>16</td>\n",
       "      <td>991510</td>\n",
       "      <td>225019</td>\n",
       "      <td>CM</td>\n",
       "      <td>1</td>\n",
       "      <td>78</td>\n",
       "    </tr>\n",
       "    <tr>\n",
       "      <th>3</th>\n",
       "      <td>2015</td>\n",
       "      <td>20</td>\n",
       "      <td>38</td>\n",
       "      <td>1292015</td>\n",
       "      <td>1745</td>\n",
       "      <td>1</td>\n",
       "      <td>O</td>\n",
       "      <td>P</td>\n",
       "      <td>1.0</td>\n",
       "      <td>MIDS</td>\n",
       "      <td>...</td>\n",
       "      <td></td>\n",
       "      <td>20</td>\n",
       "      <td>H</td>\n",
       "      <td></td>\n",
       "      <td>16</td>\n",
       "      <td>991510</td>\n",
       "      <td>225019</td>\n",
       "      <td>CM</td>\n",
       "      <td>1</td>\n",
       "      <td>78</td>\n",
       "    </tr>\n",
       "    <tr>\n",
       "      <th>4</th>\n",
       "      <td>2015</td>\n",
       "      <td>20</td>\n",
       "      <td>41</td>\n",
       "      <td>1292015</td>\n",
       "      <td>1745</td>\n",
       "      <td>1</td>\n",
       "      <td>O</td>\n",
       "      <td>P</td>\n",
       "      <td>1.0</td>\n",
       "      <td>MISD</td>\n",
       "      <td>...</td>\n",
       "      <td></td>\n",
       "      <td>20</td>\n",
       "      <td>H</td>\n",
       "      <td></td>\n",
       "      <td>16</td>\n",
       "      <td>991510</td>\n",
       "      <td>225019</td>\n",
       "      <td>CM</td>\n",
       "      <td>1</td>\n",
       "      <td>78</td>\n",
       "    </tr>\n",
       "  </tbody>\n",
       "</table>\n",
       "<p>5 rows × 112 columns</p>\n",
       "</div>"
      ],
      "text/plain": [
       "   year  pct  ser_num datestop  timestop recstat inout trhsloc  perobs  \\\n",
       "0  2015   61       18  1012015       315       1     O       P     2.0   \n",
       "1  2015   22        5  1152015      1747       A     O       P     1.0   \n",
       "2  2015   20       36  1292015      1745       1     O       P     1.0   \n",
       "3  2015   20       38  1292015      1745       1     O       P     1.0   \n",
       "4  2015   20       41  1292015      1745       1     O       P     1.0   \n",
       "\n",
       "  crimsusp    ...    zip addrpct sector beat post   xcoord   ycoord dettypCM  \\\n",
       "0   FELONY    ...             61      E    7       1000091   156314       CM   \n",
       "1   FELONY    ...             22      E   14        994617   227693       CM   \n",
       "2     MISD    ...             20      H        16   991510   225019       CM   \n",
       "3     MIDS    ...             20      H        16   991510   225019       CM   \n",
       "4     MISD    ...             20      H        16   991510   225019       CM   \n",
       "\n",
       "   lineCM  detailCM  \n",
       "0       1        14  \n",
       "1       1        20  \n",
       "2       1        78  \n",
       "3       1        78  \n",
       "4       1        78  \n",
       "\n",
       "[5 rows x 112 columns]"
      ]
     },
     "execution_count": 7,
     "metadata": {},
     "output_type": "execute_result"
    }
   ],
   "source": [
    "df.head()"
   ]
  },
  {
   "cell_type": "code",
   "execution_count": 8,
   "metadata": {
    "collapsed": false
   },
   "outputs": [
    {
     "data": {
      "text/html": [
       "<div>\n",
       "<table border=\"1\" class=\"dataframe\">\n",
       "  <thead>\n",
       "    <tr style=\"text-align: right;\">\n",
       "      <th></th>\n",
       "      <th>perobs</th>\n",
       "      <th>crimsusp</th>\n",
       "      <th>perstop</th>\n",
       "      <th>explnstp</th>\n",
       "      <th>arstmade</th>\n",
       "      <th>sumissue</th>\n",
       "      <th>sumoffen</th>\n",
       "      <th>frisked</th>\n",
       "      <th>rf_vcrim</th>\n",
       "      <th>rf_othsw</th>\n",
       "      <th>...</th>\n",
       "      <th>pf_baton</th>\n",
       "      <th>pf_hcuff</th>\n",
       "      <th>pf_other</th>\n",
       "      <th>pf_pepsp</th>\n",
       "      <th>detailCM</th>\n",
       "      <th>sex</th>\n",
       "      <th>race</th>\n",
       "      <th>age</th>\n",
       "      <th>state</th>\n",
       "      <th>city</th>\n",
       "    </tr>\n",
       "  </thead>\n",
       "  <tbody>\n",
       "    <tr>\n",
       "      <th>0</th>\n",
       "      <td>2.0</td>\n",
       "      <td>FELONY</td>\n",
       "      <td>10</td>\n",
       "      <td>Y</td>\n",
       "      <td>N</td>\n",
       "      <td>N</td>\n",
       "      <td></td>\n",
       "      <td>Y</td>\n",
       "      <td>N</td>\n",
       "      <td>N</td>\n",
       "      <td>...</td>\n",
       "      <td>N</td>\n",
       "      <td>N</td>\n",
       "      <td>N</td>\n",
       "      <td>N</td>\n",
       "      <td>14</td>\n",
       "      <td>M</td>\n",
       "      <td>W</td>\n",
       "      <td>33</td>\n",
       "      <td></td>\n",
       "      <td>BROOKLYN</td>\n",
       "    </tr>\n",
       "    <tr>\n",
       "      <th>1</th>\n",
       "      <td>1.0</td>\n",
       "      <td>FELONY</td>\n",
       "      <td>4</td>\n",
       "      <td>Y</td>\n",
       "      <td>N</td>\n",
       "      <td>N</td>\n",
       "      <td></td>\n",
       "      <td>Y</td>\n",
       "      <td>Y</td>\n",
       "      <td>Y</td>\n",
       "      <td>...</td>\n",
       "      <td>N</td>\n",
       "      <td>N</td>\n",
       "      <td>N</td>\n",
       "      <td>N</td>\n",
       "      <td>20</td>\n",
       "      <td>M</td>\n",
       "      <td>B</td>\n",
       "      <td>14</td>\n",
       "      <td></td>\n",
       "      <td>MANHATTAN</td>\n",
       "    </tr>\n",
       "    <tr>\n",
       "      <th>2</th>\n",
       "      <td>1.0</td>\n",
       "      <td>MISD</td>\n",
       "      <td>16</td>\n",
       "      <td>Y</td>\n",
       "      <td>N</td>\n",
       "      <td>N</td>\n",
       "      <td></td>\n",
       "      <td>N</td>\n",
       "      <td>N</td>\n",
       "      <td>N</td>\n",
       "      <td>...</td>\n",
       "      <td>N</td>\n",
       "      <td>N</td>\n",
       "      <td>N</td>\n",
       "      <td>N</td>\n",
       "      <td>78</td>\n",
       "      <td>M</td>\n",
       "      <td>B</td>\n",
       "      <td>14</td>\n",
       "      <td></td>\n",
       "      <td>MANHATTAN</td>\n",
       "    </tr>\n",
       "    <tr>\n",
       "      <th>3</th>\n",
       "      <td>1.0</td>\n",
       "      <td>MIDS</td>\n",
       "      <td>16</td>\n",
       "      <td>Y</td>\n",
       "      <td>N</td>\n",
       "      <td>N</td>\n",
       "      <td></td>\n",
       "      <td>N</td>\n",
       "      <td>N</td>\n",
       "      <td>N</td>\n",
       "      <td>...</td>\n",
       "      <td>N</td>\n",
       "      <td>N</td>\n",
       "      <td>N</td>\n",
       "      <td>N</td>\n",
       "      <td>78</td>\n",
       "      <td>M</td>\n",
       "      <td>B</td>\n",
       "      <td>14</td>\n",
       "      <td></td>\n",
       "      <td>MANHATTAN</td>\n",
       "    </tr>\n",
       "    <tr>\n",
       "      <th>4</th>\n",
       "      <td>1.0</td>\n",
       "      <td>MISD</td>\n",
       "      <td>16</td>\n",
       "      <td>Y</td>\n",
       "      <td>N</td>\n",
       "      <td>N</td>\n",
       "      <td></td>\n",
       "      <td>N</td>\n",
       "      <td>N</td>\n",
       "      <td>N</td>\n",
       "      <td>...</td>\n",
       "      <td>N</td>\n",
       "      <td>N</td>\n",
       "      <td>N</td>\n",
       "      <td>N</td>\n",
       "      <td>78</td>\n",
       "      <td>M</td>\n",
       "      <td>B</td>\n",
       "      <td>13</td>\n",
       "      <td></td>\n",
       "      <td>MANHATTAN</td>\n",
       "    </tr>\n",
       "  </tbody>\n",
       "</table>\n",
       "<p>5 rows × 26 columns</p>\n",
       "</div>"
      ],
      "text/plain": [
       "   perobs crimsusp perstop explnstp arstmade sumissue sumoffen frisked  \\\n",
       "0     2.0   FELONY      10        Y        N        N                Y   \n",
       "1     1.0   FELONY       4        Y        N        N                Y   \n",
       "2     1.0     MISD      16        Y        N        N                N   \n",
       "3     1.0     MIDS      16        Y        N        N                N   \n",
       "4     1.0     MISD      16        Y        N        N                N   \n",
       "\n",
       "  rf_vcrim rf_othsw    ...     pf_baton pf_hcuff pf_other pf_pepsp detailCM  \\\n",
       "0        N        N    ...            N        N        N        N       14   \n",
       "1        Y        Y    ...            N        N        N        N       20   \n",
       "2        N        N    ...            N        N        N        N       78   \n",
       "3        N        N    ...            N        N        N        N       78   \n",
       "4        N        N    ...            N        N        N        N       78   \n",
       "\n",
       "  sex race age state       city  \n",
       "0   M    W  33         BROOKLYN  \n",
       "1   M    B  14        MANHATTAN  \n",
       "2   M    B  14        MANHATTAN  \n",
       "3   M    B  14        MANHATTAN  \n",
       "4   M    B  13        MANHATTAN  \n",
       "\n",
       "[5 rows x 26 columns]"
      ]
     },
     "execution_count": 8,
     "metadata": {},
     "output_type": "execute_result"
    }
   ],
   "source": [
    "selection = df[['perobs', 'crimsusp', 'perstop', 'explnstp', 'arstmade', 'sumissue', 'sumoffen', 'frisked', 'rf_vcrim', 'rf_othsw', 'rf_attir', 'pf_hands', 'pf_wall', 'pf_grnd', 'pf_drwep', 'pf_ptwep', 'pf_baton', 'pf_hcuff', 'pf_other', 'pf_pepsp', 'detailCM', 'sex', 'race', 'age', 'state', 'city']]\n",
    "selection.head()"
   ]
  },
  {
   "cell_type": "markdown",
   "metadata": {},
   "source": [
    "# How many total stops are there? How do they distribute over boroughs?"
   ]
  },
  {
   "cell_type": "code",
   "execution_count": 9,
   "metadata": {
    "collapsed": false
   },
   "outputs": [
    {
     "data": {
      "text/plain": [
       "BROOKLYN     6354\n",
       "QUEENS       5718\n",
       "BRONX        4754\n",
       "MANHATTAN    3941\n",
       "STATEN IS    1796\n",
       "Name: city, dtype: int64"
      ]
     },
     "execution_count": 9,
     "metadata": {},
     "output_type": "execute_result"
    }
   ],
   "source": [
    "selection['city'].value_counts()"
   ]
  },
  {
   "cell_type": "code",
   "execution_count": 10,
   "metadata": {
    "collapsed": false
   },
   "outputs": [
    {
     "data": {
      "text/plain": [
       "<matplotlib.axes._subplots.AxesSubplot at 0x10f069f98>"
      ]
     },
     "execution_count": 10,
     "metadata": {},
     "output_type": "execute_result"
    },
    {
     "data": {
      "image/png": "[encoded data removed]",
      "text/plain": [
       "<matplotlib.figure.Figure at 0x10f12c860>"
      ]
     },
     "metadata": {},
     "output_type": "display_data"
    }
   ],
   "source": [
    "selection['city'].value_counts().plot(kind='barh')"
   ]
  },
  {
   "cell_type": "markdown",
   "metadata": {},
   "source": [
    "# How do stop-and-frisks evolve over time?"
   ]
  },
  {
   "cell_type": "code",
   "execution_count": 11,
   "metadata": {
    "collapsed": false
   },
   "outputs": [
    {
     "data": {
      "text/plain": [
       "datetime.datetime(2015, 10, 1, 0, 0)"
      ]
     },
     "execution_count": 11,
     "metadata": {},
     "output_type": "execute_result"
    }
   ],
   "source": [
    "# dateutil.parser.parse(\"1012015\")\n",
    "# http://stackoverflow.com/questions/502726/converting-date-between-dd-mm-yyyy-and-yyyy-mm-dd\n",
    "dateutil.parser.parse(datetime.datetime.strptime(\"1012015\", \"%m%d%Y\").strftime(\"%Y-%m-%d\"))"
   ]
  },
  {
   "cell_type": "code",
   "execution_count": 12,
   "metadata": {
    "collapsed": false
   },
   "outputs": [],
   "source": [
    "def time_conversion(date_str):\n",
    "    return dateutil.parser.parse(datetime.datetime.strptime(date_str, \"%m%d%Y\").strftime(\"%Y-%m-%d\"))"
   ]
  },
  {
   "cell_type": "code",
   "execution_count": 13,
   "metadata": {
    "collapsed": false
   },
   "outputs": [],
   "source": [
    "df.index = df['datestop'].apply(time_conversion)"
   ]
  },
  {
   "cell_type": "code",
   "execution_count": 14,
   "metadata": {
    "collapsed": false
   },
   "outputs": [
    {
     "data": {
      "text/html": [
       "<div>\n",
       "<table border=\"1\" class=\"dataframe\">\n",
       "  <thead>\n",
       "    <tr style=\"text-align: right;\">\n",
       "      <th></th>\n",
       "      <th>year</th>\n",
       "      <th>pct</th>\n",
       "      <th>ser_num</th>\n",
       "      <th>datestop</th>\n",
       "      <th>timestop</th>\n",
       "      <th>recstat</th>\n",
       "      <th>inout</th>\n",
       "      <th>trhsloc</th>\n",
       "      <th>perobs</th>\n",
       "      <th>crimsusp</th>\n",
       "      <th>...</th>\n",
       "      <th>zip</th>\n",
       "      <th>addrpct</th>\n",
       "      <th>sector</th>\n",
       "      <th>beat</th>\n",
       "      <th>post</th>\n",
       "      <th>xcoord</th>\n",
       "      <th>ycoord</th>\n",
       "      <th>dettypCM</th>\n",
       "      <th>lineCM</th>\n",
       "      <th>detailCM</th>\n",
       "    </tr>\n",
       "    <tr>\n",
       "      <th>datestop</th>\n",
       "      <th></th>\n",
       "      <th></th>\n",
       "      <th></th>\n",
       "      <th></th>\n",
       "      <th></th>\n",
       "      <th></th>\n",
       "      <th></th>\n",
       "      <th></th>\n",
       "      <th></th>\n",
       "      <th></th>\n",
       "      <th></th>\n",
       "      <th></th>\n",
       "      <th></th>\n",
       "      <th></th>\n",
       "      <th></th>\n",
       "      <th></th>\n",
       "      <th></th>\n",
       "      <th></th>\n",
       "      <th></th>\n",
       "      <th></th>\n",
       "      <th></th>\n",
       "    </tr>\n",
       "  </thead>\n",
       "  <tbody>\n",
       "    <tr>\n",
       "      <th>2015-10-01</th>\n",
       "      <td>2015</td>\n",
       "      <td>61</td>\n",
       "      <td>18</td>\n",
       "      <td>1012015</td>\n",
       "      <td>315</td>\n",
       "      <td>1</td>\n",
       "      <td>O</td>\n",
       "      <td>P</td>\n",
       "      <td>2.0</td>\n",
       "      <td>FELONY</td>\n",
       "      <td>...</td>\n",
       "      <td></td>\n",
       "      <td>61</td>\n",
       "      <td>E</td>\n",
       "      <td>7</td>\n",
       "      <td></td>\n",
       "      <td>1000091</td>\n",
       "      <td>156314</td>\n",
       "      <td>CM</td>\n",
       "      <td>1</td>\n",
       "      <td>14</td>\n",
       "    </tr>\n",
       "    <tr>\n",
       "      <th>2015-11-05</th>\n",
       "      <td>2015</td>\n",
       "      <td>22</td>\n",
       "      <td>5</td>\n",
       "      <td>1152015</td>\n",
       "      <td>1747</td>\n",
       "      <td>A</td>\n",
       "      <td>O</td>\n",
       "      <td>P</td>\n",
       "      <td>1.0</td>\n",
       "      <td>FELONY</td>\n",
       "      <td>...</td>\n",
       "      <td></td>\n",
       "      <td>22</td>\n",
       "      <td>E</td>\n",
       "      <td>14</td>\n",
       "      <td></td>\n",
       "      <td>994617</td>\n",
       "      <td>227693</td>\n",
       "      <td>CM</td>\n",
       "      <td>1</td>\n",
       "      <td>20</td>\n",
       "    </tr>\n",
       "    <tr>\n",
       "      <th>2015-12-09</th>\n",
       "      <td>2015</td>\n",
       "      <td>20</td>\n",
       "      <td>36</td>\n",
       "      <td>1292015</td>\n",
       "      <td>1745</td>\n",
       "      <td>1</td>\n",
       "      <td>O</td>\n",
       "      <td>P</td>\n",
       "      <td>1.0</td>\n",
       "      <td>MISD</td>\n",
       "      <td>...</td>\n",
       "      <td></td>\n",
       "      <td>20</td>\n",
       "      <td>H</td>\n",
       "      <td></td>\n",
       "      <td>16</td>\n",
       "      <td>991510</td>\n",
       "      <td>225019</td>\n",
       "      <td>CM</td>\n",
       "      <td>1</td>\n",
       "      <td>78</td>\n",
       "    </tr>\n",
       "    <tr>\n",
       "      <th>2015-12-09</th>\n",
       "      <td>2015</td>\n",
       "      <td>20</td>\n",
       "      <td>38</td>\n",
       "      <td>1292015</td>\n",
       "      <td>1745</td>\n",
       "      <td>1</td>\n",
       "      <td>O</td>\n",
       "      <td>P</td>\n",
       "      <td>1.0</td>\n",
       "      <td>MIDS</td>\n",
       "      <td>...</td>\n",
       "      <td></td>\n",
       "      <td>20</td>\n",
       "      <td>H</td>\n",
       "      <td></td>\n",
       "      <td>16</td>\n",
       "      <td>991510</td>\n",
       "      <td>225019</td>\n",
       "      <td>CM</td>\n",
       "      <td>1</td>\n",
       "      <td>78</td>\n",
       "    </tr>\n",
       "    <tr>\n",
       "      <th>2015-12-09</th>\n",
       "      <td>2015</td>\n",
       "      <td>20</td>\n",
       "      <td>41</td>\n",
       "      <td>1292015</td>\n",
       "      <td>1745</td>\n",
       "      <td>1</td>\n",
       "      <td>O</td>\n",
       "      <td>P</td>\n",
       "      <td>1.0</td>\n",
       "      <td>MISD</td>\n",
       "      <td>...</td>\n",
       "      <td></td>\n",
       "      <td>20</td>\n",
       "      <td>H</td>\n",
       "      <td></td>\n",
       "      <td>16</td>\n",
       "      <td>991510</td>\n",
       "      <td>225019</td>\n",
       "      <td>CM</td>\n",
       "      <td>1</td>\n",
       "      <td>78</td>\n",
       "    </tr>\n",
       "  </tbody>\n",
       "</table>\n",
       "<p>5 rows × 112 columns</p>\n",
       "</div>"
      ],
      "text/plain": [
       "            year  pct  ser_num datestop  timestop recstat inout trhsloc  \\\n",
       "datestop                                                                  \n",
       "2015-10-01  2015   61       18  1012015       315       1     O       P   \n",
       "2015-11-05  2015   22        5  1152015      1747       A     O       P   \n",
       "2015-12-09  2015   20       36  1292015      1745       1     O       P   \n",
       "2015-12-09  2015   20       38  1292015      1745       1     O       P   \n",
       "2015-12-09  2015   20       41  1292015      1745       1     O       P   \n",
       "\n",
       "            perobs crimsusp    ...    zip addrpct sector beat post   xcoord  \\\n",
       "datestop                       ...                                            \n",
       "2015-10-01     2.0   FELONY    ...             61      E    7       1000091   \n",
       "2015-11-05     1.0   FELONY    ...             22      E   14        994617   \n",
       "2015-12-09     1.0     MISD    ...             20      H        16   991510   \n",
       "2015-12-09     1.0     MIDS    ...             20      H        16   991510   \n",
       "2015-12-09     1.0     MISD    ...             20      H        16   991510   \n",
       "\n",
       "             ycoord dettypCM  lineCM  detailCM  \n",
       "datestop                                        \n",
       "2015-10-01   156314       CM       1        14  \n",
       "2015-11-05   227693       CM       1        20  \n",
       "2015-12-09   225019       CM       1        78  \n",
       "2015-12-09   225019       CM       1        78  \n",
       "2015-12-09   225019       CM       1        78  \n",
       "\n",
       "[5 rows x 112 columns]"
      ]
     },
     "execution_count": 14,
     "metadata": {},
     "output_type": "execute_result"
    }
   ],
   "source": [
    "df.head()"
   ]
  },
  {
   "cell_type": "code",
   "execution_count": 15,
   "metadata": {
    "collapsed": false
   },
   "outputs": [
    {
     "data": {
      "text/plain": [
       "22563"
      ]
     },
     "execution_count": 15,
     "metadata": {},
     "output_type": "execute_result"
    }
   ],
   "source": [
    "df['year'].count()"
   ]
  },
  {
   "cell_type": "code",
   "execution_count": 16,
   "metadata": {
    "collapsed": false
   },
   "outputs": [],
   "source": [
    "# fig, ax = plt.subplots(figsize=(10,5))\n",
    "# ax = df.resample('m')['datestop'].count().plot(ax = ax)\n",
    "\n",
    "# plt.savefig(\"ugly_graph.pdf\", transparent=True)"
   ]
  },
  {
   "cell_type": "markdown",
   "metadata": {},
   "source": [
    "# Does race relate to being stopped?"
   ]
  },
  {
   "cell_type": "code",
   "execution_count": 17,
   "metadata": {
    "collapsed": false
   },
   "outputs": [
    {
     "data": {
      "text/plain": [
       "B    11950\n",
       "Q     5090\n",
       "W     2514\n",
       "P     1409\n",
       "A     1103\n",
       "Z      298\n",
       "U      122\n",
       "I       77\n",
       "Name: race, dtype: int64"
      ]
     },
     "execution_count": 17,
     "metadata": {},
     "output_type": "execute_result"
    }
   ],
   "source": [
    "selection['race'].value_counts()"
   ]
  },
  {
   "cell_type": "code",
   "execution_count": 18,
   "metadata": {
    "collapsed": false
   },
   "outputs": [
    {
     "data": {
      "text/plain": [
       "B    11950\n",
       "Q     5090\n",
       "W     2514\n",
       "P     1409\n",
       "A     1103\n",
       "Z      298\n",
       "U      122\n",
       "I       77\n",
       "Name: race, dtype: int64"
      ]
     },
     "execution_count": 18,
     "metadata": {},
     "output_type": "execute_result"
    }
   ],
   "source": [
    "selection['race'].value_counts()"
   ]
  },
  {
   "cell_type": "code",
   "execution_count": 19,
   "metadata": {
    "collapsed": true
   },
   "outputs": [],
   "source": [
    "# B = Black, Q = Hispanic, W = White, P = Black-Hispanic, A = Asian, \n",
    "# Z = Other, U = X? = Unknown, I = American Indian/Alaska Native\n",
    "\n",
    "# NYC Population by race:\n",
    "# White: 33%\n",
    "# Black: 26%\n",
    "# Hispanic: 26%\n",
    "# Asian: 13%\n",
    "# Other: 2%\n",
    "#Source: http://furmancenter.org/files/sotc/The_Changing_Racial_and_Ethnic_Makeup_of_New_York_City_Neighborhoods_11.pdf"
   ]
  },
  {
   "cell_type": "markdown",
   "metadata": {},
   "source": [
    "# Do officers explain the reason for stopping someone?"
   ]
  },
  {
   "cell_type": "code",
   "execution_count": 20,
   "metadata": {
    "collapsed": false
   },
   "outputs": [
    {
     "data": {
      "text/plain": [
       "race  explnstp\n",
       "A     Y            1101\n",
       "      N               2\n",
       "B     Y           11935\n",
       "      N              15\n",
       "I     Y              77\n",
       "P     Y            1406\n",
       "      N               3\n",
       "Q     Y            5085\n",
       "      N               5\n",
       "U     Y             122\n",
       "W     Y            2511\n",
       "      N               3\n",
       "Z     Y             298\n",
       "Name: explnstp, dtype: int64"
      ]
     },
     "execution_count": 20,
     "metadata": {},
     "output_type": "execute_result"
    }
   ],
   "source": [
    "selection.groupby(by='race')['explnstp'].value_counts()"
   ]
  },
  {
   "cell_type": "markdown",
   "metadata": {},
   "source": [
    "# Does race relate to being frisked?"
   ]
  },
  {
   "cell_type": "code",
   "execution_count": 21,
   "metadata": {
    "collapsed": false
   },
   "outputs": [
    {
     "data": {
      "text/plain": [
       "race  frisked\n",
       "A     Y           662\n",
       "      N           441\n",
       "B     Y          8513\n",
       "      N          3437\n",
       "I     Y            48\n",
       "      N            29\n",
       "P     Y           996\n",
       "      N           413\n",
       "Q     Y          3382\n",
       "      N          1708\n",
       "U     Y            84\n",
       "      N            38\n",
       "W     Y          1387\n",
       "      N          1127\n",
       "Z     Y           185\n",
       "      N           113\n",
       "Name: frisked, dtype: int64"
      ]
     },
     "execution_count": 21,
     "metadata": {},
     "output_type": "execute_result"
    }
   ],
   "source": [
    "selection.groupby(by='race')['frisked'].value_counts()"
   ]
  },
  {
   "cell_type": "code",
   "execution_count": 22,
   "metadata": {
    "collapsed": false
   },
   "outputs": [
    {
     "data": {
      "text/plain": [
       "(-0.020340208121158485, 0.02, -0.02018424623968745, 0.020287697927793374)"
      ]
     },
     "execution_count": 22,
     "metadata": {},
     "output_type": "execute_result"
    },
    {
     "data": {
      "image/png": "[encoded data removed]",
      "text/plain": [
       "<matplotlib.figure.Figure at 0x10aa6e2b0>"
      ]
     },
     "metadata": {},
     "output_type": "display_data"
    }
   ],
   "source": [
    "black_df = selection[selection['race']==\"B\"]\n",
    "black_df['frisked'].value_counts().plot(kind='pie', radius=0.02)\n",
    "plt.axis('equal')"
   ]
  },
  {
   "cell_type": "code",
   "execution_count": 23,
   "metadata": {
    "collapsed": false
   },
   "outputs": [
    {
     "data": {
      "text/plain": [
       "(-1.0098179351085574, 1.0, -1.0251852673107418, 1.0102857268869616)"
      ]
     },
     "execution_count": 23,
     "metadata": {},
     "output_type": "execute_result"
    },
    {
     "data": {
      "image/png": "[encoded data removed]",
      "text/plain": [
       "<matplotlib.figure.Figure at 0x10ecdd198>"
      ]
     },
     "metadata": {},
     "output_type": "display_data"
    }
   ],
   "source": [
    "white_df = selection[selection['race']==\"W\"]\n",
    "white_df['frisked'].value_counts().plot(kind='pie')\n",
    "plt.axis('equal')"
   ]
  },
  {
   "cell_type": "code",
   "execution_count": 24,
   "metadata": {
    "collapsed": false
   },
   "outputs": [
    {
     "data": {
      "text/plain": [
       "(-1.0123806238024511,\n",
       " 1.0000000395196889,\n",
       " -1.0163664886331942,\n",
       " 1.0123817851464478)"
      ]
     },
     "execution_count": 24,
     "metadata": {},
     "output_type": "execute_result"
    },
    {
     "data": {
      "image/png": "[encoded data removed]",
      "text/plain": [
       "<matplotlib.figure.Figure at 0x10ed76e10>"
      ]
     },
     "metadata": {},
     "output_type": "display_data"
    }
   ],
   "source": [
    "Asian_df = selection[selection['race']==\"A\"]\n",
    "Asian_df['frisked'].value_counts().plot(kind='pie')\n",
    "plt.axis('equal')"
   ]
  },
  {
   "cell_type": "code",
   "execution_count": 25,
   "metadata": {
    "collapsed": false
   },
   "outputs": [
    {
     "data": {
      "text/plain": [
       "(-1.0017803773077611,\n",
       " 1.000000033089427,\n",
       " -1.0017990301376043,\n",
       " 1.0009039625524343)"
      ]
     },
     "execution_count": 25,
     "metadata": {},
     "output_type": "execute_result"
    },
    {
     "data": {
      "image/png": "[encoded data removed]",
      "text/plain": [
       "<matplotlib.figure.Figure at 0x10f152ac8>"
      ]
     },
     "metadata": {},
     "output_type": "display_data"
    }
   ],
   "source": [
    "hispanic_df = selection[selection['race']==\"Q\"]\n",
    "hispanic_df['frisked'].value_counts().plot(kind='pie')\n",
    "plt.axis('equal')"
   ]
  },
  {
   "cell_type": "code",
   "execution_count": 40,
   "metadata": {
    "collapsed": false
   },
   "outputs": [
    {
     "data": {
      "image/png": "[encoded data removed]",
      "text/plain": [
       "<matplotlib.figure.Figure at 0x10fe5b128>"
      ]
     },
     "metadata": {},
     "output_type": "display_data"
    }
   ],
   "source": [
    "black_df['frisked'].value_counts().plot(kind='pie', radius=1)\n",
    "hispanic_df['frisked'].value_counts().plot(kind='pie', radius=0.65,)\n",
    "white_df['frisked'].value_counts().plot(kind='pie', radius =0.46)\n",
    "plt.axis('equal')\n",
    "plt.savefig('FriskedNEW.pdf', transparend=True)"
   ]
  },
  {
   "cell_type": "code",
   "execution_count": 27,
   "metadata": {
    "collapsed": false
   },
   "outputs": [],
   "source": [
    "# http://pandas.pydata.org/pandas-docs/stable/visualization.html"
   ]
  },
  {
   "cell_type": "markdown",
   "metadata": {},
   "source": [
    "# Was an arrest made?"
   ]
  },
  {
   "cell_type": "code",
   "execution_count": 28,
   "metadata": {
    "collapsed": false
   },
   "outputs": [
    {
     "data": {
      "text/plain": [
       "race  arstmade\n",
       "A     N            983\n",
       "      Y            120\n",
       "B     N           9957\n",
       "      Y           1993\n",
       "I     N             69\n",
       "      Y              8\n",
       "P     N           1076\n",
       "      Y            333\n",
       "Q     N           4000\n",
       "      Y           1090\n",
       "U     N             97\n",
       "      Y             25\n",
       "W     N           2170\n",
       "      Y            344\n",
       "Z     N            243\n",
       "      Y             55\n",
       "Name: arstmade, dtype: int64"
      ]
     },
     "execution_count": 28,
     "metadata": {},
     "output_type": "execute_result"
    }
   ],
   "source": [
    "selection.groupby(by='race')['arstmade'].value_counts()"
   ]
  },
  {
   "cell_type": "code",
   "execution_count": 29,
   "metadata": {
    "collapsed": false
   },
   "outputs": [
    {
     "data": {
      "text/plain": [
       "N    18595\n",
       "Y     3968\n",
       "Name: arstmade, dtype: int64"
      ]
     },
     "execution_count": 29,
     "metadata": {},
     "output_type": "execute_result"
    }
   ],
   "source": [
    "selection['arstmade'].value_counts()"
   ]
  },
  {
   "cell_type": "markdown",
   "metadata": {},
   "source": [
    "# Was the person summonsed?"
   ]
  },
  {
   "cell_type": "code",
   "execution_count": 30,
   "metadata": {
    "collapsed": false
   },
   "outputs": [
    {
     "data": {
      "text/plain": [
       "race  sumissue\n",
       "A     N            1075\n",
       "      Y              28\n",
       "B     N           11626\n",
       "      Y             324\n",
       "I     N              73\n",
       "      Y               4\n",
       "P     N            1380\n",
       "      Y              29\n",
       "Q     N            4953\n",
       "      Y             137\n",
       "U     N             120\n",
       "      Y               2\n",
       "W     N            2455\n",
       "      Y              59\n",
       "Z     N             293\n",
       "      Y               5\n",
       "Name: sumissue, dtype: int64"
      ]
     },
     "execution_count": 30,
     "metadata": {},
     "output_type": "execute_result"
    }
   ],
   "source": [
    "selection.groupby(by='race')['sumissue'].value_counts()"
   ]
  },
  {
   "cell_type": "code",
   "execution_count": 31,
   "metadata": {
    "collapsed": false
   },
   "outputs": [
    {
     "data": {
      "text/plain": [
       "N    21975\n",
       "Y      588\n",
       "Name: sumissue, dtype: int64"
      ]
     },
     "execution_count": 31,
     "metadata": {},
     "output_type": "execute_result"
    }
   ],
   "source": [
    "selection['sumissue'].value_counts()"
   ]
  },
  {
   "cell_type": "markdown",
   "metadata": {},
   "source": [
    "# What was the the offense suspect was summonsed for?"
   ]
  },
  {
   "cell_type": "code",
   "execution_count": 32,
   "metadata": {
    "collapsed": false
   },
   "outputs": [
    {
     "data": {
      "text/plain": [
       "race  sumoffen     \n",
       "A                       1075\n",
       "      UPM                  5\n",
       "      TRESPASS             3\n",
       "      221.05               2\n",
       "      CPW                  2\n",
       "      DIS CON              2\n",
       "      10-133 C             1\n",
       "      240.20               1\n",
       "      240.20 (1)           1\n",
       "      CPM                  1\n",
       "      DISORDERLY CO        1\n",
       "      FIRE HYDRANT         1\n",
       "      IMPROPER TURN        1\n",
       "      LOUD ENGINE E        1\n",
       "      PL 240.20 (1)        1\n",
       "      POSS KNIFE           1\n",
       "      RECKLESS DRIV        1\n",
       "      TINTS / TAILG        1\n",
       "      UPM 221.05           1\n",
       "      VTL 1212 & 60        1\n",
       "B                      11626\n",
       "      UPM                 47\n",
       "      DISCON              24\n",
       "      OPEN CONTAINE       17\n",
       "      DIS CON             14\n",
       "      221.05              13\n",
       "      TRESPASS            12\n",
       "      CPM                  8\n",
       "      DISORDERLY CO        7\n",
       "      RECKLESS DRIV        6\n",
       "                       ...  \n",
       "W     1175                 1\n",
       "      20-50 7(B) AC        1\n",
       "      509-2                1\n",
       "      CPM                  1\n",
       "      DISOBEY STEAD        1\n",
       "      DISORDERLY CO        1\n",
       "      DOUBLE PARKER        1\n",
       "      DOUBLE PARKIN        1\n",
       "      FAIL TOCOMPLY        1\n",
       "      IMPROPER USE         1\n",
       "      MARIJUANA            1\n",
       "      PL 221.05            1\n",
       "      POSS OF GUN          1\n",
       "      POSS OF KNIFE        1\n",
       "      POSSESION OF         1\n",
       "      POSSESS KNIFE        1\n",
       "      POSSESSION OF        1\n",
       "      POSSIESION OF        1\n",
       "      TRESSPASS            1\n",
       "      U.P.M                1\n",
       "      UNINSURED VAN        1\n",
       "      UNLAWFUL POSS        1\n",
       "      UNLIC DRIVER         1\n",
       "      VTL 1212             1\n",
       "      VTL 509-1            1\n",
       "Z                        293\n",
       "      UPM                  2\n",
       "      CPM                  1\n",
       "      DISCON/CPM           1\n",
       "      TRESPASS             1\n",
       "Name: sumoffen, dtype: int64"
      ]
     },
     "execution_count": 32,
     "metadata": {},
     "output_type": "execute_result"
    }
   ],
   "source": [
    "selection.groupby(by='race')['sumoffen'].value_counts()"
   ]
  },
  {
   "cell_type": "code",
   "execution_count": 33,
   "metadata": {
    "collapsed": false
   },
   "outputs": [
    {
     "data": {
      "text/plain": [
       "                 11626\n",
       "UPM                 47\n",
       "DISCON              24\n",
       "OPEN CONTAINE       17\n",
       "DIS CON             14\n",
       "221.05              13\n",
       "TRESPASS            12\n",
       "CPM                  8\n",
       "DISORDERLY CO        7\n",
       "TRESPASSING          6\n",
       "RECKLESS DRIV        6\n",
       "TRESSPASS            5\n",
       "POSSESSION OF        4\n",
       "240.20               4\n",
       "PUBLIC URINAT        3\n",
       "LITTERING            3\n",
       "509-1                3\n",
       "10-133C              3\n",
       "CPW                  3\n",
       "101.25 (B)           3\n",
       "10-125 (B)           2\n",
       "PL 221.05            2\n",
       "UNREGISTERED         2\n",
       "POSS OF KNIFE        2\n",
       "10-125B              2\n",
       "10-133 C             2\n",
       "TOS                  2\n",
       "CROSS AGAINST        2\n",
       "DISCON. OBS.         2\n",
       "BIKE ON SIDEW        2\n",
       "                 ...  \n",
       "IN THE PARK A        1\n",
       "240.20 (3)           1\n",
       "IMPROP DISPLA        1\n",
       "VPM                  1\n",
       "PARK AFTER DA        1\n",
       "POSS. OF KNIF        1\n",
       "DISC CON             1\n",
       "VTL                  1\n",
       "W/OUT A CHILD        1\n",
       "FAIL TO SIGNA        1\n",
       "240.20 SUB1          1\n",
       "22.105 UNLAWF        1\n",
       "PL 240.20 (7)        1\n",
       "221.03               1\n",
       "DISOBAYING ST        1\n",
       "AC10-108             1\n",
       "FRONT WINDOW         1\n",
       "POSS. OF PEPP        1\n",
       "240-20(1)            1\n",
       "UMP                  1\n",
       "AC 10-125B           1\n",
       "DISCON (2)           1\n",
       "16-118               1\n",
       "1-03(C)1             1\n",
       "IMPROPER DISP        1\n",
       "10-131G              1\n",
       "240.20 (1)           1\n",
       "1234 A               1\n",
       "NO SEATBELT          1\n",
       "EXPIRED MUNI         1\n",
       "Name: sumoffen, dtype: int64"
      ]
     },
     "execution_count": 33,
     "metadata": {},
     "output_type": "execute_result"
    }
   ],
   "source": [
    "black_df = selection[selection['race']==\"B\"]\n",
    "black_df['sumoffen'].value_counts()"
   ]
  },
  {
   "cell_type": "markdown",
   "metadata": {},
   "source": [
    "# What are the most frequent crime codes associated with data records?"
   ]
  },
  {
   "cell_type": "code",
   "execution_count": 34,
   "metadata": {
    "collapsed": false
   },
   "outputs": [
    {
     "data": {
      "text/plain": [
       "20     6860\n",
       "85     3278\n",
       "46     2189\n",
       "14     1950\n",
       "9      1437\n",
       "31     1360\n",
       "45     1340\n",
       "27      940\n",
       "68      901\n",
       "24      393\n",
       "28      306\n",
       "23      256\n",
       "19      136\n",
       "96      134\n",
       "112     128\n",
       "29       92\n",
       "60       89\n",
       "10       81\n",
       "78       81\n",
       "59       72\n",
       "113      60\n",
       "100      41\n",
       "22       39\n",
       "62       38\n",
       "26       30\n",
       "77       27\n",
       "44       27\n",
       "37       25\n",
       "76       23\n",
       "17       23\n",
       "       ... \n",
       "6         6\n",
       "21        5\n",
       "111       5\n",
       "72        5\n",
       "30        5\n",
       "88        5\n",
       "102       5\n",
       "98        4\n",
       "97        4\n",
       "49        4\n",
       "55        3\n",
       "40        3\n",
       "33        3\n",
       "82        3\n",
       "58        2\n",
       "32        2\n",
       "18        2\n",
       "99        2\n",
       "92        1\n",
       "108       1\n",
       "107       1\n",
       "86        1\n",
       "11        1\n",
       "89        1\n",
       "35        1\n",
       "25        1\n",
       "36        1\n",
       "84        1\n",
       "71        1\n",
       "16        1\n",
       "Name: detailCM, dtype: int64"
      ]
     },
     "execution_count": 34,
     "metadata": {},
     "output_type": "execute_result"
    }
   ],
   "source": [
    "selection['detailCM'].value_counts()"
   ]
  },
  {
   "cell_type": "markdown",
   "metadata": {},
   "source": [
    "# What type of physical force is most abundant?"
   ]
  },
  {
   "cell_type": "code",
   "execution_count": 35,
   "metadata": {
    "collapsed": false
   },
   "outputs": [
    {
     "name": "stdout",
     "output_type": "stream",
     "text": [
      "N    18821\n",
      "Y     3742\n",
      "Name: pf_hands, dtype: int64\n",
      "N    21336\n",
      "Y     1227\n",
      "Name: pf_wall, dtype: int64\n",
      "N    22252\n",
      "Y      311\n",
      "Name: pf_grnd, dtype: int64\n",
      "N    22146\n",
      "Y      417\n",
      "Name: pf_drwep, dtype: int64\n",
      "N    22294\n",
      "Y      269\n",
      "Name: pf_ptwep, dtype: int64\n",
      "N    22558\n",
      "Y        5\n",
      "Name: pf_baton, dtype: int64\n",
      "N    19164\n",
      "Y     3399\n",
      "Name: pf_hcuff, dtype: int64\n",
      "N    21967\n",
      "Y      596\n",
      "Name: pf_other, dtype: int64\n",
      "N    22557\n",
      "Y        6\n",
      "Name: pf_pepsp, dtype: int64\n"
     ]
    }
   ],
   "source": [
    "def police_force_count(columnlist):\n",
    "    for columnname in columnlist:\n",
    "        print(selection[columnname].value_counts())\n",
    "\n",
    "police_force_count(['pf_hands', 'pf_wall', 'pf_grnd', 'pf_drwep', 'pf_ptwep', 'pf_baton', 'pf_hcuff', 'pf_other', 'pf_pepsp'])"
   ]
  },
  {
   "cell_type": "markdown",
   "metadata": {},
   "source": [
    "# How do the three most common types of police force relate to race?"
   ]
  },
  {
   "cell_type": "code",
   "execution_count": 36,
   "metadata": {
    "collapsed": false
   },
   "outputs": [
    {
     "data": {
      "text/plain": [
       "race  pf_hcuff\n",
       "A     N             993\n",
       "      Y             110\n",
       "B     N           10070\n",
       "      Y            1880\n",
       "I     N              64\n",
       "      Y              13\n",
       "P     N            1155\n",
       "      Y             254\n",
       "Q     N            4290\n",
       "      Y             800\n",
       "U     N              97\n",
       "      Y              25\n",
       "W     N            2238\n",
       "      Y             276\n",
       "Z     N             257\n",
       "      Y              41\n",
       "Name: pf_hcuff, dtype: int64"
      ]
     },
     "execution_count": 36,
     "metadata": {},
     "output_type": "execute_result"
    }
   ],
   "source": [
    "selection.groupby(by='race')['pf_hcuff'].value_counts()"
   ]
  },
  {
   "cell_type": "code",
   "execution_count": 37,
   "metadata": {
    "collapsed": false
   },
   "outputs": [
    {
     "data": {
      "text/plain": [
       "race  pf_hands\n",
       "A     N            973\n",
       "      Y            130\n",
       "B     N           9953\n",
       "      Y           1997\n",
       "I     N             59\n",
       "      Y             18\n",
       "P     N           1092\n",
       "      Y            317\n",
       "Q     N           4167\n",
       "      Y            923\n",
       "U     N            100\n",
       "      Y             22\n",
       "W     N           2220\n",
       "      Y            294\n",
       "Z     N            257\n",
       "      Y             41\n",
       "Name: pf_hands, dtype: int64"
      ]
     },
     "execution_count": 37,
     "metadata": {},
     "output_type": "execute_result"
    }
   ],
   "source": [
    "selection.groupby(by='race')['pf_hands'].value_counts()"
   ]
  },
  {
   "cell_type": "code",
   "execution_count": 38,
   "metadata": {
    "collapsed": false
   },
   "outputs": [
    {
     "data": {
      "text/plain": [
       "race  pf_wall\n",
       "A     N           1056\n",
       "      Y             47\n",
       "B     N          11288\n",
       "      Y            662\n",
       "I     N             73\n",
       "      Y              4\n",
       "P     N           1291\n",
       "      Y            118\n",
       "Q     N           4825\n",
       "      Y            265\n",
       "U     N            117\n",
       "      Y              5\n",
       "W     N           2406\n",
       "      Y            108\n",
       "Z     N            280\n",
       "      Y             18\n",
       "Name: pf_wall, dtype: int64"
      ]
     },
     "execution_count": 38,
     "metadata": {},
     "output_type": "execute_result"
    }
   ],
   "source": [
    "selection.groupby(by='race')['pf_wall'].value_counts()"
   ]
  },
  {
   "cell_type": "code",
   "execution_count": null,
   "metadata": {
    "collapsed": true
   },
   "outputs": [],
   "source": []
  }
 ],
 "metadata": {
  "kernelspec": {
   "display_name": "Python 3",
   "language": "python",
   "name": "python3"
  },
  "language_info": {
   "codemirror_mode": {
    "name": "ipython",
    "version": 3
   },
   "file_extension": ".py",
   "mimetype": "text/x-python",
   "name": "python",
   "nbconvert_exporter": "python",
   "pygments_lexer": "ipython3",
   "version": "3.5.1"
  }
 },
 "nbformat": 4,
 "nbformat_minor": 0
}

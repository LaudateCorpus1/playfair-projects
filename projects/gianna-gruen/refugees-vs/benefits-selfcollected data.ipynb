{
 "cells": [
  {
   "cell_type": "code",
   "execution_count": 1,
   "metadata": {
    "collapsed": true
   },
   "outputs": [],
   "source": [
    "import pandas as pd\n",
    "import matplotlib.pyplot as plt\n",
    "import dateutil.parser\n",
    "import datetime\n",
    "import numpy as np\n",
    "%matplotlib inline\n",
    "\n",
    "plt.rcParams['pdf.fonttype'] = 42\n",
    "plt.rcParams['ps.fonttype'] = 42"
   ]
  },
  {
   "cell_type": "code",
   "execution_count": 3,
   "metadata": {
    "collapsed": false
   },
   "outputs": [],
   "source": [
    "df = pd.read_csv('government_spendings_refugees.csv')"
   ]
  },
  {
   "cell_type": "code",
   "execution_count": 4,
   "metadata": {
    "collapsed": false
   },
   "outputs": [
    {
     "data": {
      "text/html": [
       "<div>\n",
       "<table border=\"1\" class=\"dataframe\">\n",
       "  <thead>\n",
       "    <tr style=\"text-align: right;\">\n",
       "      <th></th>\n",
       "      <th>country</th>\n",
       "      <th>num_pensioners</th>\n",
       "      <th>num_socialrecipients</th>\n",
       "      <th>num_refugees</th>\n",
       "      <th>gov_pensioners</th>\n",
       "      <th>gov_socialrecipients</th>\n",
       "      <th>gov_refugees</th>\n",
       "      <th>pc_spend_pensioners</th>\n",
       "      <th>pc_spend_socialrecipients</th>\n",
       "      <th>pc_spend_refugees</th>\n",
       "    </tr>\n",
       "  </thead>\n",
       "  <tbody>\n",
       "    <tr>\n",
       "      <th>0</th>\n",
       "      <td>Germany</td>\n",
       "      <td>20600000,00</td>\n",
       "      <td>4311601.0</td>\n",
       "      <td>750000</td>\n",
       "      <td>9.327117e+10</td>\n",
       "      <td>3.449131e+10</td>\n",
       "      <td>1410725000</td>\n",
       "      <td>4527.73</td>\n",
       "      <td>7999.65</td>\n",
       "      <td>1880.97</td>\n",
       "    </tr>\n",
       "    <tr>\n",
       "      <th>1</th>\n",
       "      <td>Sweden</td>\n",
       "      <td>NaN</td>\n",
       "      <td>NaN</td>\n",
       "      <td>190000</td>\n",
       "      <td>NaN</td>\n",
       "      <td>NaN</td>\n",
       "      <td>920000000</td>\n",
       "      <td>NaN</td>\n",
       "      <td>NaN</td>\n",
       "      <td>4842.11</td>\n",
       "    </tr>\n",
       "    <tr>\n",
       "      <th>2</th>\n",
       "      <td>Lebanon</td>\n",
       "      <td>NaN</td>\n",
       "      <td>NaN</td>\n",
       "      <td>1033513</td>\n",
       "      <td>NaN</td>\n",
       "      <td>NaN</td>\n",
       "      <td>1100000000</td>\n",
       "      <td>NaN</td>\n",
       "      <td>NaN</td>\n",
       "      <td>1064.33</td>\n",
       "    </tr>\n",
       "  </tbody>\n",
       "</table>\n",
       "</div>"
      ],
      "text/plain": [
       "   country num_pensioners  num_socialrecipients  num_refugees  gov_pensioners  \\\n",
       "0  Germany    20600000,00             4311601.0        750000    9.327117e+10   \n",
       "1   Sweden            NaN                   NaN        190000             NaN   \n",
       "2  Lebanon            NaN                   NaN       1033513             NaN   \n",
       "\n",
       "   gov_socialrecipients  gov_refugees  pc_spend_pensioners  \\\n",
       "0          3.449131e+10    1410725000              4527.73   \n",
       "1                   NaN     920000000                  NaN   \n",
       "2                   NaN    1100000000                  NaN   \n",
       "\n",
       "   pc_spend_socialrecipients  pc_spend_refugees  \n",
       "0                    7999.65            1880.97  \n",
       "1                        NaN            4842.11  \n",
       "2                        NaN            1064.33  "
      ]
     },
     "execution_count": 4,
     "metadata": {},
     "output_type": "execute_result"
    }
   ],
   "source": [
    "df"
   ]
  },
  {
   "cell_type": "code",
   "execution_count": 5,
   "metadata": {
    "collapsed": false
   },
   "outputs": [
    {
     "data": {
      "text/plain": [
       "Index(['country', 'num_pensioners', 'num_socialrecipients', 'num_refugees',\n",
       "       'gov_pensioners', 'gov_socialrecipients', 'gov_refugees',\n",
       "       'pc_spend_pensioners', 'pc_spend_socialrecipients',\n",
       "       'pc_spend_refugees'],\n",
       "      dtype='object')"
      ]
     },
     "execution_count": 5,
     "metadata": {},
     "output_type": "execute_result"
    }
   ],
   "source": [
    "df.columns"
   ]
  },
  {
   "cell_type": "code",
   "execution_count": 6,
   "metadata": {
    "collapsed": false
   },
   "outputs": [
    {
     "name": "stdout",
     "output_type": "stream",
     "text": [
      "<class 'pandas.core.frame.DataFrame'>\n",
      "RangeIndex: 3 entries, 0 to 2\n",
      "Data columns (total 10 columns):\n",
      "country                      3 non-null object\n",
      "num_pensioners               1 non-null object\n",
      "num_socialrecipients         1 non-null float64\n",
      "num_refugees                 3 non-null int64\n",
      "gov_pensioners               1 non-null float64\n",
      "gov_socialrecipients         1 non-null float64\n",
      "gov_refugees                 3 non-null int64\n",
      "pc_spend_pensioners          1 non-null float64\n",
      "pc_spend_socialrecipients    1 non-null float64\n",
      "pc_spend_refugees            3 non-null float64\n",
      "dtypes: float64(6), int64(2), object(2)\n",
      "memory usage: 320.0+ bytes\n"
     ]
    }
   ],
   "source": [
    "df.info()"
   ]
  },
  {
   "cell_type": "markdown",
   "metadata": {},
   "source": [
    "# Government spendings"
   ]
  },
  {
   "cell_type": "code",
   "execution_count": 11,
   "metadata": {
    "collapsed": false
   },
   "outputs": [
    {
     "data": {
      "text/html": [
       "<div>\n",
       "<table border=\"1\" class=\"dataframe\">\n",
       "  <thead>\n",
       "    <tr style=\"text-align: right;\">\n",
       "      <th></th>\n",
       "      <th>gov_pensioners</th>\n",
       "      <th>gov_socialrecipients</th>\n",
       "      <th>gov_refugees</th>\n",
       "    </tr>\n",
       "  </thead>\n",
       "  <tbody>\n",
       "    <tr>\n",
       "      <th>0</th>\n",
       "      <td>9.327117e+10</td>\n",
       "      <td>3.449131e+10</td>\n",
       "      <td>1410725000</td>\n",
       "    </tr>\n",
       "    <tr>\n",
       "      <th>1</th>\n",
       "      <td>NaN</td>\n",
       "      <td>NaN</td>\n",
       "      <td>920000000</td>\n",
       "    </tr>\n",
       "    <tr>\n",
       "      <th>2</th>\n",
       "      <td>NaN</td>\n",
       "      <td>NaN</td>\n",
       "      <td>1100000000</td>\n",
       "    </tr>\n",
       "  </tbody>\n",
       "</table>\n",
       "</div>"
      ],
      "text/plain": [
       "   gov_pensioners  gov_socialrecipients  gov_refugees\n",
       "0    9.327117e+10          3.449131e+10    1410725000\n",
       "1             NaN                   NaN     920000000\n",
       "2             NaN                   NaN    1100000000"
      ]
     },
     "execution_count": 11,
     "metadata": {},
     "output_type": "execute_result"
    }
   ],
   "source": [
    "gov_spendings = df[['gov_pensioners', 'gov_socialrecipients', 'gov_refugees']]\n",
    "gov_spendings"
   ]
  },
  {
   "cell_type": "code",
   "execution_count": 12,
   "metadata": {
    "collapsed": false
   },
   "outputs": [
    {
     "data": {
      "image/png": "[encoded data removed]",
      "text/plain": [
       "<matplotlib.figure.Figure at 0x10f604978>"
      ]
     },
     "metadata": {},
     "output_type": "display_data"
    }
   ],
   "source": [
    "fig, ax = plt.subplots(figsize=(10,5))\n",
    "ax = gov_spendings.iloc[0].transpose().plot(kind='bar', legend=False, ax = ax)\n",
    "ax.set_title('Total government expenditure on different groups')\n",
    "# plt.savefig('benefits-fd-gov-spendings-bar.png', transparent=True)"
   ]
  },
  {
   "cell_type": "markdown",
   "metadata": {},
   "source": [
    "# Per capita spendings"
   ]
  },
  {
   "cell_type": "code",
   "execution_count": 13,
   "metadata": {
    "collapsed": true
   },
   "outputs": [],
   "source": [
    "pc_spendings = df[['pc_spend_pensioners', 'pc_spend_socialrecipients', 'pc_spend_refugees']]"
   ]
  },
  {
   "cell_type": "code",
   "execution_count": 15,
   "metadata": {
    "collapsed": false
   },
   "outputs": [
    {
     "data": {
      "text/plain": [
       "<matplotlib.axes._subplots.AxesSubplot at 0x10f990048>"
      ]
     },
     "execution_count": 15,
     "metadata": {},
     "output_type": "execute_result"
    },
    {
     "data": {
      "image/png": "[encoded data removed]",
      "text/plain": [
       "<matplotlib.figure.Figure at 0x10fb15588>"
      ]
     },
     "metadata": {},
     "output_type": "display_data"
    }
   ],
   "source": [
    "pc_spendings.iloc[0].transpose().sort_values().plot(kind='bar')"
   ]
  },
  {
   "cell_type": "code",
   "execution_count": 24,
   "metadata": {
    "collapsed": false
   },
   "outputs": [
    {
     "data": {
      "image/png": "[encoded data removed]",
      "text/plain": [
       "<matplotlib.figure.Figure at 0x110373940>"
      ]
     },
     "metadata": {},
     "output_type": "display_data"
    }
   ],
   "source": [
    "fig, ax = plt.subplots()\n",
    "\n",
    "ax = pc_spendings.iloc[0].transpose().sort_values().plot(kind='barh')\n",
    "\n",
    "#When plotting a grid, you can pass it options\n",
    "ax.grid(True)\n",
    "\n",
    "#When plotting a grid, you can pass it options\n",
    "ax.grid(color='lightgrey', linestyle=':', linewidth=1)\n",
    "\n",
    "#send grid to the back\n",
    "ax.set_axisbelow(True)\n",
    "\n",
    "#get rid of the frame around it\n",
    "ax.spines['top'].set_visible(False)\n",
    "ax.spines['right'].set_visible(False)\n",
    "ax.spines['left'].set_visible(True)\n",
    "ax.spines['bottom'].set_visible(True)\n",
    "\n",
    "#tackling ticks\n",
    "plt.tick_params(\n",
    "which='major',\n",
    "top='off',\n",
    "left='off',\n",
    "right= 'off',\n",
    "bottom='off',\n",
    "labeltop='off',\n",
    "labelbottom='on')\n",
    "\n",
    "\n",
    "# plt.savefig('benefits-plt-gov-pcspendings.pdf', transparent=True)"
   ]
  },
  {
   "cell_type": "code",
   "execution_count": 34,
   "metadata": {
    "collapsed": false
   },
   "outputs": [
    {
     "data": {
      "image/png": "[encoded data removed]",
      "text/plain": [
       "<matplotlib.figure.Figure at 0x11150c0f0>"
      ]
     },
     "metadata": {},
     "output_type": "display_data"
    }
   ],
   "source": [
    "fig, ax = plt.subplots(figsize=(10,5))\n",
    "\n",
    "#When plotting a grid, you can pass it options\n",
    "ax.grid(True)\n",
    "\n",
    "#When plotting a grid, you can pass it options\n",
    "ax.grid(color='grey', linestyle=':', linewidth=1)\n",
    "\n",
    "#send grid to the back\n",
    "ax.set_axisbelow(True)\n",
    "\n",
    "#get rid of the frame around it\n",
    "ax.spines['top'].set_visible(False)\n",
    "ax.spines['right'].set_visible(False)\n",
    "ax.spines['left'].set_visible(True)\n",
    "ax.spines['bottom'].set_visible(True)\n",
    "\n",
    "#tackling ticks\n",
    "plt.tick_params(\n",
    "which='major',\n",
    "top='off',\n",
    "left='off',\n",
    "right= 'off',\n",
    "bottom='off',\n",
    "labeltop='off',\n",
    "labelbottom='on')\n",
    "\n",
    "ax = df['pc_spend_refugees'].sort_values().plot(kind='bar')\n",
    "# plt.savefig('benefits-plt-gov-pcspendings-comparison.pdf', transparent=True)"
   ]
  },
  {
   "cell_type": "code",
   "execution_count": null,
   "metadata": {
    "collapsed": true
   },
   "outputs": [],
   "source": []
  }
 ],
 "metadata": {
  "kernelspec": {
   "display_name": "Python 3",
   "language": "python",
   "name": "python3"
  },
  "language_info": {
   "codemirror_mode": {
    "name": "ipython",
    "version": 3
   },
   "file_extension": ".py",
   "mimetype": "text/x-python",
   "name": "python",
   "nbconvert_exporter": "python",
   "pygments_lexer": "ipython3",
   "version": "3.5.1"
  }
 },
 "nbformat": 4,
 "nbformat_minor": 0
}

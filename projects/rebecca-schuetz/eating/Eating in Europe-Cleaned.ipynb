{
 "cells": [
  {
   "cell_type": "code",
   "execution_count": 3,
   "metadata": {
    "collapsed": false
   },
   "outputs": [],
   "source": [
    "import pandas as pd\n",
    "import matplotlib\n",
    "import matplotlib.pyplot as plt\n",
    "%matplotlib inline"
   ]
  },
  {
   "cell_type": "code",
   "execution_count": 21,
   "metadata": {
    "collapsed": true
   },
   "outputs": [],
   "source": [
    "df = pd.read_csv('timeuse.csv')"
   ]
  },
  {
   "cell_type": "markdown",
   "metadata": {},
   "source": [
    "First, I made the dates datetimes—now I realize I should have done it while reading the csv."
   ]
  },
  {
   "cell_type": "code",
   "execution_count": 14,
   "metadata": {
    "collapsed": false
   },
   "outputs": [],
   "source": [
    "import dateutil.parser"
   ]
  },
  {
   "cell_type": "code",
   "execution_count": 17,
   "metadata": {
    "collapsed": false
   },
   "outputs": [],
   "source": [
    "def string_time(str):\n",
    "    return dateutil.parser.parse(str)"
   ]
  },
  {
   "cell_type": "code",
   "execution_count": 18,
   "metadata": {
    "collapsed": true
   },
   "outputs": [],
   "source": [
    "df['FormattedStartTime'] = df['StartTime'].apply(string_time)"
   ]
  },
  {
   "cell_type": "code",
   "execution_count": 19,
   "metadata": {
    "collapsed": false
   },
   "outputs": [
    {
     "data": {
      "text/plain": [
       "pandas.tslib.Timestamp"
      ]
     },
     "execution_count": 19,
     "metadata": {},
     "output_type": "execute_result"
    }
   ],
   "source": [
    "type(df['FormattedStartTime'][0])"
   ]
  },
  {
   "cell_type": "code",
   "execution_count": 20,
   "metadata": {
    "collapsed": false
   },
   "outputs": [
    {
     "data": {
      "text/html": [
       "<div>\n",
       "<table border=\"1\" class=\"dataframe\">\n",
       "  <thead>\n",
       "    <tr style=\"text-align: right;\">\n",
       "      <th></th>\n",
       "      <th>Country</th>\n",
       "      <th>StartTime</th>\n",
       "      <th>Work and study</th>\n",
       "      <th>Travel to/from work/study</th>\n",
       "      <th>Household work</th>\n",
       "      <th>Sleep and other personal care</th>\n",
       "      <th>Eating</th>\n",
       "      <th>Freetime</th>\n",
       "      <th>TV and video</th>\n",
       "      <th>Unspecified time</th>\n",
       "      <th>FormattedStartTime</th>\n",
       "    </tr>\n",
       "  </thead>\n",
       "  <tbody>\n",
       "    <tr>\n",
       "      <th>0</th>\n",
       "      <td>Belgium</td>\n",
       "      <td>4:00</td>\n",
       "      <td>1.04</td>\n",
       "      <td>0.07</td>\n",
       "      <td>0.16</td>\n",
       "      <td>97.16</td>\n",
       "      <td>0.15</td>\n",
       "      <td>1.01</td>\n",
       "      <td>0.17</td>\n",
       "      <td>0.24</td>\n",
       "      <td>2016-07-25 04:00:00</td>\n",
       "    </tr>\n",
       "    <tr>\n",
       "      <th>1</th>\n",
       "      <td>Belgium</td>\n",
       "      <td>4:10</td>\n",
       "      <td>1.09</td>\n",
       "      <td>0.09</td>\n",
       "      <td>0.28</td>\n",
       "      <td>97.14</td>\n",
       "      <td>0.18</td>\n",
       "      <td>0.85</td>\n",
       "      <td>0.14</td>\n",
       "      <td>0.23</td>\n",
       "      <td>2016-07-25 04:10:00</td>\n",
       "    </tr>\n",
       "    <tr>\n",
       "      <th>2</th>\n",
       "      <td>Belgium</td>\n",
       "      <td>4:20</td>\n",
       "      <td>1.09</td>\n",
       "      <td>0.15</td>\n",
       "      <td>0.18</td>\n",
       "      <td>96.94</td>\n",
       "      <td>0.40</td>\n",
       "      <td>0.81</td>\n",
       "      <td>0.17</td>\n",
       "      <td>0.25</td>\n",
       "      <td>2016-07-25 04:20:00</td>\n",
       "    </tr>\n",
       "    <tr>\n",
       "      <th>3</th>\n",
       "      <td>Belgium</td>\n",
       "      <td>4:30</td>\n",
       "      <td>1.13</td>\n",
       "      <td>0.35</td>\n",
       "      <td>0.23</td>\n",
       "      <td>96.51</td>\n",
       "      <td>0.27</td>\n",
       "      <td>1.09</td>\n",
       "      <td>0.17</td>\n",
       "      <td>0.27</td>\n",
       "      <td>2016-07-25 04:30:00</td>\n",
       "    </tr>\n",
       "    <tr>\n",
       "      <th>4</th>\n",
       "      <td>Belgium</td>\n",
       "      <td>4:40</td>\n",
       "      <td>1.23</td>\n",
       "      <td>0.34</td>\n",
       "      <td>0.36</td>\n",
       "      <td>96.46</td>\n",
       "      <td>0.20</td>\n",
       "      <td>0.97</td>\n",
       "      <td>0.15</td>\n",
       "      <td>0.29</td>\n",
       "      <td>2016-07-25 04:40:00</td>\n",
       "    </tr>\n",
       "  </tbody>\n",
       "</table>\n",
       "</div>"
      ],
      "text/plain": [
       "   Country StartTime  Work and study  Travel to/from work/study  \\\n",
       "0  Belgium      4:00            1.04                       0.07   \n",
       "1  Belgium      4:10            1.09                       0.09   \n",
       "2  Belgium      4:20            1.09                       0.15   \n",
       "3  Belgium      4:30            1.13                       0.35   \n",
       "4  Belgium      4:40            1.23                       0.34   \n",
       "\n",
       "   Household work  Sleep and other personal care  Eating  Freetime  \\\n",
       "0            0.16                          97.16    0.15      1.01   \n",
       "1            0.28                          97.14    0.18      0.85   \n",
       "2            0.18                          96.94    0.40      0.81   \n",
       "3            0.23                          96.51    0.27      1.09   \n",
       "4            0.36                          96.46    0.20      0.97   \n",
       "\n",
       "   TV and video  Unspecified time  FormattedStartTime  \n",
       "0          0.17              0.24 2016-07-25 04:00:00  \n",
       "1          0.14              0.23 2016-07-25 04:10:00  \n",
       "2          0.17              0.25 2016-07-25 04:20:00  \n",
       "3          0.17              0.27 2016-07-25 04:30:00  \n",
       "4          0.15              0.29 2016-07-25 04:40:00  "
      ]
     },
     "execution_count": 20,
     "metadata": {},
     "output_type": "execute_result"
    }
   ],
   "source": [
    "df.head()"
   ]
  },
  {
   "cell_type": "code",
   "execution_count": 51,
   "metadata": {
    "collapsed": false
   },
   "outputs": [
    {
     "data": {
      "text/plain": [
       "Index(['Country', 'StartTime', 'Work and study', 'Travel to/from work/study',\n",
       "       'Household work', 'Sleep and other personal care', 'Eating', 'Freetime',\n",
       "       'TV and video', 'Unspecified time', 'FormattedStartTime'],\n",
       "      dtype='object')"
      ]
     },
     "execution_count": 51,
     "metadata": {},
     "output_type": "execute_result"
    }
   ],
   "source": [
    "df.columns"
   ]
  },
  {
   "cell_type": "code",
   "execution_count": 29,
   "metadata": {
    "collapsed": false
   },
   "outputs": [
    {
     "data": {
      "text/html": [
       "<div>\n",
       "<table border=\"1\" class=\"dataframe\">\n",
       "  <thead>\n",
       "    <tr style=\"text-align: right;\">\n",
       "      <th></th>\n",
       "      <th>Country</th>\n",
       "      <th>StartTime</th>\n",
       "      <th>Work and study</th>\n",
       "      <th>Travel to/from work/study</th>\n",
       "      <th>Household work</th>\n",
       "      <th>Sleep and other personal care</th>\n",
       "      <th>Eating</th>\n",
       "      <th>Freetime</th>\n",
       "      <th>TV and video</th>\n",
       "      <th>Unspecified time</th>\n",
       "    </tr>\n",
       "  </thead>\n",
       "  <tbody>\n",
       "    <tr>\n",
       "      <th>331</th>\n",
       "      <td>Finland</td>\n",
       "      <td>11:10</td>\n",
       "      <td>26.45</td>\n",
       "      <td>0.49</td>\n",
       "      <td>27.98</td>\n",
       "      <td>5.44</td>\n",
       "      <td>15.26</td>\n",
       "      <td>20.96</td>\n",
       "      <td>2.31</td>\n",
       "      <td>1.10</td>\n",
       "    </tr>\n",
       "    <tr>\n",
       "      <th>332</th>\n",
       "      <td>Finland</td>\n",
       "      <td>11:20</td>\n",
       "      <td>26.45</td>\n",
       "      <td>0.65</td>\n",
       "      <td>27.94</td>\n",
       "      <td>4.80</td>\n",
       "      <td>14.44</td>\n",
       "      <td>22.13</td>\n",
       "      <td>2.45</td>\n",
       "      <td>1.15</td>\n",
       "    </tr>\n",
       "    <tr>\n",
       "      <th>330</th>\n",
       "      <td>Finland</td>\n",
       "      <td>11:00</td>\n",
       "      <td>27.31</td>\n",
       "      <td>0.49</td>\n",
       "      <td>28.77</td>\n",
       "      <td>5.76</td>\n",
       "      <td>13.61</td>\n",
       "      <td>20.45</td>\n",
       "      <td>2.18</td>\n",
       "      <td>1.43</td>\n",
       "    </tr>\n",
       "    <tr>\n",
       "      <th>334</th>\n",
       "      <td>Finland</td>\n",
       "      <td>11:40</td>\n",
       "      <td>27.98</td>\n",
       "      <td>0.54</td>\n",
       "      <td>27.70</td>\n",
       "      <td>4.71</td>\n",
       "      <td>13.16</td>\n",
       "      <td>21.98</td>\n",
       "      <td>2.52</td>\n",
       "      <td>1.41</td>\n",
       "    </tr>\n",
       "    <tr>\n",
       "      <th>336</th>\n",
       "      <td>Finland</td>\n",
       "      <td>12:00</td>\n",
       "      <td>28.71</td>\n",
       "      <td>0.69</td>\n",
       "      <td>27.44</td>\n",
       "      <td>4.37</td>\n",
       "      <td>12.94</td>\n",
       "      <td>21.90</td>\n",
       "      <td>2.53</td>\n",
       "      <td>1.42</td>\n",
       "    </tr>\n",
       "  </tbody>\n",
       "</table>\n",
       "</div>"
      ],
      "text/plain": [
       "     Country StartTime  Work and study  Travel to/from work/study  \\\n",
       "331  Finland     11:10           26.45                       0.49   \n",
       "332  Finland     11:20           26.45                       0.65   \n",
       "330  Finland     11:00           27.31                       0.49   \n",
       "334  Finland     11:40           27.98                       0.54   \n",
       "336  Finland     12:00           28.71                       0.69   \n",
       "\n",
       "     Household work  Sleep and other personal care  Eating  Freetime  \\\n",
       "331           27.98                           5.44   15.26     20.96   \n",
       "332           27.94                           4.80   14.44     22.13   \n",
       "330           28.77                           5.76   13.61     20.45   \n",
       "334           27.70                           4.71   13.16     21.98   \n",
       "336           27.44                           4.37   12.94     21.90   \n",
       "\n",
       "     TV and video  Unspecified time  \n",
       "331          2.31              1.10  \n",
       "332          2.45              1.15  \n",
       "330          2.18              1.43  \n",
       "334          2.52              1.41  \n",
       "336          2.53              1.42  "
      ]
     },
     "execution_count": 29,
     "metadata": {},
     "output_type": "execute_result"
    }
   ],
   "source": [
    "df[df['Country'] == 'Finland'].sort_values('Eating', ascending = False).head()"
   ]
  },
  {
   "cell_type": "code",
   "execution_count": 22,
   "metadata": {
    "collapsed": false
   },
   "outputs": [
    {
     "data": {
      "text/plain": [
       "count                    2160\n",
       "unique                    144\n",
       "top       2016-07-25 00:00:00\n",
       "freq                       15\n",
       "first     2016-07-25 00:00:00\n",
       "last      2016-07-25 23:50:00\n",
       "Name: FormattedStartTime, dtype: object"
      ]
     },
     "execution_count": 22,
     "metadata": {},
     "output_type": "execute_result"
    }
   ],
   "source": [
    "df['FormattedStartTime'].describe()"
   ]
  },
  {
   "cell_type": "code",
   "execution_count": 21,
   "metadata": {
    "collapsed": false
   },
   "outputs": [
    {
     "name": "stdout",
     "output_type": "stream",
     "text": [
      "                     Eating\n",
      "FormattedStartTime         \n",
      "2016-07-25 04:00:00    0.15\n",
      "2016-07-25 04:10:00    0.18\n",
      "2016-07-25 04:20:00    0.40\n",
      "2016-07-25 04:30:00    0.27\n",
      "2016-07-25 04:40:00    0.20\n",
      "2016-07-25 04:50:00    0.49\n",
      "2016-07-25 05:00:00    0.49\n",
      "2016-07-25 05:10:00    0.61\n",
      "2016-07-25 05:20:00    0.65\n",
      "2016-07-25 05:30:00    0.77\n",
      "2016-07-25 05:40:00    0.74\n",
      "2016-07-25 05:50:00    0.98\n",
      "2016-07-25 06:00:00    1.00\n",
      "2016-07-25 06:10:00    1.81\n",
      "2016-07-25 06:20:00    2.33\n",
      "2016-07-25 06:30:00    3.08\n",
      "2016-07-25 06:40:00    3.39\n",
      "2016-07-25 06:50:00    4.10\n",
      "2016-07-25 07:00:00    5.77\n",
      "2016-07-25 07:10:00    7.35\n",
      "2016-07-25 07:20:00    7.84\n",
      "2016-07-25 07:30:00    8.63\n",
      "2016-07-25 07:40:00    8.74\n",
      "2016-07-25 07:50:00    9.65\n",
      "2016-07-25 08:00:00   10.23\n"
     ]
    }
   ],
   "source": [
    "b = df[df['Country'] == 'Belgium'][['Eating', 'FormattedStartTime']]\n",
    "b = b.set_index('FormattedStartTime')\n",
    "print(b[:25])\n",
    "# b.plot(b['FormattedStartTime'], b['Eating'])"
   ]
  },
  {
   "cell_type": "markdown",
   "metadata": {},
   "source": [
    "# Adding Some Data:\n",
    "I took a look at the work week, weather, and coordinates.\n",
    "* work week: http://stats.oecd.org/Index.aspx?DataSetCode=ANHRS (for Bulagria: http://sofiaglobe.com/2012/10/05/working-hours-in-bulgaria-slightly-above-eu-average/). These numbers will be for 2011. \n",
    "* weather: http://www.weatherbase.com/weather/country.php3?r=EUR\n",
    "* coordinates: Google\n",
    "    'Norway', 33.6, 60.4720, 8.4689\n",
    "    'Germany', 34.6, 51.1657, 10.4515\n",
    "    'Belgium', 35.1, 50.5039, 4.4699\n",
    "    'Sweden', 35.8, 60.1282, 18.6435\n",
    "    'Italy', 36.0, 41.8719, 12.5674\n",
    "    'United Kingdom', 36.1, 55.3781, -3.4360\n",
    "    'Finland', 36.5, 61.9241, 25.7482\n",
    "    'France', 36.6, 46.2276, 2.2137\n",
    "    'Spain', 37.2, 40.4637, -3.7492\n",
    "    'Lithuania', 38.1, 55.1694, 23.8813\n",
    "    'Estonia', 38.7, 58.5953, 25.0136\n",
    "    'Latvia', 38.8, 56.8796, 24.6032\n",
    "    'Slovenia', 39.2, 46.1512, 14.9955\n",
    "    'Poland', 39.7, 51.9194, 19.1451\n",
    "    'Bulgaria', 40.9, 42.7339, 25.4858\n",
    "I just copy and pasted these by hand into a csv file."
   ]
  },
  {
   "cell_type": "code",
   "execution_count": 4,
   "metadata": {
    "collapsed": false
   },
   "outputs": [],
   "source": [
    "c_df = pd.read_csv('hours_coordinates.csv')"
   ]
  },
  {
   "cell_type": "markdown",
   "metadata": {},
   "source": [
    "After playing around, I found the most interesting results with temperature."
   ]
  },
  {
   "cell_type": "code",
   "execution_count": 12,
   "metadata": {
    "collapsed": false
   },
   "outputs": [
    {
     "data": {
      "text/plain": [
       "['Spain',\n",
       " 'Italy',\n",
       " 'France',\n",
       " 'Bulgaria',\n",
       " 'Poland',\n",
       " 'Belgium',\n",
       " 'United Kingdom',\n",
       " 'Germany',\n",
       " 'Slovenia',\n",
       " 'Lithuania',\n",
       " 'Latvia',\n",
       " 'Estonia',\n",
       " 'Sweden',\n",
       " 'Norway',\n",
       " 'Finland']"
      ]
     },
     "execution_count": 12,
     "metadata": {},
     "output_type": "execute_result"
    }
   ],
   "source": [
    "temp = []\n",
    "for x in c_df.sort_values('hitemp', ascending=False)['country']:\n",
    "    temp.append(x)\n",
    "temp"
   ]
  },
  {
   "cell_type": "code",
   "execution_count": 64,
   "metadata": {
    "collapsed": false
   },
   "outputs": [
    {
     "data": {
      "image/png": "[encoded data removed]",
      "text/plain": [
       "<matplotlib.figure.Figure at 0x10d59f9b0>"
      ]
     },
     "metadata": {},
     "output_type": "display_data"
    },
    {
     "data": {
      "image/png": "[encoded data removed]",
      "text/plain": [
       "<matplotlib.figure.Figure at 0x10a9efe48>"
      ]
     },
     "metadata": {},
     "output_type": "display_data"
    },
    {
     "data": {
      "image/png": "[encoded data removed]",
      "text/plain": [
       "<matplotlib.figure.Figure at 0x10d68f7f0>"
      ]
     },
     "metadata": {},
     "output_type": "display_data"
    },
    {
     "data": {
      "image/png": "[encoded data removed]",
      "text/plain": [
       "<matplotlib.figure.Figure at 0x10af3a4a8>"
      ]
     },
     "metadata": {},
     "output_type": "display_data"
    },
    {
     "data": {
      "image/png": "[encoded data removed]",
      "text/plain": [
       "<matplotlib.figure.Figure at 0x10d5c16d8>"
      ]
     },
     "metadata": {},
     "output_type": "display_data"
    },
    {
     "data": {
      "image/png": "[encoded data removed]",
      "text/plain": [
       "<matplotlib.figure.Figure at 0x10bf6b5c0>"
      ]
     },
     "metadata": {},
     "output_type": "display_data"
    },
    {
     "data": {
      "image/png": "[encoded data removed]",
      "text/plain": [
       "<matplotlib.figure.Figure at 0x10b8dc1d0>"
      ]
     },
     "metadata": {},
     "output_type": "display_data"
    },
    {
     "data": {
      "image/png": "[encoded data removed]",
      "text/plain": [
       "<matplotlib.figure.Figure at 0x10af3cda0>"
      ]
     },
     "metadata": {},
     "output_type": "display_data"
    },
    {
     "data": {
      "image/png": "[encoded data removed]",
      "text/plain": [
       "<matplotlib.figure.Figure at 0x10a9fb358>"
      ]
     },
     "metadata": {},
     "output_type": "display_data"
    },
    {
     "data": {
      "image/png": "[encoded data removed]",
      "text/plain": [
       "<matplotlib.figure.Figure at 0x10b2679e8>"
      ]
     },
     "metadata": {},
     "output_type": "display_data"
    },
    {
     "data": {
      "image/png": "[encoded data removed]",
      "text/plain": [
       "<matplotlib.figure.Figure at 0x10b994e80>"
      ]
     },
     "metadata": {},
     "output_type": "display_data"
    },
    {
     "data": {
      "image/png": "[encoded data removed]",
      "text/plain": [
       "<matplotlib.figure.Figure at 0x10aae5f98>"
      ]
     },
     "metadata": {},
     "output_type": "display_data"
    },
    {
     "data": {
      "image/png": "[encoded data removed]",
      "text/plain": [
       "<matplotlib.figure.Figure at 0x10ab49fd0>"
      ]
     },
     "metadata": {},
     "output_type": "display_data"
    },
    {
     "data": {
      "image/png": "[encoded data removed]",
      "text/plain": [
       "<matplotlib.figure.Figure at 0x10da8d860>"
      ]
     },
     "metadata": {},
     "output_type": "display_data"
    },
    {
     "data": {
      "image/png": "[encoded data removed]",
      "text/plain": [
       "<matplotlib.figure.Figure at 0x10d5b57b8>"
      ]
     },
     "metadata": {},
     "output_type": "display_data"
    }
   ],
   "source": [
    "matplotlib.rcParams['pdf.fonttype'] = 42\n",
    "matplotlib.rcParams['ps.fonttype'] = 42\n",
    "num = 0\n",
    "for country in temp:\n",
    "    num += 1\n",
    "    b = df[df['Country'] == country][['Eating', 'FormattedStartTime']]\n",
    "    b = b.set_index('FormattedStartTime')\n",
    "    fig, ax = plt.subplots(figsize=(8, 5))\n",
    "    b.plot(linewidth = 1, ax = ax, legend = False)\n",
    "    ax.set_ylim([0, 100])\n",
    "    ax.set_yticklabels('')\n",
    "    ax.spines['top'].set_visible(False)\n",
    "    ax.spines['right'].set_visible(False)\n",
    "    ax.spines['left'].set_visible(False)\n",
    "    plt.tick_params(\n",
    "        which = 'major',\n",
    "        top = 'off',\n",
    "        bottom = 'off',\n",
    "        left = 'off',\n",
    "        right = 'off',\n",
    "        labeltop = 'off',\n",
    "        labelbottom = 'off'\n",
    "        )\n",
    "    plt.tick_params(\n",
    "        which = 'minor',\n",
    "        top = 'off',\n",
    "        bottom = 'off',\n",
    "        left = 'off',\n",
    "        right = 'off',\n",
    "        labeltop = 'off',\n",
    "        labelbottom = 'off'\n",
    "        )\n",
    "    ax.set_xlabel(country)\n",
    "    plt.savefig(str(num)+country+'.pdf', transparent = True, bbox_inches='tight')"
   ]
  },
  {
   "cell_type": "markdown",
   "metadata": {},
   "source": [
    "Then I played around to find out how much I should shade in each country's graph in Illustrator:"
   ]
  },
  {
   "cell_type": "code",
   "execution_count": 22,
   "metadata": {
    "collapsed": false
   },
   "outputs": [],
   "source": [
    "c_df['percent_temp'] = (c_df['hitemp']-43.9) / 25.4 * 100 # 69.3-43.9"
   ]
  },
  {
   "cell_type": "code",
   "execution_count": 23,
   "metadata": {
    "collapsed": true
   },
   "outputs": [],
   "source": [
    "c_df['percent_shading'] = (c_df['hitemp']-35) / 34.5 * 100 # 69.3-43.9"
   ]
  },
  {
   "cell_type": "code",
   "execution_count": 24,
   "metadata": {
    "collapsed": false
   },
   "outputs": [
    {
     "data": {
      "text/html": [
       "<div>\n",
       "<table border=\"1\" class=\"dataframe\">\n",
       "  <thead>\n",
       "    <tr style=\"text-align: right;\">\n",
       "      <th></th>\n",
       "      <th>country</th>\n",
       "      <th>hitemp</th>\n",
       "      <th>percent_temp</th>\n",
       "      <th>percent_shading</th>\n",
       "    </tr>\n",
       "  </thead>\n",
       "  <tbody>\n",
       "    <tr>\n",
       "      <th>8</th>\n",
       "      <td>Spain</td>\n",
       "      <td>69.3</td>\n",
       "      <td>100.000000</td>\n",
       "      <td>99.420290</td>\n",
       "    </tr>\n",
       "    <tr>\n",
       "      <th>4</th>\n",
       "      <td>Italy</td>\n",
       "      <td>63.8</td>\n",
       "      <td>78.346457</td>\n",
       "      <td>83.478261</td>\n",
       "    </tr>\n",
       "    <tr>\n",
       "      <th>7</th>\n",
       "      <td>France</td>\n",
       "      <td>60.5</td>\n",
       "      <td>65.354331</td>\n",
       "      <td>73.913043</td>\n",
       "    </tr>\n",
       "    <tr>\n",
       "      <th>14</th>\n",
       "      <td>Bulgaria</td>\n",
       "      <td>59.3</td>\n",
       "      <td>60.629921</td>\n",
       "      <td>70.434783</td>\n",
       "    </tr>\n",
       "    <tr>\n",
       "      <th>13</th>\n",
       "      <td>Poland</td>\n",
       "      <td>56.2</td>\n",
       "      <td>48.425197</td>\n",
       "      <td>61.449275</td>\n",
       "    </tr>\n",
       "    <tr>\n",
       "      <th>2</th>\n",
       "      <td>Belgium</td>\n",
       "      <td>55.5</td>\n",
       "      <td>45.669291</td>\n",
       "      <td>59.420290</td>\n",
       "    </tr>\n",
       "    <tr>\n",
       "      <th>5</th>\n",
       "      <td>United Kingdom</td>\n",
       "      <td>55.3</td>\n",
       "      <td>44.881890</td>\n",
       "      <td>58.840580</td>\n",
       "    </tr>\n",
       "    <tr>\n",
       "      <th>1</th>\n",
       "      <td>Germany</td>\n",
       "      <td>54.0</td>\n",
       "      <td>39.763780</td>\n",
       "      <td>55.072464</td>\n",
       "    </tr>\n",
       "    <tr>\n",
       "      <th>12</th>\n",
       "      <td>Slovenia</td>\n",
       "      <td>53.8</td>\n",
       "      <td>38.976378</td>\n",
       "      <td>54.492754</td>\n",
       "    </tr>\n",
       "    <tr>\n",
       "      <th>9</th>\n",
       "      <td>Lithuania</td>\n",
       "      <td>49.6</td>\n",
       "      <td>22.440945</td>\n",
       "      <td>42.318841</td>\n",
       "    </tr>\n",
       "    <tr>\n",
       "      <th>11</th>\n",
       "      <td>Latvia</td>\n",
       "      <td>48.8</td>\n",
       "      <td>19.291339</td>\n",
       "      <td>40.000000</td>\n",
       "    </tr>\n",
       "    <tr>\n",
       "      <th>10</th>\n",
       "      <td>Estonia</td>\n",
       "      <td>48.4</td>\n",
       "      <td>17.716535</td>\n",
       "      <td>38.840580</td>\n",
       "    </tr>\n",
       "    <tr>\n",
       "      <th>3</th>\n",
       "      <td>Sweden</td>\n",
       "      <td>46.7</td>\n",
       "      <td>11.023622</td>\n",
       "      <td>33.913043</td>\n",
       "    </tr>\n",
       "    <tr>\n",
       "      <th>0</th>\n",
       "      <td>Norway</td>\n",
       "      <td>44.1</td>\n",
       "      <td>0.787402</td>\n",
       "      <td>26.376812</td>\n",
       "    </tr>\n",
       "    <tr>\n",
       "      <th>6</th>\n",
       "      <td>Finland</td>\n",
       "      <td>43.9</td>\n",
       "      <td>0.000000</td>\n",
       "      <td>25.797101</td>\n",
       "    </tr>\n",
       "  </tbody>\n",
       "</table>\n",
       "</div>"
      ],
      "text/plain": [
       "           country  hitemp  percent_temp  percent_shading\n",
       "8            Spain    69.3    100.000000        99.420290\n",
       "4            Italy    63.8     78.346457        83.478261\n",
       "7           France    60.5     65.354331        73.913043\n",
       "14        Bulgaria    59.3     60.629921        70.434783\n",
       "13          Poland    56.2     48.425197        61.449275\n",
       "2          Belgium    55.5     45.669291        59.420290\n",
       "5   United Kingdom    55.3     44.881890        58.840580\n",
       "1          Germany    54.0     39.763780        55.072464\n",
       "12        Slovenia    53.8     38.976378        54.492754\n",
       "9        Lithuania    49.6     22.440945        42.318841\n",
       "11          Latvia    48.8     19.291339        40.000000\n",
       "10         Estonia    48.4     17.716535        38.840580\n",
       "3           Sweden    46.7     11.023622        33.913043\n",
       "0           Norway    44.1      0.787402        26.376812\n",
       "6          Finland    43.9      0.000000        25.797101"
      ]
     },
     "execution_count": 24,
     "metadata": {},
     "output_type": "execute_result"
    }
   ],
   "source": [
    "c_df.sort_values('hitemp', ascending=False)[['country', 'hitemp', 'percent_temp', 'percent_shading']]"
   ]
  },
  {
   "cell_type": "code",
   "execution_count": null,
   "metadata": {
    "collapsed": true
   },
   "outputs": [],
   "source": []
  }
 ],
 "metadata": {
  "kernelspec": {
   "display_name": "Python 3",
   "language": "python",
   "name": "python3"
  },
  "language_info": {
   "codemirror_mode": {
    "name": "ipython",
    "version": 3
   },
   "file_extension": ".py",
   "mimetype": "text/x-python",
   "name": "python",
   "nbconvert_exporter": "python",
   "pygments_lexer": "ipython3",
   "version": "3.5.1"
  }
 },
 "nbformat": 4,
 "nbformat_minor": 0
}

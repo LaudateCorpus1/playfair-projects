{
 "cells": [
  {
   "cell_type": "code",
   "execution_count": 1,
   "metadata": {
    "collapsed": false
   },
   "outputs": [],
   "source": [
    "import pandas as pd\n",
    "#Changing display options to be able to see more column width/rows\n",
    "pd.options.display.max_rows = 200\n",
    "pd.options.display.max_colwidth = 200\n",
    "import matplotlib.pyplot as plt\n",
    "%matplotlib inline\n",
    "import numpy as np\n"
   ]
  },
  {
   "cell_type": "code",
   "execution_count": 2,
   "metadata": {
    "collapsed": false
   },
   "outputs": [],
   "source": [
    "df_preschool = pd.read_csv(\"CRDC2013_14_SCH.csv\", low_memory = False, encoding = 'latin-1',\n",
    "    na_values = [-9,-5], usecols = ['LEA_NAME', 'LEA_STATE', 'SCH_NAME', 'COMBOKEY',\n",
    "    'LEAID', 'SCHID', 'CCD_LATCOD', 'CCD_LONCOD', 'JJ', 'SCH_GRADE_PS',\n",
    "    'SCH_PSENR_BL_M','SCH_PSENR_BL_F', 'SCH_PSENR_HI_M', 'SCH_PSENR_HI_F',\n",
    "'SCH_PSENR_AM_M','SCH_PSENR_AM_F','SCH_PSENR_AS_M','SCH_PSENR_AS_F',\n",
    "'SCH_PSENR_HP_M','SCH_PSENR_HP_F','SCH_PSENR_WH_M','SCH_PSENR_WH_F',\n",
    "'SCH_PSENR_TR_M','SCH_PSENR_TR_F','SCH_PSDISC_SINGOOS_HI_M',\n",
    "'SCH_PSDISC_SINGOOS_HI_F','SCH_PSDISC_SINGOOS_AM_M', 'SCH_PSDISC_SINGOOS_AM_F',\n",
    "       'SCH_PSDISC_SINGOOS_AS_M', 'SCH_PSDISC_SINGOOS_AS_F',\n",
    "       'SCH_PSDISC_SINGOOS_HP_M', 'SCH_PSDISC_SINGOOS_HP_F',\n",
    "       'SCH_PSDISC_SINGOOS_BL_M', 'SCH_PSDISC_SINGOOS_BL_F',\n",
    "       'SCH_PSDISC_SINGOOS_WH_M', 'SCH_PSDISC_SINGOOS_WH_F',\n",
    "       'SCH_PSDISC_SINGOOS_TR_M', 'SCH_PSDISC_SINGOOS_TR_F',\n",
    "       'TOT_PSDISC_SINGOOS_M', 'TOT_PSDISC_SINGOOS_F',\n",
    "       'SCH_PSDISC_MULTOOS_HI_M', 'SCH_PSDISC_MULTOOS_HI_F',\n",
    "       'SCH_PSDISC_MULTOOS_AM_M', 'SCH_PSDISC_MULTOOS_AM_F',\n",
    "       'SCH_PSDISC_MULTOOS_AS_M', 'SCH_PSDISC_MULTOOS_AS_F',\n",
    "       'SCH_PSDISC_MULTOOS_HP_M', 'SCH_PSDISC_MULTOOS_HP_F',\n",
    "       'SCH_PSDISC_MULTOOS_BL_M', 'SCH_PSDISC_MULTOOS_BL_F',\n",
    "       'SCH_PSDISC_MULTOOS_WH_M', 'SCH_PSDISC_MULTOOS_WH_F',\n",
    "       'SCH_PSDISC_MULTOOS_TR_M', 'SCH_PSDISC_MULTOOS_TR_F',\n",
    "       'TOT_PSDISC_MULTOOS_M', 'TOT_PSDISC_MULTOOS_F',\n",
    "       'SCH_PSDISC_EXP_HI_M', 'SCH_PSDISC_EXP_HI_F', 'SCH_PSDISC_EXP_AM_M',\n",
    "       'SCH_PSDISC_EXP_AM_F', 'SCH_PSDISC_EXP_AS_M', 'SCH_PSDISC_EXP_AS_F',\n",
    "       'SCH_PSDISC_EXP_HP_M', 'SCH_PSDISC_EXP_HP_F', 'SCH_PSDISC_EXP_BL_M',\n",
    "       'SCH_PSDISC_EXP_BL_F', 'SCH_PSDISC_EXP_WH_M', 'SCH_PSDISC_EXP_WH_F',\n",
    "       'SCH_PSDISC_EXP_TR_M', 'SCH_PSDISC_EXP_TR_F', 'TOT_PSDISC_EXP_M',\n",
    "       'TOT_PSDISC_EXP_F', ])"
   ]
  },
  {
   "cell_type": "markdown",
   "metadata": {},
   "source": [
    "# Taking a look at disciplinary actions:\n",
    "\n",
    "- Black public preschool children are suspended from school at high rates: Black preschool children are 3.6 times as likely to receive one or more out-of-school suspensions as white preschool children.\n",
    "- Black children represent 19% of preschool enrollment, but 47% of preschool children receiving one or more out-of-school suspensions; in comparison, white children represent 41% of preschool enrollment, but 28% of preschool children receiving one or more out-of-school suspensions.\n",
    "- Black boys represent 19% of male preschool enrollment, but 45% of male preschool children receiving one or more out-of-school suspensions.\n",
    "- Black girls represent 20% of female preschool enrollment, but 54% of female preschool children receiving one or more out-of-school suspensions."
   ]
  },
  {
   "cell_type": "code",
   "execution_count": 3,
   "metadata": {
    "collapsed": false
   },
   "outputs": [
    {
     "data": {
      "text/plain": [
       "28783"
      ]
     },
     "execution_count": 3,
     "metadata": {},
     "output_type": "execute_result"
    }
   ],
   "source": [
    "#I only want the schools that have preschools, with actual children enrolled.\n",
    "df_preschool = df_preschool[df_preschool['SCH_GRADE_PS'] == 'YES']\n",
    "df_preschool.to_csv(\"df_preschool.csv\")\n",
    "df_preschool.dropna()\n",
    "\n",
    "len(df_preschool)"
   ]
  },
  {
   "cell_type": "markdown",
   "metadata": {
    "collapsed": true
   },
   "source": [
    "## Measuring disparity\n",
    "I need to find the total enrollment:\n",
    "\n",
    "1. percent white enrollment\n",
    "    a. female\n",
    "    b. male\n",
    "2. percent black enrollment\n",
    "    a. female\n",
    "    b. male\n",
    "3. other groups?\n"
   ]
  },
  {
   "cell_type": "code",
   "execution_count": 4,
   "metadata": {
    "collapsed": false
   },
   "outputs": [
    {
     "name": "stderr",
     "output_type": "stream",
     "text": [
      "/usr/local/lib/python3.5/site-packages/numpy/lib/function_base.py:3823: RuntimeWarning: Invalid value encountered in percentile\n",
      "  RuntimeWarning)\n"
     ]
    },
    {
     "data": {
      "text/plain": [
       "count    28779.000000\n",
       "mean        50.008270\n",
       "std         67.093483\n",
       "min          0.000000\n",
       "25%               NaN\n",
       "50%               NaN\n",
       "75%               NaN\n",
       "max       2471.000000\n",
       "Name: total_enrollment, dtype: float64"
      ]
     },
     "execution_count": 4,
     "metadata": {},
     "output_type": "execute_result"
    }
   ],
   "source": [
    "#To get the total preschool enrollment, adding together all the SCH_PSENR columns.\n",
    "#Is there a better way to do this with this data set? :/\n",
    "df_preschool['total_enrollment'] = df_preschool['SCH_PSENR_BL_M'] + df_preschool['SCH_PSENR_BL_F'] + df_preschool['SCH_PSENR_HI_M']+df_preschool['SCH_PSENR_HI_F']+df_preschool['SCH_PSENR_AM_M']+df_preschool['SCH_PSENR_AM_F']+df_preschool['SCH_PSENR_AS_M']+df_preschool['SCH_PSENR_AS_F']+df_preschool['SCH_PSENR_HP_M']+df_preschool['SCH_PSENR_HP_F']+df_preschool['SCH_PSENR_WH_M']+df_preschool['SCH_PSENR_WH_F']+df_preschool['SCH_PSENR_TR_M']+df_preschool['SCH_PSENR_TR_F']\n",
    "df_preschool['total_enrollment_f'] = df_preschool['SCH_PSENR_BL_F'] + df_preschool['SCH_PSENR_HI_F']+df_preschool['SCH_PSENR_AM_F']+df_preschool['SCH_PSENR_AS_F']+df_preschool['SCH_PSENR_HP_F']+df_preschool['SCH_PSENR_WH_F']+df_preschool['SCH_PSENR_TR_F']\n",
    "df_preschool['total_enrollment'].describe()"
   ]
  },
  {
   "cell_type": "markdown",
   "metadata": {},
   "source": [
    "## Calculate percent black enrollment."
   ]
  },
  {
   "cell_type": "code",
   "execution_count": 5,
   "metadata": {
    "collapsed": false
   },
   "outputs": [
    {
     "name": "stderr",
     "output_type": "stream",
     "text": [
      "/usr/local/lib/python3.5/site-packages/numpy/lib/function_base.py:3823: RuntimeWarning: Invalid value encountered in percentile\n",
      "  RuntimeWarning)\n"
     ]
    },
    {
     "data": {
      "text/plain": [
       "17.272025052820194"
      ]
     },
     "execution_count": 5,
     "metadata": {},
     "output_type": "execute_result"
    }
   ],
   "source": [
    "#What percent of enrollment is black?\n",
    "df_preschool['total_black_enr'] = df_preschool['SCH_PSENR_BL_M']+df_preschool['SCH_PSENR_BL_F']\n",
    "df_preschool['perc_black_enr'] = df_preschool['total_black_enr']*100/df_preschool['total_enrollment']\n",
    "\n",
    "#What percent of female enrollment is black?\n",
    "df_preschool['perc_black_enr_f'] = df_preschool['SCH_PSENR_BL_F']/df_preschool['total_enrollment_f']\n",
    "df_preschool['perc_black_enr_f'].mean()\n",
    "df_preschool['perc_black_enr_f'].describe()\n",
    "df_preschool['perc_black_enr_f'] = df_preschool['perc_black_enr_f']\n",
    "\n",
    "df_preschool['perc_black_enr'].mean()"
   ]
  },
  {
   "cell_type": "markdown",
   "metadata": {},
   "source": [
    "## Calculate percent white enrollment."
   ]
  },
  {
   "cell_type": "code",
   "execution_count": 6,
   "metadata": {
    "collapsed": false
   },
   "outputs": [
    {
     "data": {
      "text/plain": [
       "47.446722564132379"
      ]
     },
     "execution_count": 6,
     "metadata": {},
     "output_type": "execute_result"
    }
   ],
   "source": [
    "#What percent of enrollment is white?\n",
    "df_preschool['total_white_enr'] = df_preschool['SCH_PSENR_WH_M']+df_preschool['SCH_PSENR_WH_F']\n",
    "df_preschool['perc_white_enr'] = df_preschool['total_white_enr']*100/df_preschool['total_enrollment']\n",
    "\n",
    "#What percent of female enrollment is white female?\n",
    "df_preschool['perc_white_f_enr'] = df_preschool['SCH_PSENR_WH_F']/df_preschool['total_enrollment_f']\n",
    "df_preschool['perc_white_enr'].mean()"
   ]
  },
  {
   "cell_type": "markdown",
   "metadata": {},
   "source": [
    "## How many kids receive disciplinary actions?\n",
    "Add the totals for male and female together"
   ]
  },
  {
   "cell_type": "code",
   "execution_count": 7,
   "metadata": {
    "collapsed": false
   },
   "outputs": [
    {
     "name": "stderr",
     "output_type": "stream",
     "text": [
      "/usr/local/lib/python3.5/site-packages/numpy/lib/function_base.py:3823: RuntimeWarning: Invalid value encountered in percentile\n",
      "  RuntimeWarning)\n"
     ]
    },
    {
     "data": {
      "text/plain": [
       "count    27956.000000\n",
       "mean         0.003494\n",
       "std          0.023366\n",
       "min          0.000000\n",
       "25%               NaN\n",
       "50%               NaN\n",
       "75%               NaN\n",
       "max          1.000000\n",
       "Name: percent_disc, dtype: float64"
      ]
     },
     "execution_count": 7,
     "metadata": {},
     "output_type": "execute_result"
    }
   ],
   "source": [
    "#How many disciplines are there?\n",
    "df_preschool['total_sing_oos'] = df_preschool['TOT_PSDISC_SINGOOS_F'] + df_preschool['TOT_PSDISC_SINGOOS_M']\n",
    "df_preschool['total_exp'] = df_preschool['TOT_PSDISC_EXP_M'] + df_preschool['TOT_PSDISC_EXP_F']\n",
    "df_preschool['total_disc'] = df_preschool['total_sing_oos'] + df_preschool['total_exp']\n",
    "\n",
    "#How many female disciplines are there?\n",
    "df_preschool['total_disc_f'] = df_preschool['TOT_PSDISC_SINGOOS_F']+df_preschool['TOT_PSDISC_EXP_F']\n",
    "df_preschool['percent_disc']=df_preschool['total_disc']/df_preschool['total_enrollment']\n",
    "df_preschool['percent_disc'].describe()"
   ]
  },
  {
   "cell_type": "markdown",
   "metadata": {},
   "source": [
    "## Out of kids receiving disciplinary actions, what percentage are black?"
   ]
  },
  {
   "cell_type": "code",
   "execution_count": 8,
   "metadata": {
    "collapsed": false
   },
   "outputs": [],
   "source": [
    "#This is to calculate total black disciplinary actions\n",
    "df_preschool['total_black_single_oos'] = df_preschool['SCH_PSDISC_SINGOOS_BL_F']+df_preschool['SCH_PSDISC_SINGOOS_BL_M']\n",
    "#OOPS I DISCOVERED THIS IS NOT NECESSARY, IS REDUNDANT AND RUINS EVERYTHING IF INCLUDED!\n",
    "df_preschool['total_black_mult_oos'] = df_preschool['SCH_PSDISC_MULTOOS_BL_F']+df_preschool['SCH_PSDISC_MULTOOS_BL_M']\n",
    "df_preschool['total_black_exp'] = df_preschool['SCH_PSDISC_EXP_BL_F']+df_preschool['SCH_PSDISC_EXP_BL_M']\n",
    "df_preschool['total_black_disc'] = df_preschool['total_black_single_oos'] + df_preschool['total_black_exp']\n",
    "\n",
    "#How many black female disciplines are there? (abs value)\n",
    "df_preschool['total_black_disc_f'] = df_preschool['SCH_PSDISC_SINGOOS_BL_F'] + df_preschool['SCH_PSDISC_EXP_BL_F']"
   ]
  },
  {
   "cell_type": "code",
   "execution_count": 9,
   "metadata": {
    "collapsed": false
   },
   "outputs": [
    {
     "data": {
      "text/plain": [
       "0.43570194333497353"
      ]
     },
     "execution_count": 9,
     "metadata": {},
     "output_type": "execute_result"
    }
   ],
   "source": [
    "#Out of total disciplines, what percentage are black?\n",
    "df_preschool['perc_black_disc'] = df_preschool['total_black_disc']/df_preschool['total_disc']\n",
    "df_preschool['perc_black_disc'].mean()\n",
    "\n",
    "#Out of total female disciplines, what percentage are black female?\n",
    "df_preschool['perc_black_disc_f'] = df_preschool['total_black_disc_f']/df_preschool['total_disc_f']\n",
    "df_preschool['perc_black_disc_f'].mean()\n",
    "df_preschool['perc_black_disc'].mean()"
   ]
  },
  {
   "cell_type": "markdown",
   "metadata": {},
   "source": [
    "## What percentage are white? White female?"
   ]
  },
  {
   "cell_type": "code",
   "execution_count": 10,
   "metadata": {
    "collapsed": false
   },
   "outputs": [],
   "source": [
    "#This is to calculate total black disciplinary actions\n",
    "df_preschool['total_white_single_oos'] = df_preschool['SCH_PSDISC_SINGOOS_WH_F']+df_preschool['SCH_PSDISC_SINGOOS_WH_M']\n",
    "#OOPS I DISCOVERED THIS IS NOT NECESSARY, IS REDUNDANT AND RUINS EVERYTHING IF INCLUDED!\n",
    "df_preschool['total_white_mult_oos'] = df_preschool['SCH_PSDISC_MULTOOS_WH_F']+df_preschool['SCH_PSDISC_MULTOOS_WH_M']\n",
    "df_preschool['total_white_exp'] = df_preschool['SCH_PSDISC_EXP_WH_F']+df_preschool['SCH_PSDISC_EXP_WH_M']\n",
    "df_preschool['total_white_disc'] = df_preschool['total_white_single_oos'] + df_preschool['total_white_exp']\n",
    "df_preschool['total_white_f_disc']=df_preschool['SCH_PSDISC_EXP_WH_F']+df_preschool['SCH_PSDISC_SINGOOS_WH_F']"
   ]
  },
  {
   "cell_type": "code",
   "execution_count": 11,
   "metadata": {
    "collapsed": false
   },
   "outputs": [
    {
     "data": {
      "text/plain": [
       "0.24989534275248559"
      ]
     },
     "execution_count": 11,
     "metadata": {},
     "output_type": "execute_result"
    }
   ],
   "source": [
    "#What percentage of disciplines are white?\n",
    "df_preschool['perc_white_disc'] = df_preschool['total_white_disc']/df_preschool['total_disc']\n",
    "\n",
    "#What percentage of female disciplines are white?\n",
    "df_preschool['perc_white_f_disc'] = df_preschool['total_white_f_disc']/df_preschool['total_disc_f']\n",
    "df_preschool['perc_white_f_disc'].mean()"
   ]
  },
  {
   "cell_type": "code",
   "execution_count": 12,
   "metadata": {
    "collapsed": false
   },
   "outputs": [],
   "source": [
    "#Divide percent discipline for demographic groups by their percent enrollment of total population.\n",
    "\n",
    "df_preschool['perc_white_disc_enr'] = (df_preschool['total_white_disc']/df_preschool['total_white_enr'])*100\n",
    "df_preschool['perc_black_disc_enr'] = (df_preschool['total_black_disc']/df_preschool['total_black_enr'])*100\n",
    "df_preschool['perc_black_f_disc_enr'] = (df_preschool['total_black_disc_f']/df_preschool['SCH_PSENR_BL_F'])*100\n",
    "df_preschool['perc_white_f_disc_enr'] = (df_preschool['total_white_f_disc']/df_preschool['SCH_PSENR_WH_F'])*100"
   ]
  },
  {
   "cell_type": "code",
   "execution_count": 13,
   "metadata": {
    "collapsed": false
   },
   "outputs": [],
   "source": [
    "df_heavy_handed = df_preschool[(df_preschool['percent_disc']>.03)&(df_preschool['total_enrollment']>0)]\n",
    "df_not_heavy_handed=df_preschool[(df_preschool['percent_disc']<.03)&(df_preschool['total_enrollment']>0)]\n",
    "bins = range(5,101,5)"
   ]
  },
  {
   "cell_type": "code",
   "execution_count": 14,
   "metadata": {
    "collapsed": false
   },
   "outputs": [
    {
     "data": {
      "image/png": "[encoded data removed]",
      "text/plain": [
       "<matplotlib.figure.Figure at 0x10875f438>"
      ]
     },
     "metadata": {},
     "output_type": "display_data"
    }
   ],
   "source": [
    "fig,ax=plt.subplots()\n",
    "ax=df_heavy_handed['perc_black_enr'].plot(kind='hist',bins=bins,color='y',lw=0,rwidth=.99,figsize=(15,10))\n",
    "df_heavy_handed['perc_white_enr'].plot(kind='hist',bins=bins,color='r',lw=0,rwidth=.88,xlim=(1,100),figsize=(15,10))\n",
    "ax.set_title(label=\"Heavy Handed Preschools\")\n",
    "ax.minorticks_on()\n",
    "ax.grid()\n",
    "ax.axvline(x=22.2, color = 'r')\n",
    "ax.axvline(x=25, color = 'y')\n",
    "ax.tick_params(which= 'both', top= 'off', bottom = 'off', left = 'off', right = 'off')\n",
    "plt.savefig(\"heavy_handed_enrollment.pdf\", transparent=True)"
   ]
  },
  {
   "cell_type": "code",
   "execution_count": 15,
   "metadata": {
    "collapsed": false
   },
   "outputs": [
    {
     "data": {
      "image/png": "[encoded data removed]",
      "text/plain": [
       "<matplotlib.figure.Figure at 0x129823f28>"
      ]
     },
     "metadata": {},
     "output_type": "display_data"
    }
   ],
   "source": [
    "\n",
    "fig,ax=plt.subplots()\n",
    "ax=df_not_heavy_handed['perc_white_enr'].plot(kind='hist',bins=bins,color='y',lw=0,rwidth=.98,xlim=(1,110),figsize=(15,10))\n",
    "df_not_heavy_handed['perc_black_enr'].plot(kind='hist',bins=bins,color='r',lw=0,rwidth=.90,xlim=(1,110),ax=ax,figsize=(15,10))\n",
    "ax.set_title(label=\"Lenient Preschools\")\n",
    "ax.axvline(x=5.63, color = 'r')\n",
    "ax.axvline(x=50, color = 'y')\n",
    "ax.grid(which='major', alpha=.25)\n",
    "ax.tick_params(which= 'both', top= 'off', bottom = 'off', left = 'off', right = 'off')\n",
    "plt.savefig(\"lenient_enrollment.pdf\", transparent=True)"
   ]
  },
  {
   "cell_type": "code",
   "execution_count": 16,
   "metadata": {
    "collapsed": false
   },
   "outputs": [
    {
     "data": {
      "text/plain": [
       "count    1121.000000\n",
       "mean       33.515255\n",
       "std        32.166272\n",
       "min         0.000000\n",
       "25%         6.250000\n",
       "50%        22.222222\n",
       "75%        57.575758\n",
       "max       100.000000\n",
       "Name: perc_black_enr, dtype: float64"
      ]
     },
     "execution_count": 16,
     "metadata": {},
     "output_type": "execute_result"
    }
   ],
   "source": [
    "df_heavy_handed['perc_black_enr'].describe()"
   ]
  },
  {
   "cell_type": "code",
   "execution_count": 17,
   "metadata": {
    "collapsed": false
   },
   "outputs": [
    {
     "data": {
      "text/plain": [
       "count    26835.000000\n",
       "mean        16.592038\n",
       "std         25.021290\n",
       "min          0.000000\n",
       "25%          0.000000\n",
       "50%          5.633803\n",
       "75%         21.052632\n",
       "max        100.000000\n",
       "Name: perc_black_enr, dtype: float64"
      ]
     },
     "execution_count": 17,
     "metadata": {},
     "output_type": "execute_result"
    }
   ],
   "source": [
    "df_not_heavy_handed['perc_black_enr'].describe()"
   ]
  },
  {
   "cell_type": "code",
   "execution_count": 18,
   "metadata": {
    "collapsed": false
   },
   "outputs": [
    {
     "data": {
      "text/plain": [
       "count    1121.000000\n",
       "mean       33.877848\n",
       "std        30.288618\n",
       "min         0.000000\n",
       "25%         6.250000\n",
       "50%        25.581395\n",
       "75%        58.620690\n",
       "max       100.000000\n",
       "Name: perc_white_enr, dtype: float64"
      ]
     },
     "execution_count": 18,
     "metadata": {},
     "output_type": "execute_result"
    }
   ],
   "source": [
    "df_heavy_handed['perc_white_enr'].describe()"
   ]
  },
  {
   "cell_type": "code",
   "execution_count": 19,
   "metadata": {
    "collapsed": false
   },
   "outputs": [
    {
     "data": {
      "text/plain": [
       "count    26835.000000\n",
       "mean        48.014919\n",
       "std         34.718423\n",
       "min          0.000000\n",
       "25%         12.500000\n",
       "50%         50.000000\n",
       "75%         80.000000\n",
       "max        100.000000\n",
       "Name: perc_white_enr, dtype: float64"
      ]
     },
     "execution_count": 19,
     "metadata": {},
     "output_type": "execute_result"
    }
   ],
   "source": [
    "df_not_heavy_handed['perc_white_enr'].describe()"
   ]
  },
  {
   "cell_type": "code",
   "execution_count": 20,
   "metadata": {
    "collapsed": false
   },
   "outputs": [],
   "source": [
    "#fig, ax = plt.subplots()\n",
    "#bins = range(1,100,4)\n",
    "#ax = df_heavy_handed.plot(kind = 'hist',orientation='horizontal', bins=bins, y='perc_black_disc_enr', color = 'r', rwidth=.98, lw=0)\n",
    "#df_heavy_handed.plot(kind = 'hist',orientation='horizontal',bins=bins,y='perc_white_disc_enr', color = 'y', rwidth=.98, lw=0, ax=ax)\n"
   ]
  },
  {
   "cell_type": "code",
   "execution_count": 21,
   "metadata": {
    "collapsed": false
   },
   "outputs": [
    {
     "name": "stdout",
     "output_type": "stream",
     "text": [
      "28783\n",
      "1121\n",
      "26835\n"
     ]
    }
   ],
   "source": []
  },
  {
   "cell_type": "code",
   "execution_count": 22,
   "metadata": {
    "collapsed": false
   },
   "outputs": [
    {
     "name": "stdout",
     "output_type": "stream",
     "text": [
      "19510.0\n",
      "16825.0\n"
     ]
    },
    {
     "ename": "KeyError",
     "evalue": "'total_am_enr'",
     "output_type": "error",
     "traceback": [
      "\u001b[0;31m---------------------------------------------------------------------------\u001b[0m",
      "\u001b[0;31mKeyError\u001b[0m                                  Traceback (most recent call last)",
      "\u001b[0;32m/usr/local/lib/python3.5/site-packages/pandas/indexes/base.py\u001b[0m in \u001b[0;36mget_loc\u001b[0;34m(self, key, method, tolerance)\u001b[0m\n\u001b[1;32m   1944\u001b[0m             \u001b[0;32mtry\u001b[0m\u001b[0;34m:\u001b[0m\u001b[0;34m\u001b[0m\u001b[0m\n\u001b[0;32m-> 1945\u001b[0;31m                 \u001b[0;32mreturn\u001b[0m \u001b[0mself\u001b[0m\u001b[0;34m.\u001b[0m\u001b[0m_engine\u001b[0m\u001b[0;34m.\u001b[0m\u001b[0mget_loc\u001b[0m\u001b[0;34m(\u001b[0m\u001b[0mkey\u001b[0m\u001b[0;34m)\u001b[0m\u001b[0;34m\u001b[0m\u001b[0m\n\u001b[0m\u001b[1;32m   1946\u001b[0m             \u001b[0;32mexcept\u001b[0m \u001b[0mKeyError\u001b[0m\u001b[0;34m:\u001b[0m\u001b[0;34m\u001b[0m\u001b[0m\n",
      "\u001b[0;32mpandas/index.pyx\u001b[0m in \u001b[0;36mpandas.index.IndexEngine.get_loc (pandas/index.c:4154)\u001b[0;34m()\u001b[0m\n",
      "\u001b[0;32mpandas/index.pyx\u001b[0m in \u001b[0;36mpandas.index.IndexEngine.get_loc (pandas/index.c:4018)\u001b[0;34m()\u001b[0m\n",
      "\u001b[0;32mpandas/hashtable.pyx\u001b[0m in \u001b[0;36mpandas.hashtable.PyObjectHashTable.get_item (pandas/hashtable.c:12368)\u001b[0;34m()\u001b[0m\n",
      "\u001b[0;32mpandas/hashtable.pyx\u001b[0m in \u001b[0;36mpandas.hashtable.PyObjectHashTable.get_item (pandas/hashtable.c:12322)\u001b[0;34m()\u001b[0m\n",
      "\u001b[0;31mKeyError\u001b[0m: 'total_am_enr'",
      "\nDuring handling of the above exception, another exception occurred:\n",
      "\u001b[0;31mKeyError\u001b[0m                                  Traceback (most recent call last)",
      "\u001b[0;32m<ipython-input-22-b856af8c1ba8>\u001b[0m in \u001b[0;36m<module>\u001b[0;34m()\u001b[0m\n\u001b[1;32m      1\u001b[0m \u001b[0mprint\u001b[0m\u001b[0;34m(\u001b[0m\u001b[0mdf_heavy_handed\u001b[0m\u001b[0;34m[\u001b[0m\u001b[0;34m'total_black_enr'\u001b[0m\u001b[0;34m]\u001b[0m\u001b[0;34m.\u001b[0m\u001b[0msum\u001b[0m\u001b[0;34m(\u001b[0m\u001b[0;34m)\u001b[0m\u001b[0;34m)\u001b[0m\u001b[0;34m\u001b[0m\u001b[0m\n\u001b[1;32m      2\u001b[0m \u001b[0mprint\u001b[0m\u001b[0;34m(\u001b[0m\u001b[0mdf_heavy_handed\u001b[0m\u001b[0;34m[\u001b[0m\u001b[0;34m'total_white_enr'\u001b[0m\u001b[0;34m]\u001b[0m\u001b[0;34m.\u001b[0m\u001b[0msum\u001b[0m\u001b[0;34m(\u001b[0m\u001b[0;34m)\u001b[0m\u001b[0;34m)\u001b[0m\u001b[0;34m\u001b[0m\u001b[0m\n\u001b[0;32m----> 3\u001b[0;31m \u001b[0mprint\u001b[0m\u001b[0;34m(\u001b[0m\u001b[0mdf_heavy_handed\u001b[0m\u001b[0;34m[\u001b[0m\u001b[0;34m'total_am_enr'\u001b[0m\u001b[0;34m]\u001b[0m\u001b[0;34m.\u001b[0m\u001b[0msum\u001b[0m\u001b[0;34m(\u001b[0m\u001b[0;34m)\u001b[0m\u001b[0;34m)\u001b[0m\u001b[0;34m\u001b[0m\u001b[0m\n\u001b[0m\u001b[1;32m      4\u001b[0m \u001b[0mprint\u001b[0m\u001b[0;34m(\u001b[0m\u001b[0mdf_heavy_handed\u001b[0m\u001b[0;34m[\u001b[0m\u001b[0;34m'total_hisp_enr'\u001b[0m\u001b[0;34m]\u001b[0m\u001b[0;34m.\u001b[0m\u001b[0msum\u001b[0m\u001b[0;34m(\u001b[0m\u001b[0;34m)\u001b[0m\u001b[0;34m)\u001b[0m\u001b[0;34m\u001b[0m\u001b[0m\n\u001b[1;32m      5\u001b[0m \u001b[0mprint\u001b[0m\u001b[0;34m(\u001b[0m\u001b[0mdf_heavy_handed\u001b[0m\u001b[0;34m[\u001b[0m\u001b[0;34m'total_hp_enr'\u001b[0m\u001b[0;34m]\u001b[0m\u001b[0;34m.\u001b[0m\u001b[0msum\u001b[0m\u001b[0;34m(\u001b[0m\u001b[0;34m)\u001b[0m\u001b[0;34m)\u001b[0m\u001b[0;34m\u001b[0m\u001b[0m\n",
      "\u001b[0;32m/usr/local/lib/python3.5/site-packages/pandas/core/frame.py\u001b[0m in \u001b[0;36m__getitem__\u001b[0;34m(self, key)\u001b[0m\n\u001b[1;32m   1995\u001b[0m             \u001b[0;32mreturn\u001b[0m \u001b[0mself\u001b[0m\u001b[0;34m.\u001b[0m\u001b[0m_getitem_multilevel\u001b[0m\u001b[0;34m(\u001b[0m\u001b[0mkey\u001b[0m\u001b[0;34m)\u001b[0m\u001b[0;34m\u001b[0m\u001b[0m\n\u001b[1;32m   1996\u001b[0m         \u001b[0;32melse\u001b[0m\u001b[0;34m:\u001b[0m\u001b[0;34m\u001b[0m\u001b[0m\n\u001b[0;32m-> 1997\u001b[0;31m             \u001b[0;32mreturn\u001b[0m \u001b[0mself\u001b[0m\u001b[0;34m.\u001b[0m\u001b[0m_getitem_column\u001b[0m\u001b[0;34m(\u001b[0m\u001b[0mkey\u001b[0m\u001b[0;34m)\u001b[0m\u001b[0;34m\u001b[0m\u001b[0m\n\u001b[0m\u001b[1;32m   1998\u001b[0m \u001b[0;34m\u001b[0m\u001b[0m\n\u001b[1;32m   1999\u001b[0m     \u001b[0;32mdef\u001b[0m \u001b[0m_getitem_column\u001b[0m\u001b[0;34m(\u001b[0m\u001b[0mself\u001b[0m\u001b[0;34m,\u001b[0m \u001b[0mkey\u001b[0m\u001b[0;34m)\u001b[0m\u001b[0;34m:\u001b[0m\u001b[0;34m\u001b[0m\u001b[0m\n",
      "\u001b[0;32m/usr/local/lib/python3.5/site-packages/pandas/core/frame.py\u001b[0m in \u001b[0;36m_getitem_column\u001b[0;34m(self, key)\u001b[0m\n\u001b[1;32m   2002\u001b[0m         \u001b[0;31m# get column\u001b[0m\u001b[0;34m\u001b[0m\u001b[0;34m\u001b[0m\u001b[0m\n\u001b[1;32m   2003\u001b[0m         \u001b[0;32mif\u001b[0m \u001b[0mself\u001b[0m\u001b[0;34m.\u001b[0m\u001b[0mcolumns\u001b[0m\u001b[0;34m.\u001b[0m\u001b[0mis_unique\u001b[0m\u001b[0;34m:\u001b[0m\u001b[0;34m\u001b[0m\u001b[0m\n\u001b[0;32m-> 2004\u001b[0;31m             \u001b[0;32mreturn\u001b[0m \u001b[0mself\u001b[0m\u001b[0;34m.\u001b[0m\u001b[0m_get_item_cache\u001b[0m\u001b[0;34m(\u001b[0m\u001b[0mkey\u001b[0m\u001b[0;34m)\u001b[0m\u001b[0;34m\u001b[0m\u001b[0m\n\u001b[0m\u001b[1;32m   2005\u001b[0m \u001b[0;34m\u001b[0m\u001b[0m\n\u001b[1;32m   2006\u001b[0m         \u001b[0;31m# duplicate columns & possible reduce dimensionality\u001b[0m\u001b[0;34m\u001b[0m\u001b[0;34m\u001b[0m\u001b[0m\n",
      "\u001b[0;32m/usr/local/lib/python3.5/site-packages/pandas/core/generic.py\u001b[0m in \u001b[0;36m_get_item_cache\u001b[0;34m(self, item)\u001b[0m\n\u001b[1;32m   1348\u001b[0m         \u001b[0mres\u001b[0m \u001b[0;34m=\u001b[0m \u001b[0mcache\u001b[0m\u001b[0;34m.\u001b[0m\u001b[0mget\u001b[0m\u001b[0;34m(\u001b[0m\u001b[0mitem\u001b[0m\u001b[0;34m)\u001b[0m\u001b[0;34m\u001b[0m\u001b[0m\n\u001b[1;32m   1349\u001b[0m         \u001b[0;32mif\u001b[0m \u001b[0mres\u001b[0m \u001b[0;32mis\u001b[0m \u001b[0;32mNone\u001b[0m\u001b[0;34m:\u001b[0m\u001b[0;34m\u001b[0m\u001b[0m\n\u001b[0;32m-> 1350\u001b[0;31m             \u001b[0mvalues\u001b[0m \u001b[0;34m=\u001b[0m \u001b[0mself\u001b[0m\u001b[0;34m.\u001b[0m\u001b[0m_data\u001b[0m\u001b[0;34m.\u001b[0m\u001b[0mget\u001b[0m\u001b[0;34m(\u001b[0m\u001b[0mitem\u001b[0m\u001b[0;34m)\u001b[0m\u001b[0;34m\u001b[0m\u001b[0m\n\u001b[0m\u001b[1;32m   1351\u001b[0m             \u001b[0mres\u001b[0m \u001b[0;34m=\u001b[0m \u001b[0mself\u001b[0m\u001b[0;34m.\u001b[0m\u001b[0m_box_item_values\u001b[0m\u001b[0;34m(\u001b[0m\u001b[0mitem\u001b[0m\u001b[0;34m,\u001b[0m \u001b[0mvalues\u001b[0m\u001b[0;34m)\u001b[0m\u001b[0;34m\u001b[0m\u001b[0m\n\u001b[1;32m   1352\u001b[0m             \u001b[0mcache\u001b[0m\u001b[0;34m[\u001b[0m\u001b[0mitem\u001b[0m\u001b[0;34m]\u001b[0m \u001b[0;34m=\u001b[0m \u001b[0mres\u001b[0m\u001b[0;34m\u001b[0m\u001b[0m\n",
      "\u001b[0;32m/usr/local/lib/python3.5/site-packages/pandas/core/internals.py\u001b[0m in \u001b[0;36mget\u001b[0;34m(self, item, fastpath)\u001b[0m\n\u001b[1;32m   3288\u001b[0m \u001b[0;34m\u001b[0m\u001b[0m\n\u001b[1;32m   3289\u001b[0m             \u001b[0;32mif\u001b[0m \u001b[0;32mnot\u001b[0m \u001b[0misnull\u001b[0m\u001b[0;34m(\u001b[0m\u001b[0mitem\u001b[0m\u001b[0;34m)\u001b[0m\u001b[0;34m:\u001b[0m\u001b[0;34m\u001b[0m\u001b[0m\n\u001b[0;32m-> 3290\u001b[0;31m                 \u001b[0mloc\u001b[0m \u001b[0;34m=\u001b[0m \u001b[0mself\u001b[0m\u001b[0;34m.\u001b[0m\u001b[0mitems\u001b[0m\u001b[0;34m.\u001b[0m\u001b[0mget_loc\u001b[0m\u001b[0;34m(\u001b[0m\u001b[0mitem\u001b[0m\u001b[0;34m)\u001b[0m\u001b[0;34m\u001b[0m\u001b[0m\n\u001b[0m\u001b[1;32m   3291\u001b[0m             \u001b[0;32melse\u001b[0m\u001b[0;34m:\u001b[0m\u001b[0;34m\u001b[0m\u001b[0m\n\u001b[1;32m   3292\u001b[0m                 \u001b[0mindexer\u001b[0m \u001b[0;34m=\u001b[0m \u001b[0mnp\u001b[0m\u001b[0;34m.\u001b[0m\u001b[0marange\u001b[0m\u001b[0;34m(\u001b[0m\u001b[0mlen\u001b[0m\u001b[0;34m(\u001b[0m\u001b[0mself\u001b[0m\u001b[0;34m.\u001b[0m\u001b[0mitems\u001b[0m\u001b[0;34m)\u001b[0m\u001b[0;34m)\u001b[0m\u001b[0;34m[\u001b[0m\u001b[0misnull\u001b[0m\u001b[0;34m(\u001b[0m\u001b[0mself\u001b[0m\u001b[0;34m.\u001b[0m\u001b[0mitems\u001b[0m\u001b[0;34m)\u001b[0m\u001b[0;34m]\u001b[0m\u001b[0;34m\u001b[0m\u001b[0m\n",
      "\u001b[0;32m/usr/local/lib/python3.5/site-packages/pandas/indexes/base.py\u001b[0m in \u001b[0;36mget_loc\u001b[0;34m(self, key, method, tolerance)\u001b[0m\n\u001b[1;32m   1945\u001b[0m                 \u001b[0;32mreturn\u001b[0m \u001b[0mself\u001b[0m\u001b[0;34m.\u001b[0m\u001b[0m_engine\u001b[0m\u001b[0;34m.\u001b[0m\u001b[0mget_loc\u001b[0m\u001b[0;34m(\u001b[0m\u001b[0mkey\u001b[0m\u001b[0;34m)\u001b[0m\u001b[0;34m\u001b[0m\u001b[0m\n\u001b[1;32m   1946\u001b[0m             \u001b[0;32mexcept\u001b[0m \u001b[0mKeyError\u001b[0m\u001b[0;34m:\u001b[0m\u001b[0;34m\u001b[0m\u001b[0m\n\u001b[0;32m-> 1947\u001b[0;31m                 \u001b[0;32mreturn\u001b[0m \u001b[0mself\u001b[0m\u001b[0;34m.\u001b[0m\u001b[0m_engine\u001b[0m\u001b[0;34m.\u001b[0m\u001b[0mget_loc\u001b[0m\u001b[0;34m(\u001b[0m\u001b[0mself\u001b[0m\u001b[0;34m.\u001b[0m\u001b[0m_maybe_cast_indexer\u001b[0m\u001b[0;34m(\u001b[0m\u001b[0mkey\u001b[0m\u001b[0;34m)\u001b[0m\u001b[0;34m)\u001b[0m\u001b[0;34m\u001b[0m\u001b[0m\n\u001b[0m\u001b[1;32m   1948\u001b[0m \u001b[0;34m\u001b[0m\u001b[0m\n\u001b[1;32m   1949\u001b[0m         \u001b[0mindexer\u001b[0m \u001b[0;34m=\u001b[0m \u001b[0mself\u001b[0m\u001b[0;34m.\u001b[0m\u001b[0mget_indexer\u001b[0m\u001b[0;34m(\u001b[0m\u001b[0;34m[\u001b[0m\u001b[0mkey\u001b[0m\u001b[0;34m]\u001b[0m\u001b[0;34m,\u001b[0m \u001b[0mmethod\u001b[0m\u001b[0;34m=\u001b[0m\u001b[0mmethod\u001b[0m\u001b[0;34m,\u001b[0m \u001b[0mtolerance\u001b[0m\u001b[0;34m=\u001b[0m\u001b[0mtolerance\u001b[0m\u001b[0;34m)\u001b[0m\u001b[0;34m\u001b[0m\u001b[0m\n",
      "\u001b[0;32mpandas/index.pyx\u001b[0m in \u001b[0;36mpandas.index.IndexEngine.get_loc (pandas/index.c:4154)\u001b[0;34m()\u001b[0m\n",
      "\u001b[0;32mpandas/index.pyx\u001b[0m in \u001b[0;36mpandas.index.IndexEngine.get_loc (pandas/index.c:4018)\u001b[0;34m()\u001b[0m\n",
      "\u001b[0;32mpandas/hashtable.pyx\u001b[0m in \u001b[0;36mpandas.hashtable.PyObjectHashTable.get_item (pandas/hashtable.c:12368)\u001b[0;34m()\u001b[0m\n",
      "\u001b[0;32mpandas/hashtable.pyx\u001b[0m in \u001b[0;36mpandas.hashtable.PyObjectHashTable.get_item (pandas/hashtable.c:12322)\u001b[0;34m()\u001b[0m\n",
      "\u001b[0;31mKeyError\u001b[0m: 'total_am_enr'"
     ]
    }
   ],
   "source": []
  },
  {
   "cell_type": "code",
   "execution_count": null,
   "metadata": {
    "collapsed": false
   },
   "outputs": [],
   "source": [
    "#print(df_not_heavy_handed['total_black_enr']/df_not_heavy_handed['total_enrollment'].sum())\n",
    "#print(df_not_heavy_handed['total_white_enr']/df_not_heavy_handed['total_enrollment'].sum())\n",
    "#print(df_not_heavy_handed['total_am_enr']/df_not_heavy_handed['total_enrollment'].sum())\n",
    "#print(df_not_heavy_handed['total_hisp_enr']/df_not_heavy_handed['total_enrollment'].sum())\n",
    "#print(df_not_heavy_handed['total_hp_enr']/df_not_heavy_handed['total_enrollment'].sum())\n",
    "#print(df_not_heavy_handed['total_as_enr']/df_not_heavy_handed['total_enrollment'].sum())\n",
    "#print(df_not_heavy_handed['total_tr_enr'].sum())\n",
    "df_heavy_handed['total_enrollment'].sum()"
   ]
  },
  {
   "cell_type": "code",
   "execution_count": null,
   "metadata": {
    "collapsed": false
   },
   "outputs": [],
   "source": [
    "df_lenient_heavy = pd.read_csv(\"Heavy_Lenient.csv\")\n",
    "fig,ax = plt.subplots()\n",
    "\n",
    "#df_lenient_heavy.columns = ['Hp', 'Tr', 'Am', 'As', 'Hispanic','White','Black']\n",
    "df_lenient_heavy.head()\n",
    "ax = df_lenient_heavy.sort(ascending=False).plot(kind='bar', stacked=True, figsize = (15,10),ylim=(0,1), lw=0)\n",
    "ax.set_title(label=\"Disproportionality in Lenient vs. Heavy-Handed Schools\")\n",
    "ax.minorticks_on()\n",
    "ax.tick_params(which= 'both', top= 'off', bottom = 'off', left = 'off', right = 'off')\n",
    "plt.savefig(\"Heavy_lenient.pdf\", transparent = True)"
   ]
  },
  {
   "cell_type": "code",
   "execution_count": null,
   "metadata": {
    "collapsed": false
   },
   "outputs": [],
   "source": [
    "fig, ax = plt.subplots()\n",
    "bins = range(0,20)\n",
    "ax = df_preschool_5.plot(kind = 'hist', bins=bins, orientation='horizontal',ylim =(0,10), y = 'perc_white_disc_enr', alpha = 1,  color = 'y', lw = 0)\n",
    "df_preschool_5.plot(kind = 'hist', bins=bins, orientation='horizontal', y = 'perc_black_disc_enr', color = 'r', lw = 0, alpha = .5)\n",
    "ax.minorticks_on()\n",
    "\n",
    "#But turn off the ticks display\n",
    "ax.tick_params(which= 'both', top= 'off', bottom = 'off', left = 'off', right = 'off')\n",
    "\n",
    "plt.savefig(\"histogram2.pdf\",transparent=True)"
   ]
  },
  {
   "cell_type": "code",
   "execution_count": null,
   "metadata": {
    "collapsed": false
   },
   "outputs": [],
   "source": [
    "fig, ax = plt.subplots()\n",
    "\n",
    "ax = df_preschool_5.plot(kind = 'hist', y = 'perc_white_f_disc_enr', bins=bins, alpha = .2, color = 'g', ylim=(0,14), lw = 0)\n",
    "df_preschool_5.plot(kind = 'hist', y = 'perc_black_f_disc_enr', color = 'b', bins=bins,lw = 0, alpha = .2)\n",
    "\n",
    "\n",
    "ax.minorticks_on()\n",
    "ax.tick_params(which= 'both', top= 'off', bottom = 'off', left = 'off', right = 'off')\n",
    "\n",
    "plt.savefig(\"histogram.pdf\",transparent=True)"
   ]
  },
  {
   "cell_type": "code",
   "execution_count": null,
   "metadata": {
    "collapsed": false
   },
   "outputs": [],
   "source": [
    "df_preschool['total_hisp_enr'] = df_preschool['SCH_PSENR_HI_M']+df_preschool['SCH_PSENR_HI_F']\n",
    "df_preschool['total_am_enr'] = df_preschool['SCH_PSENR_AM_M']+df_preschool['SCH_PSENR_AM_F']\n",
    "df_preschool['total_hp_enr'] = df_preschool['SCH_PSENR_HP_M']+df_preschool['SCH_PSENR_HP_F']\n",
    "df_preschool['total_as_enr'] = df_preschool['SCH_PSENR_AS_M']+df_preschool['SCH_PSENR_AS_F']\n",
    "df_preschool['total_tr_enr'] = df_preschool['SCH_PSENR_TR_M']+df_preschool['SCH_PSENR_TR_F']\n",
    "\n",
    "#Make a bar that is total enrollment by percentage demographic groups:\n",
    "#df_preschool['total_black_enr'] + df_preschool['total_white_enr] + df_preschool['total_hisp_enr'] + df_preschool['total_am_enr'] + "
   ]
  },
  {
   "cell_type": "code",
   "execution_count": 30,
   "metadata": {
    "collapsed": false
   },
   "outputs": [
    {
     "name": "stdout",
     "output_type": "stream",
     "text": [
      "664543.0\n"
     ]
    }
   ],
   "source": [
    "#Female enrollment percentages by race\n",
    "print(df_preschool['SCH_PSENR_HI_F'].sum()+df_preschool['SCH_PSENR_AM_F'].sum()+df_preschool['SCH_PSENR_HP_F'].sum()+df_preschool['SCH_PSENR_AS_F'].sum()+df_preschool['SCH_PSENR_TR_F'].sum()+df_preschool['SCH_PSENR_BL_F'].sum()+df_preschool['SCH_PSENR_WH_F'].sum())"
   ]
  },
  {
   "cell_type": "code",
   "execution_count": null,
   "metadata": {
    "collapsed": false
   },
   "outputs": [],
   "source": [
    "#Enrollment percentages by race\n",
    "print(df_preschool['total_hisp_enr'].sum()/df_preschool['total_enrollment'].sum())\n",
    "print(df_preschool['total_am_enr'].sum()/df_preschool['total_enrollment'].sum())\n",
    "print(df_preschool['total_hp_enr'].sum()/df_preschool['total_enrollment'].sum())\n",
    "print(df_preschool['total_as_enr'].sum()/df_preschool['total_enrollment'].sum())\n",
    "print(df_preschool['total_tr_enr'].sum()/df_preschool['total_enrollment'].sum())\n",
    "print(df_preschool['total_black_enr'].sum()/df_preschool['total_enrollment'].sum())\n",
    "print(df_preschool['total_white_enr'].sum()/df_preschool['total_enrollment'].sum())"
   ]
  },
  {
   "cell_type": "code",
   "execution_count": 25,
   "metadata": {
    "collapsed": false
   },
   "outputs": [],
   "source": [
    "#Total female disciplines by race\n",
    "df_preschool['total_hp_disc_f'] = df_preschool['SCH_PSDISC_SINGOOS_HP_F']+df_preschool['SCH_PSDISC_EXP_HP_F']\n",
    "df_preschool['total_am_disc_f'] = df_preschool['SCH_PSDISC_SINGOOS_AM_F']+df_preschool['SCH_PSDISC_EXP_AM_F']\n",
    "df_preschool['total_as_disc_f'] = df_preschool['SCH_PSDISC_SINGOOS_AS_F']+df_preschool['SCH_PSDISC_EXP_AS_F']\n",
    "df_preschool['total_tr_disc_f'] = df_preschool['SCH_PSDISC_SINGOOS_TR_F']+df_preschool['SCH_PSDISC_EXP_TR_F']\n",
    "df_preschool['total_hisp_disc_f'] = df_preschool['SCH_PSDISC_SINGOOS_HI_F']+df_preschool['SCH_PSDISC_EXP_HI_F']\n"
   ]
  },
  {
   "cell_type": "code",
   "execution_count": 26,
   "metadata": {
    "collapsed": false
   },
   "outputs": [
    {
     "name": "stdout",
     "output_type": "stream",
     "text": [
      "4.0\n",
      "21.0\n",
      "4.0\n",
      "38.0\n",
      "199.0\n",
      "575.0\n",
      "277.0\n"
     ]
    }
   ],
   "source": [
    "#Percentages of female disciplined students\n",
    "print(df_preschool['total_hp_disc_f'].sum())\n",
    "print(df_preschool['total_am_disc_f'].sum())\n",
    "print(df_preschool['total_as_disc_f'].sum())\n",
    "print(df_preschool['total_tr_disc_f'].sum())\n",
    "print(df_preschool['total_hisp_disc_f'].sum())\n",
    "print(df_preschool['total_black_disc_f'].sum())\n",
    "print(df_preschool['total_white_f_disc'].sum())"
   ]
  },
  {
   "cell_type": "code",
   "execution_count": null,
   "metadata": {
    "collapsed": false
   },
   "outputs": [],
   "source": [
    "#Percentages of disciplined students\n",
    "print(df_preschool['total_hp_disc'].sum()/df_preschool['total_disc'].sum())\n",
    "print(df_preschool['total_am_disc'].sum()/df_preschool['total_disc'].sum())\n",
    "print(df_preschool['total_as_disc'].sum()/df_preschool['total_disc'].sum())\n",
    "print(df_preschool['total_tr_disc'].sum()/df_preschool['total_disc'].sum())\n",
    "print(df_preschool['total_black_disc'].sum()/df_preschool['total_disc'].sum())\n",
    "print(df_preschool['total_hisp_disc'].sum()/df_preschool['total_disc'].sum())\n",
    "print(df_preschool['total_white_disc'].sum()/df_preschool['total_disc'].sum())\n"
   ]
  },
  {
   "cell_type": "code",
   "execution_count": null,
   "metadata": {
    "collapsed": false
   },
   "outputs": [],
   "source": [
    "df_dem_enr_disc = pd.read_csv(\"Dem_Enr_Disc.csv\")\n",
    "df_dem_enr_disc.head()\n",
    "df_dem_enr_disc.columns = ['Hawaiian/Pacific Islander', 'Native American/Alaskan', 'Asian', 'Two or More Races', 'Black', 'Hispanic', 'White']\n",
    "df_dem_enr_disc.index = ['Enrollment','Disciplinary Actions']\n"
   ]
  },
  {
   "cell_type": "code",
   "execution_count": null,
   "metadata": {
    "collapsed": false
   },
   "outputs": [],
   "source": [
    "df_dem_enr_disc.head()"
   ]
  },
  {
   "cell_type": "code",
   "execution_count": 33,
   "metadata": {
    "collapsed": false
   },
   "outputs": [
    {
     "ename": "NameError",
     "evalue": "name 'df_dem_enr_disc' is not defined",
     "output_type": "error",
     "traceback": [
      "\u001b[0;31m---------------------------------------------------------------------------\u001b[0m",
      "\u001b[0;31mNameError\u001b[0m                                 Traceback (most recent call last)",
      "\u001b[0;32m<ipython-input-33-82c8af2613ff>\u001b[0m in \u001b[0;36m<module>\u001b[0;34m()\u001b[0m\n\u001b[1;32m      2\u001b[0m \u001b[0;31m#colors = ['#247BA0', '#70C1B3', '#B2DBBF', '#F3FFBD', '#5E239D','#FF1654', '#FB5607']\u001b[0m\u001b[0;34m\u001b[0m\u001b[0;34m\u001b[0m\u001b[0m\n\u001b[1;32m      3\u001b[0m \u001b[0mcolors\u001b[0m \u001b[0;34m=\u001b[0m \u001b[0;34m[\u001b[0m\u001b[0;34m'#d73027'\u001b[0m\u001b[0;34m,\u001b[0m\u001b[0;34m'#ffffbf'\u001b[0m\u001b[0;34m,\u001b[0m\u001b[0;34m'#fc8d59'\u001b[0m\u001b[0;34m,\u001b[0m\u001b[0;34m'#fee090'\u001b[0m\u001b[0;34m,\u001b[0m\u001b[0;34m'#91bfdb'\u001b[0m\u001b[0;34m,\u001b[0m\u001b[0;34m'#4575b4'\u001b[0m\u001b[0;34m,\u001b[0m\u001b[0;34m'#e0f3f8'\u001b[0m\u001b[0;34m]\u001b[0m\u001b[0;34m\u001b[0m\u001b[0m\n\u001b[0;32m----> 4\u001b[0;31m \u001b[0max\u001b[0m \u001b[0;34m=\u001b[0m \u001b[0mdf_dem_enr_disc\u001b[0m\u001b[0;34m.\u001b[0m\u001b[0mplot\u001b[0m\u001b[0;34m(\u001b[0m\u001b[0mkind\u001b[0m\u001b[0;34m=\u001b[0m\u001b[0;34m'bar'\u001b[0m\u001b[0;34m,\u001b[0m \u001b[0mstacked\u001b[0m\u001b[0;34m=\u001b[0m\u001b[0;32mTrue\u001b[0m\u001b[0;34m,\u001b[0m\u001b[0mfigsize\u001b[0m \u001b[0;34m=\u001b[0m \u001b[0;34m(\u001b[0m\u001b[0;36m12\u001b[0m\u001b[0;34m,\u001b[0m\u001b[0;36m12\u001b[0m\u001b[0;34m)\u001b[0m\u001b[0;34m,\u001b[0m \u001b[0mlw\u001b[0m\u001b[0;34m=\u001b[0m\u001b[0;36m0\u001b[0m\u001b[0;34m,\u001b[0m \u001b[0mcolor\u001b[0m\u001b[0;34m=\u001b[0m\u001b[0mcolors\u001b[0m\u001b[0;34m,\u001b[0m \u001b[0mwidth\u001b[0m \u001b[0;34m=\u001b[0m \u001b[0;36m.35\u001b[0m\u001b[0;34m,\u001b[0m \u001b[0mlegend\u001b[0m\u001b[0;34m=\u001b[0m\u001b[0;32mTrue\u001b[0m\u001b[0;34m)\u001b[0m\u001b[0;34m\u001b[0m\u001b[0m\n\u001b[0m\u001b[1;32m      5\u001b[0m \u001b[0max\u001b[0m\u001b[0;34m.\u001b[0m\u001b[0mminorticks_on\u001b[0m\u001b[0;34m\u001b[0m\u001b[0m\n\u001b[1;32m      6\u001b[0m \u001b[0max\u001b[0m\u001b[0;34m.\u001b[0m\u001b[0mtick_params\u001b[0m\u001b[0;34m(\u001b[0m\u001b[0mwhich\u001b[0m\u001b[0;34m=\u001b[0m \u001b[0;34m'both'\u001b[0m\u001b[0;34m,\u001b[0m \u001b[0mtop\u001b[0m\u001b[0;34m=\u001b[0m \u001b[0;34m'off'\u001b[0m\u001b[0;34m,\u001b[0m \u001b[0mbottom\u001b[0m \u001b[0;34m=\u001b[0m \u001b[0;34m'off'\u001b[0m\u001b[0;34m,\u001b[0m \u001b[0mleft\u001b[0m \u001b[0;34m=\u001b[0m \u001b[0;34m'off'\u001b[0m\u001b[0;34m,\u001b[0m \u001b[0mright\u001b[0m \u001b[0;34m=\u001b[0m \u001b[0;34m'off'\u001b[0m\u001b[0;34m)\u001b[0m\u001b[0;34m\u001b[0m\u001b[0m\n",
      "\u001b[0;31mNameError\u001b[0m: name 'df_dem_enr_disc' is not defined"
     ]
    },
    {
     "data": {
      "image/png": "[encoded data removed]",
      "text/plain": [
       "<matplotlib.figure.Figure at 0x10c1fd748>"
      ]
     },
     "metadata": {},
     "output_type": "display_data"
    }
   ],
   "source": [
    "fig, ax = plt.subplots()\n",
    "#colors = ['#247BA0', '#70C1B3', '#B2DBBF', '#F3FFBD', '#5E239D','#FF1654', '#FB5607']\n",
    "colors = ['#d73027','#ffffbf','#fc8d59','#fee090','#91bfdb','#4575b4','#e0f3f8']\n",
    "ax = df_dem_enr_disc.plot(kind='bar', stacked=True,figsize = (12,12), lw=0, color=colors, width = .35, legend=True)\n",
    "ax.minorticks_on\n",
    "ax.tick_params(which= 'both', top= 'off', bottom = 'off', left = 'off', right = 'off')\n",
    "\n",
    "plt.savefig(\"stacked_enr_disc.pdf\",transparent=True)\n"
   ]
  },
  {
   "cell_type": "code",
   "execution_count": null,
   "metadata": {
    "collapsed": false
   },
   "outputs": [],
   "source": [
    "df_dem_enr_disc_f = pd.read_csv(\"female_discipline.csv\")\n",
    "df_dem_enr_disc_f.head()\n",
    "df_dem_enr_disc_f.columns = ['Hawaiian/Pacific Islander', 'Native American/Alaskan', 'Asian', 'Two or More Races', 'Black', 'Hispanic', 'White']\n",
    "df_dem_enr_disc_f.index = ['Enrollment','Disciplinary Actions']\n"
   ]
  },
  {
   "cell_type": "code",
   "execution_count": null,
   "metadata": {
    "collapsed": false
   },
   "outputs": [],
   "source": [
    "df_dem_enr_disc_f.head()"
   ]
  },
  {
   "cell_type": "code",
   "execution_count": 34,
   "metadata": {
    "collapsed": false
   },
   "outputs": [
    {
     "data": {
      "image/png": "[encoded data removed]",
      "text/plain": [
       "<matplotlib.figure.Figure at 0x10a6cf630>"
      ]
     },
     "metadata": {},
     "output_type": "display_data"
    },
    {
     "data": {
      "image/png": "[encoded data removed]",
      "text/plain": [
       "<matplotlib.figure.Figure at 0x10a6f3c50>"
      ]
     },
     "metadata": {},
     "output_type": "display_data"
    }
   ],
   "source": [
    "df_dem_enr_disc_f = pd.read_csv(\"femalediscsum.csv\")\n",
    "fig, ax = plt.subplots()\n",
    "\n",
    "colors = ['#8C50FF','#D330E5','#FF5714','#FFB800','#FFFF00','#6EEB83','#176FFC']\n",
    "ax = df_dem_enr_disc_f.plot(kind='bar', stacked=True,figsize = (12,12), lw=0, color=colors, width = .35, legend=True)\n",
    "ax.minorticks_on\n",
    "ax.tick_params(which= 'both', top= 'off', bottom = 'off', left = 'off', right = 'off')\n",
    "\n",
    "plt.savefig(\"stacked_enr_disc_f.pdf\",transparent=True)\n"
   ]
  },
  {
   "cell_type": "code",
   "execution_count": null,
   "metadata": {
    "collapsed": true
   },
   "outputs": [],
   "source": []
  }
 ],
 "metadata": {
  "kernelspec": {
   "display_name": "Python 3",
   "language": "python",
   "name": "python3"
  },
  "language_info": {
   "codemirror_mode": {
    "name": "ipython",
    "version": 3
   },
   "file_extension": ".py",
   "mimetype": "text/x-python",
   "name": "python",
   "nbconvert_exporter": "python",
   "pygments_lexer": "ipython3",
   "version": "3.5.1"
  }
 },
 "nbformat": 4,
 "nbformat_minor": 0
}

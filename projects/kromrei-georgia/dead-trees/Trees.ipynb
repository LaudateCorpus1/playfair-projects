{
 "cells": [
  {
   "cell_type": "code",
   "execution_count": 1,
   "metadata": {
    "collapsed": true
   },
   "outputs": [],
   "source": [
    "%matplotlib inline\n",
    "import pandas as pd\n",
    "import matplotlib\n",
    "import numpy as np\n",
    "import matplotlib.pyplot as plt\n",
    "matplotlib.rcParams['pdf.fonttype'] = 42\n",
    "matplotlib.rcParams['ps.fonttype'] = 42\n",
    "import statsmodels.formula.api as smf"
   ]
  },
  {
   "cell_type": "code",
   "execution_count": 2,
   "metadata": {
    "collapsed": false
   },
   "outputs": [],
   "source": [
    "df = pd.read_csv(\"2015_Street_Tree_Census_-_Tree_Data.csv\")"
   ]
  },
  {
   "cell_type": "code",
   "execution_count": 3,
   "metadata": {
    "collapsed": false
   },
   "outputs": [],
   "source": [
    "df['nta_name'].unique()\n",
    "list_nta = ['Greenpoint', 'Brighton Beach', 'Clinton', 'Hunts Point',\n",
    "       'Longwood', 'Melrose South-Mott Haven North',\n",
    "       'East Concourse-Concourse Village',\n",
    "       'Ft. Totten-Bay Terrace-Clearview', 'Upper East Side-Carnegie Hill',\n",
    "       'Arden Heights', 'West Brighton', 'Seagate-Coney Island',\n",
    "       'Soundview-Castle Hill-Clason Point-Harding Park', 'Elmhurst',\n",
    "       'North Corona', 'Jackson Heights', 'Springfield Gardens North',\n",
    "       'Stapleton-Rosebank', 'Baisley Park', 'Van Cortlandt Village',\n",
    "       'Spuyten Duyvil-Kingsbridge', 'Lincoln Square',\n",
    "       'Sheepshead Bay-Gerritsen Beach-Manhattan Beach', 'Whitestone',\n",
    "       'Murray Hill', 'Prospect Lefferts Gardens-Wingate', 'Co-op City',\n",
    "       \"Annadale-Huguenot-Prince's Bay-Eltingville\", 'Woodhaven',\n",
    "       'Rugby-Remsen Village', 'Elmhurst-Maspeth', 'Bayside-Bayside Hills',\n",
    "       'Flushing',\n",
    "       'Todt Hill-Emerson Hill-Heartland Village-Lighthouse Hill',\n",
    "       'park-cemetery-etc-Bronx', 'Flatbush', 'park-cemetery-etc-Queens',\n",
    "       'Corona', 'Queensboro Hill', 'Crown Heights North',\n",
    "       'Bedford Park-Fordham North', 'park-cemetery-etc-Brooklyn',\n",
    "       'Rego Park', 'Sunset Park East', 'park-cemetery-etc-Manhattan',\n",
    "       'Upper West Side', 'North Side-South Side',\n",
    "       'Washington Heights North', 'Pelham Parkway',\n",
    "       'Allerton-Pelham Gardens', 'East Tremont',\n",
    "       'Van Nest-Morris Park-Westchester Square',\n",
    "       'Pomonok-Flushing Heights-Hillcrest', 'East Flushing', 'Bronxdale',\n",
    "       'East Williamsburg', 'South Jamaica',\n",
    "       'West New Brighton-New Brighton-St. George', 'East Harlem South',\n",
    "       'Washington Heights South', 'Highbridge', 'Mount Hope',\n",
    "       'West Concourse', 'Windsor Terrace', 'Woodside', 'Bushwick North',\n",
    "       'Astoria', 'Williamsburg', 'Hunters Point-Sunnyside-West Maspeth',\n",
    "       'Queensbridge-Ravenswood-Long Island City', 'Port Richmond',\n",
    "       'Park Slope-Gowanus', 'Central Harlem South', 'Bedford',\n",
    "       'Kew Gardens', 'DUMBO-Vinegar Hill-Downtown Brooklyn-Boerum Hill',\n",
    "       'Brooklyn Heights-Cobble Hill', 'Parkchester', 'Bushwick South',\n",
    "       'Soundview-Bruckner', 'Stuyvesant Heights',\n",
    "       'Cypress Hills-City Line', 'Grymes Hill-Clifton-Fox Hills',\n",
    "       'New Brighton-Silver Lake', 'West Farms-Bronx River',\n",
    "       'College Point', 'Carroll Gardens-Columbia Street-Red Hook',\n",
    "       'Richmond Hill', 'Crotona Park East', 'Sunset Park West',\n",
    "       'Westchester-Unionport', 'Fort Greene', 'Ridgewood',\n",
    "       'SoHo-TriBeCa-Civic Center-Little Italy', 'Chinatown',\n",
    "       'Hammels-Arverne-Edgemere', 'Great Kills',\n",
    "       'Schuylerville-Throgs Neck-Edgewater Park', 'West Village',\n",
    "       'Steinway', 'Ocean Hill', 'Pelham Bay-Country Club-City Island',\n",
    "       'Canarsie', 'Prospect Heights',\n",
    "       'Hudson Yards-Chelsea-Flatiron-Union Square', 'Clinton Hill',\n",
    "       'Forest Hills', 'Woodlawn-Wakefield', 'Old Astoria',\n",
    "       'Turtle Bay-East Midtown', 'Airport',\n",
    "       'Springfield Gardens South-Brookville', 'Yorkville',\n",
    "       'East Elmhurst', 'Westerleigh', 'Bensonhurst East',\n",
    "       'East Flatbush-Farragut', 'Midtown-Midtown South',\n",
    "       'Lenox Hill-Roosevelt Island', 'Morrisania-Melrose', 'Gravesend',\n",
    "       'Grasmere-Arrochar-Ft. Wadsworth',\n",
    "       'Eastchester-Edenwald-Baychester', 'Hamilton Heights',\n",
    "       'Williamsbridge-Olinville', 'Morningside Heights',\n",
    "       'Old Town-Dongan Hills-South Beach', 'Brownsville', 'Maspeth',\n",
    "       'Madison', 'Glendale', 'Crown Heights South',\n",
    "       'Breezy Point-Belle Harbor-Rockaway Park-Broad Channel',\n",
    "       'North Riverdale-Fieldston-Riverdale', 'Gramercy', 'Bay Ridge',\n",
    "       'Battery Park City-Lower Manhattan', 'East Harlem North',\n",
    "       'Fresh Meadows-Utopia', 'Middle Village', 'Auburndale',\n",
    "       'Kew Gardens Hills', 'Norwood', 'Oakwood-Oakwood Beach',\n",
    "       'Oakland Gardens', 'Glen Oaks-Floral Park-New Hyde Park',\n",
    "       'Ozone Park', 'Marble Hill-Inwood', 'East Village',\n",
    "       'Stuyvesant Town-Cooper Village',\n",
    "       'Charleston-Richmond Valley-Tottenville', 'South Ozone Park',\n",
    "       'Midwood', 'Bensonhurst West', 'Homecrest',\n",
    "       'Jamaica Estates-Holliswood', 'Central Harlem North-Polo Grounds',\n",
    "       'Ocean Parkway South', 'New Springville-Bloomfield-Travis',\n",
    "       'Lindenwood-Howard Beach', 'Briarwood-Jamaica Hills', 'Belmont',\n",
    "       'Georgetown-Marine Park-Bergen Beach-Mill Basin', 'Rosedale',\n",
    "       \"Mariner's Harbor-Arlington-Port Ivory-Graniteville\",\n",
    "       'East New York', 'University Heights-Morris Heights', 'Flatlands',\n",
    "       'Kingsbridge Heights', 'Kensington-Ocean Parkway',\n",
    "       'Lower East Side', 'Fordham South', 'Claremont-Bathgate',\n",
    "       'Manhattanville', 'East New York (Pennsylvania Ave)',\n",
    "       'New Dorp-Midland Beach', 'Bath Beach', 'St. Albans', 'Hollis',\n",
    "       'Douglas Manor-Douglaston-Little Neck', 'Borough Park', 'Jamaica',\n",
    "       'Mott Haven-Port Morris', 'Cambria Heights', 'Laurelton',\n",
    "       'Bellerose', 'Murray Hill-Kips Bay', 'Starrett City',\n",
    "       'Queens Village', 'Dyker Heights', 'Far Rockaway-Bayswater',\n",
    "       'Rossville-Woodrow', 'Erasmus']"
   ]
  },
  {
   "cell_type": "code",
   "execution_count": 11,
   "metadata": {
    "collapsed": false
   },
   "outputs": [
    {
     "name": "stdout",
     "output_type": "stream",
     "text": [
      "Greenpoint , 119 , 4240 , 4359 , 2.806603773584906\n",
      "Brighton Beach , 95 , 972 , 1067 , 9.77366255144033\n",
      "Clinton , 124 , 1887 , 2011 , 6.571277159512453\n",
      "Hunts Point , 228 , 3273 , 3501 , 6.966086159486709\n",
      "Longwood , 96 , 1467 , 1563 , 6.5439672801636\n",
      "Melrose South-Mott Haven North , 159 , 1997 , 2156 , 7.961942914371558\n",
      "East Concourse-Concourse Village , 206 , 2237 , 2443 , 9.208761734465803\n",
      "Ft. Totten-Bay Terrace-Clearview , 30 , 546 , 576 , 5.4945054945054945\n",
      "Upper East Side-Carnegie Hill , 131 , 4080 , 4211 , 3.21078431372549\n",
      "Arden Heights , 251 , 6392 , 6643 , 3.9267834793491865\n",
      "West Brighton , 26 , 446 , 472 , 5.829596412556054\n",
      "Seagate-Coney Island , 138 , 1355 , 1493 , 10.184501845018449\n",
      "Soundview-Castle Hill-Clason Point-Harding Park , 107 , 3529 , 3636 , 3.0320204023802777\n",
      "Elmhurst , 135 , 3013 , 3148 , 4.48058413541321\n",
      "North Corona , 74 , 1482 , 1556 , 4.993252361673414\n",
      "Jackson Heights , 254 , 5773 , 6027 , 4.399792135804607\n",
      "Springfield Gardens North , 7 , 220 , 227 , 3.1818181818181817\n",
      "Stapleton-Rosebank , 210 , 3620 , 3830 , 5.801104972375691\n",
      "Baisley Park , 58 , 966 , 1024 , 6.004140786749482\n",
      "Van Cortlandt Village , 118 , 2170 , 2288 , 5.43778801843318\n",
      "Spuyten Duyvil-Kingsbridge , 86 , 1791 , 1877 , 4.80178671133445\n",
      "Lincoln Square , 56 , 2022 , 2078 , 2.7695351137487636\n",
      "Sheepshead Bay-Gerritsen Beach-Manhattan Beach , 345 , 4457 , 4802 , 7.740632712586942\n",
      "Whitestone , 91 , 1406 , 1497 , 6.472261735419631\n",
      "Murray Hill , 21 , 287 , 308 , 7.317073170731707\n",
      "Prospect Lefferts Gardens-Wingate , 22 , 422 , 444 , 5.213270142180095\n",
      "Co-op City , 72 , 2021 , 2093 , 3.5625927758535374\n",
      "Annadale-Huguenot-Prince's Bay-Eltingville , 415 , 11773 , 12188 , 3.5250148645205126\n",
      "Woodhaven , 34 , 493 , 527 , 6.896551724137931\n",
      "Rugby-Remsen Village , 20 , 311 , 331 , 6.430868167202572\n",
      "Elmhurst-Maspeth , 50 , 1115 , 1165 , 4.484304932735426\n",
      "Bayside-Bayside Hills , 193 , 4476 , 4669 , 4.311885612153709\n",
      "Flushing , 82 , 1334 , 1416 , 6.146926536731634\n",
      "Todt Hill-Emerson Hill-Heartland Village-Lighthouse Hill , 181 , 4401 , 4582 , 4.112701658713928\n",
      "park-cemetery-etc-Bronx , 102 , 1295 , 1397 , 7.876447876447877\n",
      "Flatbush , 137 , 3894 , 4031 , 3.5182331792501285\n",
      "park-cemetery-etc-Queens , 104 , 920 , 1024 , 11.304347826086957\n",
      "Corona , 90 , 1760 , 1850 , 5.113636363636364\n",
      "Queensboro Hill , 84 , 1158 , 1242 , 7.253886010362693\n",
      "Crown Heights North , 109 , 3474 , 3583 , 3.137593552101324\n",
      "Bedford Park-Fordham North , 97 , 1697 , 1794 , 5.715969357690041\n",
      "park-cemetery-etc-Brooklyn , 45 , 1219 , 1264 , 3.6915504511894994\n",
      "Rego Park , 121 , 2266 , 2387 , 5.339805825242718\n",
      "Sunset Park East , 46 , 798 , 844 , 5.764411027568922\n",
      "park-cemetery-etc-Manhattan , 18 , 1233 , 1251 , 1.4598540145985401\n",
      "Upper West Side , 160 , 5610 , 5770 , 2.8520499108734403\n",
      "North Side-South Side , 193 , 3047 , 3240 , 6.334099113882507\n",
      "Washington Heights North , 161 , 2410 , 2571 , 6.680497925311204\n",
      "Pelham Parkway , 130 , 2169 , 2299 , 5.99354541263255\n",
      "Allerton-Pelham Gardens , 242 , 3603 , 3845 , 6.716625034693312\n",
      "East Tremont , 124 , 2250 , 2374 , 5.511111111111111\n",
      "Van Nest-Morris Park-Westchester Square , 135 , 3001 , 3136 , 4.498500499833389\n",
      "Pomonok-Flushing Heights-Hillcrest , 39 , 1236 , 1275 , 3.1553398058252426\n",
      "East Flushing , 70 , 1162 , 1232 , 6.024096385542169\n",
      "Bronxdale , 136 , 1378 , 1514 , 9.869375907111756\n",
      "East Williamsburg , 113 , 1986 , 2099 , 5.689828801611279\n",
      "South Jamaica , 27 , 453 , 480 , 5.960264900662252\n",
      "West New Brighton-New Brighton-St. George , 205 , 3696 , 3901 , 5.546536796536797\n",
      "East Harlem South , 136 , 1750 , 1886 , 7.7714285714285705\n",
      "Washington Heights South , 192 , 2695 , 2887 , 7.124304267161411\n",
      "Highbridge , 172 , 1671 , 1843 , 10.293237582286057\n",
      "Mount Hope , 119 , 1881 , 2000 , 6.3264221158958\n",
      "West Concourse , 173 , 1923 , 2096 , 8.996359854394175\n",
      "Windsor Terrace , 40 , 1373 , 1413 , 2.9133284777858703\n",
      "Woodside , 43 , 1242 , 1285 , 3.462157809983897\n",
      "Bushwick North , 184 , 2732 , 2916 , 6.734992679355783\n",
      "Astoria , 143 , 3146 , 3289 , 4.545454545454546\n",
      "Williamsburg , 40 , 1330 , 1370 , 3.007518796992481\n",
      "Hunters Point-Sunnyside-West Maspeth , 195 , 4740 , 4935 , 4.113924050632911\n",
      "Queensbridge-Ravenswood-Long Island City , 46 , 1127 , 1173 , 4.081632653061225\n",
      "Port Richmond , 91 , 2839 , 2930 , 3.20535399788658\n",
      "Park Slope-Gowanus , 201 , 5676 , 5877 , 3.54122621564482\n",
      "Central Harlem South , 89 , 2485 , 2574 , 3.58148893360161\n",
      "Bedford , 95 , 3164 , 3259 , 3.002528445006321\n",
      "Kew Gardens , 60 , 1418 , 1478 , 4.231311706629055\n",
      "DUMBO-Vinegar Hill-Downtown Brooklyn-Boerum Hill , 102 , 2778 , 2880 , 3.6717062634989204\n",
      "Brooklyn Heights-Cobble Hill , 44 , 1591 , 1635 , 2.765556253928347\n",
      "Parkchester , 17 , 773 , 790 , 2.1992238033635187\n",
      "Bushwick South , 128 , 2981 , 3109 , 4.293861120429386\n",
      "Soundview-Bruckner , 53 , 1849 , 1902 , 2.8664142779881017\n",
      "Stuyvesant Heights , 57 , 2188 , 2245 , 2.6051188299817185\n",
      "Cypress Hills-City Line , 147 , 3384 , 3531 , 4.343971631205674\n",
      "Grymes Hill-Clifton-Fox Hills , 67 , 2423 , 2490 , 2.765167148163434\n",
      "New Brighton-Silver Lake , 94 , 3374 , 3468 , 2.7860106698280975\n",
      "West Farms-Bronx River , 90 , 1547 , 1637 , 5.817711700064641\n",
      "College Point , 135 , 2525 , 2660 , 5.346534653465347\n",
      "Carroll Gardens-Columbia Street-Red Hook , 160 , 3806 , 3966 , 4.203888596952181\n",
      "Richmond Hill , 98 , 1233 , 1331 , 7.948094079480941\n",
      "Crotona Park East , 79 , 1330 , 1409 , 5.939849624060151\n",
      "Sunset Park West , 47 , 1080 , 1127 , 4.351851851851852\n",
      "Westchester-Unionport , 111 , 2658 , 2769 , 4.17607223476298\n",
      "Fort Greene , 61 , 1804 , 1865 , 3.3813747228381374\n",
      "Ridgewood , 362 , 5747 , 6109 , 6.298938576648687\n",
      "SoHo-TriBeCa-Civic Center-Little Italy , 115 , 2100 , 2215 , 5.476190476190476\n",
      "Chinatown , 66 , 1402 , 1468 , 4.70756062767475\n",
      "Hammels-Arverne-Edgemere , 268 , 2724 , 2992 , 9.838472834067549\n",
      "Great Kills , 447 , 9552 , 9999 , 4.6796482412060305\n",
      "Schuylerville-Throgs Neck-Edgewater Park , 171 , 4833 , 5004 , 3.5381750465549344\n",
      "West Village , 122 , 3671 , 3793 , 3.3233451375646963\n",
      "Steinway , 209 , 4646 , 4855 , 4.498493327593629\n",
      "Ocean Hill , 36 , 960 , 996 , 3.75\n",
      "Pelham Bay-Country Club-City Island , 108 , 3019 , 3127 , 3.577343491222259\n",
      "Canarsie , 276 , 3919 , 4195 , 7.042612911457004\n",
      "Prospect Heights , 42 , 1370 , 1412 , 3.065693430656934\n",
      "Hudson Yards-Chelsea-Flatiron-Union Square , 191 , 2841 , 3032 , 6.722984864484337\n",
      "Clinton Hill , 100 , 2435 , 2535 , 4.1067761806981515\n",
      "Forest Hills , 325 , 6031 , 6356 , 5.388824407229316\n",
      "Woodlawn-Wakefield , 140 , 3818 , 3958 , 3.666841278156103\n",
      "Old Astoria , 61 , 1147 , 1208 , 5.3182214472537055\n",
      "Turtle Bay-East Midtown , 68 , 2162 , 2230 , 3.145235892691952\n",
      "Airport , 9 , 88 , 97 , 10.227272727272728\n",
      "Springfield Gardens South-Brookville , 75 , 1790 , 1865 , 4.189944134078212\n",
      "Yorkville , 136 , 2133 , 2269 , 6.37599624941397\n",
      "East Elmhurst , 74 , 1290 , 1364 , 5.736434108527131\n",
      "Westerleigh , 102 , 4601 , 4703 , 2.216909367528798\n",
      "Bensonhurst East , 60 , 2052 , 2112 , 2.923976608187134\n",
      "East Flatbush-Farragut , 34 , 546 , 580 , 6.227106227106227\n",
      "Midtown-Midtown South , 76 , 1136 , 1212 , 6.690140845070422\n",
      "Lenox Hill-Roosevelt Island , 112 , 2258 , 2370 , 4.9601417183348095\n",
      "Morrisania-Melrose , 149 , 2133 , 2282 , 6.985466479137366\n",
      "Gravesend , 54 , 970 , 1024 , 5.567010309278351\n",
      "Grasmere-Arrochar-Ft. Wadsworth , 49 , 2076 , 2125 , 2.3603082851637764\n",
      "Eastchester-Edenwald-Baychester , 206 , 2474 , 2680 , 8.326596604688763\n",
      "Hamilton Heights , 111 , 2299 , 2410 , 4.828186167899086\n",
      "Williamsbridge-Olinville , 169 , 3050 , 3219 , 5.540983606557377\n",
      "Morningside Heights , 107 , 2492 , 2599 , 4.293739967897271\n",
      "Old Town-Dongan Hills-South Beach , 135 , 4696 , 4831 , 2.874787052810903\n",
      "Brownsville , 67 , 1187 , 1254 , 5.644481887110362\n",
      "Maspeth , 37 , 609 , 646 , 6.075533661740558\n",
      "Madison , 174 , 2836 , 3010 , 6.1354019746121295\n",
      "Glendale , 61 , 531 , 592 , 11.487758945386064\n",
      "Crown Heights South , 8 , 499 , 507 , 1.6032064128256511\n",
      "Breezy Point-Belle Harbor-Rockaway Park-Broad Channel , 427 , 3308 , 3735 , 12.908101571946794\n",
      "North Riverdale-Fieldston-Riverdale , 100 , 1876 , 1976 , 5.330490405117271\n",
      "Gramercy , 47 , 1087 , 1134 , 4.323827046918123\n",
      "Bay Ridge , 45 , 1039 , 1084 , 4.331087584215592\n",
      "Battery Park City-Lower Manhattan , 46 , 1286 , 1332 , 3.576982892690513\n",
      "East Harlem North , 194 , 2403 , 2597 , 8.07324178110695\n",
      "Fresh Meadows-Utopia , 39 , 813 , 852 , 4.797047970479705\n",
      "Middle Village , 67 , 1297 , 1364 , 5.165767154973015\n",
      "Auburndale , 21 , 504 , 525 , 4.166666666666666\n",
      "Kew Gardens Hills , 20 , 601 , 621 , 3.3277870216306153\n",
      "Norwood , 92 , 1705 , 1797 , 5.395894428152493\n",
      "Oakwood-Oakwood Beach , 195 , 5211 , 5406 , 3.742084052964882\n",
      "Oakland Gardens , 37 , 670 , 707 , 5.522388059701493\n",
      "Glen Oaks-Floral Park-New Hyde Park , 39 , 775 , 814 , 5.032258064516129\n",
      "Ozone Park , 12 , 151 , 163 , 7.9470198675496695\n",
      "Marble Hill-Inwood , 78 , 1639 , 1717 , 4.758999389871873\n",
      "East Village , 69 , 1512 , 1581 , 4.563492063492063\n",
      "Stuyvesant Town-Cooper Village , 9 , 428 , 437 , 2.102803738317757\n",
      "Charleston-Richmond Valley-Tottenville , 273 , 7228 , 7501 , 3.776978417266187\n",
      "South Ozone Park , 40 , 669 , 709 , 5.9790732436472345\n",
      "Midwood , 145 , 2992 , 3137 , 4.846256684491978\n",
      "Bensonhurst West , 62 , 1420 , 1482 , 4.366197183098591\n",
      "Homecrest , 151 , 3385 , 3536 , 4.460856720827179\n",
      "Jamaica Estates-Holliswood , 56 , 1232 , 1288 , 4.545454545454546\n",
      "Central Harlem North-Polo Grounds , 160 , 3353 , 3513 , 4.771846107963018\n",
      "Ocean Parkway South , 64 , 2228 , 2292 , 2.872531418312388\n",
      "New Springville-Bloomfield-Travis , 266 , 7519 , 7785 , 3.5377044819789862\n",
      "Lindenwood-Howard Beach , 158 , 2386 , 2544 , 6.621961441743504\n",
      "Briarwood-Jamaica Hills , 12 , 234 , 246 , 5.128205128205128\n",
      "Belmont , 66 , 1413 , 1479 , 4.670912951167728\n",
      "Georgetown-Marine Park-Bergen Beach-Mill Basin , 113 , 3410 , 3523 , 3.3137829912023458\n",
      "Rosedale , 71 , 1981 , 2052 , 3.5840484603735483\n",
      "Mariner's Harbor-Arlington-Port Ivory-Graniteville , 172 , 3298 , 3470 , 5.215281989084294\n",
      "East New York , 429 , 9159 , 9588 , 4.683917458237799\n",
      "University Heights-Morris Heights , 143 , 1928 , 2071 , 7.41701244813278\n",
      "Flatlands , 165 , 2363 , 2528 , 6.9826491747778245\n",
      "Kingsbridge Heights , 76 , 1111 , 1187 , 6.840684068406841\n",
      "Kensington-Ocean Parkway , 51 , 1045 , 1096 , 4.8803827751196165\n",
      "Lower East Side , 96 , 1836 , 1932 , 5.228758169934641\n",
      "Fordham South , 58 , 970 , 1028 , 5.979381443298969\n",
      "Claremont-Bathgate , 105 , 1538 , 1643 , 6.827048114434331\n",
      "Manhattanville , 48 , 862 , 910 , 5.56844547563805\n",
      "East New York (Pennsylvania Ave) , 99 , 2856 , 2955 , 3.466386554621849\n",
      "New Dorp-Midland Beach , 114 , 5073 , 5187 , 2.247191011235955\n",
      "Bath Beach , 17 , 357 , 374 , 4.761904761904762\n",
      "St. Albans , 23 , 366 , 389 , 6.284153005464481\n",
      "Hollis , 14 , 161 , 175 , 8.695652173913043\n",
      "Douglas Manor-Douglaston-Little Neck , 73 , 1658 , 1731 , 4.402895054282268\n",
      "Borough Park , 63 , 1350 , 1413 , 4.666666666666667\n",
      "Jamaica , 15 , 154 , 169 , 9.740259740259742\n",
      "Mott Haven-Port Morris , 140 , 2365 , 2505 , 5.9196617336152215\n",
      "Cambria Heights , 22 , 259 , 281 , 8.494208494208493\n",
      "Laurelton , 35 , 470 , 505 , 7.446808510638298\n",
      "Bellerose , 138 , 2394 , 2532 , 5.764411027568922\n",
      "Murray Hill-Kips Bay , 85 , 1654 , 1739 , 5.139056831922612\n",
      "Starrett City , 4 , 330 , 334 , 1.2121212121212122\n",
      "Queens Village , 208 , 2598 , 2806 , 8.006158583525789\n",
      "Dyker Heights , 56 , 645 , 701 , 8.682170542635658\n",
      "Far Rockaway-Bayswater , 262 , 4719 , 4981 , 5.552023733841915\n",
      "Rossville-Woodrow , 387 , 8303 , 8690 , 4.660965915934\n",
      "Erasmus , 30 , 591 , 621 , 5.0761421319796955\n"
     ]
    }
   ],
   "source": [
    "for item in list_nta:\n",
    "    is_nta = df['nta_name']== item\n",
    "    is_dead = df['status']!= 'Alive'\n",
    "    is_alive = df['status'] == 'Alive'\n",
    "    total_trees = len(df[is_nta])\n",
    "    dead_trees = len(df[is_nta & is_dead])\n",
    "    alive_trees = len(df[is_nta & is_alive])\n",
    "    print(item,\",\",dead_trees,\",\", alive_trees,\",\", total_trees,\",\",dead_trees/alive_trees*100)"
   ]
  },
  {
   "cell_type": "code",
   "execution_count": 50,
   "metadata": {
    "collapsed": false
   },
   "outputs": [
    {
     "data": {
      "image/png": "[encoded data removed]",
      "text/plain": [
       "<matplotlib.figure.Figure at 0x112501780>"
      ]
     },
     "metadata": {},
     "output_type": "display_data"
    }
   ],
   "source": [
    "df = pd.read_csv(\"trees_dead_or_alive.csv\")\n",
    "\n",
    "df['proportion_dead'].describe()\n",
    "df.sort_values(by='proportion_dead', ascending=False)\n",
    "df.sort_values(by='Dead', ascending=False)\n",
    "\n",
    "df.plot(kind = 'scatter', x = 'proportion_dead', y ='Total', marker = 's', lw=0, color = 'g', alpha = .4, ylim = (0,14000), xlim= (0,15))\n",
    "\n",
    "#Label the outliers!!\n",
    "plt.annotate('Breezy Point-Belle Harbor-Rockaway Park-Broad', xy=(12.908102, 3735), xytext=(60,20), \n",
    "           textcoords='offset points', ha='center', va='top')\n",
    "plt.annotate('Glendale', xy=(11.487759,592), xytext=(30,5), textcoords='offset points', ha='center', va='top')\n",
    "plt.annotate('Park Cemetery Queens', xy=(11.304348,1024), xytext=(50,15), textcoords='offset points', ha='center', va='top')\n",
    "#Label those axes\n",
    "plt.xlabel('Percent Dead Trees')\n",
    "plt.ylabel('Total Tree Population')\n",
    "plt.title(\"Dead Trees and Population Size\")\n",
    "#Turn off those ticks!\n",
    "plt.tick_params(which='both',\n",
    "              top='off',\n",
    "              bottom='off',\n",
    "              left='off',\n",
    "              right='off')\n",
    "\n",
    "#I calculated IQR*1.5+75th percentile to find the outliers\n",
    "plt.axhline(y=2887.5+3137, lw=.3)\n",
    "plt.axvline(x=3.9523080000000004+6.326422, lw=.3)\n",
    "plt.savefig('Percent_Dead_Trees.pdf')"
   ]
  },
  {
   "cell_type": "code",
   "execution_count": 38,
   "metadata": {
    "collapsed": false
   },
   "outputs": [
    {
     "name": "stdout",
     "output_type": "stream",
     "text": [
      "count    193.000000\n",
      "mean       5.273565\n",
      "std        2.038542\n",
      "min        1.212121\n",
      "25%        3.691550\n",
      "50%        5.032258\n",
      "75%        6.326422\n",
      "max       12.908102\n",
      "Name: proportion_dead, dtype: float64\n"
     ]
    },
    {
     "data": {
      "text/html": [
       "<div>\n",
       "<table border=\"1\" class=\"dataframe\">\n",
       "  <thead>\n",
       "    <tr style=\"text-align: right;\">\n",
       "      <th></th>\n",
       "      <th>NTA</th>\n",
       "      <th>Dead</th>\n",
       "      <th>Alive</th>\n",
       "      <th>Total</th>\n",
       "      <th>proportion_dead</th>\n",
       "    </tr>\n",
       "  </thead>\n",
       "  <tbody>\n",
       "    <tr>\n",
       "      <th>36</th>\n",
       "      <td>park-cemetery-etc-Queens</td>\n",
       "      <td>104</td>\n",
       "      <td>920</td>\n",
       "      <td>1024</td>\n",
       "      <td>11.304348</td>\n",
       "    </tr>\n",
       "    <tr>\n",
       "      <th>130</th>\n",
       "      <td>Glendale</td>\n",
       "      <td>61</td>\n",
       "      <td>531</td>\n",
       "      <td>592</td>\n",
       "      <td>11.487759</td>\n",
       "    </tr>\n",
       "    <tr>\n",
       "      <th>132</th>\n",
       "      <td>Breezy Point-Belle Harbor-Rockaway Park-Broad ...</td>\n",
       "      <td>427</td>\n",
       "      <td>3308</td>\n",
       "      <td>3735</td>\n",
       "      <td>12.908102</td>\n",
       "    </tr>\n",
       "  </tbody>\n",
       "</table>\n",
       "</div>"
      ],
      "text/plain": [
       "                                                   NTA  Dead  Alive  Total  \\\n",
       "36                            park-cemetery-etc-Queens   104    920   1024   \n",
       "130                                           Glendale    61    531    592   \n",
       "132  Breezy Point-Belle Harbor-Rockaway Park-Broad ...   427   3308   3735   \n",
       "\n",
       "     proportion_dead  \n",
       "36         11.304348  \n",
       "130        11.487759  \n",
       "132        12.908102  "
      ]
     },
     "execution_count": 38,
     "metadata": {},
     "output_type": "execute_result"
    }
   ],
   "source": [
    "print(df['proportion_dead'].describe())\n",
    "(6.326422-3.691550)*1.5\n",
    "df[df['proportion_dead']>11]"
   ]
  },
  {
   "cell_type": "code",
   "execution_count": 31,
   "metadata": {
    "collapsed": false
   },
   "outputs": [
    {
     "data": {
      "text/plain": [
       "count      193.000000\n",
       "mean      2426.637306\n",
       "std       1893.541618\n",
       "min         97.000000\n",
       "25%       1212.000000\n",
       "50%       2011.000000\n",
       "75%       3137.000000\n",
       "max      12188.000000\n",
       "Name: Total, dtype: float64"
      ]
     },
     "execution_count": 31,
     "metadata": {},
     "output_type": "execute_result"
    }
   ],
   "source": [
    "df['Total'].describe()"
   ]
  },
  {
   "cell_type": "code",
   "execution_count": 77,
   "metadata": {
    "collapsed": false
   },
   "outputs": [
    {
     "data": {
      "text/html": [
       "<div>\n",
       "<table border=\"1\" class=\"dataframe\">\n",
       "  <thead>\n",
       "    <tr style=\"text-align: right;\">\n",
       "      <th></th>\n",
       "      <th>Dead</th>\n",
       "      <th>Alive</th>\n",
       "      <th>Total</th>\n",
       "      <th>proportion_dead</th>\n",
       "    </tr>\n",
       "  </thead>\n",
       "  <tbody>\n",
       "    <tr>\n",
       "      <th>Dead</th>\n",
       "      <td>1.000000</td>\n",
       "      <td>0.853228</td>\n",
       "      <td>0.865361</td>\n",
       "      <td>0.195874</td>\n",
       "    </tr>\n",
       "    <tr>\n",
       "      <th>Alive</th>\n",
       "      <td>0.853228</td>\n",
       "      <td>1.000000</td>\n",
       "      <td>0.999719</td>\n",
       "      <td>-0.238887</td>\n",
       "    </tr>\n",
       "    <tr>\n",
       "      <th>Total</th>\n",
       "      <td>0.865361</td>\n",
       "      <td>0.999719</td>\n",
       "      <td>1.000000</td>\n",
       "      <td>-0.220638</td>\n",
       "    </tr>\n",
       "    <tr>\n",
       "      <th>proportion_dead</th>\n",
       "      <td>0.195874</td>\n",
       "      <td>-0.238887</td>\n",
       "      <td>-0.220638</td>\n",
       "      <td>1.000000</td>\n",
       "    </tr>\n",
       "  </tbody>\n",
       "</table>\n",
       "</div>"
      ],
      "text/plain": [
       "                     Dead     Alive     Total  proportion_dead\n",
       "Dead             1.000000  0.853228  0.865361         0.195874\n",
       "Alive            0.853228  1.000000  0.999719        -0.238887\n",
       "Total            0.865361  0.999719  1.000000        -0.220638\n",
       "proportion_dead  0.195874 -0.238887 -0.220638         1.000000"
      ]
     },
     "execution_count": 77,
     "metadata": {},
     "output_type": "execute_result"
    }
   ],
   "source": [
    "df['proportion_dead'].describe()\n",
    "df.corr()"
   ]
  },
  {
   "cell_type": "code",
   "execution_count": 52,
   "metadata": {
    "collapsed": false
   },
   "outputs": [],
   "source": [
    "lm = smf.ols(formula=\"Total~Dead\",data=df).fit() #notice the formula regresses Y on X (Y~X)\n",
    "intercept, slope=lm.params"
   ]
  },
  {
   "cell_type": "code",
   "execution_count": 73,
   "metadata": {
    "collapsed": false
   },
   "outputs": [
    {
     "data": {
      "image/png": "[encoded data removed]",
      "text/plain": [
       "<matplotlib.figure.Figure at 0x1124e40b8>"
      ]
     },
     "metadata": {},
     "output_type": "display_data"
    }
   ],
   "source": [
    "ax = df.plot(kind = 'scatter', x = 'Dead', y = 'Total', marker = 's', lw = 0, alpha = .4, color = 'g',\n",
    "        ylim=(0,14000), xlim = (0,480),\n",
    "        title = 'Dead Trees vs. Tree Population Size')\n",
    "\n",
    "plt.plot(df[\"Dead\"],slope*df[\"Dead\"]+intercept,\"-\",color=\"red\", lw =1) #Create best fit line\n",
    "ax.tick_params(which='both',\n",
    "               top='off',\n",
    "               bottom='off',\n",
    "               right='off',\n",
    "               left='off')\n",
    "plt.annotate('Annadale-Huguenot-Princes Bay-Eltingville', xy=(415, 12188), xytext=(60,20), \n",
    "           textcoords='offset points', ha='center', va='top')\n",
    "plt.annotate('Great Kills', xy=(447,9999), xytext=(30,10), textcoords='offset points', ha='center', va='top')\n",
    "plt.annotate('East New York', xy=(429,9588), xytext=(40,0), textcoords='offset points', ha='center', va='top')\n",
    "plt.annotate('Breezy Point-Belle Harbor-Rockaway Park', xy = (427,3735), xytext=(20,20), textcoords='offset points', ha='center', va='top')\n",
    "plt.savefig('Dead_Trees_Pop.pdf')"
   ]
  },
  {
   "cell_type": "code",
   "execution_count": 72,
   "metadata": {
    "collapsed": false
   },
   "outputs": [
    {
     "data": {
      "text/html": [
       "<div>\n",
       "<table border=\"1\" class=\"dataframe\">\n",
       "  <thead>\n",
       "    <tr style=\"text-align: right;\">\n",
       "      <th></th>\n",
       "      <th>NTA</th>\n",
       "      <th>Dead</th>\n",
       "      <th>Alive</th>\n",
       "      <th>Total</th>\n",
       "      <th>proportion_dead</th>\n",
       "    </tr>\n",
       "  </thead>\n",
       "  <tbody>\n",
       "    <tr>\n",
       "      <th>27</th>\n",
       "      <td>Annadale-Huguenot-Prince's Bay-Eltingville</td>\n",
       "      <td>415</td>\n",
       "      <td>11773</td>\n",
       "      <td>12188</td>\n",
       "      <td>3.525015</td>\n",
       "    </tr>\n",
       "    <tr>\n",
       "      <th>96</th>\n",
       "      <td>Great Kills</td>\n",
       "      <td>447</td>\n",
       "      <td>9552</td>\n",
       "      <td>9999</td>\n",
       "      <td>4.679648</td>\n",
       "    </tr>\n",
       "    <tr>\n",
       "      <th>132</th>\n",
       "      <td>Breezy Point-Belle Harbor-Rockaway Park-Broad ...</td>\n",
       "      <td>427</td>\n",
       "      <td>3308</td>\n",
       "      <td>3735</td>\n",
       "      <td>12.908102</td>\n",
       "    </tr>\n",
       "    <tr>\n",
       "      <th>165</th>\n",
       "      <td>East New York</td>\n",
       "      <td>429</td>\n",
       "      <td>9159</td>\n",
       "      <td>9588</td>\n",
       "      <td>4.683917</td>\n",
       "    </tr>\n",
       "  </tbody>\n",
       "</table>\n",
       "</div>"
      ],
      "text/plain": [
       "                                                   NTA  Dead  Alive  Total  \\\n",
       "27          Annadale-Huguenot-Prince's Bay-Eltingville   415  11773  12188   \n",
       "96                                         Great Kills   447   9552   9999   \n",
       "132  Breezy Point-Belle Harbor-Rockaway Park-Broad ...   427   3308   3735   \n",
       "165                                      East New York   429   9159   9588   \n",
       "\n",
       "     proportion_dead  \n",
       "27          3.525015  \n",
       "96          4.679648  \n",
       "132        12.908102  \n",
       "165         4.683917  "
      ]
     },
     "execution_count": 72,
     "metadata": {},
     "output_type": "execute_result"
    }
   ],
   "source": [
    "df[df['Dead']>400]"
   ]
  },
  {
   "cell_type": "code",
   "execution_count": 74,
   "metadata": {
    "collapsed": false
   },
   "outputs": [
    {
     "data": {
      "text/plain": [
       "count    193.000000\n",
       "mean     113.186528\n",
       "std       86.134261\n",
       "min        4.000000\n",
       "25%       51.000000\n",
       "50%       96.000000\n",
       "75%      147.000000\n",
       "max      447.000000\n",
       "Name: Dead, dtype: float64"
      ]
     },
     "execution_count": 74,
     "metadata": {},
     "output_type": "execute_result"
    }
   ],
   "source": [
    "#Pull some basic statistics on dead trees\n",
    "df['Dead'].describe()"
   ]
  },
  {
   "cell_type": "code",
   "execution_count": null,
   "metadata": {
    "collapsed": false
   },
   "outputs": [],
   "source": [
    "df.columns"
   ]
  },
  {
   "cell_type": "code",
   "execution_count": null,
   "metadata": {
    "collapsed": false
   },
   "outputs": [],
   "source": [
    "#Done with that, now I'd like to look at those few outliers more closely, so I read in the DF again."
   ]
  },
  {
   "cell_type": "code",
   "execution_count": 79,
   "metadata": {
    "collapsed": false
   },
   "outputs": [],
   "source": [
    "df = pd.read_csv(\"2015_Street_Tree_Census_-_Tree_Data.csv\")"
   ]
  },
  {
   "cell_type": "code",
   "execution_count": 80,
   "metadata": {
    "collapsed": false
   },
   "outputs": [],
   "source": [
    "df.columns\n",
    "df['dummy'] = df['status'].apply(lambda x: 0 if x == 'Dead' or x=='Stump' else 1)\n",
    "\n",
    "#These are the NTAs I want to look at\n",
    "df_outliers = df[(df['nta_name'] == 'East New York') | (df['nta_name'] == 'Highbridge')\n",
    "   | (df['nta_name'] == 'Annadale-Huguenot-Princes Bay-Eltingville') | (df['nta_name'] == 'Seagate')\n",
    "  | (df['nta_name'] == 'Highbridge') | (df['nta_name'] == 'Airport')]"
   ]
  },
  {
   "cell_type": "code",
   "execution_count": 97,
   "metadata": {
    "collapsed": false
   },
   "outputs": [
    {
     "data": {
      "text/plain": [
       "0.3446591265765756"
      ]
     },
     "execution_count": 97,
     "metadata": {},
     "output_type": "execute_result"
    }
   ],
   "source": [
    "df_deads = df_outliers[df_outliers['dummy'] == 0]\n",
    "df.columns\n",
    "len(df[df['user_type'] == 'Volunteer'])/len(df)"
   ]
  },
  {
   "cell_type": "code",
   "execution_count": null,
   "metadata": {
    "collapsed": false
   },
   "outputs": [],
   "source": [
    "#So, I'm pretty sad because it looks like this data does not show the species names of dead or stumped trees."
   ]
  },
  {
   "cell_type": "code",
   "execution_count": 95,
   "metadata": {
    "collapsed": false
   },
   "outputs": [
    {
     "data": {
      "text/plain": [
       "Platanus x acerifolia                 51890\n",
       "Gleditsia triacanthos var. inermis    49198\n",
       "Pyrus calleryana                      45092\n",
       "Quercus palustris                     34555\n",
       "Zelkova serrata                       21050\n",
       "Tilia cordata                         19826\n",
       "Prunus                                19025\n",
       "Acer platanoides                      18682\n",
       "Ginkgo biloba                         15804\n",
       "Styphnolobium japonicum               14976\n",
       "Acer rubrum                           12790\n",
       "Fraxinus pennsylvanica                10871\n",
       "Tilia americana                        9412\n",
       "Liquidambar styraciflua                8022\n",
       "Acer saccharinum                       7226\n",
       "Ulmus americana                        6344\n",
       "Quercus rubra                          5856\n",
       "Acer                                   4823\n",
       "Quercus bicolor                        4752\n",
       "Prunus cerasifera                      4609\n",
       "Tilia tomentosa                        4445\n",
       "Ulmus parvifolia                       4308\n",
       "Prunus virginiana                      3464\n",
       "Syringa reticulata                     3275\n",
       "Acer platanoides 'Crimson King'        3166\n",
       "Koelreuteria paniculata                2752\n",
       "Cercis canadensis                      2727\n",
       "Gymnocladus dioicus                    2519\n",
       "Malus                                  2503\n",
       "Quercus phellos                        2451\n",
       "                                      ...  \n",
       "Sassafras albidum                       103\n",
       "Ilex                                     96\n",
       "Magnolia grandiflora                     89\n",
       "Acer nigrum                              87\n",
       "Picea pungens                            84\n",
       "Fagus sylvatica                          77\n",
       "Chamaecyparis pisifera                   69\n",
       "Pinus resinosa                           67\n",
       "Tsuga canadensis                         66\n",
       "Populus grandidentata                    64\n",
       "Carya glabra                             63\n",
       "Quercus falcata                          61\n",
       "Aesculus glabra                          58\n",
       "Aesculus x carnea                        55\n",
       "Populus tremuloides                      55\n",
       "Acer buergerianum                        51\n",
       "Cedrus deodara                           50\n",
       "Pseudotsuga menziesii                    49\n",
       "Acer negundo                             45\n",
       "Cedrus atlantica                         44\n",
       "Acer truncatum                           42\n",
       "Alnus glutinosa                          37\n",
       "Larix laricina                           36\n",
       "Pinus nigra                              29\n",
       "Pinus rigida                             29\n",
       "Maclura pomifera                         22\n",
       "Pinus sylvestris                         19\n",
       "Cotinus coggygria                        18\n",
       "Pinus virginiana                          9\n",
       "                                          1\n",
       "Name: spc_latin, dtype: int64"
      ]
     },
     "execution_count": 95,
     "metadata": {},
     "output_type": "execute_result"
    }
   ],
   "source": [
    "df[df['dummy'] == 1]['spc_latin'].value_counts()"
   ]
  },
  {
   "cell_type": "code",
   "execution_count": null,
   "metadata": {
    "collapsed": true
   },
   "outputs": [],
   "source": []
  }
 ],
 "metadata": {
  "kernelspec": {
   "display_name": "Python 3",
   "language": "python",
   "name": "python3"
  },
  "language_info": {
   "codemirror_mode": {
    "name": "ipython",
    "version": 3
   },
   "file_extension": ".py",
   "mimetype": "text/x-python",
   "name": "python",
   "nbconvert_exporter": "python",
   "pygments_lexer": "ipython3",
   "version": "3.5.1"
  }
 },
 "nbformat": 4,
 "nbformat_minor": 0
}

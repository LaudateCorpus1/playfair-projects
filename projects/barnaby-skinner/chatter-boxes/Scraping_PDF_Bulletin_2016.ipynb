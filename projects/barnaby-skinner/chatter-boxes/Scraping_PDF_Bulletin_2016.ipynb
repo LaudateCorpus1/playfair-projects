{
 "cells": [
  {
   "cell_type": "markdown",
   "metadata": {},
   "source": [
    "# PDF Scraper of Bulletin   "
   ]
  },
  {
   "cell_type": "code",
   "execution_count": 1,
   "metadata": {
    "collapsed": false
   },
   "outputs": [],
   "source": [
    "#!pip install PyPDF2\n",
    "# FRÜHJAHRSSESSION 2016, 28. Febr. - 17. Mrz. 2016, 88 - 655"
   ]
  },
  {
   "cell_type": "code",
   "execution_count": 2,
   "metadata": {
    "collapsed": false
   },
   "outputs": [
    {
     "data": {
      "text/plain": [
       "'08-Aug-04'"
      ]
     },
     "execution_count": 2,
     "metadata": {},
     "output_type": "execute_result"
    }
   ],
   "source": [
    "import PyPDF2\n",
    "import re\n",
    "import pandas as pd\n",
    "import numpy as np\n",
    "import matplotlib.pyplot as plt\n",
    "import matplotlib\n",
    "\n",
    "plt.style.use('ggplot')\n",
    "import dateutil.parser\n",
    "import re\n",
    "import time\n",
    "\n",
    "%matplotlib inline\n",
    "matplotlib.rcParams['pdf.fonttype'] = 42\n",
    "matplotlib.rcParams['ps.fonttype'] = 42\n",
    "datestring = time.strftime(\"%m-%h-%d\")\n",
    "datestring"
   ]
  },
  {
   "cell_type": "markdown",
   "metadata": {},
   "source": [
    "# Getting all the pages"
   ]
  },
  {
   "cell_type": "code",
   "execution_count": 3,
   "metadata": {
    "collapsed": false
   },
   "outputs": [],
   "source": [
    "pdfFileObj = open('NR_5002_1603.pdf', 'rb')     #'rb' for read binary mode\n",
    "pdfReader = PyPDF2.PdfFileReader(pdfFileObj)\n",
    "pdfReader.numPages\n",
    "\n",
    "get_page = 88  #500\n",
    "whole_Text_FrSe = ''\n",
    "\n",
    "for page in range(88, 650):  #88 #650\n",
    "    pageObj = pdfReader.getPage(get_page) \n",
    "    Page = pageObj.extractText()\n",
    "    get_page += 1\n",
    "    whole_Text_FrSe = whole_Text_FrSe + Page"
   ]
  },
  {
   "cell_type": "code",
   "execution_count": 4,
   "metadata": {
    "collapsed": true
   },
   "outputs": [],
   "source": [
    "pdfFileObj = open('NR_5003_1604.pdf', 'rb')     #'rb' for read binary mode\n",
    "pdfReader = PyPDF2.PdfFileReader(pdfFileObj)\n",
    "pdfReader.numPages\n",
    "\n",
    "get_page = 22\n",
    "whole_Text_SonSe = ''\n",
    "\n",
    "for page in range(22, 158):  #0 26\n",
    "    pageObj = pdfReader.getPage(get_page) \n",
    "    Page = pageObj.extractText()\n",
    "    get_page += 1\n",
    "    whole_Text_SonSe = whole_Text_SonSe + Page"
   ]
  },
  {
   "cell_type": "code",
   "execution_count": 5,
   "metadata": {
    "collapsed": true
   },
   "outputs": [],
   "source": [
    "pdfFileObj = open('Bulletin_Sommersession_NR_5004_1606.pdf', 'rb')     #'rb' for read binary mode\n",
    "pdfReader = PyPDF2.PdfFileReader(pdfFileObj)\n",
    "pdfReader.numPages\n",
    "\n",
    "get_page = 80\n",
    "whole_Text_SomSe = ''\n",
    "\n",
    "for page in range(80, 587):  #0 26\n",
    "    pageObj = pdfReader.getPage(get_page) \n",
    "    Page = pageObj.extractText()\n",
    "    get_page += 1\n",
    "    whole_Text_SomSe = whole_Text_SomSe + Page"
   ]
  },
  {
   "cell_type": "code",
   "execution_count": 6,
   "metadata": {
    "collapsed": true
   },
   "outputs": [],
   "source": [
    "whole_Text = whole_Text_FrSe + whole_Text_SonSe + whole_Text_SomSe"
   ]
  },
  {
   "cell_type": "markdown",
   "metadata": {},
   "source": [
    "# Prepping the String"
   ]
  },
  {
   "cell_type": "code",
   "execution_count": 7,
   "metadata": {
    "collapsed": false
   },
   "outputs": [],
   "source": [
    "#Removing Zwischenrufe der Präsidentin\n",
    "whole_Text = whole_Text.replace('(Zwischenruf', \"\") \n",
    "#Getting rid of \\n, makes search through the document more difficult, because I can't use \".\" to find different characters\n",
    "whole_Text = whole_Text.replace('\\n', \" \")\n",
    "#Getting rid of double spaces\n",
    "whole_Text = whole_Text.replace('  ', \" \")\n",
    "#Getting rid of '  -' spaces\n",
    "whole_Text = whole_Text.replace('  -', \" \")\n",
    "#Getting rid of '  -' spaces\n",
    "whole_Text = whole_Text.replace('-  ', \" \")\n",
    "#Getting rid of '- ' spaces\n",
    "whole_Text = whole_Text.replace('- ', \" \")\n",
    "#Getting rid of ' -' spaces\n",
    "whole_Text = whole_Text.replace(' -', \" \")\n",
    "#Formating –\n",
    "whole_Text = whole_Text.replace('Œ', \"–\") \n",
    "#Headers and bottom of the page\n",
    "#Bulletin officiel de l’Assemblée fédérale\n",
    "whole_Text = whole_Text.replace('Bulletin officiel de l™Assemblée fédérale', \" \")\n",
    "#Bulletin officiel de l’Assemblée fédérale\n",
    "whole_Text = whole_Text.replace('Amtliches Bulletin der Bundesversammlung', \" \") \n",
    "#Removing confusing brackets\n",
    "whole_Text = whole_Text.replace('(GE,JU, VS, TI)', '').replace('(GE, JU, VS, TI)','')\n",
    "whole_Text = whole_Text.replace('(LU, SZ, GL, SO, BS, AI).', '')\n",
    "#Removing page headers\n",
    "whole_Text = whole_Text.replace('           Conseil national', '')\n",
    "whole_Text = whole_Text.replace('Nationalrat           ', '')\n",
    "#Deleting more brakets\n",
    "whole_Text = re.sub(r'\\([1-9]+\\.[1-9]+\\)', '', whole_Text) #(12.502)\n",
    "whole_Text = re.sub(r'\\(\\s*[A-Z][a-z][A-Za-z]+\\s*\\)', '', whole_Text) #(KdK) #(Munz) #(Walter)\n",
    "whole_Text = re.sub(r'\\(\\s*[A-Z][A-Z][A-Z]+\\s*\\)', '', whole_Text) #(KKK ) \n",
    "whole_Text = re.sub(r'\\([A-Z[a-z]+\\s*[A-Z[a-z]+\\)', '', whole_Text) #(Erich Hess)\n",
    "whole_Text = whole_Text.replace('\\(Aktienrecht\\)', '') #(Aktienrecht)"
   ]
  },
  {
   "cell_type": "markdown",
   "metadata": {},
   "source": [
    "# Working on the Regular Expressions to extract the information"
   ]
  },
  {
   "cell_type": "code",
   "execution_count": 8,
   "metadata": {
    "collapsed": false
   },
   "outputs": [
    {
     "data": {
      "text/plain": [
       "2423"
      ]
     },
     "execution_count": 8,
     "metadata": {},
     "output_type": "execute_result"
    }
   ],
   "source": [
    "#Finding everthing in brackets, i.e. '(GL, AG)'\n",
    "Partei_Kanton = re.findall(r\"\\([A-Z]+, [A-Z][A-Z]\\)\", whole_Text)\n",
    "len(Partei_Kanton)"
   ]
  },
  {
   "cell_type": "code",
   "execution_count": 9,
   "metadata": {
    "collapsed": false
   },
   "outputs": [
    {
     "data": {
      "text/plain": [
       "2423"
      ]
     },
     "execution_count": 9,
     "metadata": {},
     "output_type": "execute_result"
    }
   ],
   "source": [
    "#Get name from before the pattern (XY, XY), using the negavitve outlook:\n",
    "#http://stackoverflow.com/questions/31713623/search-in-a-string-and-obtain-the-2-words-before-and-after-the-match-in-python\n",
    "Personen_name = re.findall(r'\\w*\\s*\\w+\\b\\s+\\b[-\\w|\\w]+(?=\\s*\\([A-Z]+, [A-Z][A-Z]\\))', whole_Text)\n",
    "len(Personen_name)"
   ]
  },
  {
   "cell_type": "code",
   "execution_count": 10,
   "metadata": {
    "collapsed": false
   },
   "outputs": [
    {
     "data": {
      "text/plain": [
       "2423"
      ]
     },
     "execution_count": 10,
     "metadata": {},
     "output_type": "execute_result"
    }
   ],
   "source": [
    "#Getting the whole text\n",
    "Text = re.findall(r\"[A-Z],\\s+[A-Z][A-Z]\\)(.*?)(Leuthard Doris|Sommaruga Simonetta|Schneider-Ammann Johann|Maurer Ueli|Burkhalter Didier|Berset Alain|Parmelin Guy|\\w*\\.Leuthard Doris|\\w*\\.Sommaruga Simonetta|\\w*\\.Schneider-Ammann Johann|\\w*\\.Maurer Ueli|\\w*\\.Burkhalter Didier|\\w*\\.Berset Alain|\\w*\\.Parmelin Guy|\\()\", whole_Text)\n",
    "#Removing empty lists\n",
    "Text = list(filter(None, Text))\n",
    "#BEcause it also captures the Bundesrats name, when I don't want it two, I have unpack the lists\n",
    "Text = ([ a for a,b in Text ], [ b for a,b in Text ])\n",
    "#And then only take the first list\n",
    "Text = Text[0]\n",
    "len(Text)"
   ]
  },
  {
   "cell_type": "code",
   "execution_count": 11,
   "metadata": {
    "collapsed": false
   },
   "outputs": [],
   "source": [
    "#for testing, because in the test the last text will never be included\n",
    "#Partei_Kanton.pop()"
   ]
  },
  {
   "cell_type": "code",
   "execution_count": 12,
   "metadata": {
    "collapsed": false
   },
   "outputs": [],
   "source": [
    "#for testing, because in the test the last text will never be included\n",
    "#Personen_name.pop()"
   ]
  },
  {
   "cell_type": "code",
   "execution_count": 13,
   "metadata": {
    "collapsed": true
   },
   "outputs": [],
   "source": [
    "def delete_Bundesrat(List):\n",
    "    for x in List:\n",
    "        x = re.sub(r'Simonetta Sommaruga,.*?$', '', x)\n",
    "        x = re.sub(r'Maurer Ueli,.*?$', '', x) \n",
    "        x = re.sub(r'Leuthard Doris,.*?$', '', x) \n",
    "        x = re.sub(r'Burkhalter Didier,.*?$', '', x)\n",
    "        x = re.sub(r'Berset Alain,.*?$', '', x)\n",
    "        x = re.sub(r'Parmelin Guy,.*?$', '', x)\n",
    "        return x"
   ]
  },
  {
   "cell_type": "code",
   "execution_count": 15,
   "metadata": {
    "collapsed": false
   },
   "outputs": [
    {
     "data": {
      "text/plain": [
       "\", pour le Bureau : Le Bureau a cons taté que l'élection de Madame Alice Glauser-Zufferey, née le 18 octobre 1954, originaire de Champvent dans le canton de Vaud et de Rüti bei Lyssach dans le canton de Berne, domi ciliée à Champvent, a été validée. Madame Glauser rem place Monsieur Guy Parmelin, élu au Conseil fédéral. Madame Glauser est la première des viennent-ensuite de la liste no 14 «UDC Vaud». Elle est paysanne et a siégé au Conseil national lors de la 48e législature. Le Conseil d'Etat du canton de Vaud l'a proclamée élue par arrêté du 16 dé cembre 2015. La publication a été faite dans la Feuille des avis officiels du canton de Vaud no 101 du 18 décembre 2015.Sur la base des indications communiquées par Madame Glauser, le Bureau n'a identifié aucune activité incompatible avec l'exercice d'un mandat parlementaire au sens de l'ar ticle 144 de la Constitution fédérale et de l'article 14 de la loi 14.095      Conseil national229 février 2016   sur le Parlement. Il propose dès lors de constater formelle ment l'élection de Madame Glauser-Zufferey. Präsidentin \""
      ]
     },
     "execution_count": 15,
     "metadata": {},
     "output_type": "execute_result"
    }
   ],
   "source": [
    "delete_Bundesrat(Text)"
   ]
  },
  {
   "cell_type": "code",
   "execution_count": 16,
   "metadata": {
    "collapsed": true
   },
   "outputs": [],
   "source": [
    "def delete_Bundesrat2(List):\n",
    "    for x in List:\n",
    "        return x.replace('Bei diesem Block 2', '')"
   ]
  },
  {
   "cell_type": "code",
   "execution_count": 18,
   "metadata": {
    "collapsed": false
   },
   "outputs": [
    {
     "data": {
      "text/plain": [
       "\", pour le Bureau : Le Bureau a cons taté que l'élection de Madame Alice Glauser-Zufferey, née le 18 octobre 1954, originaire de Champvent dans le canton de Vaud et de Rüti bei Lyssach dans le canton de Berne, domi ciliée à Champvent, a été validée. Madame Glauser rem place Monsieur Guy Parmelin, élu au Conseil fédéral. Madame Glauser est la première des viennent-ensuite de la liste no 14 «UDC Vaud». Elle est paysanne et a siégé au Conseil national lors de la 48e législature. Le Conseil d'Etat du canton de Vaud l'a proclamée élue par arrêté du 16 dé cembre 2015. La publication a été faite dans la Feuille des avis officiels du canton de Vaud no 101 du 18 décembre 2015.Sur la base des indications communiquées par Madame Glauser, le Bureau n'a identifié aucune activité incompatible avec l'exercice d'un mandat parlementaire au sens de l'ar ticle 144 de la Constitution fédérale et de l'article 14 de la loi 14.095      Conseil national229 février 2016   sur le Parlement. Il propose dès lors de constater formelle ment l'élection de Madame Glauser-Zufferey. Präsidentin \""
      ]
     },
     "execution_count": 18,
     "metadata": {},
     "output_type": "execute_result"
    }
   ],
   "source": [
    "delete_Bundesrat2(Text)"
   ]
  },
  {
   "cell_type": "code",
   "execution_count": 19,
   "metadata": {
    "collapsed": false
   },
   "outputs": [],
   "source": [
    "#Starting Dictionary\n",
    "Dict_List = []\n",
    "Dict_Text = []\n",
    "for Partei_Kanton, Name, Talk in zip(Partei_Kanton, Personen_name, Text):\n",
    "        \n",
    "        #Getting Partei\n",
    "        Partei = re.search(r'[A-Z]+,', Partei_Kanton)\n",
    "        Partei = Partei.group().replace(',', '')\n",
    "    \n",
    "        #Getting Kanton\n",
    "        Kanton = re.search(r', [A-Z][A-Z]', Partei_Kanton)\n",
    "        Kanton = Kanton.group().replace(', ', '')\n",
    "        \n",
    "        #Getting Name\n",
    "        Name = Name.replace('  ', ' ').strip()\n",
    "        Name = Name.replace('16 ', '')\n",
    "        Name = re.sub(r'[0-9]*', '', Name).strip()\n",
    "        \n",
    "        #Sometimes the Regex grabs words is should, so I am filtering them out here. Not ideal though.\n",
    "        Name = Name.replace('motion', '').replace('fédérale', '').replace('Etats', '').replace('postulat', '').replace('initiative', '').replace('Maintenir', '').replace('sports', '').replace('finances', '').replace('Biffer', '').strip()\n",
    "        Name = Name.replace('matière ', '').replace('renvoi', '').replace('intérieur ', '').strip()\n",
    "        \n",
    "        #I still need to get rid of name at the end of each talk:\n",
    "        #Talk\n",
    "        \n",
    "        #Getting lenght of talk\n",
    "        Talk_len = len(Talk)\n",
    "    \n",
    "        Dict = {'Partei': Partei,\n",
    "               'Kanton': Kanton,\n",
    "               'Name': Name,\n",
    "                'Reden_Länge': Talk_len\n",
    "               }\n",
    "        \n",
    "        Text_Book = {'Partei': Partei,\n",
    "               'Kanton': Kanton,\n",
    "               'Name': Name,\n",
    "                'Reden': Talk,\n",
    "                'Reden_Länge': Talk_len\n",
    "               }\n",
    "        Dict_List.append(Dict)\n",
    "        Dict_Text.append(Text_Book)"
   ]
  },
  {
   "cell_type": "markdown",
   "metadata": {},
   "source": [
    "# Working with the Dataframe"
   ]
  },
  {
   "cell_type": "code",
   "execution_count": 167,
   "metadata": {
    "collapsed": true
   },
   "outputs": [],
   "source": [
    "#Making the DataFrame for politicians & \n",
    "df = pd.DataFrame(Dict_List)"
   ]
  },
  {
   "cell_type": "code",
   "execution_count": 168,
   "metadata": {
    "collapsed": true
   },
   "outputs": [],
   "source": [
    "#Making DataFrame to look up texts\n",
    "df_Text = pd.DataFrame(Dict_Text)"
   ]
  },
  {
   "cell_type": "code",
   "execution_count": 169,
   "metadata": {
    "collapsed": false
   },
   "outputs": [
    {
     "data": {
      "text/html": [
       "<div>\n",
       "<table border=\"1\" class=\"dataframe\">\n",
       "  <thead>\n",
       "    <tr style=\"text-align: right;\">\n",
       "      <th></th>\n",
       "      <th>Kanton</th>\n",
       "      <th>Name</th>\n",
       "      <th>Partei</th>\n",
       "      <th>Reden_Länge</th>\n",
       "    </tr>\n",
       "  </thead>\n",
       "  <tbody>\n",
       "    <tr>\n",
       "      <th>0</th>\n",
       "      <td>VD</td>\n",
       "      <td>Nordmann Roger</td>\n",
       "      <td>S</td>\n",
       "      <td>1077</td>\n",
       "    </tr>\n",
       "    <tr>\n",
       "      <th>1</th>\n",
       "      <td>BE</td>\n",
       "      <td>Bertschy Kathrin</td>\n",
       "      <td>GL</td>\n",
       "      <td>7487</td>\n",
       "    </tr>\n",
       "    <tr>\n",
       "      <th>2</th>\n",
       "      <td>FR</td>\n",
       "      <td>Rime Jean-François</td>\n",
       "      <td>V</td>\n",
       "      <td>2353</td>\n",
       "    </tr>\n",
       "    <tr>\n",
       "      <th>3</th>\n",
       "      <td>VD</td>\n",
       "      <td>Schwaab Jean Christophe</td>\n",
       "      <td>S</td>\n",
       "      <td>425</td>\n",
       "    </tr>\n",
       "    <tr>\n",
       "      <th>4</th>\n",
       "      <td>FR</td>\n",
       "      <td>Rime Jean-François</td>\n",
       "      <td>V</td>\n",
       "      <td>597</td>\n",
       "    </tr>\n",
       "  </tbody>\n",
       "</table>\n",
       "</div>"
      ],
      "text/plain": [
       "  Kanton                     Name Partei  Reden_Länge\n",
       "0     VD           Nordmann Roger      S         1077\n",
       "1     BE         Bertschy Kathrin     GL         7487\n",
       "2     FR       Rime Jean-François      V         2353\n",
       "3     VD  Schwaab Jean Christophe      S          425\n",
       "4     FR       Rime Jean-François      V          597"
      ]
     },
     "execution_count": 169,
     "metadata": {},
     "output_type": "execute_result"
    }
   ],
   "source": [
    "df.head()"
   ]
  },
  {
   "cell_type": "markdown",
   "metadata": {},
   "source": [
    "## The Total number of minutes speech time per party"
   ]
  },
  {
   "cell_type": "code",
   "execution_count": 170,
   "metadata": {
    "collapsed": true
   },
   "outputs": [],
   "source": [
    "#What is the average reading speed per minute. Slide presentations are around\n",
    "#120 words per minute, but these are policy speakers, who speak faster. \n",
    "#we'll word with the average: 200 words per minute. https://en.wikipedia.org/wiki/Words_per_minute\n",
    "#Average word length in German is 5 - 6. We'll work with 5.5.\n",
    "\n",
    "df['Rede Minuten'] = df['Reden_Länge'] / 1100"
   ]
  },
  {
   "cell_type": "code",
   "execution_count": 171,
   "metadata": {
    "collapsed": false
   },
   "outputs": [
    {
     "data": {
      "text/plain": [
       "<matplotlib.text.Text at 0x1084e13c8>"
      ]
     },
     "execution_count": 171,
     "metadata": {},
     "output_type": "execute_result"
    },
    {
     "data": {
      "image/png": "[encoded data removed]",
      "text/plain": [
       "<matplotlib.figure.Figure at 0x1089c6400>"
      ]
     },
     "metadata": {},
     "output_type": "display_data"
    }
   ],
   "source": [
    "#Making the plot look nice:\n",
    "#http://jonathansoma.com/lede/data-studio/classes/tufte/matplotlib-styles-data-ink-and-annotation/\n",
    "\n",
    "# Making default font \n",
    "matplotlib.rcParams['font.sans-serif'] = \"DIN Condensed\"\n",
    "# Then, \"ALWAYS use sans-serif fonts\"\n",
    "matplotlib.rcParams['font.family'] = \"DIN Condensed\"\n",
    "\n",
    "fig, ax = plt.subplots(figsize =(5,5), facecolor='WhiteSmoke')\n",
    "\n",
    "df_TOTAL_MINs = df.groupby('Partei')['Rede Minuten'].sum().sort_values(ascending=False).plot(kind='pie', colors=['LawnGreen', 'tomato', 'b', 'orange', 'SeaGreen', 'YellowGreen', 'Gold'], ax=ax)\n",
    "ax.set_ylabel(\"\")\n",
    "\n",
    "#Setting title\n",
    "ax.set_title(\"Aufteilung der Rede-Minuten im Nationalrat\", fontname='DIN Condensed', fontsize=24)\n",
    "\n",
    "\n"
   ]
  },
  {
   "cell_type": "code",
   "execution_count": 210,
   "metadata": {
    "collapsed": false
   },
   "outputs": [
    {
     "data": {
      "text/plain": [
       "<bound method Series.sort_values of Partei\n",
       "BD     173.574545\n",
       "C      687.046364\n",
       "G      444.893636\n",
       "GL     376.623636\n",
       "RL     851.364545\n",
       "S     1125.958182\n",
       "V      964.722727\n",
       "Name: Rede Minuten, dtype: float64>"
      ]
     },
     "execution_count": 210,
     "metadata": {},
     "output_type": "execute_result"
    }
   ],
   "source": [
    "df.groupby('Partei')['Rede Minuten'].sum().sort_values"
   ]
  },
  {
   "cell_type": "code",
   "execution_count": 172,
   "metadata": {
    "collapsed": true
   },
   "outputs": [],
   "source": [
    "#This looks as though it corresponds pretty well to the percentages of\n",
    "#the various parties in parliament. Lets have a closer look though. What is the \n",
    "#Total number of minutes?"
   ]
  },
  {
   "cell_type": "code",
   "execution_count": 173,
   "metadata": {
    "collapsed": false
   },
   "outputs": [],
   "source": [
    "#creating dataframe\n",
    "df_TOTAL_MINs = df.groupby('Partei')['Rede Minuten'].sum()\n",
    "df_TOTAL_MINs = pd.DataFrame(df_TOTAL_MINs)\n",
    "#Re-Indexing\n",
    "df_TOTAL_MINs.reset_index(inplace=True)\n",
    "#Creating Anteil\n",
    "df_TOTAL_MINs['Anteil'] = df_TOTAL_MINs['Rede Minuten'] / df['Rede Minuten'].sum() * 100"
   ]
  },
  {
   "cell_type": "code",
   "execution_count": 174,
   "metadata": {
    "collapsed": false
   },
   "outputs": [],
   "source": [
    "#Comparing to atual size of the party. Franktionen here:\n",
    "#https://www.parlament.ch/de/organe/fraktionen\n",
    "#Check this against the speeches\n",
    "df_NR_FRAKTIONEN = pd.read_csv(\"FRAKTIONEN_NR.csv\")\n",
    "df_TOTAL_MINs = df_TOTAL_MINs.merge(df_NR_FRAKTIONEN, left_on = 'Partei', right_on ='Partei') \n",
    "#Renaming the columns\n",
    "df_TOTAL_MINs.columns = ['Partei', 'Rede Minuten', 'Anteil Reden', 'Anzahl Mitglieder', 'Anteil im Parlament']\n",
    "#Working out the percentage gained or lost\n",
    "df_TOTAL_MINs['Gewinn_Verlust'] = df_TOTAL_MINs['Anteil Reden'] - df_TOTAL_MINs['Anteil im Parlament']\n",
    "#Working out the minutes gaines or lost\n",
    "df_TOTAL_MINs['In Minuten'] = df_TOTAL_MINs['Gewinn_Verlust'] * (df['Rede Minuten'].sum() / 100)"
   ]
  },
  {
   "cell_type": "code",
   "execution_count": 175,
   "metadata": {
    "collapsed": false
   },
   "outputs": [
    {
     "data": {
      "text/plain": [
       "<matplotlib.text.Text at 0x108b6deb8>"
      ]
     },
     "execution_count": 175,
     "metadata": {},
     "output_type": "execute_result"
    },
    {
     "data": {
      "image/png": "[encoded data removed]",
      "text/plain": [
       "<matplotlib.figure.Figure at 0x1089c4550>"
      ]
     },
     "metadata": {},
     "output_type": "display_data"
    }
   ],
   "source": [
    "# Anteile im Parlament\n",
    "# Making default font \n",
    "matplotlib.rcParams['font.sans-serif'] = \"DIN Condensed\"\n",
    "# Then, \"ALWAYS use sans-serif fonts\"\n",
    "matplotlib.rcParams['font.family'] = \"DIN Condensed\"\n",
    "\n",
    "fig, ax = plt.subplots(figsize =(5,5), facecolor='WhiteSmoke')\n",
    "\n",
    "df_TOTAL_MINs['Anteil im Parlament'].plot(kind='pie', colors=['Gold', 'orange', 'SeaGreen', 'YellowGreen', 'b', 'tomato',  'LawnGreen'], ax=ax)\n",
    "ax.set_ylabel(\"\")\n",
    "\n",
    "#Setting title\n",
    "ax.set_title(\"Aufteile der Fraktionen im Nationalrat\", fontname='DIN Condensed', fontsize=24)"
   ]
  },
  {
   "cell_type": "code",
   "execution_count": 211,
   "metadata": {
    "collapsed": false
   },
   "outputs": [
    {
     "data": {
      "text/plain": [
       "0     3.5\n",
       "1    15.0\n",
       "2     6.0\n",
       "3     3.5\n",
       "4    16.5\n",
       "5    21.5\n",
       "6    34.0\n",
       "Name: Anteil im Parlament, dtype: float64"
      ]
     },
     "execution_count": 211,
     "metadata": {},
     "output_type": "execute_result"
    }
   ],
   "source": [
    "df_TOTAL_MINs['Anteil im Parlament']"
   ]
  },
  {
   "cell_type": "code",
   "execution_count": 176,
   "metadata": {
    "collapsed": false
   },
   "outputs": [
    {
     "data": {
      "text/html": [
       "<div>\n",
       "<table border=\"1\" class=\"dataframe\">\n",
       "  <thead>\n",
       "    <tr style=\"text-align: right;\">\n",
       "      <th></th>\n",
       "      <th>Partei</th>\n",
       "      <th>Rede Minuten</th>\n",
       "      <th>Anteil Reden</th>\n",
       "      <th>Anzahl Mitglieder</th>\n",
       "      <th>Anteil im Parlament</th>\n",
       "      <th>Gewinn_Verlust</th>\n",
       "      <th>In Minuten</th>\n",
       "    </tr>\n",
       "  </thead>\n",
       "  <tbody>\n",
       "    <tr>\n",
       "      <th>0</th>\n",
       "      <td>BD</td>\n",
       "      <td>174.105455</td>\n",
       "      <td>3.507192</td>\n",
       "      <td>7</td>\n",
       "      <td>3.5</td>\n",
       "      <td>0.007192</td>\n",
       "      <td>0.357023</td>\n",
       "    </tr>\n",
       "    <tr>\n",
       "      <th>1</th>\n",
       "      <td>C</td>\n",
       "      <td>859.108182</td>\n",
       "      <td>17.305933</td>\n",
       "      <td>30</td>\n",
       "      <td>15.0</td>\n",
       "      <td>2.305933</td>\n",
       "      <td>114.472045</td>\n",
       "    </tr>\n",
       "    <tr>\n",
       "      <th>2</th>\n",
       "      <td>G</td>\n",
       "      <td>463.773636</td>\n",
       "      <td>9.342287</td>\n",
       "      <td>12</td>\n",
       "      <td>6.0</td>\n",
       "      <td>3.342287</td>\n",
       "      <td>165.919182</td>\n",
       "    </tr>\n",
       "    <tr>\n",
       "      <th>3</th>\n",
       "      <td>GL</td>\n",
       "      <td>376.623636</td>\n",
       "      <td>7.586732</td>\n",
       "      <td>7</td>\n",
       "      <td>3.5</td>\n",
       "      <td>4.086732</td>\n",
       "      <td>202.875205</td>\n",
       "    </tr>\n",
       "    <tr>\n",
       "      <th>4</th>\n",
       "      <td>RL</td>\n",
       "      <td>862.537273</td>\n",
       "      <td>17.375008</td>\n",
       "      <td>33</td>\n",
       "      <td>16.5</td>\n",
       "      <td>0.875008</td>\n",
       "      <td>43.437523</td>\n",
       "    </tr>\n",
       "    <tr>\n",
       "      <th>5</th>\n",
       "      <td>S</td>\n",
       "      <td>1218.880000</td>\n",
       "      <td>24.553200</td>\n",
       "      <td>43</td>\n",
       "      <td>21.5</td>\n",
       "      <td>3.053200</td>\n",
       "      <td>151.568205</td>\n",
       "    </tr>\n",
       "    <tr>\n",
       "      <th>6</th>\n",
       "      <td>V</td>\n",
       "      <td>1009.212727</td>\n",
       "      <td>20.329648</td>\n",
       "      <td>68</td>\n",
       "      <td>34.0</td>\n",
       "      <td>-13.670352</td>\n",
       "      <td>-678.629182</td>\n",
       "    </tr>\n",
       "  </tbody>\n",
       "</table>\n",
       "</div>"
      ],
      "text/plain": [
       "  Partei  Rede Minuten  Anteil Reden  Anzahl Mitglieder  Anteil im Parlament  \\\n",
       "0     BD    174.105455      3.507192                  7                  3.5   \n",
       "1      C    859.108182     17.305933                 30                 15.0   \n",
       "2      G    463.773636      9.342287                 12                  6.0   \n",
       "3     GL    376.623636      7.586732                  7                  3.5   \n",
       "4     RL    862.537273     17.375008                 33                 16.5   \n",
       "5      S   1218.880000     24.553200                 43                 21.5   \n",
       "6      V   1009.212727     20.329648                 68                 34.0   \n",
       "\n",
       "   Gewinn_Verlust  In Minuten  \n",
       "0        0.007192    0.357023  \n",
       "1        2.305933  114.472045  \n",
       "2        3.342287  165.919182  \n",
       "3        4.086732  202.875205  \n",
       "4        0.875008   43.437523  \n",
       "5        3.053200  151.568205  \n",
       "6      -13.670352 -678.629182  "
      ]
     },
     "execution_count": 176,
     "metadata": {},
     "output_type": "execute_result"
    }
   ],
   "source": [
    "df_TOTAL_MINs"
   ]
  },
  {
   "cell_type": "code",
   "execution_count": 177,
   "metadata": {
    "collapsed": false
   },
   "outputs": [
    {
     "data": {
      "image/png": "[encoded data removed]",
      "text/plain": [
       "<matplotlib.figure.Figure at 0x108998048>"
      ]
     },
     "metadata": {},
     "output_type": "display_data"
    }
   ],
   "source": [
    "#Gewinner und Verlierer \n",
    "\n",
    "fig, ax = plt.subplots(figsize =(5,5), facecolor='White')\n",
    "df_TOTAL_MINs['In Minuten'].plot(kind='bar', color=['Gold', 'orange', 'SeaGreen', 'YellowGreen', 'b', 'tomato',  'LawnGreen'])\n",
    "\n",
    "ax.set_title(\"Die Grünen und Grünliberalen im Plus\", fontname='DIN Condensed', fontsize=24)\n",
    "\n",
    "ax.set_ylabel(ylabel='')\n",
    "ax.set_xlabel(xlabel='')\n",
    "ax.set_axis_bgcolor(\"White\")\n",
    "\n",
    "plt.tick_params(\n",
    "    #axis='x',\n",
    "    top='off',\n",
    "    which='major',\n",
    "    left='off',\n",
    "    right='on',\n",
    "    bottom='off',\n",
    "    labeltop='off',\n",
    "    labelbottom='on',\n",
    "    labelright='on',\n",
    "    labelleft='off')\n",
    "\n",
    "ax.set_axisbelow(True)\n",
    "\n",
    "ax.spines['top'].set_visible(False)\n",
    "ax.spines['right'].set_visible(False)\n",
    "ax.spines['bottom'].set_visible(False)\n",
    "ax.spines['left'].set_visible(False)\n",
    "\n",
    "ax.set_title(\"Debattier-Muffel SVP\", fontname='DIN Condensed', fontsize=24)\n",
    "plt.savefig('2.pdf', transparent=True, bbox_inches='tight')"
   ]
  },
  {
   "cell_type": "code",
   "execution_count": 178,
   "metadata": {
    "collapsed": false
   },
   "outputs": [
    {
     "data": {
      "text/plain": [
       "0      0.357023\n",
       "1    114.472045\n",
       "2    165.919182\n",
       "3    202.875205\n",
       "4     43.437523\n",
       "5    151.568205\n",
       "6   -678.629182\n",
       "Name: In Minuten, dtype: float64"
      ]
     },
     "execution_count": 178,
     "metadata": {},
     "output_type": "execute_result"
    }
   ],
   "source": [
    "df_TOTAL_MINs['In Minuten']"
   ]
  },
  {
   "cell_type": "code",
   "execution_count": 179,
   "metadata": {
    "collapsed": false
   },
   "outputs": [
    {
     "data": {
      "image/png": "[encoded data removed]",
      "text/plain": [
       "<matplotlib.figure.Figure at 0x1087f0f28>"
      ]
     },
     "metadata": {},
     "output_type": "display_data"
    }
   ],
   "source": [
    "fig, ax = plt.subplots(figsize =(5,5), facecolor='White')\n",
    "df_TOTAL_MINs['Rede Minuten'].plot(kind='bar', color=['Gold', 'orange', 'SeaGreen', 'YellowGreen', 'b', 'tomato',  'LawnGreen'])\n",
    "\n",
    "ax.set_ylabel(ylabel='')\n",
    "ax.set_xlabel(xlabel='')\n",
    "ax.set_axis_bgcolor(\"White\")\n",
    "\n",
    "plt.tick_params(\n",
    "    #axis='x',\n",
    "    top='off',\n",
    "    which='major',\n",
    "    left='off',\n",
    "    right='on',\n",
    "    bottom='off',\n",
    "    labeltop='off',\n",
    "    labelbottom='on',\n",
    "    labelright='on',\n",
    "    labelleft='off')\n",
    "\n",
    "ax.set_axisbelow(True)\n",
    "\n",
    "ax.spines['top'].set_visible(False)\n",
    "ax.spines['right'].set_visible(False)\n",
    "ax.spines['bottom'].set_visible(False)\n",
    "ax.spines['left'].set_visible(False)\n",
    "\n",
    "ax.set_title(\"Die SP sticht am längsten\", fontname='DIN Condensed', fontsize=24)\n",
    "plt.savefig('1.pdf', transparent=True, bbox_inches='tight')"
   ]
  },
  {
   "cell_type": "code",
   "execution_count": null,
   "metadata": {
    "collapsed": true
   },
   "outputs": [],
   "source": []
  },
  {
   "cell_type": "markdown",
   "metadata": {},
   "source": [
    "## Now lets look at the Cantons"
   ]
  },
  {
   "cell_type": "code",
   "execution_count": 180,
   "metadata": {
    "collapsed": false
   },
   "outputs": [
    {
     "data": {
      "text/plain": [
       "2.0487993846846511"
      ]
     },
     "execution_count": 180,
     "metadata": {},
     "output_type": "execute_result"
    }
   ],
   "source": [
    "#First, was is the average speech length:\n",
    "df['Rede Minuten'].mean()"
   ]
  },
  {
   "cell_type": "code",
   "execution_count": 181,
   "metadata": {
    "collapsed": false
   },
   "outputs": [
    {
     "data": {
      "text/plain": [
       "1.6854545454545455"
      ]
     },
     "execution_count": 181,
     "metadata": {},
     "output_type": "execute_result"
    }
   ],
   "source": [
    "df['Rede Minuten'].median()"
   ]
  },
  {
   "cell_type": "code",
   "execution_count": 182,
   "metadata": {
    "collapsed": false
   },
   "outputs": [
    {
     "data": {
      "image/png": "[encoded data removed]",
      "text/plain": [
       "<matplotlib.figure.Figure at 0x109ef6748>"
      ]
     },
     "metadata": {},
     "output_type": "display_data"
    }
   ],
   "source": [
    "fig, ax = plt.subplots(figsize =(10,5), facecolor='White')\n",
    "df.groupby('Kanton')['Rede Minuten'].mean().sort_values(ascending=True).plot(kind='bar')\n",
    "ax.set_ylabel(ylabel='')\n",
    "ax.set_xlabel(xlabel='')\n",
    "ax.set_axis_bgcolor(\"White\")\n",
    "\n",
    "plt.tick_params(\n",
    "    #axis='x',\n",
    "    top='off',\n",
    "    which='major',\n",
    "    left='off',\n",
    "    right='on',\n",
    "    bottom='off',\n",
    "    labeltop='off',\n",
    "    labelbottom='on',\n",
    "    labelright='on',\n",
    "    labelleft='off')\n",
    "\n",
    "ax.set_axisbelow(True)\n",
    "\n",
    "ax.spines['top'].set_visible(False)\n",
    "ax.spines['right'].set_visible(False)\n",
    "ax.spines['bottom'].set_visible(False)\n",
    "ax.spines['left'].set_visible(False)\n",
    "\n",
    "ax.set_title(\"Die Redelänge der Kantone\", fontname='DIN Condensed', fontsize=24)\n",
    "plt.savefig('6.pdf', transparent=True, bbox_inches='tight')"
   ]
  },
  {
   "cell_type": "code",
   "execution_count": 183,
   "metadata": {
    "collapsed": true
   },
   "outputs": [],
   "source": [
    "#lets try a scatter plot, marking Kantons from East to West, 1 - 26. First I need to create that file and import it. "
   ]
  },
  {
   "cell_type": "code",
   "execution_count": 184,
   "metadata": {
    "collapsed": true
   },
   "outputs": [],
   "source": [
    "df_ostwest = pd.read_csv(\"reden_ostwest.csv\")"
   ]
  },
  {
   "cell_type": "code",
   "execution_count": 185,
   "metadata": {
    "collapsed": false
   },
   "outputs": [],
   "source": [
    "df = df.merge(df_ostwest, left_on = 'Kanton', right_on ='Kanton') "
   ]
  },
  {
   "cell_type": "code",
   "execution_count": 186,
   "metadata": {
    "collapsed": false
   },
   "outputs": [
    {
     "data": {
      "text/plain": [
       "<matplotlib.axes._subplots.AxesSubplot at 0x1089c8d68>"
      ]
     },
     "execution_count": 186,
     "metadata": {},
     "output_type": "execute_result"
    },
    {
     "data": {
      "image/png": "[encoded data removed]",
      "text/plain": [
       "<matplotlib.figure.Figure at 0x108b4dc88>"
      ]
     },
     "metadata": {},
     "output_type": "display_data"
    }
   ],
   "source": [
    "#UR is missing\n",
    "fig, ax = plt.subplots(figsize =(10,5), facecolor='White')\n",
    "df.plot(kind='scatter', x='Ost_West', y='Rede Minuten', ax=ax, marker='o')"
   ]
  },
  {
   "cell_type": "code",
   "execution_count": 187,
   "metadata": {
    "collapsed": false
   },
   "outputs": [
    {
     "data": {
      "text/html": [
       "<div>\n",
       "<table border=\"1\" class=\"dataframe\">\n",
       "  <thead>\n",
       "    <tr style=\"text-align: right;\">\n",
       "      <th></th>\n",
       "      <th>Reden_Länge</th>\n",
       "      <th>Rede Minuten</th>\n",
       "      <th>Ost_West</th>\n",
       "    </tr>\n",
       "  </thead>\n",
       "  <tbody>\n",
       "    <tr>\n",
       "      <th>Reden_Länge</th>\n",
       "      <td>1.000000</td>\n",
       "      <td>1.000000</td>\n",
       "      <td>-0.125813</td>\n",
       "    </tr>\n",
       "    <tr>\n",
       "      <th>Rede Minuten</th>\n",
       "      <td>1.000000</td>\n",
       "      <td>1.000000</td>\n",
       "      <td>-0.125813</td>\n",
       "    </tr>\n",
       "    <tr>\n",
       "      <th>Ost_West</th>\n",
       "      <td>-0.125813</td>\n",
       "      <td>-0.125813</td>\n",
       "      <td>1.000000</td>\n",
       "    </tr>\n",
       "  </tbody>\n",
       "</table>\n",
       "</div>"
      ],
      "text/plain": [
       "              Reden_Länge  Rede Minuten  Ost_West\n",
       "Reden_Länge      1.000000      1.000000 -0.125813\n",
       "Rede Minuten     1.000000      1.000000 -0.125813\n",
       "Ost_West        -0.125813     -0.125813  1.000000"
      ]
     },
     "execution_count": 187,
     "metadata": {},
     "output_type": "execute_result"
    }
   ],
   "source": [
    "#No Correlation\n",
    "df.corr()"
   ]
  },
  {
   "cell_type": "markdown",
   "metadata": {
    "collapsed": false
   },
   "source": [
    "# Looking into gender differences"
   ]
  },
  {
   "cell_type": "code",
   "execution_count": 188,
   "metadata": {
    "collapsed": true
   },
   "outputs": [],
   "source": [
    "#Preparing the dataframe for sex of NR\n",
    "df_NR_extended = pd.read_csv(\"National- und Ständeräte - NR.csv\")"
   ]
  },
  {
   "cell_type": "code",
   "execution_count": 189,
   "metadata": {
    "collapsed": false
   },
   "outputs": [],
   "source": [
    "#Meging the Dataframe\n",
    "df = df.merge(df_NR_extended, left_on = 'Name', right_on ='Name') "
   ]
  },
  {
   "cell_type": "code",
   "execution_count": 190,
   "metadata": {
    "collapsed": false
   },
   "outputs": [
    {
     "data": {
      "text/plain": [
       "Geschlecht\n",
       "m    1.993154\n",
       "w    2.136069\n",
       "Name: Rede Minuten, dtype: float64"
      ]
     },
     "execution_count": 190,
     "metadata": {},
     "output_type": "execute_result"
    }
   ],
   "source": [
    "df.groupby('Geschlecht')['Rede Minuten'].mean()"
   ]
  },
  {
   "cell_type": "code",
   "execution_count": 191,
   "metadata": {
    "collapsed": false
   },
   "outputs": [
    {
     "data": {
      "text/html": [
       "<div>\n",
       "<table border=\"1\" class=\"dataframe\">\n",
       "  <thead>\n",
       "    <tr style=\"text-align: right;\">\n",
       "      <th></th>\n",
       "      <th>Kanton_x</th>\n",
       "      <th>Name</th>\n",
       "      <th>Partei</th>\n",
       "      <th>Reden_Länge</th>\n",
       "      <th>Rede Minuten</th>\n",
       "      <th>Ost_West</th>\n",
       "      <th>Rat</th>\n",
       "      <th>Anrede 1</th>\n",
       "      <th>Geschlecht</th>\n",
       "      <th>Vorname</th>\n",
       "      <th>...</th>\n",
       "      <th>PLZ (Mailing)</th>\n",
       "      <th>Ort (Mailing)</th>\n",
       "      <th>Tel. (Mailing)</th>\n",
       "      <th>Fax (Mailing)</th>\n",
       "      <th>Homepage (Mailing)</th>\n",
       "      <th>Arbeitssprache</th>\n",
       "      <th>Fraktion</th>\n",
       "      <th>Kanton_y</th>\n",
       "      <th>Geburtsjahr</th>\n",
       "      <th>VereidigungsDatum</th>\n",
       "    </tr>\n",
       "  </thead>\n",
       "  <tbody>\n",
       "    <tr>\n",
       "      <th>0</th>\n",
       "      <td>VD</td>\n",
       "      <td>Nordmann Roger</td>\n",
       "      <td>S</td>\n",
       "      <td>1077</td>\n",
       "      <td>0.979091</td>\n",
       "      <td>2</td>\n",
       "      <td>NR</td>\n",
       "      <td>Monsieur</td>\n",
       "      <td>m</td>\n",
       "      <td>Roger</td>\n",
       "      <td>...</td>\n",
       "      <td>1003</td>\n",
       "      <td>Lausanne</td>\n",
       "      <td>#ERROR!</td>\n",
       "      <td>NaN</td>\n",
       "      <td>www.roger-nordmann.ch</td>\n",
       "      <td>f</td>\n",
       "      <td>S</td>\n",
       "      <td>VD</td>\n",
       "      <td>1973</td>\n",
       "      <td>2004</td>\n",
       "    </tr>\n",
       "  </tbody>\n",
       "</table>\n",
       "<p>1 rows × 41 columns</p>\n",
       "</div>"
      ],
      "text/plain": [
       "  Kanton_x            Name Partei  Reden_Länge  Rede Minuten  Ost_West Rat  \\\n",
       "0       VD  Nordmann Roger      S         1077      0.979091         2  NR   \n",
       "\n",
       "   Anrede 1 Geschlecht Vorname        ...        PLZ (Mailing) Ort (Mailing)  \\\n",
       "0  Monsieur          m   Roger        ...                 1003      Lausanne   \n",
       "\n",
       "  Tel. (Mailing) Fax (Mailing)     Homepage (Mailing)  Arbeitssprache  \\\n",
       "0        #ERROR!           NaN  www.roger-nordmann.ch               f   \n",
       "\n",
       "  Fraktion Kanton_y Geburtsjahr VereidigungsDatum  \n",
       "0        S       VD        1973              2004  \n",
       "\n",
       "[1 rows x 41 columns]"
      ]
     },
     "execution_count": 191,
     "metadata": {},
     "output_type": "execute_result"
    }
   ],
   "source": [
    "df.head(1)"
   ]
  },
  {
   "cell_type": "code",
   "execution_count": 192,
   "metadata": {
    "collapsed": false
   },
   "outputs": [
    {
     "data": {
      "text/plain": [
       "Arbeitssprache\n",
       "d    1.893554\n",
       "f    2.472177\n",
       "Name: Rede Minuten, dtype: float64"
      ]
     },
     "execution_count": 192,
     "metadata": {},
     "output_type": "execute_result"
    }
   ],
   "source": [
    "df.groupby('Arbeitssprache')['Rede Minuten'].mean()"
   ]
  },
  {
   "cell_type": "code",
   "execution_count": 193,
   "metadata": {
    "collapsed": false
   },
   "outputs": [
    {
     "data": {
      "image/png": "[encoded data removed]",
      "text/plain": [
       "<matplotlib.figure.Figure at 0x10a1b6518>"
      ]
     },
     "metadata": {},
     "output_type": "display_data"
    }
   ],
   "source": [
    "fig, ((ax1, ax2, ax3), (ax4, ax5, ax6), (ax7, ax8, ax9)) = plt.subplots(facecolor='WhiteSmoke', nrows=3, ncols=3, figsize=(6,6))\n",
    "\n",
    "df[df['Partei'] == 'V'].groupby('Geschlecht')['Rede Minuten'].sum().plot(ax=ax1, kind='pie', startangle=270, colors=['b', 'r'])\n",
    "ax1.set_title(\"SVP\")\n",
    "df[df['Partei'] == 'S'].groupby('Geschlecht')['Rede Minuten'].sum().plot(ax=ax2, kind='pie', startangle=270, colors=['b', 'r'])\n",
    "ax2.set_title(\"SP\")\n",
    "df[df['Partei'] == 'RL'].groupby('Geschlecht')['Rede Minuten'].sum().plot(ax=ax3, kind='pie', startangle=270, colors=['b', 'r'])\n",
    "ax3.set_title(\"FDP\")\n",
    "df[df['Partei'] == 'G'].groupby('Geschlecht')['Rede Minuten'].sum().plot(ax=ax4, kind='pie', startangle=270, colors=['b', 'r'])\n",
    "ax4.set_title(\"Grüne\")\n",
    "df[df['Partei'] == 'GL'].groupby('Geschlecht')['Rede Minuten'].sum().plot(ax=ax5, kind='pie', startangle=270, colors=['b', 'r'])\n",
    "ax5.set_title(\"Grünliberale\")\n",
    "df[df['Partei'] == 'BD'].groupby('Geschlecht')['Rede Minuten'].sum().plot(ax=ax6, kind='pie', startangle=270, colors=['b', 'r'])\n",
    "ax6.set_title(\"BDP\")\n",
    "df[df['Partei'] == 'C'].groupby('Geschlecht')['Rede Minuten'].sum().plot(ax=ax7, kind='pie', startangle=270, colors=['b', 'r'])\n",
    "ax7.set_title(\"CVP\")\n",
    "\n",
    "ax1.set_ylabel('')\n",
    "ax2.set_ylabel('')\n",
    "ax3.set_ylabel('')\n",
    "ax4.set_ylabel('')\n",
    "ax5.set_ylabel('')\n",
    "ax6.set_ylabel('')\n",
    "ax7.set_ylabel('')\n",
    "\n",
    "\n",
    "#ax1.set_title(\"Anteil Redelängen, Männer vs. Frauen\", fontname='DIN Condensed', fontsize=24)\n",
    "#plt.tight_layout()\n",
    "plt.savefig('4.pdf', transparent=True, bbox_inches='tight')"
   ]
  },
  {
   "cell_type": "code",
   "execution_count": 194,
   "metadata": {
    "collapsed": false
   },
   "outputs": [
    {
     "data": {
      "image/png": "[encoded data removed]",
      "text/plain": [
       "<matplotlib.figure.Figure at 0x109ed2c88>"
      ]
     },
     "metadata": {},
     "output_type": "display_data"
    }
   ],
   "source": [
    "#Comparing that to actual size of woman votes.\n",
    "\n",
    "fig, ((ax1, ax2, ax3), (ax4, ax5, ax6), (ax7, ax8, ax9)) = plt.subplots(facecolor='WhiteSmoke', nrows=3, ncols=3, figsize=(6,6))\n",
    "\n",
    "df_NR_extended[df_NR_extended['Fraktion'] == 'V']['Geschlecht'].value_counts().plot(ax=ax1, kind='pie', startangle=270, colors=['b', 'r'])\n",
    "ax1.set_title(\"SVP\")\n",
    "df_NR_extended[df_NR_extended['Fraktion'] == 'S']['Geschlecht'].value_counts().plot(ax=ax2, kind='pie', startangle=270, colors=['b', 'r'])\n",
    "ax2.set_title(\"SP\")\n",
    "df_NR_extended[df_NR_extended['Fraktion'] == 'RL']['Geschlecht'].value_counts().plot(ax=ax3, kind='pie', startangle=270, colors=['b', 'r'])\n",
    "ax3.set_title(\"FDP\")\n",
    "df_NR_extended[df_NR_extended['Fraktion'] == 'G']['Geschlecht'].value_counts().plot(ax=ax4, kind='pie', startangle=270, colors=['b', 'r'])\n",
    "ax4.set_title(\"Grüne\")\n",
    "df_NR_extended[df_NR_extended['Fraktion'] == 'GL']['Geschlecht'].value_counts().plot(ax=ax5, kind='pie', startangle=270, colors=['b', 'r'])\n",
    "ax5.set_title(\"Grünliberale\")\n",
    "df_NR_extended[df_NR_extended['Fraktion'] == 'BD']['Geschlecht'].value_counts().plot(ax=ax6, kind='pie', startangle=270, colors=['b', 'r'])\n",
    "ax6.set_title(\"BDP\")\n",
    "df_NR_extended[df_NR_extended['Fraktion'] == 'C']['Geschlecht'].value_counts().plot(ax=ax7, kind='pie', startangle=270, colors=['b', 'r'])\n",
    "ax7.set_title(\"CVP\")\n",
    "\n",
    "ax1.set_ylabel('')\n",
    "ax2.set_ylabel('')\n",
    "ax3.set_ylabel('')\n",
    "ax4.set_ylabel('')\n",
    "ax5.set_ylabel('')\n",
    "ax6.set_ylabel('')\n",
    "ax7.set_ylabel('')\n",
    "\n",
    "plt.savefig('5.pdf', transparent=True, bbox_inches='tight')"
   ]
  },
  {
   "cell_type": "markdown",
   "metadata": {},
   "source": [
    "# The biggest Chatter Boxes"
   ]
  },
  {
   "cell_type": "code",
   "execution_count": 195,
   "metadata": {
    "collapsed": false
   },
   "outputs": [
    {
     "data": {
      "image/png": "[encoded data removed]",
      "text/plain": [
       "<matplotlib.figure.Figure at 0x109ee41d0>"
      ]
     },
     "metadata": {},
     "output_type": "display_data"
    }
   ],
   "source": [
    "df.groupby('Name')['Rede Minuten'].sum().sort_values(ascending=True).tail(10).plot(kind='barh')\n",
    "plt.savefig('3.pdf', transparent=True, bbox_inches='tight')"
   ]
  },
  {
   "cell_type": "code",
   "execution_count": 214,
   "metadata": {
    "collapsed": false
   },
   "outputs": [
    {
     "data": {
      "text/plain": [
       "Name\n",
       "Quadranti Rosmarie        64.033636\n",
       "Feller Olivier            67.586364\n",
       "Wasserfallen Christian    72.179091\n",
       "Flach Beat                72.719091\n",
       "Jans Beat                 74.096364\n",
       "Bäumle Martin             79.701818\n",
       "Müller Leo                79.980000\n",
       "Amaudruz Céline           84.260909\n",
       "Vogler Karl               87.406364\n",
       "Schelbert Louis           90.211818\n",
       "Name: Rede Minuten, dtype: float64"
      ]
     },
     "execution_count": 214,
     "metadata": {},
     "output_type": "execute_result"
    }
   ],
   "source": [
    "df.groupby('Name')['Rede Minuten'].sum().sort_values(ascending=True).tail(10)"
   ]
  },
  {
   "cell_type": "code",
   "execution_count": 196,
   "metadata": {
    "collapsed": false
   },
   "outputs": [
    {
     "data": {
      "text/plain": [
       "count    178.000000\n",
       "mean      25.978560\n",
       "std       19.755450\n",
       "min        0.356364\n",
       "25%        9.784091\n",
       "50%       20.645000\n",
       "75%       35.663409\n",
       "max       90.211818\n",
       "Name: Rede Minuten, dtype: float64"
      ]
     },
     "execution_count": 196,
     "metadata": {},
     "output_type": "execute_result"
    }
   ],
   "source": [
    "df.groupby('Name')['Rede Minuten'].sum().describe()"
   ]
  },
  {
   "cell_type": "code",
   "execution_count": 197,
   "metadata": {
    "collapsed": false
   },
   "outputs": [
    {
     "data": {
      "text/plain": [
       "Name\n",
       "Schelbert Louis    99233\n",
       "Vogler Karl        96147\n",
       "Amaudruz Céline    92687\n",
       "Müller Leo         87978\n",
       "Bäumle Martin      87672\n",
       "Name: Reden_Länge, dtype: int64"
      ]
     },
     "execution_count": 197,
     "metadata": {},
     "output_type": "execute_result"
    }
   ],
   "source": [
    "df.groupby('Name')['Reden_Länge'].sum().sort_values(ascending=False).head()"
   ]
  },
  {
   "cell_type": "markdown",
   "metadata": {},
   "source": [
    "# The Silent Ones"
   ]
  },
  {
   "cell_type": "code",
   "execution_count": 198,
   "metadata": {
    "collapsed": false
   },
   "outputs": [
    {
     "data": {
      "text/plain": [
       "<matplotlib.axes._subplots.AxesSubplot at 0x10a4e8ac8>"
      ]
     },
     "execution_count": 198,
     "metadata": {},
     "output_type": "execute_result"
    },
    {
     "data": {
      "image/png": "[encoded data removed]",
      "text/plain": [
       "<matplotlib.figure.Figure at 0x10a56aa58>"
      ]
     },
     "metadata": {},
     "output_type": "display_data"
    }
   ],
   "source": [
    "df.groupby('Name')['Rede Minuten'].sum().sort_values(ascending=False).tail(10).plot(kind='barh')"
   ]
  },
  {
   "cell_type": "code",
   "execution_count": 199,
   "metadata": {
    "collapsed": false
   },
   "outputs": [
    {
     "data": {
      "text/html": [
       "<div>\n",
       "<table border=\"1\" class=\"dataframe\">\n",
       "  <thead>\n",
       "    <tr style=\"text-align: right;\">\n",
       "      <th></th>\n",
       "      <th>Kanton</th>\n",
       "      <th>Name</th>\n",
       "      <th>Partei</th>\n",
       "      <th>Reden</th>\n",
       "      <th>Reden_Länge</th>\n",
       "    </tr>\n",
       "  </thead>\n",
       "  <tbody>\n",
       "    <tr>\n",
       "      <th>41</th>\n",
       "      <td>ZG</td>\n",
       "      <td>Aeschi Thomas</td>\n",
       "      <td>V</td>\n",
       "      <td>: In welchen Situationen werden Praktika absol...</td>\n",
       "      <td>1823</td>\n",
       "    </tr>\n",
       "    <tr>\n",
       "      <th>105</th>\n",
       "      <td>ZG</td>\n",
       "      <td>Aeschi Thomas</td>\n",
       "      <td>V</td>\n",
       "      <td>: Wie erwähnt wurde, geht es beim Entsendegese...</td>\n",
       "      <td>2262</td>\n",
       "    </tr>\n",
       "    <tr>\n",
       "      <th>319</th>\n",
       "      <td>ZG</td>\n",
       "      <td>Aeschi Thomas</td>\n",
       "      <td>V</td>\n",
       "      <td>: Der EU-Botschafter in Eritrea ist klar der M...</td>\n",
       "      <td>388</td>\n",
       "    </tr>\n",
       "    <tr>\n",
       "      <th>402</th>\n",
       "      <td>ZG</td>\n",
       "      <td>Aeschi Thomas</td>\n",
       "      <td>V</td>\n",
       "      <td>: Die SVP-Fraktion hatte ursprüng lich die Sis...</td>\n",
       "      <td>1648</td>\n",
       "    </tr>\n",
       "    <tr>\n",
       "      <th>404</th>\n",
       "      <td>ZG</td>\n",
       "      <td>Aeschi Thomas</td>\n",
       "      <td>V</td>\n",
       "      <td>: Wir haben heute eine Regelung für Expatriate...</td>\n",
       "      <td>1714</td>\n",
       "    </tr>\n",
       "    <tr>\n",
       "      <th>412</th>\n",
       "      <td>ZG</td>\n",
       "      <td>Aeschi Thomas</td>\n",
       "      <td>V</td>\n",
       "      <td>: Das hier ist eine kleinere Minder heit. Sie ...</td>\n",
       "      <td>1255</td>\n",
       "    </tr>\n",
       "    <tr>\n",
       "      <th>415</th>\n",
       "      <td>ZG</td>\n",
       "      <td>Aeschi Thomas</td>\n",
       "      <td>V</td>\n",
       "      <td>: Wir sind jetzt auf Seite 7 der deutschsprach...</td>\n",
       "      <td>2203</td>\n",
       "    </tr>\n",
       "    <tr>\n",
       "      <th>426</th>\n",
       "      <td>ZG</td>\n",
       "      <td>Aeschi Thomas</td>\n",
       "      <td>V</td>\n",
       "      <td>: Wir sind, wie eben die Frau Präsi dentin aus...</td>\n",
       "      <td>1962</td>\n",
       "    </tr>\n",
       "    <tr>\n",
       "      <th>432</th>\n",
       "      <td>ZG</td>\n",
       "      <td>Aeschi Thomas</td>\n",
       "      <td>V</td>\n",
       "      <td>: Wo liegt das Problem? Das Pro blem liegt dar...</td>\n",
       "      <td>1247</td>\n",
       "    </tr>\n",
       "    <tr>\n",
       "      <th>439</th>\n",
       "      <td>ZG</td>\n",
       "      <td>Aeschi Thomas</td>\n",
       "      <td>V</td>\n",
       "      <td>: Bei Absatz 5 geht es um eine Lex Ticino, kön...</td>\n",
       "      <td>979</td>\n",
       "    </tr>\n",
       "    <tr>\n",
       "      <th>453</th>\n",
       "      <td>ZG</td>\n",
       "      <td>Aeschi Thomas</td>\n",
       "      <td>V</td>\n",
       "      <td>: Ich bitte Sie, dieses Postulat abzu lehnen. ...</td>\n",
       "      <td>1075</td>\n",
       "    </tr>\n",
       "    <tr>\n",
       "      <th>455</th>\n",
       "      <td>ZG</td>\n",
       "      <td>Aeschi Thomas</td>\n",
       "      <td>V</td>\n",
       "      <td>: Herr Kollege Schwaab, Sie ken nen genau wie ...</td>\n",
       "      <td>1367</td>\n",
       "    </tr>\n",
       "    <tr>\n",
       "      <th>736</th>\n",
       "      <td>ZG</td>\n",
       "      <td>Aeschi Thomas</td>\n",
       "      <td>V</td>\n",
       "      <td>: Die Abschaffung der Heiratsstrafe ist ja unb...</td>\n",
       "      <td>4526</td>\n",
       "    </tr>\n",
       "    <tr>\n",
       "      <th>918</th>\n",
       "      <td>ZG</td>\n",
       "      <td>Aeschi Thomas</td>\n",
       "      <td>V</td>\n",
       "      <td>:  Die Schweiz verfügt derzeit über eines der ...</td>\n",
       "      <td>3328</td>\n",
       "    </tr>\n",
       "    <tr>\n",
       "      <th>920</th>\n",
       "      <td>ZG</td>\n",
       "      <td>Aeschi Thomas</td>\n",
       "      <td>V</td>\n",
       "      <td>: Frau Badran, Sie wissen ganz ge nau, dass in...</td>\n",
       "      <td>1050</td>\n",
       "    </tr>\n",
       "    <tr>\n",
       "      <th>922</th>\n",
       "      <td>ZG</td>\n",
       "      <td>Aeschi Thomas</td>\n",
       "      <td>V</td>\n",
       "      <td>: Die S VP unterstützt die Doppelbe steuerungs...</td>\n",
       "      <td>948</td>\n",
       "    </tr>\n",
       "    <tr>\n",
       "      <th>924</th>\n",
       "      <td>ZG</td>\n",
       "      <td>Aeschi Thomas</td>\n",
       "      <td>V</td>\n",
       "      <td>: Wer profitiert genau von dieser Un ternehmen...</td>\n",
       "      <td>1160</td>\n",
       "    </tr>\n",
       "    <tr>\n",
       "      <th>926</th>\n",
       "      <td>ZG</td>\n",
       "      <td>Aeschi Thomas</td>\n",
       "      <td>V</td>\n",
       "      <td>: Ich glaube, die Redezeiten werden genau glei...</td>\n",
       "      <td>251</td>\n",
       "    </tr>\n",
       "    <tr>\n",
       "      <th>928</th>\n",
       "      <td>ZG</td>\n",
       "      <td>Aeschi Thomas</td>\n",
       "      <td>V</td>\n",
       "      <td>:  Sie haben ausgeführt, dass der Kanton Waadt...</td>\n",
       "      <td>1417</td>\n",
       "    </tr>\n",
       "    <tr>\n",
       "      <th>991</th>\n",
       "      <td>ZG</td>\n",
       "      <td>Aeschi Thomas</td>\n",
       "      <td>V</td>\n",
       "      <td>: Auch bei diesem zweiten Block bit tet Sie di...</td>\n",
       "      <td>4494</td>\n",
       "    </tr>\n",
       "    <tr>\n",
       "      <th>997</th>\n",
       "      <td>ZG</td>\n",
       "      <td>Aeschi Thomas</td>\n",
       "      <td>V</td>\n",
       "      <td>: Frau Badran, ich danke Ihnen für diese Frage...</td>\n",
       "      <td>637</td>\n",
       "    </tr>\n",
       "    <tr>\n",
       "      <th>1015</th>\n",
       "      <td>ZG</td>\n",
       "      <td>Aeschi Thomas</td>\n",
       "      <td>V</td>\n",
       "      <td>: In diesem letzten Block der Vorlage 1 behand...</td>\n",
       "      <td>6071</td>\n",
       "    </tr>\n",
       "    <tr>\n",
       "      <th>1048</th>\n",
       "      <td>ZG</td>\n",
       "      <td>Aeschi Thomas</td>\n",
       "      <td>V</td>\n",
       "      <td>: Herr Bundesrat, diese Beiträge, die von der ...</td>\n",
       "      <td>269</td>\n",
       "    </tr>\n",
       "    <tr>\n",
       "      <th>1391</th>\n",
       "      <td>ZG</td>\n",
       "      <td>Aeschi Thomas</td>\n",
       "      <td>V</td>\n",
       "      <td>: Wir haben hier im Parlament be reits sechsma...</td>\n",
       "      <td>5396</td>\n",
       "    </tr>\n",
       "    <tr>\n",
       "      <th>1393</th>\n",
       "      <td>ZG</td>\n",
       "      <td>Aeschi Thomas</td>\n",
       "      <td>V</td>\n",
       "      <td>: Ja, auf jeden Fall. Wie gesagt, habe ich in ...</td>\n",
       "      <td>658</td>\n",
       "    </tr>\n",
       "    <tr>\n",
       "      <th>1633</th>\n",
       "      <td>ZG</td>\n",
       "      <td>Aeschi Thomas</td>\n",
       "      <td>V</td>\n",
       "      <td>: Wir beschliessen ja einen Verpflich tungskre...</td>\n",
       "      <td>368</td>\n",
       "    </tr>\n",
       "    <tr>\n",
       "      <th>1645</th>\n",
       "      <td>ZG</td>\n",
       "      <td>Aeschi Thomas</td>\n",
       "      <td>V</td>\n",
       "      <td>: Herr Bundesrat, ich danke Ihnen vielmals für...</td>\n",
       "      <td>558</td>\n",
       "    </tr>\n",
       "    <tr>\n",
       "      <th>1657</th>\n",
       "      <td>ZG</td>\n",
       "      <td>Aeschi Thomas</td>\n",
       "      <td>V</td>\n",
       "      <td>: Frau Bundesrätin, ich danke Ihnen vielmals f...</td>\n",
       "      <td>170</td>\n",
       "    </tr>\n",
       "    <tr>\n",
       "      <th>1658</th>\n",
       "      <td>ZG</td>\n",
       "      <td>Aeschi Thomas</td>\n",
       "      <td>V</td>\n",
       "      <td>: Ich wiederhole meine Frage: Das heisst, bis ...</td>\n",
       "      <td>289</td>\n",
       "    </tr>\n",
       "    <tr>\n",
       "      <th>1689</th>\n",
       "      <td>ZG</td>\n",
       "      <td>Aeschi Thomas</td>\n",
       "      <td>V</td>\n",
       "      <td>: Es geht hier um den sogenannten Step-up, den...</td>\n",
       "      <td>1817</td>\n",
       "    </tr>\n",
       "    <tr>\n",
       "      <th>1728</th>\n",
       "      <td>ZG</td>\n",
       "      <td>Aeschi Thomas</td>\n",
       "      <td>V</td>\n",
       "      <td>: Worum geht es bei Artikel 25a des Gesetzes? ...</td>\n",
       "      <td>4721</td>\n",
       "    </tr>\n",
       "    <tr>\n",
       "      <th>2037</th>\n",
       "      <td>ZG</td>\n",
       "      <td>Aeschi Thomas</td>\n",
       "      <td>V</td>\n",
       "      <td>: Wie bereits ausgeführt wurde, geht es hier u...</td>\n",
       "      <td>4594</td>\n",
       "    </tr>\n",
       "    <tr>\n",
       "      <th>2050</th>\n",
       "      <td>ZG</td>\n",
       "      <td>Aeschi Thomas</td>\n",
       "      <td>V</td>\n",
       "      <td>: Für das Standortziel der Schweiz ist es wich...</td>\n",
       "      <td>1276</td>\n",
       "    </tr>\n",
       "    <tr>\n",
       "      <th>2052</th>\n",
       "      <td>ZG</td>\n",
       "      <td>Aeschi Thomas</td>\n",
       "      <td>V</td>\n",
       "      <td>: Was hat uns der Ständerat für ein Paket unte...</td>\n",
       "      <td>828</td>\n",
       "    </tr>\n",
       "    <tr>\n",
       "      <th>2072</th>\n",
       "      <td>ZG</td>\n",
       "      <td>Aeschi Thomas</td>\n",
       "      <td>V</td>\n",
       "      <td>: Es geht hier um die Abgrenzung zwischen dem ...</td>\n",
       "      <td>732</td>\n",
       "    </tr>\n",
       "    <tr>\n",
       "      <th>2078</th>\n",
       "      <td>ZG</td>\n",
       "      <td>Aeschi Thomas</td>\n",
       "      <td>V</td>\n",
       "      <td>: Es geht hier um die Formulierung, die der St...</td>\n",
       "      <td>587</td>\n",
       "    </tr>\n",
       "    <tr>\n",
       "      <th>2087</th>\n",
       "      <td>ZG</td>\n",
       "      <td>Aeschi Thomas</td>\n",
       "      <td>V</td>\n",
       "      <td>: Sie sehen auf der Fahne auf Sei te25 den Unt...</td>\n",
       "      <td>1436</td>\n",
       "    </tr>\n",
       "    <tr>\n",
       "      <th>2179</th>\n",
       "      <td>ZG</td>\n",
       "      <td>Aeschi Thomas</td>\n",
       "      <td>V</td>\n",
       "      <td>: Frau Bundesrätin, Sie haben jetzt mehrmals ü...</td>\n",
       "      <td>390</td>\n",
       "    </tr>\n",
       "  </tbody>\n",
       "</table>\n",
       "</div>"
      ],
      "text/plain": [
       "     Kanton           Name Partei  \\\n",
       "41       ZG  Aeschi Thomas      V   \n",
       "105      ZG  Aeschi Thomas      V   \n",
       "319      ZG  Aeschi Thomas      V   \n",
       "402      ZG  Aeschi Thomas      V   \n",
       "404      ZG  Aeschi Thomas      V   \n",
       "412      ZG  Aeschi Thomas      V   \n",
       "415      ZG  Aeschi Thomas      V   \n",
       "426      ZG  Aeschi Thomas      V   \n",
       "432      ZG  Aeschi Thomas      V   \n",
       "439      ZG  Aeschi Thomas      V   \n",
       "453      ZG  Aeschi Thomas      V   \n",
       "455      ZG  Aeschi Thomas      V   \n",
       "736      ZG  Aeschi Thomas      V   \n",
       "918      ZG  Aeschi Thomas      V   \n",
       "920      ZG  Aeschi Thomas      V   \n",
       "922      ZG  Aeschi Thomas      V   \n",
       "924      ZG  Aeschi Thomas      V   \n",
       "926      ZG  Aeschi Thomas      V   \n",
       "928      ZG  Aeschi Thomas      V   \n",
       "991      ZG  Aeschi Thomas      V   \n",
       "997      ZG  Aeschi Thomas      V   \n",
       "1015     ZG  Aeschi Thomas      V   \n",
       "1048     ZG  Aeschi Thomas      V   \n",
       "1391     ZG  Aeschi Thomas      V   \n",
       "1393     ZG  Aeschi Thomas      V   \n",
       "1633     ZG  Aeschi Thomas      V   \n",
       "1645     ZG  Aeschi Thomas      V   \n",
       "1657     ZG  Aeschi Thomas      V   \n",
       "1658     ZG  Aeschi Thomas      V   \n",
       "1689     ZG  Aeschi Thomas      V   \n",
       "1728     ZG  Aeschi Thomas      V   \n",
       "2037     ZG  Aeschi Thomas      V   \n",
       "2050     ZG  Aeschi Thomas      V   \n",
       "2052     ZG  Aeschi Thomas      V   \n",
       "2072     ZG  Aeschi Thomas      V   \n",
       "2078     ZG  Aeschi Thomas      V   \n",
       "2087     ZG  Aeschi Thomas      V   \n",
       "2179     ZG  Aeschi Thomas      V   \n",
       "\n",
       "                                                  Reden  Reden_Länge  \n",
       "41    : In welchen Situationen werden Praktika absol...         1823  \n",
       "105   : Wie erwähnt wurde, geht es beim Entsendegese...         2262  \n",
       "319   : Der EU-Botschafter in Eritrea ist klar der M...          388  \n",
       "402   : Die SVP-Fraktion hatte ursprüng lich die Sis...         1648  \n",
       "404   : Wir haben heute eine Regelung für Expatriate...         1714  \n",
       "412   : Das hier ist eine kleinere Minder heit. Sie ...         1255  \n",
       "415   : Wir sind jetzt auf Seite 7 der deutschsprach...         2203  \n",
       "426   : Wir sind, wie eben die Frau Präsi dentin aus...         1962  \n",
       "432   : Wo liegt das Problem? Das Pro blem liegt dar...         1247  \n",
       "439   : Bei Absatz 5 geht es um eine Lex Ticino, kön...          979  \n",
       "453   : Ich bitte Sie, dieses Postulat abzu lehnen. ...         1075  \n",
       "455   : Herr Kollege Schwaab, Sie ken nen genau wie ...         1367  \n",
       "736   : Die Abschaffung der Heiratsstrafe ist ja unb...         4526  \n",
       "918   :  Die Schweiz verfügt derzeit über eines der ...         3328  \n",
       "920   : Frau Badran, Sie wissen ganz ge nau, dass in...         1050  \n",
       "922   : Die S VP unterstützt die Doppelbe steuerungs...          948  \n",
       "924   : Wer profitiert genau von dieser Un ternehmen...         1160  \n",
       "926   : Ich glaube, die Redezeiten werden genau glei...          251  \n",
       "928   :  Sie haben ausgeführt, dass der Kanton Waadt...         1417  \n",
       "991   : Auch bei diesem zweiten Block bit tet Sie di...         4494  \n",
       "997   : Frau Badran, ich danke Ihnen für diese Frage...          637  \n",
       "1015  : In diesem letzten Block der Vorlage 1 behand...         6071  \n",
       "1048  : Herr Bundesrat, diese Beiträge, die von der ...          269  \n",
       "1391  : Wir haben hier im Parlament be reits sechsma...         5396  \n",
       "1393  : Ja, auf jeden Fall. Wie gesagt, habe ich in ...          658  \n",
       "1633  : Wir beschliessen ja einen Verpflich tungskre...          368  \n",
       "1645  : Herr Bundesrat, ich danke Ihnen vielmals für...          558  \n",
       "1657  : Frau Bundesrätin, ich danke Ihnen vielmals f...          170  \n",
       "1658  : Ich wiederhole meine Frage: Das heisst, bis ...          289  \n",
       "1689  : Es geht hier um den sogenannten Step-up, den...         1817  \n",
       "1728  : Worum geht es bei Artikel 25a des Gesetzes? ...         4721  \n",
       "2037  : Wie bereits ausgeführt wurde, geht es hier u...         4594  \n",
       "2050  : Für das Standortziel der Schweiz ist es wich...         1276  \n",
       "2052  : Was hat uns der Ständerat für ein Paket unte...          828  \n",
       "2072  : Es geht hier um die Abgrenzung zwischen dem ...          732  \n",
       "2078  : Es geht hier um die Formulierung, die der St...          587  \n",
       "2087  : Sie sehen auf der Fahne auf Sei te25 den Unt...         1436  \n",
       "2179  : Frau Bundesrätin, Sie haben jetzt mehrmals ü...          390  "
      ]
     },
     "execution_count": 199,
     "metadata": {},
     "output_type": "execute_result"
    }
   ],
   "source": [
    "df_Text[df_Text['Name'] == 'Aeschi Thomas']  "
   ]
  },
  {
   "cell_type": "code",
   "execution_count": 200,
   "metadata": {
    "collapsed": true
   },
   "outputs": [],
   "source": [
    "df_Text[df_Text['Name'] == 'Schelbert Louis'].to_csv('schelbert_check.csv', index=False)\n",
    "df_Text[df_Text['Name'] == 'Vogler Karl'].to_csv('vogler_check.csv', index=False)\n"
   ]
  },
  {
   "cell_type": "code",
   "execution_count": 201,
   "metadata": {
    "collapsed": false
   },
   "outputs": [
    {
     "data": {
      "text/plain": [
       "count     2274.000000\n",
       "mean      2236.852243\n",
       "std       1869.519428\n",
       "min          7.000000\n",
       "25%        553.250000\n",
       "50%       1819.000000\n",
       "75%       3510.000000\n",
       "max      12888.000000\n",
       "Name: Reden_Länge, dtype: float64"
      ]
     },
     "execution_count": 201,
     "metadata": {},
     "output_type": "execute_result"
    }
   ],
   "source": [
    "df['Reden_Länge'].describe()"
   ]
  },
  {
   "cell_type": "code",
   "execution_count": 202,
   "metadata": {
    "collapsed": false
   },
   "outputs": [
    {
     "data": {
      "text/html": [
       "<div>\n",
       "<table border=\"1\" class=\"dataframe\">\n",
       "  <thead>\n",
       "    <tr style=\"text-align: right;\">\n",
       "      <th></th>\n",
       "      <th>Kanton_x</th>\n",
       "      <th>Name</th>\n",
       "      <th>Partei</th>\n",
       "      <th>Reden_Länge</th>\n",
       "      <th>Rede Minuten</th>\n",
       "      <th>Ost_West</th>\n",
       "      <th>Rat</th>\n",
       "      <th>Anrede 1</th>\n",
       "      <th>Geschlecht</th>\n",
       "      <th>Vorname</th>\n",
       "      <th>...</th>\n",
       "      <th>PLZ (Mailing)</th>\n",
       "      <th>Ort (Mailing)</th>\n",
       "      <th>Tel. (Mailing)</th>\n",
       "      <th>Fax (Mailing)</th>\n",
       "      <th>Homepage (Mailing)</th>\n",
       "      <th>Arbeitssprache</th>\n",
       "      <th>Fraktion</th>\n",
       "      <th>Kanton_y</th>\n",
       "      <th>Geburtsjahr</th>\n",
       "      <th>VereidigungsDatum</th>\n",
       "    </tr>\n",
       "  </thead>\n",
       "  <tbody>\n",
       "    <tr>\n",
       "      <th>1110</th>\n",
       "      <td>GE</td>\n",
       "      <td>Amaudruz Céline</td>\n",
       "      <td>V</td>\n",
       "      <td>12888</td>\n",
       "      <td>11.716364</td>\n",
       "      <td>1</td>\n",
       "      <td>NR</td>\n",
       "      <td>Madame</td>\n",
       "      <td>w</td>\n",
       "      <td>Céline</td>\n",
       "      <td>...</td>\n",
       "      <td>1206</td>\n",
       "      <td>Genève</td>\n",
       "      <td>NaN</td>\n",
       "      <td>NaN</td>\n",
       "      <td>NaN</td>\n",
       "      <td>f</td>\n",
       "      <td>V</td>\n",
       "      <td>GE</td>\n",
       "      <td>1979</td>\n",
       "      <td>2011</td>\n",
       "    </tr>\n",
       "  </tbody>\n",
       "</table>\n",
       "<p>1 rows × 41 columns</p>\n",
       "</div>"
      ],
      "text/plain": [
       "     Kanton_x             Name Partei  Reden_Länge  Rede Minuten  Ost_West  \\\n",
       "1110       GE  Amaudruz Céline      V        12888     11.716364         1   \n",
       "\n",
       "     Rat Anrede 1 Geschlecht Vorname        ...        PLZ (Mailing)  \\\n",
       "1110  NR   Madame          w  Céline        ...                 1206   \n",
       "\n",
       "     Ort (Mailing) Tel. (Mailing) Fax (Mailing) Homepage (Mailing)  \\\n",
       "1110        Genève            NaN           NaN                NaN   \n",
       "\n",
       "      Arbeitssprache Fraktion Kanton_y Geburtsjahr VereidigungsDatum  \n",
       "1110               f        V       GE        1979              2011  \n",
       "\n",
       "[1 rows x 41 columns]"
      ]
     },
     "execution_count": 202,
     "metadata": {},
     "output_type": "execute_result"
    }
   ],
   "source": [
    "df['Rede Minuten'].sort_values(ascending=False)\n",
    "df[df['Reden_Länge'] == 12888]"
   ]
  },
  {
   "cell_type": "code",
   "execution_count": 203,
   "metadata": {
    "collapsed": true
   },
   "outputs": [],
   "source": [
    "df_Text[df_Text['Name'] == 'Amaudruz Céline'].to_csv('amaudraz.csv', index=False)"
   ]
  },
  {
   "cell_type": "code",
   "execution_count": null,
   "metadata": {
    "collapsed": true
   },
   "outputs": [],
   "source": []
  },
  {
   "cell_type": "code",
   "execution_count": 204,
   "metadata": {
    "collapsed": false
   },
   "outputs": [
    {
     "data": {
      "text/plain": [
       "<matplotlib.axes._subplots.AxesSubplot at 0x109e1ebe0>"
      ]
     },
     "execution_count": 204,
     "metadata": {},
     "output_type": "execute_result"
    },
    {
     "data": {
      "image/png": "[encoded data removed]",
      "text/plain": [
       "<matplotlib.figure.Figure at 0x109edf1d0>"
      ]
     },
     "metadata": {},
     "output_type": "display_data"
    }
   ],
   "source": [
    "df.plot(kind='scatter', x='VereidigungsDatum', y='Rede Minuten')"
   ]
  },
  {
   "cell_type": "code",
   "execution_count": 205,
   "metadata": {
    "collapsed": false
   },
   "outputs": [
    {
     "data": {
      "text/html": [
       "<div>\n",
       "<table border=\"1\" class=\"dataframe\">\n",
       "  <thead>\n",
       "    <tr style=\"text-align: right;\">\n",
       "      <th></th>\n",
       "      <th>Reden_Länge</th>\n",
       "      <th>Rede Minuten</th>\n",
       "      <th>Ost_West</th>\n",
       "      <th>PLZ (Postadresse)</th>\n",
       "      <th>Geburtsjahr</th>\n",
       "      <th>VereidigungsDatum</th>\n",
       "    </tr>\n",
       "  </thead>\n",
       "  <tbody>\n",
       "    <tr>\n",
       "      <th>Reden_Länge</th>\n",
       "      <td>1.000000</td>\n",
       "      <td>1.000000</td>\n",
       "      <td>-0.123749</td>\n",
       "      <td>-0.119673</td>\n",
       "      <td>0.051451</td>\n",
       "      <td>0.024965</td>\n",
       "    </tr>\n",
       "    <tr>\n",
       "      <th>Rede Minuten</th>\n",
       "      <td>1.000000</td>\n",
       "      <td>1.000000</td>\n",
       "      <td>-0.123749</td>\n",
       "      <td>-0.119673</td>\n",
       "      <td>0.051451</td>\n",
       "      <td>0.024965</td>\n",
       "    </tr>\n",
       "    <tr>\n",
       "      <th>Ost_West</th>\n",
       "      <td>-0.123749</td>\n",
       "      <td>-0.123749</td>\n",
       "      <td>1.000000</td>\n",
       "      <td>0.888829</td>\n",
       "      <td>-0.159586</td>\n",
       "      <td>-0.011663</td>\n",
       "    </tr>\n",
       "    <tr>\n",
       "      <th>PLZ (Postadresse)</th>\n",
       "      <td>-0.119673</td>\n",
       "      <td>-0.119673</td>\n",
       "      <td>0.888829</td>\n",
       "      <td>1.000000</td>\n",
       "      <td>0.064177</td>\n",
       "      <td>0.241331</td>\n",
       "    </tr>\n",
       "    <tr>\n",
       "      <th>Geburtsjahr</th>\n",
       "      <td>0.051451</td>\n",
       "      <td>0.051451</td>\n",
       "      <td>-0.159586</td>\n",
       "      <td>0.064177</td>\n",
       "      <td>1.000000</td>\n",
       "      <td>0.497498</td>\n",
       "    </tr>\n",
       "    <tr>\n",
       "      <th>VereidigungsDatum</th>\n",
       "      <td>0.024965</td>\n",
       "      <td>0.024965</td>\n",
       "      <td>-0.011663</td>\n",
       "      <td>0.241331</td>\n",
       "      <td>0.497498</td>\n",
       "      <td>1.000000</td>\n",
       "    </tr>\n",
       "  </tbody>\n",
       "</table>\n",
       "</div>"
      ],
      "text/plain": [
       "                   Reden_Länge  Rede Minuten  Ost_West  PLZ (Postadresse)  \\\n",
       "Reden_Länge           1.000000      1.000000 -0.123749          -0.119673   \n",
       "Rede Minuten          1.000000      1.000000 -0.123749          -0.119673   \n",
       "Ost_West             -0.123749     -0.123749  1.000000           0.888829   \n",
       "PLZ (Postadresse)    -0.119673     -0.119673  0.888829           1.000000   \n",
       "Geburtsjahr           0.051451      0.051451 -0.159586           0.064177   \n",
       "VereidigungsDatum     0.024965      0.024965 -0.011663           0.241331   \n",
       "\n",
       "                   Geburtsjahr  VereidigungsDatum  \n",
       "Reden_Länge           0.051451           0.024965  \n",
       "Rede Minuten          0.051451           0.024965  \n",
       "Ost_West             -0.159586          -0.011663  \n",
       "PLZ (Postadresse)     0.064177           0.241331  \n",
       "Geburtsjahr           1.000000           0.497498  \n",
       "VereidigungsDatum     0.497498           1.000000  "
      ]
     },
     "execution_count": 205,
     "metadata": {},
     "output_type": "execute_result"
    }
   ],
   "source": [
    "df.corr()"
   ]
  },
  {
   "cell_type": "markdown",
   "metadata": {},
   "source": [
    "# Speech Length and Party"
   ]
  },
  {
   "cell_type": "code",
   "execution_count": 206,
   "metadata": {
    "collapsed": false
   },
   "outputs": [],
   "source": [
    "df_Skala = pd.read_csv(\"Skala4.csv\")\n",
    "df = df.merge(df_Skala, left_on = 'Partei', right_on ='Partei') "
   ]
  },
  {
   "cell_type": "code",
   "execution_count": 207,
   "metadata": {
    "collapsed": false
   },
   "outputs": [
    {
     "data": {
      "text/plain": [
       "<matplotlib.axes._subplots.AxesSubplot at 0x10b953c88>"
      ]
     },
     "execution_count": 207,
     "metadata": {},
     "output_type": "execute_result"
    },
    {
     "data": {
      "image/png": "[encoded data removed]",
      "text/plain": [
       "<matplotlib.figure.Figure at 0x10b958940>"
      ]
     },
     "metadata": {},
     "output_type": "display_data"
    }
   ],
   "source": [
    "df.plot(kind='scatter', y='Rede Minuten', x='Grösse')"
   ]
  },
  {
   "cell_type": "markdown",
   "metadata": {},
   "source": [
    "# Scatter Plot Sum of Talks and Party"
   ]
  },
  {
   "cell_type": "code",
   "execution_count": 208,
   "metadata": {
    "collapsed": false
   },
   "outputs": [],
   "source": [
    "SUM = pd.DataFrame(df.groupby('Name')['Rede Minuten'].sum())\n",
    "SUM.reset_index(inplace=True)\n",
    "SUM = SUM.merge(df, left_on = 'Name', right_on ='Name') "
   ]
  },
  {
   "cell_type": "code",
   "execution_count": 209,
   "metadata": {
    "collapsed": false
   },
   "outputs": [
    {
     "data": {
      "text/plain": [
       "<matplotlib.axes._subplots.AxesSubplot at 0x108578208>"
      ]
     },
     "execution_count": 209,
     "metadata": {},
     "output_type": "execute_result"
    },
    {
     "data": {
      "image/png": "[encoded data removed]",
      "text/plain": [
       "<matplotlib.figure.Figure at 0x10d0a7a58>"
      ]
     },
     "metadata": {},
     "output_type": "display_data"
    }
   ],
   "source": [
    "SUM.plot(kind='scatter', x='Grösse', y='Rede Minuten_x')"
   ]
  },
  {
   "cell_type": "code",
   "execution_count": null,
   "metadata": {
    "collapsed": true
   },
   "outputs": [],
   "source": []
  },
  {
   "cell_type": "code",
   "execution_count": null,
   "metadata": {
    "collapsed": true
   },
   "outputs": [],
   "source": []
  },
  {
   "cell_type": "code",
   "execution_count": null,
   "metadata": {
    "collapsed": true
   },
   "outputs": [],
   "source": []
  }
 ],
 "metadata": {
  "kernelspec": {
   "display_name": "Python 3",
   "language": "python",
   "name": "python3"
  },
  "language_info": {
   "codemirror_mode": {
    "name": "ipython",
    "version": 3
   },
   "file_extension": ".py",
   "mimetype": "text/x-python",
   "name": "python",
   "nbconvert_exporter": "python",
   "pygments_lexer": "ipython3",
   "version": "3.5.1"
  }
 },
 "nbformat": 4,
 "nbformat_minor": 0
}

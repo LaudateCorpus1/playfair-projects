{
 "cells": [
  {
   "cell_type": "code",
   "execution_count": 80,
   "metadata": {
    "collapsed": false
   },
   "outputs": [],
   "source": [
    "import pandas as pd\n",
    "from os import listdir\n",
    "import pandas as pd\n",
    "import numpy as np\n",
    "import matplotlib.pyplot as plt\n",
    "import matplotlib\n",
    "%matplotlib inline\n",
    "matplotlib.rcParams['pdf.fonttype'] = 42\n",
    "matplotlib.rcParams['ps.fonttype'] = 42"
   ]
  },
  {
   "cell_type": "markdown",
   "metadata": {},
   "source": [
    "# Importing all of our Files and Concating them"
   ]
  },
  {
   "cell_type": "markdown",
   "metadata": {},
   "source": [
    "# Reimporting all two files: Top 7 Hospitals, All of the files"
   ]
  },
  {
   "cell_type": "code",
   "execution_count": 250,
   "metadata": {
    "collapsed": false
   },
   "outputs": [],
   "source": [
    "df_TOP7 = pd.read_csv('data/TOP7HOSPITALS.csv')"
   ]
  },
  {
   "cell_type": "code",
   "execution_count": 251,
   "metadata": {
    "collapsed": true
   },
   "outputs": [],
   "source": [
    "df_ALL = pd.read_csv('data/INSTITUTIONS_ALL_KINDOFCLUSTERED.csv')"
   ]
  },
  {
   "cell_type": "code",
   "execution_count": 252,
   "metadata": {
    "collapsed": false
   },
   "outputs": [],
   "source": [
    "df_cantons = pd.read_csv('data/GEMEINDEN.csv')"
   ]
  },
  {
   "cell_type": "markdown",
   "metadata": {
    "collapsed": true
   },
   "source": [
    "## Examining Top 7 "
   ]
  },
  {
   "cell_type": "markdown",
   "metadata": {},
   "source": [
    "## 1. a) How much do the large Swiss hospitals get?"
   ]
  },
  {
   "cell_type": "code",
   "execution_count": 253,
   "metadata": {
    "collapsed": false
   },
   "outputs": [
    {
     "data": {
      "text/html": [
       "<div>\n",
       "<table border=\"1\" class=\"dataframe\">\n",
       "  <thead>\n",
       "    <tr style=\"text-align: right;\">\n",
       "      <th></th>\n",
       "      <th>PERIOD</th>\n",
       "      <th>COMPANY</th>\n",
       "      <th>INSTITUTION</th>\n",
       "      <th>INSTITUTIONS_CLUSTERED</th>\n",
       "      <th>CITY</th>\n",
       "      <th>COUNTRY</th>\n",
       "      <th>ADDRESS</th>\n",
       "      <th>ADDRESS CLUSTERED</th>\n",
       "      <th>DONATIONS AND GRANTS</th>\n",
       "      <th>SPONSORSHIPS</th>\n",
       "      <th>REGISTRATION FEES</th>\n",
       "      <th>TRAVEL AND ACCOMMODATION</th>\n",
       "      <th>FEES</th>\n",
       "      <th>OTHER EXPENSES AND CONSULTANCY</th>\n",
       "      <th>TOTAL</th>\n",
       "    </tr>\n",
       "  </thead>\n",
       "  <tbody>\n",
       "    <tr>\n",
       "      <th>0</th>\n",
       "      <td>2015</td>\n",
       "      <td>A. Menarini AG</td>\n",
       "      <td>CHUV Centre Hospitalier Uni Vaudois</td>\n",
       "      <td>Universitätsspital Lausanne (CHUV)</td>\n",
       "      <td>Lausanne</td>\n",
       "      <td>CH</td>\n",
       "      <td>Rue du Bugnon21</td>\n",
       "      <td>Rue du Bugnon 21</td>\n",
       "      <td>NaN</td>\n",
       "      <td>6704</td>\n",
       "      <td>204</td>\n",
       "      <td>1689</td>\n",
       "      <td>811</td>\n",
       "      <td>NaN</td>\n",
       "      <td>9408.0</td>\n",
       "    </tr>\n",
       "  </tbody>\n",
       "</table>\n",
       "</div>"
      ],
      "text/plain": [
       "   PERIOD         COMPANY                          INSTITUTION  \\\n",
       "0    2015  A. Menarini AG  CHUV Centre Hospitalier Uni Vaudois   \n",
       "\n",
       "               INSTITUTIONS_CLUSTERED      CITY COUNTRY          ADDRESS  \\\n",
       "0  Universitätsspital Lausanne (CHUV)  Lausanne      CH  Rue du Bugnon21   \n",
       "\n",
       "  ADDRESS CLUSTERED DONATIONS AND GRANTS SPONSORSHIPS REGISTRATION FEES  \\\n",
       "0  Rue du Bugnon 21                  NaN         6704               204   \n",
       "\n",
       "  TRAVEL AND ACCOMMODATION FEES  OTHER EXPENSES AND CONSULTANCY   TOTAL  \n",
       "0                     1689  811                             NaN  9408.0  "
      ]
     },
     "execution_count": 253,
     "metadata": {},
     "output_type": "execute_result"
    }
   ],
   "source": [
    "df_TOP7.head(1)"
   ]
  },
  {
   "cell_type": "code",
   "execution_count": 254,
   "metadata": {
    "collapsed": false,
    "scrolled": true
   },
   "outputs": [
    {
     "data": {
      "text/plain": [
       "INSTITUTIONS_CLUSTERED\n",
       "Universitätsspital Bern (Insel)       2089522.27\n",
       "Universitätsspital Basel              1981319.75\n",
       "Universitätsspital Zürich             1854796.84\n",
       "Universitätsspital Lausanne (CHUV)    1476167.65\n",
       "Kantonsspital St. Gallen              1241732.39\n",
       "Universitätsspital Genf\\n(HCUGE)       961168.76\n",
       "Kantonsspital Luzern                   593801.09\n",
       "Name: TOTAL, dtype: float64"
      ]
     },
     "execution_count": 254,
     "metadata": {},
     "output_type": "execute_result"
    }
   ],
   "source": [
    "df_TOP7.groupby('INSTITUTIONS_CLUSTERED')['TOTAL'].sum().sort_values(ascending=False)"
   ]
  },
  {
   "cell_type": "code",
   "execution_count": 255,
   "metadata": {
    "collapsed": false
   },
   "outputs": [
    {
     "data": {
      "image/png": "[encoded data removed]",
      "text/plain": [
       "<matplotlib.figure.Figure at 0x114a61e10>"
      ]
     },
     "metadata": {},
     "output_type": "display_data"
    }
   ],
   "source": [
    "matplotlib.rcParams['font.sans-serif'] = \"DIN Condensed\"\n",
    "matplotlib.rcParams['font.family'] = \"DIN Condensed\"\n",
    "\n",
    "fig, ax = plt.subplots(figsize =(5,6), facecolor='White')\n",
    "\n",
    "df_TOP7.groupby('INSTITUTIONS_CLUSTERED')['TOTAL'].sum().sort_values(ascending=True).plot\\\n",
    "                                                        (kind='barh', ax=ax, color='tomato')\n",
    "    \n",
    "ax.set_title(\"Pharma-Zahlungen an die sieben grössten Spitäler 2015\", fontname='DIN Condensed', fontsize=24)\n",
    "ax.set_ylabel(ylabel='')\n",
    "plt.tick_params(\n",
    "    #axis='x',\n",
    "    top='off',\n",
    "    which='major',\n",
    "    left='off',\n",
    "    right='off',\n",
    "    bottom='off',\n",
    "    labeltop='off',\n",
    "    labelbottom='on',\n",
    "    labelright='off',\n",
    "    labelleft='on')\n",
    "\n",
    "ax.set_axisbelow(True)\n",
    "\n",
    "ax.spines['top'].set_visible(False)\n",
    "ax.spines['right'].set_visible(False)\n",
    "ax.spines['bottom'].set_visible(False)\n",
    "ax.spines['left'].set_visible(False)\n",
    "\n",
    "plt.savefig('Zahlung_an_Spitäler_TOTAL.pdf', transparent=True, bbox_inches='tight')"
   ]
  },
  {
   "cell_type": "markdown",
   "metadata": {},
   "source": [
    "## 1 b) And how much do the various companies give them? Do some pharma-multis prefer some hospitals over others?"
   ]
  },
  {
   "cell_type": "code",
   "execution_count": 256,
   "metadata": {
    "collapsed": false
   },
   "outputs": [
    {
     "data": {
      "image/png": "[encoded data removed]",
      "text/plain": [
       "<matplotlib.figure.Figure at 0x113231a58>"
      ]
     },
     "metadata": {},
     "output_type": "display_data"
    }
   ],
   "source": [
    "fig, ((ax1, ax2), (ax4, ax5), (ax6, ax7), (ax8, ax9)) = plt.subplots(facecolor='White', nrows=4, ncols=2, figsize=(6,9), sharex=True, sharey=False)\n",
    "\n",
    "ax.set_title(\"Welche Pharma-Firmen zahlen den Spitälern am meisten\", fontname='DIN Condensed', fontsize=24)\n",
    "\n",
    "df_TOP7[df_TOP7['INSTITUTIONS_CLUSTERED'] == 'Universitätsspital Bern (Insel)'].groupby('COMPANY')['TOTAL'].sum().sort_values(ascending=True).tail(5).plot(ax=ax1, kind='barh')\n",
    "ax1.set_title(\"Insel\")\n",
    "df_TOP7[df_TOP7['INSTITUTIONS_CLUSTERED'] == 'Universitätsspital Zürich'].groupby('COMPANY')['TOTAL'].sum().sort_values(ascending=True).tail(5).plot(ax=ax4, kind='barh')\n",
    "ax4.set_title('Zürich')\n",
    "df_TOP7[df_TOP7['INSTITUTIONS_CLUSTERED'] == 'Universitätsspital Basel'].groupby('COMPANY')['TOTAL'].sum().sort_values(ascending=True).tail(5).plot(ax=ax2, kind='barh')\n",
    "ax2.set_title('Basel')\n",
    "df_TOP7[df_TOP7['INSTITUTIONS_CLUSTERED'] == 'Universitätsspital Lausanne (CHUV)'].groupby('COMPANY')['TOTAL'].sum().sort_values(ascending=True).tail(5).plot(ax=ax5, kind='barh')\n",
    "ax5.set_title('Lausanne')\n",
    "df_TOP7[df_TOP7['INSTITUTIONS_CLUSTERED'] == 'Kantonsspital St. Gallen'].groupby('COMPANY')['TOTAL'].sum().sort_values(ascending=True).tail(5).plot(ax=ax6, kind='barh')\n",
    "ax6.set_title('St. Gallen')\n",
    "df_TOP7[df_TOP7['INSTITUTIONS_CLUSTERED'] == 'Universitätsspital Genf\\n(HCUGE)'].groupby('COMPANY')['TOTAL'].sum().sort_values(ascending=True).tail(5).plot(ax=ax7, kind='barh')\n",
    "ax7.set_title('Genf')\n",
    "df_TOP7[df_TOP7['INSTITUTIONS_CLUSTERED'] == 'Kantonsspital Luzern'].groupby('COMPANY')['TOTAL'].sum().sort_values(ascending=True).tail(5).plot(ax=ax8, kind='barh')\n",
    "ax8.set_title('Luzern')\n",
    "\n",
    "plt.savefig('Zahlung_an_Spitäler_SMALL_MULTIPLES.pdf', transparent=True, bbox_inches='tight')"
   ]
  },
  {
   "cell_type": "markdown",
   "metadata": {},
   "source": [
    "## 2 How is the money distributed to the hospitals distributed by canton?"
   ]
  },
  {
   "cell_type": "code",
   "execution_count": 257,
   "metadata": {
    "collapsed": false
   },
   "outputs": [],
   "source": [
    "#Function to deal with totals when importing the data importing:\n",
    "\n",
    "def int_(x):\n",
    "    if x == '5591-09-01 00:00:00':\n",
    "        return float(x[0:4])\n",
    "    elif x == '2000 00':\n",
    "        return float(x[0:4])\n",
    "    elif x == '700 00':\n",
    "        return float(x[0:3])\n",
    "    elif x == \"1'000.0\":\n",
    "        return float(x[:1]*1000)\n",
    "    elif x == \"6'275.9\":\n",
    "        return float(x.replace(\"'\", \"\"))\n",
    "    elif x == \"84'089.6\":\n",
    "        return float(x.replace(\"'\", \"\"))\n",
    "    elif x == \"12'000.0\":\n",
    "        return float(x.replace(\"'\", \"\"))\n",
    "    elif x == \"4'000.0\":\n",
    "        return float(x.replace(\"'\", \"\"))\n",
    "    else:\n",
    "        return float(x)"
   ]
  },
  {
   "cell_type": "code",
   "execution_count": 258,
   "metadata": {
    "collapsed": false
   },
   "outputs": [],
   "source": [
    "df_ALL['TOTAL int'] = df_ALL['TOTAL'].apply(int_)"
   ]
  },
  {
   "cell_type": "code",
   "execution_count": 259,
   "metadata": {
    "collapsed": false
   },
   "outputs": [],
   "source": [
    "#Merging to pull out Kantons:\n",
    "df_wCantons = df_ALL.merge(df_cantons, left_on = 'CITY', right_on ='GEMEINDEN') "
   ]
  },
  {
   "cell_type": "code",
   "execution_count": 260,
   "metadata": {
    "collapsed": false
   },
   "outputs": [
    {
     "data": {
      "text/plain": [
       "54370282.049999997"
      ]
     },
     "execution_count": 260,
     "metadata": {},
     "output_type": "execute_result"
    }
   ],
   "source": [
    "df_wCantons['TOTAL int'].sum()"
   ]
  },
  {
   "cell_type": "code",
   "execution_count": 369,
   "metadata": {
    "collapsed": false
   },
   "outputs": [
    {
     "data": {
      "image/png": "[encoded data removed]",
      "text/plain": [
       "<matplotlib.figure.Figure at 0x112d36a90>"
      ]
     },
     "metadata": {},
     "output_type": "display_data"
    }
   ],
   "source": [
    "fig, ax = plt.subplots(figsize =(10,5), facecolor='White')\n",
    "ax.set_title(\"Zahlungen der Pharma-Firmen an Spitäler und Verein im kantonalen Vergleich\", fontname='DIN Condensed', fontsize=24)\n",
    "\n",
    "df_wCantons.groupby('KANTON')['TOTAL int'].sum().sort_values(ascending=False).plot(kind='bar', color='tomato')\n",
    "\n",
    "ax.set_ylabel(ylabel='')\n",
    "ax.set_xlabel(xlabel='')\n",
    "plt.tick_params(\n",
    "    #axis='x',\n",
    "    top='off',\n",
    "    which='major',\n",
    "    left='off',\n",
    "    right='off',\n",
    "    bottom='off',\n",
    "    labeltop='off',\n",
    "    labelbottom='on',\n",
    "    labelright='off',\n",
    "    labelleft='on')\n",
    "\n",
    "ax.set_axisbelow(True)\n",
    "\n",
    "ax.spines['top'].set_visible(False)\n",
    "ax.spines['right'].set_visible(False)\n",
    "ax.spines['bottom'].set_visible(False)\n",
    "ax.spines['left'].set_visible(False)\n",
    "\n",
    "plt.savefig('Total_Zahlungn_nach-Kanton.pdf', transparent=True, bbox_inches='tight')"
   ]
  },
  {
   "cell_type": "markdown",
   "metadata": {},
   "source": [
    "# Developing the Scatter Plot to go with the Bar Graphs"
   ]
  },
  {
   "cell_type": "code",
   "execution_count": 262,
   "metadata": {
    "collapsed": true
   },
   "outputs": [],
   "source": [
    "df_CANTONNUMBERS = pd.read_csv('data/KANTONNUMBERS.csv')"
   ]
  },
  {
   "cell_type": "code",
   "execution_count": 263,
   "metadata": {
    "collapsed": false
   },
   "outputs": [],
   "source": [
    "df_wCantons = df_wCantons.merge(df_CANTONNUMBERS, left_on = 'KANTON', right_on ='KANTON')"
   ]
  },
  {
   "cell_type": "code",
   "execution_count": 367,
   "metadata": {
    "collapsed": false
   },
   "outputs": [
    {
     "data": {
      "image/png": "[encoded data removed]",
      "text/plain": [
       "<matplotlib.figure.Figure at 0x1136523c8>"
      ]
     },
     "metadata": {},
     "output_type": "display_data"
    }
   ],
   "source": [
    "fig, ax = plt.subplots(figsize =(10,5), facecolor='WhiteSmoke')\n",
    "ax.set_title(\"The Biggest payment above 4 Million Swiss Francs\", fontname='DIN Condensed', fontsize=24)\n",
    "\n",
    "df_wCantons.plot(kind='scatter', x='KANTONNUMBER', y='TOTAL int', ax=ax, s=25, c='tomato')\n",
    "ax.set_xlim([0, 28])\n",
    "ax.set_ylim([-100000, 13000000])\n",
    "plt.savefig('Scatter.pdf', transparent=True, bbox_inches='tight')"
   ]
  },
  {
   "cell_type": "code",
   "execution_count": 265,
   "metadata": {
    "collapsed": false
   },
   "outputs": [
    {
     "data": {
      "text/html": [
       "<div>\n",
       "<table border=\"1\" class=\"dataframe\">\n",
       "  <thead>\n",
       "    <tr style=\"text-align: right;\">\n",
       "      <th></th>\n",
       "      <th>PERIOD</th>\n",
       "      <th>COMPANY</th>\n",
       "      <th>INSTITUTION</th>\n",
       "      <th>INSTITUTIONS_CLUSTERED</th>\n",
       "      <th>CITY</th>\n",
       "      <th>COUNTRY</th>\n",
       "      <th>ADDRESS</th>\n",
       "      <th>ADDRESS CLUSTERED</th>\n",
       "      <th>DONATIONS AND GRANTS</th>\n",
       "      <th>SPONSORSHIPS</th>\n",
       "      <th>REGISTRATION FEES</th>\n",
       "      <th>TRAVEL AND ACCOMMODATION</th>\n",
       "      <th>FEES</th>\n",
       "      <th>OTHER EXPENSES AND CONSULTANCY</th>\n",
       "      <th>TOTAL</th>\n",
       "      <th>TOTAL int</th>\n",
       "      <th>INDEX</th>\n",
       "      <th>GEMEINDEN</th>\n",
       "      <th>KANTON</th>\n",
       "      <th>KANTONNUMBER</th>\n",
       "    </tr>\n",
       "  </thead>\n",
       "  <tbody>\n",
       "    <tr>\n",
       "      <th>1286</th>\n",
       "      <td>2015</td>\n",
       "      <td>ROCHE</td>\n",
       "      <td>ESMO (European Society for Medical Oncology)</td>\n",
       "      <td>ESMO (European Society for Medical Oncology)</td>\n",
       "      <td>Viganello</td>\n",
       "      <td>CH</td>\n",
       "      <td>Via Luigi Taddei 4, 6962, Viganello</td>\n",
       "      <td>Via Luigi Taddei 4</td>\n",
       "      <td>365731</td>\n",
       "      <td>544288</td>\n",
       "      <td>0</td>\n",
       "      <td>0</td>\n",
       "      <td>0</td>\n",
       "      <td>0</td>\n",
       "      <td>910019</td>\n",
       "      <td>910019.00</td>\n",
       "      <td>243</td>\n",
       "      <td>Viganello</td>\n",
       "      <td>TI</td>\n",
       "      <td>4.0</td>\n",
       "    </tr>\n",
       "    <tr>\n",
       "      <th>1164</th>\n",
       "      <td>2015</td>\n",
       "      <td>Novartis Pharma Schweiz AG</td>\n",
       "      <td>European School for Advanced Studies in Ophtha...</td>\n",
       "      <td>European School for Advanced Studies in Ophtha...</td>\n",
       "      <td>Lugano</td>\n",
       "      <td>CH</td>\n",
       "      <td>Viale Stefano Franscini 9</td>\n",
       "      <td>Viale Stefano Franscini 9</td>\n",
       "      <td>NaN</td>\n",
       "      <td>636709.2</td>\n",
       "      <td>35073.44</td>\n",
       "      <td>NaN</td>\n",
       "      <td>NaN</td>\n",
       "      <td>NaN</td>\n",
       "      <td>671782.64</td>\n",
       "      <td>671782.64</td>\n",
       "      <td>227</td>\n",
       "      <td>Lugano</td>\n",
       "      <td>TI</td>\n",
       "      <td>4.0</td>\n",
       "    </tr>\n",
       "    <tr>\n",
       "      <th>1284</th>\n",
       "      <td>2015</td>\n",
       "      <td>MSD Merck Sharp &amp; Dohme AG</td>\n",
       "      <td>European Society for Medical Oncology</td>\n",
       "      <td>European Society for Medical Oncology</td>\n",
       "      <td>Viganello</td>\n",
       "      <td>CH</td>\n",
       "      <td>Via Luigi Taddei 4</td>\n",
       "      <td>Via Luigi Taddei 4</td>\n",
       "      <td>NaN</td>\n",
       "      <td>463704.32</td>\n",
       "      <td>NaN</td>\n",
       "      <td>NaN</td>\n",
       "      <td>NaN</td>\n",
       "      <td>NaN</td>\n",
       "      <td>463704.32</td>\n",
       "      <td>463704.32</td>\n",
       "      <td>243</td>\n",
       "      <td>Viganello</td>\n",
       "      <td>TI</td>\n",
       "      <td>4.0</td>\n",
       "    </tr>\n",
       "  </tbody>\n",
       "</table>\n",
       "</div>"
      ],
      "text/plain": [
       "      PERIOD                     COMPANY  \\\n",
       "1286    2015                       ROCHE   \n",
       "1164    2015  Novartis Pharma Schweiz AG   \n",
       "1284    2015  MSD Merck Sharp & Dohme AG   \n",
       "\n",
       "                                            INSTITUTION  \\\n",
       "1286       ESMO (European Society for Medical Oncology)   \n",
       "1164  European School for Advanced Studies in Ophtha...   \n",
       "1284              European Society for Medical Oncology   \n",
       "\n",
       "                                 INSTITUTIONS_CLUSTERED       CITY COUNTRY  \\\n",
       "1286       ESMO (European Society for Medical Oncology)  Viganello      CH   \n",
       "1164  European School for Advanced Studies in Ophtha...     Lugano      CH   \n",
       "1284              European Society for Medical Oncology  Viganello      CH   \n",
       "\n",
       "                                  ADDRESS          ADDRESS CLUSTERED  \\\n",
       "1286  Via Luigi Taddei 4, 6962, Viganello         Via Luigi Taddei 4   \n",
       "1164            Viale Stefano Franscini 9  Viale Stefano Franscini 9   \n",
       "1284                   Via Luigi Taddei 4         Via Luigi Taddei 4   \n",
       "\n",
       "     DONATIONS AND GRANTS SPONSORSHIPS REGISTRATION FEES  \\\n",
       "1286               365731       544288                 0   \n",
       "1164                  NaN     636709.2          35073.44   \n",
       "1284                  NaN    463704.32               NaN   \n",
       "\n",
       "     TRAVEL AND ACCOMMODATION FEES OTHER EXPENSES AND CONSULTANCY      TOTAL  \\\n",
       "1286                        0    0                              0     910019   \n",
       "1164                      NaN  NaN                            NaN  671782.64   \n",
       "1284                      NaN  NaN                            NaN  463704.32   \n",
       "\n",
       "      TOTAL int  INDEX  GEMEINDEN KANTON  KANTONNUMBER  \n",
       "1286  910019.00    243  Viganello     TI           4.0  \n",
       "1164  671782.64    227     Lugano     TI           4.0  \n",
       "1284  463704.32    243  Viganello     TI           4.0  "
      ]
     },
     "execution_count": 265,
     "metadata": {},
     "output_type": "execute_result"
    }
   ],
   "source": [
    "df_wCantons[df_wCantons['KANTON'] == 'TI'].sort_values(by='TOTAL int', ascending=False).head(3)"
   ]
  },
  {
   "cell_type": "code",
   "execution_count": 266,
   "metadata": {
    "collapsed": false
   },
   "outputs": [
    {
     "data": {
      "text/html": [
       "<div>\n",
       "<table border=\"1\" class=\"dataframe\">\n",
       "  <thead>\n",
       "    <tr style=\"text-align: right;\">\n",
       "      <th></th>\n",
       "      <th>PERIOD</th>\n",
       "      <th>COMPANY</th>\n",
       "      <th>INSTITUTION</th>\n",
       "      <th>INSTITUTIONS_CLUSTERED</th>\n",
       "      <th>CITY</th>\n",
       "      <th>COUNTRY</th>\n",
       "      <th>ADDRESS</th>\n",
       "      <th>ADDRESS CLUSTERED</th>\n",
       "      <th>DONATIONS AND GRANTS</th>\n",
       "      <th>SPONSORSHIPS</th>\n",
       "      <th>REGISTRATION FEES</th>\n",
       "      <th>TRAVEL AND ACCOMMODATION</th>\n",
       "      <th>FEES</th>\n",
       "      <th>OTHER EXPENSES AND CONSULTANCY</th>\n",
       "      <th>TOTAL</th>\n",
       "      <th>TOTAL int</th>\n",
       "      <th>INDEX</th>\n",
       "      <th>GEMEINDEN</th>\n",
       "      <th>KANTON</th>\n",
       "      <th>KANTONNUMBER</th>\n",
       "    </tr>\n",
       "  </thead>\n",
       "  <tbody>\n",
       "    <tr>\n",
       "      <th>2751</th>\n",
       "      <td>2015</td>\n",
       "      <td>Merck (Schweiz) AG</td>\n",
       "      <td>EXCEMED - Excellence in Medical Education</td>\n",
       "      <td>EXCEMED - Excellence in Medical Education</td>\n",
       "      <td>Genève</td>\n",
       "      <td>CH</td>\n",
       "      <td>14, rue du Rhône</td>\n",
       "      <td>14, rue du Rhône</td>\n",
       "      <td>4043310.1</td>\n",
       "      <td>0</td>\n",
       "      <td>0</td>\n",
       "      <td>0</td>\n",
       "      <td>0</td>\n",
       "      <td>0</td>\n",
       "      <td>4043310.1</td>\n",
       "      <td>4043310.10</td>\n",
       "      <td>101</td>\n",
       "      <td>Genève</td>\n",
       "      <td>GE</td>\n",
       "      <td>2.0</td>\n",
       "    </tr>\n",
       "    <tr>\n",
       "      <th>2660</th>\n",
       "      <td>2015</td>\n",
       "      <td>AbbVie AG</td>\n",
       "      <td>EASL (European Association for the Study of th...</td>\n",
       "      <td>EASL (European Association for the Study of th...</td>\n",
       "      <td>Genève</td>\n",
       "      <td>CH</td>\n",
       "      <td>The EASL Building</td>\n",
       "      <td>The EASL Building</td>\n",
       "      <td>2359</td>\n",
       "      <td>1156210</td>\n",
       "      <td>NaN</td>\n",
       "      <td>NaN</td>\n",
       "      <td>NaN</td>\n",
       "      <td>NaN</td>\n",
       "      <td>1158569</td>\n",
       "      <td>1158569.00</td>\n",
       "      <td>101</td>\n",
       "      <td>Genève</td>\n",
       "      <td>GE</td>\n",
       "      <td>2.0</td>\n",
       "    </tr>\n",
       "    <tr>\n",
       "      <th>2850</th>\n",
       "      <td>2015</td>\n",
       "      <td>UCB-Pharma AG</td>\n",
       "      <td>WHO / QMS</td>\n",
       "      <td>WHO / QMS</td>\n",
       "      <td>Genève</td>\n",
       "      <td>CH</td>\n",
       "      <td>Avenue Appia 20</td>\n",
       "      <td>Avenue Appia 20</td>\n",
       "      <td>NaN</td>\n",
       "      <td>827515.79</td>\n",
       "      <td>0</td>\n",
       "      <td>0</td>\n",
       "      <td>0</td>\n",
       "      <td>0</td>\n",
       "      <td>827615.79</td>\n",
       "      <td>827615.79</td>\n",
       "      <td>101</td>\n",
       "      <td>Genève</td>\n",
       "      <td>GE</td>\n",
       "      <td>2.0</td>\n",
       "    </tr>\n",
       "  </tbody>\n",
       "</table>\n",
       "</div>"
      ],
      "text/plain": [
       "      PERIOD             COMPANY  \\\n",
       "2751    2015  Merck (Schweiz) AG   \n",
       "2660    2015           AbbVie AG   \n",
       "2850    2015       UCB-Pharma AG   \n",
       "\n",
       "                                            INSTITUTION  \\\n",
       "2751          EXCEMED - Excellence in Medical Education   \n",
       "2660  EASL (European Association for the Study of th...   \n",
       "2850                                          WHO / QMS   \n",
       "\n",
       "                                 INSTITUTIONS_CLUSTERED    CITY COUNTRY  \\\n",
       "2751          EXCEMED - Excellence in Medical Education  Genève      CH   \n",
       "2660  EASL (European Association for the Study of th...  Genève      CH   \n",
       "2850                                          WHO / QMS  Genève      CH   \n",
       "\n",
       "                ADDRESS  ADDRESS CLUSTERED DONATIONS AND GRANTS SPONSORSHIPS  \\\n",
       "2751   14, rue du Rhône   14, rue du Rhône            4043310.1            0   \n",
       "2660  The EASL Building  The EASL Building                 2359      1156210   \n",
       "2850    Avenue Appia 20    Avenue Appia 20                  NaN    827515.79   \n",
       "\n",
       "     REGISTRATION FEES TRAVEL AND ACCOMMODATION FEES  \\\n",
       "2751                 0                        0    0   \n",
       "2660               NaN                      NaN  NaN   \n",
       "2850                 0                        0    0   \n",
       "\n",
       "     OTHER EXPENSES AND CONSULTANCY      TOTAL   TOTAL int  INDEX GEMEINDEN  \\\n",
       "2751                              0  4043310.1  4043310.10    101    Genève   \n",
       "2660                            NaN    1158569  1158569.00    101    Genève   \n",
       "2850                              0  827615.79   827615.79    101    Genève   \n",
       "\n",
       "     KANTON  KANTONNUMBER  \n",
       "2751     GE           2.0  \n",
       "2660     GE           2.0  \n",
       "2850     GE           2.0  "
      ]
     },
     "execution_count": 266,
     "metadata": {},
     "output_type": "execute_result"
    }
   ],
   "source": [
    "df_wCantons[df_wCantons['KANTON'] == 'GE'].sort_values(by='TOTAL int', ascending=False).head(3)"
   ]
  },
  {
   "cell_type": "code",
   "execution_count": 267,
   "metadata": {
    "collapsed": true
   },
   "outputs": [],
   "source": [
    "#Vereine und Spitäler in Zürich bekommen am meisten von er Pharma-Branche. \n",
    "#Obwohl das Tessin kein grosses Spital hat, bekommen Institutionen im Tessin \n",
    "#am viertmeisten Geld. Das hat vor allem mit der Organisation ESMO (European Society \n",
    "#for Medical Oncology) zu tun. Allein von Roche erhielt die Organisation \n",
    "#knapp 910019 CHF Gelder. Rund ein Drittel davon als einfache Spende."
   ]
  },
  {
   "cell_type": "code",
   "execution_count": 268,
   "metadata": {
    "collapsed": true
   },
   "outputs": [],
   "source": [
    "#Wenn man sich die Durchschnittlichen Zahlungen anschaut, gibt es ein anderes Bild. Genf \n",
    "#hat die höchsten durschnittliclhen Zahlungen. Das hat vor allem mit der Zahlung der Firma\n",
    "#Merck (Schweiz) AG zu tun, die \"EXCEMED - Excellence in Medical Education\" mit einer Spende\n",
    "#von über 4 Millionen CHF unterstützt hat."
   ]
  },
  {
   "cell_type": "code",
   "execution_count": 269,
   "metadata": {
    "collapsed": true
   },
   "outputs": [],
   "source": [
    "#Prepping file for export\n",
    "del df_wCantons['INDEX']"
   ]
  },
  {
   "cell_type": "code",
   "execution_count": 270,
   "metadata": {
    "collapsed": false
   },
   "outputs": [],
   "source": [
    "del df_wCantons['DONATIONS AND GRANTS']\n",
    "del df_wCantons['SPONSORSHIPS']\n",
    "del df_wCantons['TRAVEL AND ACCOMMODATION']\n",
    "del df_wCantons['FEES']\n",
    "del df_wCantons['OTHER EXPENSES AND CONSULTANCY']\n",
    "del df_wCantons['TOTAL']\n",
    "del df_wCantons['GEMEINDEN']"
   ]
  },
  {
   "cell_type": "code",
   "execution_count": 271,
   "metadata": {
    "collapsed": true
   },
   "outputs": [],
   "source": [
    "df_wCantons.to_csv('ALLE_SPITÄLER_STIFTUNGEN_2015')   #df.to_csv('sample.csv', index=False)"
   ]
  },
  {
   "cell_type": "code",
   "execution_count": 272,
   "metadata": {
    "collapsed": false
   },
   "outputs": [
    {
     "data": {
      "text/html": [
       "<div>\n",
       "<table border=\"1\" class=\"dataframe\">\n",
       "  <thead>\n",
       "    <tr style=\"text-align: right;\">\n",
       "      <th></th>\n",
       "      <th>PERIOD</th>\n",
       "      <th>COMPANY</th>\n",
       "      <th>INSTITUTION</th>\n",
       "      <th>INSTITUTIONS_CLUSTERED</th>\n",
       "      <th>CITY</th>\n",
       "      <th>COUNTRY</th>\n",
       "      <th>ADDRESS</th>\n",
       "      <th>ADDRESS CLUSTERED</th>\n",
       "      <th>DONATIONS AND GRANTS</th>\n",
       "      <th>SPONSORSHIPS</th>\n",
       "      <th>REGISTRATION FEES</th>\n",
       "      <th>TRAVEL AND ACCOMMODATION</th>\n",
       "      <th>FEES</th>\n",
       "      <th>OTHER EXPENSES AND CONSULTANCY</th>\n",
       "      <th>TOTAL</th>\n",
       "    </tr>\n",
       "  </thead>\n",
       "  <tbody>\n",
       "    <tr>\n",
       "      <th>0</th>\n",
       "      <td>2015</td>\n",
       "      <td>A. Menarini AG</td>\n",
       "      <td>CHUV Centre Hospitalier Uni Vaudois</td>\n",
       "      <td>Universitätsspital Lausanne (CHUV)</td>\n",
       "      <td>Lausanne</td>\n",
       "      <td>CH</td>\n",
       "      <td>Rue du Bugnon21</td>\n",
       "      <td>Rue du Bugnon 21</td>\n",
       "      <td>NaN</td>\n",
       "      <td>6704</td>\n",
       "      <td>204</td>\n",
       "      <td>1689</td>\n",
       "      <td>811</td>\n",
       "      <td>NaN</td>\n",
       "      <td>9408.0</td>\n",
       "    </tr>\n",
       "  </tbody>\n",
       "</table>\n",
       "</div>"
      ],
      "text/plain": [
       "   PERIOD         COMPANY                          INSTITUTION  \\\n",
       "0    2015  A. Menarini AG  CHUV Centre Hospitalier Uni Vaudois   \n",
       "\n",
       "               INSTITUTIONS_CLUSTERED      CITY COUNTRY          ADDRESS  \\\n",
       "0  Universitätsspital Lausanne (CHUV)  Lausanne      CH  Rue du Bugnon21   \n",
       "\n",
       "  ADDRESS CLUSTERED DONATIONS AND GRANTS SPONSORSHIPS REGISTRATION FEES  \\\n",
       "0  Rue du Bugnon 21                  NaN         6704               204   \n",
       "\n",
       "  TRAVEL AND ACCOMMODATION FEES  OTHER EXPENSES AND CONSULTANCY   TOTAL  \n",
       "0                     1689  811                             NaN  9408.0  "
      ]
     },
     "execution_count": 272,
     "metadata": {},
     "output_type": "execute_result"
    }
   ],
   "source": [
    "df_TOP7.head(1)"
   ]
  },
  {
   "cell_type": "code",
   "execution_count": 273,
   "metadata": {
    "collapsed": false
   },
   "outputs": [],
   "source": [
    "#Prepping file for export\n",
    "del df_TOP7['DONATIONS AND GRANTS']\n",
    "del df_TOP7['SPONSORSHIPS']\n",
    "del df_TOP7['TRAVEL AND ACCOMMODATION']\n",
    "del df_TOP7['FEES']\n",
    "del df_TOP7['OTHER EXPENSES AND CONSULTANCY']"
   ]
  },
  {
   "cell_type": "code",
   "execution_count": 274,
   "metadata": {
    "collapsed": true
   },
   "outputs": [],
   "source": [
    "df_TOP7.to_csv('TOP_7_SPITÄLER_STIFTUNGEN')"
   ]
  },
  {
   "cell_type": "markdown",
   "metadata": {},
   "source": [
    "# Looking at Hirslanden"
   ]
  },
  {
   "cell_type": "code",
   "execution_count": 275,
   "metadata": {
    "collapsed": false
   },
   "outputs": [
    {
     "data": {
      "text/plain": [
       "60214.07"
      ]
     },
     "execution_count": 275,
     "metadata": {},
     "output_type": "execute_result"
    }
   ],
   "source": [
    "df_wCantons[df_wCantons['INSTITUTIONS_CLUSTERED'] == 'Hirslanden']['TOTAL int'].sum()"
   ]
  },
  {
   "cell_type": "code",
   "execution_count": 276,
   "metadata": {
    "collapsed": true
   },
   "outputs": [],
   "source": [
    "#Interessant, dass die private Klinik so viel weniger Geld von den Pharmas bekommt. Warum? \n",
    "#Schwierigkeit ist die Clustering der privaten Kliniken. So unterschiedliche Namen, und Adressen. \n",
    "#Hast Du einen Datensatz, der die Kategorien privat vs öffentlich kennt?"
   ]
  },
  {
   "cell_type": "markdown",
   "metadata": {},
   "source": [
    "# Donations"
   ]
  },
  {
   "cell_type": "code",
   "execution_count": 277,
   "metadata": {
    "collapsed": true
   },
   "outputs": [],
   "source": [
    "# DONATIONS AND GRANTS - SPONSORSHIPS - REGISTRATION FEES - TRAVEL AND ACCOMMODATION\n",
    "# - FEES - OTHER EXPENSES AND CONSULTANCY"
   ]
  },
  {
   "cell_type": "code",
   "execution_count": 286,
   "metadata": {
    "collapsed": false
   },
   "outputs": [],
   "source": [
    "df_wCantons['DONATIONS AND GRANTS int'] = df_ALL['DONATIONS AND GRANTS'].apply(int_)"
   ]
  },
  {
   "cell_type": "code",
   "execution_count": 333,
   "metadata": {
    "collapsed": true
   },
   "outputs": [],
   "source": [
    "#Function to deal with totals when importing the data importing:\n",
    "\n",
    "def int_(x):\n",
    "    if x == '5591-09-01 00:00:00':\n",
    "        return float(x[0:4])\n",
    "    elif x == '3130-08-01 00:00:00':\n",
    "        return float(x[0:4])\n",
    "    elif x == '2555-03-01 00:00:00':\n",
    "        return float(x[0:4])\n",
    "    elif x == '3007-02-01 00:00:00':\n",
    "        return float(x[0:4])\n",
    "    elif x == '6231-04-01 00:00:00':\n",
    "        return float(x[0:4])\n",
    "    elif x == '2880-04-01 00:00:00':\n",
    "        return float(x[0:4])\n",
    "    elif x == '2252-06-01 00:00:00':\n",
    "        return float(x[0:4])\n",
    "    elif x == '2000 00':\n",
    "        return float(x[0:4])\n",
    "    elif x == '700 00':\n",
    "        return float(x[0:3])\n",
    "    elif x == \"1'000.0\":\n",
    "        return float(x[:1]*1000)\n",
    "    elif x == \"6'275.9\":\n",
    "        return float(x.replace(\"'\", \"\"))\n",
    "    elif x == \"84'089.6\":\n",
    "        return float(x.replace(\"'\", \"\"))\n",
    "    elif x == \"12'000.0\":\n",
    "        return float(x.replace(\"'\", \"\"))\n",
    "    elif x == \"4'000.0\":\n",
    "        return float(x.replace(\"'\", \"\"))\n",
    "    elif x == \"6'000.0\":\n",
    "        return float(x.replace(\"'\", \"\"))\n",
    "    elif x == \"25'000.0\":\n",
    "        return float(x.replace(\"'\", \"\"))\n",
    "    elif x == \"3'000.0\":\n",
    "        return float(x.replace(\"'\", \"\"))\n",
    "    elif x == \"4'800.0\":\n",
    "        return float(x.replace(\"'\", \"\"))\n",
    "    else:\n",
    "        return float(x)"
   ]
  },
  {
   "cell_type": "code",
   "execution_count": 335,
   "metadata": {
    "collapsed": false
   },
   "outputs": [],
   "source": [
    "#but this is how you transform them\n",
    "df_wCantons['DONATIONS AND GRANTS int'] = df_wCantons.replace([np.inf, -np.inf], np.nan)"
   ]
  },
  {
   "cell_type": "code",
   "execution_count": 336,
   "metadata": {
    "collapsed": false
   },
   "outputs": [
    {
     "data": {
      "text/plain": [
       "6840925"
      ]
     },
     "execution_count": 336,
     "metadata": {},
     "output_type": "execute_result"
    }
   ],
   "source": [
    "df_wCantons['DONATIONS AND GRANTS int'].sum()"
   ]
  },
  {
   "cell_type": "code",
   "execution_count": 364,
   "metadata": {
    "collapsed": false
   },
   "outputs": [
    {
     "data": {
      "image/png": "[encoded data removed]",
      "text/plain": [
       "<matplotlib.figure.Figure at 0x118b916d8>"
      ]
     },
     "metadata": {},
     "output_type": "display_data"
    }
   ],
   "source": [
    "df_wCantons.groupby('INSTITUTIONS_CLUSTERED')['DONATIONS AND GRANTS int'].sum().sort_values(ascending=False).head(10).plot(kind='bar')\n",
    "plt.savefig('Donations.pdf', transparent=True, bbox_inches='tight')"
   ]
  },
  {
   "cell_type": "code",
   "execution_count": 338,
   "metadata": {
    "collapsed": false
   },
   "outputs": [],
   "source": [
    "df_wCantons['TRAVEL AND ACCOMMODATION'] = df_ALL['TRAVEL AND ACCOMMODATION'].apply(int_)"
   ]
  },
  {
   "cell_type": "code",
   "execution_count": 345,
   "metadata": {
    "collapsed": true
   },
   "outputs": [],
   "source": [
    "def UZH(x):\n",
    "    if x == 'Universitätsspital Zürich, Klinik für Neurologie':\n",
    "        return 'Universitätsspital Zürich'\n",
    "    else:\n",
    "        return x"
   ]
  },
  {
   "cell_type": "code",
   "execution_count": 346,
   "metadata": {
    "collapsed": true
   },
   "outputs": [],
   "source": [
    "df_wCantons['INSTITUTIONS_CLUSTERED'] = df_wCantons['INSTITUTIONS_CLUSTERED'].apply(UZH)"
   ]
  },
  {
   "cell_type": "code",
   "execution_count": 365,
   "metadata": {
    "collapsed": false
   },
   "outputs": [
    {
     "data": {
      "image/png": "[encoded data removed]",
      "text/plain": [
       "<matplotlib.figure.Figure at 0x118bddeb8>"
      ]
     },
     "metadata": {},
     "output_type": "display_data"
    }
   ],
   "source": [
    "df_wCantons.groupby('INSTITUTIONS_CLUSTERED')['TRAVEL AND ACCOMMODATION'].sum().sort_values(ascending=False).head(10).plot(kind='bar')\n",
    "plt.savefig('Travel.pdf', transparent=True, bbox_inches='tight')"
   ]
  },
  {
   "cell_type": "code",
   "execution_count": 362,
   "metadata": {
    "collapsed": false
   },
   "outputs": [
    {
     "data": {
      "text/plain": [
       "555101.15000000002"
      ]
     },
     "execution_count": 362,
     "metadata": {},
     "output_type": "execute_result"
    }
   ],
   "source": [
    "df_wCantons['TRAVEL AND ACCOMMODATION'].sum()"
   ]
  },
  {
   "cell_type": "markdown",
   "metadata": {},
   "source": [
    "# Developing universal function"
   ]
  },
  {
   "cell_type": "code",
   "execution_count": 244,
   "metadata": {
    "collapsed": true
   },
   "outputs": [],
   "source": [
    "def find(x):\n",
    "    pattern = re.compile(r\"'\")\n",
    "    try:\n",
    "        if pattern.findall(x):\n",
    "            x = x.replace(\"'\", \"\")\n",
    "            return x\n",
    "    except:\n",
    "        return x"
   ]
  },
  {
   "cell_type": "code",
   "execution_count": 224,
   "metadata": {
    "collapsed": false
   },
   "outputs": [],
   "source": [
    "list_ = [2, 43, 43, \"4'000\", 23]"
   ]
  },
  {
   "cell_type": "code",
   "execution_count": 228,
   "metadata": {
    "collapsed": false
   },
   "outputs": [
    {
     "name": "stdout",
     "output_type": "stream",
     "text": [
      "2\n",
      "43\n",
      "43\n",
      "4000\n",
      "23\n"
     ]
    }
   ],
   "source": [
    "for y in list_:\n",
    "    pattern = re.compile(r\"'\")\n",
    "    try:\n",
    "        if pattern.findall(y):\n",
    "            y = y.replace(\"'\", \"\")\n",
    "            print(y)\n",
    "    except:\n",
    "        print(y)"
   ]
  },
  {
   "cell_type": "code",
   "execution_count": 240,
   "metadata": {
    "collapsed": false
   },
   "outputs": [],
   "source": [
    "def find(x):\n",
    "    for y in x:\n",
    "        pattern = re.compile(r\"'\")\n",
    "        if pattern.findall(y):\n",
    "            return y.replace(\"'\", \"\")\n",
    "        else:\n",
    "            return y"
   ]
  },
  {
   "cell_type": "code",
   "execution_count": null,
   "metadata": {
    "collapsed": true
   },
   "outputs": [],
   "source": []
  }
 ],
 "metadata": {
  "kernelspec": {
   "display_name": "Python 3",
   "language": "python",
   "name": "python3"
  },
  "language_info": {
   "codemirror_mode": {
    "name": "ipython",
    "version": 3
   },
   "file_extension": ".py",
   "mimetype": "text/x-python",
   "name": "python",
   "nbconvert_exporter": "python",
   "pygments_lexer": "ipython3",
   "version": "3.5.1"
  },
  "widgets": {
   "state": {},
   "version": "1.1.2"
  }
 },
 "nbformat": 4,
 "nbformat_minor": 0
}

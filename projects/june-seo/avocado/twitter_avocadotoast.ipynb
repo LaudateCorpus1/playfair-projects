{
 "cells": [
  {
   "cell_type": "code",
   "execution_count": 1,
   "metadata": {
    "collapsed": false
   },
   "outputs": [
    {
     "name": "stderr",
     "output_type": "stream",
     "text": [
      "/usr/local/lib/python3.5/site-packages/matplotlib/__init__.py:1035: UserWarning: Duplicate key in file \"/Users/apple/.matplotlib/matplotlibrc\", line #2\n",
      "  (fname, cnt))\n"
     ]
    }
   ],
   "source": [
    "import pandas as pd\n",
    "import tweepy"
   ]
  },
  {
   "cell_type": "code",
   "execution_count": 2,
   "metadata": {
    "collapsed": true
   },
   "outputs": [],
   "source": [
    "customer_token = 'uugvFf85PdQwbdh7BoG3hTmZG'\n",
    "customer_secret = 'kzdVwRGSlWC6l2berEtObz8YbMNAWa6MXju6jxrEOx3GFV77sA'\n",
    "auth = tweepy.OAuthHandler(customer_token,customer_secret)"
   ]
  },
  {
   "cell_type": "code",
   "execution_count": 3,
   "metadata": {
    "collapsed": true
   },
   "outputs": [],
   "source": [
    "access_token = '1310671454-RPiVntYsaWLwORjFrLId0SRVkIZr5wxuzzke4zO'\n",
    "access_secret = 'DliMdjsaMFo1su0K7yjQ9M6a5X0hGFTiVE9LAJ86yX02v'\n",
    "auth.set_access_token(access_token,access_secret)"
   ]
  },
  {
   "cell_type": "code",
   "execution_count": 4,
   "metadata": {
    "collapsed": true
   },
   "outputs": [],
   "source": [
    "api = tweepy.API(auth)"
   ]
  },
  {
   "cell_type": "code",
   "execution_count": 15,
   "metadata": {
    "collapsed": false
   },
   "outputs": [],
   "source": [
    "avocado = []\n",
    "for status in tweepy.Cursor(api.search,q='avocado toast',\n",
    "                           geocode='40.697894,-73.9908765,100mi',\n",
    "                           result_type='recent').items():\n",
    "    \n",
    "    avocado.append(status)"
   ]
  },
  {
   "cell_type": "code",
   "execution_count": 16,
   "metadata": {
    "collapsed": false
   },
   "outputs": [
    {
     "data": {
      "text/plain": [
       "332"
      ]
     },
     "execution_count": 16,
     "metadata": {},
     "output_type": "execute_result"
    }
   ],
   "source": [
    "len(avocado)"
   ]
  },
  {
   "cell_type": "code",
   "execution_count": 17,
   "metadata": {
    "collapsed": false
   },
   "outputs": [
    {
     "data": {
      "text/plain": [
       "Status(entities={'user_mentions': [{'indices': [3, 13], 'name': 'Boro Hotel', 'id': 3241044964, 'id_str': '3241044964', 'screen_name': 'BoroHotel'}, {'indices': [70, 86], 'name': 'Benjamin Holtrop', 'id': 546799140, 'id_str': '546799140', 'screen_name': 'BenjaminHoltrop'}], 'urls': [{'indices': [107, 130], 'display_url': 'ift.tt/2aWuP3T', 'expanded_url': 'http://ift.tt/2aWuP3T', 'url': 'https://t.co/iWgbPwx1Vj'}], 'symbols': [], 'media': [{'type': 'photo', 'source_status_id_str': '760091773444190208', 'expanded_url': 'http://twitter.com/BoroHotel/status/760091773444190208/photo/1', 'url': 'https://t.co/1gyU3ISSIO', 'id': 760091770919219200, 'source_status_id': 760091773444190208, 'source_user_id': 3241044964, 'sizes': {'small': {'w': 545, 'h': 680, 'resize': 'fit'}, 'large': {'w': 820, 'h': 1024, 'resize': 'fit'}, 'medium': {'w': 820, 'h': 1024, 'resize': 'fit'}, 'thumb': {'w': 150, 'h': 150, 'resize': 'crop'}}, 'display_url': 'pic.twitter.com/1gyU3ISSIO', 'source_user_id_str': '3241044964', 'media_url': 'http://pbs.twimg.com/media/CoxjcEJWcAAPyhu.jpg', 'media_url_https': 'https://pbs.twimg.com/media/CoxjcEJWcAAPyhu.jpg', 'indices': [139, 140], 'id_str': '760091770919219200'}], 'hashtags': [{'indices': [23, 40], 'text': 'mondaymotivation'}, {'indices': [95, 102], 'text': 'monday'}, {'indices': [103, 105], 'text': 'b'}]}, created_at=datetime.datetime(2016, 8, 1, 12, 52, 54), _api=<tweepy.api.API object at 0x11278bc88>, id=760095965554548736, author=User(entities={'url': {'urls': [{'indices': [0, 23], 'display_url': 'Ridgewoodcars.com', 'expanded_url': 'http://Ridgewoodcars.com', 'url': 'https://t.co/AWF0Bs0IAe'}]}, 'description': {'urls': []}}, created_at=datetime.datetime(2016, 7, 23, 13, 4, 5), _api=<tweepy.api.API object at 0x11278bc88>, url='https://t.co/AWF0Bs0IAe', profile_sidebar_fill_color='DDEEF6', id=756837288848547840, name='Ridgewood CarService', profile_sidebar_border_color='C0DEED', profile_use_background_image=True, screen_name='RidgewoodCars', profile_banner_url='https://pbs.twimg.com/profile_banners/756837288848547840/1469685106', geo_enabled=False, favourites_count=15, time_zone='Eastern Time (US & Canada)', listed_count=1, default_profile_image=False, verified=False, id_str='756837288848547840', profile_link_color='2B7BB9', lang='en', profile_background_color='F5F8FA', profile_background_image_url=None, default_profile=True, notifications=False, profile_image_url_https='https://pbs.twimg.com/profile_images/757272144971718656/M4AZNdpb_normal.jpg', utc_offset=-14400, location='New York, NY', profile_image_url='http://pbs.twimg.com/profile_images/757272144971718656/M4AZNdpb_normal.jpg', is_translator=False, _json={'entities': {'url': {'urls': [{'indices': [0, 23], 'display_url': 'Ridgewoodcars.com', 'expanded_url': 'http://Ridgewoodcars.com', 'url': 'https://t.co/AWF0Bs0IAe'}]}, 'description': {'urls': []}}, 'created_at': 'Sat Jul 23 13:04:05 +0000 2016', 'url': 'https://t.co/AWF0Bs0IAe', 'profile_sidebar_fill_color': 'DDEEF6', 'profile_image_url': 'http://pbs.twimg.com/profile_images/757272144971718656/M4AZNdpb_normal.jpg', 'id': 756837288848547840, 'name': 'Ridgewood CarService', 'profile_sidebar_border_color': 'C0DEED', 'profile_use_background_image': True, 'screen_name': 'RidgewoodCars', 'geo_enabled': False, 'favourites_count': 15, 'time_zone': 'Eastern Time (US & Canada)', 'listed_count': 1, 'following': False, 'default_profile_image': False, 'verified': False, 'id_str': '756837288848547840', 'lang': 'en', 'profile_background_color': 'F5F8FA', 'profile_background_image_url': None, 'default_profile': True, 'profile_image_url_https': 'https://pbs.twimg.com/profile_images/757272144971718656/M4AZNdpb_normal.jpg', 'notifications': False, 'friends_count': 112, 'utc_offset': -14400, 'location': 'New York, NY', 'description': 'Ridgewood Car Service provides outstanding service in #Ridgewood #Bushwick #Williamsburg, #Maspeth and surrounding areas of New York City. 24/7 all year round.', 'statuses_count': 43, 'profile_background_image_url_https': None, 'followers_count': 30, 'profile_background_tile': False, 'protected': False, 'profile_text_color': '333333', 'is_translation_enabled': False, 'profile_banner_url': 'https://pbs.twimg.com/profile_banners/756837288848547840/1469685106', 'profile_link_color': '2B7BB9', 'follow_request_sent': False, 'has_extended_profile': False, 'contributors_enabled': False, 'is_translator': False}, is_translation_enabled=False, profile_background_image_url_https=None, followers_count=30, profile_background_tile=False, protected=False, profile_text_color='333333', friends_count=112, description='Ridgewood Car Service provides outstanding service in #Ridgewood #Bushwick #Williamsburg, #Maspeth and surrounding areas of New York City. 24/7 all year round.', following=False, follow_request_sent=False, has_extended_profile=False, contributors_enabled=False, statuses_count=43), truncated=False, retweeted=False, extended_entities={'media': [{'type': 'photo', 'source_status_id_str': '760091773444190208', 'expanded_url': 'http://twitter.com/BoroHotel/status/760091773444190208/photo/1', 'url': 'https://t.co/1gyU3ISSIO', 'id': 760091770919219200, 'source_status_id': 760091773444190208, 'source_user_id': 3241044964, 'sizes': {'small': {'w': 545, 'h': 680, 'resize': 'fit'}, 'large': {'w': 820, 'h': 1024, 'resize': 'fit'}, 'medium': {'w': 820, 'h': 1024, 'resize': 'fit'}, 'thumb': {'w': 150, 'h': 150, 'resize': 'crop'}}, 'display_url': 'pic.twitter.com/1gyU3ISSIO', 'source_user_id_str': '3241044964', 'media_url': 'http://pbs.twimg.com/media/CoxjcEJWcAAPyhu.jpg', 'media_url_https': 'https://pbs.twimg.com/media/CoxjcEJWcAAPyhu.jpg', 'indices': [139, 140], 'id_str': '760091770919219200'}]}, in_reply_to_status_id=None, metadata={'iso_language_code': 'en', 'result_type': 'recent'}, in_reply_to_screen_name=None, id_str='760095965554548736', is_quote_status=False, geo=None, contributors=None, coordinates=None, lang='en', in_reply_to_user_id_str=None, source='Twitter Web Client', place=None, retweeted_status=Status(entities={'user_mentions': [{'indices': [55, 71], 'name': 'Benjamin Holtrop', 'id': 546799140, 'id_str': '546799140', 'screen_name': 'BenjaminHoltrop'}], 'urls': [{'indices': [92, 115], 'display_url': 'ift.tt/2aWuP3T', 'expanded_url': 'http://ift.tt/2aWuP3T', 'url': 'https://t.co/iWgbPwx1Vj'}], 'symbols': [], 'media': [{'type': 'photo', 'display_url': 'pic.twitter.com/1gyU3ISSIO', 'expanded_url': 'http://twitter.com/BoroHotel/status/760091773444190208/photo/1', 'url': 'https://t.co/1gyU3ISSIO', 'sizes': {'small': {'w': 545, 'h': 680, 'resize': 'fit'}, 'large': {'w': 820, 'h': 1024, 'resize': 'fit'}, 'medium': {'w': 820, 'h': 1024, 'resize': 'fit'}, 'thumb': {'w': 150, 'h': 150, 'resize': 'crop'}}, 'id': 760091770919219200, 'media_url_https': 'https://pbs.twimg.com/media/CoxjcEJWcAAPyhu.jpg', 'indices': [116, 139], 'id_str': '760091770919219200', 'media_url': 'http://pbs.twimg.com/media/CoxjcEJWcAAPyhu.jpg'}], 'hashtags': [{'indices': [8, 25], 'text': 'mondaymotivation'}, {'indices': [80, 87], 'text': 'monday'}, {'indices': [88, 90], 'text': 'b'}]}, created_at=datetime.datetime(2016, 8, 1, 12, 36, 15), _api=<tweepy.api.API object at 0x11278bc88>, id=760091773444190208, author=User(entities={'url': {'urls': [{'indices': [0, 22], 'display_url': 'borohotel.com', 'expanded_url': 'http://www.borohotel.com', 'url': 'http://t.co/wI3JaRu8YA'}]}, 'description': {'urls': []}}, created_at=datetime.datetime(2015, 5, 7, 20, 16, 26), _api=<tweepy.api.API object at 0x11278bc88>, url='http://t.co/wI3JaRu8YA', profile_sidebar_fill_color='000000', id=3241044964, name='Boro Hotel', profile_sidebar_border_color='000000', profile_use_background_image=False, screen_name='BoroHotel', profile_banner_url='https://pbs.twimg.com/profile_banners/3241044964/1450462157', geo_enabled=False, favourites_count=347, time_zone=None, listed_count=25, default_profile_image=False, verified=False, id_str='3241044964', profile_link_color='ABB8C2', lang='en', profile_background_color='000000', profile_background_image_url='http://abs.twimg.com/images/themes/theme1/bg.png', default_profile=False, notifications=False, profile_image_url_https='https://pbs.twimg.com/profile_images/747471077434073088/CROYlBoi_normal.jpg', utc_offset=None, location='Long Island City, Queens', profile_image_url='http://pbs.twimg.com/profile_images/747471077434073088/CROYlBoi_normal.jpg', is_translator=False, _json={'entities': {'url': {'urls': [{'indices': [0, 22], 'display_url': 'borohotel.com', 'expanded_url': 'http://www.borohotel.com', 'url': 'http://t.co/wI3JaRu8YA'}]}, 'description': {'urls': []}}, 'created_at': 'Thu May 07 20:16:26 +0000 2015', 'url': 'http://t.co/wI3JaRu8YA', 'profile_sidebar_fill_color': '000000', 'profile_image_url': 'http://pbs.twimg.com/profile_images/747471077434073088/CROYlBoi_normal.jpg', 'id': 3241044964, 'name': 'Boro Hotel', 'profile_sidebar_border_color': '000000', 'profile_use_background_image': False, 'screen_name': 'BoroHotel', 'geo_enabled': False, 'favourites_count': 347, 'time_zone': None, 'listed_count': 25, 'following': False, 'default_profile_image': False, 'verified': False, 'id_str': '3241044964', 'lang': 'en', 'profile_background_color': '000000', 'profile_background_image_url': 'http://abs.twimg.com/images/themes/theme1/bg.png', 'default_profile': False, 'profile_image_url_https': 'https://pbs.twimg.com/profile_images/747471077434073088/CROYlBoi_normal.jpg', 'notifications': False, 'friends_count': 1023, 'utc_offset': None, 'location': 'Long Island City, Queens', 'description': '', 'statuses_count': 288, 'profile_background_image_url_https': 'https://abs.twimg.com/images/themes/theme1/bg.png', 'followers_count': 1338, 'profile_background_tile': False, 'protected': False, 'profile_text_color': '000000', 'is_translation_enabled': False, 'profile_banner_url': 'https://pbs.twimg.com/profile_banners/3241044964/1450462157', 'profile_link_color': 'ABB8C2', 'follow_request_sent': False, 'has_extended_profile': False, 'contributors_enabled': False, 'is_translator': False}, is_translation_enabled=False, profile_background_image_url_https='https://abs.twimg.com/images/themes/theme1/bg.png', followers_count=1338, profile_background_tile=False, protected=False, profile_text_color='000000', friends_count=1023, description='', following=False, follow_request_sent=False, has_extended_profile=False, contributors_enabled=False, statuses_count=288), truncated=False, retweeted=False, extended_entities={'media': [{'type': 'photo', 'display_url': 'pic.twitter.com/1gyU3ISSIO', 'expanded_url': 'http://twitter.com/BoroHotel/status/760091773444190208/photo/1', 'url': 'https://t.co/1gyU3ISSIO', 'sizes': {'small': {'w': 545, 'h': 680, 'resize': 'fit'}, 'large': {'w': 820, 'h': 1024, 'resize': 'fit'}, 'medium': {'w': 820, 'h': 1024, 'resize': 'fit'}, 'thumb': {'w': 150, 'h': 150, 'resize': 'crop'}}, 'id': 760091770919219200, 'media_url_https': 'https://pbs.twimg.com/media/CoxjcEJWcAAPyhu.jpg', 'indices': [116, 139], 'id_str': '760091770919219200', 'media_url': 'http://pbs.twimg.com/media/CoxjcEJWcAAPyhu.jpg'}]}, in_reply_to_status_id=None, metadata={'iso_language_code': 'en', 'result_type': 'recent'}, in_reply_to_screen_name=None, id_str='760091773444190208', is_quote_status=False, geo=None, contributors=None, coordinates=None, lang='en', in_reply_to_user_id_str=None, source='IFTTT', place=None, in_reply_to_user_id=None, _json={'entities': {'user_mentions': [{'indices': [55, 71], 'name': 'Benjamin Holtrop', 'id': 546799140, 'id_str': '546799140', 'screen_name': 'BenjaminHoltrop'}], 'urls': [{'indices': [92, 115], 'display_url': 'ift.tt/2aWuP3T', 'expanded_url': 'http://ift.tt/2aWuP3T', 'url': 'https://t.co/iWgbPwx1Vj'}], 'symbols': [], 'media': [{'type': 'photo', 'display_url': 'pic.twitter.com/1gyU3ISSIO', 'expanded_url': 'http://twitter.com/BoroHotel/status/760091773444190208/photo/1', 'url': 'https://t.co/1gyU3ISSIO', 'sizes': {'small': {'w': 545, 'h': 680, 'resize': 'fit'}, 'large': {'w': 820, 'h': 1024, 'resize': 'fit'}, 'medium': {'w': 820, 'h': 1024, 'resize': 'fit'}, 'thumb': {'w': 150, 'h': 150, 'resize': 'crop'}}, 'id': 760091770919219200, 'media_url_https': 'https://pbs.twimg.com/media/CoxjcEJWcAAPyhu.jpg', 'indices': [116, 139], 'id_str': '760091770919219200', 'media_url': 'http://pbs.twimg.com/media/CoxjcEJWcAAPyhu.jpg'}], 'hashtags': [{'indices': [8, 25], 'text': 'mondaymotivation'}, {'indices': [80, 87], 'text': 'monday'}, {'indices': [88, 90], 'text': 'b'}]}, 'created_at': 'Mon Aug 01 12:36:15 +0000 2016', 'id': 760091773444190208, 'truncated': False, 'extended_entities': {'media': [{'type': 'photo', 'display_url': 'pic.twitter.com/1gyU3ISSIO', 'expanded_url': 'http://twitter.com/BoroHotel/status/760091773444190208/photo/1', 'url': 'https://t.co/1gyU3ISSIO', 'sizes': {'small': {'w': 545, 'h': 680, 'resize': 'fit'}, 'large': {'w': 820, 'h': 1024, 'resize': 'fit'}, 'medium': {'w': 820, 'h': 1024, 'resize': 'fit'}, 'thumb': {'w': 150, 'h': 150, 'resize': 'crop'}}, 'id': 760091770919219200, 'media_url_https': 'https://pbs.twimg.com/media/CoxjcEJWcAAPyhu.jpg', 'indices': [116, 139], 'id_str': '760091770919219200', 'media_url': 'http://pbs.twimg.com/media/CoxjcEJWcAAPyhu.jpg'}]}, 'retweeted': False, 'in_reply_to_status_id': None, 'metadata': {'iso_language_code': 'en', 'result_type': 'recent'}, 'in_reply_to_screen_name': None, 'id_str': '760091773444190208', 'is_quote_status': False, 'contributors': None, 'coordinates': None, 'lang': 'en', 'in_reply_to_status_id_str': None, 'in_reply_to_user_id_str': None, 'source': '<a href=\"http://ifttt.com\" rel=\"nofollow\">IFTTT</a>', 'place': None, 'possibly_sensitive': False, 'geo': None, 'favorite_count': 1, 'in_reply_to_user_id': None, 'user': {'entities': {'url': {'urls': [{'indices': [0, 22], 'display_url': 'borohotel.com', 'expanded_url': 'http://www.borohotel.com', 'url': 'http://t.co/wI3JaRu8YA'}]}, 'description': {'urls': []}}, 'created_at': 'Thu May 07 20:16:26 +0000 2015', 'url': 'http://t.co/wI3JaRu8YA', 'profile_sidebar_fill_color': '000000', 'profile_image_url': 'http://pbs.twimg.com/profile_images/747471077434073088/CROYlBoi_normal.jpg', 'id': 3241044964, 'name': 'Boro Hotel', 'profile_sidebar_border_color': '000000', 'profile_use_background_image': False, 'screen_name': 'BoroHotel', 'geo_enabled': False, 'favourites_count': 347, 'time_zone': None, 'listed_count': 25, 'following': False, 'default_profile_image': False, 'verified': False, 'id_str': '3241044964', 'lang': 'en', 'profile_background_color': '000000', 'profile_background_image_url': 'http://abs.twimg.com/images/themes/theme1/bg.png', 'default_profile': False, 'profile_image_url_https': 'https://pbs.twimg.com/profile_images/747471077434073088/CROYlBoi_normal.jpg', 'notifications': False, 'friends_count': 1023, 'utc_offset': None, 'location': 'Long Island City, Queens', 'description': '', 'statuses_count': 288, 'profile_background_image_url_https': 'https://abs.twimg.com/images/themes/theme1/bg.png', 'followers_count': 1338, 'profile_background_tile': False, 'protected': False, 'profile_text_color': '000000', 'is_translation_enabled': False, 'profile_banner_url': 'https://pbs.twimg.com/profile_banners/3241044964/1450462157', 'profile_link_color': 'ABB8C2', 'follow_request_sent': False, 'has_extended_profile': False, 'contributors_enabled': False, 'is_translator': False}, 'text': \"Today's #mondaymotivation is in avocado toast form. 📸: @benjaminholtrop 🍳\\n.\\n.\\n.\\n#monday #b… https://t.co/iWgbPwx1Vj https://t.co/1gyU3ISSIO\", 'retweet_count': 1, 'favorited': False}, favorite_count=1, possibly_sensitive=False, user=User(entities={'url': {'urls': [{'indices': [0, 22], 'display_url': 'borohotel.com', 'expanded_url': 'http://www.borohotel.com', 'url': 'http://t.co/wI3JaRu8YA'}]}, 'description': {'urls': []}}, created_at=datetime.datetime(2015, 5, 7, 20, 16, 26), _api=<tweepy.api.API object at 0x11278bc88>, url='http://t.co/wI3JaRu8YA', profile_sidebar_fill_color='000000', id=3241044964, name='Boro Hotel', profile_sidebar_border_color='000000', profile_use_background_image=False, screen_name='BoroHotel', profile_banner_url='https://pbs.twimg.com/profile_banners/3241044964/1450462157', geo_enabled=False, favourites_count=347, time_zone=None, listed_count=25, default_profile_image=False, verified=False, id_str='3241044964', profile_link_color='ABB8C2', lang='en', profile_background_color='000000', profile_background_image_url='http://abs.twimg.com/images/themes/theme1/bg.png', default_profile=False, notifications=False, profile_image_url_https='https://pbs.twimg.com/profile_images/747471077434073088/CROYlBoi_normal.jpg', utc_offset=None, location='Long Island City, Queens', profile_image_url='http://pbs.twimg.com/profile_images/747471077434073088/CROYlBoi_normal.jpg', is_translator=False, _json={'entities': {'url': {'urls': [{'indices': [0, 22], 'display_url': 'borohotel.com', 'expanded_url': 'http://www.borohotel.com', 'url': 'http://t.co/wI3JaRu8YA'}]}, 'description': {'urls': []}}, 'created_at': 'Thu May 07 20:16:26 +0000 2015', 'url': 'http://t.co/wI3JaRu8YA', 'profile_sidebar_fill_color': '000000', 'profile_image_url': 'http://pbs.twimg.com/profile_images/747471077434073088/CROYlBoi_normal.jpg', 'id': 3241044964, 'name': 'Boro Hotel', 'profile_sidebar_border_color': '000000', 'profile_use_background_image': False, 'screen_name': 'BoroHotel', 'geo_enabled': False, 'favourites_count': 347, 'time_zone': None, 'listed_count': 25, 'following': False, 'default_profile_image': False, 'verified': False, 'id_str': '3241044964', 'lang': 'en', 'profile_background_color': '000000', 'profile_background_image_url': 'http://abs.twimg.com/images/themes/theme1/bg.png', 'default_profile': False, 'profile_image_url_https': 'https://pbs.twimg.com/profile_images/747471077434073088/CROYlBoi_normal.jpg', 'notifications': False, 'friends_count': 1023, 'utc_offset': None, 'location': 'Long Island City, Queens', 'description': '', 'statuses_count': 288, 'profile_background_image_url_https': 'https://abs.twimg.com/images/themes/theme1/bg.png', 'followers_count': 1338, 'profile_background_tile': False, 'protected': False, 'profile_text_color': '000000', 'is_translation_enabled': False, 'profile_banner_url': 'https://pbs.twimg.com/profile_banners/3241044964/1450462157', 'profile_link_color': 'ABB8C2', 'follow_request_sent': False, 'has_extended_profile': False, 'contributors_enabled': False, 'is_translator': False}, is_translation_enabled=False, profile_background_image_url_https='https://abs.twimg.com/images/themes/theme1/bg.png', followers_count=1338, profile_background_tile=False, protected=False, profile_text_color='000000', friends_count=1023, description='', following=False, follow_request_sent=False, has_extended_profile=False, contributors_enabled=False, statuses_count=288), text=\"Today's #mondaymotivation is in avocado toast form. 📸: @benjaminholtrop 🍳\\n.\\n.\\n.\\n#monday #b… https://t.co/iWgbPwx1Vj https://t.co/1gyU3ISSIO\", retweet_count=1, source_url='http://ifttt.com', favorited=False, in_reply_to_status_id_str=None), in_reply_to_user_id=None, _json={'entities': {'user_mentions': [{'indices': [3, 13], 'name': 'Boro Hotel', 'id': 3241044964, 'id_str': '3241044964', 'screen_name': 'BoroHotel'}, {'indices': [70, 86], 'name': 'Benjamin Holtrop', 'id': 546799140, 'id_str': '546799140', 'screen_name': 'BenjaminHoltrop'}], 'urls': [{'indices': [107, 130], 'display_url': 'ift.tt/2aWuP3T', 'expanded_url': 'http://ift.tt/2aWuP3T', 'url': 'https://t.co/iWgbPwx1Vj'}], 'symbols': [], 'media': [{'type': 'photo', 'source_status_id_str': '760091773444190208', 'expanded_url': 'http://twitter.com/BoroHotel/status/760091773444190208/photo/1', 'url': 'https://t.co/1gyU3ISSIO', 'id': 760091770919219200, 'source_status_id': 760091773444190208, 'source_user_id': 3241044964, 'sizes': {'small': {'w': 545, 'h': 680, 'resize': 'fit'}, 'large': {'w': 820, 'h': 1024, 'resize': 'fit'}, 'medium': {'w': 820, 'h': 1024, 'resize': 'fit'}, 'thumb': {'w': 150, 'h': 150, 'resize': 'crop'}}, 'display_url': 'pic.twitter.com/1gyU3ISSIO', 'source_user_id_str': '3241044964', 'media_url': 'http://pbs.twimg.com/media/CoxjcEJWcAAPyhu.jpg', 'media_url_https': 'https://pbs.twimg.com/media/CoxjcEJWcAAPyhu.jpg', 'indices': [139, 140], 'id_str': '760091770919219200'}], 'hashtags': [{'indices': [23, 40], 'text': 'mondaymotivation'}, {'indices': [95, 102], 'text': 'monday'}, {'indices': [103, 105], 'text': 'b'}]}, 'created_at': 'Mon Aug 01 12:52:54 +0000 2016', 'id': 760095965554548736, 'truncated': False, 'extended_entities': {'media': [{'type': 'photo', 'source_status_id_str': '760091773444190208', 'expanded_url': 'http://twitter.com/BoroHotel/status/760091773444190208/photo/1', 'url': 'https://t.co/1gyU3ISSIO', 'id': 760091770919219200, 'source_status_id': 760091773444190208, 'source_user_id': 3241044964, 'sizes': {'small': {'w': 545, 'h': 680, 'resize': 'fit'}, 'large': {'w': 820, 'h': 1024, 'resize': 'fit'}, 'medium': {'w': 820, 'h': 1024, 'resize': 'fit'}, 'thumb': {'w': 150, 'h': 150, 'resize': 'crop'}}, 'display_url': 'pic.twitter.com/1gyU3ISSIO', 'source_user_id_str': '3241044964', 'media_url': 'http://pbs.twimg.com/media/CoxjcEJWcAAPyhu.jpg', 'media_url_https': 'https://pbs.twimg.com/media/CoxjcEJWcAAPyhu.jpg', 'indices': [139, 140], 'id_str': '760091770919219200'}]}, 'retweeted': False, 'in_reply_to_status_id': None, 'metadata': {'iso_language_code': 'en', 'result_type': 'recent'}, 'in_reply_to_screen_name': None, 'id_str': '760095965554548736', 'is_quote_status': False, 'contributors': None, 'coordinates': None, 'lang': 'en', 'in_reply_to_status_id_str': None, 'in_reply_to_user_id_str': None, 'source': '<a href=\"http://twitter.com\" rel=\"nofollow\">Twitter Web Client</a>', 'place': None, 'retweeted_status': {'entities': {'user_mentions': [{'indices': [55, 71], 'name': 'Benjamin Holtrop', 'id': 546799140, 'id_str': '546799140', 'screen_name': 'BenjaminHoltrop'}], 'urls': [{'indices': [92, 115], 'display_url': 'ift.tt/2aWuP3T', 'expanded_url': 'http://ift.tt/2aWuP3T', 'url': 'https://t.co/iWgbPwx1Vj'}], 'symbols': [], 'media': [{'type': 'photo', 'display_url': 'pic.twitter.com/1gyU3ISSIO', 'expanded_url': 'http://twitter.com/BoroHotel/status/760091773444190208/photo/1', 'url': 'https://t.co/1gyU3ISSIO', 'sizes': {'small': {'w': 545, 'h': 680, 'resize': 'fit'}, 'large': {'w': 820, 'h': 1024, 'resize': 'fit'}, 'medium': {'w': 820, 'h': 1024, 'resize': 'fit'}, 'thumb': {'w': 150, 'h': 150, 'resize': 'crop'}}, 'id': 760091770919219200, 'media_url_https': 'https://pbs.twimg.com/media/CoxjcEJWcAAPyhu.jpg', 'indices': [116, 139], 'id_str': '760091770919219200', 'media_url': 'http://pbs.twimg.com/media/CoxjcEJWcAAPyhu.jpg'}], 'hashtags': [{'indices': [8, 25], 'text': 'mondaymotivation'}, {'indices': [80, 87], 'text': 'monday'}, {'indices': [88, 90], 'text': 'b'}]}, 'created_at': 'Mon Aug 01 12:36:15 +0000 2016', 'id': 760091773444190208, 'truncated': False, 'extended_entities': {'media': [{'type': 'photo', 'display_url': 'pic.twitter.com/1gyU3ISSIO', 'expanded_url': 'http://twitter.com/BoroHotel/status/760091773444190208/photo/1', 'url': 'https://t.co/1gyU3ISSIO', 'sizes': {'small': {'w': 545, 'h': 680, 'resize': 'fit'}, 'large': {'w': 820, 'h': 1024, 'resize': 'fit'}, 'medium': {'w': 820, 'h': 1024, 'resize': 'fit'}, 'thumb': {'w': 150, 'h': 150, 'resize': 'crop'}}, 'id': 760091770919219200, 'media_url_https': 'https://pbs.twimg.com/media/CoxjcEJWcAAPyhu.jpg', 'indices': [116, 139], 'id_str': '760091770919219200', 'media_url': 'http://pbs.twimg.com/media/CoxjcEJWcAAPyhu.jpg'}]}, 'retweeted': False, 'in_reply_to_status_id': None, 'metadata': {'iso_language_code': 'en', 'result_type': 'recent'}, 'in_reply_to_screen_name': None, 'id_str': '760091773444190208', 'is_quote_status': False, 'contributors': None, 'coordinates': None, 'lang': 'en', 'in_reply_to_status_id_str': None, 'in_reply_to_user_id_str': None, 'source': '<a href=\"http://ifttt.com\" rel=\"nofollow\">IFTTT</a>', 'place': None, 'possibly_sensitive': False, 'geo': None, 'favorite_count': 1, 'in_reply_to_user_id': None, 'user': {'entities': {'url': {'urls': [{'indices': [0, 22], 'display_url': 'borohotel.com', 'expanded_url': 'http://www.borohotel.com', 'url': 'http://t.co/wI3JaRu8YA'}]}, 'description': {'urls': []}}, 'created_at': 'Thu May 07 20:16:26 +0000 2015', 'url': 'http://t.co/wI3JaRu8YA', 'profile_sidebar_fill_color': '000000', 'profile_image_url': 'http://pbs.twimg.com/profile_images/747471077434073088/CROYlBoi_normal.jpg', 'id': 3241044964, 'name': 'Boro Hotel', 'profile_sidebar_border_color': '000000', 'profile_use_background_image': False, 'screen_name': 'BoroHotel', 'geo_enabled': False, 'favourites_count': 347, 'time_zone': None, 'listed_count': 25, 'following': False, 'default_profile_image': False, 'verified': False, 'id_str': '3241044964', 'lang': 'en', 'profile_background_color': '000000', 'profile_background_image_url': 'http://abs.twimg.com/images/themes/theme1/bg.png', 'default_profile': False, 'profile_image_url_https': 'https://pbs.twimg.com/profile_images/747471077434073088/CROYlBoi_normal.jpg', 'notifications': False, 'friends_count': 1023, 'utc_offset': None, 'location': 'Long Island City, Queens', 'description': '', 'statuses_count': 288, 'profile_background_image_url_https': 'https://abs.twimg.com/images/themes/theme1/bg.png', 'followers_count': 1338, 'profile_background_tile': False, 'protected': False, 'profile_text_color': '000000', 'is_translation_enabled': False, 'profile_banner_url': 'https://pbs.twimg.com/profile_banners/3241044964/1450462157', 'profile_link_color': 'ABB8C2', 'follow_request_sent': False, 'has_extended_profile': False, 'contributors_enabled': False, 'is_translator': False}, 'text': \"Today's #mondaymotivation is in avocado toast form. 📸: @benjaminholtrop 🍳\\n.\\n.\\n.\\n#monday #b… https://t.co/iWgbPwx1Vj https://t.co/1gyU3ISSIO\", 'retweet_count': 1, 'favorited': False}, 'possibly_sensitive': False, 'geo': None, 'favorite_count': 0, 'in_reply_to_user_id': None, 'user': {'entities': {'url': {'urls': [{'indices': [0, 23], 'display_url': 'Ridgewoodcars.com', 'expanded_url': 'http://Ridgewoodcars.com', 'url': 'https://t.co/AWF0Bs0IAe'}]}, 'description': {'urls': []}}, 'created_at': 'Sat Jul 23 13:04:05 +0000 2016', 'url': 'https://t.co/AWF0Bs0IAe', 'profile_sidebar_fill_color': 'DDEEF6', 'profile_image_url': 'http://pbs.twimg.com/profile_images/757272144971718656/M4AZNdpb_normal.jpg', 'id': 756837288848547840, 'name': 'Ridgewood CarService', 'profile_sidebar_border_color': 'C0DEED', 'profile_use_background_image': True, 'screen_name': 'RidgewoodCars', 'geo_enabled': False, 'favourites_count': 15, 'time_zone': 'Eastern Time (US & Canada)', 'listed_count': 1, 'following': False, 'default_profile_image': False, 'verified': False, 'id_str': '756837288848547840', 'lang': 'en', 'profile_background_color': 'F5F8FA', 'profile_background_image_url': None, 'default_profile': True, 'profile_image_url_https': 'https://pbs.twimg.com/profile_images/757272144971718656/M4AZNdpb_normal.jpg', 'notifications': False, 'friends_count': 112, 'utc_offset': -14400, 'location': 'New York, NY', 'description': 'Ridgewood Car Service provides outstanding service in #Ridgewood #Bushwick #Williamsburg, #Maspeth and surrounding areas of New York City. 24/7 all year round.', 'statuses_count': 43, 'profile_background_image_url_https': None, 'followers_count': 30, 'profile_background_tile': False, 'protected': False, 'profile_text_color': '333333', 'is_translation_enabled': False, 'profile_banner_url': 'https://pbs.twimg.com/profile_banners/756837288848547840/1469685106', 'profile_link_color': '2B7BB9', 'follow_request_sent': False, 'has_extended_profile': False, 'contributors_enabled': False, 'is_translator': False}, 'text': \"RT @BoroHotel: Today's #mondaymotivation is in avocado toast form. 📸: @benjaminholtrop 🍳\\n.\\n.\\n.\\n#monday #b… https://t.co/iWgbPwx1Vj https://…\", 'retweet_count': 1, 'favorited': False}, favorite_count=0, possibly_sensitive=False, user=User(entities={'url': {'urls': [{'indices': [0, 23], 'display_url': 'Ridgewoodcars.com', 'expanded_url': 'http://Ridgewoodcars.com', 'url': 'https://t.co/AWF0Bs0IAe'}]}, 'description': {'urls': []}}, created_at=datetime.datetime(2016, 7, 23, 13, 4, 5), _api=<tweepy.api.API object at 0x11278bc88>, url='https://t.co/AWF0Bs0IAe', profile_sidebar_fill_color='DDEEF6', id=756837288848547840, name='Ridgewood CarService', profile_sidebar_border_color='C0DEED', profile_use_background_image=True, screen_name='RidgewoodCars', profile_banner_url='https://pbs.twimg.com/profile_banners/756837288848547840/1469685106', geo_enabled=False, favourites_count=15, time_zone='Eastern Time (US & Canada)', listed_count=1, default_profile_image=False, verified=False, id_str='756837288848547840', profile_link_color='2B7BB9', lang='en', profile_background_color='F5F8FA', profile_background_image_url=None, default_profile=True, notifications=False, profile_image_url_https='https://pbs.twimg.com/profile_images/757272144971718656/M4AZNdpb_normal.jpg', utc_offset=-14400, location='New York, NY', profile_image_url='http://pbs.twimg.com/profile_images/757272144971718656/M4AZNdpb_normal.jpg', is_translator=False, _json={'entities': {'url': {'urls': [{'indices': [0, 23], 'display_url': 'Ridgewoodcars.com', 'expanded_url': 'http://Ridgewoodcars.com', 'url': 'https://t.co/AWF0Bs0IAe'}]}, 'description': {'urls': []}}, 'created_at': 'Sat Jul 23 13:04:05 +0000 2016', 'url': 'https://t.co/AWF0Bs0IAe', 'profile_sidebar_fill_color': 'DDEEF6', 'profile_image_url': 'http://pbs.twimg.com/profile_images/757272144971718656/M4AZNdpb_normal.jpg', 'id': 756837288848547840, 'name': 'Ridgewood CarService', 'profile_sidebar_border_color': 'C0DEED', 'profile_use_background_image': True, 'screen_name': 'RidgewoodCars', 'geo_enabled': False, 'favourites_count': 15, 'time_zone': 'Eastern Time (US & Canada)', 'listed_count': 1, 'following': False, 'default_profile_image': False, 'verified': False, 'id_str': '756837288848547840', 'lang': 'en', 'profile_background_color': 'F5F8FA', 'profile_background_image_url': None, 'default_profile': True, 'profile_image_url_https': 'https://pbs.twimg.com/profile_images/757272144971718656/M4AZNdpb_normal.jpg', 'notifications': False, 'friends_count': 112, 'utc_offset': -14400, 'location': 'New York, NY', 'description': 'Ridgewood Car Service provides outstanding service in #Ridgewood #Bushwick #Williamsburg, #Maspeth and surrounding areas of New York City. 24/7 all year round.', 'statuses_count': 43, 'profile_background_image_url_https': None, 'followers_count': 30, 'profile_background_tile': False, 'protected': False, 'profile_text_color': '333333', 'is_translation_enabled': False, 'profile_banner_url': 'https://pbs.twimg.com/profile_banners/756837288848547840/1469685106', 'profile_link_color': '2B7BB9', 'follow_request_sent': False, 'has_extended_profile': False, 'contributors_enabled': False, 'is_translator': False}, is_translation_enabled=False, profile_background_image_url_https=None, followers_count=30, profile_background_tile=False, protected=False, profile_text_color='333333', friends_count=112, description='Ridgewood Car Service provides outstanding service in #Ridgewood #Bushwick #Williamsburg, #Maspeth and surrounding areas of New York City. 24/7 all year round.', following=False, follow_request_sent=False, has_extended_profile=False, contributors_enabled=False, statuses_count=43), text=\"RT @BoroHotel: Today's #mondaymotivation is in avocado toast form. 📸: @benjaminholtrop 🍳\\n.\\n.\\n.\\n#monday #b… https://t.co/iWgbPwx1Vj https://…\", retweet_count=1, source_url='http://twitter.com', favorited=False, in_reply_to_status_id_str=None)"
      ]
     },
     "execution_count": 17,
     "metadata": {},
     "output_type": "execute_result"
    }
   ],
   "source": [
    "avocado[100]"
   ]
  },
  {
   "cell_type": "code",
   "execution_count": null,
   "metadata": {
    "collapsed": true
   },
   "outputs": [],
   "source": []
  },
  {
   "cell_type": "code",
   "execution_count": 18,
   "metadata": {
    "collapsed": false
   },
   "outputs": [],
   "source": [
    "avocado_coord=[x.geo['coordinates']+[x.created_at] for x in avocado if x.geo!=None]"
   ]
  },
  {
   "cell_type": "code",
   "execution_count": 19,
   "metadata": {
    "collapsed": false
   },
   "outputs": [],
   "source": [
    "avocado_df = pd.DataFrame(avocado_coord)\n",
    "avocado_df.columns=['lat','lng','time']\n",
    "avocado_df.to_csv('avo1.csv')"
   ]
  },
  {
   "cell_type": "code",
   "execution_count": 20,
   "metadata": {
    "collapsed": false
   },
   "outputs": [],
   "source": [
    "df=pd.read_csv('avo1.csv')"
   ]
  },
  {
   "cell_type": "code",
   "execution_count": 21,
   "metadata": {
    "collapsed": false
   },
   "outputs": [
    {
     "data": {
      "text/html": [
       "<div>\n",
       "<table border=\"1\" class=\"dataframe\">\n",
       "  <thead>\n",
       "    <tr style=\"text-align: right;\">\n",
       "      <th></th>\n",
       "      <th>Unnamed: 0</th>\n",
       "      <th>lat</th>\n",
       "      <th>lng</th>\n",
       "      <th>time</th>\n",
       "    </tr>\n",
       "  </thead>\n",
       "  <tbody>\n",
       "    <tr>\n",
       "      <th>0</th>\n",
       "      <td>0</td>\n",
       "      <td>40.740400</td>\n",
       "      <td>-73.989474</td>\n",
       "      <td>2016-08-02 14:30:44</td>\n",
       "    </tr>\n",
       "    <tr>\n",
       "      <th>1</th>\n",
       "      <td>1</td>\n",
       "      <td>40.720672</td>\n",
       "      <td>-73.961652</td>\n",
       "      <td>2016-08-02 14:09:32</td>\n",
       "    </tr>\n",
       "    <tr>\n",
       "      <th>2</th>\n",
       "      <td>2</td>\n",
       "      <td>40.746944</td>\n",
       "      <td>-73.917500</td>\n",
       "      <td>2016-08-01 18:43:27</td>\n",
       "    </tr>\n",
       "    <tr>\n",
       "      <th>3</th>\n",
       "      <td>3</td>\n",
       "      <td>40.730278</td>\n",
       "      <td>-73.954167</td>\n",
       "      <td>2016-08-01 11:28:31</td>\n",
       "    </tr>\n",
       "    <tr>\n",
       "      <th>4</th>\n",
       "      <td>4</td>\n",
       "      <td>40.742001</td>\n",
       "      <td>-73.985298</td>\n",
       "      <td>2016-07-31 22:12:12</td>\n",
       "    </tr>\n",
       "    <tr>\n",
       "      <th>5</th>\n",
       "      <td>5</td>\n",
       "      <td>40.733704</td>\n",
       "      <td>-73.992978</td>\n",
       "      <td>2016-07-31 16:49:21</td>\n",
       "    </tr>\n",
       "    <tr>\n",
       "      <th>6</th>\n",
       "      <td>6</td>\n",
       "      <td>40.733817</td>\n",
       "      <td>-74.001260</td>\n",
       "      <td>2016-07-30 21:53:53</td>\n",
       "    </tr>\n",
       "    <tr>\n",
       "      <th>7</th>\n",
       "      <td>7</td>\n",
       "      <td>40.741020</td>\n",
       "      <td>-73.998290</td>\n",
       "      <td>2016-07-30 14:00:53</td>\n",
       "    </tr>\n",
       "    <tr>\n",
       "      <th>8</th>\n",
       "      <td>8</td>\n",
       "      <td>40.252385</td>\n",
       "      <td>-74.299282</td>\n",
       "      <td>2016-07-29 18:32:30</td>\n",
       "    </tr>\n",
       "    <tr>\n",
       "      <th>9</th>\n",
       "      <td>9</td>\n",
       "      <td>40.747730</td>\n",
       "      <td>-73.986620</td>\n",
       "      <td>2016-07-28 14:15:19</td>\n",
       "    </tr>\n",
       "    <tr>\n",
       "      <th>10</th>\n",
       "      <td>10</td>\n",
       "      <td>40.719100</td>\n",
       "      <td>-74.000130</td>\n",
       "      <td>2016-07-28 13:29:32</td>\n",
       "    </tr>\n",
       "    <tr>\n",
       "      <th>11</th>\n",
       "      <td>11</td>\n",
       "      <td>40.761880</td>\n",
       "      <td>-73.968260</td>\n",
       "      <td>2016-07-28 12:22:11</td>\n",
       "    </tr>\n",
       "    <tr>\n",
       "      <th>12</th>\n",
       "      <td>12</td>\n",
       "      <td>40.729180</td>\n",
       "      <td>-74.000970</td>\n",
       "      <td>2016-07-26 14:19:13</td>\n",
       "    </tr>\n",
       "  </tbody>\n",
       "</table>\n",
       "</div>"
      ],
      "text/plain": [
       "    Unnamed: 0        lat        lng                 time\n",
       "0            0  40.740400 -73.989474  2016-08-02 14:30:44\n",
       "1            1  40.720672 -73.961652  2016-08-02 14:09:32\n",
       "2            2  40.746944 -73.917500  2016-08-01 18:43:27\n",
       "3            3  40.730278 -73.954167  2016-08-01 11:28:31\n",
       "4            4  40.742001 -73.985298  2016-07-31 22:12:12\n",
       "5            5  40.733704 -73.992978  2016-07-31 16:49:21\n",
       "6            6  40.733817 -74.001260  2016-07-30 21:53:53\n",
       "7            7  40.741020 -73.998290  2016-07-30 14:00:53\n",
       "8            8  40.252385 -74.299282  2016-07-29 18:32:30\n",
       "9            9  40.747730 -73.986620  2016-07-28 14:15:19\n",
       "10          10  40.719100 -74.000130  2016-07-28 13:29:32\n",
       "11          11  40.761880 -73.968260  2016-07-28 12:22:11\n",
       "12          12  40.729180 -74.000970  2016-07-26 14:19:13"
      ]
     },
     "execution_count": 21,
     "metadata": {},
     "output_type": "execute_result"
    }
   ],
   "source": [
    "df"
   ]
  },
  {
   "cell_type": "code",
   "execution_count": null,
   "metadata": {
    "collapsed": true
   },
   "outputs": [],
   "source": []
  }
 ],
 "metadata": {
  "kernelspec": {
   "display_name": "Python 3",
   "language": "python",
   "name": "python3"
  },
  "language_info": {
   "codemirror_mode": {
    "name": "ipython",
    "version": 3
   },
   "file_extension": ".py",
   "mimetype": "text/x-python",
   "name": "python",
   "nbconvert_exporter": "python",
   "pygments_lexer": "ipython3",
   "version": "3.5.1"
  }
 },
 "nbformat": 4,
 "nbformat_minor": 0
}

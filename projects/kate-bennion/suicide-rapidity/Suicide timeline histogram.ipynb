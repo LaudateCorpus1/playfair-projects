{
 "cells": [
  {
   "cell_type": "markdown",
   "metadata": {
    "collapsed": true
   },
   "source": [
    "24% said less than five minutes ~ 37\n",
    "\n",
    "24% said 5-19 minutes ~ 37\n",
    "\n",
    "23% said 20 minutes to 1 hour ~ 35\n",
    "\n",
    "16% said 2-8 hour ~ 25\n",
    "\n",
    "13% said 1 or more days ~20\n",
    "\n",
    "153 people\n",
    "\n",
    "one day = 288 bins of 5 minutes\n",
    "\n"
   ]
  },
  {
   "cell_type": "code",
   "execution_count": 5,
   "metadata": {
    "collapsed": true
   },
   "outputs": [],
   "source": [
    "import pandas as pd\n",
    "import numpy as np\n",
    "import matplotlib.pyplot as plt\n",
    "from matplotlib.collections import LineCollection\n",
    "%matplotlib inline\n",
    "import matplotlib\n",
    "matplotlib.rcParams['pdf.fonttype'] = 42\n",
    "matplotlib.rcParams['ps.fonttype'] = 42\n",
    "import matplotlib.lines as mlines\n",
    "import matplotlib.patches as mpatches\n",
    "from pylab import *"
   ]
  },
  {
   "cell_type": "code",
   "execution_count": 49,
   "metadata": {
    "collapsed": false
   },
   "outputs": [
    {
     "data": {
      "text/plain": [
       "[0, 288, 25, 0]"
      ]
     },
     "execution_count": 49,
     "metadata": {},
     "output_type": "execute_result"
    },
    {
     "data": {
      "image/png": "[encoded data removed]",
      "text/plain": [
       "<matplotlib.figure.Figure at 0xc843070>"
      ]
     },
     "metadata": {},
     "output_type": "display_data"
    }
   ],
   "source": [
    "x = [1,1,1,1,1,1,1,1,1,1,1,1,1,1,1,1,1,1,1,1,1,1,1,1,\n",
    "     2,2,2,2,2,2,2,2,2,2,2,2,2,2,2,2,2,2,2,2,2,2,2,2,2,\n",
    "     2.875,2.875,2.875,2.875,2.875,2.875,2.875,2.875, \n",
    "     .22,.22,.22,.22,.22,.22,.22,.22,.22,.22,.22,.22,.22,.22,.22,.22,.22,.22,.22,.22,.22,.22,.22,.22,.22,.22,.22,.22,.22,.22,.22,.22,.22,.22,.22,.22,.22,.22,.22,.22,.22,.22,.22,.22,.22,.22,.22,.22,.22,.22,.22,.22,.22,.22,.22,.22,.22,.22,.22,.22,.22,.22,.22,.22,.22,.22,.22,.22,.22,.22,.22,.22,\n",
    "    .068,.068,.068,.068,.068,.068,.068,.068,.068,.068,\n",
    "     .068,.068,.068,.068,.068,.068,.068,.068,.068,.068,\n",
    "     .068,.068,.068,.068,.068,.068,.068,.068,.068,.068,\n",
    "     .068,.068,.068,.068,.068,.068,.068,.068,.068,.068,\n",
    "     .068,.068,.068,.068,.068,.068,.068,.068,.068,.068,\n",
    "     .068,.068,.068,.068,.068,.068,.068,.068,.068,.068,\n",
    "     .068,.068,.068,.068,.068,.068,.068,.068,.068,.068,\n",
    "     .068,.068,.068,.068,.068,.068,.068,.068,.068,.068,\n",
    "     .068,.068,.068,.068,.068,.068,.068,.068,.068,.068,\n",
    "     .068,.068,.068,.068,.068,.068,.068,.068,.068,.068,\n",
    "     .068,.068,.068,.068,.068,.068,.068,.068,.068,.068,\n",
    "     .068,.068,.068,.068,.068,.068,.068,.068,.068,.068,\n",
    "     .068,.068,.068,.068,.068,.068,.068,.068,.068,.068,\n",
    "     .068,.068,.068,.068,.068,.068,.068,.068,.068,.068,\n",
    "     .068,.068,.068,.068,.068,.068,.068,.068,.068,.068,\n",
    "     .068,.068,.068,.068,.068,.068,.068,.068,.068,.068,\n",
    "     .068,.068,.068,.068,.068,.068,.068,.068,.068,.068,\n",
    "     .068,.068,.068,.068,.068,.068,.068,.068,.068,.068,\n",
    "     .068,.068,.068,.068,.068,.068,.068,.068,.068,.068,\n",
    "     .068, .068]\n",
    "plt.hist(x, bins=288, orientation='horizontal') \n",
    "plt.axis([0, 288, 25, 0])"
   ]
  },
  {
   "cell_type": "code",
   "execution_count": null,
   "metadata": {
    "collapsed": true
   },
   "outputs": [],
   "source": [
    "plt.axis([0, 100, 0, 50]) \n",
    "plt.hist([0, 1, 4, 12, 40, 96], bins=[37, 37, 35, 25, 20])"
   ]
  },
  {
   "cell_type": "code",
   "execution_count": 12,
   "metadata": {
    "collapsed": false
   },
   "outputs": [
    {
     "ename": "ValueError",
     "evalue": "incompatible sizes: argument 'width' must be length 321 or scalar",
     "output_type": "error",
     "traceback": [
      "\u001b[1;31m---------------------------------------------------------------------------\u001b[0m",
      "\u001b[1;31mValueError\u001b[0m                                Traceback (most recent call last)",
      "\u001b[1;32m<ipython-input-12-7cff3e165923>\u001b[0m in \u001b[0;36m<module>\u001b[1;34m()\u001b[0m\n\u001b[0;32m     26\u001b[0m \u001b[1;33m\u001b[0m\u001b[0m\n\u001b[0;32m     27\u001b[0m \u001b[0mfigure\u001b[0m\u001b[1;33m(\u001b[0m\u001b[1;36m1\u001b[0m\u001b[1;33m)\u001b[0m\u001b[1;33m\u001b[0m\u001b[0m\n\u001b[1;32m---> 28\u001b[1;33m \u001b[0mbarh\u001b[0m\u001b[1;33m(\u001b[0m\u001b[0mval\u001b[0m\u001b[1;33m,\u001b[0m \u001b[0mwidth\u001b[0m\u001b[1;33m=\u001b[0m\u001b[1;36m321\u001b[0m\u001b[1;33m)\u001b[0m\u001b[1;33m\u001b[0m\u001b[0m\n\u001b[0m\u001b[0;32m     29\u001b[0m \u001b[0mxlabel\u001b[0m\u001b[1;33m(\u001b[0m\u001b[1;34m'# of Respondents'\u001b[0m\u001b[1;33m)\u001b[0m\u001b[1;33m\u001b[0m\u001b[0m\n\u001b[0;32m     30\u001b[0m \u001b[0mtitle\u001b[0m\u001b[1;33m(\u001b[0m\u001b[1;34m'Immediacy of attempt'\u001b[0m\u001b[1;33m)\u001b[0m\u001b[1;33m\u001b[0m\u001b[0m\n",
      "\u001b[1;32mc:\\users\\kate\\appdata\\local\\programs\\python\\python35-32\\lib\\site-packages\\matplotlib\\pyplot.py\u001b[0m in \u001b[0;36mbarh\u001b[1;34m(bottom, width, height, left, hold, **kwargs)\u001b[0m\n\u001b[0;32m   2658\u001b[0m         \u001b[0max\u001b[0m\u001b[1;33m.\u001b[0m\u001b[0mhold\u001b[0m\u001b[1;33m(\u001b[0m\u001b[0mhold\u001b[0m\u001b[1;33m)\u001b[0m\u001b[1;33m\u001b[0m\u001b[0m\n\u001b[0;32m   2659\u001b[0m     \u001b[1;32mtry\u001b[0m\u001b[1;33m:\u001b[0m\u001b[1;33m\u001b[0m\u001b[0m\n\u001b[1;32m-> 2660\u001b[1;33m         \u001b[0mret\u001b[0m \u001b[1;33m=\u001b[0m \u001b[0max\u001b[0m\u001b[1;33m.\u001b[0m\u001b[0mbarh\u001b[0m\u001b[1;33m(\u001b[0m\u001b[0mbottom\u001b[0m\u001b[1;33m,\u001b[0m \u001b[0mwidth\u001b[0m\u001b[1;33m,\u001b[0m \u001b[0mheight\u001b[0m\u001b[1;33m=\u001b[0m\u001b[0mheight\u001b[0m\u001b[1;33m,\u001b[0m \u001b[0mleft\u001b[0m\u001b[1;33m=\u001b[0m\u001b[0mleft\u001b[0m\u001b[1;33m,\u001b[0m \u001b[1;33m**\u001b[0m\u001b[0mkwargs\u001b[0m\u001b[1;33m)\u001b[0m\u001b[1;33m\u001b[0m\u001b[0m\n\u001b[0m\u001b[0;32m   2661\u001b[0m     \u001b[1;32mfinally\u001b[0m\u001b[1;33m:\u001b[0m\u001b[1;33m\u001b[0m\u001b[0m\n\u001b[0;32m   2662\u001b[0m         \u001b[0max\u001b[0m\u001b[1;33m.\u001b[0m\u001b[0mhold\u001b[0m\u001b[1;33m(\u001b[0m\u001b[0mwashold\u001b[0m\u001b[1;33m)\u001b[0m\u001b[1;33m\u001b[0m\u001b[0m\n",
      "\u001b[1;32mc:\\users\\kate\\appdata\\local\\programs\\python\\python35-32\\lib\\site-packages\\matplotlib\\axes\\_axes.py\u001b[0m in \u001b[0;36mbarh\u001b[1;34m(self, bottom, width, height, left, **kwargs)\u001b[0m\n\u001b[0;32m   2287\u001b[0m \u001b[1;33m\u001b[0m\u001b[0m\n\u001b[0;32m   2288\u001b[0m         patches = self.bar(left=left, height=height, width=width,\n\u001b[1;32m-> 2289\u001b[1;33m                            bottom=bottom, orientation='horizontal', **kwargs)\n\u001b[0m\u001b[0;32m   2290\u001b[0m         \u001b[1;32mreturn\u001b[0m \u001b[0mpatches\u001b[0m\u001b[1;33m\u001b[0m\u001b[0m\n\u001b[0;32m   2291\u001b[0m \u001b[1;33m\u001b[0m\u001b[0m\n",
      "\u001b[1;32mc:\\users\\kate\\appdata\\local\\programs\\python\\python35-32\\lib\\site-packages\\matplotlib\\__init__.py\u001b[0m in \u001b[0;36minner\u001b[1;34m(ax, *args, **kwargs)\u001b[0m\n\u001b[0;32m   1810\u001b[0m                     warnings.warn(msg % (label_namer, func.__name__),\n\u001b[0;32m   1811\u001b[0m                                   RuntimeWarning, stacklevel=2)\n\u001b[1;32m-> 1812\u001b[1;33m             \u001b[1;32mreturn\u001b[0m \u001b[0mfunc\u001b[0m\u001b[1;33m(\u001b[0m\u001b[0max\u001b[0m\u001b[1;33m,\u001b[0m \u001b[1;33m*\u001b[0m\u001b[0margs\u001b[0m\u001b[1;33m,\u001b[0m \u001b[1;33m**\u001b[0m\u001b[0mkwargs\u001b[0m\u001b[1;33m)\u001b[0m\u001b[1;33m\u001b[0m\u001b[0m\n\u001b[0m\u001b[0;32m   1813\u001b[0m         \u001b[0mpre_doc\u001b[0m \u001b[1;33m=\u001b[0m \u001b[0minner\u001b[0m\u001b[1;33m.\u001b[0m\u001b[0m__doc__\u001b[0m\u001b[1;33m\u001b[0m\u001b[0m\n\u001b[0;32m   1814\u001b[0m         \u001b[1;32mif\u001b[0m \u001b[0mpre_doc\u001b[0m \u001b[1;32mis\u001b[0m \u001b[1;32mNone\u001b[0m\u001b[1;33m:\u001b[0m\u001b[1;33m\u001b[0m\u001b[0m\n",
      "\u001b[1;32mc:\\users\\kate\\appdata\\local\\programs\\python\\python35-32\\lib\\site-packages\\matplotlib\\axes\\_axes.py\u001b[0m in \u001b[0;36mbar\u001b[1;34m(self, left, height, width, bottom, **kwargs)\u001b[0m\n\u001b[0;32m   2081\u001b[0m         \u001b[1;32mif\u001b[0m \u001b[0mlen\u001b[0m\u001b[1;33m(\u001b[0m\u001b[0mwidth\u001b[0m\u001b[1;33m)\u001b[0m \u001b[1;33m!=\u001b[0m \u001b[0mnbars\u001b[0m\u001b[1;33m:\u001b[0m\u001b[1;33m\u001b[0m\u001b[0m\n\u001b[0;32m   2082\u001b[0m             raise ValueError(\"incompatible sizes: argument 'width' \"\n\u001b[1;32m-> 2083\u001b[1;33m                              \"must be length %d or scalar\" % nbars)\n\u001b[0m\u001b[0;32m   2084\u001b[0m         \u001b[1;32mif\u001b[0m \u001b[0mlen\u001b[0m\u001b[1;33m(\u001b[0m\u001b[0mbottom\u001b[0m\u001b[1;33m)\u001b[0m \u001b[1;33m!=\u001b[0m \u001b[0mnbars\u001b[0m\u001b[1;33m:\u001b[0m\u001b[1;33m\u001b[0m\u001b[0m\n\u001b[0;32m   2085\u001b[0m             raise ValueError(\"incompatible sizes: argument 'bottom' \"\n",
      "\u001b[1;31mValueError\u001b[0m: incompatible sizes: argument 'width' must be length 321 or scalar"
     ]
    },
    {
     "data": {
      "image/png": "[encoded data removed]",
      "text/plain": [
       "<matplotlib.figure.Figure at 0x9d085b0>"
      ]
     },
     "metadata": {},
     "output_type": "display_data"
    }
   ],
   "source": [
    "val = [1,1,1,1,1,1,1,1,1,1,1,1,1,1,1,1,1,1,1,1,1,1,1,1,\n",
    "     2,2,2,2,2,2,2,2,2,2,2,2,2,2,2,2,2,2,2,2,2,2,2,2,2,\n",
    "     2.875,2.875,2.875,2.875,2.875,2.875,2.875,2.875, \n",
    "     .22,.22,.22,.22,.22,.22,.22,.22,.22,.22,.22,.22,.22,.22,.22,.22,.22,.22,.22,.22,.22,.22,.22,.22,.22,.22,.22,.22,.22,.22,.22,.22,.22,.22,.22,.22,.22,.22,.22,.22,.22,.22,.22,.22,.22,.22,.22,.22,.22,.22,.22,.22,.22,.22,.22,.22,.22,.22,.22,.22,.22,.22,.22,.22,.22,.22,.22,.22,.22,.22,.22,.22,\n",
    "    .068,.068,.068,.068,.068,.068,.068,.068,.068,.068,\n",
    "     .068,.068,.068,.068,.068,.068,.068,.068,.068,.068,\n",
    "     .068,.068,.068,.068,.068,.068,.068,.068,.068,.068,\n",
    "     .068,.068,.068,.068,.068,.068,.068,.068,.068,.068,\n",
    "     .068,.068,.068,.068,.068,.068,.068,.068,.068,.068,\n",
    "     .068,.068,.068,.068,.068,.068,.068,.068,.068,.068,\n",
    "     .068,.068,.068,.068,.068,.068,.068,.068,.068,.068,\n",
    "     .068,.068,.068,.068,.068,.068,.068,.068,.068,.068,\n",
    "     .068,.068,.068,.068,.068,.068,.068,.068,.068,.068,\n",
    "     .068,.068,.068,.068,.068,.068,.068,.068,.068,.068,\n",
    "     .068,.068,.068,.068,.068,.068,.068,.068,.068,.068,\n",
    "     .068,.068,.068,.068,.068,.068,.068,.068,.068,.068,\n",
    "     .068,.068,.068,.068,.068,.068,.068,.068,.068,.068,\n",
    "     .068,.068,.068,.068,.068,.068,.068,.068,.068,.068,\n",
    "     .068,.068,.068,.068,.068,.068,.068,.068,.068,.068,\n",
    "     .068,.068,.068,.068,.068,.068,.068,.068,.068,.068,\n",
    "     .068,.068,.068,.068,.068,.068,.068,.068,.068,.068,\n",
    "     .068,.068,.068,.068,.068,.068,.068,.068,.068,.068,\n",
    "     .068,.068,.068,.068,.068,.068,.068,.068,.068,.068,\n",
    "     .068, .068]    # the bar lengths\n",
    "pos = np.arange(5)+.5    # the bar centers on the y axis\n",
    "\n",
    "figure(1)\n",
    "barh(val, width=321)\n",
    "xlabel('# of Respondents')\n",
    "title('Immediacy of attempt')\n",
    "grid(True)\n",
    "\n",
    "show()\n",
    "\n",
    "people = ('Tom', 'Dick', 'Harry', 'Slim', 'Jim')\n",
    "y_pos = np.arange(len(people))\n",
    "performance = 3 + 10 * np.random.rand(len(people))\n",
    "error = np.random.rand(len(people))\n",
    "\n",
    "plt.barh(y_pos, performance, xerr=error, align='center', alpha=0.4)\n",
    "plt.yticks(y_pos, people)\n",
    "plt.xlabel('Performance')\n",
    "plt.title('How fast do you want to go today?')\n",
    "\n",
    "plt.show()"
   ]
  },
  {
   "cell_type": "code",
   "execution_count": null,
   "metadata": {
    "collapsed": true
   },
   "outputs": [],
   "source": []
  },
  {
   "cell_type": "code",
   "execution_count": null,
   "metadata": {
    "collapsed": true
   },
   "outputs": [],
   "source": []
  },
  {
   "cell_type": "code",
   "execution_count": 37,
   "metadata": {
    "collapsed": false
   },
   "outputs": [
    {
     "data": {
      "image/png": "[encoded data removed]",
      "text/plain": [
       "<matplotlib.figure.Figure at 0xc09fb50>"
      ]
     },
     "metadata": {},
     "output_type": "display_data"
    }
   ],
   "source": [
    "from pylab import *\n",
    "val = [20, 25, 35, 37, 37]    # the bar lengths\n",
    "pos = arange(5)+.5    # the bar centers on the y axis\n",
    "\n",
    "figure(1)\n",
    "barh(pos,val, align='center')\n",
    "yticks(pos, ( '1 or more days', '2-8 hours', '20 minutes - 1 hour', '5-19 minutes','0-5 minutes'))\n",
    "xlabel('# of Respondents')\n",
    "title('Immediacy of attempt')\n",
    "grid(True)\n",
    "\n",
    "show()\n"
   ]
  },
  {
   "cell_type": "code",
   "execution_count": 28,
   "metadata": {
    "collapsed": false
   },
   "outputs": [
    {
     "data": {
      "text/plain": [
       "(array([ 1.,  1.,  0.,  0.,  3.]),\n",
       " array([ 20. ,  23.4,  26.8,  30.2,  33.6,  37. ]),\n",
       " <a list of 5 Patch objects>)"
      ]
     },
     "execution_count": 28,
     "metadata": {},
     "output_type": "execute_result"
    },
    {
     "data": {
      "image/png": "[encoded data removed]",
      "text/plain": [
       "<matplotlib.figure.Figure at 0xae284f0>"
      ]
     },
     "metadata": {},
     "output_type": "display_data"
    }
   ],
   "source": [
    "#plt.axis([0, 100, 0, 50]) \n",
    "#[37, 37, 35, 25, 20]\n",
    "plt.hist([37, 37, 35, 25, 20], bins=5)"
   ]
  },
  {
   "cell_type": "code",
   "execution_count": 11,
   "metadata": {
    "collapsed": false
   },
   "outputs": [
    {
     "data": {
      "image/png": "[encoded data removed]",
      "text/plain": [
       "<matplotlib.figure.Figure at 0xac8cf10>"
      ]
     },
     "metadata": {},
     "output_type": "display_data"
    },
    {
     "data": {
      "text/plain": [
       "(array([  0.,  49.,  23.,  16.,  13.]),\n",
       " array([ 0,  1,  4, 12, 40, 96]),\n",
       " <a list of 5 Patch objects>)"
      ]
     },
     "execution_count": 11,
     "metadata": {},
     "output_type": "execute_result"
    },
    {
     "data": {
      "image/png": "[encoded data removed]",
      "text/plain": [
       "<matplotlib.figure.Figure at 0xac72cb0>"
      ]
     },
     "metadata": {},
     "output_type": "display_data"
    }
   ],
   "source": [
    "\n",
    "#elapsed = [1,1,1,1,1,1,1,1,1,1,1,1,1,1,1,1,1,1,1,1,1,1,1,1,2,2,2,2,2,2,2,2,2,2,2,2,2,2,2,2,2,2,2,2,2,2,2,2,2,5,6,7,8,9,9,9,9,9,9,9,9,9,9,9,9,9,9,9,9,9,9,9,13,14,24,24,24,24,34,34,34,34,34,34,34,34,34,34,41,42,43,44,45,46,47,48,49,50,51,52,53]\n",
    "plt.hist(elapsed)\n",
    "plt.title(\"Elapsed\")\n",
    "plt.xlabel(\"Time\")\n",
    "plt.ylabel(\"People\")\n",
    "plt.show()\n",
    "plt.hist(elapsed, bins=[0, 1, 4, 12, 40, 96])"
   ]
  },
  {
   "cell_type": "code",
   "execution_count": null,
   "metadata": {
    "collapsed": true
   },
   "outputs": [],
   "source": []
  },
  {
   "cell_type": "code",
   "execution_count": 6,
   "metadata": {
    "collapsed": false
   },
   "outputs": [
    {
     "data": {
      "text/plain": [
       "(array([ 50.,  22.,   2.,   0.,   4.,   0.,  10.,   0.,   5.,   5.,   3.]),\n",
       " array([ 1,  6, 11, 16, 21, 26, 31, 36, 41, 46, 51, 56]),\n",
       " <a list of 11 Patch objects>)"
      ]
     },
     "execution_count": 6,
     "metadata": {},
     "output_type": "execute_result"
    },
    {
     "data": {
      "image/png": "[encoded data removed]",
      "text/plain": [
       "<matplotlib.figure.Figure at 0x37074b0>"
      ]
     },
     "metadata": {},
     "output_type": "display_data"
    }
   ],
   "source": [
    "plt.hist(elapsed, bins=range(min(elapsed), max(elapsed) + 5, 5))"
   ]
  },
  {
   "cell_type": "code",
   "execution_count": 12,
   "metadata": {
    "collapsed": false
   },
   "outputs": [
    {
     "ename": "TypeError",
     "evalue": "int() argument must be a string, a bytes-like object or a number, not 'list'",
     "output_type": "error",
     "traceback": [
      "\u001b[1;31m---------------------------------------------------------------------------\u001b[0m",
      "\u001b[1;31mTypeError\u001b[0m                                 Traceback (most recent call last)",
      "\u001b[1;32m<ipython-input-12-081981896b8e>\u001b[0m in \u001b[0;36m<module>\u001b[1;34m()\u001b[0m\n\u001b[1;32m----> 1\u001b[1;33m \u001b[0mplt\u001b[0m\u001b[1;33m.\u001b[0m\u001b[0mfigure\u001b[0m\u001b[1;33m(\u001b[0m\u001b[0melapsed\u001b[0m\u001b[1;33m)\u001b[0m\u001b[1;33m\u001b[0m\u001b[0m\n\u001b[0m\u001b[0;32m      2\u001b[0m \u001b[0mplt\u001b[0m\u001b[1;33m.\u001b[0m\u001b[0maxis\u001b[0m\u001b[1;33m(\u001b[0m\u001b[1;33m[\u001b[0m\u001b[1;36m0\u001b[0m\u001b[1;33m,\u001b[0m \u001b[1;36m100\u001b[0m\u001b[1;33m,\u001b[0m \u001b[1;36m0\u001b[0m\u001b[1;33m,\u001b[0m \u001b[1;36m288\u001b[0m\u001b[1;33m]\u001b[0m\u001b[1;33m)\u001b[0m\u001b[1;33m\u001b[0m\u001b[0m\n\u001b[0;32m      3\u001b[0m \u001b[1;33m\u001b[0m\u001b[0m\n\u001b[0;32m      4\u001b[0m \u001b[0mbinBoundaries\u001b[0m \u001b[1;33m=\u001b[0m \u001b[0mnp\u001b[0m\u001b[1;33m.\u001b[0m\u001b[0mlinspace\u001b[0m\u001b[1;33m(\u001b[0m\u001b[1;36m0\u001b[0m\u001b[1;33m,\u001b[0m\u001b[1;36m288\u001b[0m\u001b[1;33m,\u001b[0m\u001b[1;36m5\u001b[0m\u001b[1;33m)\u001b[0m\u001b[1;33m\u001b[0m\u001b[0m\n\u001b[0;32m      5\u001b[0m \u001b[1;33m\u001b[0m\u001b[0m\n",
      "\u001b[1;32mc:\\users\\kate\\appdata\\local\\programs\\python\\python35-32\\lib\\site-packages\\matplotlib\\pyplot.py\u001b[0m in \u001b[0;36mfigure\u001b[1;34m(num, figsize, dpi, facecolor, edgecolor, frameon, FigureClass, **kwargs)\u001b[0m\n\u001b[0;32m    500\u001b[0m             \u001b[0mnum\u001b[0m \u001b[1;33m=\u001b[0m \u001b[0mallnums\u001b[0m\u001b[1;33m[\u001b[0m\u001b[0minum\u001b[0m\u001b[1;33m]\u001b[0m\u001b[1;33m\u001b[0m\u001b[0m\n\u001b[0;32m    501\u001b[0m     \u001b[1;32melse\u001b[0m\u001b[1;33m:\u001b[0m\u001b[1;33m\u001b[0m\u001b[0m\n\u001b[1;32m--> 502\u001b[1;33m         \u001b[0mnum\u001b[0m \u001b[1;33m=\u001b[0m \u001b[0mint\u001b[0m\u001b[1;33m(\u001b[0m\u001b[0mnum\u001b[0m\u001b[1;33m)\u001b[0m  \u001b[1;31m# crude validation of num argument\u001b[0m\u001b[1;33m\u001b[0m\u001b[0m\n\u001b[0m\u001b[0;32m    503\u001b[0m \u001b[1;33m\u001b[0m\u001b[0m\n\u001b[0;32m    504\u001b[0m     \u001b[0mfigManager\u001b[0m \u001b[1;33m=\u001b[0m \u001b[0m_pylab_helpers\u001b[0m\u001b[1;33m.\u001b[0m\u001b[0mGcf\u001b[0m\u001b[1;33m.\u001b[0m\u001b[0mget_fig_manager\u001b[0m\u001b[1;33m(\u001b[0m\u001b[0mnum\u001b[0m\u001b[1;33m)\u001b[0m\u001b[1;33m\u001b[0m\u001b[0m\n",
      "\u001b[1;31mTypeError\u001b[0m: int() argument must be a string, a bytes-like object or a number, not 'list'"
     ]
    }
   ],
   "source": [
    "plt.figure(elapsed)  \n",
    "plt.axis([0, 100, 0, 288])  \n",
    "\n",
    "binBoundaries = np.linspace(0,288,5)\n",
    "\n",
    "plt.title('A Histogram')  \n",
    "plt.xlabel('x-axis')  \n",
    "plt.ylabel('y-axis')  \n",
    "plt.legend()\n",
    "\n"
   ]
  },
  {
   "cell_type": "code",
   "execution_count": 14,
   "metadata": {
    "collapsed": false
   },
   "outputs": [
    {
     "data": {
      "text/plain": [
       "(array([ 0.,  0.,  0.,  0.]),\n",
       " array([0, 1, 2, 3, 4]),\n",
       " <a list of 4 Patch objects>)"
      ]
     },
     "execution_count": 14,
     "metadata": {},
     "output_type": "execute_result"
    },
    {
     "data": {
      "image/png": "[encoded data removed]",
      "text/plain": [
       "<matplotlib.figure.Figure at 0xad5afd0>"
      ]
     },
     "metadata": {},
     "output_type": "display_data"
    }
   ],
   "source": []
  },
  {
   "cell_type": "code",
   "execution_count": null,
   "metadata": {
    "collapsed": true
   },
   "outputs": [],
   "source": []
  },
  {
   "cell_type": "code",
   "execution_count": 13,
   "metadata": {
    "collapsed": false
   },
   "outputs": [
    {
     "data": {
      "text/plain": [
       "(array([ 24.,   0.,   0.,   0.,   0.,   8.,   0.,   0.,   0.,   0.,   0.,\n",
       "          8.,   0.,   0.,   0.,   0.,   8.,   0.,   0.,   0.,   0.,   0.,\n",
       "          1.,   0.,   0.,   0.,   0.,   1.,   0.,   0.,   0.,   0.,   0.,\n",
       "          1.,   0.,   0.,   0.,   0.,   1.,   0.,   0.,   0.,   0.,   0.,\n",
       "         19.,   0.,   0.,   0.,   0.,   0.,   0.,   0.,   0.,   0.,   0.,\n",
       "          0.,   0.,   0.,   0.,   0.,   0.,   0.,   0.,   0.,   0.,   0.,\n",
       "          1.,   0.,   0.,   0.,   0.,   0.,   1.,   0.,   0.,   0.,   0.,\n",
       "          0.,   0.,   0.,   0.,   0.,   0.,   0.,   0.,   0.,   0.,   0.,\n",
       "          0.,   0.,   0.,   0.,   0.,   0.,   0.,   0.,   0.,   0.,   0.,\n",
       "          0.,   0.,   0.,   0.,   0.,   0.,   0.,   0.,   0.,   0.,   0.,\n",
       "          0.,   0.,   0.,   0.,   0.,   0.,   0.,   0.,   0.,   0.,   0.,\n",
       "          0.,   0.,   0.,   0.,   0.,   0.,   4.,   0.,   0.,   0.,   0.,\n",
       "          0.,   0.,   0.,   0.,   0.,   0.,   0.,   0.,   0.,   0.,   0.,\n",
       "          0.,   0.,   0.,   0.,   0.,   0.,   0.,   0.,   0.,   0.,   0.,\n",
       "          0.,   0.,   0.,   0.,   0.,   0.,   0.,   0.,   0.,   0.,   0.,\n",
       "          0.,   0.,   0.,   0.,   0.,   0.,   0.,   0.,   0.,   0.,   0.,\n",
       "          0.,   0.,   0.,   0.,   0.,   0.,  10.,   0.,   0.,   0.,   0.,\n",
       "          0.,   0.,   0.,   0.,   0.,   0.,   0.,   0.,   0.,   0.,   0.,\n",
       "          0.,   0.,   0.,   0.,   0.,   0.,   0.,   0.,   0.,   0.,   0.,\n",
       "          0.,   0.,   0.,   0.,   0.,   0.,   0.,   0.,   0.,   0.,   0.,\n",
       "          0.,   1.,   0.,   0.,   0.,   0.,   0.,   1.,   0.,   0.,   0.,\n",
       "          0.,   1.,   0.,   0.,   0.,   0.,   0.,   1.,   0.,   0.,   0.,\n",
       "          0.,   1.,   0.,   0.,   0.,   0.,   0.,   1.,   0.,   0.,   0.,\n",
       "          0.,   1.,   0.,   0.,   0.,   0.,   0.,   1.,   0.,   0.,   0.,\n",
       "          0.,   1.,   0.,   0.,   0.,   0.,   0.,   1.,   0.,   0.,   0.,\n",
       "          0.,   1.,   0.,   0.,   0.,   0.,   0.,   1.,   0.,   0.,   0.,\n",
       "          0.,   1.]),\n",
       " array([  1.        ,   1.18055556,   1.36111111,   1.54166667,\n",
       "          1.72222222,   1.90277778,   2.08333333,   2.26388889,\n",
       "          2.44444444,   2.625     ,   2.80555556,   2.98611111,\n",
       "          3.16666667,   3.34722222,   3.52777778,   3.70833333,\n",
       "          3.88888889,   4.06944444,   4.25      ,   4.43055556,\n",
       "          4.61111111,   4.79166667,   4.97222222,   5.15277778,\n",
       "          5.33333333,   5.51388889,   5.69444444,   5.875     ,\n",
       "          6.05555556,   6.23611111,   6.41666667,   6.59722222,\n",
       "          6.77777778,   6.95833333,   7.13888889,   7.31944444,\n",
       "          7.5       ,   7.68055556,   7.86111111,   8.04166667,\n",
       "          8.22222222,   8.40277778,   8.58333333,   8.76388889,\n",
       "          8.94444444,   9.125     ,   9.30555556,   9.48611111,\n",
       "          9.66666667,   9.84722222,  10.02777778,  10.20833333,\n",
       "         10.38888889,  10.56944444,  10.75      ,  10.93055556,\n",
       "         11.11111111,  11.29166667,  11.47222222,  11.65277778,\n",
       "         11.83333333,  12.01388889,  12.19444444,  12.375     ,\n",
       "         12.55555556,  12.73611111,  12.91666667,  13.09722222,\n",
       "         13.27777778,  13.45833333,  13.63888889,  13.81944444,\n",
       "         14.        ,  14.18055556,  14.36111111,  14.54166667,\n",
       "         14.72222222,  14.90277778,  15.08333333,  15.26388889,\n",
       "         15.44444444,  15.625     ,  15.80555556,  15.98611111,\n",
       "         16.16666667,  16.34722222,  16.52777778,  16.70833333,\n",
       "         16.88888889,  17.06944444,  17.25      ,  17.43055556,\n",
       "         17.61111111,  17.79166667,  17.97222222,  18.15277778,\n",
       "         18.33333333,  18.51388889,  18.69444444,  18.875     ,\n",
       "         19.05555556,  19.23611111,  19.41666667,  19.59722222,\n",
       "         19.77777778,  19.95833333,  20.13888889,  20.31944444,\n",
       "         20.5       ,  20.68055556,  20.86111111,  21.04166667,\n",
       "         21.22222222,  21.40277778,  21.58333333,  21.76388889,\n",
       "         21.94444444,  22.125     ,  22.30555556,  22.48611111,\n",
       "         22.66666667,  22.84722222,  23.02777778,  23.20833333,\n",
       "         23.38888889,  23.56944444,  23.75      ,  23.93055556,\n",
       "         24.11111111,  24.29166667,  24.47222222,  24.65277778,\n",
       "         24.83333333,  25.01388889,  25.19444444,  25.375     ,\n",
       "         25.55555556,  25.73611111,  25.91666667,  26.09722222,\n",
       "         26.27777778,  26.45833333,  26.63888889,  26.81944444,\n",
       "         27.        ,  27.18055556,  27.36111111,  27.54166667,\n",
       "         27.72222222,  27.90277778,  28.08333333,  28.26388889,\n",
       "         28.44444444,  28.625     ,  28.80555556,  28.98611111,\n",
       "         29.16666667,  29.34722222,  29.52777778,  29.70833333,\n",
       "         29.88888889,  30.06944444,  30.25      ,  30.43055556,\n",
       "         30.61111111,  30.79166667,  30.97222222,  31.15277778,\n",
       "         31.33333333,  31.51388889,  31.69444444,  31.875     ,\n",
       "         32.05555556,  32.23611111,  32.41666667,  32.59722222,\n",
       "         32.77777778,  32.95833333,  33.13888889,  33.31944444,\n",
       "         33.5       ,  33.68055556,  33.86111111,  34.04166667,\n",
       "         34.22222222,  34.40277778,  34.58333333,  34.76388889,\n",
       "         34.94444444,  35.125     ,  35.30555556,  35.48611111,\n",
       "         35.66666667,  35.84722222,  36.02777778,  36.20833333,\n",
       "         36.38888889,  36.56944444,  36.75      ,  36.93055556,\n",
       "         37.11111111,  37.29166667,  37.47222222,  37.65277778,\n",
       "         37.83333333,  38.01388889,  38.19444444,  38.375     ,\n",
       "         38.55555556,  38.73611111,  38.91666667,  39.09722222,\n",
       "         39.27777778,  39.45833333,  39.63888889,  39.81944444,\n",
       "         40.        ,  40.18055556,  40.36111111,  40.54166667,\n",
       "         40.72222222,  40.90277778,  41.08333333,  41.26388889,\n",
       "         41.44444444,  41.625     ,  41.80555556,  41.98611111,\n",
       "         42.16666667,  42.34722222,  42.52777778,  42.70833333,\n",
       "         42.88888889,  43.06944444,  43.25      ,  43.43055556,\n",
       "         43.61111111,  43.79166667,  43.97222222,  44.15277778,\n",
       "         44.33333333,  44.51388889,  44.69444444,  44.875     ,\n",
       "         45.05555556,  45.23611111,  45.41666667,  45.59722222,\n",
       "         45.77777778,  45.95833333,  46.13888889,  46.31944444,\n",
       "         46.5       ,  46.68055556,  46.86111111,  47.04166667,\n",
       "         47.22222222,  47.40277778,  47.58333333,  47.76388889,\n",
       "         47.94444444,  48.125     ,  48.30555556,  48.48611111,\n",
       "         48.66666667,  48.84722222,  49.02777778,  49.20833333,\n",
       "         49.38888889,  49.56944444,  49.75      ,  49.93055556,\n",
       "         50.11111111,  50.29166667,  50.47222222,  50.65277778,\n",
       "         50.83333333,  51.01388889,  51.19444444,  51.375     ,\n",
       "         51.55555556,  51.73611111,  51.91666667,  52.09722222,\n",
       "         52.27777778,  52.45833333,  52.63888889,  52.81944444,  53.        ]),\n",
       " <a list of 288 Patch objects>)"
      ]
     },
     "execution_count": 13,
     "metadata": {},
     "output_type": "execute_result"
    },
    {
     "data": {
      "image/png": "[encoded data removed]",
      "text/plain": [
       "<matplotlib.figure.Figure at 0x9d31070>"
      ]
     },
     "metadata": {},
     "output_type": "display_data"
    }
   ],
   "source": [
    "x = [1,1,1,1,1,1,1,1,1,1,1,1,1,1,1,1,1,1,1,1,1,1,1,1,2,2,2,2,2,2,2,2,3,3,3,3,3,3,3,3,4,4,4,4,4,4,4,4,5,6,7,8,9,9,9,9,9,9,9,9,9,9,9,9,9,9,9,9,9,9,9,13,14,24,24,24,24,34,34,34,34,34,34,34,34,34,34,41,42,43,44,45,46,47,48,49,50,51,52,53]\n",
    "plt.hist(x, bins=288) "
   ]
  },
  {
   "cell_type": "code",
   "execution_count": null,
   "metadata": {
    "collapsed": true
   },
   "outputs": [],
   "source": []
  }
 ],
 "metadata": {
  "kernelspec": {
   "display_name": "Python 3",
   "language": "python",
   "name": "python3"
  },
  "language_info": {
   "codemirror_mode": {
    "name": "ipython",
    "version": 3
   },
   "file_extension": ".py",
   "mimetype": "text/x-python",
   "name": "python",
   "nbconvert_exporter": "python",
   "pygments_lexer": "ipython3",
   "version": "3.5.1"
  }
 },
 "nbformat": 4,
 "nbformat_minor": 0
}

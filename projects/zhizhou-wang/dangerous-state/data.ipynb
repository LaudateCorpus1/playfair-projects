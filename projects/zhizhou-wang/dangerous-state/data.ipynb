{
 "cells": [
  {
   "cell_type": "markdown",
   "metadata": {},
   "source": [
    "## Import tools"
   ]
  },
  {
   "cell_type": "code",
   "execution_count": 1,
   "metadata": {
    "collapsed": false
   },
   "outputs": [
    {
     "name": "stderr",
     "output_type": "stream",
     "text": [
      "/usr/local/lib/python3.5/site-packages/matplotlib/__init__.py:1035: UserWarning: Duplicate key in file \"/Users/zhizhou/.matplotlib/matplotlibrc\", line #2\n",
      "  (fname, cnt))\n",
      "/usr/local/lib/python3.5/site-packages/matplotlib/__init__.py:1035: UserWarning: Duplicate key in file \"/Users/zhizhou/.matplotlib/matplotlibrc\", line #3\n",
      "  (fname, cnt))\n"
     ]
    }
   ],
   "source": [
    "import pandas as pd\n",
    "import matplotlib.pyplot as plt\n",
    "\n",
    "# plt.style.use('ggplot')\n",
    "plt.style.use('default')\n",
    "import dateutil.parser\n",
    "from datetime import datetime\n",
    "import matplotlib\n",
    "matplotlib.rcParams['pdf.fonttype'] = 42\n",
    "%matplotlib inline"
   ]
  },
  {
   "cell_type": "markdown",
   "metadata": {},
   "source": [
    "## import data"
   ]
  },
  {
   "cell_type": "code",
   "execution_count": 3,
   "metadata": {
    "collapsed": false
   },
   "outputs": [
    {
     "name": "stdout",
     "output_type": "stream",
     "text": [
      "<class 'pandas.core.frame.DataFrame'>\n",
      "RangeIndex: 1067 entries, 0 to 1066\n",
      "Data columns (total 6 columns):\n",
      "Incident Date     1067 non-null object\n",
      "state             1067 non-null object\n",
      "city or county    1067 non-null object\n",
      "address           1048 non-null object\n",
      "killed            1067 non-null int64\n",
      "injured           1067 non-null int64\n",
      "dtypes: int64(2), object(4)\n",
      "memory usage: 50.1+ KB\n"
     ]
    }
   ],
   "source": [
    "ms = pd.read_csv(\"massshooting.csv\")\n",
    "ms.info()"
   ]
  },
  {
   "cell_type": "code",
   "execution_count": 7,
   "metadata": {
    "collapsed": true
   },
   "outputs": [],
   "source": [
    "state = pd.read_csv('state.csv')\n",
    "pop_s = pd.read_csv('populationbystate.csv')"
   ]
  },
  {
   "cell_type": "code",
   "execution_count": 8,
   "metadata": {
    "collapsed": true
   },
   "outputs": [],
   "source": [
    "state_by_pop = pd.merge(left=state,right=pop_s, left_on='state', right_on='Geographic Area')"
   ]
  },
  {
   "cell_type": "markdown",
   "metadata": {},
   "source": [
    "## clean data"
   ]
  },
  {
   "cell_type": "code",
   "execution_count": 6,
   "metadata": {
    "collapsed": false
   },
   "outputs": [
    {
     "data": {
      "text/html": [
       "<div>\n",
       "<table border=\"1\" class=\"dataframe\">\n",
       "  <thead>\n",
       "    <tr style=\"text-align: right;\">\n",
       "      <th></th>\n",
       "      <th>Incident Date</th>\n",
       "      <th>state</th>\n",
       "      <th>city or county</th>\n",
       "      <th>address</th>\n",
       "      <th>killed</th>\n",
       "      <th>injured</th>\n",
       "      <th>date</th>\n",
       "    </tr>\n",
       "    <tr>\n",
       "      <th>date</th>\n",
       "      <th></th>\n",
       "      <th></th>\n",
       "      <th></th>\n",
       "      <th></th>\n",
       "      <th></th>\n",
       "      <th></th>\n",
       "      <th></th>\n",
       "    </tr>\n",
       "  </thead>\n",
       "  <tbody>\n",
       "    <tr>\n",
       "      <th>2016-07-24</th>\n",
       "      <td>24-Jul-16</td>\n",
       "      <td>Ohio</td>\n",
       "      <td>Hamilton</td>\n",
       "      <td>1555 Main St</td>\n",
       "      <td>1</td>\n",
       "      <td>7</td>\n",
       "      <td>2016-07-24</td>\n",
       "    </tr>\n",
       "    <tr>\n",
       "      <th>2016-07-24</th>\n",
       "      <td>24-Jul-16</td>\n",
       "      <td>Florida</td>\n",
       "      <td>Fort Myers</td>\n",
       "      <td>3580 Evans Ave</td>\n",
       "      <td>2</td>\n",
       "      <td>16</td>\n",
       "      <td>2016-07-24</td>\n",
       "    </tr>\n",
       "  </tbody>\n",
       "</table>\n",
       "</div>"
      ],
      "text/plain": [
       "           Incident Date    state city or county         address  killed  \\\n",
       "date                                                                       \n",
       "2016-07-24     24-Jul-16     Ohio       Hamilton    1555 Main St       1   \n",
       "2016-07-24     24-Jul-16  Florida     Fort Myers  3580 Evans Ave       2   \n",
       "\n",
       "            injured       date  \n",
       "date                            \n",
       "2016-07-24        7 2016-07-24  \n",
       "2016-07-24       16 2016-07-24  "
      ]
     },
     "execution_count": 6,
     "metadata": {},
     "output_type": "execute_result"
    }
   ],
   "source": [
    "def get_date(str_date):\n",
    "    return datetime.strptime(str_date,'%d-%b-%y')\n",
    "ms['date'] = ms['Incident Date'].apply(get_date)\n",
    "ms.index=ms['date']\n",
    "ms.head(2)"
   ]
  },
  {
   "cell_type": "code",
   "execution_count": 9,
   "metadata": {
    "collapsed": false
   },
   "outputs": [
    {
     "data": {
      "text/plain": [
       "0      4663111\n",
       "1       732544\n",
       "2      7495238\n",
       "3      2968913\n",
       "4     40123232\n",
       "5      5049493\n",
       "6      3635414\n",
       "7       927400\n",
       "8       506323\n",
       "9     21204132\n",
       "10    10230578\n",
       "11    13097218\n",
       "12     6517631\n",
       "13     3026380\n",
       "14     2852690\n",
       "15     4351188\n",
       "16     4673721\n",
       "17     1388878\n",
       "18     6208392\n",
       "19     6758580\n",
       "20    10599122\n",
       "21     5668211\n",
       "22     3014409\n",
       "23     6069556\n",
       "24      999489\n",
       "25     1788508\n",
       "26     3058190\n",
       "27     9255769\n",
       "28     2041539\n",
       "29    19546699\n",
       "30    10010770\n",
       "31    11635446\n",
       "32     3661694\n",
       "33     4012924\n",
       "34    12710938\n",
       "35     1139543\n",
       "36     4642137\n",
       "37      796954\n",
       "38     6502017\n",
       "39    26585801\n",
       "40     2783040\n",
       "41      673169\n",
       "42     8466864\n",
       "43     6950610\n",
       "44     1822758\n",
       "45     5882760\n",
       "Name: population2015, dtype: int64"
      ]
     },
     "execution_count": 9,
     "metadata": {},
     "output_type": "execute_result"
    }
   ],
   "source": [
    "state_by_pop.columns=['state','killed','injured','sum','geo','population2015']\n",
    "def to_int(x):\n",
    "    return int(x.replace(\",\",\"\"))\n",
    "state_by_pop['population2015'].apply(to_int)"
   ]
  },
  {
   "cell_type": "code",
   "execution_count": 10,
   "metadata": {
    "collapsed": true
   },
   "outputs": [],
   "source": [
    "state_by_pop['population']=state_by_pop['population2015'].apply(to_int)"
   ]
  },
  {
   "cell_type": "markdown",
   "metadata": {},
   "source": [
    "## graphic"
   ]
  },
  {
   "cell_type": "code",
   "execution_count": 11,
   "metadata": {
    "collapsed": false
   },
   "outputs": [
    {
     "data": {
      "text/plain": [
       "<matplotlib.axes._subplots.AxesSubplot at 0x1051e26a0>"
      ]
     },
     "execution_count": 11,
     "metadata": {},
     "output_type": "execute_result"
    },
    {
     "data": {
      "image/png": "[encoded data removed]",
      "text/plain": [
       "<matplotlib.figure.Figure at 0x106dff518>"
      ]
     },
     "metadata": {},
     "output_type": "display_data"
    }
   ],
   "source": [
    "state_by_pop.plot(kind='scatter',x='population',y='sum',linewidth=0,figsize=[10,10])\n",
    "# plt.savefig('scatter2.pdf',transparent=True)"
   ]
  },
  {
   "cell_type": "code",
   "execution_count": null,
   "metadata": {
    "collapsed": true
   },
   "outputs": [],
   "source": []
  }
 ],
 "metadata": {
  "kernelspec": {
   "display_name": "Python 3",
   "language": "python",
   "name": "python3"
  },
  "language_info": {
   "codemirror_mode": {
    "name": "ipython",
    "version": 3
   },
   "file_extension": ".py",
   "mimetype": "text/x-python",
   "name": "python",
   "nbconvert_exporter": "python",
   "pygments_lexer": "ipython3",
   "version": "3.5.1"
  }
 },
 "nbformat": 4,
 "nbformat_minor": 0
}
